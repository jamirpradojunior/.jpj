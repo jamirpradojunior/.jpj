{
 "cells": [
  {
   "cell_type": "code",
   "execution_count": null,
   "id": "ea9b22ba-ef64-493e-8b97-a5c8ae022d79",
   "metadata": {},
   "outputs": [
    {
     "name": "stdout",
     "output_type": "stream",
     "text": [
      "Requirement already satisfied: yfinance in c:\\users\\jamir\\anaconda3\\lib\\site-packages (0.1.63)\n",
      "Requirement already satisfied: pandas>=0.24 in c:\\users\\jamir\\anaconda3\\lib\\site-packages (from yfinance) (1.2.4)\n",
      "Requirement already satisfied: multitasking>=0.0.7 in c:\\users\\jamir\\anaconda3\\lib\\site-packages (from yfinance) (0.0.9)\n",
      "Requirement already satisfied: requests>=2.20 in c:\\users\\jamir\\anaconda3\\lib\\site-packages (from yfinance) (2.25.1)\n",
      "Requirement already satisfied: numpy>=1.15 in c:\\users\\jamir\\anaconda3\\lib\\site-packages (from yfinance) (1.20.1)\n",
      "Requirement already satisfied: lxml>=4.5.1 in c:\\users\\jamir\\anaconda3\\lib\\site-packages (from yfinance) (4.6.3)\n",
      "Requirement already satisfied: python-dateutil>=2.7.3 in c:\\users\\jamir\\anaconda3\\lib\\site-packages (from pandas>=0.24->yfinance) (2.8.1)\n",
      "Requirement already satisfied: pytz>=2017.3 in c:\\users\\jamir\\anaconda3\\lib\\site-packages (from pandas>=0.24->yfinance) (2021.1)\n",
      "Requirement already satisfied: six>=1.5 in c:\\users\\jamir\\anaconda3\\lib\\site-packages (from python-dateutil>=2.7.3->pandas>=0.24->yfinance) (1.15.0)\n",
      "Requirement already satisfied: urllib3<1.27,>=1.21.1 in c:\\users\\jamir\\anaconda3\\lib\\site-packages (from requests>=2.20->yfinance) (1.26.4)\n",
      "Requirement already satisfied: certifi>=2017.4.17 in c:\\users\\jamir\\anaconda3\\lib\\site-packages (from requests>=2.20->yfinance) (2021.10.8)\n",
      "Requirement already satisfied: idna<3,>=2.5 in c:\\users\\jamir\\anaconda3\\lib\\site-packages (from requests>=2.20->yfinance) (2.10)\n",
      "Requirement already satisfied: chardet<5,>=3.0.2 in c:\\users\\jamir\\anaconda3\\lib\\site-packages (from requests>=2.20->yfinance) (4.0.0)\n",
      "\n",
      "\n",
      "\n",
      "[*********************100%***********************]  1 of 1 completed\n",
      "Olá, eu sou o robô da Trading com Dados!\n",
      "Vamos testar se você está atualizado sobre as cotações de ativos da B3.\n",
      "\n",
      "Qual é o preço atual (desconsidere os centavos) de uma ação de PETR4? Digite \"0\" para sair\n"
     ]
    },
    {
     "name": "stdin",
     "output_type": "stream",
     "text": [
      "Cotação atual é (R$):  10\n"
     ]
    },
    {
     "name": "stdout",
     "output_type": "stream",
     "text": [
      "Vejo que está bem por fora. Melhor estudar mais sobre esse ativo\n"
     ]
    }
   ],
   "source": [
    "!pip install yfinance\n",
    "import yfinance as yf\n",
    "print('')\n",
    "print('')\n",
    "print('')\n",
    "cotacao = yf.download('PETR4.SA', start='2021-01-01', period = \"1d\")['Close']\n",
    "cotacao_round=round(cotacao[-1])\n",
    "\n",
    "print('Olá, eu sou o robô da Trading com Dados!')\n",
    "print('Vamos testar se você está atualizado sobre as cotações de ativos da B3.')\n",
    "print('')\n",
    "print('Qual é o preço atual (desconsidere os centavos) de uma ação de PETR4? Digite \"0\" para sair')\n",
    "\n",
    "acertou = False\n",
    "tentativa = 0\n",
    "\n",
    "while not acertou:\n",
    "  jogador = int(input('Cotação atual é (R$): '))\n",
    "  tentativa += 1\n",
    "  if jogador == 0:\n",
    "    acertou = True\n",
    "    print('Tudo bem. O mercado financeiro não é para amadores!')\n",
    "  elif jogador == cotacao_round:\n",
    "    acertou = True\n",
    "    print('Parabéns! Você acertou em {} tentativa(s)'.format(tentativa))\n",
    "  elif (jogador > cotacao_round) and (jogador < (cotacao_round*2)):\n",
    "    print('Está um pouco mais barato. Tente novamente')\n",
    "  elif (jogador < cotacao_round) and (jogador > (cotacao_round//2)):\n",
    "    print('Está um pouco mais caro. Tente novamente')\n",
    "  else:\n",
    "    print('Vejo que está bem por fora. Melhor estudar mais sobre esse ativo')"
   ]
  }
 ],
 "metadata": {
  "kernelspec": {
   "display_name": "Python 3",
   "language": "python",
   "name": "python3"
  },
  "language_info": {
   "codemirror_mode": {
    "name": "ipython",
    "version": 3
   },
   "file_extension": ".py",
   "mimetype": "text/x-python",
   "name": "python",
   "nbconvert_exporter": "python",
   "pygments_lexer": "ipython3",
   "version": "3.8.8"
  }
 },
 "nbformat": 4,
 "nbformat_minor": 5
}
