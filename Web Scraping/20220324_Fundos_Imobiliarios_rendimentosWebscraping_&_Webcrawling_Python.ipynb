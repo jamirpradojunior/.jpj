{
 "cells": [
  {
   "cell_type": "markdown",
   "id": "2c4dbd0c-8e39-4be0-8dc7-85f26d8d6236",
   "metadata": {},
   "source": [
    "### TEORIA DE FIIs <u>COPIADO</u> DE:\n",
    "https://dmenezesgabriel.github.io/python/selecao-fundos-imobiliarios-python/"
   ]
  },
  {
   "cell_type": "markdown",
   "id": "828092b0-2402-4547-8aa6-99c8228bb3f0",
   "metadata": {},
   "source": [
    "Os Fundos de investimento imobiliário (FIIs) são fundos constituídos por grupos de investidores com o objetivo de aplicar recursos em diversos tipos de investimentos imobiliários como shoppings centers, lages corporativas, galpões logísticos, ou até empreendimentos ainda em desenvolvimento. Ou seja, nada mais é do que investir no mercado imobiliário sem ter que comprar um imóvel."
   ]
  },
  {
   "cell_type": "markdown",
   "id": "4153041e-88b2-4d54-a961-a91a6e4459ce",
   "metadata": {},
   "source": [
    "Seus investidores recebem retorno via dividendos ou na valorização de cotas. Os dividendos recebidos, também conhecidos como aluguéis, são distribuídos mensalmente e isêntos de imposto de renda."
   ]
  },
  {
   "cell_type": "markdown",
   "id": "121fb5ae-fd2c-4ead-b82b-38ff08dcc46f",
   "metadata": {},
   "source": [
    "Alguns de seus benefícios são:\n",
    "\n",
    "Não há incidência de imposto sobre proventos, diferente do aluguél comum.\n",
    "Não há custo com reformas.\n",
    "Não há necessidade de lidar com inquilinos.\n",
    "Mais acessível, por dispensar um alto investimento inicial.\n",
    "Menos burocrático.\n",
    "Alta liquidez devido à agilidade e à praticidade de vender os ativos quando necessário.\n",
    "Baixa exposição de capital devido à diversificação."
   ]
  },
  {
   "cell_type": "markdown",
   "id": "9ab62c3d-35d6-4f0a-b830-b1dd7f692a17",
   "metadata": {},
   "source": [
    "Fundos de renda: São aqueles constituídos por imóveis comprados, ou construídos com fins de aluguel. A renda líquida é distribuída para os cotistas. Seus contratos tendem a ser mais longos conferindo maior segurança.\n",
    "Fundos de compra e venda: Tem por objetivo comprar imóveis a um valor mais baixo, que possuam expectativa de valorização e vende-lôs realizando lucro.\n",
    "Fundos de desenvolvimento: Consistem na compra de terrenos para construção de empreendimentos para venda ou aluguél, as vezes com o objetivo de ganho na valorização dos imóveis. Os riscos podem surgir do embargo nas obras ou do próprio gerenciamento da construção, de imprevistos com o orçamento, problemas com licenças ambientais ou atrasos na entrega.\n",
    "Fundos de recebíveis imobiliários: Também conhecidos como fundos de papéis, tem como principais representantes em seu portfolio de ativos os Certificados de Recebíveis Imobiliários (“CRI”), Letras Hipotecárias (“LH”) e Letras de Crédito Imobiliário (“LCI”).\n",
    "Fundos de fundos: São similares a fundos de ações. Este tipo de fundo conta com maior taxa administrativa devido as taxas dos fundos em que este tipo de fundo tem participação, fora a sua própria, contudo possui maior diversificação.\n",
    "Fundos de tijolo: Apresentam os imóveis físicos, essa aplicação tem como objetivo adquirir as propriedades para alugar, considerando o potencial de valorização ao longo do tempo."
   ]
  },
  {
   "cell_type": "markdown",
   "id": "f2934de3-58e2-4b01-9684-6dc09fc99a28",
   "metadata": {},
   "source": [
    "Setores de fundos de investimento imobiliáriosPermalink\n",
    "\n",
    "Shoppings<p>\n",
    "Titulos e valores imobiliários\n",
    "Ex: (CRI (Certificado de Recebíveis Imobiliários). LCI (Letras de Crédito Imobiliário). Letras Hipotecárias (LH).)<p>\n",
    "Lajes Corporativas <p>\n",
    "    Hibrído\n",
    "    ResidêncialPermalink\n",
    "    Hotel\n",
    "    HospitalPermalink\n",
    "    Logística"
   ]
  },
  {
   "cell_type": "code",
   "execution_count": null,
   "id": "5989c7a2-6938-422f-bf91-43c8d3b4700e",
   "metadata": {},
   "outputs": [],
   "source": [
    "FIVN11"
   ]
  },
  {
   "cell_type": "code",
   "execution_count": 5,
   "id": "20e51658-5e78-4eaf-89f5-9043ba262c40",
   "metadata": {},
   "outputs": [
    {
     "name": "stdout",
     "output_type": "stream",
     "text": [
      "Requirement already satisfied: yfinance in c:\\users\\jamir\\anaconda3\\lib\\site-packages (0.1.70)\n",
      "Requirement already satisfied: numpy>=1.15 in c:\\users\\jamir\\anaconda3\\lib\\site-packages (from yfinance) (1.22.3)\n",
      "Requirement already satisfied: multitasking>=0.0.7 in c:\\users\\jamir\\anaconda3\\lib\\site-packages (from yfinance) (0.0.10)\n",
      "Requirement already satisfied: pandas>=0.24.0 in c:\\users\\jamir\\anaconda3\\lib\\site-packages (from yfinance) (1.3.4)\n",
      "Requirement already satisfied: lxml>=4.5.1 in c:\\users\\jamir\\anaconda3\\lib\\site-packages (from yfinance) (4.6.3)\n",
      "Requirement already satisfied: requests>=2.26 in c:\\users\\jamir\\anaconda3\\lib\\site-packages (from yfinance) (2.26.0)\n",
      "Requirement already satisfied: python-dateutil>=2.7.3 in c:\\users\\jamir\\appdata\\roaming\\python\\python39\\site-packages (from pandas>=0.24.0->yfinance) (2.8.2)\n",
      "Requirement already satisfied: pytz>=2017.3 in c:\\users\\jamir\\anaconda3\\lib\\site-packages (from pandas>=0.24.0->yfinance) (2021.3)\n",
      "Requirement already satisfied: six>=1.5 in c:\\users\\jamir\\appdata\\roaming\\python\\python39\\site-packages (from python-dateutil>=2.7.3->pandas>=0.24.0->yfinance) (1.16.0)\n",
      "Requirement already satisfied: charset-normalizer~=2.0.0 in c:\\users\\jamir\\anaconda3\\lib\\site-packages (from requests>=2.26->yfinance) (2.0.4)\n",
      "Requirement already satisfied: urllib3<1.27,>=1.21.1 in c:\\users\\jamir\\anaconda3\\lib\\site-packages (from requests>=2.26->yfinance) (1.26.7)\n",
      "Requirement already satisfied: certifi>=2017.4.17 in c:\\users\\jamir\\anaconda3\\lib\\site-packages (from requests>=2.26->yfinance) (2021.10.8)\n",
      "Requirement already satisfied: idna<4,>=2.5 in c:\\users\\jamir\\anaconda3\\lib\\site-packages (from requests>=2.26->yfinance) (3.2)\n"
     ]
    }
   ],
   "source": [
    "!pip install yfinance"
   ]
  },
  {
   "cell_type": "code",
   "execution_count": 7,
   "id": "4269c3bc-fc03-400b-995c-4c9bdf6783ed",
   "metadata": {},
   "outputs": [],
   "source": [
    "import yfinance as yf"
   ]
  },
  {
   "cell_type": "code",
   "execution_count": 14,
   "id": "c675c093-be9e-45b4-8403-615c0847efaf",
   "metadata": {},
   "outputs": [],
   "source": [
    "data_FIVN11 = yf.Ticker(\"RBGS11.SA\")"
   ]
  },
  {
   "cell_type": "code",
   "execution_count": 32,
   "id": "5f1aaf67-cfbc-40fd-9011-4ed193db2b2c",
   "metadata": {},
   "outputs": [],
   "source": [
    "list_keys = list(data_FIVN11.info.keys())"
   ]
  },
  {
   "cell_type": "code",
   "execution_count": 36,
   "id": "fd90c705-6919-4eeb-bd64-81204e35c613",
   "metadata": {},
   "outputs": [
    {
     "data": {
      "text/plain": [
       "['52WeekChange',\n",
       " 'SandP52WeekChange',\n",
       " 'address1',\n",
       " 'address2',\n",
       " 'algorithm',\n",
       " 'annualHoldingsTurnover',\n",
       " 'annualReportExpenseRatio',\n",
       " 'ask',\n",
       " 'askSize',\n",
       " 'averageDailyVolume10Day',\n",
       " 'averageVolume',\n",
       " 'averageVolume10days',\n",
       " 'beta',\n",
       " 'beta3Year',\n",
       " 'bid',\n",
       " 'bidSize',\n",
       " 'bookValue',\n",
       " 'category',\n",
       " 'circulatingSupply',\n",
       " 'city',\n",
       " 'companyOfficers',\n",
       " 'country',\n",
       " 'currency',\n",
       " 'currentPrice',\n",
       " 'currentRatio',\n",
       " 'dateShortInterest',\n",
       " 'dayHigh',\n",
       " 'dayLow',\n",
       " 'debtToEquity',\n",
       " 'dividendRate',\n",
       " 'dividendYield',\n",
       " 'earningsGrowth',\n",
       " 'earningsQuarterlyGrowth',\n",
       " 'ebitda',\n",
       " 'ebitdaMargins',\n",
       " 'enterpriseToEbitda',\n",
       " 'enterpriseToRevenue',\n",
       " 'enterpriseValue',\n",
       " 'exDividendDate',\n",
       " 'exchange',\n",
       " 'exchangeTimezoneName',\n",
       " 'exchangeTimezoneShortName',\n",
       " 'expireDate',\n",
       " 'fax',\n",
       " 'fiftyDayAverage',\n",
       " 'fiftyTwoWeekHigh',\n",
       " 'fiftyTwoWeekLow',\n",
       " 'financialCurrency',\n",
       " 'fiveYearAverageReturn',\n",
       " 'fiveYearAvgDividendYield',\n",
       " 'floatShares',\n",
       " 'forwardEps',\n",
       " 'forwardPE',\n",
       " 'freeCashflow',\n",
       " 'fromCurrency',\n",
       " 'fundFamily',\n",
       " 'fundInceptionDate',\n",
       " 'gmtOffSetMilliseconds',\n",
       " 'grossMargins',\n",
       " 'grossProfits',\n",
       " 'heldPercentInsiders',\n",
       " 'heldPercentInstitutions',\n",
       " 'impliedSharesOutstanding',\n",
       " 'industry',\n",
       " 'isEsgPopulated',\n",
       " 'lastCapGain',\n",
       " 'lastDividendDate',\n",
       " 'lastDividendValue',\n",
       " 'lastFiscalYearEnd',\n",
       " 'lastMarket',\n",
       " 'lastSplitDate',\n",
       " 'lastSplitFactor',\n",
       " 'legalType',\n",
       " 'logo_url',\n",
       " 'longName',\n",
       " 'market',\n",
       " 'marketCap',\n",
       " 'maxAge',\n",
       " 'maxSupply',\n",
       " 'messageBoardId',\n",
       " 'morningStarOverallRating',\n",
       " 'morningStarRiskRating',\n",
       " 'mostRecentQuarter',\n",
       " 'navPrice',\n",
       " 'netIncomeToCommon',\n",
       " 'nextFiscalYearEnd',\n",
       " 'numberOfAnalystOpinions',\n",
       " 'open',\n",
       " 'openInterest',\n",
       " 'operatingCashflow',\n",
       " 'operatingMargins',\n",
       " 'payoutRatio',\n",
       " 'pegRatio',\n",
       " 'phone',\n",
       " 'preMarketPrice',\n",
       " 'previousClose',\n",
       " 'priceHint',\n",
       " 'priceToBook',\n",
       " 'priceToSalesTrailing12Months',\n",
       " 'profitMargins',\n",
       " 'quickRatio',\n",
       " 'quoteType',\n",
       " 'recommendationKey',\n",
       " 'recommendationMean',\n",
       " 'regularMarketDayHigh',\n",
       " 'regularMarketDayLow',\n",
       " 'regularMarketOpen',\n",
       " 'regularMarketPreviousClose',\n",
       " 'regularMarketPrice',\n",
       " 'regularMarketVolume',\n",
       " 'returnOnAssets',\n",
       " 'returnOnEquity',\n",
       " 'revenueGrowth',\n",
       " 'revenuePerShare',\n",
       " 'revenueQuarterlyGrowth',\n",
       " 'sector',\n",
       " 'sharesOutstanding',\n",
       " 'sharesPercentSharesOut',\n",
       " 'sharesShort',\n",
       " 'sharesShortPreviousMonthDate',\n",
       " 'sharesShortPriorMonth',\n",
       " 'shortName',\n",
       " 'shortPercentOfFloat',\n",
       " 'shortRatio',\n",
       " 'startDate',\n",
       " 'state',\n",
       " 'strikePrice',\n",
       " 'symbol',\n",
       " 'targetHighPrice',\n",
       " 'targetLowPrice',\n",
       " 'targetMeanPrice',\n",
       " 'targetMedianPrice',\n",
       " 'threeYearAverageReturn',\n",
       " 'toCurrency',\n",
       " 'totalAssets',\n",
       " 'totalCash',\n",
       " 'totalCashPerShare',\n",
       " 'totalDebt',\n",
       " 'totalRevenue',\n",
       " 'tradeable',\n",
       " 'trailingAnnualDividendRate',\n",
       " 'trailingAnnualDividendYield',\n",
       " 'trailingEps',\n",
       " 'twoHundredDayAverage',\n",
       " 'volume',\n",
       " 'volume24Hr',\n",
       " 'volumeAllCurrencies',\n",
       " 'yield',\n",
       " 'ytdReturn',\n",
       " 'zip']"
      ]
     },
     "execution_count": 36,
     "metadata": {},
     "output_type": "execute_result"
    }
   ],
   "source": [
    "list_keys.sort()\n",
    "list_keys"
   ]
  },
  {
   "cell_type": "code",
   "execution_count": 40,
   "id": "b6c6605e-0490-4624-b009-f056b748544c",
   "metadata": {},
   "outputs": [
    {
     "ename": "SyntaxError",
     "evalue": "invalid syntax (1945563534.py, line 1)",
     "output_type": "error",
     "traceback": [
      "\u001b[1;36m  Input \u001b[1;32mIn [40]\u001b[1;36m\u001b[0m\n\u001b[1;33m    data_FIVN11{\"volume\"}\u001b[0m\n\u001b[1;37m               ^\u001b[0m\n\u001b[1;31mSyntaxError\u001b[0m\u001b[1;31m:\u001b[0m invalid syntax\n"
     ]
    }
   ],
   "source": [
    "data_FIVN11{\"volume\"}"
   ]
  }
 ],
 "metadata": {
  "kernelspec": {
   "display_name": "Python 3 (ipykernel)",
   "language": "python",
   "name": "python3"
  },
  "language_info": {
   "codemirror_mode": {
    "name": "ipython",
    "version": 3
   },
   "file_extension": ".py",
   "mimetype": "text/x-python",
   "name": "python",
   "nbconvert_exporter": "python",
   "pygments_lexer": "ipython3",
   "version": "3.9.7"
  }
 },
 "nbformat": 4,
 "nbformat_minor": 5
}
