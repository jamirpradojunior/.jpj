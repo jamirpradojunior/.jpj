{
 "cells": [
  {
   "cell_type": "markdown",
   "id": "d424c54a",
   "metadata": {},
   "source": [
    "<img src=\"https://tradingcomdados.com/images/logotipo/logotipo-trading-com-dados.svg\" width=\"300\" align=\"left\"/>"
   ]
  },
  {
   "cell_type": "markdown",
   "id": "41091996",
   "metadata": {},
   "source": [
    "---\n",
    "# **Weekly Report**\n",
    "---"
   ]
  },
  {
   "cell_type": "markdown",
   "id": "860a8e44",
   "metadata": {},
   "source": [
    "# **I) Bibliotecas utilizadas**"
   ]
  },
  {
   "cell_type": "code",
   "execution_count": 11,
   "id": "8f9ae771",
   "metadata": {},
   "outputs": [
    {
     "name": "stdout",
     "output_type": "stream",
     "text": [
      "Requirement already satisfied: investpy in c:\\users\\jamir\\anaconda3\\lib\\site-packages (1.0.8)\n",
      "Requirement already satisfied: numpy>=1.17.2 in c:\\users\\jamir\\anaconda3\\lib\\site-packages (from investpy) (1.22.3)\n",
      "Requirement already satisfied: requests>=2.22.0 in c:\\users\\jamir\\anaconda3\\lib\\site-packages (from investpy) (2.26.0)\n",
      "Requirement already satisfied: pandas>=0.25.1 in c:\\users\\jamir\\anaconda3\\lib\\site-packages (from investpy) (1.3.4)\n",
      "Requirement already satisfied: lxml>=4.4.1 in c:\\users\\jamir\\anaconda3\\lib\\site-packages (from investpy) (4.6.3)\n",
      "Requirement already satisfied: Unidecode>=1.1.1 in c:\\users\\jamir\\anaconda3\\lib\\site-packages (from investpy) (1.2.0)\n",
      "Requirement already satisfied: setuptools>=41.2.0 in c:\\users\\jamir\\appdata\\roaming\\python\\python39\\site-packages (from investpy) (60.5.0)\n",
      "Requirement already satisfied: pytz>=2019.3 in c:\\users\\jamir\\anaconda3\\lib\\site-packages (from investpy) (2021.3)\n",
      "Requirement already satisfied: python-dateutil>=2.7.3 in c:\\users\\jamir\\appdata\\roaming\\python\\python39\\site-packages (from pandas>=0.25.1->investpy) (2.8.2)\n",
      "Requirement already satisfied: charset-normalizer~=2.0.0 in c:\\users\\jamir\\anaconda3\\lib\\site-packages (from requests>=2.22.0->investpy) (2.0.4)\n",
      "Requirement already satisfied: certifi>=2017.4.17 in c:\\users\\jamir\\anaconda3\\lib\\site-packages (from requests>=2.22.0->investpy) (2021.10.8)\n",
      "Requirement already satisfied: idna<4,>=2.5 in c:\\users\\jamir\\anaconda3\\lib\\site-packages (from requests>=2.22.0->investpy) (3.2)\n",
      "Requirement already satisfied: urllib3<1.27,>=1.21.1 in c:\\users\\jamir\\anaconda3\\lib\\site-packages (from requests>=2.22.0->investpy) (1.26.7)\n",
      "Requirement already satisfied: six>=1.5 in c:\\users\\jamir\\appdata\\roaming\\python\\python39\\site-packages (from python-dateutil>=2.7.3->pandas>=0.25.1->investpy) (1.16.0)\n",
      "Requirement already satisfied: yfinance in c:\\users\\jamir\\anaconda3\\lib\\site-packages (0.1.70)\n",
      "Requirement already satisfied: lxml>=4.5.1 in c:\\users\\jamir\\anaconda3\\lib\\site-packages (from yfinance) (4.6.3)\n",
      "Requirement already satisfied: pandas>=0.24.0 in c:\\users\\jamir\\anaconda3\\lib\\site-packages (from yfinance) (1.3.4)\n",
      "Requirement already satisfied: multitasking>=0.0.7 in c:\\users\\jamir\\anaconda3\\lib\\site-packages (from yfinance) (0.0.10)\n",
      "Requirement already satisfied: numpy>=1.15 in c:\\users\\jamir\\anaconda3\\lib\\site-packages (from yfinance) (1.22.3)\n",
      "Requirement already satisfied: requests>=2.26 in c:\\users\\jamir\\anaconda3\\lib\\site-packages (from yfinance) (2.26.0)\n",
      "Requirement already satisfied: pytz>=2017.3 in c:\\users\\jamir\\anaconda3\\lib\\site-packages (from pandas>=0.24.0->yfinance) (2021.3)\n",
      "Requirement already satisfied: python-dateutil>=2.7.3 in c:\\users\\jamir\\appdata\\roaming\\python\\python39\\site-packages (from pandas>=0.24.0->yfinance) (2.8.2)\n",
      "Requirement already satisfied: urllib3<1.27,>=1.21.1 in c:\\users\\jamir\\anaconda3\\lib\\site-packages (from requests>=2.26->yfinance) (1.26.7)\n",
      "Requirement already satisfied: certifi>=2017.4.17 in c:\\users\\jamir\\anaconda3\\lib\\site-packages (from requests>=2.26->yfinance) (2021.10.8)\n",
      "Requirement already satisfied: idna<4,>=2.5 in c:\\users\\jamir\\anaconda3\\lib\\site-packages (from requests>=2.26->yfinance) (3.2)\n",
      "Requirement already satisfied: charset-normalizer~=2.0.0 in c:\\users\\jamir\\anaconda3\\lib\\site-packages (from requests>=2.26->yfinance) (2.0.4)\n",
      "Requirement already satisfied: six>=1.5 in c:\\users\\jamir\\appdata\\roaming\\python\\python39\\site-packages (from python-dateutil>=2.7.3->pandas>=0.24.0->yfinance) (1.16.0)\n",
      "Requirement already satisfied: python-binance in c:\\users\\jamir\\anaconda3\\lib\\site-packages (1.0.15)\n",
      "Requirement already satisfied: requests in c:\\users\\jamir\\anaconda3\\lib\\site-packages (from python-binance) (2.26.0)\n",
      "Requirement already satisfied: aiohttp in c:\\users\\jamir\\anaconda3\\lib\\site-packages (from python-binance) (3.8.1)\n",
      "Requirement already satisfied: dateparser in c:\\users\\jamir\\anaconda3\\lib\\site-packages (from python-binance) (1.1.1)\n",
      "Requirement already satisfied: ujson in c:\\users\\jamir\\anaconda3\\lib\\site-packages (from python-binance) (4.0.2)\n",
      "Requirement already satisfied: six in c:\\users\\jamir\\appdata\\roaming\\python\\python39\\site-packages (from python-binance) (1.16.0)\n",
      "Requirement already satisfied: websockets==9.1 in c:\\users\\jamir\\anaconda3\\lib\\site-packages (from python-binance) (9.1)\n",
      "Requirement already satisfied: charset-normalizer<3.0,>=2.0 in c:\\users\\jamir\\anaconda3\\lib\\site-packages (from aiohttp->python-binance) (2.0.4)\n",
      "Requirement already satisfied: multidict<7.0,>=4.5 in c:\\users\\jamir\\anaconda3\\lib\\site-packages (from aiohttp->python-binance) (6.0.2)\n",
      "Requirement already satisfied: attrs>=17.3.0 in c:\\users\\jamir\\anaconda3\\lib\\site-packages (from aiohttp->python-binance) (21.2.0)\n",
      "Requirement already satisfied: async-timeout<5.0,>=4.0.0a3 in c:\\users\\jamir\\anaconda3\\lib\\site-packages (from aiohttp->python-binance) (4.0.2)\n",
      "Requirement already satisfied: frozenlist>=1.1.1 in c:\\users\\jamir\\anaconda3\\lib\\site-packages (from aiohttp->python-binance) (1.3.0)\n",
      "Requirement already satisfied: aiosignal>=1.1.2 in c:\\users\\jamir\\anaconda3\\lib\\site-packages (from aiohttp->python-binance) (1.2.0)\n",
      "Requirement already satisfied: yarl<2.0,>=1.0 in c:\\users\\jamir\\anaconda3\\lib\\site-packages (from aiohttp->python-binance) (1.7.2)\n",
      "Requirement already satisfied: python-dateutil in c:\\users\\jamir\\appdata\\roaming\\python\\python39\\site-packages (from dateparser->python-binance) (2.8.2)\n",
      "Requirement already satisfied: regex!=2019.02.19,!=2021.8.27,<2022.3.15 in c:\\users\\jamir\\anaconda3\\lib\\site-packages (from dateparser->python-binance) (2021.8.3)\n",
      "Requirement already satisfied: pytz in c:\\users\\jamir\\anaconda3\\lib\\site-packages (from dateparser->python-binance) (2021.3)\n",
      "Requirement already satisfied: tzlocal in c:\\users\\jamir\\anaconda3\\lib\\site-packages (from dateparser->python-binance) (4.2)\n",
      "Requirement already satisfied: idna<4,>=2.5 in c:\\users\\jamir\\anaconda3\\lib\\site-packages (from requests->python-binance) (3.2)\n",
      "Requirement already satisfied: certifi>=2017.4.17 in c:\\users\\jamir\\anaconda3\\lib\\site-packages (from requests->python-binance) (2021.10.8)\n",
      "Requirement already satisfied: urllib3<1.27,>=1.21.1 in c:\\users\\jamir\\anaconda3\\lib\\site-packages (from requests->python-binance) (1.26.7)\n",
      "Requirement already satisfied: tzdata in c:\\users\\jamir\\anaconda3\\lib\\site-packages (from tzlocal->dateparser->python-binance) (2022.1)\n",
      "Requirement already satisfied: pytz-deprecation-shim in c:\\users\\jamir\\anaconda3\\lib\\site-packages (from tzlocal->dateparser->python-binance) (0.1.0.post0)\n",
      "Requirement already satisfied: MetaTrader5 in c:\\users\\jamir\\anaconda3\\lib\\site-packages (5.0.36)\n",
      "Requirement already satisfied: numpy>=1.7 in c:\\users\\jamir\\anaconda3\\lib\\site-packages (from MetaTrader5) (1.22.3)\n"
     ]
    }
   ],
   "source": [
    "!pip install investpy\n",
    "!pip install yfinance\n",
    "!pip install python-binance\n",
    "!pip install MetaTrader5"
   ]
  },
  {
   "cell_type": "code",
   "execution_count": 12,
   "id": "31493421",
   "metadata": {},
   "outputs": [],
   "source": [
    "import numpy as np\n",
    "import pandas as pd\n",
    "\n",
    "from datetime import datetime, timedelta\n",
    "import pytz\n",
    "\n",
    "import investpy as investpy\n",
    "import yfinance as yf\n",
    "from binance.client import Client\n",
    "import MetaTrader5 as mt5\n",
    "\n",
    "import plotly.express as px\n",
    "import plotly.graph_objects as go\n",
    "from plotly.subplots import make_subplots\n",
    "import seaborn as sns"
   ]
  },
  {
   "cell_type": "code",
   "execution_count": 3,
   "id": "7b0df6c0",
   "metadata": {},
   "outputs": [],
   "source": [
    "## Caso precise fazer webscraping B3\n",
    "\n",
    "# !pip install -q kora\n",
    "\n",
    "# from time import sleep\n",
    "# from kora.selenium import wd"
   ]
  },
  {
   "cell_type": "markdown",
   "id": "fb5aa933",
   "metadata": {},
   "source": [
    "# **II) Capa do post**"
   ]
  },
  {
   "cell_type": "code",
   "execution_count": 6,
   "id": "60ff4e1d",
   "metadata": {},
   "outputs": [
    {
     "name": "stdout",
     "output_type": "stream",
     "text": [
      "Semana 17 de 2022\n",
      "\n",
      "25/04  a  29/04\n",
      "\n",
      "Weekly Report\n"
     ]
    }
   ],
   "source": [
    "semana_ano = datetime.now(pytz.timezone(\"America/Sao_Paulo\")).strftime('%U')\n",
    "ano = datetime.today().strftime('%Y')\n",
    "\n",
    "dia_sexta = datetime.now(pytz.timezone(\"America/Sao_Paulo\"))\n",
    "dia_segunda = datetime.now(pytz.timezone(\"America/Sao_Paulo\")) - timedelta(days=4)\n",
    "dia_segunda = dia_segunda.strftime('%d/%m')\n",
    "dia_sexta = dia_sexta.strftime('%d/%m')\n",
    "\n",
    "print(\"Semana\",semana_ano,\"de\",ano)\n",
    "print(\"\")\n",
    "print(dia_segunda,\" a \",dia_sexta)\n",
    "print(\"\")\n",
    "print(\"Weekly Report\")"
   ]
  },
  {
   "cell_type": "markdown",
   "id": "fd0b36a2",
   "metadata": {},
   "source": [
    "# **III) Obtenção e organização do conjunto de dados para o estudo**"
   ]
  },
  {
   "cell_type": "markdown",
   "id": "732872cd",
   "metadata": {},
   "source": [
    "**Investpy**<p>\n",
    "https://www.investing.com/"
   ]
  },
  {
   "cell_type": "markdown",
   "id": "ad621b1e",
   "metadata": {},
   "source": [
    "<b> INVESTPY UTILIZA A SEGUINTE ESTRUTURA DE DATA: '%d/%m/%Y'"
   ]
  },
  {
   "cell_type": "code",
   "execution_count": 136,
   "id": "c7857c52",
   "metadata": {},
   "outputs": [
    {
     "name": "stdout",
     "output_type": "stream",
     "text": [
      "25/04/2022\n",
      "29/04/2022\n"
     ]
    }
   ],
   "source": [
    "dia_sexta = datetime.now(pytz.timezone(\"America/Sao_Paulo\"))\n",
    "dia_segunda = datetime.now(pytz.timezone(\"America/Sao_Paulo\")) - timedelta(days=4)\n",
    "dia_segunda = dia_segunda.strftime('%d/%m/%Y')\n",
    "dia_sexta = dia_sexta.strftime('%d/%m/%Y')\n",
    "print(dia_segunda)\n",
    "print(dia_sexta)"
   ]
  },
  {
   "cell_type": "code",
   "execution_count": 137,
   "id": "b0594750",
   "metadata": {},
   "outputs": [],
   "source": [
    "from_date = dia_segunda\n",
    "to_date = dia_sexta"
   ]
  },
  {
   "cell_type": "code",
   "execution_count": 138,
   "id": "a8df490b",
   "metadata": {},
   "outputs": [
    {
     "name": "stdout",
     "output_type": "stream",
     "text": [
      "{\"id_\": 17920, \"name\": \"Bovespa\", \"symbol\": \"BVSP\", \"country\": \"brazil\", \"tag\": \"/indices/bovespa\", \"pair_type\": \"indices\", \"exchange\": \"BM&FBovespa\"}\n",
      "{\"id_\": 17921, \"name\": \"Bovespa Brazil 50\", \"symbol\": \"IBX50\", \"country\": \"brazil\", \"tag\": \"/indices/brazil-index-50\", \"pair_type\": \"indices\", \"exchange\": \"BM&FBovespa\"}\n",
      "{\"id_\": 17937, \"name\": \"Bovespa Tag Along\", \"symbol\": \"ITAG\", \"country\": \"brazil\", \"tag\": \"/indices/tag-along-index\", \"pair_type\": \"indices\", \"exchange\": \"BM&FBovespa\"}\n",
      "{\"id_\": 17923, \"name\": \"Brazil broad-Based\", \"symbol\": \"IBRA\", \"country\": \"brazil\", \"tag\": \"/indices/brazil-broad-based\", \"pair_type\": \"indices\", \"exchange\": \"BM&FBovespa\"}\n",
      "{\"id_\": 17922, \"name\": \"Brazil Index\", \"symbol\": \"IBRX\", \"country\": \"brazil\", \"tag\": \"/indices/brazil-index\", \"pair_type\": \"indices\", \"exchange\": \"BM&FBovespa\"}\n",
      "{\"id_\": 17924, \"name\": \"Mid-Large Cap Index\", \"symbol\": \"MLCX\", \"country\": \"brazil\", \"tag\": \"/indices/mid-large-cap-index\", \"pair_type\": \"indices\", \"exchange\": \"BM&FBovespa\"}\n",
      "{\"id_\": 17925, \"name\": \"Small Cap Index\", \"symbol\": \"SMLL\", \"country\": \"brazil\", \"tag\": \"/indices/small-cap-index\", \"pair_type\": \"indices\", \"exchange\": \"BM&FBovespa\"}\n"
     ]
    }
   ],
   "source": [
    "# Brazil\n",
    "BVSP_search_result = investpy.search_quotes(text='Bovespa (BVSP)', products=['indices'], n_results=1)\n",
    "print(BVSP_search_result)\n",
    "IBX50_search_result = investpy.search_quotes(text='Bovespa Brazil 50 (IBX50)', products=['indices'], n_results=1)\n",
    "print(IBX50_search_result)\n",
    "ITAG_search_result = investpy.search_quotes(text='Bovespa Tag Along (ITAG)', products=['indices'], n_results=1)\n",
    "print(ITAG_search_result)\n",
    "IBRA_search_result = investpy.search_quotes(text='Brazil broad-Based (IBRA)', products=['indices'], n_results=1)\n",
    "print(IBRA_search_result)\n",
    "IBRX_search_result = investpy.search_quotes(text='Brazil Index (IBRX)', products=['indices'], n_results=1)\n",
    "print(IBRX_search_result)\n",
    "MLCX_search_result = investpy.search_quotes(text='Mid-Large Cap Index (MLCX)', products=['indices'], n_results=1)\n",
    "print(MLCX_search_result)\n",
    "SMLL_search_result = investpy.search_quotes(text='Small Cap Index (SMLL)', products=['indices'], n_results=1)\n",
    "print(SMLL_search_result)"
   ]
  },
  {
   "cell_type": "code",
   "execution_count": 139,
   "id": "b1dfe4d5",
   "metadata": {},
   "outputs": [],
   "source": [
    "BVSP_search_result_data = BVSP_search_result.retrieve_historical_data(from_date=dia_segunda, to_date=dia_sexta)\n",
    "IBX50_search_result_data = IBX50_search_result.retrieve_historical_data(from_date=dia_segunda, to_date=dia_sexta)\n",
    "ITAG_search_result_data = ITAG_search_result.retrieve_historical_data(from_date=dia_segunda, to_date=dia_sexta)\n",
    "IBRA_search_result_data = IBRA_search_result.retrieve_historical_data(from_date=dia_segunda, to_date=dia_sexta)\n",
    "IBRX_search_result_data = IBRX_search_result.retrieve_historical_data(from_date=dia_segunda, to_date=dia_sexta)\n",
    "MLCX_search_result_data = MLCX_search_result.retrieve_historical_data(from_date=dia_segunda, to_date=dia_sexta)\n",
    "SMLL_search_result_data = SMLL_search_result.retrieve_historical_data(from_date=dia_segunda, to_date=dia_sexta)\n",
    "\n",
    "BVSP_search_result_data['Market Indices'] = 'Bovespa (BVSP)'\n",
    "BVSP_search_result_data['País'] = 'Brazil'\n",
    "BVSP_search_result_data\n",
    "\n",
    "IBX50_search_result_data['Market Indices'] = 'Bovespa Brazil 50 (IBX50)'\n",
    "IBX50_search_result_data['País'] = 'Brazil'\n",
    "IBX50_search_result_data\n",
    "\n",
    "ITAG_search_result_data['Market Indices'] = 'Bovespa Tag Along (ITAG)'\n",
    "ITAG_search_result_data['País'] = 'Brazil'\n",
    "ITAG_search_result_data\n",
    "\n",
    "IBRA_search_result_data['Market Indices'] = 'Brazil broad-Based (IBRA)'\n",
    "IBRA_search_result_data['País'] = 'Brazil'\n",
    "IBRA_search_result_data\n",
    "\n",
    "IBRX_search_result_data['Market Indices'] = 'Brazil Index (IBRX)'\n",
    "IBRX_search_result_data['País'] = 'Brazil'\n",
    "IBRX_search_result_data\n",
    "\n",
    "MLCX_search_result_data['Market Indices'] = 'Mid-Large Cap Index (MLCX)'\n",
    "MLCX_search_result_data['País'] = 'Brazil'\n",
    "MLCX_search_result_data\n",
    "\n",
    "SMLL_search_result_data['Market Indices'] = 'Small Cap Index (SMLL)'\n",
    "SMLL_search_result_data['País'] = 'Brazil'"
   ]
  },
  {
   "cell_type": "code",
   "execution_count": 140,
   "id": "5440eb39",
   "metadata": {},
   "outputs": [
    {
     "name": "stdout",
     "output_type": "stream",
     "text": [
      "{\"id_\": 166, \"name\": \"S&P 500\", \"symbol\": \"US500\", \"country\": \"united states\", \"tag\": \"/indices/us-spx-500\", \"pair_type\": \"indices\", \"exchange\": \"NYSE\"}\n",
      "{\"id_\": 169, \"name\": \"Dow Jones Industrial Average\", \"symbol\": \"DJI\", \"country\": \"united states\", \"tag\": \"/indices/us-30\", \"pair_type\": \"indices\", \"exchange\": \"NYSE\"}\n",
      "{\"id_\": 27604, \"name\": \"NYSE Composite\", \"symbol\": \"NYA\", \"country\": \"united states\", \"tag\": \"/indices/nyse-composite\", \"pair_type\": \"indices\", \"exchange\": \"NYSE\"}\n",
      "{\"id_\": 14958, \"name\": \"NASDAQ Composite\", \"symbol\": \"IXIC\", \"country\": \"united states\", \"tag\": \"/indices/nasdaq-composite\", \"pair_type\": \"indices\", \"exchange\": \"NASDAQ\"}\n",
      "{\"id_\": 20, \"name\": \"Nasdaq 100\", \"symbol\": \"NDX\", \"country\": \"united states\", \"tag\": \"/indices/nq-100\", \"pair_type\": \"indices\", \"exchange\": \"NASDAQ\"}\n",
      "{\"id_\": 24441, \"name\": \"S&P/TSX Composite\", \"symbol\": \"GSPTSE\", \"country\": \"canada\", \"tag\": \"/indices/s-p-tsx-composite\", \"pair_type\": \"indices\", \"exchange\": \"Toronto\"}\n",
      "{\"id_\": 27254, \"name\": \"S&P/BMV IPC\", \"symbol\": \"MXX\", \"country\": \"mexico\", \"tag\": \"/indices/ipc\", \"pair_type\": \"indices\", \"exchange\": \"Mexico\"}\n",
      "{\"id_\": 13376, \"name\": \"S&P Merval\", \"symbol\": \"MERV\", \"country\": \"argentina\", \"tag\": \"/indices/merv\", \"pair_type\": \"indices\", \"exchange\": \"Buenos Aires\"}\n"
     ]
    }
   ],
   "source": [
    "# AMERICAS\n",
    "\n",
    "# United States\n",
    "SP500_search_result = investpy.search_quotes(text='S&P 500', products=['indices'],countries=['united states'], n_results=1)\n",
    "print(SP500_search_result)\n",
    "DJI_search_result = investpy.search_quotes(text='Dow Jones Industrial Average (DJI)', products=['indices'],countries=['united states'], n_results=1)\n",
    "print(DJI_search_result)\n",
    "NYA_search_result = investpy.search_quotes(text='NYSE Composite (NYA)', products=['indices'],countries=['united states'], n_results=1)\n",
    "print(NYA_search_result)\n",
    "NASDAQ_search_result = investpy.search_quotes(text='NASDAQ Composite (IXIC)', products=['indices'],countries=['united states'], n_results=1)\n",
    "print(NASDAQ_search_result)\n",
    "NDX_search_result = investpy.search_quotes(text='Nasdaq 100 (NDX)', products=['indices'],countries=['united states'], n_results=1)\n",
    "print(NDX_search_result)\n",
    "\n",
    "# Canada\n",
    "GSPTSE_search_result = investpy.search_quotes(text='S&P/TSX Composite (GSPTSE)', products=['indices'], n_results=1)\n",
    "print(GSPTSE_search_result)\n",
    "\n",
    "# México\n",
    "MXX_search_result = investpy.search_quotes(text='S&P/BMV IPC (MXX)', products=['indices'], n_results=1)\n",
    "print(MXX_search_result)\n",
    "\n",
    "# Argentina\n",
    "Merval_search_result = investpy.search_quotes(text='S&P Merval (MERV)', products=['indices'], n_results=1)\n",
    "print(Merval_search_result)"
   ]
  },
  {
   "cell_type": "code",
   "execution_count": 141,
   "id": "19cd1a48",
   "metadata": {},
   "outputs": [],
   "source": [
    "SP500_search_result_data = SP500_search_result.retrieve_historical_data(from_date=dia_segunda, to_date=dia_sexta)\n",
    "DJI_search_result_data = DJI_search_result.retrieve_historical_data(from_date=dia_segunda, to_date=dia_sexta)\n",
    "NYA_search_result_data = NYA_search_result.retrieve_historical_data(from_date=dia_segunda, to_date=dia_sexta)\n",
    "NASDAQ_search_result_data = NASDAQ_search_result.retrieve_historical_data(from_date=dia_segunda, to_date=dia_sexta)\n",
    "NDX_search_result_data = NDX_search_result.retrieve_historical_data(from_date=dia_segunda, to_date=dia_sexta)\n",
    "GSPTSE_search_result = GSPTSE_search_result.retrieve_historical_data(from_date=dia_segunda, to_date=dia_sexta)\n",
    "MXX_search_result_data = MXX_search_result.retrieve_historical_data(from_date=dia_segunda, to_date=dia_sexta)\n",
    "Merval_search_result_data = Merval_search_result.retrieve_historical_data(from_date=dia_segunda, to_date=dia_sexta)\n",
    "\n",
    "SP500_search_result_data['Market Indices'] = 'S&P 500 (US500)'\n",
    "SP500_search_result_data['País'] = 'United States'\n",
    "SP500_search_result_data\n",
    "\n",
    "DJI_search_result_data['Market Indices'] = 'Dow Jones Industrial Average (DJI)'\n",
    "DJI_search_result_data['País'] = 'United States'\n",
    "DJI_search_result_data\n",
    "\n",
    "NYA_search_result_data['Market Indices'] = 'NYSE Composite (NYA)'\n",
    "NYA_search_result_data['País'] = 'United States'\n",
    "NYA_search_result_data\n",
    "\n",
    "NASDAQ_search_result_data['Market Indices'] = 'NASDAQ Composite (IXIC)'\n",
    "NASDAQ_search_result_data['País'] = 'United States'\n",
    "NASDAQ_search_result_data\n",
    "\n",
    "NDX_search_result_data['Market Indices'] = 'Nasdaq 100 (NDX)'\n",
    "NDX_search_result_data['País'] = 'United States'\n",
    "NDX_search_result_data\n",
    "\n",
    "GSPTSE_search_result['Market Indices'] = 'S&P/TSX Composite (GSPTSE)'\n",
    "GSPTSE_search_result['País'] = 'Canada'\n",
    "GSPTSE_search_result\n",
    "\n",
    "MXX_search_result_data['Market Indices'] = 'S&P/BMV IPC (MXX)'\n",
    "MXX_search_result_data['País'] = 'Mexico'\n",
    "MXX_search_result_data\n",
    "\n",
    "Merval_search_result_data['Market Indices'] = 'S&P Merval (MERV)'\n",
    "Merval_search_result_data['País'] = 'Argentina'"
   ]
  },
  {
   "cell_type": "code",
   "execution_count": 142,
   "id": "c2e646c6",
   "metadata": {},
   "outputs": [
    {
     "name": "stdout",
     "output_type": "stream",
     "text": [
      "{\"id_\": 40820, \"name\": \"Shanghai Composite\", \"symbol\": \"SSEC\", \"country\": \"china\", \"tag\": \"/indices/shanghai-composite\", \"pair_type\": \"indices\", \"exchange\": \"Shanghai\"}\n",
      "{\"id_\": 942630, \"name\": \"SZSE Component\", \"symbol\": \"SZI\", \"country\": \"china\", \"tag\": \"/indices/szse-component\", \"pair_type\": \"indices\", \"exchange\": \"Shenzhen\"}\n",
      "{\"id_\": 178, \"name\": \"Nikkei 225\", \"symbol\": \"JP225\", \"country\": \"japan\", \"tag\": \"/indices/japan-ni225\", \"pair_type\": \"indices\", \"exchange\": \"Tokyo\"}\n",
      "[<investpy.utils.search_obj.SearchObj object at 0x0000018D14FA7A00>, <investpy.utils.search_obj.SearchObj object at 0x0000018D14FA78E0>]\n",
      "{\"id_\": 17940, \"name\": \"Nifty 50\", \"symbol\": \"NSEI\", \"country\": \"india\", \"tag\": \"/indices/s-p-cnx-nifty\", \"pair_type\": \"indices\", \"exchange\": \"NSE\"}\n",
      "{\"id_\": 39929, \"name\": \"BSE Sensex 30\", \"symbol\": \"BSESN\", \"country\": \"india\", \"tag\": \"/indices/sensex\", \"pair_type\": \"indices\", \"exchange\": \"BSE\"}\n",
      "{\"id_\": 11319, \"name\": \"Tadawul All Share\", \"symbol\": \"TASI\", \"country\": \"saudi arabia\", \"tag\": \"/indices/tasi\", \"pair_type\": \"indices\", \"exchange\": \"Saudi Arabia\"}\n",
      "{\"id_\": 37426, \"name\": \"KOSPI\", \"symbol\": \"KS11\", \"country\": \"south korea\", \"tag\": \"/indices/kospi\", \"pair_type\": \"indices\", \"exchange\": \"Seoul\"}\n"
     ]
    }
   ],
   "source": [
    "# ASIA\n",
    "\n",
    "# China\n",
    "SSEC_search_result = investpy.search_quotes(text='Shanghai Composite (SSEC)', products=['indices'],countries=['china'], n_results=1)\n",
    "print(SSEC_search_result)\n",
    "SZSE_search_result = investpy.search_quotes(text='SZSE Component (SZI)', products=['indices'],countries=['china'], n_results=1)\n",
    "print(SZSE_search_result)\n",
    "\n",
    "# Japão\n",
    "N225_search_result = investpy.search_quotes(text='Nikkei 225', products=['indices'],countries=['japan'], n_results=1)\n",
    "print(N225_search_result)\n",
    "\n",
    "# Hong Kong\n",
    "HSI_search_result = investpy.search_quotes(text='Hang Seng (HK50)', products=['indices'], n_results=2)\n",
    "print(HSI_search_result)\n",
    "\n",
    "# India\n",
    "NSEI_search_result = investpy.search_quotes(text='Nifty 50 (NSEI)', products=['indices'], n_results=1)\n",
    "print(NSEI_search_result)\n",
    "BSESN_search_result = investpy.search_quotes(text='BSE Sensex 30 (BSESN)', products=['indices'], n_results=1)\n",
    "print(BSESN_search_result)\n",
    "\n",
    "# Arabia Saudita\n",
    "TASI_search_result = investpy.search_quotes(text='Tadawul All Share (TASI)', products=['indices'], n_results=1)\n",
    "print(TASI_search_result)\n",
    "\n",
    "# Coreia do Sul\n",
    "KOSPI_search_result = investpy.search_quotes(text='KOSPI (KS11)', products=['indices'], n_results=1)\n",
    "print(KOSPI_search_result)"
   ]
  },
  {
   "cell_type": "code",
   "execution_count": 143,
   "id": "38427b6f",
   "metadata": {},
   "outputs": [],
   "source": [
    "SSEC_search_result_data = SSEC_search_result.retrieve_historical_data(from_date=dia_segunda, to_date=dia_sexta)\n",
    "SZSE_search_result_data = SZSE_search_result.retrieve_historical_data(from_date=dia_segunda, to_date=dia_sexta)\n",
    "N225_search_result_data = N225_search_result.retrieve_historical_data(from_date=dia_segunda, to_date=dia_sexta)\n",
    "HSI_search_result_data = HSI_search_result[1].retrieve_historical_data(from_date=dia_segunda, to_date=dia_sexta)\n",
    "NSEI_search_result_data = NSEI_search_result.retrieve_historical_data(from_date=dia_segunda, to_date=dia_sexta)\n",
    "BSESN_search_result_data = BSESN_search_result.retrieve_historical_data(from_date=dia_segunda, to_date=dia_sexta)\n",
    "TASI_search_result_data = TASI_search_result.retrieve_historical_data(from_date=dia_segunda, to_date=dia_sexta)\n",
    "KOSPI_search_result_data = KOSPI_search_result.retrieve_historical_data(from_date=dia_segunda, to_date=dia_sexta)\n",
    "\n",
    "SSEC_search_result_data['Market Indices'] = 'Shanghai_Composite (SSEC)'\n",
    "SSEC_search_result_data['País'] = 'China'\n",
    "SSEC_search_result_data\n",
    "\n",
    "SZSE_search_result_data['Market Indices'] = 'SZSE_Component (SZI)'\n",
    "SZSE_search_result_data['País'] = 'China'\n",
    "SZSE_search_result_data\n",
    "\n",
    "N225_search_result_data['Market Indices'] = 'Nikkei 225 (JP225)'\n",
    "N225_search_result_data['País'] = 'Japan'\n",
    "N225_search_result_data\n",
    "\n",
    "HSI_search_result_data['Market Indices'] = 'Hang Seng (HK50)'\n",
    "HSI_search_result_data['País'] = 'Hong Kong'\n",
    "HSI_search_result_data\n",
    "\n",
    "NSEI_search_result_data['Market Indices'] = 'Nifty 50 (NSEI)'\n",
    "NSEI_search_result_data['País'] = 'India'\n",
    "NSEI_search_result_data\n",
    "\n",
    "BSESN_search_result_data['Market Indices'] = 'BSE Sensex 30 (BSESN)'\n",
    "BSESN_search_result_data['País'] = 'India'\n",
    "BSESN_search_result_data\n",
    "\n",
    "TASI_search_result_data['Market Indices'] = 'Tadawul All Share (TASI)'\n",
    "TASI_search_result_data['País'] = 'Saudi Arabia'\n",
    "TASI_search_result_data\n",
    "\n",
    "KOSPI_search_result_data['Market Indices'] = 'KOSPI (KS11)'\n",
    "KOSPI_search_result_data['País'] = 'South Korea'"
   ]
  },
  {
   "cell_type": "code",
   "execution_count": 144,
   "id": "42f0e68c",
   "metadata": {},
   "outputs": [
    {
     "name": "stdout",
     "output_type": "stream",
     "text": [
      "{\"id_\": 14865, \"name\": \"EuroNext 100\", \"symbol\": \"N100\", \"country\": \"france\", \"tag\": \"/indices/euronext-100\", \"pair_type\": \"indices\", \"exchange\": \"Paris\"}\n",
      "{\"id_\": 175, \"name\": \"Euro Stoxx 50\", \"symbol\": \"STOXX50\", \"country\": \"euro zone\", \"tag\": \"/indices/eu-stoxx50\", \"pair_type\": \"indices\", \"exchange\": \"Xetra\"}\n",
      "{\"id_\": 172, \"name\": \"DAX\", \"symbol\": \"DE30\", \"country\": \"germany\", \"tag\": \"/indices/germany-30\", \"pair_type\": \"indices\", \"exchange\": \"Xetra\"}\n",
      "{\"id_\": 27, \"name\": \"FTSE 100\", \"symbol\": \"UK100\", \"country\": \"united kingdom\", \"tag\": \"/indices/uk-100\", \"pair_type\": \"indices\", \"exchange\": \"London\"}\n",
      "{\"id_\": 167, \"name\": \"CAC 40\", \"symbol\": \"FCHI\", \"country\": \"france\", \"tag\": \"/indices/france-40\", \"pair_type\": \"indices\", \"exchange\": \"Paris\"}\n",
      "{\"id_\": 8858, \"name\": \"FTSE MIB Futures\", \"symbol\": \"IT40\", \"country\": \"italy\", \"tag\": \"/indices/italy-40-futures\", \"pair_type\": \"indices\", \"exchange\": \"Borsa Italiana\"}\n",
      "{\"id_\": 13666, \"name\": \"MOEX Russia\", \"symbol\": \"IMOEX\", \"country\": \"russia\", \"tag\": \"/indices/mcx\", \"pair_type\": \"indices\", \"exchange\": \"Moscow\"}\n",
      "{\"id_\": 174, \"name\": \"IBEX 35\", \"symbol\": \"ES35\", \"country\": \"spain\", \"tag\": \"/indices/spain-35\", \"pair_type\": \"indices\", \"exchange\": \"Madrid\"}\n",
      "{\"id_\": 168, \"name\": \"AEX\", \"symbol\": \"AEX\", \"country\": \"netherlands\", \"tag\": \"/indices/netherlands-25\", \"pair_type\": \"indices\", \"exchange\": \"Amsterdam\"}\n",
      "{\"id_\": 176, \"name\": \"SMI\", \"symbol\": \"SWI20\", \"country\": \"switzerland\", \"tag\": \"/indices/switzerland-20\", \"pair_type\": \"indices\", \"exchange\": \"Switzerland\"}\n",
      "{\"id_\": 19155, \"name\": \"BIST 100\", \"symbol\": \"XU100\", \"country\": \"turkey\", \"tag\": \"/indices/ise-100\", \"pair_type\": \"indices\", \"exchange\": \"Istanbul\"}\n"
     ]
    }
   ],
   "source": [
    "# EUROPA\n",
    "\n",
    "# Europa\n",
    "Euronext_search_result = investpy.search_quotes(text='EuroNext 100 (N100)', products=['indices'], n_results=1)\n",
    "print(Euronext_search_result)\n",
    "Stoxx_search_result = investpy.search_quotes(text='Euro Stoxx 50 (STOXX50)', products=['indices'], n_results=1)\n",
    "print(Stoxx_search_result)\n",
    "\n",
    "# Alemanha\n",
    "DAX_search_result = investpy.search_quotes(text='DAX (DE30)', products=['indices'], n_results=1)\n",
    "print(DAX_search_result)\n",
    "\n",
    "# UK\n",
    "FTSE_search_result = investpy.search_quotes(text='FTSE 100 (UK100)', products=['indices'], n_results=1)\n",
    "print(FTSE_search_result)\n",
    "\n",
    "# França\n",
    "CAC_search_result = investpy.search_quotes(text='CAC 40 (FCHI)', products=['indices'], n_results=1)\n",
    "print(CAC_search_result)\n",
    "\n",
    "# Italia\n",
    "FTMIB_search_result = investpy.search_quotes(text='FTSE MIB (IT40)', products=['indices'], n_results=1)\n",
    "print(FTMIB_search_result)\n",
    "\n",
    "# Russia\n",
    "MOEX_search_result = investpy.search_quotes(text='MOEX Russia (IMOEX)', products=['indices'], n_results=1)\n",
    "print(MOEX_search_result)\n",
    "\n",
    "# Espanha\n",
    "IBEX_search_result = investpy.search_quotes(text='IBEX 35 (ES35)', products=['indices'], n_results=1)\n",
    "print(IBEX_search_result)\n",
    "\n",
    "# Holanda\n",
    "AEX_search_result = investpy.search_quotes(text='AEX', products=['indices'], n_results=1)\n",
    "print(AEX_search_result)\n",
    "\n",
    "# Suiça\n",
    "SSMI_search_result = investpy.search_quotes(text='SMI', products=['indices'], n_results=1)\n",
    "print(SSMI_search_result)\n",
    "\n",
    "# Turquia\n",
    "XU100_search_result = investpy.search_quotes(text='BIST 100 (XU100)', products=['indices'], n_results=1)\n",
    "print(XU100_search_result)"
   ]
  },
  {
   "cell_type": "code",
   "execution_count": 145,
   "id": "730ebfd1",
   "metadata": {},
   "outputs": [],
   "source": [
    "Euronext_search_result_data = Euronext_search_result.retrieve_historical_data(from_date=dia_segunda, to_date=dia_sexta)\n",
    "Stoxx_search_result_data = Stoxx_search_result.retrieve_historical_data(from_date=dia_segunda, to_date=dia_sexta)\n",
    "DAX_search_result_data = DAX_search_result.retrieve_historical_data(from_date=dia_segunda, to_date=dia_sexta)\n",
    "FTSE_search_result_data = FTSE_search_result.retrieve_historical_data(from_date=dia_segunda, to_date=dia_sexta)\n",
    "CAC_search_result_data = CAC_search_result.retrieve_historical_data(from_date=dia_segunda, to_date=dia_sexta)\n",
    "FTMIB_search_result_data = FTMIB_search_result.retrieve_historical_data(from_date=dia_segunda, to_date=dia_sexta)\n",
    "MOEX_search_result_data = MOEX_search_result.retrieve_historical_data(from_date=dia_segunda, to_date=dia_sexta)\n",
    "IBEX_search_result_data = IBEX_search_result.retrieve_historical_data(from_date=dia_segunda, to_date=dia_sexta)\n",
    "AEX_search_result_data = AEX_search_result.retrieve_historical_data(from_date=dia_segunda, to_date=dia_sexta)\n",
    "SSMI_search_result_data = SSMI_search_result.retrieve_historical_data(from_date=dia_segunda, to_date=dia_sexta)\n",
    "XU100_search_result_data = XU100_search_result.retrieve_historical_data(from_date=dia_segunda, to_date=dia_sexta)\n",
    "\n",
    "Euronext_search_result_data['Market Indices'] = 'EuroNext 100 (N100)'\n",
    "Euronext_search_result_data['País'] = 'Euro Zone'\n",
    "Euronext_search_result_data\n",
    "\n",
    "Stoxx_search_result_data['Market Indices'] = 'EURO STOXX 50 (STOXX50)'\n",
    "Stoxx_search_result_data['País'] = 'Euro Zone'\n",
    "Stoxx_search_result_data\n",
    "\n",
    "DAX_search_result_data['Market Indices'] = 'DAX (DE30)'\n",
    "DAX_search_result_data['País'] = 'Germany'\n",
    "DAX_search_result_data\n",
    "\n",
    "FTSE_search_result_data['Market Indices'] = 'FTSE 100 (UK100)'\n",
    "FTSE_search_result_data['País'] = 'United Kingdom'\n",
    "FTSE_search_result_data\n",
    "\n",
    "CAC_search_result_data['Market Indices'] = 'CAC 40 (FCHI)'\n",
    "CAC_search_result_data['País'] = 'France'\n",
    "CAC_search_result_data\n",
    "\n",
    "FTMIB_search_result_data['Market Indices'] = 'FTSE MIB Futures (IT40)'\n",
    "FTMIB_search_result_data['País'] = 'Italy'\n",
    "FTMIB_search_result_data\n",
    "\n",
    "MOEX_search_result_data['Market Indices'] = 'MOEX Russia (IMOEX)'\n",
    "MOEX_search_result_data['País'] = 'Russia'\n",
    "MOEX_search_result_data\n",
    "\n",
    "IBEX_search_result_data['Market Indices'] = 'IBEX 35 (ES35)'\n",
    "IBEX_search_result_data['País'] = 'Spain'\n",
    "IBEX_search_result_data\n",
    "\n",
    "AEX_search_result_data['Market Indices'] = 'AEX (AEX)'\n",
    "AEX_search_result_data['País'] = 'Netherlands'\n",
    "AEX_search_result_data\n",
    "\n",
    "SSMI_search_result_data['Market Indices'] = 'SMI (SWI20)'\n",
    "SSMI_search_result_data['País'] = 'Switzerland'\n",
    "SSMI_search_result_data\n",
    "\n",
    "XU100_search_result_data['Market Indices'] = 'BIST 100 (XU100)'\n",
    "XU100_search_result_data['País'] = 'Turkey'"
   ]
  },
  {
   "cell_type": "code",
   "execution_count": 146,
   "id": "827712c8",
   "metadata": {},
   "outputs": [
    {
     "name": "stdout",
     "output_type": "stream",
     "text": [
      "{\"id_\": 171, \"name\": \"S&P/ASX 200\", \"symbol\": \"AXJO\", \"country\": \"australia\", \"tag\": \"/indices/aus-200\", \"pair_type\": \"indices\", \"exchange\": \"Sydney\"}\n",
      "{\"id_\": 41043, \"name\": \"South Africa Top 40\", \"symbol\": \"JTOPI\", \"country\": \"south africa\", \"tag\": \"/indices/ftse-jse-top-40\", \"pair_type\": \"indices\", \"exchange\": \"Johannesburg\"}\n"
     ]
    }
   ],
   "source": [
    "# OCEANIA e AFRICA\n",
    "\n",
    "AXJO_search_result = investpy.search_quotes(text='S&P/ASX 200 (AXJO)', products=['indices'], n_results=1)\n",
    "print(AXJO_search_result)\n",
    "JTOPI_search_result = investpy.search_quotes(text='South Africa Top 40 (JTOPI)', products=['indices'], n_results=1)\n",
    "print(JTOPI_search_result)"
   ]
  },
  {
   "cell_type": "code",
   "execution_count": 147,
   "id": "240c7791",
   "metadata": {},
   "outputs": [],
   "source": [
    "AXJO_search_result_data = AXJO_search_result.retrieve_historical_data(from_date=dia_segunda, to_date=dia_sexta)\n",
    "JTOPI_search_result_data = JTOPI_search_result.retrieve_historical_data(from_date=dia_segunda, to_date=dia_sexta)\n",
    "\n",
    "AXJO_search_result_data['Market Indices'] = 'S&P/ASX 200 (AXJO)'\n",
    "AXJO_search_result_data['País'] = 'Australia'\n",
    "AXJO_search_result_data\n",
    "\n",
    "JTOPI_search_result_data['Market Indices'] = 'South Africa Top 40 (JTOPI)'\n",
    "JTOPI_search_result_data['País'] = 'South Africa'"
   ]
  },
  {
   "cell_type": "code",
   "execution_count": 161,
   "id": "b56406d3",
   "metadata": {},
   "outputs": [
    {
     "data": {
      "text/html": [
       "<div>\n",
       "<style scoped>\n",
       "    .dataframe tbody tr th:only-of-type {\n",
       "        vertical-align: middle;\n",
       "    }\n",
       "\n",
       "    .dataframe tbody tr th {\n",
       "        vertical-align: top;\n",
       "    }\n",
       "\n",
       "    .dataframe thead th {\n",
       "        text-align: right;\n",
       "    }\n",
       "</style>\n",
       "<table border=\"1\" class=\"dataframe\">\n",
       "  <thead>\n",
       "    <tr style=\"text-align: right;\">\n",
       "      <th></th>\n",
       "      <th>Open</th>\n",
       "      <th>High</th>\n",
       "      <th>Low</th>\n",
       "      <th>Close</th>\n",
       "      <th>Volume</th>\n",
       "      <th>Change Pct</th>\n",
       "      <th>Market Indices</th>\n",
       "      <th>País</th>\n",
       "    </tr>\n",
       "    <tr>\n",
       "      <th>Date</th>\n",
       "      <th></th>\n",
       "      <th></th>\n",
       "      <th></th>\n",
       "      <th></th>\n",
       "      <th></th>\n",
       "      <th></th>\n",
       "      <th></th>\n",
       "      <th></th>\n",
       "    </tr>\n",
       "  </thead>\n",
       "  <tbody>\n",
       "    <tr>\n",
       "      <th>2022-04-25</th>\n",
       "      <td>111077.00</td>\n",
       "      <td>111155.00</td>\n",
       "      <td>109222.00</td>\n",
       "      <td>110685.00</td>\n",
       "      <td>11098277</td>\n",
       "      <td>-0.35</td>\n",
       "      <td>Bovespa (BVSP)</td>\n",
       "      <td>Brazil</td>\n",
       "    </tr>\n",
       "    <tr>\n",
       "      <th>2022-04-26</th>\n",
       "      <td>110684.00</td>\n",
       "      <td>110685.00</td>\n",
       "      <td>107978.00</td>\n",
       "      <td>108213.00</td>\n",
       "      <td>11747536</td>\n",
       "      <td>-2.23</td>\n",
       "      <td>Bovespa (BVSP)</td>\n",
       "      <td>Brazil</td>\n",
       "    </tr>\n",
       "    <tr>\n",
       "      <th>2022-04-27</th>\n",
       "      <td>108214.00</td>\n",
       "      <td>110107.00</td>\n",
       "      <td>108214.00</td>\n",
       "      <td>109349.00</td>\n",
       "      <td>11515690</td>\n",
       "      <td>1.05</td>\n",
       "      <td>Bovespa (BVSP)</td>\n",
       "      <td>Brazil</td>\n",
       "    </tr>\n",
       "    <tr>\n",
       "      <th>2022-04-28</th>\n",
       "      <td>109349.00</td>\n",
       "      <td>110702.00</td>\n",
       "      <td>108905.00</td>\n",
       "      <td>109919.00</td>\n",
       "      <td>11129859</td>\n",
       "      <td>0.52</td>\n",
       "      <td>Bovespa (BVSP)</td>\n",
       "      <td>Brazil</td>\n",
       "    </tr>\n",
       "    <tr>\n",
       "      <th>2022-04-29</th>\n",
       "      <td>109922.00</td>\n",
       "      <td>111819.00</td>\n",
       "      <td>107876.00</td>\n",
       "      <td>107876.00</td>\n",
       "      <td>13662160</td>\n",
       "      <td>-1.86</td>\n",
       "      <td>Bovespa (BVSP)</td>\n",
       "      <td>Brazil</td>\n",
       "    </tr>\n",
       "    <tr>\n",
       "      <th>...</th>\n",
       "      <td>...</td>\n",
       "      <td>...</td>\n",
       "      <td>...</td>\n",
       "      <td>...</td>\n",
       "      <td>...</td>\n",
       "      <td>...</td>\n",
       "      <td>...</td>\n",
       "      <td>...</td>\n",
       "    </tr>\n",
       "    <tr>\n",
       "      <th>2022-04-29</th>\n",
       "      <td>7356.90</td>\n",
       "      <td>7427.20</td>\n",
       "      <td>7356.90</td>\n",
       "      <td>7423.50</td>\n",
       "      <td>510279616</td>\n",
       "      <td>0.91</td>\n",
       "      <td>S&amp;P/ASX 200 (AXJO)</td>\n",
       "      <td>Australia</td>\n",
       "    </tr>\n",
       "    <tr>\n",
       "      <th>2022-04-25</th>\n",
       "      <td>65385.48</td>\n",
       "      <td>65403.54</td>\n",
       "      <td>62864.14</td>\n",
       "      <td>62895.89</td>\n",
       "      <td>166871648</td>\n",
       "      <td>-3.81</td>\n",
       "      <td>South Africa Top 40 (JTOPI)</td>\n",
       "      <td>South Africa</td>\n",
       "    </tr>\n",
       "    <tr>\n",
       "      <th>2022-04-26</th>\n",
       "      <td>62895.89</td>\n",
       "      <td>64058.03</td>\n",
       "      <td>62895.89</td>\n",
       "      <td>63336.92</td>\n",
       "      <td>105842856</td>\n",
       "      <td>0.70</td>\n",
       "      <td>South Africa Top 40 (JTOPI)</td>\n",
       "      <td>South Africa</td>\n",
       "    </tr>\n",
       "    <tr>\n",
       "      <th>2022-04-28</th>\n",
       "      <td>63336.92</td>\n",
       "      <td>64651.24</td>\n",
       "      <td>63310.31</td>\n",
       "      <td>64551.99</td>\n",
       "      <td>105743440</td>\n",
       "      <td>1.92</td>\n",
       "      <td>South Africa Top 40 (JTOPI)</td>\n",
       "      <td>South Africa</td>\n",
       "    </tr>\n",
       "    <tr>\n",
       "      <th>2022-04-29</th>\n",
       "      <td>64551.99</td>\n",
       "      <td>66128.11</td>\n",
       "      <td>64551.99</td>\n",
       "      <td>65475.55</td>\n",
       "      <td>146576368</td>\n",
       "      <td>1.43</td>\n",
       "      <td>South Africa Top 40 (JTOPI)</td>\n",
       "      <td>South Africa</td>\n",
       "    </tr>\n",
       "  </tbody>\n",
       "</table>\n",
       "<p>174 rows × 8 columns</p>\n",
       "</div>"
      ],
      "text/plain": [
       "                 Open       High        Low      Close     Volume  Change Pct  \\\n",
       "Date                                                                            \n",
       "2022-04-25  111077.00  111155.00  109222.00  110685.00   11098277       -0.35   \n",
       "2022-04-26  110684.00  110685.00  107978.00  108213.00   11747536       -2.23   \n",
       "2022-04-27  108214.00  110107.00  108214.00  109349.00   11515690        1.05   \n",
       "2022-04-28  109349.00  110702.00  108905.00  109919.00   11129859        0.52   \n",
       "2022-04-29  109922.00  111819.00  107876.00  107876.00   13662160       -1.86   \n",
       "...               ...        ...        ...        ...        ...         ...   \n",
       "2022-04-29    7356.90    7427.20    7356.90    7423.50  510279616        0.91   \n",
       "2022-04-25   65385.48   65403.54   62864.14   62895.89  166871648       -3.81   \n",
       "2022-04-26   62895.89   64058.03   62895.89   63336.92  105842856        0.70   \n",
       "2022-04-28   63336.92   64651.24   63310.31   64551.99  105743440        1.92   \n",
       "2022-04-29   64551.99   66128.11   64551.99   65475.55  146576368        1.43   \n",
       "\n",
       "                         Market Indices          País  \n",
       "Date                                                   \n",
       "2022-04-25               Bovespa (BVSP)        Brazil  \n",
       "2022-04-26               Bovespa (BVSP)        Brazil  \n",
       "2022-04-27               Bovespa (BVSP)        Brazil  \n",
       "2022-04-28               Bovespa (BVSP)        Brazil  \n",
       "2022-04-29               Bovespa (BVSP)        Brazil  \n",
       "...                                 ...           ...  \n",
       "2022-04-29           S&P/ASX 200 (AXJO)     Australia  \n",
       "2022-04-25  South Africa Top 40 (JTOPI)  South Africa  \n",
       "2022-04-26  South Africa Top 40 (JTOPI)  South Africa  \n",
       "2022-04-28  South Africa Top 40 (JTOPI)  South Africa  \n",
       "2022-04-29  South Africa Top 40 (JTOPI)  South Africa  \n",
       "\n",
       "[174 rows x 8 columns]"
      ]
     },
     "execution_count": 161,
     "metadata": {},
     "output_type": "execute_result"
    }
   ],
   "source": [
    "stocks_indices_data = pd.concat([BVSP_search_result_data, IBX50_search_result_data, ITAG_search_result_data, IBRA_search_result_data, IBRX_search_result_data, MLCX_search_result_data,\n",
    "                                 SMLL_search_result_data, SP500_search_result_data, DJI_search_result_data, NYA_search_result_data, NASDAQ_search_result_data, NDX_search_result_data, \n",
    "                                 GSPTSE_search_result, MXX_search_result_data, Merval_search_result_data, SSEC_search_result_data, SZSE_search_result_data, N225_search_result_data, \n",
    "                                 HSI_search_result_data, NSEI_search_result_data, BSESN_search_result_data, TASI_search_result_data, KOSPI_search_result_data, Euronext_search_result_data,\n",
    "                                 Stoxx_search_result_data, DAX_search_result_data, FTSE_search_result_data, CAC_search_result_data, FTMIB_search_result_data, MOEX_search_result_data,\n",
    "                                 IBEX_search_result_data, AEX_search_result_data, SSMI_search_result_data, XU100_search_result_data, AXJO_search_result_data, JTOPI_search_result_data],axis=0)\n",
    "\n",
    "stocks_indices_data"
   ]
  },
  {
   "cell_type": "code",
   "execution_count": 162,
   "id": "7c68a840",
   "metadata": {},
   "outputs": [
    {
     "data": {
      "text/html": [
       "<div>\n",
       "<style scoped>\n",
       "    .dataframe tbody tr th:only-of-type {\n",
       "        vertical-align: middle;\n",
       "    }\n",
       "\n",
       "    .dataframe tbody tr th {\n",
       "        vertical-align: top;\n",
       "    }\n",
       "\n",
       "    .dataframe thead th {\n",
       "        text-align: right;\n",
       "    }\n",
       "</style>\n",
       "<table border=\"1\" class=\"dataframe\">\n",
       "  <thead>\n",
       "    <tr style=\"text-align: right;\">\n",
       "      <th></th>\n",
       "      <th>Close</th>\n",
       "    </tr>\n",
       "    <tr>\n",
       "      <th>Market Indices</th>\n",
       "      <th></th>\n",
       "    </tr>\n",
       "  </thead>\n",
       "  <tbody>\n",
       "    <tr>\n",
       "      <th>NYSE Composite (NYA)</th>\n",
       "      <td>3</td>\n",
       "    </tr>\n",
       "    <tr>\n",
       "      <th>Tadawul All Share (TASI)</th>\n",
       "      <td>4</td>\n",
       "    </tr>\n",
       "    <tr>\n",
       "      <th>Nikkei 225 (JP225)</th>\n",
       "      <td>4</td>\n",
       "    </tr>\n",
       "    <tr>\n",
       "      <th>S&amp;P/ASX 200 (AXJO)</th>\n",
       "      <td>4</td>\n",
       "    </tr>\n",
       "    <tr>\n",
       "      <th>South Africa Top 40 (JTOPI)</th>\n",
       "      <td>4</td>\n",
       "    </tr>\n",
       "    <tr>\n",
       "      <th>S&amp;P/TSX Composite (GSPTSE)</th>\n",
       "      <td>5</td>\n",
       "    </tr>\n",
       "    <tr>\n",
       "      <th>S&amp;P/BMV IPC (MXX)</th>\n",
       "      <td>5</td>\n",
       "    </tr>\n",
       "    <tr>\n",
       "      <th>SZSE_Component (SZI)</th>\n",
       "      <td>5</td>\n",
       "    </tr>\n",
       "    <tr>\n",
       "      <th>MOEX Russia (IMOEX)</th>\n",
       "      <td>5</td>\n",
       "    </tr>\n",
       "    <tr>\n",
       "      <th>S&amp;P 500 (US500)</th>\n",
       "      <td>5</td>\n",
       "    </tr>\n",
       "    <tr>\n",
       "      <th>Shanghai_Composite (SSEC)</th>\n",
       "      <td>5</td>\n",
       "    </tr>\n",
       "    <tr>\n",
       "      <th>Nifty 50 (NSEI)</th>\n",
       "      <td>5</td>\n",
       "    </tr>\n",
       "    <tr>\n",
       "      <th>Nasdaq 100 (NDX)</th>\n",
       "      <td>5</td>\n",
       "    </tr>\n",
       "    <tr>\n",
       "      <th>Small Cap Index (SMLL)</th>\n",
       "      <td>5</td>\n",
       "    </tr>\n",
       "    <tr>\n",
       "      <th>NASDAQ Composite (IXIC)</th>\n",
       "      <td>5</td>\n",
       "    </tr>\n",
       "    <tr>\n",
       "      <th>Mid-Large Cap Index (MLCX)</th>\n",
       "      <td>5</td>\n",
       "    </tr>\n",
       "    <tr>\n",
       "      <th>SMI (SWI20)</th>\n",
       "      <td>5</td>\n",
       "    </tr>\n",
       "    <tr>\n",
       "      <th>S&amp;P Merval (MERV)</th>\n",
       "      <td>5</td>\n",
       "    </tr>\n",
       "    <tr>\n",
       "      <th>AEX (AEX)</th>\n",
       "      <td>5</td>\n",
       "    </tr>\n",
       "    <tr>\n",
       "      <th>Hang Seng (HK50)</th>\n",
       "      <td>5</td>\n",
       "    </tr>\n",
       "    <tr>\n",
       "      <th>BIST 100 (XU100)</th>\n",
       "      <td>5</td>\n",
       "    </tr>\n",
       "    <tr>\n",
       "      <th>BSE Sensex 30 (BSESN)</th>\n",
       "      <td>5</td>\n",
       "    </tr>\n",
       "    <tr>\n",
       "      <th>Bovespa (BVSP)</th>\n",
       "      <td>5</td>\n",
       "    </tr>\n",
       "    <tr>\n",
       "      <th>Bovespa Brazil 50 (IBX50)</th>\n",
       "      <td>5</td>\n",
       "    </tr>\n",
       "    <tr>\n",
       "      <th>Bovespa Tag Along (ITAG)</th>\n",
       "      <td>5</td>\n",
       "    </tr>\n",
       "    <tr>\n",
       "      <th>Brazil Index (IBRX)</th>\n",
       "      <td>5</td>\n",
       "    </tr>\n",
       "    <tr>\n",
       "      <th>IBEX 35 (ES35)</th>\n",
       "      <td>5</td>\n",
       "    </tr>\n",
       "    <tr>\n",
       "      <th>Brazil broad-Based (IBRA)</th>\n",
       "      <td>5</td>\n",
       "    </tr>\n",
       "    <tr>\n",
       "      <th>DAX (DE30)</th>\n",
       "      <td>5</td>\n",
       "    </tr>\n",
       "    <tr>\n",
       "      <th>Dow Jones Industrial Average (DJI)</th>\n",
       "      <td>5</td>\n",
       "    </tr>\n",
       "    <tr>\n",
       "      <th>EURO STOXX 50 (STOXX50)</th>\n",
       "      <td>5</td>\n",
       "    </tr>\n",
       "    <tr>\n",
       "      <th>EuroNext 100 (N100)</th>\n",
       "      <td>5</td>\n",
       "    </tr>\n",
       "    <tr>\n",
       "      <th>FTSE 100 (UK100)</th>\n",
       "      <td>5</td>\n",
       "    </tr>\n",
       "    <tr>\n",
       "      <th>FTSE MIB Futures (IT40)</th>\n",
       "      <td>5</td>\n",
       "    </tr>\n",
       "    <tr>\n",
       "      <th>CAC 40 (FCHI)</th>\n",
       "      <td>5</td>\n",
       "    </tr>\n",
       "    <tr>\n",
       "      <th>KOSPI (KS11)</th>\n",
       "      <td>5</td>\n",
       "    </tr>\n",
       "  </tbody>\n",
       "</table>\n",
       "</div>"
      ],
      "text/plain": [
       "                                    Close\n",
       "Market Indices                           \n",
       "NYSE Composite (NYA)                    3\n",
       "Tadawul All Share (TASI)                4\n",
       "Nikkei 225 (JP225)                      4\n",
       "S&P/ASX 200 (AXJO)                      4\n",
       "South Africa Top 40 (JTOPI)             4\n",
       "S&P/TSX Composite (GSPTSE)              5\n",
       "S&P/BMV IPC (MXX)                       5\n",
       "SZSE_Component (SZI)                    5\n",
       "MOEX Russia (IMOEX)                     5\n",
       "S&P 500 (US500)                         5\n",
       "Shanghai_Composite (SSEC)               5\n",
       "Nifty 50 (NSEI)                         5\n",
       "Nasdaq 100 (NDX)                        5\n",
       "Small Cap Index (SMLL)                  5\n",
       "NASDAQ Composite (IXIC)                 5\n",
       "Mid-Large Cap Index (MLCX)              5\n",
       "SMI (SWI20)                             5\n",
       "S&P Merval (MERV)                       5\n",
       "AEX (AEX)                               5\n",
       "Hang Seng (HK50)                        5\n",
       "BIST 100 (XU100)                        5\n",
       "BSE Sensex 30 (BSESN)                   5\n",
       "Bovespa (BVSP)                          5\n",
       "Bovespa Brazil 50 (IBX50)               5\n",
       "Bovespa Tag Along (ITAG)                5\n",
       "Brazil Index (IBRX)                     5\n",
       "IBEX 35 (ES35)                          5\n",
       "Brazil broad-Based (IBRA)               5\n",
       "DAX (DE30)                              5\n",
       "Dow Jones Industrial Average (DJI)      5\n",
       "EURO STOXX 50 (STOXX50)                 5\n",
       "EuroNext 100 (N100)                     5\n",
       "FTSE 100 (UK100)                        5\n",
       "FTSE MIB Futures (IT40)                 5\n",
       "CAC 40 (FCHI)                           5\n",
       "KOSPI (KS11)                            5"
      ]
     },
     "execution_count": 162,
     "metadata": {},
     "output_type": "execute_result"
    }
   ],
   "source": [
    "pivot_table_result_stocks_indices = pd.pivot_table(stocks_indices_data, values=\"Close\",index=[\"Market Indices\"], columns=[],aggfunc='count')\n",
    "pivot_table_result_stocks_indices.sort_values('Close',ascending=True)"
   ]
  },
  {
   "cell_type": "code",
   "execution_count": 163,
   "id": "2f9f318c",
   "metadata": {},
   "outputs": [
    {
     "data": {
      "text/html": [
       "<div>\n",
       "<style scoped>\n",
       "    .dataframe tbody tr th:only-of-type {\n",
       "        vertical-align: middle;\n",
       "    }\n",
       "\n",
       "    .dataframe tbody tr th {\n",
       "        vertical-align: top;\n",
       "    }\n",
       "\n",
       "    .dataframe thead th {\n",
       "        text-align: right;\n",
       "    }\n",
       "</style>\n",
       "<table border=\"1\" class=\"dataframe\">\n",
       "  <thead>\n",
       "    <tr style=\"text-align: right;\">\n",
       "      <th></th>\n",
       "      <th>Open_x</th>\n",
       "      <th>High_x</th>\n",
       "      <th>Low_x</th>\n",
       "      <th>Close_x</th>\n",
       "      <th>Volume_x</th>\n",
       "      <th>Change Pct_x</th>\n",
       "      <th>Market Indices</th>\n",
       "      <th>País_x</th>\n",
       "      <th>Open_y</th>\n",
       "      <th>High_y</th>\n",
       "      <th>Low_y</th>\n",
       "      <th>Close_y</th>\n",
       "      <th>Volume_y</th>\n",
       "      <th>Change Pct_y</th>\n",
       "      <th>País_y</th>\n",
       "      <th>Result_%</th>\n",
       "    </tr>\n",
       "  </thead>\n",
       "  <tbody>\n",
       "    <tr>\n",
       "      <th>0</th>\n",
       "      <td>111077.00</td>\n",
       "      <td>111155.00</td>\n",
       "      <td>109222.00</td>\n",
       "      <td>110685.00</td>\n",
       "      <td>11098277</td>\n",
       "      <td>-0.35</td>\n",
       "      <td>Bovespa (BVSP)</td>\n",
       "      <td>Brazil</td>\n",
       "      <td>109922.00</td>\n",
       "      <td>111819.00</td>\n",
       "      <td>107876.00</td>\n",
       "      <td>107876.00</td>\n",
       "      <td>13662160</td>\n",
       "      <td>-1.86</td>\n",
       "      <td>Brazil</td>\n",
       "      <td>-2.881785</td>\n",
       "    </tr>\n",
       "    <tr>\n",
       "      <th>1</th>\n",
       "      <td>18544.26</td>\n",
       "      <td>18544.26</td>\n",
       "      <td>18178.57</td>\n",
       "      <td>18418.18</td>\n",
       "      <td>0</td>\n",
       "      <td>-0.68</td>\n",
       "      <td>Bovespa Brazil 50 (IBX50)</td>\n",
       "      <td>Brazil</td>\n",
       "      <td>18400.48</td>\n",
       "      <td>18778.29</td>\n",
       "      <td>18087.40</td>\n",
       "      <td>18087.40</td>\n",
       "      <td>0</td>\n",
       "      <td>-1.70</td>\n",
       "      <td>Brazil</td>\n",
       "      <td>-2.463619</td>\n",
       "    </tr>\n",
       "    <tr>\n",
       "      <th>2</th>\n",
       "      <td>24671.94</td>\n",
       "      <td>24671.94</td>\n",
       "      <td>24212.45</td>\n",
       "      <td>24560.85</td>\n",
       "      <td>0</td>\n",
       "      <td>-0.45</td>\n",
       "      <td>Bovespa Tag Along (ITAG)</td>\n",
       "      <td>Brazil</td>\n",
       "      <td>24495.75</td>\n",
       "      <td>24912.68</td>\n",
       "      <td>24038.09</td>\n",
       "      <td>24039.14</td>\n",
       "      <td>0</td>\n",
       "      <td>-1.86</td>\n",
       "      <td>Brazil</td>\n",
       "      <td>-2.564857</td>\n",
       "    </tr>\n",
       "    <tr>\n",
       "      <th>3</th>\n",
       "      <td>4442.29</td>\n",
       "      <td>4447.95</td>\n",
       "      <td>4367.19</td>\n",
       "      <td>4430.17</td>\n",
       "      <td>0</td>\n",
       "      <td>-0.27</td>\n",
       "      <td>Brazil broad-Based (IBRA)</td>\n",
       "      <td>Brazil</td>\n",
       "      <td>4417.26</td>\n",
       "      <td>4490.94</td>\n",
       "      <td>4335.38</td>\n",
       "      <td>4335.38</td>\n",
       "      <td>0</td>\n",
       "      <td>-1.85</td>\n",
       "      <td>Brazil</td>\n",
       "      <td>-2.406642</td>\n",
       "    </tr>\n",
       "    <tr>\n",
       "      <th>4</th>\n",
       "      <td>47452.72</td>\n",
       "      <td>47473.35</td>\n",
       "      <td>46638.17</td>\n",
       "      <td>47271.55</td>\n",
       "      <td>0</td>\n",
       "      <td>-0.38</td>\n",
       "      <td>Brazil Index (IBRX)</td>\n",
       "      <td>Brazil</td>\n",
       "      <td>47076.75</td>\n",
       "      <td>47907.04</td>\n",
       "      <td>46211.94</td>\n",
       "      <td>46211.94</td>\n",
       "      <td>0</td>\n",
       "      <td>-1.83</td>\n",
       "      <td>Brazil</td>\n",
       "      <td>-2.614771</td>\n",
       "    </tr>\n",
       "    <tr>\n",
       "      <th>5</th>\n",
       "      <td>2193.22</td>\n",
       "      <td>2193.71</td>\n",
       "      <td>2156.14</td>\n",
       "      <td>2183.87</td>\n",
       "      <td>0</td>\n",
       "      <td>-0.43</td>\n",
       "      <td>Mid-Large Cap Index (MLCX)</td>\n",
       "      <td>Brazil</td>\n",
       "      <td>2176.32</td>\n",
       "      <td>2215.20</td>\n",
       "      <td>2136.90</td>\n",
       "      <td>2136.90</td>\n",
       "      <td>0</td>\n",
       "      <td>-1.81</td>\n",
       "      <td>Brazil</td>\n",
       "      <td>-2.567914</td>\n",
       "    </tr>\n",
       "    <tr>\n",
       "      <th>6</th>\n",
       "      <td>2339.08</td>\n",
       "      <td>2362.20</td>\n",
       "      <td>2300.00</td>\n",
       "      <td>2358.04</td>\n",
       "      <td>0</td>\n",
       "      <td>0.81</td>\n",
       "      <td>Small Cap Index (SMLL)</td>\n",
       "      <td>Brazil</td>\n",
       "      <td>2362.15</td>\n",
       "      <td>2404.78</td>\n",
       "      <td>2312.44</td>\n",
       "      <td>2312.44</td>\n",
       "      <td>0</td>\n",
       "      <td>-2.10</td>\n",
       "      <td>Brazil</td>\n",
       "      <td>-1.138909</td>\n",
       "    </tr>\n",
       "    <tr>\n",
       "      <th>7</th>\n",
       "      <td>4255.34</td>\n",
       "      <td>4299.02</td>\n",
       "      <td>4200.82</td>\n",
       "      <td>4296.12</td>\n",
       "      <td>0</td>\n",
       "      <td>0.57</td>\n",
       "      <td>S&amp;P 500 (US500)</td>\n",
       "      <td>United States</td>\n",
       "      <td>4253.75</td>\n",
       "      <td>4269.68</td>\n",
       "      <td>4124.28</td>\n",
       "      <td>4131.93</td>\n",
       "      <td>0</td>\n",
       "      <td>-3.63</td>\n",
       "      <td>United States</td>\n",
       "      <td>-2.900121</td>\n",
       "    </tr>\n",
       "    <tr>\n",
       "      <th>8</th>\n",
       "      <td>33672.80</td>\n",
       "      <td>34106.01</td>\n",
       "      <td>33323.45</td>\n",
       "      <td>34052.03</td>\n",
       "      <td>403595744</td>\n",
       "      <td>0.71</td>\n",
       "      <td>Dow Jones Industrial Average (DJI)</td>\n",
       "      <td>United States</td>\n",
       "      <td>33787.01</td>\n",
       "      <td>33917.56</td>\n",
       "      <td>32913.15</td>\n",
       "      <td>32978.52</td>\n",
       "      <td>470077920</td>\n",
       "      <td>-2.77</td>\n",
       "      <td>United States</td>\n",
       "      <td>-2.061842</td>\n",
       "    </tr>\n",
       "    <tr>\n",
       "      <th>9</th>\n",
       "      <td>16056.90</td>\n",
       "      <td>16079.20</td>\n",
       "      <td>15708.90</td>\n",
       "      <td>16054.80</td>\n",
       "      <td>0</td>\n",
       "      <td>-0.01</td>\n",
       "      <td>NYSE Composite (NYA)</td>\n",
       "      <td>United States</td>\n",
       "      <td>15741.80</td>\n",
       "      <td>16095.70</td>\n",
       "      <td>15706.00</td>\n",
       "      <td>16032.70</td>\n",
       "      <td>0</td>\n",
       "      <td>1.85</td>\n",
       "      <td>United States</td>\n",
       "      <td>-0.150714</td>\n",
       "    </tr>\n",
       "    <tr>\n",
       "      <th>10</th>\n",
       "      <td>12749.17</td>\n",
       "      <td>13011.45</td>\n",
       "      <td>12722.59</td>\n",
       "      <td>13004.85</td>\n",
       "      <td>988040000</td>\n",
       "      <td>1.29</td>\n",
       "      <td>NASDAQ Composite (IXIC)</td>\n",
       "      <td>United States</td>\n",
       "      <td>12710.42</td>\n",
       "      <td>12859.72</td>\n",
       "      <td>12315.74</td>\n",
       "      <td>12334.64</td>\n",
       "      <td>1085045376</td>\n",
       "      <td>-4.17</td>\n",
       "      <td>United States</td>\n",
       "      <td>-3.251427</td>\n",
       "    </tr>\n",
       "    <tr>\n",
       "      <th>11</th>\n",
       "      <td>13277.39</td>\n",
       "      <td>13540.93</td>\n",
       "      <td>13240.84</td>\n",
       "      <td>13533.22</td>\n",
       "      <td>247558704</td>\n",
       "      <td>1.32</td>\n",
       "      <td>Nasdaq 100 (NDX)</td>\n",
       "      <td>United States</td>\n",
       "      <td>13274.94</td>\n",
       "      <td>13426.18</td>\n",
       "      <td>12836.01</td>\n",
       "      <td>12854.80</td>\n",
       "      <td>318826112</td>\n",
       "      <td>-4.47</td>\n",
       "      <td>United States</td>\n",
       "      <td>-3.182779</td>\n",
       "    </tr>\n",
       "    <tr>\n",
       "      <th>12</th>\n",
       "      <td>20985.49</td>\n",
       "      <td>21074.67</td>\n",
       "      <td>20672.64</td>\n",
       "      <td>21011.89</td>\n",
       "      <td>317578432</td>\n",
       "      <td>-0.82</td>\n",
       "      <td>S&amp;P/TSX Composite (GSPTSE)</td>\n",
       "      <td>Canada</td>\n",
       "      <td>21036.16</td>\n",
       "      <td>21168.82</td>\n",
       "      <td>20753.85</td>\n",
       "      <td>20762.00</td>\n",
       "      <td>287097184</td>\n",
       "      <td>-1.70</td>\n",
       "      <td>Canada</td>\n",
       "      <td>-1.064974</td>\n",
       "    </tr>\n",
       "    <tr>\n",
       "      <th>13</th>\n",
       "      <td>53183.12</td>\n",
       "      <td>53183.12</td>\n",
       "      <td>52509.45</td>\n",
       "      <td>52640.83</td>\n",
       "      <td>183383008</td>\n",
       "      <td>-1.04</td>\n",
       "      <td>S&amp;P/BMV IPC (MXX)</td>\n",
       "      <td>Mexico</td>\n",
       "      <td>52502.50</td>\n",
       "      <td>52729.95</td>\n",
       "      <td>51317.92</td>\n",
       "      <td>51417.97</td>\n",
       "      <td>214867616</td>\n",
       "      <td>-2.27</td>\n",
       "      <td>Mexico</td>\n",
       "      <td>-3.319004</td>\n",
       "    </tr>\n",
       "    <tr>\n",
       "      <th>14</th>\n",
       "      <td>91792.35</td>\n",
       "      <td>91792.35</td>\n",
       "      <td>88790.18</td>\n",
       "      <td>91154.43</td>\n",
       "      <td>0</td>\n",
       "      <td>-0.61</td>\n",
       "      <td>S&amp;P Merval (MERV)</td>\n",
       "      <td>Argentina</td>\n",
       "      <td>90354.23</td>\n",
       "      <td>91371.15</td>\n",
       "      <td>88176.23</td>\n",
       "      <td>88250.97</td>\n",
       "      <td>0</td>\n",
       "      <td>-2.33</td>\n",
       "      <td>Argentina</td>\n",
       "      <td>-3.858034</td>\n",
       "    </tr>\n",
       "    <tr>\n",
       "      <th>15</th>\n",
       "      <td>3034.27</td>\n",
       "      <td>3043.82</td>\n",
       "      <td>2928.51</td>\n",
       "      <td>2928.51</td>\n",
       "      <td>43360600064</td>\n",
       "      <td>-5.13</td>\n",
       "      <td>Shanghai_Composite (SSEC)</td>\n",
       "      <td>China</td>\n",
       "      <td>2986.06</td>\n",
       "      <td>3048.49</td>\n",
       "      <td>2968.33</td>\n",
       "      <td>3047.55</td>\n",
       "      <td>418275</td>\n",
       "      <td>2.42</td>\n",
       "      <td>China</td>\n",
       "      <td>0.437667</td>\n",
       "    </tr>\n",
       "    <tr>\n",
       "      <th>16</th>\n",
       "      <td>10840.36</td>\n",
       "      <td>10866.64</td>\n",
       "      <td>10379.06</td>\n",
       "      <td>10379.28</td>\n",
       "      <td>15980810240</td>\n",
       "      <td>-6.08</td>\n",
       "      <td>SZSE_Component (SZI)</td>\n",
       "      <td>China</td>\n",
       "      <td>10719.45</td>\n",
       "      <td>11029.78</td>\n",
       "      <td>10631.14</td>\n",
       "      <td>11021.44</td>\n",
       "      <td>167381</td>\n",
       "      <td>3.69</td>\n",
       "      <td>China</td>\n",
       "      <td>1.670424</td>\n",
       "    </tr>\n",
       "    <tr>\n",
       "      <th>17</th>\n",
       "      <td>26692.48</td>\n",
       "      <td>26764.48</td>\n",
       "      <td>26487.84</td>\n",
       "      <td>26590.78</td>\n",
       "      <td>626818176</td>\n",
       "      <td>-1.90</td>\n",
       "      <td>Nikkei 225 (JP225)</td>\n",
       "      <td>Japan</td>\n",
       "      <td>26430.28</td>\n",
       "      <td>26876.95</td>\n",
       "      <td>26348.36</td>\n",
       "      <td>26847.90</td>\n",
       "      <td>0</td>\n",
       "      <td>1.75</td>\n",
       "      <td>Japan</td>\n",
       "      <td>0.582261</td>\n",
       "    </tr>\n",
       "    <tr>\n",
       "      <th>18</th>\n",
       "      <td>20638.52</td>\n",
       "      <td>20638.52</td>\n",
       "      <td>19784.28</td>\n",
       "      <td>19869.34</td>\n",
       "      <td>0</td>\n",
       "      <td>-3.73</td>\n",
       "      <td>Hang Seng (HK50)</td>\n",
       "      <td>Hong Kong</td>\n",
       "      <td>20271.40</td>\n",
       "      <td>21154.85</td>\n",
       "      <td>20042.85</td>\n",
       "      <td>21089.39</td>\n",
       "      <td>0</td>\n",
       "      <td>4.01</td>\n",
       "      <td>Hong Kong</td>\n",
       "      <td>2.184604</td>\n",
       "    </tr>\n",
       "    <tr>\n",
       "      <th>19</th>\n",
       "      <td>17006.10</td>\n",
       "      <td>17052.10</td>\n",
       "      <td>16889.75</td>\n",
       "      <td>16953.95</td>\n",
       "      <td>275571</td>\n",
       "      <td>-1.27</td>\n",
       "      <td>Nifty 50 (NSEI)</td>\n",
       "      <td>India</td>\n",
       "      <td>17329.15</td>\n",
       "      <td>17376.15</td>\n",
       "      <td>17054.90</td>\n",
       "      <td>17102.55</td>\n",
       "      <td>336142</td>\n",
       "      <td>-0.83</td>\n",
       "      <td>India</td>\n",
       "      <td>0.567149</td>\n",
       "    </tr>\n",
       "    <tr>\n",
       "      <th>20</th>\n",
       "      <td>56761.85</td>\n",
       "      <td>56875.65</td>\n",
       "      <td>56358.48</td>\n",
       "      <td>56579.89</td>\n",
       "      <td>7047</td>\n",
       "      <td>-1.08</td>\n",
       "      <td>BSE Sensex 30 (BSESN)</td>\n",
       "      <td>India</td>\n",
       "      <td>57817.51</td>\n",
       "      <td>57974.40</td>\n",
       "      <td>56904.21</td>\n",
       "      <td>57060.87</td>\n",
       "      <td>9502</td>\n",
       "      <td>-0.80</td>\n",
       "      <td>India</td>\n",
       "      <td>0.526797</td>\n",
       "    </tr>\n",
       "    <tr>\n",
       "      <th>21</th>\n",
       "      <td>13451.11</td>\n",
       "      <td>13543.25</td>\n",
       "      <td>13371.16</td>\n",
       "      <td>13543.25</td>\n",
       "      <td>181604000</td>\n",
       "      <td>0.60</td>\n",
       "      <td>Tadawul All Share (TASI)</td>\n",
       "      <td>Saudi Arabia</td>\n",
       "      <td>13708.73</td>\n",
       "      <td>13765.70</td>\n",
       "      <td>13652.95</td>\n",
       "      <td>13733.87</td>\n",
       "      <td>151722000</td>\n",
       "      <td>0.66</td>\n",
       "      <td>Saudi Arabia</td>\n",
       "      <td>2.102131</td>\n",
       "    </tr>\n",
       "    <tr>\n",
       "      <th>22</th>\n",
       "      <td>2676.67</td>\n",
       "      <td>2680.35</td>\n",
       "      <td>2657.04</td>\n",
       "      <td>2657.13</td>\n",
       "      <td>988351</td>\n",
       "      <td>-1.76</td>\n",
       "      <td>KOSPI (KS11)</td>\n",
       "      <td>South Korea</td>\n",
       "      <td>2669.18</td>\n",
       "      <td>2696.10</td>\n",
       "      <td>2664.06</td>\n",
       "      <td>2695.05</td>\n",
       "      <td>962395</td>\n",
       "      <td>1.03</td>\n",
       "      <td>South Korea</td>\n",
       "      <td>0.686674</td>\n",
       "    </tr>\n",
       "    <tr>\n",
       "      <th>23</th>\n",
       "      <td>1232.00</td>\n",
       "      <td>1244.04</td>\n",
       "      <td>1224.32</td>\n",
       "      <td>1230.52</td>\n",
       "      <td>216660000</td>\n",
       "      <td>-2.23</td>\n",
       "      <td>EuroNext 100 (N100)</td>\n",
       "      <td>Euro Zone</td>\n",
       "      <td>1237.83</td>\n",
       "      <td>1258.35</td>\n",
       "      <td>1237.83</td>\n",
       "      <td>1245.92</td>\n",
       "      <td>0</td>\n",
       "      <td>0.65</td>\n",
       "      <td>Euro Zone</td>\n",
       "      <td>1.129870</td>\n",
       "    </tr>\n",
       "    <tr>\n",
       "      <th>24</th>\n",
       "      <td>3826.96</td>\n",
       "      <td>3826.96</td>\n",
       "      <td>3739.67</td>\n",
       "      <td>3757.59</td>\n",
       "      <td>0</td>\n",
       "      <td>-2.15</td>\n",
       "      <td>EURO STOXX 50 (STOXX50)</td>\n",
       "      <td>Euro Zone</td>\n",
       "      <td>3785.58</td>\n",
       "      <td>3833.89</td>\n",
       "      <td>3785.58</td>\n",
       "      <td>3802.86</td>\n",
       "      <td>35628500</td>\n",
       "      <td>0.68</td>\n",
       "      <td>Euro Zone</td>\n",
       "      <td>-0.629743</td>\n",
       "    </tr>\n",
       "    <tr>\n",
       "      <th>25</th>\n",
       "      <td>13908.05</td>\n",
       "      <td>14037.63</td>\n",
       "      <td>13863.39</td>\n",
       "      <td>13924.17</td>\n",
       "      <td>85275000</td>\n",
       "      <td>-1.54</td>\n",
       "      <td>DAX (DE30)</td>\n",
       "      <td>Germany</td>\n",
       "      <td>14095.93</td>\n",
       "      <td>14187.02</td>\n",
       "      <td>14038.55</td>\n",
       "      <td>14097.88</td>\n",
       "      <td>0</td>\n",
       "      <td>0.84</td>\n",
       "      <td>Germany</td>\n",
       "      <td>1.364893</td>\n",
       "    </tr>\n",
       "    <tr>\n",
       "      <th>26</th>\n",
       "      <td>7521.68</td>\n",
       "      <td>7521.68</td>\n",
       "      <td>7339.53</td>\n",
       "      <td>7380.54</td>\n",
       "      <td>739449984</td>\n",
       "      <td>-1.88</td>\n",
       "      <td>FTSE 100 (UK100)</td>\n",
       "      <td>United Kingdom</td>\n",
       "      <td>7509.19</td>\n",
       "      <td>7569.80</td>\n",
       "      <td>7509.19</td>\n",
       "      <td>7544.55</td>\n",
       "      <td>0</td>\n",
       "      <td>0.47</td>\n",
       "      <td>United Kingdom</td>\n",
       "      <td>0.304054</td>\n",
       "    </tr>\n",
       "    <tr>\n",
       "      <th>27</th>\n",
       "      <td>6450.90</td>\n",
       "      <td>6512.26</td>\n",
       "      <td>6408.71</td>\n",
       "      <td>6449.38</td>\n",
       "      <td>94933200</td>\n",
       "      <td>-2.01</td>\n",
       "      <td>CAC 40 (FCHI)</td>\n",
       "      <td>France</td>\n",
       "      <td>6557.66</td>\n",
       "      <td>6601.15</td>\n",
       "      <td>6514.10</td>\n",
       "      <td>6533.77</td>\n",
       "      <td>83799400</td>\n",
       "      <td>0.39</td>\n",
       "      <td>France</td>\n",
       "      <td>1.284627</td>\n",
       "    </tr>\n",
       "    <tr>\n",
       "      <th>28</th>\n",
       "      <td>23600.00</td>\n",
       "      <td>23895.00</td>\n",
       "      <td>23375.00</td>\n",
       "      <td>23571.00</td>\n",
       "      <td>23839</td>\n",
       "      <td>-1.45</td>\n",
       "      <td>FTSE MIB Futures (IT40)</td>\n",
       "      <td>Italy</td>\n",
       "      <td>23945.00</td>\n",
       "      <td>24075.00</td>\n",
       "      <td>23525.00</td>\n",
       "      <td>23530.00</td>\n",
       "      <td>0</td>\n",
       "      <td>-0.68</td>\n",
       "      <td>Italy</td>\n",
       "      <td>-0.296610</td>\n",
       "    </tr>\n",
       "    <tr>\n",
       "      <th>29</th>\n",
       "      <td>2236.32</td>\n",
       "      <td>2237.45</td>\n",
       "      <td>2168.18</td>\n",
       "      <td>2186.22</td>\n",
       "      <td>0</td>\n",
       "      <td>-2.06</td>\n",
       "      <td>MOEX Russia (IMOEX)</td>\n",
       "      <td>Russia</td>\n",
       "      <td>2390.83</td>\n",
       "      <td>2448.50</td>\n",
       "      <td>2390.83</td>\n",
       "      <td>2445.17</td>\n",
       "      <td>0</td>\n",
       "      <td>2.58</td>\n",
       "      <td>Russia</td>\n",
       "      <td>9.339003</td>\n",
       "    </tr>\n",
       "    <tr>\n",
       "      <th>30</th>\n",
       "      <td>8535.60</td>\n",
       "      <td>8656.10</td>\n",
       "      <td>8511.10</td>\n",
       "      <td>8574.60</td>\n",
       "      <td>189832992</td>\n",
       "      <td>-0.90</td>\n",
       "      <td>IBEX 35 (ES35)</td>\n",
       "      <td>Spain</td>\n",
       "      <td>8572.10</td>\n",
       "      <td>8617.30</td>\n",
       "      <td>8526.00</td>\n",
       "      <td>8584.20</td>\n",
       "      <td>0</td>\n",
       "      <td>0.85</td>\n",
       "      <td>Spain</td>\n",
       "      <td>0.569380</td>\n",
       "    </tr>\n",
       "    <tr>\n",
       "      <th>31</th>\n",
       "      <td>700.95</td>\n",
       "      <td>708.39</td>\n",
       "      <td>696.33</td>\n",
       "      <td>699.17</td>\n",
       "      <td>95728000</td>\n",
       "      <td>-2.52</td>\n",
       "      <td>AEX (AEX)</td>\n",
       "      <td>Netherlands</td>\n",
       "      <td>712.39</td>\n",
       "      <td>719.10</td>\n",
       "      <td>709.04</td>\n",
       "      <td>710.98</td>\n",
       "      <td>84537000</td>\n",
       "      <td>0.72</td>\n",
       "      <td>Netherlands</td>\n",
       "      <td>1.430915</td>\n",
       "    </tr>\n",
       "    <tr>\n",
       "      <th>32</th>\n",
       "      <td>12046.01</td>\n",
       "      <td>12169.64</td>\n",
       "      <td>12029.55</td>\n",
       "      <td>12084.98</td>\n",
       "      <td>49123000</td>\n",
       "      <td>-1.41</td>\n",
       "      <td>SMI (SWI20)</td>\n",
       "      <td>Switzerland</td>\n",
       "      <td>12134.14</td>\n",
       "      <td>12219.51</td>\n",
       "      <td>12117.56</td>\n",
       "      <td>12128.76</td>\n",
       "      <td>0</td>\n",
       "      <td>0.50</td>\n",
       "      <td>Switzerland</td>\n",
       "      <td>0.686949</td>\n",
       "    </tr>\n",
       "    <tr>\n",
       "      <th>33</th>\n",
       "      <td>2472.50</td>\n",
       "      <td>2498.77</td>\n",
       "      <td>2428.65</td>\n",
       "      <td>2482.60</td>\n",
       "      <td>4142991616</td>\n",
       "      <td>0.41</td>\n",
       "      <td>BIST 100 (XU100)</td>\n",
       "      <td>Turkey</td>\n",
       "      <td>2428.42</td>\n",
       "      <td>2442.60</td>\n",
       "      <td>2405.08</td>\n",
       "      <td>2430.55</td>\n",
       "      <td>2974407424</td>\n",
       "      <td>0.09</td>\n",
       "      <td>Turkey</td>\n",
       "      <td>-1.696663</td>\n",
       "    </tr>\n",
       "    <tr>\n",
       "      <th>34</th>\n",
       "      <td>7473.30</td>\n",
       "      <td>7473.30</td>\n",
       "      <td>7290.80</td>\n",
       "      <td>7318.00</td>\n",
       "      <td>832284992</td>\n",
       "      <td>-2.08</td>\n",
       "      <td>S&amp;P/ASX 200 (AXJO)</td>\n",
       "      <td>Australia</td>\n",
       "      <td>7356.90</td>\n",
       "      <td>7427.20</td>\n",
       "      <td>7356.90</td>\n",
       "      <td>7423.50</td>\n",
       "      <td>510279616</td>\n",
       "      <td>0.91</td>\n",
       "      <td>Australia</td>\n",
       "      <td>-0.666372</td>\n",
       "    </tr>\n",
       "    <tr>\n",
       "      <th>35</th>\n",
       "      <td>65385.48</td>\n",
       "      <td>65403.54</td>\n",
       "      <td>62864.14</td>\n",
       "      <td>62895.89</td>\n",
       "      <td>166871648</td>\n",
       "      <td>-3.81</td>\n",
       "      <td>South Africa Top 40 (JTOPI)</td>\n",
       "      <td>South Africa</td>\n",
       "      <td>64551.99</td>\n",
       "      <td>66128.11</td>\n",
       "      <td>64551.99</td>\n",
       "      <td>65475.55</td>\n",
       "      <td>146576368</td>\n",
       "      <td>1.43</td>\n",
       "      <td>South Africa</td>\n",
       "      <td>0.137752</td>\n",
       "    </tr>\n",
       "  </tbody>\n",
       "</table>\n",
       "</div>"
      ],
      "text/plain": [
       "       Open_x     High_x      Low_x    Close_x     Volume_x  Change Pct_x  \\\n",
       "0   111077.00  111155.00  109222.00  110685.00     11098277         -0.35   \n",
       "1    18544.26   18544.26   18178.57   18418.18            0         -0.68   \n",
       "2    24671.94   24671.94   24212.45   24560.85            0         -0.45   \n",
       "3     4442.29    4447.95    4367.19    4430.17            0         -0.27   \n",
       "4    47452.72   47473.35   46638.17   47271.55            0         -0.38   \n",
       "5     2193.22    2193.71    2156.14    2183.87            0         -0.43   \n",
       "6     2339.08    2362.20    2300.00    2358.04            0          0.81   \n",
       "7     4255.34    4299.02    4200.82    4296.12            0          0.57   \n",
       "8    33672.80   34106.01   33323.45   34052.03    403595744          0.71   \n",
       "9    16056.90   16079.20   15708.90   16054.80            0         -0.01   \n",
       "10   12749.17   13011.45   12722.59   13004.85    988040000          1.29   \n",
       "11   13277.39   13540.93   13240.84   13533.22    247558704          1.32   \n",
       "12   20985.49   21074.67   20672.64   21011.89    317578432         -0.82   \n",
       "13   53183.12   53183.12   52509.45   52640.83    183383008         -1.04   \n",
       "14   91792.35   91792.35   88790.18   91154.43            0         -0.61   \n",
       "15    3034.27    3043.82    2928.51    2928.51  43360600064         -5.13   \n",
       "16   10840.36   10866.64   10379.06   10379.28  15980810240         -6.08   \n",
       "17   26692.48   26764.48   26487.84   26590.78    626818176         -1.90   \n",
       "18   20638.52   20638.52   19784.28   19869.34            0         -3.73   \n",
       "19   17006.10   17052.10   16889.75   16953.95       275571         -1.27   \n",
       "20   56761.85   56875.65   56358.48   56579.89         7047         -1.08   \n",
       "21   13451.11   13543.25   13371.16   13543.25    181604000          0.60   \n",
       "22    2676.67    2680.35    2657.04    2657.13       988351         -1.76   \n",
       "23    1232.00    1244.04    1224.32    1230.52    216660000         -2.23   \n",
       "24    3826.96    3826.96    3739.67    3757.59            0         -2.15   \n",
       "25   13908.05   14037.63   13863.39   13924.17     85275000         -1.54   \n",
       "26    7521.68    7521.68    7339.53    7380.54    739449984         -1.88   \n",
       "27    6450.90    6512.26    6408.71    6449.38     94933200         -2.01   \n",
       "28   23600.00   23895.00   23375.00   23571.00        23839         -1.45   \n",
       "29    2236.32    2237.45    2168.18    2186.22            0         -2.06   \n",
       "30    8535.60    8656.10    8511.10    8574.60    189832992         -0.90   \n",
       "31     700.95     708.39     696.33     699.17     95728000         -2.52   \n",
       "32   12046.01   12169.64   12029.55   12084.98     49123000         -1.41   \n",
       "33    2472.50    2498.77    2428.65    2482.60   4142991616          0.41   \n",
       "34    7473.30    7473.30    7290.80    7318.00    832284992         -2.08   \n",
       "35   65385.48   65403.54   62864.14   62895.89    166871648         -3.81   \n",
       "\n",
       "                        Market Indices          País_x     Open_y     High_y  \\\n",
       "0                       Bovespa (BVSP)          Brazil  109922.00  111819.00   \n",
       "1            Bovespa Brazil 50 (IBX50)          Brazil   18400.48   18778.29   \n",
       "2             Bovespa Tag Along (ITAG)          Brazil   24495.75   24912.68   \n",
       "3            Brazil broad-Based (IBRA)          Brazil    4417.26    4490.94   \n",
       "4                  Brazil Index (IBRX)          Brazil   47076.75   47907.04   \n",
       "5           Mid-Large Cap Index (MLCX)          Brazil    2176.32    2215.20   \n",
       "6               Small Cap Index (SMLL)          Brazil    2362.15    2404.78   \n",
       "7                      S&P 500 (US500)   United States    4253.75    4269.68   \n",
       "8   Dow Jones Industrial Average (DJI)   United States   33787.01   33917.56   \n",
       "9                 NYSE Composite (NYA)   United States   15741.80   16095.70   \n",
       "10             NASDAQ Composite (IXIC)   United States   12710.42   12859.72   \n",
       "11                    Nasdaq 100 (NDX)   United States   13274.94   13426.18   \n",
       "12          S&P/TSX Composite (GSPTSE)          Canada   21036.16   21168.82   \n",
       "13                   S&P/BMV IPC (MXX)          Mexico   52502.50   52729.95   \n",
       "14                   S&P Merval (MERV)       Argentina   90354.23   91371.15   \n",
       "15           Shanghai_Composite (SSEC)           China    2986.06    3048.49   \n",
       "16                SZSE_Component (SZI)           China   10719.45   11029.78   \n",
       "17                  Nikkei 225 (JP225)           Japan   26430.28   26876.95   \n",
       "18                    Hang Seng (HK50)       Hong Kong   20271.40   21154.85   \n",
       "19                     Nifty 50 (NSEI)           India   17329.15   17376.15   \n",
       "20               BSE Sensex 30 (BSESN)           India   57817.51   57974.40   \n",
       "21            Tadawul All Share (TASI)    Saudi Arabia   13708.73   13765.70   \n",
       "22                        KOSPI (KS11)     South Korea    2669.18    2696.10   \n",
       "23                 EuroNext 100 (N100)       Euro Zone    1237.83    1258.35   \n",
       "24             EURO STOXX 50 (STOXX50)       Euro Zone    3785.58    3833.89   \n",
       "25                          DAX (DE30)         Germany   14095.93   14187.02   \n",
       "26                    FTSE 100 (UK100)  United Kingdom    7509.19    7569.80   \n",
       "27                       CAC 40 (FCHI)          France    6557.66    6601.15   \n",
       "28             FTSE MIB Futures (IT40)           Italy   23945.00   24075.00   \n",
       "29                 MOEX Russia (IMOEX)          Russia    2390.83    2448.50   \n",
       "30                      IBEX 35 (ES35)           Spain    8572.10    8617.30   \n",
       "31                           AEX (AEX)     Netherlands     712.39     719.10   \n",
       "32                         SMI (SWI20)     Switzerland   12134.14   12219.51   \n",
       "33                    BIST 100 (XU100)          Turkey    2428.42    2442.60   \n",
       "34                  S&P/ASX 200 (AXJO)       Australia    7356.90    7427.20   \n",
       "35         South Africa Top 40 (JTOPI)    South Africa   64551.99   66128.11   \n",
       "\n",
       "        Low_y    Close_y    Volume_y  Change Pct_y          País_y  Result_%  \n",
       "0   107876.00  107876.00    13662160         -1.86          Brazil -2.881785  \n",
       "1    18087.40   18087.40           0         -1.70          Brazil -2.463619  \n",
       "2    24038.09   24039.14           0         -1.86          Brazil -2.564857  \n",
       "3     4335.38    4335.38           0         -1.85          Brazil -2.406642  \n",
       "4    46211.94   46211.94           0         -1.83          Brazil -2.614771  \n",
       "5     2136.90    2136.90           0         -1.81          Brazil -2.567914  \n",
       "6     2312.44    2312.44           0         -2.10          Brazil -1.138909  \n",
       "7     4124.28    4131.93           0         -3.63   United States -2.900121  \n",
       "8    32913.15   32978.52   470077920         -2.77   United States -2.061842  \n",
       "9    15706.00   16032.70           0          1.85   United States -0.150714  \n",
       "10   12315.74   12334.64  1085045376         -4.17   United States -3.251427  \n",
       "11   12836.01   12854.80   318826112         -4.47   United States -3.182779  \n",
       "12   20753.85   20762.00   287097184         -1.70          Canada -1.064974  \n",
       "13   51317.92   51417.97   214867616         -2.27          Mexico -3.319004  \n",
       "14   88176.23   88250.97           0         -2.33       Argentina -3.858034  \n",
       "15    2968.33    3047.55      418275          2.42           China  0.437667  \n",
       "16   10631.14   11021.44      167381          3.69           China  1.670424  \n",
       "17   26348.36   26847.90           0          1.75           Japan  0.582261  \n",
       "18   20042.85   21089.39           0          4.01       Hong Kong  2.184604  \n",
       "19   17054.90   17102.55      336142         -0.83           India  0.567149  \n",
       "20   56904.21   57060.87        9502         -0.80           India  0.526797  \n",
       "21   13652.95   13733.87   151722000          0.66    Saudi Arabia  2.102131  \n",
       "22    2664.06    2695.05      962395          1.03     South Korea  0.686674  \n",
       "23    1237.83    1245.92           0          0.65       Euro Zone  1.129870  \n",
       "24    3785.58    3802.86    35628500          0.68       Euro Zone -0.629743  \n",
       "25   14038.55   14097.88           0          0.84         Germany  1.364893  \n",
       "26    7509.19    7544.55           0          0.47  United Kingdom  0.304054  \n",
       "27    6514.10    6533.77    83799400          0.39          France  1.284627  \n",
       "28   23525.00   23530.00           0         -0.68           Italy -0.296610  \n",
       "29    2390.83    2445.17           0          2.58          Russia  9.339003  \n",
       "30    8526.00    8584.20           0          0.85           Spain  0.569380  \n",
       "31     709.04     710.98    84537000          0.72     Netherlands  1.430915  \n",
       "32   12117.56   12128.76           0          0.50     Switzerland  0.686949  \n",
       "33    2405.08    2430.55  2974407424          0.09          Turkey -1.696663  \n",
       "34    7356.90    7423.50   510279616          0.91       Australia -0.666372  \n",
       "35   64551.99   65475.55   146576368          1.43    South Africa  0.137752  "
      ]
     },
     "execution_count": 163,
     "metadata": {},
     "output_type": "execute_result"
    }
   ],
   "source": [
    "open_stocks = stocks_indices_data.drop_duplicates(subset=['Market Indices'], keep='first')\n",
    "close_stocks = stocks_indices_data.drop_duplicates(subset=['Market Indices'], keep='last')\n",
    "df_stocks_result = pd.merge(open_stocks, close_stocks,on ='Market Indices',how ='inner')\n",
    "df_stocks_result['Result_%'] = (df_stocks_result['Close_y'] - df_stocks_result['Open_x'])/df_stocks_result['Open_x']*100\n",
    "df_stocks_result"
   ]
  },
  {
   "cell_type": "code",
   "execution_count": 164,
   "id": "9f470236",
   "metadata": {},
   "outputs": [
    {
     "data": {
      "text/html": [
       "<style type=\"text/css\">\n",
       "#T_8cc32_row0_col4, #T_8cc32_row7_col4 {\n",
       "  background-color: #c96b53;\n",
       "  color: #f1f1f1;\n",
       "}\n",
       "#T_8cc32_row1_col4 {\n",
       "  background-color: #cd7660;\n",
       "  color: #f1f1f1;\n",
       "}\n",
       "#T_8cc32_row2_col4, #T_8cc32_row5_col4 {\n",
       "  background-color: #cc745d;\n",
       "  color: #f1f1f1;\n",
       "}\n",
       "#T_8cc32_row3_col4 {\n",
       "  background-color: #cd7862;\n",
       "  color: #f1f1f1;\n",
       "}\n",
       "#T_8cc32_row4_col4 {\n",
       "  background-color: #cc735c;\n",
       "  color: #f1f1f1;\n",
       "}\n",
       "#T_8cc32_row6_col4 {\n",
       "  background-color: #d69584;\n",
       "  color: #f1f1f1;\n",
       "}\n",
       "#T_8cc32_row8_col4 {\n",
       "  background-color: #cf7f6a;\n",
       "  color: #f1f1f1;\n",
       "}\n",
       "#T_8cc32_row9_col4 {\n",
       "  background-color: #ddada0;\n",
       "  color: #000000;\n",
       "}\n",
       "#T_8cc32_row10_col4 {\n",
       "  background-color: #c76349;\n",
       "  color: #f1f1f1;\n",
       "}\n",
       "#T_8cc32_row11_col4 {\n",
       "  background-color: #c8654c;\n",
       "  color: #f1f1f1;\n",
       "}\n",
       "#T_8cc32_row12_col4 {\n",
       "  background-color: #d79787;\n",
       "  color: #f1f1f1;\n",
       "}\n",
       "#T_8cc32_row13_col4 {\n",
       "  background-color: #c66248;\n",
       "  color: #f1f1f1;\n",
       "}\n",
       "#T_8cc32_row14_col4 {\n",
       "  background-color: #c3553a;\n",
       "  color: #f1f1f1;\n",
       "}\n",
       "#T_8cc32_row15_col4 {\n",
       "  background-color: #e2bbb1;\n",
       "  color: #000000;\n",
       "}\n",
       "#T_8cc32_row16_col4 {\n",
       "  background-color: #ebd8d4;\n",
       "  color: #000000;\n",
       "}\n",
       "#T_8cc32_row17_col4 {\n",
       "  background-color: #e3bfb6;\n",
       "  color: #000000;\n",
       "}\n",
       "#T_8cc32_row18_col4 {\n",
       "  background-color: #efe5e2;\n",
       "  color: #000000;\n",
       "}\n",
       "#T_8cc32_row19_col4, #T_8cc32_row20_col4, #T_8cc32_row30_col4 {\n",
       "  background-color: #e3beb4;\n",
       "  color: #000000;\n",
       "}\n",
       "#T_8cc32_row21_col4 {\n",
       "  background-color: #eee2df;\n",
       "  color: #000000;\n",
       "}\n",
       "#T_8cc32_row22_col4, #T_8cc32_row32_col4 {\n",
       "  background-color: #e4c1b9;\n",
       "  color: #000000;\n",
       "}\n",
       "#T_8cc32_row23_col4 {\n",
       "  background-color: #e7cbc4;\n",
       "  color: #000000;\n",
       "}\n",
       "#T_8cc32_row24_col4 {\n",
       "  background-color: #daa193;\n",
       "  color: #000000;\n",
       "}\n",
       "#T_8cc32_row25_col4 {\n",
       "  background-color: #e9d1cb;\n",
       "  color: #000000;\n",
       "}\n",
       "#T_8cc32_row26_col4 {\n",
       "  background-color: #e1b7ad;\n",
       "  color: #000000;\n",
       "}\n",
       "#T_8cc32_row27_col4 {\n",
       "  background-color: #e8cfc8;\n",
       "  color: #000000;\n",
       "}\n",
       "#T_8cc32_row28_col4 {\n",
       "  background-color: #ddaa9d;\n",
       "  color: #000000;\n",
       "}\n",
       "#T_8cc32_row29_col4 {\n",
       "  background-color: #398641;\n",
       "  color: #f1f1f1;\n",
       "}\n",
       "#T_8cc32_row31_col4 {\n",
       "  background-color: #e9d2cd;\n",
       "  color: #000000;\n",
       "}\n",
       "#T_8cc32_row33_col4 {\n",
       "  background-color: #d28774;\n",
       "  color: #f1f1f1;\n",
       "}\n",
       "#T_8cc32_row34_col4 {\n",
       "  background-color: #daa091;\n",
       "  color: #000000;\n",
       "}\n",
       "#T_8cc32_row35_col4 {\n",
       "  background-color: #e0b4a9;\n",
       "  color: #000000;\n",
       "}\n",
       "</style>\n",
       "<table id=\"T_8cc32_\">\n",
       "  <thead>\n",
       "    <tr>\n",
       "      <th class=\"blank level0\" >&nbsp;</th>\n",
       "      <th class=\"col_heading level0 col0\" >País</th>\n",
       "      <th class=\"col_heading level0 col1\" >Market Index</th>\n",
       "      <th class=\"col_heading level0 col2\" >Abertura</th>\n",
       "      <th class=\"col_heading level0 col3\" >Fechamento</th>\n",
       "      <th class=\"col_heading level0 col4\" >Result_%</th>\n",
       "    </tr>\n",
       "  </thead>\n",
       "  <tbody>\n",
       "    <tr>\n",
       "      <th id=\"T_8cc32_level0_row0\" class=\"row_heading level0 row0\" >0</th>\n",
       "      <td id=\"T_8cc32_row0_col0\" class=\"data row0 col0\" >Brazil</td>\n",
       "      <td id=\"T_8cc32_row0_col1\" class=\"data row0 col1\" >Bovespa (BVSP)</td>\n",
       "      <td id=\"T_8cc32_row0_col2\" class=\"data row0 col2\" >111077.00</td>\n",
       "      <td id=\"T_8cc32_row0_col3\" class=\"data row0 col3\" >107876.00</td>\n",
       "      <td id=\"T_8cc32_row0_col4\" class=\"data row0 col4\" >-2.88</td>\n",
       "    </tr>\n",
       "    <tr>\n",
       "      <th id=\"T_8cc32_level0_row1\" class=\"row_heading level0 row1\" >1</th>\n",
       "      <td id=\"T_8cc32_row1_col0\" class=\"data row1 col0\" >Brazil</td>\n",
       "      <td id=\"T_8cc32_row1_col1\" class=\"data row1 col1\" >Bovespa Brazil 50 (IBX50)</td>\n",
       "      <td id=\"T_8cc32_row1_col2\" class=\"data row1 col2\" >18544.26</td>\n",
       "      <td id=\"T_8cc32_row1_col3\" class=\"data row1 col3\" >18087.40</td>\n",
       "      <td id=\"T_8cc32_row1_col4\" class=\"data row1 col4\" >-2.46</td>\n",
       "    </tr>\n",
       "    <tr>\n",
       "      <th id=\"T_8cc32_level0_row2\" class=\"row_heading level0 row2\" >2</th>\n",
       "      <td id=\"T_8cc32_row2_col0\" class=\"data row2 col0\" >Brazil</td>\n",
       "      <td id=\"T_8cc32_row2_col1\" class=\"data row2 col1\" >Bovespa Tag Along (ITAG)</td>\n",
       "      <td id=\"T_8cc32_row2_col2\" class=\"data row2 col2\" >24671.94</td>\n",
       "      <td id=\"T_8cc32_row2_col3\" class=\"data row2 col3\" >24039.14</td>\n",
       "      <td id=\"T_8cc32_row2_col4\" class=\"data row2 col4\" >-2.56</td>\n",
       "    </tr>\n",
       "    <tr>\n",
       "      <th id=\"T_8cc32_level0_row3\" class=\"row_heading level0 row3\" >3</th>\n",
       "      <td id=\"T_8cc32_row3_col0\" class=\"data row3 col0\" >Brazil</td>\n",
       "      <td id=\"T_8cc32_row3_col1\" class=\"data row3 col1\" >Brazil broad-Based (IBRA)</td>\n",
       "      <td id=\"T_8cc32_row3_col2\" class=\"data row3 col2\" >4442.29</td>\n",
       "      <td id=\"T_8cc32_row3_col3\" class=\"data row3 col3\" >4335.38</td>\n",
       "      <td id=\"T_8cc32_row3_col4\" class=\"data row3 col4\" >-2.41</td>\n",
       "    </tr>\n",
       "    <tr>\n",
       "      <th id=\"T_8cc32_level0_row4\" class=\"row_heading level0 row4\" >4</th>\n",
       "      <td id=\"T_8cc32_row4_col0\" class=\"data row4 col0\" >Brazil</td>\n",
       "      <td id=\"T_8cc32_row4_col1\" class=\"data row4 col1\" >Brazil Index (IBRX)</td>\n",
       "      <td id=\"T_8cc32_row4_col2\" class=\"data row4 col2\" >47452.72</td>\n",
       "      <td id=\"T_8cc32_row4_col3\" class=\"data row4 col3\" >46211.94</td>\n",
       "      <td id=\"T_8cc32_row4_col4\" class=\"data row4 col4\" >-2.61</td>\n",
       "    </tr>\n",
       "    <tr>\n",
       "      <th id=\"T_8cc32_level0_row5\" class=\"row_heading level0 row5\" >5</th>\n",
       "      <td id=\"T_8cc32_row5_col0\" class=\"data row5 col0\" >Brazil</td>\n",
       "      <td id=\"T_8cc32_row5_col1\" class=\"data row5 col1\" >Mid-Large Cap Index (MLCX)</td>\n",
       "      <td id=\"T_8cc32_row5_col2\" class=\"data row5 col2\" >2193.22</td>\n",
       "      <td id=\"T_8cc32_row5_col3\" class=\"data row5 col3\" >2136.90</td>\n",
       "      <td id=\"T_8cc32_row5_col4\" class=\"data row5 col4\" >-2.57</td>\n",
       "    </tr>\n",
       "    <tr>\n",
       "      <th id=\"T_8cc32_level0_row6\" class=\"row_heading level0 row6\" >6</th>\n",
       "      <td id=\"T_8cc32_row6_col0\" class=\"data row6 col0\" >Brazil</td>\n",
       "      <td id=\"T_8cc32_row6_col1\" class=\"data row6 col1\" >Small Cap Index (SMLL)</td>\n",
       "      <td id=\"T_8cc32_row6_col2\" class=\"data row6 col2\" >2339.08</td>\n",
       "      <td id=\"T_8cc32_row6_col3\" class=\"data row6 col3\" >2312.44</td>\n",
       "      <td id=\"T_8cc32_row6_col4\" class=\"data row6 col4\" >-1.14</td>\n",
       "    </tr>\n",
       "    <tr>\n",
       "      <th id=\"T_8cc32_level0_row7\" class=\"row_heading level0 row7\" >7</th>\n",
       "      <td id=\"T_8cc32_row7_col0\" class=\"data row7 col0\" >United States</td>\n",
       "      <td id=\"T_8cc32_row7_col1\" class=\"data row7 col1\" >S&P 500 (US500)</td>\n",
       "      <td id=\"T_8cc32_row7_col2\" class=\"data row7 col2\" >4255.34</td>\n",
       "      <td id=\"T_8cc32_row7_col3\" class=\"data row7 col3\" >4131.93</td>\n",
       "      <td id=\"T_8cc32_row7_col4\" class=\"data row7 col4\" >-2.90</td>\n",
       "    </tr>\n",
       "    <tr>\n",
       "      <th id=\"T_8cc32_level0_row8\" class=\"row_heading level0 row8\" >8</th>\n",
       "      <td id=\"T_8cc32_row8_col0\" class=\"data row8 col0\" >United States</td>\n",
       "      <td id=\"T_8cc32_row8_col1\" class=\"data row8 col1\" >Dow Jones Industrial Average (DJI)</td>\n",
       "      <td id=\"T_8cc32_row8_col2\" class=\"data row8 col2\" >33672.80</td>\n",
       "      <td id=\"T_8cc32_row8_col3\" class=\"data row8 col3\" >32978.52</td>\n",
       "      <td id=\"T_8cc32_row8_col4\" class=\"data row8 col4\" >-2.06</td>\n",
       "    </tr>\n",
       "    <tr>\n",
       "      <th id=\"T_8cc32_level0_row9\" class=\"row_heading level0 row9\" >9</th>\n",
       "      <td id=\"T_8cc32_row9_col0\" class=\"data row9 col0\" >United States</td>\n",
       "      <td id=\"T_8cc32_row9_col1\" class=\"data row9 col1\" >NYSE Composite (NYA)</td>\n",
       "      <td id=\"T_8cc32_row9_col2\" class=\"data row9 col2\" >16056.90</td>\n",
       "      <td id=\"T_8cc32_row9_col3\" class=\"data row9 col3\" >16032.70</td>\n",
       "      <td id=\"T_8cc32_row9_col4\" class=\"data row9 col4\" >-0.15</td>\n",
       "    </tr>\n",
       "    <tr>\n",
       "      <th id=\"T_8cc32_level0_row10\" class=\"row_heading level0 row10\" >10</th>\n",
       "      <td id=\"T_8cc32_row10_col0\" class=\"data row10 col0\" >United States</td>\n",
       "      <td id=\"T_8cc32_row10_col1\" class=\"data row10 col1\" >NASDAQ Composite (IXIC)</td>\n",
       "      <td id=\"T_8cc32_row10_col2\" class=\"data row10 col2\" >12749.17</td>\n",
       "      <td id=\"T_8cc32_row10_col3\" class=\"data row10 col3\" >12334.64</td>\n",
       "      <td id=\"T_8cc32_row10_col4\" class=\"data row10 col4\" >-3.25</td>\n",
       "    </tr>\n",
       "    <tr>\n",
       "      <th id=\"T_8cc32_level0_row11\" class=\"row_heading level0 row11\" >11</th>\n",
       "      <td id=\"T_8cc32_row11_col0\" class=\"data row11 col0\" >United States</td>\n",
       "      <td id=\"T_8cc32_row11_col1\" class=\"data row11 col1\" >Nasdaq 100 (NDX)</td>\n",
       "      <td id=\"T_8cc32_row11_col2\" class=\"data row11 col2\" >13277.39</td>\n",
       "      <td id=\"T_8cc32_row11_col3\" class=\"data row11 col3\" >12854.80</td>\n",
       "      <td id=\"T_8cc32_row11_col4\" class=\"data row11 col4\" >-3.18</td>\n",
       "    </tr>\n",
       "    <tr>\n",
       "      <th id=\"T_8cc32_level0_row12\" class=\"row_heading level0 row12\" >12</th>\n",
       "      <td id=\"T_8cc32_row12_col0\" class=\"data row12 col0\" >Canada</td>\n",
       "      <td id=\"T_8cc32_row12_col1\" class=\"data row12 col1\" >S&P/TSX Composite (GSPTSE)</td>\n",
       "      <td id=\"T_8cc32_row12_col2\" class=\"data row12 col2\" >20985.49</td>\n",
       "      <td id=\"T_8cc32_row12_col3\" class=\"data row12 col3\" >20762.00</td>\n",
       "      <td id=\"T_8cc32_row12_col4\" class=\"data row12 col4\" >-1.06</td>\n",
       "    </tr>\n",
       "    <tr>\n",
       "      <th id=\"T_8cc32_level0_row13\" class=\"row_heading level0 row13\" >13</th>\n",
       "      <td id=\"T_8cc32_row13_col0\" class=\"data row13 col0\" >Mexico</td>\n",
       "      <td id=\"T_8cc32_row13_col1\" class=\"data row13 col1\" >S&P/BMV IPC (MXX)</td>\n",
       "      <td id=\"T_8cc32_row13_col2\" class=\"data row13 col2\" >53183.12</td>\n",
       "      <td id=\"T_8cc32_row13_col3\" class=\"data row13 col3\" >51417.97</td>\n",
       "      <td id=\"T_8cc32_row13_col4\" class=\"data row13 col4\" >-3.32</td>\n",
       "    </tr>\n",
       "    <tr>\n",
       "      <th id=\"T_8cc32_level0_row14\" class=\"row_heading level0 row14\" >14</th>\n",
       "      <td id=\"T_8cc32_row14_col0\" class=\"data row14 col0\" >Argentina</td>\n",
       "      <td id=\"T_8cc32_row14_col1\" class=\"data row14 col1\" >S&P Merval (MERV)</td>\n",
       "      <td id=\"T_8cc32_row14_col2\" class=\"data row14 col2\" >91792.35</td>\n",
       "      <td id=\"T_8cc32_row14_col3\" class=\"data row14 col3\" >88250.97</td>\n",
       "      <td id=\"T_8cc32_row14_col4\" class=\"data row14 col4\" >-3.86</td>\n",
       "    </tr>\n",
       "    <tr>\n",
       "      <th id=\"T_8cc32_level0_row15\" class=\"row_heading level0 row15\" >15</th>\n",
       "      <td id=\"T_8cc32_row15_col0\" class=\"data row15 col0\" >China</td>\n",
       "      <td id=\"T_8cc32_row15_col1\" class=\"data row15 col1\" >Shanghai_Composite (SSEC)</td>\n",
       "      <td id=\"T_8cc32_row15_col2\" class=\"data row15 col2\" >3034.27</td>\n",
       "      <td id=\"T_8cc32_row15_col3\" class=\"data row15 col3\" >3047.55</td>\n",
       "      <td id=\"T_8cc32_row15_col4\" class=\"data row15 col4\" >0.44</td>\n",
       "    </tr>\n",
       "    <tr>\n",
       "      <th id=\"T_8cc32_level0_row16\" class=\"row_heading level0 row16\" >16</th>\n",
       "      <td id=\"T_8cc32_row16_col0\" class=\"data row16 col0\" >China</td>\n",
       "      <td id=\"T_8cc32_row16_col1\" class=\"data row16 col1\" >SZSE_Component (SZI)</td>\n",
       "      <td id=\"T_8cc32_row16_col2\" class=\"data row16 col2\" >10840.36</td>\n",
       "      <td id=\"T_8cc32_row16_col3\" class=\"data row16 col3\" >11021.44</td>\n",
       "      <td id=\"T_8cc32_row16_col4\" class=\"data row16 col4\" >1.67</td>\n",
       "    </tr>\n",
       "    <tr>\n",
       "      <th id=\"T_8cc32_level0_row17\" class=\"row_heading level0 row17\" >17</th>\n",
       "      <td id=\"T_8cc32_row17_col0\" class=\"data row17 col0\" >Japan</td>\n",
       "      <td id=\"T_8cc32_row17_col1\" class=\"data row17 col1\" >Nikkei 225 (JP225)</td>\n",
       "      <td id=\"T_8cc32_row17_col2\" class=\"data row17 col2\" >26692.48</td>\n",
       "      <td id=\"T_8cc32_row17_col3\" class=\"data row17 col3\" >26847.90</td>\n",
       "      <td id=\"T_8cc32_row17_col4\" class=\"data row17 col4\" >0.58</td>\n",
       "    </tr>\n",
       "    <tr>\n",
       "      <th id=\"T_8cc32_level0_row18\" class=\"row_heading level0 row18\" >18</th>\n",
       "      <td id=\"T_8cc32_row18_col0\" class=\"data row18 col0\" >Hong Kong</td>\n",
       "      <td id=\"T_8cc32_row18_col1\" class=\"data row18 col1\" >Hang Seng (HK50)</td>\n",
       "      <td id=\"T_8cc32_row18_col2\" class=\"data row18 col2\" >20638.52</td>\n",
       "      <td id=\"T_8cc32_row18_col3\" class=\"data row18 col3\" >21089.39</td>\n",
       "      <td id=\"T_8cc32_row18_col4\" class=\"data row18 col4\" >2.18</td>\n",
       "    </tr>\n",
       "    <tr>\n",
       "      <th id=\"T_8cc32_level0_row19\" class=\"row_heading level0 row19\" >19</th>\n",
       "      <td id=\"T_8cc32_row19_col0\" class=\"data row19 col0\" >India</td>\n",
       "      <td id=\"T_8cc32_row19_col1\" class=\"data row19 col1\" >Nifty 50 (NSEI)</td>\n",
       "      <td id=\"T_8cc32_row19_col2\" class=\"data row19 col2\" >17006.10</td>\n",
       "      <td id=\"T_8cc32_row19_col3\" class=\"data row19 col3\" >17102.55</td>\n",
       "      <td id=\"T_8cc32_row19_col4\" class=\"data row19 col4\" >0.57</td>\n",
       "    </tr>\n",
       "    <tr>\n",
       "      <th id=\"T_8cc32_level0_row20\" class=\"row_heading level0 row20\" >20</th>\n",
       "      <td id=\"T_8cc32_row20_col0\" class=\"data row20 col0\" >India</td>\n",
       "      <td id=\"T_8cc32_row20_col1\" class=\"data row20 col1\" >BSE Sensex 30 (BSESN)</td>\n",
       "      <td id=\"T_8cc32_row20_col2\" class=\"data row20 col2\" >56761.85</td>\n",
       "      <td id=\"T_8cc32_row20_col3\" class=\"data row20 col3\" >57060.87</td>\n",
       "      <td id=\"T_8cc32_row20_col4\" class=\"data row20 col4\" >0.53</td>\n",
       "    </tr>\n",
       "    <tr>\n",
       "      <th id=\"T_8cc32_level0_row21\" class=\"row_heading level0 row21\" >21</th>\n",
       "      <td id=\"T_8cc32_row21_col0\" class=\"data row21 col0\" >Saudi Arabia</td>\n",
       "      <td id=\"T_8cc32_row21_col1\" class=\"data row21 col1\" >Tadawul All Share (TASI)</td>\n",
       "      <td id=\"T_8cc32_row21_col2\" class=\"data row21 col2\" >13451.11</td>\n",
       "      <td id=\"T_8cc32_row21_col3\" class=\"data row21 col3\" >13733.87</td>\n",
       "      <td id=\"T_8cc32_row21_col4\" class=\"data row21 col4\" >2.10</td>\n",
       "    </tr>\n",
       "    <tr>\n",
       "      <th id=\"T_8cc32_level0_row22\" class=\"row_heading level0 row22\" >22</th>\n",
       "      <td id=\"T_8cc32_row22_col0\" class=\"data row22 col0\" >South Korea</td>\n",
       "      <td id=\"T_8cc32_row22_col1\" class=\"data row22 col1\" >KOSPI (KS11)</td>\n",
       "      <td id=\"T_8cc32_row22_col2\" class=\"data row22 col2\" >2676.67</td>\n",
       "      <td id=\"T_8cc32_row22_col3\" class=\"data row22 col3\" >2695.05</td>\n",
       "      <td id=\"T_8cc32_row22_col4\" class=\"data row22 col4\" >0.69</td>\n",
       "    </tr>\n",
       "    <tr>\n",
       "      <th id=\"T_8cc32_level0_row23\" class=\"row_heading level0 row23\" >23</th>\n",
       "      <td id=\"T_8cc32_row23_col0\" class=\"data row23 col0\" >Euro Zone</td>\n",
       "      <td id=\"T_8cc32_row23_col1\" class=\"data row23 col1\" >EuroNext 100 (N100)</td>\n",
       "      <td id=\"T_8cc32_row23_col2\" class=\"data row23 col2\" >1232.00</td>\n",
       "      <td id=\"T_8cc32_row23_col3\" class=\"data row23 col3\" >1245.92</td>\n",
       "      <td id=\"T_8cc32_row23_col4\" class=\"data row23 col4\" >1.13</td>\n",
       "    </tr>\n",
       "    <tr>\n",
       "      <th id=\"T_8cc32_level0_row24\" class=\"row_heading level0 row24\" >24</th>\n",
       "      <td id=\"T_8cc32_row24_col0\" class=\"data row24 col0\" >Euro Zone</td>\n",
       "      <td id=\"T_8cc32_row24_col1\" class=\"data row24 col1\" >EURO STOXX 50 (STOXX50)</td>\n",
       "      <td id=\"T_8cc32_row24_col2\" class=\"data row24 col2\" >3826.96</td>\n",
       "      <td id=\"T_8cc32_row24_col3\" class=\"data row24 col3\" >3802.86</td>\n",
       "      <td id=\"T_8cc32_row24_col4\" class=\"data row24 col4\" >-0.63</td>\n",
       "    </tr>\n",
       "    <tr>\n",
       "      <th id=\"T_8cc32_level0_row25\" class=\"row_heading level0 row25\" >25</th>\n",
       "      <td id=\"T_8cc32_row25_col0\" class=\"data row25 col0\" >Germany</td>\n",
       "      <td id=\"T_8cc32_row25_col1\" class=\"data row25 col1\" >DAX (DE30)</td>\n",
       "      <td id=\"T_8cc32_row25_col2\" class=\"data row25 col2\" >13908.05</td>\n",
       "      <td id=\"T_8cc32_row25_col3\" class=\"data row25 col3\" >14097.88</td>\n",
       "      <td id=\"T_8cc32_row25_col4\" class=\"data row25 col4\" >1.36</td>\n",
       "    </tr>\n",
       "    <tr>\n",
       "      <th id=\"T_8cc32_level0_row26\" class=\"row_heading level0 row26\" >26</th>\n",
       "      <td id=\"T_8cc32_row26_col0\" class=\"data row26 col0\" >United Kingdom</td>\n",
       "      <td id=\"T_8cc32_row26_col1\" class=\"data row26 col1\" >FTSE 100 (UK100)</td>\n",
       "      <td id=\"T_8cc32_row26_col2\" class=\"data row26 col2\" >7521.68</td>\n",
       "      <td id=\"T_8cc32_row26_col3\" class=\"data row26 col3\" >7544.55</td>\n",
       "      <td id=\"T_8cc32_row26_col4\" class=\"data row26 col4\" >0.30</td>\n",
       "    </tr>\n",
       "    <tr>\n",
       "      <th id=\"T_8cc32_level0_row27\" class=\"row_heading level0 row27\" >27</th>\n",
       "      <td id=\"T_8cc32_row27_col0\" class=\"data row27 col0\" >France</td>\n",
       "      <td id=\"T_8cc32_row27_col1\" class=\"data row27 col1\" >CAC 40 (FCHI)</td>\n",
       "      <td id=\"T_8cc32_row27_col2\" class=\"data row27 col2\" >6450.90</td>\n",
       "      <td id=\"T_8cc32_row27_col3\" class=\"data row27 col3\" >6533.77</td>\n",
       "      <td id=\"T_8cc32_row27_col4\" class=\"data row27 col4\" >1.28</td>\n",
       "    </tr>\n",
       "    <tr>\n",
       "      <th id=\"T_8cc32_level0_row28\" class=\"row_heading level0 row28\" >28</th>\n",
       "      <td id=\"T_8cc32_row28_col0\" class=\"data row28 col0\" >Italy</td>\n",
       "      <td id=\"T_8cc32_row28_col1\" class=\"data row28 col1\" >FTSE MIB Futures (IT40)</td>\n",
       "      <td id=\"T_8cc32_row28_col2\" class=\"data row28 col2\" >23600.00</td>\n",
       "      <td id=\"T_8cc32_row28_col3\" class=\"data row28 col3\" >23530.00</td>\n",
       "      <td id=\"T_8cc32_row28_col4\" class=\"data row28 col4\" >-0.30</td>\n",
       "    </tr>\n",
       "    <tr>\n",
       "      <th id=\"T_8cc32_level0_row29\" class=\"row_heading level0 row29\" >29</th>\n",
       "      <td id=\"T_8cc32_row29_col0\" class=\"data row29 col0\" >Russia</td>\n",
       "      <td id=\"T_8cc32_row29_col1\" class=\"data row29 col1\" >MOEX Russia (IMOEX)</td>\n",
       "      <td id=\"T_8cc32_row29_col2\" class=\"data row29 col2\" >2236.32</td>\n",
       "      <td id=\"T_8cc32_row29_col3\" class=\"data row29 col3\" >2445.17</td>\n",
       "      <td id=\"T_8cc32_row29_col4\" class=\"data row29 col4\" >9.34</td>\n",
       "    </tr>\n",
       "    <tr>\n",
       "      <th id=\"T_8cc32_level0_row30\" class=\"row_heading level0 row30\" >30</th>\n",
       "      <td id=\"T_8cc32_row30_col0\" class=\"data row30 col0\" >Spain</td>\n",
       "      <td id=\"T_8cc32_row30_col1\" class=\"data row30 col1\" >IBEX 35 (ES35)</td>\n",
       "      <td id=\"T_8cc32_row30_col2\" class=\"data row30 col2\" >8535.60</td>\n",
       "      <td id=\"T_8cc32_row30_col3\" class=\"data row30 col3\" >8584.20</td>\n",
       "      <td id=\"T_8cc32_row30_col4\" class=\"data row30 col4\" >0.57</td>\n",
       "    </tr>\n",
       "    <tr>\n",
       "      <th id=\"T_8cc32_level0_row31\" class=\"row_heading level0 row31\" >31</th>\n",
       "      <td id=\"T_8cc32_row31_col0\" class=\"data row31 col0\" >Netherlands</td>\n",
       "      <td id=\"T_8cc32_row31_col1\" class=\"data row31 col1\" >AEX (AEX)</td>\n",
       "      <td id=\"T_8cc32_row31_col2\" class=\"data row31 col2\" >700.95</td>\n",
       "      <td id=\"T_8cc32_row31_col3\" class=\"data row31 col3\" >710.98</td>\n",
       "      <td id=\"T_8cc32_row31_col4\" class=\"data row31 col4\" >1.43</td>\n",
       "    </tr>\n",
       "    <tr>\n",
       "      <th id=\"T_8cc32_level0_row32\" class=\"row_heading level0 row32\" >32</th>\n",
       "      <td id=\"T_8cc32_row32_col0\" class=\"data row32 col0\" >Switzerland</td>\n",
       "      <td id=\"T_8cc32_row32_col1\" class=\"data row32 col1\" >SMI (SWI20)</td>\n",
       "      <td id=\"T_8cc32_row32_col2\" class=\"data row32 col2\" >12046.01</td>\n",
       "      <td id=\"T_8cc32_row32_col3\" class=\"data row32 col3\" >12128.76</td>\n",
       "      <td id=\"T_8cc32_row32_col4\" class=\"data row32 col4\" >0.69</td>\n",
       "    </tr>\n",
       "    <tr>\n",
       "      <th id=\"T_8cc32_level0_row33\" class=\"row_heading level0 row33\" >33</th>\n",
       "      <td id=\"T_8cc32_row33_col0\" class=\"data row33 col0\" >Turkey</td>\n",
       "      <td id=\"T_8cc32_row33_col1\" class=\"data row33 col1\" >BIST 100 (XU100)</td>\n",
       "      <td id=\"T_8cc32_row33_col2\" class=\"data row33 col2\" >2472.50</td>\n",
       "      <td id=\"T_8cc32_row33_col3\" class=\"data row33 col3\" >2430.55</td>\n",
       "      <td id=\"T_8cc32_row33_col4\" class=\"data row33 col4\" >-1.70</td>\n",
       "    </tr>\n",
       "    <tr>\n",
       "      <th id=\"T_8cc32_level0_row34\" class=\"row_heading level0 row34\" >34</th>\n",
       "      <td id=\"T_8cc32_row34_col0\" class=\"data row34 col0\" >Australia</td>\n",
       "      <td id=\"T_8cc32_row34_col1\" class=\"data row34 col1\" >S&P/ASX 200 (AXJO)</td>\n",
       "      <td id=\"T_8cc32_row34_col2\" class=\"data row34 col2\" >7473.30</td>\n",
       "      <td id=\"T_8cc32_row34_col3\" class=\"data row34 col3\" >7423.50</td>\n",
       "      <td id=\"T_8cc32_row34_col4\" class=\"data row34 col4\" >-0.67</td>\n",
       "    </tr>\n",
       "    <tr>\n",
       "      <th id=\"T_8cc32_level0_row35\" class=\"row_heading level0 row35\" >35</th>\n",
       "      <td id=\"T_8cc32_row35_col0\" class=\"data row35 col0\" >South Africa</td>\n",
       "      <td id=\"T_8cc32_row35_col1\" class=\"data row35 col1\" >South Africa Top 40 (JTOPI)</td>\n",
       "      <td id=\"T_8cc32_row35_col2\" class=\"data row35 col2\" >65385.48</td>\n",
       "      <td id=\"T_8cc32_row35_col3\" class=\"data row35 col3\" >65475.55</td>\n",
       "      <td id=\"T_8cc32_row35_col4\" class=\"data row35 col4\" >0.14</td>\n",
       "    </tr>\n",
       "  </tbody>\n",
       "</table>\n"
      ],
      "text/plain": [
       "<pandas.io.formats.style.Styler at 0x18d14f9e910>"
      ]
     },
     "execution_count": 164,
     "metadata": {},
     "output_type": "execute_result"
    }
   ],
   "source": [
    "df_stocks_result2 = df_stocks_result[['País_x','Market Indices','Open_x','Close_y','Result_%']]\n",
    "df_stocks_result2 = df_stocks_result2.rename({'País_x':'País','Market Indices':'Market Index','Open_x':'Abertura','Close_y':'Fechamento'},axis=1)\n",
    "df_stocks_result2\n",
    "cm = sns.diverging_palette(20,130, as_cmap=True)\n",
    "df_stocks_result2.style.format('{:.2f}',subset=[\"Abertura\",\"Fechamento\",\"Result_%\"]).background_gradient(cmap=cm,subset=[\"Result_%\"])"
   ]
  },
  {
   "cell_type": "markdown",
   "id": "7fe726f3",
   "metadata": {},
   "source": [
    "# **1. Índices Nacionais - Brasil**"
   ]
  },
  {
   "cell_type": "code",
   "execution_count": 165,
   "id": "80ff09ff",
   "metadata": {},
   "outputs": [
    {
     "data": {
      "text/html": [
       "<style type=\"text/css\">\n",
       "</style>\n",
       "<table id=\"T_1fe59_\">\n",
       "  <thead>\n",
       "    <tr>\n",
       "      <th class=\"blank level0\" >&nbsp;</th>\n",
       "      <th class=\"col_heading level0 col0\" >Abertura</th>\n",
       "      <th class=\"col_heading level0 col1\" >Fechamento</th>\n",
       "      <th class=\"col_heading level0 col2\" >Resultado</th>\n",
       "    </tr>\n",
       "    <tr>\n",
       "      <th class=\"index_name level0\" >Market Index</th>\n",
       "      <th class=\"blank col0\" >&nbsp;</th>\n",
       "      <th class=\"blank col1\" >&nbsp;</th>\n",
       "      <th class=\"blank col2\" >&nbsp;</th>\n",
       "    </tr>\n",
       "  </thead>\n",
       "  <tbody>\n",
       "    <tr>\n",
       "      <th id=\"T_1fe59_level0_row0\" class=\"row_heading level0 row0\" >Bovespa (BVSP)</th>\n",
       "      <td id=\"T_1fe59_row0_col0\" class=\"data row0 col0\" >111077.0</td>\n",
       "      <td id=\"T_1fe59_row0_col1\" class=\"data row0 col1\" >107876.0</td>\n",
       "      <td id=\"T_1fe59_row0_col2\" class=\"data row0 col2\" >-3201.0</td>\n",
       "    </tr>\n",
       "    <tr>\n",
       "      <th id=\"T_1fe59_level0_row1\" class=\"row_heading level0 row1\" >Bovespa Brazil 50 (IBX50)</th>\n",
       "      <td id=\"T_1fe59_row1_col0\" class=\"data row1 col0\" >18544.3</td>\n",
       "      <td id=\"T_1fe59_row1_col1\" class=\"data row1 col1\" >18087.4</td>\n",
       "      <td id=\"T_1fe59_row1_col2\" class=\"data row1 col2\" >-456.9</td>\n",
       "    </tr>\n",
       "    <tr>\n",
       "      <th id=\"T_1fe59_level0_row2\" class=\"row_heading level0 row2\" >Bovespa Tag Along (ITAG)</th>\n",
       "      <td id=\"T_1fe59_row2_col0\" class=\"data row2 col0\" >24671.9</td>\n",
       "      <td id=\"T_1fe59_row2_col1\" class=\"data row2 col1\" >24039.1</td>\n",
       "      <td id=\"T_1fe59_row2_col2\" class=\"data row2 col2\" >-632.8</td>\n",
       "    </tr>\n",
       "    <tr>\n",
       "      <th id=\"T_1fe59_level0_row3\" class=\"row_heading level0 row3\" >Brazil broad-Based (IBRA)</th>\n",
       "      <td id=\"T_1fe59_row3_col0\" class=\"data row3 col0\" >4442.3</td>\n",
       "      <td id=\"T_1fe59_row3_col1\" class=\"data row3 col1\" >4335.4</td>\n",
       "      <td id=\"T_1fe59_row3_col2\" class=\"data row3 col2\" >-106.9</td>\n",
       "    </tr>\n",
       "    <tr>\n",
       "      <th id=\"T_1fe59_level0_row4\" class=\"row_heading level0 row4\" >Brazil Index (IBRX)</th>\n",
       "      <td id=\"T_1fe59_row4_col0\" class=\"data row4 col0\" >47452.7</td>\n",
       "      <td id=\"T_1fe59_row4_col1\" class=\"data row4 col1\" >46211.9</td>\n",
       "      <td id=\"T_1fe59_row4_col2\" class=\"data row4 col2\" >-1240.8</td>\n",
       "    </tr>\n",
       "    <tr>\n",
       "      <th id=\"T_1fe59_level0_row5\" class=\"row_heading level0 row5\" >Mid-Large Cap Index (MLCX)</th>\n",
       "      <td id=\"T_1fe59_row5_col0\" class=\"data row5 col0\" >2193.2</td>\n",
       "      <td id=\"T_1fe59_row5_col1\" class=\"data row5 col1\" >2136.9</td>\n",
       "      <td id=\"T_1fe59_row5_col2\" class=\"data row5 col2\" >-56.3</td>\n",
       "    </tr>\n",
       "    <tr>\n",
       "      <th id=\"T_1fe59_level0_row6\" class=\"row_heading level0 row6\" >Small Cap Index (SMLL)</th>\n",
       "      <td id=\"T_1fe59_row6_col0\" class=\"data row6 col0\" >2339.1</td>\n",
       "      <td id=\"T_1fe59_row6_col1\" class=\"data row6 col1\" >2312.4</td>\n",
       "      <td id=\"T_1fe59_row6_col2\" class=\"data row6 col2\" >-26.6</td>\n",
       "    </tr>\n",
       "  </tbody>\n",
       "</table>\n"
      ],
      "text/plain": [
       "<pandas.io.formats.style.Styler at 0x18d1519afd0>"
      ]
     },
     "execution_count": 165,
     "metadata": {},
     "output_type": "execute_result"
    }
   ],
   "source": [
    "df_stocks_Brasil = df_stocks_result2[df_stocks_result2['País']=='Brazil']\n",
    "Resultado = df_stocks_Brasil[\"Fechamento\"] - df_stocks_Brasil[\"Abertura\"]\n",
    "df_stocks_Brasil.insert(4,\"Resultado\",Resultado)\n",
    "df_stocks_Brasil2 = df_stocks_Brasil[['Abertura','Fechamento','Resultado']]\n",
    "df_stocks_Brasil2.index =df_stocks_Brasil['Market Index']\n",
    "cm = sns.diverging_palette(20,130, as_cmap=True)\n",
    "df_stocks_Brasil\n",
    "df_stocks_Brasil2.style.format('{:.1f}',subset=[\"Abertura\",\"Fechamento\",'Resultado'])"
   ]
  },
  {
   "cell_type": "code",
   "execution_count": 167,
   "id": "e61a8212",
   "metadata": {},
   "outputs": [
    {
     "data": {
      "application/vnd.plotly.v1+json": {
       "config": {
        "plotlyServerURL": "https://plot.ly"
       },
       "data": [
        {
         "marker": {
          "color": [
           "red",
           "red",
           "red",
           "red",
           "red",
           "red",
           "red"
          ]
         },
         "name": "Net",
         "orientation": "h",
         "type": "bar",
         "x": [
          -1.1389093147733242,
          -2.4066416195250615,
          -2.463619470391361,
          -2.5648570805538573,
          -2.5679138435724513,
          -2.614771081615551,
          -2.881784707905327
         ],
         "y": [
          "Small Cap Index (SMLL)",
          "Brazil broad-Based (IBRA)",
          "Bovespa Brazil 50 (IBX50)",
          "Bovespa Tag Along (ITAG)",
          "Mid-Large Cap Index (MLCX)",
          "Brazil Index (IBRX)",
          "Bovespa (BVSP)"
         ]
        }
       ],
       "layout": {
        "annotations": [
         {
          "font": {
           "color": "black",
           "family": "Arial",
           "size": 25
          },
          "showarrow": false,
          "text": "-1.14%",
          "x": 4,
          "xref": "x",
          "y": "Small Cap Index (SMLL)",
          "yref": "y"
         },
         {
          "font": {
           "color": "black",
           "family": "Arial",
           "size": 25
          },
          "showarrow": false,
          "text": "-2.41%",
          "x": 4,
          "xref": "x",
          "y": "Brazil broad-Based (IBRA)",
          "yref": "y"
         },
         {
          "font": {
           "color": "black",
           "family": "Arial",
           "size": 25
          },
          "showarrow": false,
          "text": "-2.46%",
          "x": 4,
          "xref": "x",
          "y": "Bovespa Brazil 50 (IBX50)",
          "yref": "y"
         },
         {
          "font": {
           "color": "black",
           "family": "Arial",
           "size": 25
          },
          "showarrow": false,
          "text": "-2.56%",
          "x": 4,
          "xref": "x",
          "y": "Bovespa Tag Along (ITAG)",
          "yref": "y"
         },
         {
          "font": {
           "color": "black",
           "family": "Arial",
           "size": 25
          },
          "showarrow": false,
          "text": "-2.57%",
          "x": 4,
          "xref": "x",
          "y": "Mid-Large Cap Index (MLCX)",
          "yref": "y"
         },
         {
          "font": {
           "color": "black",
           "family": "Arial",
           "size": 25
          },
          "showarrow": false,
          "text": "-2.61%",
          "x": 4,
          "xref": "x",
          "y": "Brazil Index (IBRX)",
          "yref": "y"
         },
         {
          "font": {
           "color": "black",
           "family": "Arial",
           "size": 25
          },
          "showarrow": false,
          "text": "-2.88%",
          "x": 4,
          "xref": "x",
          "y": "Bovespa (BVSP)",
          "yref": "y"
         }
        ],
        "barmode": "stack",
        "font": {
         "color": "black",
         "family": "Arial",
         "size": 30
        },
        "height": 800,
        "margin": {
         "b": 20,
         "l": 20,
         "r": 20,
         "t": 20
        },
        "paper_bgcolor": "#f7f8fa",
        "template": {
         "data": {
          "bar": [
           {
            "error_x": {
             "color": "rgb(36,36,36)"
            },
            "error_y": {
             "color": "rgb(36,36,36)"
            },
            "marker": {
             "line": {
              "color": "white",
              "width": 0.5
             },
             "pattern": {
              "fillmode": "overlay",
              "size": 10,
              "solidity": 0.2
             }
            },
            "type": "bar"
           }
          ],
          "barpolar": [
           {
            "marker": {
             "line": {
              "color": "white",
              "width": 0.5
             },
             "pattern": {
              "fillmode": "overlay",
              "size": 10,
              "solidity": 0.2
             }
            },
            "type": "barpolar"
           }
          ],
          "carpet": [
           {
            "aaxis": {
             "endlinecolor": "rgb(36,36,36)",
             "gridcolor": "white",
             "linecolor": "white",
             "minorgridcolor": "white",
             "startlinecolor": "rgb(36,36,36)"
            },
            "baxis": {
             "endlinecolor": "rgb(36,36,36)",
             "gridcolor": "white",
             "linecolor": "white",
             "minorgridcolor": "white",
             "startlinecolor": "rgb(36,36,36)"
            },
            "type": "carpet"
           }
          ],
          "choropleth": [
           {
            "colorbar": {
             "outlinewidth": 1,
             "tickcolor": "rgb(36,36,36)",
             "ticks": "outside"
            },
            "type": "choropleth"
           }
          ],
          "contour": [
           {
            "colorbar": {
             "outlinewidth": 1,
             "tickcolor": "rgb(36,36,36)",
             "ticks": "outside"
            },
            "colorscale": [
             [
              0,
              "#440154"
             ],
             [
              0.1111111111111111,
              "#482878"
             ],
             [
              0.2222222222222222,
              "#3e4989"
             ],
             [
              0.3333333333333333,
              "#31688e"
             ],
             [
              0.4444444444444444,
              "#26828e"
             ],
             [
              0.5555555555555556,
              "#1f9e89"
             ],
             [
              0.6666666666666666,
              "#35b779"
             ],
             [
              0.7777777777777778,
              "#6ece58"
             ],
             [
              0.8888888888888888,
              "#b5de2b"
             ],
             [
              1,
              "#fde725"
             ]
            ],
            "type": "contour"
           }
          ],
          "contourcarpet": [
           {
            "colorbar": {
             "outlinewidth": 1,
             "tickcolor": "rgb(36,36,36)",
             "ticks": "outside"
            },
            "type": "contourcarpet"
           }
          ],
          "heatmap": [
           {
            "colorbar": {
             "outlinewidth": 1,
             "tickcolor": "rgb(36,36,36)",
             "ticks": "outside"
            },
            "colorscale": [
             [
              0,
              "#440154"
             ],
             [
              0.1111111111111111,
              "#482878"
             ],
             [
              0.2222222222222222,
              "#3e4989"
             ],
             [
              0.3333333333333333,
              "#31688e"
             ],
             [
              0.4444444444444444,
              "#26828e"
             ],
             [
              0.5555555555555556,
              "#1f9e89"
             ],
             [
              0.6666666666666666,
              "#35b779"
             ],
             [
              0.7777777777777778,
              "#6ece58"
             ],
             [
              0.8888888888888888,
              "#b5de2b"
             ],
             [
              1,
              "#fde725"
             ]
            ],
            "type": "heatmap"
           }
          ],
          "heatmapgl": [
           {
            "colorbar": {
             "outlinewidth": 1,
             "tickcolor": "rgb(36,36,36)",
             "ticks": "outside"
            },
            "colorscale": [
             [
              0,
              "#440154"
             ],
             [
              0.1111111111111111,
              "#482878"
             ],
             [
              0.2222222222222222,
              "#3e4989"
             ],
             [
              0.3333333333333333,
              "#31688e"
             ],
             [
              0.4444444444444444,
              "#26828e"
             ],
             [
              0.5555555555555556,
              "#1f9e89"
             ],
             [
              0.6666666666666666,
              "#35b779"
             ],
             [
              0.7777777777777778,
              "#6ece58"
             ],
             [
              0.8888888888888888,
              "#b5de2b"
             ],
             [
              1,
              "#fde725"
             ]
            ],
            "type": "heatmapgl"
           }
          ],
          "histogram": [
           {
            "marker": {
             "line": {
              "color": "white",
              "width": 0.6
             }
            },
            "type": "histogram"
           }
          ],
          "histogram2d": [
           {
            "colorbar": {
             "outlinewidth": 1,
             "tickcolor": "rgb(36,36,36)",
             "ticks": "outside"
            },
            "colorscale": [
             [
              0,
              "#440154"
             ],
             [
              0.1111111111111111,
              "#482878"
             ],
             [
              0.2222222222222222,
              "#3e4989"
             ],
             [
              0.3333333333333333,
              "#31688e"
             ],
             [
              0.4444444444444444,
              "#26828e"
             ],
             [
              0.5555555555555556,
              "#1f9e89"
             ],
             [
              0.6666666666666666,
              "#35b779"
             ],
             [
              0.7777777777777778,
              "#6ece58"
             ],
             [
              0.8888888888888888,
              "#b5de2b"
             ],
             [
              1,
              "#fde725"
             ]
            ],
            "type": "histogram2d"
           }
          ],
          "histogram2dcontour": [
           {
            "colorbar": {
             "outlinewidth": 1,
             "tickcolor": "rgb(36,36,36)",
             "ticks": "outside"
            },
            "colorscale": [
             [
              0,
              "#440154"
             ],
             [
              0.1111111111111111,
              "#482878"
             ],
             [
              0.2222222222222222,
              "#3e4989"
             ],
             [
              0.3333333333333333,
              "#31688e"
             ],
             [
              0.4444444444444444,
              "#26828e"
             ],
             [
              0.5555555555555556,
              "#1f9e89"
             ],
             [
              0.6666666666666666,
              "#35b779"
             ],
             [
              0.7777777777777778,
              "#6ece58"
             ],
             [
              0.8888888888888888,
              "#b5de2b"
             ],
             [
              1,
              "#fde725"
             ]
            ],
            "type": "histogram2dcontour"
           }
          ],
          "mesh3d": [
           {
            "colorbar": {
             "outlinewidth": 1,
             "tickcolor": "rgb(36,36,36)",
             "ticks": "outside"
            },
            "type": "mesh3d"
           }
          ],
          "parcoords": [
           {
            "line": {
             "colorbar": {
              "outlinewidth": 1,
              "tickcolor": "rgb(36,36,36)",
              "ticks": "outside"
             }
            },
            "type": "parcoords"
           }
          ],
          "pie": [
           {
            "automargin": true,
            "type": "pie"
           }
          ],
          "scatter": [
           {
            "marker": {
             "colorbar": {
              "outlinewidth": 1,
              "tickcolor": "rgb(36,36,36)",
              "ticks": "outside"
             }
            },
            "type": "scatter"
           }
          ],
          "scatter3d": [
           {
            "line": {
             "colorbar": {
              "outlinewidth": 1,
              "tickcolor": "rgb(36,36,36)",
              "ticks": "outside"
             }
            },
            "marker": {
             "colorbar": {
              "outlinewidth": 1,
              "tickcolor": "rgb(36,36,36)",
              "ticks": "outside"
             }
            },
            "type": "scatter3d"
           }
          ],
          "scattercarpet": [
           {
            "marker": {
             "colorbar": {
              "outlinewidth": 1,
              "tickcolor": "rgb(36,36,36)",
              "ticks": "outside"
             }
            },
            "type": "scattercarpet"
           }
          ],
          "scattergeo": [
           {
            "marker": {
             "colorbar": {
              "outlinewidth": 1,
              "tickcolor": "rgb(36,36,36)",
              "ticks": "outside"
             }
            },
            "type": "scattergeo"
           }
          ],
          "scattergl": [
           {
            "marker": {
             "colorbar": {
              "outlinewidth": 1,
              "tickcolor": "rgb(36,36,36)",
              "ticks": "outside"
             }
            },
            "type": "scattergl"
           }
          ],
          "scattermapbox": [
           {
            "marker": {
             "colorbar": {
              "outlinewidth": 1,
              "tickcolor": "rgb(36,36,36)",
              "ticks": "outside"
             }
            },
            "type": "scattermapbox"
           }
          ],
          "scatterpolar": [
           {
            "marker": {
             "colorbar": {
              "outlinewidth": 1,
              "tickcolor": "rgb(36,36,36)",
              "ticks": "outside"
             }
            },
            "type": "scatterpolar"
           }
          ],
          "scatterpolargl": [
           {
            "marker": {
             "colorbar": {
              "outlinewidth": 1,
              "tickcolor": "rgb(36,36,36)",
              "ticks": "outside"
             }
            },
            "type": "scatterpolargl"
           }
          ],
          "scatterternary": [
           {
            "marker": {
             "colorbar": {
              "outlinewidth": 1,
              "tickcolor": "rgb(36,36,36)",
              "ticks": "outside"
             }
            },
            "type": "scatterternary"
           }
          ],
          "surface": [
           {
            "colorbar": {
             "outlinewidth": 1,
             "tickcolor": "rgb(36,36,36)",
             "ticks": "outside"
            },
            "colorscale": [
             [
              0,
              "#440154"
             ],
             [
              0.1111111111111111,
              "#482878"
             ],
             [
              0.2222222222222222,
              "#3e4989"
             ],
             [
              0.3333333333333333,
              "#31688e"
             ],
             [
              0.4444444444444444,
              "#26828e"
             ],
             [
              0.5555555555555556,
              "#1f9e89"
             ],
             [
              0.6666666666666666,
              "#35b779"
             ],
             [
              0.7777777777777778,
              "#6ece58"
             ],
             [
              0.8888888888888888,
              "#b5de2b"
             ],
             [
              1,
              "#fde725"
             ]
            ],
            "type": "surface"
           }
          ],
          "table": [
           {
            "cells": {
             "fill": {
              "color": "rgb(237,237,237)"
             },
             "line": {
              "color": "white"
             }
            },
            "header": {
             "fill": {
              "color": "rgb(217,217,217)"
             },
             "line": {
              "color": "white"
             }
            },
            "type": "table"
           }
          ]
         },
         "layout": {
          "annotationdefaults": {
           "arrowhead": 0,
           "arrowwidth": 1
          },
          "autotypenumbers": "strict",
          "coloraxis": {
           "colorbar": {
            "outlinewidth": 1,
            "tickcolor": "rgb(36,36,36)",
            "ticks": "outside"
           }
          },
          "colorscale": {
           "diverging": [
            [
             0,
             "rgb(103,0,31)"
            ],
            [
             0.1,
             "rgb(178,24,43)"
            ],
            [
             0.2,
             "rgb(214,96,77)"
            ],
            [
             0.3,
             "rgb(244,165,130)"
            ],
            [
             0.4,
             "rgb(253,219,199)"
            ],
            [
             0.5,
             "rgb(247,247,247)"
            ],
            [
             0.6,
             "rgb(209,229,240)"
            ],
            [
             0.7,
             "rgb(146,197,222)"
            ],
            [
             0.8,
             "rgb(67,147,195)"
            ],
            [
             0.9,
             "rgb(33,102,172)"
            ],
            [
             1,
             "rgb(5,48,97)"
            ]
           ],
           "sequential": [
            [
             0,
             "#440154"
            ],
            [
             0.1111111111111111,
             "#482878"
            ],
            [
             0.2222222222222222,
             "#3e4989"
            ],
            [
             0.3333333333333333,
             "#31688e"
            ],
            [
             0.4444444444444444,
             "#26828e"
            ],
            [
             0.5555555555555556,
             "#1f9e89"
            ],
            [
             0.6666666666666666,
             "#35b779"
            ],
            [
             0.7777777777777778,
             "#6ece58"
            ],
            [
             0.8888888888888888,
             "#b5de2b"
            ],
            [
             1,
             "#fde725"
            ]
           ],
           "sequentialminus": [
            [
             0,
             "#440154"
            ],
            [
             0.1111111111111111,
             "#482878"
            ],
            [
             0.2222222222222222,
             "#3e4989"
            ],
            [
             0.3333333333333333,
             "#31688e"
            ],
            [
             0.4444444444444444,
             "#26828e"
            ],
            [
             0.5555555555555556,
             "#1f9e89"
            ],
            [
             0.6666666666666666,
             "#35b779"
            ],
            [
             0.7777777777777778,
             "#6ece58"
            ],
            [
             0.8888888888888888,
             "#b5de2b"
            ],
            [
             1,
             "#fde725"
            ]
           ]
          },
          "colorway": [
           "#1F77B4",
           "#FF7F0E",
           "#2CA02C",
           "#D62728",
           "#9467BD",
           "#8C564B",
           "#E377C2",
           "#7F7F7F",
           "#BCBD22",
           "#17BECF"
          ],
          "font": {
           "color": "rgb(36,36,36)"
          },
          "geo": {
           "bgcolor": "white",
           "lakecolor": "white",
           "landcolor": "white",
           "showlakes": true,
           "showland": true,
           "subunitcolor": "white"
          },
          "hoverlabel": {
           "align": "left"
          },
          "hovermode": "closest",
          "mapbox": {
           "style": "light"
          },
          "paper_bgcolor": "white",
          "plot_bgcolor": "white",
          "polar": {
           "angularaxis": {
            "gridcolor": "rgb(232,232,232)",
            "linecolor": "rgb(36,36,36)",
            "showgrid": false,
            "showline": true,
            "ticks": "outside"
           },
           "bgcolor": "white",
           "radialaxis": {
            "gridcolor": "rgb(232,232,232)",
            "linecolor": "rgb(36,36,36)",
            "showgrid": false,
            "showline": true,
            "ticks": "outside"
           }
          },
          "scene": {
           "xaxis": {
            "backgroundcolor": "white",
            "gridcolor": "rgb(232,232,232)",
            "gridwidth": 2,
            "linecolor": "rgb(36,36,36)",
            "showbackground": true,
            "showgrid": false,
            "showline": true,
            "ticks": "outside",
            "zeroline": false,
            "zerolinecolor": "rgb(36,36,36)"
           },
           "yaxis": {
            "backgroundcolor": "white",
            "gridcolor": "rgb(232,232,232)",
            "gridwidth": 2,
            "linecolor": "rgb(36,36,36)",
            "showbackground": true,
            "showgrid": false,
            "showline": true,
            "ticks": "outside",
            "zeroline": false,
            "zerolinecolor": "rgb(36,36,36)"
           },
           "zaxis": {
            "backgroundcolor": "white",
            "gridcolor": "rgb(232,232,232)",
            "gridwidth": 2,
            "linecolor": "rgb(36,36,36)",
            "showbackground": true,
            "showgrid": false,
            "showline": true,
            "ticks": "outside",
            "zeroline": false,
            "zerolinecolor": "rgb(36,36,36)"
           }
          },
          "shapedefaults": {
           "fillcolor": "black",
           "line": {
            "width": 0
           },
           "opacity": 0.3
          },
          "ternary": {
           "aaxis": {
            "gridcolor": "rgb(232,232,232)",
            "linecolor": "rgb(36,36,36)",
            "showgrid": false,
            "showline": true,
            "ticks": "outside"
           },
           "baxis": {
            "gridcolor": "rgb(232,232,232)",
            "linecolor": "rgb(36,36,36)",
            "showgrid": false,
            "showline": true,
            "ticks": "outside"
           },
           "bgcolor": "white",
           "caxis": {
            "gridcolor": "rgb(232,232,232)",
            "linecolor": "rgb(36,36,36)",
            "showgrid": false,
            "showline": true,
            "ticks": "outside"
           }
          },
          "title": {
           "x": 0.05
          },
          "xaxis": {
           "automargin": true,
           "gridcolor": "rgb(232,232,232)",
           "linecolor": "rgb(36,36,36)",
           "showgrid": false,
           "showline": true,
           "ticks": "outside",
           "title": {
            "standoff": 15
           },
           "zeroline": false,
           "zerolinecolor": "rgb(36,36,36)"
          },
          "yaxis": {
           "automargin": true,
           "gridcolor": "rgb(232,232,232)",
           "linecolor": "rgb(36,36,36)",
           "showgrid": false,
           "showline": true,
           "ticks": "outside",
           "title": {
            "standoff": 15
           },
           "zeroline": false,
           "zerolinecolor": "rgb(36,36,36)"
          }
         }
        },
        "title": {
         "text": ""
        },
        "width": 800,
        "xaxis": {
         "range": [
          -7,
          7
         ],
         "showticklabels": true,
         "visible": true
        }
       }
      },
      "text/html": [
       "<div>                            <div id=\"80fd7644-9d3e-418e-98b7-3dd75ddc8682\" class=\"plotly-graph-div\" style=\"height:800px; width:800px;\"></div>            <script type=\"text/javascript\">                require([\"plotly\"], function(Plotly) {                    window.PLOTLYENV=window.PLOTLYENV || {};                                    if (document.getElementById(\"80fd7644-9d3e-418e-98b7-3dd75ddc8682\")) {                    Plotly.newPlot(                        \"80fd7644-9d3e-418e-98b7-3dd75ddc8682\",                        [{\"marker\":{\"color\":[\"red\",\"red\",\"red\",\"red\",\"red\",\"red\",\"red\"]},\"name\":\"Net\",\"orientation\":\"h\",\"x\":[-1.1389093147733242,-2.4066416195250615,-2.463619470391361,-2.5648570805538573,-2.5679138435724513,-2.614771081615551,-2.881784707905327],\"y\":[\"Small Cap Index (SMLL)\",\"Brazil broad-Based (IBRA)\",\"Bovespa Brazil 50 (IBX50)\",\"Bovespa Tag Along (ITAG)\",\"Mid-Large Cap Index (MLCX)\",\"Brazil Index (IBRX)\",\"Bovespa (BVSP)\"],\"type\":\"bar\"}],                        {\"template\":{\"data\":{\"barpolar\":[{\"marker\":{\"line\":{\"color\":\"white\",\"width\":0.5},\"pattern\":{\"fillmode\":\"overlay\",\"size\":10,\"solidity\":0.2}},\"type\":\"barpolar\"}],\"bar\":[{\"error_x\":{\"color\":\"rgb(36,36,36)\"},\"error_y\":{\"color\":\"rgb(36,36,36)\"},\"marker\":{\"line\":{\"color\":\"white\",\"width\":0.5},\"pattern\":{\"fillmode\":\"overlay\",\"size\":10,\"solidity\":0.2}},\"type\":\"bar\"}],\"carpet\":[{\"aaxis\":{\"endlinecolor\":\"rgb(36,36,36)\",\"gridcolor\":\"white\",\"linecolor\":\"white\",\"minorgridcolor\":\"white\",\"startlinecolor\":\"rgb(36,36,36)\"},\"baxis\":{\"endlinecolor\":\"rgb(36,36,36)\",\"gridcolor\":\"white\",\"linecolor\":\"white\",\"minorgridcolor\":\"white\",\"startlinecolor\":\"rgb(36,36,36)\"},\"type\":\"carpet\"}],\"choropleth\":[{\"colorbar\":{\"outlinewidth\":1,\"tickcolor\":\"rgb(36,36,36)\",\"ticks\":\"outside\"},\"type\":\"choropleth\"}],\"contourcarpet\":[{\"colorbar\":{\"outlinewidth\":1,\"tickcolor\":\"rgb(36,36,36)\",\"ticks\":\"outside\"},\"type\":\"contourcarpet\"}],\"contour\":[{\"colorbar\":{\"outlinewidth\":1,\"tickcolor\":\"rgb(36,36,36)\",\"ticks\":\"outside\"},\"colorscale\":[[0.0,\"#440154\"],[0.1111111111111111,\"#482878\"],[0.2222222222222222,\"#3e4989\"],[0.3333333333333333,\"#31688e\"],[0.4444444444444444,\"#26828e\"],[0.5555555555555556,\"#1f9e89\"],[0.6666666666666666,\"#35b779\"],[0.7777777777777778,\"#6ece58\"],[0.8888888888888888,\"#b5de2b\"],[1.0,\"#fde725\"]],\"type\":\"contour\"}],\"heatmapgl\":[{\"colorbar\":{\"outlinewidth\":1,\"tickcolor\":\"rgb(36,36,36)\",\"ticks\":\"outside\"},\"colorscale\":[[0.0,\"#440154\"],[0.1111111111111111,\"#482878\"],[0.2222222222222222,\"#3e4989\"],[0.3333333333333333,\"#31688e\"],[0.4444444444444444,\"#26828e\"],[0.5555555555555556,\"#1f9e89\"],[0.6666666666666666,\"#35b779\"],[0.7777777777777778,\"#6ece58\"],[0.8888888888888888,\"#b5de2b\"],[1.0,\"#fde725\"]],\"type\":\"heatmapgl\"}],\"heatmap\":[{\"colorbar\":{\"outlinewidth\":1,\"tickcolor\":\"rgb(36,36,36)\",\"ticks\":\"outside\"},\"colorscale\":[[0.0,\"#440154\"],[0.1111111111111111,\"#482878\"],[0.2222222222222222,\"#3e4989\"],[0.3333333333333333,\"#31688e\"],[0.4444444444444444,\"#26828e\"],[0.5555555555555556,\"#1f9e89\"],[0.6666666666666666,\"#35b779\"],[0.7777777777777778,\"#6ece58\"],[0.8888888888888888,\"#b5de2b\"],[1.0,\"#fde725\"]],\"type\":\"heatmap\"}],\"histogram2dcontour\":[{\"colorbar\":{\"outlinewidth\":1,\"tickcolor\":\"rgb(36,36,36)\",\"ticks\":\"outside\"},\"colorscale\":[[0.0,\"#440154\"],[0.1111111111111111,\"#482878\"],[0.2222222222222222,\"#3e4989\"],[0.3333333333333333,\"#31688e\"],[0.4444444444444444,\"#26828e\"],[0.5555555555555556,\"#1f9e89\"],[0.6666666666666666,\"#35b779\"],[0.7777777777777778,\"#6ece58\"],[0.8888888888888888,\"#b5de2b\"],[1.0,\"#fde725\"]],\"type\":\"histogram2dcontour\"}],\"histogram2d\":[{\"colorbar\":{\"outlinewidth\":1,\"tickcolor\":\"rgb(36,36,36)\",\"ticks\":\"outside\"},\"colorscale\":[[0.0,\"#440154\"],[0.1111111111111111,\"#482878\"],[0.2222222222222222,\"#3e4989\"],[0.3333333333333333,\"#31688e\"],[0.4444444444444444,\"#26828e\"],[0.5555555555555556,\"#1f9e89\"],[0.6666666666666666,\"#35b779\"],[0.7777777777777778,\"#6ece58\"],[0.8888888888888888,\"#b5de2b\"],[1.0,\"#fde725\"]],\"type\":\"histogram2d\"}],\"histogram\":[{\"marker\":{\"line\":{\"color\":\"white\",\"width\":0.6}},\"type\":\"histogram\"}],\"mesh3d\":[{\"colorbar\":{\"outlinewidth\":1,\"tickcolor\":\"rgb(36,36,36)\",\"ticks\":\"outside\"},\"type\":\"mesh3d\"}],\"parcoords\":[{\"line\":{\"colorbar\":{\"outlinewidth\":1,\"tickcolor\":\"rgb(36,36,36)\",\"ticks\":\"outside\"}},\"type\":\"parcoords\"}],\"pie\":[{\"automargin\":true,\"type\":\"pie\"}],\"scatter3d\":[{\"line\":{\"colorbar\":{\"outlinewidth\":1,\"tickcolor\":\"rgb(36,36,36)\",\"ticks\":\"outside\"}},\"marker\":{\"colorbar\":{\"outlinewidth\":1,\"tickcolor\":\"rgb(36,36,36)\",\"ticks\":\"outside\"}},\"type\":\"scatter3d\"}],\"scattercarpet\":[{\"marker\":{\"colorbar\":{\"outlinewidth\":1,\"tickcolor\":\"rgb(36,36,36)\",\"ticks\":\"outside\"}},\"type\":\"scattercarpet\"}],\"scattergeo\":[{\"marker\":{\"colorbar\":{\"outlinewidth\":1,\"tickcolor\":\"rgb(36,36,36)\",\"ticks\":\"outside\"}},\"type\":\"scattergeo\"}],\"scattergl\":[{\"marker\":{\"colorbar\":{\"outlinewidth\":1,\"tickcolor\":\"rgb(36,36,36)\",\"ticks\":\"outside\"}},\"type\":\"scattergl\"}],\"scattermapbox\":[{\"marker\":{\"colorbar\":{\"outlinewidth\":1,\"tickcolor\":\"rgb(36,36,36)\",\"ticks\":\"outside\"}},\"type\":\"scattermapbox\"}],\"scatterpolargl\":[{\"marker\":{\"colorbar\":{\"outlinewidth\":1,\"tickcolor\":\"rgb(36,36,36)\",\"ticks\":\"outside\"}},\"type\":\"scatterpolargl\"}],\"scatterpolar\":[{\"marker\":{\"colorbar\":{\"outlinewidth\":1,\"tickcolor\":\"rgb(36,36,36)\",\"ticks\":\"outside\"}},\"type\":\"scatterpolar\"}],\"scatter\":[{\"marker\":{\"colorbar\":{\"outlinewidth\":1,\"tickcolor\":\"rgb(36,36,36)\",\"ticks\":\"outside\"}},\"type\":\"scatter\"}],\"scatterternary\":[{\"marker\":{\"colorbar\":{\"outlinewidth\":1,\"tickcolor\":\"rgb(36,36,36)\",\"ticks\":\"outside\"}},\"type\":\"scatterternary\"}],\"surface\":[{\"colorbar\":{\"outlinewidth\":1,\"tickcolor\":\"rgb(36,36,36)\",\"ticks\":\"outside\"},\"colorscale\":[[0.0,\"#440154\"],[0.1111111111111111,\"#482878\"],[0.2222222222222222,\"#3e4989\"],[0.3333333333333333,\"#31688e\"],[0.4444444444444444,\"#26828e\"],[0.5555555555555556,\"#1f9e89\"],[0.6666666666666666,\"#35b779\"],[0.7777777777777778,\"#6ece58\"],[0.8888888888888888,\"#b5de2b\"],[1.0,\"#fde725\"]],\"type\":\"surface\"}],\"table\":[{\"cells\":{\"fill\":{\"color\":\"rgb(237,237,237)\"},\"line\":{\"color\":\"white\"}},\"header\":{\"fill\":{\"color\":\"rgb(217,217,217)\"},\"line\":{\"color\":\"white\"}},\"type\":\"table\"}]},\"layout\":{\"annotationdefaults\":{\"arrowhead\":0,\"arrowwidth\":1},\"autotypenumbers\":\"strict\",\"coloraxis\":{\"colorbar\":{\"outlinewidth\":1,\"tickcolor\":\"rgb(36,36,36)\",\"ticks\":\"outside\"}},\"colorscale\":{\"diverging\":[[0.0,\"rgb(103,0,31)\"],[0.1,\"rgb(178,24,43)\"],[0.2,\"rgb(214,96,77)\"],[0.3,\"rgb(244,165,130)\"],[0.4,\"rgb(253,219,199)\"],[0.5,\"rgb(247,247,247)\"],[0.6,\"rgb(209,229,240)\"],[0.7,\"rgb(146,197,222)\"],[0.8,\"rgb(67,147,195)\"],[0.9,\"rgb(33,102,172)\"],[1.0,\"rgb(5,48,97)\"]],\"sequential\":[[0.0,\"#440154\"],[0.1111111111111111,\"#482878\"],[0.2222222222222222,\"#3e4989\"],[0.3333333333333333,\"#31688e\"],[0.4444444444444444,\"#26828e\"],[0.5555555555555556,\"#1f9e89\"],[0.6666666666666666,\"#35b779\"],[0.7777777777777778,\"#6ece58\"],[0.8888888888888888,\"#b5de2b\"],[1.0,\"#fde725\"]],\"sequentialminus\":[[0.0,\"#440154\"],[0.1111111111111111,\"#482878\"],[0.2222222222222222,\"#3e4989\"],[0.3333333333333333,\"#31688e\"],[0.4444444444444444,\"#26828e\"],[0.5555555555555556,\"#1f9e89\"],[0.6666666666666666,\"#35b779\"],[0.7777777777777778,\"#6ece58\"],[0.8888888888888888,\"#b5de2b\"],[1.0,\"#fde725\"]]},\"colorway\":[\"#1F77B4\",\"#FF7F0E\",\"#2CA02C\",\"#D62728\",\"#9467BD\",\"#8C564B\",\"#E377C2\",\"#7F7F7F\",\"#BCBD22\",\"#17BECF\"],\"font\":{\"color\":\"rgb(36,36,36)\"},\"geo\":{\"bgcolor\":\"white\",\"lakecolor\":\"white\",\"landcolor\":\"white\",\"showlakes\":true,\"showland\":true,\"subunitcolor\":\"white\"},\"hoverlabel\":{\"align\":\"left\"},\"hovermode\":\"closest\",\"mapbox\":{\"style\":\"light\"},\"paper_bgcolor\":\"white\",\"plot_bgcolor\":\"white\",\"polar\":{\"angularaxis\":{\"gridcolor\":\"rgb(232,232,232)\",\"linecolor\":\"rgb(36,36,36)\",\"showgrid\":false,\"showline\":true,\"ticks\":\"outside\"},\"bgcolor\":\"white\",\"radialaxis\":{\"gridcolor\":\"rgb(232,232,232)\",\"linecolor\":\"rgb(36,36,36)\",\"showgrid\":false,\"showline\":true,\"ticks\":\"outside\"}},\"scene\":{\"xaxis\":{\"backgroundcolor\":\"white\",\"gridcolor\":\"rgb(232,232,232)\",\"gridwidth\":2,\"linecolor\":\"rgb(36,36,36)\",\"showbackground\":true,\"showgrid\":false,\"showline\":true,\"ticks\":\"outside\",\"zeroline\":false,\"zerolinecolor\":\"rgb(36,36,36)\"},\"yaxis\":{\"backgroundcolor\":\"white\",\"gridcolor\":\"rgb(232,232,232)\",\"gridwidth\":2,\"linecolor\":\"rgb(36,36,36)\",\"showbackground\":true,\"showgrid\":false,\"showline\":true,\"ticks\":\"outside\",\"zeroline\":false,\"zerolinecolor\":\"rgb(36,36,36)\"},\"zaxis\":{\"backgroundcolor\":\"white\",\"gridcolor\":\"rgb(232,232,232)\",\"gridwidth\":2,\"linecolor\":\"rgb(36,36,36)\",\"showbackground\":true,\"showgrid\":false,\"showline\":true,\"ticks\":\"outside\",\"zeroline\":false,\"zerolinecolor\":\"rgb(36,36,36)\"}},\"shapedefaults\":{\"fillcolor\":\"black\",\"line\":{\"width\":0},\"opacity\":0.3},\"ternary\":{\"aaxis\":{\"gridcolor\":\"rgb(232,232,232)\",\"linecolor\":\"rgb(36,36,36)\",\"showgrid\":false,\"showline\":true,\"ticks\":\"outside\"},\"baxis\":{\"gridcolor\":\"rgb(232,232,232)\",\"linecolor\":\"rgb(36,36,36)\",\"showgrid\":false,\"showline\":true,\"ticks\":\"outside\"},\"bgcolor\":\"white\",\"caxis\":{\"gridcolor\":\"rgb(232,232,232)\",\"linecolor\":\"rgb(36,36,36)\",\"showgrid\":false,\"showline\":true,\"ticks\":\"outside\"}},\"title\":{\"x\":0.05},\"xaxis\":{\"automargin\":true,\"gridcolor\":\"rgb(232,232,232)\",\"linecolor\":\"rgb(36,36,36)\",\"showgrid\":false,\"showline\":true,\"ticks\":\"outside\",\"title\":{\"standoff\":15},\"zeroline\":false,\"zerolinecolor\":\"rgb(36,36,36)\"},\"yaxis\":{\"automargin\":true,\"gridcolor\":\"rgb(232,232,232)\",\"linecolor\":\"rgb(36,36,36)\",\"showgrid\":false,\"showline\":true,\"ticks\":\"outside\",\"title\":{\"standoff\":15},\"zeroline\":false,\"zerolinecolor\":\"rgb(36,36,36)\"}}},\"xaxis\":{\"visible\":true,\"showticklabels\":true,\"range\":[-7,7]},\"title\":{\"text\":\"\"},\"margin\":{\"l\":20,\"r\":20,\"t\":20,\"b\":20},\"font\":{\"family\":\"Arial\",\"size\":30,\"color\":\"black\"},\"barmode\":\"stack\",\"paper_bgcolor\":\"#f7f8fa\",\"width\":800,\"height\":800,\"annotations\":[{\"font\":{\"color\":\"black\",\"family\":\"Arial\",\"size\":25},\"showarrow\":false,\"text\":\"-1.14%\",\"x\":4,\"xref\":\"x\",\"y\":\"Small Cap Index (SMLL)\",\"yref\":\"y\"},{\"font\":{\"color\":\"black\",\"family\":\"Arial\",\"size\":25},\"showarrow\":false,\"text\":\"-2.41%\",\"x\":4,\"xref\":\"x\",\"y\":\"Brazil broad-Based (IBRA)\",\"yref\":\"y\"},{\"font\":{\"color\":\"black\",\"family\":\"Arial\",\"size\":25},\"showarrow\":false,\"text\":\"-2.46%\",\"x\":4,\"xref\":\"x\",\"y\":\"Bovespa Brazil 50 (IBX50)\",\"yref\":\"y\"},{\"font\":{\"color\":\"black\",\"family\":\"Arial\",\"size\":25},\"showarrow\":false,\"text\":\"-2.56%\",\"x\":4,\"xref\":\"x\",\"y\":\"Bovespa Tag Along (ITAG)\",\"yref\":\"y\"},{\"font\":{\"color\":\"black\",\"family\":\"Arial\",\"size\":25},\"showarrow\":false,\"text\":\"-2.57%\",\"x\":4,\"xref\":\"x\",\"y\":\"Mid-Large Cap Index (MLCX)\",\"yref\":\"y\"},{\"font\":{\"color\":\"black\",\"family\":\"Arial\",\"size\":25},\"showarrow\":false,\"text\":\"-2.61%\",\"x\":4,\"xref\":\"x\",\"y\":\"Brazil Index (IBRX)\",\"yref\":\"y\"},{\"font\":{\"color\":\"black\",\"family\":\"Arial\",\"size\":25},\"showarrow\":false,\"text\":\"-2.88%\",\"x\":4,\"xref\":\"x\",\"y\":\"Bovespa (BVSP)\",\"yref\":\"y\"}]},                        {\"responsive\": true}                    ).then(function(){\n",
       "                            \n",
       "var gd = document.getElementById('80fd7644-9d3e-418e-98b7-3dd75ddc8682');\n",
       "var x = new MutationObserver(function (mutations, observer) {{\n",
       "        var display = window.getComputedStyle(gd).display;\n",
       "        if (!display || display === 'none') {{\n",
       "            console.log([gd, 'removed!']);\n",
       "            Plotly.purge(gd);\n",
       "            observer.disconnect();\n",
       "        }}\n",
       "}});\n",
       "\n",
       "// Listen for the removal of the full notebook cells\n",
       "var notebookContainer = gd.closest('#notebook-container');\n",
       "if (notebookContainer) {{\n",
       "    x.observe(notebookContainer, {childList: true});\n",
       "}}\n",
       "\n",
       "// Listen for the clearing of the current output cell\n",
       "var outputEl = gd.closest('.output');\n",
       "if (outputEl) {{\n",
       "    x.observe(outputEl, {childList: true});\n",
       "}}\n",
       "\n",
       "                        })                };                });            </script>        </div>"
      ]
     },
     "metadata": {},
     "output_type": "display_data"
    }
   ],
   "source": [
    "df_stocks_Brasil = df_stocks_Brasil.sort_values(by='Result_%',ascending=False)\n",
    "df_stocks_Brasil[\"Color\"] = np.where(df_stocks_Brasil[\"Result_%\"] < 0, 'red', 'green')\n",
    "\n",
    "fig = go.Figure()\n",
    "\n",
    "fig.add_trace(go.Bar(name='Net', x=df_stocks_Brasil['Result_%'], y=df_stocks_Brasil['Market Index'], marker_color=df_stocks_Brasil['Color'],orientation='h'))\n",
    "\n",
    "annotations = []\n",
    "\n",
    "x_pos = []\n",
    "y_pos = []\n",
    "x_neg = []\n",
    "y_neg = []\n",
    "\n",
    "for i in range(0,len(df_stocks_Brasil)):\n",
    "  if df_stocks_Brasil[\"Result_%\"].iloc[i] > 0:\n",
    "    x_pos.append(df_stocks_Brasil[\"Market Index\"].iloc[i])\n",
    "    y_pos.append(np.round(df_stocks_Brasil[\"Result_%\"].iloc[i], decimals=2))\n",
    "  else:\n",
    "    x_neg.append(df_stocks_Brasil[\"Market Index\"].iloc[i])\n",
    "    y_neg.append(np.round(df_stocks_Brasil[\"Result_%\"].iloc[i], decimals=2))\n",
    "\n",
    "for yd, xd in zip(y_pos, x_pos):\n",
    "  annotations.append(dict(xref='x1', yref='y1', y=xd, x=yd + 6, text= str(yd)+'%', \n",
    "                            font=dict(family='Arial', size=25, color='black'), showarrow=False))\n",
    "\n",
    "for yd, xd in zip(y_neg, x_neg):\n",
    "  annotations.append(dict(xref='x1', yref='y1', y=xd, x=4, text= str(yd)+'%', \n",
    "                            font=dict(family='Arial', size=25, color='black'), showarrow=False))\n",
    "\n",
    "fig.update_xaxes(visible=True, showticklabels=True,range=[-7, 7])\n",
    "fig.update_layout(barmode='stack',title_text='',template = 'simple_white',margin=dict(l=20, r=20, t=20, b=20),\n",
    "                  paper_bgcolor=\"#f7f8fa\",width=800,height=800,annotations=annotations,\n",
    "                  font=dict(family=\"Arial\",size=30,color=\"black\"))\n",
    "\n",
    "fig.show()"
   ]
  },
  {
   "cell_type": "code",
   "execution_count": 154,
   "id": "ea9ca0a5",
   "metadata": {},
   "outputs": [
    {
     "data": {
      "text/html": [
       "<div>\n",
       "<style scoped>\n",
       "    .dataframe tbody tr th:only-of-type {\n",
       "        vertical-align: middle;\n",
       "    }\n",
       "\n",
       "    .dataframe tbody tr th {\n",
       "        vertical-align: top;\n",
       "    }\n",
       "\n",
       "    .dataframe thead th {\n",
       "        text-align: right;\n",
       "    }\n",
       "</style>\n",
       "<table border=\"1\" class=\"dataframe\">\n",
       "  <thead>\n",
       "    <tr style=\"text-align: right;\">\n",
       "      <th></th>\n",
       "      <th>Open</th>\n",
       "      <th>High</th>\n",
       "      <th>Low</th>\n",
       "      <th>Close</th>\n",
       "      <th>Volume</th>\n",
       "      <th>Change Pct</th>\n",
       "      <th>Market Indices</th>\n",
       "      <th>País</th>\n",
       "    </tr>\n",
       "    <tr>\n",
       "      <th>Date</th>\n",
       "      <th></th>\n",
       "      <th></th>\n",
       "      <th></th>\n",
       "      <th></th>\n",
       "      <th></th>\n",
       "      <th></th>\n",
       "      <th></th>\n",
       "      <th></th>\n",
       "    </tr>\n",
       "  </thead>\n",
       "  <tbody>\n",
       "    <tr>\n",
       "      <th>2022-04-25</th>\n",
       "      <td>111077.0</td>\n",
       "      <td>111155.0</td>\n",
       "      <td>109222.0</td>\n",
       "      <td>110685.0</td>\n",
       "      <td>11098277</td>\n",
       "      <td>-0.35</td>\n",
       "      <td>Bovespa (BVSP)</td>\n",
       "      <td>Brazil</td>\n",
       "    </tr>\n",
       "    <tr>\n",
       "      <th>2022-04-26</th>\n",
       "      <td>110684.0</td>\n",
       "      <td>110685.0</td>\n",
       "      <td>107978.0</td>\n",
       "      <td>108213.0</td>\n",
       "      <td>11747536</td>\n",
       "      <td>-2.23</td>\n",
       "      <td>Bovespa (BVSP)</td>\n",
       "      <td>Brazil</td>\n",
       "    </tr>\n",
       "    <tr>\n",
       "      <th>2022-04-27</th>\n",
       "      <td>108214.0</td>\n",
       "      <td>110107.0</td>\n",
       "      <td>108214.0</td>\n",
       "      <td>109349.0</td>\n",
       "      <td>11515690</td>\n",
       "      <td>1.05</td>\n",
       "      <td>Bovespa (BVSP)</td>\n",
       "      <td>Brazil</td>\n",
       "    </tr>\n",
       "    <tr>\n",
       "      <th>2022-04-28</th>\n",
       "      <td>109349.0</td>\n",
       "      <td>110702.0</td>\n",
       "      <td>108905.0</td>\n",
       "      <td>109919.0</td>\n",
       "      <td>11129859</td>\n",
       "      <td>0.52</td>\n",
       "      <td>Bovespa (BVSP)</td>\n",
       "      <td>Brazil</td>\n",
       "    </tr>\n",
       "    <tr>\n",
       "      <th>2022-04-29</th>\n",
       "      <td>109922.0</td>\n",
       "      <td>111819.0</td>\n",
       "      <td>107876.0</td>\n",
       "      <td>107876.0</td>\n",
       "      <td>13662160</td>\n",
       "      <td>-1.86</td>\n",
       "      <td>Bovespa (BVSP)</td>\n",
       "      <td>Brazil</td>\n",
       "    </tr>\n",
       "  </tbody>\n",
       "</table>\n",
       "</div>"
      ],
      "text/plain": [
       "                Open      High       Low     Close    Volume  Change Pct  \\\n",
       "Date                                                                       \n",
       "2022-04-25  111077.0  111155.0  109222.0  110685.0  11098277       -0.35   \n",
       "2022-04-26  110684.0  110685.0  107978.0  108213.0  11747536       -2.23   \n",
       "2022-04-27  108214.0  110107.0  108214.0  109349.0  11515690        1.05   \n",
       "2022-04-28  109349.0  110702.0  108905.0  109919.0  11129859        0.52   \n",
       "2022-04-29  109922.0  111819.0  107876.0  107876.0  13662160       -1.86   \n",
       "\n",
       "            Market Indices    País  \n",
       "Date                                \n",
       "2022-04-25  Bovespa (BVSP)  Brazil  \n",
       "2022-04-26  Bovespa (BVSP)  Brazil  \n",
       "2022-04-27  Bovespa (BVSP)  Brazil  \n",
       "2022-04-28  Bovespa (BVSP)  Brazil  \n",
       "2022-04-29  Bovespa (BVSP)  Brazil  "
      ]
     },
     "execution_count": 154,
     "metadata": {},
     "output_type": "execute_result"
    }
   ],
   "source": [
    "BVSP_search_result_data"
   ]
  },
  {
   "cell_type": "code",
   "execution_count": 155,
   "id": "96675878",
   "metadata": {},
   "outputs": [
    {
     "data": {
      "application/vnd.plotly.v1+json": {
       "config": {
        "plotlyServerURL": "https://plot.ly"
       },
       "data": [
        {
         "close": [
          110685,
          108213,
          109349,
          109919,
          107876
         ],
         "decreasing": {
          "line": {
           "color": "red"
          }
         },
         "high": [
          111155,
          110685,
          110107,
          110702,
          111819
         ],
         "increasing": {
          "line": {
           "color": "green"
          }
         },
         "line": {
          "width": 3
         },
         "low": [
          109222,
          107978,
          108214,
          108905,
          107876
         ],
         "name": "BVSP",
         "open": [
          111077,
          110684,
          108214,
          109349,
          109922
         ],
         "type": "candlestick",
         "x": [
          "2022-04-25T00:00:00",
          "2022-04-26T00:00:00",
          "2022-04-27T00:00:00",
          "2022-04-28T00:00:00",
          "2022-04-29T00:00:00"
         ]
        }
       ],
       "layout": {
        "font": {
         "color": "black",
         "family": "Arial",
         "size": 25
        },
        "height": 800,
        "margin": {
         "b": 20,
         "l": 20,
         "r": 20,
         "t": 20
        },
        "paper_bgcolor": "#f7f8fa",
        "template": {
         "data": {
          "bar": [
           {
            "error_x": {
             "color": "rgb(36,36,36)"
            },
            "error_y": {
             "color": "rgb(36,36,36)"
            },
            "marker": {
             "line": {
              "color": "white",
              "width": 0.5
             },
             "pattern": {
              "fillmode": "overlay",
              "size": 10,
              "solidity": 0.2
             }
            },
            "type": "bar"
           }
          ],
          "barpolar": [
           {
            "marker": {
             "line": {
              "color": "white",
              "width": 0.5
             },
             "pattern": {
              "fillmode": "overlay",
              "size": 10,
              "solidity": 0.2
             }
            },
            "type": "barpolar"
           }
          ],
          "carpet": [
           {
            "aaxis": {
             "endlinecolor": "rgb(36,36,36)",
             "gridcolor": "white",
             "linecolor": "white",
             "minorgridcolor": "white",
             "startlinecolor": "rgb(36,36,36)"
            },
            "baxis": {
             "endlinecolor": "rgb(36,36,36)",
             "gridcolor": "white",
             "linecolor": "white",
             "minorgridcolor": "white",
             "startlinecolor": "rgb(36,36,36)"
            },
            "type": "carpet"
           }
          ],
          "choropleth": [
           {
            "colorbar": {
             "outlinewidth": 1,
             "tickcolor": "rgb(36,36,36)",
             "ticks": "outside"
            },
            "type": "choropleth"
           }
          ],
          "contour": [
           {
            "colorbar": {
             "outlinewidth": 1,
             "tickcolor": "rgb(36,36,36)",
             "ticks": "outside"
            },
            "colorscale": [
             [
              0,
              "#440154"
             ],
             [
              0.1111111111111111,
              "#482878"
             ],
             [
              0.2222222222222222,
              "#3e4989"
             ],
             [
              0.3333333333333333,
              "#31688e"
             ],
             [
              0.4444444444444444,
              "#26828e"
             ],
             [
              0.5555555555555556,
              "#1f9e89"
             ],
             [
              0.6666666666666666,
              "#35b779"
             ],
             [
              0.7777777777777778,
              "#6ece58"
             ],
             [
              0.8888888888888888,
              "#b5de2b"
             ],
             [
              1,
              "#fde725"
             ]
            ],
            "type": "contour"
           }
          ],
          "contourcarpet": [
           {
            "colorbar": {
             "outlinewidth": 1,
             "tickcolor": "rgb(36,36,36)",
             "ticks": "outside"
            },
            "type": "contourcarpet"
           }
          ],
          "heatmap": [
           {
            "colorbar": {
             "outlinewidth": 1,
             "tickcolor": "rgb(36,36,36)",
             "ticks": "outside"
            },
            "colorscale": [
             [
              0,
              "#440154"
             ],
             [
              0.1111111111111111,
              "#482878"
             ],
             [
              0.2222222222222222,
              "#3e4989"
             ],
             [
              0.3333333333333333,
              "#31688e"
             ],
             [
              0.4444444444444444,
              "#26828e"
             ],
             [
              0.5555555555555556,
              "#1f9e89"
             ],
             [
              0.6666666666666666,
              "#35b779"
             ],
             [
              0.7777777777777778,
              "#6ece58"
             ],
             [
              0.8888888888888888,
              "#b5de2b"
             ],
             [
              1,
              "#fde725"
             ]
            ],
            "type": "heatmap"
           }
          ],
          "heatmapgl": [
           {
            "colorbar": {
             "outlinewidth": 1,
             "tickcolor": "rgb(36,36,36)",
             "ticks": "outside"
            },
            "colorscale": [
             [
              0,
              "#440154"
             ],
             [
              0.1111111111111111,
              "#482878"
             ],
             [
              0.2222222222222222,
              "#3e4989"
             ],
             [
              0.3333333333333333,
              "#31688e"
             ],
             [
              0.4444444444444444,
              "#26828e"
             ],
             [
              0.5555555555555556,
              "#1f9e89"
             ],
             [
              0.6666666666666666,
              "#35b779"
             ],
             [
              0.7777777777777778,
              "#6ece58"
             ],
             [
              0.8888888888888888,
              "#b5de2b"
             ],
             [
              1,
              "#fde725"
             ]
            ],
            "type": "heatmapgl"
           }
          ],
          "histogram": [
           {
            "marker": {
             "line": {
              "color": "white",
              "width": 0.6
             }
            },
            "type": "histogram"
           }
          ],
          "histogram2d": [
           {
            "colorbar": {
             "outlinewidth": 1,
             "tickcolor": "rgb(36,36,36)",
             "ticks": "outside"
            },
            "colorscale": [
             [
              0,
              "#440154"
             ],
             [
              0.1111111111111111,
              "#482878"
             ],
             [
              0.2222222222222222,
              "#3e4989"
             ],
             [
              0.3333333333333333,
              "#31688e"
             ],
             [
              0.4444444444444444,
              "#26828e"
             ],
             [
              0.5555555555555556,
              "#1f9e89"
             ],
             [
              0.6666666666666666,
              "#35b779"
             ],
             [
              0.7777777777777778,
              "#6ece58"
             ],
             [
              0.8888888888888888,
              "#b5de2b"
             ],
             [
              1,
              "#fde725"
             ]
            ],
            "type": "histogram2d"
           }
          ],
          "histogram2dcontour": [
           {
            "colorbar": {
             "outlinewidth": 1,
             "tickcolor": "rgb(36,36,36)",
             "ticks": "outside"
            },
            "colorscale": [
             [
              0,
              "#440154"
             ],
             [
              0.1111111111111111,
              "#482878"
             ],
             [
              0.2222222222222222,
              "#3e4989"
             ],
             [
              0.3333333333333333,
              "#31688e"
             ],
             [
              0.4444444444444444,
              "#26828e"
             ],
             [
              0.5555555555555556,
              "#1f9e89"
             ],
             [
              0.6666666666666666,
              "#35b779"
             ],
             [
              0.7777777777777778,
              "#6ece58"
             ],
             [
              0.8888888888888888,
              "#b5de2b"
             ],
             [
              1,
              "#fde725"
             ]
            ],
            "type": "histogram2dcontour"
           }
          ],
          "mesh3d": [
           {
            "colorbar": {
             "outlinewidth": 1,
             "tickcolor": "rgb(36,36,36)",
             "ticks": "outside"
            },
            "type": "mesh3d"
           }
          ],
          "parcoords": [
           {
            "line": {
             "colorbar": {
              "outlinewidth": 1,
              "tickcolor": "rgb(36,36,36)",
              "ticks": "outside"
             }
            },
            "type": "parcoords"
           }
          ],
          "pie": [
           {
            "automargin": true,
            "type": "pie"
           }
          ],
          "scatter": [
           {
            "marker": {
             "colorbar": {
              "outlinewidth": 1,
              "tickcolor": "rgb(36,36,36)",
              "ticks": "outside"
             }
            },
            "type": "scatter"
           }
          ],
          "scatter3d": [
           {
            "line": {
             "colorbar": {
              "outlinewidth": 1,
              "tickcolor": "rgb(36,36,36)",
              "ticks": "outside"
             }
            },
            "marker": {
             "colorbar": {
              "outlinewidth": 1,
              "tickcolor": "rgb(36,36,36)",
              "ticks": "outside"
             }
            },
            "type": "scatter3d"
           }
          ],
          "scattercarpet": [
           {
            "marker": {
             "colorbar": {
              "outlinewidth": 1,
              "tickcolor": "rgb(36,36,36)",
              "ticks": "outside"
             }
            },
            "type": "scattercarpet"
           }
          ],
          "scattergeo": [
           {
            "marker": {
             "colorbar": {
              "outlinewidth": 1,
              "tickcolor": "rgb(36,36,36)",
              "ticks": "outside"
             }
            },
            "type": "scattergeo"
           }
          ],
          "scattergl": [
           {
            "marker": {
             "colorbar": {
              "outlinewidth": 1,
              "tickcolor": "rgb(36,36,36)",
              "ticks": "outside"
             }
            },
            "type": "scattergl"
           }
          ],
          "scattermapbox": [
           {
            "marker": {
             "colorbar": {
              "outlinewidth": 1,
              "tickcolor": "rgb(36,36,36)",
              "ticks": "outside"
             }
            },
            "type": "scattermapbox"
           }
          ],
          "scatterpolar": [
           {
            "marker": {
             "colorbar": {
              "outlinewidth": 1,
              "tickcolor": "rgb(36,36,36)",
              "ticks": "outside"
             }
            },
            "type": "scatterpolar"
           }
          ],
          "scatterpolargl": [
           {
            "marker": {
             "colorbar": {
              "outlinewidth": 1,
              "tickcolor": "rgb(36,36,36)",
              "ticks": "outside"
             }
            },
            "type": "scatterpolargl"
           }
          ],
          "scatterternary": [
           {
            "marker": {
             "colorbar": {
              "outlinewidth": 1,
              "tickcolor": "rgb(36,36,36)",
              "ticks": "outside"
             }
            },
            "type": "scatterternary"
           }
          ],
          "surface": [
           {
            "colorbar": {
             "outlinewidth": 1,
             "tickcolor": "rgb(36,36,36)",
             "ticks": "outside"
            },
            "colorscale": [
             [
              0,
              "#440154"
             ],
             [
              0.1111111111111111,
              "#482878"
             ],
             [
              0.2222222222222222,
              "#3e4989"
             ],
             [
              0.3333333333333333,
              "#31688e"
             ],
             [
              0.4444444444444444,
              "#26828e"
             ],
             [
              0.5555555555555556,
              "#1f9e89"
             ],
             [
              0.6666666666666666,
              "#35b779"
             ],
             [
              0.7777777777777778,
              "#6ece58"
             ],
             [
              0.8888888888888888,
              "#b5de2b"
             ],
             [
              1,
              "#fde725"
             ]
            ],
            "type": "surface"
           }
          ],
          "table": [
           {
            "cells": {
             "fill": {
              "color": "rgb(237,237,237)"
             },
             "line": {
              "color": "white"
             }
            },
            "header": {
             "fill": {
              "color": "rgb(217,217,217)"
             },
             "line": {
              "color": "white"
             }
            },
            "type": "table"
           }
          ]
         },
         "layout": {
          "annotationdefaults": {
           "arrowhead": 0,
           "arrowwidth": 1
          },
          "autotypenumbers": "strict",
          "coloraxis": {
           "colorbar": {
            "outlinewidth": 1,
            "tickcolor": "rgb(36,36,36)",
            "ticks": "outside"
           }
          },
          "colorscale": {
           "diverging": [
            [
             0,
             "rgb(103,0,31)"
            ],
            [
             0.1,
             "rgb(178,24,43)"
            ],
            [
             0.2,
             "rgb(214,96,77)"
            ],
            [
             0.3,
             "rgb(244,165,130)"
            ],
            [
             0.4,
             "rgb(253,219,199)"
            ],
            [
             0.5,
             "rgb(247,247,247)"
            ],
            [
             0.6,
             "rgb(209,229,240)"
            ],
            [
             0.7,
             "rgb(146,197,222)"
            ],
            [
             0.8,
             "rgb(67,147,195)"
            ],
            [
             0.9,
             "rgb(33,102,172)"
            ],
            [
             1,
             "rgb(5,48,97)"
            ]
           ],
           "sequential": [
            [
             0,
             "#440154"
            ],
            [
             0.1111111111111111,
             "#482878"
            ],
            [
             0.2222222222222222,
             "#3e4989"
            ],
            [
             0.3333333333333333,
             "#31688e"
            ],
            [
             0.4444444444444444,
             "#26828e"
            ],
            [
             0.5555555555555556,
             "#1f9e89"
            ],
            [
             0.6666666666666666,
             "#35b779"
            ],
            [
             0.7777777777777778,
             "#6ece58"
            ],
            [
             0.8888888888888888,
             "#b5de2b"
            ],
            [
             1,
             "#fde725"
            ]
           ],
           "sequentialminus": [
            [
             0,
             "#440154"
            ],
            [
             0.1111111111111111,
             "#482878"
            ],
            [
             0.2222222222222222,
             "#3e4989"
            ],
            [
             0.3333333333333333,
             "#31688e"
            ],
            [
             0.4444444444444444,
             "#26828e"
            ],
            [
             0.5555555555555556,
             "#1f9e89"
            ],
            [
             0.6666666666666666,
             "#35b779"
            ],
            [
             0.7777777777777778,
             "#6ece58"
            ],
            [
             0.8888888888888888,
             "#b5de2b"
            ],
            [
             1,
             "#fde725"
            ]
           ]
          },
          "colorway": [
           "#1F77B4",
           "#FF7F0E",
           "#2CA02C",
           "#D62728",
           "#9467BD",
           "#8C564B",
           "#E377C2",
           "#7F7F7F",
           "#BCBD22",
           "#17BECF"
          ],
          "font": {
           "color": "rgb(36,36,36)"
          },
          "geo": {
           "bgcolor": "white",
           "lakecolor": "white",
           "landcolor": "white",
           "showlakes": true,
           "showland": true,
           "subunitcolor": "white"
          },
          "hoverlabel": {
           "align": "left"
          },
          "hovermode": "closest",
          "mapbox": {
           "style": "light"
          },
          "paper_bgcolor": "white",
          "plot_bgcolor": "white",
          "polar": {
           "angularaxis": {
            "gridcolor": "rgb(232,232,232)",
            "linecolor": "rgb(36,36,36)",
            "showgrid": false,
            "showline": true,
            "ticks": "outside"
           },
           "bgcolor": "white",
           "radialaxis": {
            "gridcolor": "rgb(232,232,232)",
            "linecolor": "rgb(36,36,36)",
            "showgrid": false,
            "showline": true,
            "ticks": "outside"
           }
          },
          "scene": {
           "xaxis": {
            "backgroundcolor": "white",
            "gridcolor": "rgb(232,232,232)",
            "gridwidth": 2,
            "linecolor": "rgb(36,36,36)",
            "showbackground": true,
            "showgrid": false,
            "showline": true,
            "ticks": "outside",
            "zeroline": false,
            "zerolinecolor": "rgb(36,36,36)"
           },
           "yaxis": {
            "backgroundcolor": "white",
            "gridcolor": "rgb(232,232,232)",
            "gridwidth": 2,
            "linecolor": "rgb(36,36,36)",
            "showbackground": true,
            "showgrid": false,
            "showline": true,
            "ticks": "outside",
            "zeroline": false,
            "zerolinecolor": "rgb(36,36,36)"
           },
           "zaxis": {
            "backgroundcolor": "white",
            "gridcolor": "rgb(232,232,232)",
            "gridwidth": 2,
            "linecolor": "rgb(36,36,36)",
            "showbackground": true,
            "showgrid": false,
            "showline": true,
            "ticks": "outside",
            "zeroline": false,
            "zerolinecolor": "rgb(36,36,36)"
           }
          },
          "shapedefaults": {
           "fillcolor": "black",
           "line": {
            "width": 0
           },
           "opacity": 0.3
          },
          "ternary": {
           "aaxis": {
            "gridcolor": "rgb(232,232,232)",
            "linecolor": "rgb(36,36,36)",
            "showgrid": false,
            "showline": true,
            "ticks": "outside"
           },
           "baxis": {
            "gridcolor": "rgb(232,232,232)",
            "linecolor": "rgb(36,36,36)",
            "showgrid": false,
            "showline": true,
            "ticks": "outside"
           },
           "bgcolor": "white",
           "caxis": {
            "gridcolor": "rgb(232,232,232)",
            "linecolor": "rgb(36,36,36)",
            "showgrid": false,
            "showline": true,
            "ticks": "outside"
           }
          },
          "title": {
           "x": 0.05
          },
          "xaxis": {
           "automargin": true,
           "gridcolor": "rgb(232,232,232)",
           "linecolor": "rgb(36,36,36)",
           "showgrid": false,
           "showline": true,
           "ticks": "outside",
           "title": {
            "standoff": 15
           },
           "zeroline": false,
           "zerolinecolor": "rgb(36,36,36)"
          },
          "yaxis": {
           "automargin": true,
           "gridcolor": "rgb(232,232,232)",
           "linecolor": "rgb(36,36,36)",
           "showgrid": false,
           "showline": true,
           "ticks": "outside",
           "title": {
            "standoff": 15
           },
           "zeroline": false,
           "zerolinecolor": "rgb(36,36,36)"
          }
         }
        },
        "title": {
         "text": ""
        },
        "width": 800,
        "xaxis": {
         "rangebreaks": [
          {
           "bounds": [
            "sat",
            "mon"
           ]
          },
          {
           "values": [
            "2022-04-21"
           ]
          }
         ],
         "rangeslider": {
          "visible": false
         },
         "title": {
          "text": "<b> Data"
         }
        },
        "yaxis": {
         "title": {
          "text": "<b> Pontos BVSP"
         }
        }
       }
      },
      "text/html": [
       "<div>                            <div id=\"560ed26c-65c6-47bd-98a9-71ef29de81de\" class=\"plotly-graph-div\" style=\"height:800px; width:800px;\"></div>            <script type=\"text/javascript\">                require([\"plotly\"], function(Plotly) {                    window.PLOTLYENV=window.PLOTLYENV || {};                                    if (document.getElementById(\"560ed26c-65c6-47bd-98a9-71ef29de81de\")) {                    Plotly.newPlot(                        \"560ed26c-65c6-47bd-98a9-71ef29de81de\",                        [{\"close\":[110685.0,108213.0,109349.0,109919.0,107876.0],\"decreasing\":{\"line\":{\"color\":\"red\"}},\"high\":[111155.0,110685.0,110107.0,110702.0,111819.0],\"increasing\":{\"line\":{\"color\":\"green\"}},\"low\":[109222.0,107978.0,108214.0,108905.0,107876.0],\"name\":\"BVSP\",\"open\":[111077.0,110684.0,108214.0,109349.0,109922.0],\"x\":[\"2022-04-25T00:00:00\",\"2022-04-26T00:00:00\",\"2022-04-27T00:00:00\",\"2022-04-28T00:00:00\",\"2022-04-29T00:00:00\"],\"type\":\"candlestick\",\"line\":{\"width\":3}}],                        {\"template\":{\"data\":{\"barpolar\":[{\"marker\":{\"line\":{\"color\":\"white\",\"width\":0.5},\"pattern\":{\"fillmode\":\"overlay\",\"size\":10,\"solidity\":0.2}},\"type\":\"barpolar\"}],\"bar\":[{\"error_x\":{\"color\":\"rgb(36,36,36)\"},\"error_y\":{\"color\":\"rgb(36,36,36)\"},\"marker\":{\"line\":{\"color\":\"white\",\"width\":0.5},\"pattern\":{\"fillmode\":\"overlay\",\"size\":10,\"solidity\":0.2}},\"type\":\"bar\"}],\"carpet\":[{\"aaxis\":{\"endlinecolor\":\"rgb(36,36,36)\",\"gridcolor\":\"white\",\"linecolor\":\"white\",\"minorgridcolor\":\"white\",\"startlinecolor\":\"rgb(36,36,36)\"},\"baxis\":{\"endlinecolor\":\"rgb(36,36,36)\",\"gridcolor\":\"white\",\"linecolor\":\"white\",\"minorgridcolor\":\"white\",\"startlinecolor\":\"rgb(36,36,36)\"},\"type\":\"carpet\"}],\"choropleth\":[{\"colorbar\":{\"outlinewidth\":1,\"tickcolor\":\"rgb(36,36,36)\",\"ticks\":\"outside\"},\"type\":\"choropleth\"}],\"contourcarpet\":[{\"colorbar\":{\"outlinewidth\":1,\"tickcolor\":\"rgb(36,36,36)\",\"ticks\":\"outside\"},\"type\":\"contourcarpet\"}],\"contour\":[{\"colorbar\":{\"outlinewidth\":1,\"tickcolor\":\"rgb(36,36,36)\",\"ticks\":\"outside\"},\"colorscale\":[[0.0,\"#440154\"],[0.1111111111111111,\"#482878\"],[0.2222222222222222,\"#3e4989\"],[0.3333333333333333,\"#31688e\"],[0.4444444444444444,\"#26828e\"],[0.5555555555555556,\"#1f9e89\"],[0.6666666666666666,\"#35b779\"],[0.7777777777777778,\"#6ece58\"],[0.8888888888888888,\"#b5de2b\"],[1.0,\"#fde725\"]],\"type\":\"contour\"}],\"heatmapgl\":[{\"colorbar\":{\"outlinewidth\":1,\"tickcolor\":\"rgb(36,36,36)\",\"ticks\":\"outside\"},\"colorscale\":[[0.0,\"#440154\"],[0.1111111111111111,\"#482878\"],[0.2222222222222222,\"#3e4989\"],[0.3333333333333333,\"#31688e\"],[0.4444444444444444,\"#26828e\"],[0.5555555555555556,\"#1f9e89\"],[0.6666666666666666,\"#35b779\"],[0.7777777777777778,\"#6ece58\"],[0.8888888888888888,\"#b5de2b\"],[1.0,\"#fde725\"]],\"type\":\"heatmapgl\"}],\"heatmap\":[{\"colorbar\":{\"outlinewidth\":1,\"tickcolor\":\"rgb(36,36,36)\",\"ticks\":\"outside\"},\"colorscale\":[[0.0,\"#440154\"],[0.1111111111111111,\"#482878\"],[0.2222222222222222,\"#3e4989\"],[0.3333333333333333,\"#31688e\"],[0.4444444444444444,\"#26828e\"],[0.5555555555555556,\"#1f9e89\"],[0.6666666666666666,\"#35b779\"],[0.7777777777777778,\"#6ece58\"],[0.8888888888888888,\"#b5de2b\"],[1.0,\"#fde725\"]],\"type\":\"heatmap\"}],\"histogram2dcontour\":[{\"colorbar\":{\"outlinewidth\":1,\"tickcolor\":\"rgb(36,36,36)\",\"ticks\":\"outside\"},\"colorscale\":[[0.0,\"#440154\"],[0.1111111111111111,\"#482878\"],[0.2222222222222222,\"#3e4989\"],[0.3333333333333333,\"#31688e\"],[0.4444444444444444,\"#26828e\"],[0.5555555555555556,\"#1f9e89\"],[0.6666666666666666,\"#35b779\"],[0.7777777777777778,\"#6ece58\"],[0.8888888888888888,\"#b5de2b\"],[1.0,\"#fde725\"]],\"type\":\"histogram2dcontour\"}],\"histogram2d\":[{\"colorbar\":{\"outlinewidth\":1,\"tickcolor\":\"rgb(36,36,36)\",\"ticks\":\"outside\"},\"colorscale\":[[0.0,\"#440154\"],[0.1111111111111111,\"#482878\"],[0.2222222222222222,\"#3e4989\"],[0.3333333333333333,\"#31688e\"],[0.4444444444444444,\"#26828e\"],[0.5555555555555556,\"#1f9e89\"],[0.6666666666666666,\"#35b779\"],[0.7777777777777778,\"#6ece58\"],[0.8888888888888888,\"#b5de2b\"],[1.0,\"#fde725\"]],\"type\":\"histogram2d\"}],\"histogram\":[{\"marker\":{\"line\":{\"color\":\"white\",\"width\":0.6}},\"type\":\"histogram\"}],\"mesh3d\":[{\"colorbar\":{\"outlinewidth\":1,\"tickcolor\":\"rgb(36,36,36)\",\"ticks\":\"outside\"},\"type\":\"mesh3d\"}],\"parcoords\":[{\"line\":{\"colorbar\":{\"outlinewidth\":1,\"tickcolor\":\"rgb(36,36,36)\",\"ticks\":\"outside\"}},\"type\":\"parcoords\"}],\"pie\":[{\"automargin\":true,\"type\":\"pie\"}],\"scatter3d\":[{\"line\":{\"colorbar\":{\"outlinewidth\":1,\"tickcolor\":\"rgb(36,36,36)\",\"ticks\":\"outside\"}},\"marker\":{\"colorbar\":{\"outlinewidth\":1,\"tickcolor\":\"rgb(36,36,36)\",\"ticks\":\"outside\"}},\"type\":\"scatter3d\"}],\"scattercarpet\":[{\"marker\":{\"colorbar\":{\"outlinewidth\":1,\"tickcolor\":\"rgb(36,36,36)\",\"ticks\":\"outside\"}},\"type\":\"scattercarpet\"}],\"scattergeo\":[{\"marker\":{\"colorbar\":{\"outlinewidth\":1,\"tickcolor\":\"rgb(36,36,36)\",\"ticks\":\"outside\"}},\"type\":\"scattergeo\"}],\"scattergl\":[{\"marker\":{\"colorbar\":{\"outlinewidth\":1,\"tickcolor\":\"rgb(36,36,36)\",\"ticks\":\"outside\"}},\"type\":\"scattergl\"}],\"scattermapbox\":[{\"marker\":{\"colorbar\":{\"outlinewidth\":1,\"tickcolor\":\"rgb(36,36,36)\",\"ticks\":\"outside\"}},\"type\":\"scattermapbox\"}],\"scatterpolargl\":[{\"marker\":{\"colorbar\":{\"outlinewidth\":1,\"tickcolor\":\"rgb(36,36,36)\",\"ticks\":\"outside\"}},\"type\":\"scatterpolargl\"}],\"scatterpolar\":[{\"marker\":{\"colorbar\":{\"outlinewidth\":1,\"tickcolor\":\"rgb(36,36,36)\",\"ticks\":\"outside\"}},\"type\":\"scatterpolar\"}],\"scatter\":[{\"marker\":{\"colorbar\":{\"outlinewidth\":1,\"tickcolor\":\"rgb(36,36,36)\",\"ticks\":\"outside\"}},\"type\":\"scatter\"}],\"scatterternary\":[{\"marker\":{\"colorbar\":{\"outlinewidth\":1,\"tickcolor\":\"rgb(36,36,36)\",\"ticks\":\"outside\"}},\"type\":\"scatterternary\"}],\"surface\":[{\"colorbar\":{\"outlinewidth\":1,\"tickcolor\":\"rgb(36,36,36)\",\"ticks\":\"outside\"},\"colorscale\":[[0.0,\"#440154\"],[0.1111111111111111,\"#482878\"],[0.2222222222222222,\"#3e4989\"],[0.3333333333333333,\"#31688e\"],[0.4444444444444444,\"#26828e\"],[0.5555555555555556,\"#1f9e89\"],[0.6666666666666666,\"#35b779\"],[0.7777777777777778,\"#6ece58\"],[0.8888888888888888,\"#b5de2b\"],[1.0,\"#fde725\"]],\"type\":\"surface\"}],\"table\":[{\"cells\":{\"fill\":{\"color\":\"rgb(237,237,237)\"},\"line\":{\"color\":\"white\"}},\"header\":{\"fill\":{\"color\":\"rgb(217,217,217)\"},\"line\":{\"color\":\"white\"}},\"type\":\"table\"}]},\"layout\":{\"annotationdefaults\":{\"arrowhead\":0,\"arrowwidth\":1},\"autotypenumbers\":\"strict\",\"coloraxis\":{\"colorbar\":{\"outlinewidth\":1,\"tickcolor\":\"rgb(36,36,36)\",\"ticks\":\"outside\"}},\"colorscale\":{\"diverging\":[[0.0,\"rgb(103,0,31)\"],[0.1,\"rgb(178,24,43)\"],[0.2,\"rgb(214,96,77)\"],[0.3,\"rgb(244,165,130)\"],[0.4,\"rgb(253,219,199)\"],[0.5,\"rgb(247,247,247)\"],[0.6,\"rgb(209,229,240)\"],[0.7,\"rgb(146,197,222)\"],[0.8,\"rgb(67,147,195)\"],[0.9,\"rgb(33,102,172)\"],[1.0,\"rgb(5,48,97)\"]],\"sequential\":[[0.0,\"#440154\"],[0.1111111111111111,\"#482878\"],[0.2222222222222222,\"#3e4989\"],[0.3333333333333333,\"#31688e\"],[0.4444444444444444,\"#26828e\"],[0.5555555555555556,\"#1f9e89\"],[0.6666666666666666,\"#35b779\"],[0.7777777777777778,\"#6ece58\"],[0.8888888888888888,\"#b5de2b\"],[1.0,\"#fde725\"]],\"sequentialminus\":[[0.0,\"#440154\"],[0.1111111111111111,\"#482878\"],[0.2222222222222222,\"#3e4989\"],[0.3333333333333333,\"#31688e\"],[0.4444444444444444,\"#26828e\"],[0.5555555555555556,\"#1f9e89\"],[0.6666666666666666,\"#35b779\"],[0.7777777777777778,\"#6ece58\"],[0.8888888888888888,\"#b5de2b\"],[1.0,\"#fde725\"]]},\"colorway\":[\"#1F77B4\",\"#FF7F0E\",\"#2CA02C\",\"#D62728\",\"#9467BD\",\"#8C564B\",\"#E377C2\",\"#7F7F7F\",\"#BCBD22\",\"#17BECF\"],\"font\":{\"color\":\"rgb(36,36,36)\"},\"geo\":{\"bgcolor\":\"white\",\"lakecolor\":\"white\",\"landcolor\":\"white\",\"showlakes\":true,\"showland\":true,\"subunitcolor\":\"white\"},\"hoverlabel\":{\"align\":\"left\"},\"hovermode\":\"closest\",\"mapbox\":{\"style\":\"light\"},\"paper_bgcolor\":\"white\",\"plot_bgcolor\":\"white\",\"polar\":{\"angularaxis\":{\"gridcolor\":\"rgb(232,232,232)\",\"linecolor\":\"rgb(36,36,36)\",\"showgrid\":false,\"showline\":true,\"ticks\":\"outside\"},\"bgcolor\":\"white\",\"radialaxis\":{\"gridcolor\":\"rgb(232,232,232)\",\"linecolor\":\"rgb(36,36,36)\",\"showgrid\":false,\"showline\":true,\"ticks\":\"outside\"}},\"scene\":{\"xaxis\":{\"backgroundcolor\":\"white\",\"gridcolor\":\"rgb(232,232,232)\",\"gridwidth\":2,\"linecolor\":\"rgb(36,36,36)\",\"showbackground\":true,\"showgrid\":false,\"showline\":true,\"ticks\":\"outside\",\"zeroline\":false,\"zerolinecolor\":\"rgb(36,36,36)\"},\"yaxis\":{\"backgroundcolor\":\"white\",\"gridcolor\":\"rgb(232,232,232)\",\"gridwidth\":2,\"linecolor\":\"rgb(36,36,36)\",\"showbackground\":true,\"showgrid\":false,\"showline\":true,\"ticks\":\"outside\",\"zeroline\":false,\"zerolinecolor\":\"rgb(36,36,36)\"},\"zaxis\":{\"backgroundcolor\":\"white\",\"gridcolor\":\"rgb(232,232,232)\",\"gridwidth\":2,\"linecolor\":\"rgb(36,36,36)\",\"showbackground\":true,\"showgrid\":false,\"showline\":true,\"ticks\":\"outside\",\"zeroline\":false,\"zerolinecolor\":\"rgb(36,36,36)\"}},\"shapedefaults\":{\"fillcolor\":\"black\",\"line\":{\"width\":0},\"opacity\":0.3},\"ternary\":{\"aaxis\":{\"gridcolor\":\"rgb(232,232,232)\",\"linecolor\":\"rgb(36,36,36)\",\"showgrid\":false,\"showline\":true,\"ticks\":\"outside\"},\"baxis\":{\"gridcolor\":\"rgb(232,232,232)\",\"linecolor\":\"rgb(36,36,36)\",\"showgrid\":false,\"showline\":true,\"ticks\":\"outside\"},\"bgcolor\":\"white\",\"caxis\":{\"gridcolor\":\"rgb(232,232,232)\",\"linecolor\":\"rgb(36,36,36)\",\"showgrid\":false,\"showline\":true,\"ticks\":\"outside\"}},\"title\":{\"x\":0.05},\"xaxis\":{\"automargin\":true,\"gridcolor\":\"rgb(232,232,232)\",\"linecolor\":\"rgb(36,36,36)\",\"showgrid\":false,\"showline\":true,\"ticks\":\"outside\",\"title\":{\"standoff\":15},\"zeroline\":false,\"zerolinecolor\":\"rgb(36,36,36)\"},\"yaxis\":{\"automargin\":true,\"gridcolor\":\"rgb(232,232,232)\",\"linecolor\":\"rgb(36,36,36)\",\"showgrid\":false,\"showline\":true,\"ticks\":\"outside\",\"title\":{\"standoff\":15},\"zeroline\":false,\"zerolinecolor\":\"rgb(36,36,36)\"}}},\"xaxis\":{\"title\":{\"text\":\"<b> Data\"},\"rangebreaks\":[{\"bounds\":[\"sat\",\"mon\"]},{\"values\":[\"2022-04-21\"]}],\"rangeslider\":{\"visible\":false}},\"yaxis\":{\"title\":{\"text\":\"<b> Pontos BVSP\"}},\"title\":{\"text\":\"\"},\"width\":800,\"height\":800,\"margin\":{\"l\":20,\"r\":20,\"t\":20,\"b\":20},\"font\":{\"family\":\"Arial\",\"size\":25,\"color\":\"black\"},\"paper_bgcolor\":\"#f7f8fa\"},                        {\"responsive\": true}                    ).then(function(){\n",
       "                            \n",
       "var gd = document.getElementById('560ed26c-65c6-47bd-98a9-71ef29de81de');\n",
       "var x = new MutationObserver(function (mutations, observer) {{\n",
       "        var display = window.getComputedStyle(gd).display;\n",
       "        if (!display || display === 'none') {{\n",
       "            console.log([gd, 'removed!']);\n",
       "            Plotly.purge(gd);\n",
       "            observer.disconnect();\n",
       "        }}\n",
       "}});\n",
       "\n",
       "// Listen for the removal of the full notebook cells\n",
       "var notebookContainer = gd.closest('#notebook-container');\n",
       "if (notebookContainer) {{\n",
       "    x.observe(notebookContainer, {childList: true});\n",
       "}}\n",
       "\n",
       "// Listen for the clearing of the current output cell\n",
       "var outputEl = gd.closest('.output');\n",
       "if (outputEl) {{\n",
       "    x.observe(outputEl, {childList: true});\n",
       "}}\n",
       "\n",
       "                        })                };                });            </script>        </div>"
      ]
     },
     "metadata": {},
     "output_type": "display_data"
    }
   ],
   "source": [
    "fig_cotacoes = go.Figure(data=[go.Candlestick(name=\"BVSP\",x=BVSP_search_result_data.index, open=BVSP_search_result_data['Open'], high = BVSP_search_result_data['High'], low=BVSP_search_result_data['Low'], close=BVSP_search_result_data['Close'],increasing_line_color= 'green', decreasing_line_color= 'red')])\n",
    "\n",
    "fig_cotacoes.update_xaxes(title_text=\"<b> Data\",\n",
    "                          rangebreaks=[\n",
    "    dict(bounds=[\"sat\", \"mon\"]), # não mostrar finais de semana\n",
    "#    dict(bounds=[18, 10], pattern=\"hour\"), # não mostrar horas de pregao fechado (observar cada ativo específico)\n",
    "    dict(values=[\"2022-04-21\"]) # não mostrar recesso de Ano Novo\n",
    "    ])\n",
    "\n",
    "fig_cotacoes.update_traces(line_width=3)\n",
    "fig_cotacoes.update_yaxes(title_text=\"<b> Pontos BVSP\")\n",
    "fig_cotacoes.update_layout( title_text='',template = 'simple_white',width=500,height=500)\n",
    "fig_cotacoes.update_layout(xaxis_rangeslider_visible=False,title_text='',template = 'simple_white',margin=dict(l=20, r=20, t=20, b=20), paper_bgcolor=\"#f7f8fa\",width=800,height=800,font=dict(family=\"Arial\",size=25,color=\"black\"))\n",
    "\n",
    "fig_cotacoes.show()"
   ]
  },
  {
   "cell_type": "markdown",
   "id": "5f65adbf",
   "metadata": {},
   "source": [
    "# **2. Índices Internacionais**"
   ]
  },
  {
   "cell_type": "code",
   "execution_count": 171,
   "id": "45b1eb27",
   "metadata": {},
   "outputs": [
    {
     "data": {
      "text/html": [
       "<style type=\"text/css\">\n",
       "#T_748ef_row0_col2, #T_748ef_row1_col2 {\n",
       "  background-color: #c96b53;\n",
       "  color: #f1f1f1;\n",
       "}\n",
       "#T_748ef_row2_col2 {\n",
       "  background-color: #cf7f6a;\n",
       "  color: #f1f1f1;\n",
       "}\n",
       "#T_748ef_row3_col2 {\n",
       "  background-color: #ddada0;\n",
       "  color: #000000;\n",
       "}\n",
       "#T_748ef_row4_col2 {\n",
       "  background-color: #c76349;\n",
       "  color: #f1f1f1;\n",
       "}\n",
       "#T_748ef_row5_col2 {\n",
       "  background-color: #c8654c;\n",
       "  color: #f1f1f1;\n",
       "}\n",
       "#T_748ef_row6_col2 {\n",
       "  background-color: #d79787;\n",
       "  color: #f1f1f1;\n",
       "}\n",
       "#T_748ef_row7_col2 {\n",
       "  background-color: #c66248;\n",
       "  color: #f1f1f1;\n",
       "}\n",
       "#T_748ef_row8_col2 {\n",
       "  background-color: #c3553a;\n",
       "  color: #f1f1f1;\n",
       "}\n",
       "#T_748ef_row9_col2 {\n",
       "  background-color: #e2bbb1;\n",
       "  color: #000000;\n",
       "}\n",
       "#T_748ef_row10_col2 {\n",
       "  background-color: #ebd8d4;\n",
       "  color: #000000;\n",
       "}\n",
       "#T_748ef_row11_col2 {\n",
       "  background-color: #e3bfb6;\n",
       "  color: #000000;\n",
       "}\n",
       "#T_748ef_row12_col2 {\n",
       "  background-color: #efe5e2;\n",
       "  color: #000000;\n",
       "}\n",
       "#T_748ef_row13_col2, #T_748ef_row14_col2, #T_748ef_row24_col2 {\n",
       "  background-color: #e3beb4;\n",
       "  color: #000000;\n",
       "}\n",
       "#T_748ef_row15_col2 {\n",
       "  background-color: #eee2df;\n",
       "  color: #000000;\n",
       "}\n",
       "#T_748ef_row16_col2, #T_748ef_row26_col2 {\n",
       "  background-color: #e4c1b9;\n",
       "  color: #000000;\n",
       "}\n",
       "#T_748ef_row17_col2 {\n",
       "  background-color: #e7cbc4;\n",
       "  color: #000000;\n",
       "}\n",
       "#T_748ef_row18_col2 {\n",
       "  background-color: #daa193;\n",
       "  color: #000000;\n",
       "}\n",
       "#T_748ef_row19_col2 {\n",
       "  background-color: #e9d1cb;\n",
       "  color: #000000;\n",
       "}\n",
       "#T_748ef_row20_col2 {\n",
       "  background-color: #e1b7ad;\n",
       "  color: #000000;\n",
       "}\n",
       "#T_748ef_row21_col2 {\n",
       "  background-color: #e8cfc8;\n",
       "  color: #000000;\n",
       "}\n",
       "#T_748ef_row22_col2 {\n",
       "  background-color: #ddaa9d;\n",
       "  color: #000000;\n",
       "}\n",
       "#T_748ef_row23_col2 {\n",
       "  background-color: #398641;\n",
       "  color: #f1f1f1;\n",
       "}\n",
       "#T_748ef_row25_col2 {\n",
       "  background-color: #e9d2cd;\n",
       "  color: #000000;\n",
       "}\n",
       "#T_748ef_row27_col2 {\n",
       "  background-color: #d28774;\n",
       "  color: #f1f1f1;\n",
       "}\n",
       "#T_748ef_row28_col2 {\n",
       "  background-color: #daa091;\n",
       "  color: #000000;\n",
       "}\n",
       "#T_748ef_row29_col2 {\n",
       "  background-color: #e0b4a9;\n",
       "  color: #000000;\n",
       "}\n",
       "</style>\n",
       "<table id=\"T_748ef_\">\n",
       "  <thead>\n",
       "    <tr>\n",
       "      <th class=\"blank level0\" >&nbsp;</th>\n",
       "      <th class=\"col_heading level0 col0\" >País</th>\n",
       "      <th class=\"col_heading level0 col1\" >Market Index</th>\n",
       "      <th class=\"col_heading level0 col2\" >Result_%</th>\n",
       "    </tr>\n",
       "  </thead>\n",
       "  <tbody>\n",
       "    <tr>\n",
       "      <th id=\"T_748ef_level0_row0\" class=\"row_heading level0 row0\" >0</th>\n",
       "      <td id=\"T_748ef_row0_col0\" class=\"data row0 col0\" >Brazil</td>\n",
       "      <td id=\"T_748ef_row0_col1\" class=\"data row0 col1\" >Bovespa (BVSP)</td>\n",
       "      <td id=\"T_748ef_row0_col2\" class=\"data row0 col2\" >-2.88</td>\n",
       "    </tr>\n",
       "    <tr>\n",
       "      <th id=\"T_748ef_level0_row1\" class=\"row_heading level0 row1\" >7</th>\n",
       "      <td id=\"T_748ef_row1_col0\" class=\"data row1 col0\" >United States</td>\n",
       "      <td id=\"T_748ef_row1_col1\" class=\"data row1 col1\" >S&P 500 (US500)</td>\n",
       "      <td id=\"T_748ef_row1_col2\" class=\"data row1 col2\" >-2.90</td>\n",
       "    </tr>\n",
       "    <tr>\n",
       "      <th id=\"T_748ef_level0_row2\" class=\"row_heading level0 row2\" >8</th>\n",
       "      <td id=\"T_748ef_row2_col0\" class=\"data row2 col0\" >United States</td>\n",
       "      <td id=\"T_748ef_row2_col1\" class=\"data row2 col1\" >Dow Jones Industrial Average (DJI)</td>\n",
       "      <td id=\"T_748ef_row2_col2\" class=\"data row2 col2\" >-2.06</td>\n",
       "    </tr>\n",
       "    <tr>\n",
       "      <th id=\"T_748ef_level0_row3\" class=\"row_heading level0 row3\" >9</th>\n",
       "      <td id=\"T_748ef_row3_col0\" class=\"data row3 col0\" >United States</td>\n",
       "      <td id=\"T_748ef_row3_col1\" class=\"data row3 col1\" >NYSE Composite (NYA)</td>\n",
       "      <td id=\"T_748ef_row3_col2\" class=\"data row3 col2\" >-0.15</td>\n",
       "    </tr>\n",
       "    <tr>\n",
       "      <th id=\"T_748ef_level0_row4\" class=\"row_heading level0 row4\" >10</th>\n",
       "      <td id=\"T_748ef_row4_col0\" class=\"data row4 col0\" >United States</td>\n",
       "      <td id=\"T_748ef_row4_col1\" class=\"data row4 col1\" >NASDAQ Composite (IXIC)</td>\n",
       "      <td id=\"T_748ef_row4_col2\" class=\"data row4 col2\" >-3.25</td>\n",
       "    </tr>\n",
       "    <tr>\n",
       "      <th id=\"T_748ef_level0_row5\" class=\"row_heading level0 row5\" >11</th>\n",
       "      <td id=\"T_748ef_row5_col0\" class=\"data row5 col0\" >United States</td>\n",
       "      <td id=\"T_748ef_row5_col1\" class=\"data row5 col1\" >Nasdaq 100 (NDX)</td>\n",
       "      <td id=\"T_748ef_row5_col2\" class=\"data row5 col2\" >-3.18</td>\n",
       "    </tr>\n",
       "    <tr>\n",
       "      <th id=\"T_748ef_level0_row6\" class=\"row_heading level0 row6\" >12</th>\n",
       "      <td id=\"T_748ef_row6_col0\" class=\"data row6 col0\" >Canada</td>\n",
       "      <td id=\"T_748ef_row6_col1\" class=\"data row6 col1\" >S&P/TSX Composite (GSPTSE)</td>\n",
       "      <td id=\"T_748ef_row6_col2\" class=\"data row6 col2\" >-1.06</td>\n",
       "    </tr>\n",
       "    <tr>\n",
       "      <th id=\"T_748ef_level0_row7\" class=\"row_heading level0 row7\" >13</th>\n",
       "      <td id=\"T_748ef_row7_col0\" class=\"data row7 col0\" >Mexico</td>\n",
       "      <td id=\"T_748ef_row7_col1\" class=\"data row7 col1\" >S&P/BMV IPC (MXX)</td>\n",
       "      <td id=\"T_748ef_row7_col2\" class=\"data row7 col2\" >-3.32</td>\n",
       "    </tr>\n",
       "    <tr>\n",
       "      <th id=\"T_748ef_level0_row8\" class=\"row_heading level0 row8\" >14</th>\n",
       "      <td id=\"T_748ef_row8_col0\" class=\"data row8 col0\" >Argentina</td>\n",
       "      <td id=\"T_748ef_row8_col1\" class=\"data row8 col1\" >S&P Merval (MERV)</td>\n",
       "      <td id=\"T_748ef_row8_col2\" class=\"data row8 col2\" >-3.86</td>\n",
       "    </tr>\n",
       "    <tr>\n",
       "      <th id=\"T_748ef_level0_row9\" class=\"row_heading level0 row9\" >15</th>\n",
       "      <td id=\"T_748ef_row9_col0\" class=\"data row9 col0\" >China</td>\n",
       "      <td id=\"T_748ef_row9_col1\" class=\"data row9 col1\" >Shanghai_Composite (SSEC)</td>\n",
       "      <td id=\"T_748ef_row9_col2\" class=\"data row9 col2\" >0.44</td>\n",
       "    </tr>\n",
       "    <tr>\n",
       "      <th id=\"T_748ef_level0_row10\" class=\"row_heading level0 row10\" >16</th>\n",
       "      <td id=\"T_748ef_row10_col0\" class=\"data row10 col0\" >China</td>\n",
       "      <td id=\"T_748ef_row10_col1\" class=\"data row10 col1\" >SZSE_Component (SZI)</td>\n",
       "      <td id=\"T_748ef_row10_col2\" class=\"data row10 col2\" >1.67</td>\n",
       "    </tr>\n",
       "    <tr>\n",
       "      <th id=\"T_748ef_level0_row11\" class=\"row_heading level0 row11\" >17</th>\n",
       "      <td id=\"T_748ef_row11_col0\" class=\"data row11 col0\" >Japan</td>\n",
       "      <td id=\"T_748ef_row11_col1\" class=\"data row11 col1\" >Nikkei 225 (JP225)</td>\n",
       "      <td id=\"T_748ef_row11_col2\" class=\"data row11 col2\" >0.58</td>\n",
       "    </tr>\n",
       "    <tr>\n",
       "      <th id=\"T_748ef_level0_row12\" class=\"row_heading level0 row12\" >18</th>\n",
       "      <td id=\"T_748ef_row12_col0\" class=\"data row12 col0\" >Hong Kong</td>\n",
       "      <td id=\"T_748ef_row12_col1\" class=\"data row12 col1\" >Hang Seng (HK50)</td>\n",
       "      <td id=\"T_748ef_row12_col2\" class=\"data row12 col2\" >2.18</td>\n",
       "    </tr>\n",
       "    <tr>\n",
       "      <th id=\"T_748ef_level0_row13\" class=\"row_heading level0 row13\" >19</th>\n",
       "      <td id=\"T_748ef_row13_col0\" class=\"data row13 col0\" >India</td>\n",
       "      <td id=\"T_748ef_row13_col1\" class=\"data row13 col1\" >Nifty 50 (NSEI)</td>\n",
       "      <td id=\"T_748ef_row13_col2\" class=\"data row13 col2\" >0.57</td>\n",
       "    </tr>\n",
       "    <tr>\n",
       "      <th id=\"T_748ef_level0_row14\" class=\"row_heading level0 row14\" >20</th>\n",
       "      <td id=\"T_748ef_row14_col0\" class=\"data row14 col0\" >India</td>\n",
       "      <td id=\"T_748ef_row14_col1\" class=\"data row14 col1\" >BSE Sensex 30 (BSESN)</td>\n",
       "      <td id=\"T_748ef_row14_col2\" class=\"data row14 col2\" >0.53</td>\n",
       "    </tr>\n",
       "    <tr>\n",
       "      <th id=\"T_748ef_level0_row15\" class=\"row_heading level0 row15\" >21</th>\n",
       "      <td id=\"T_748ef_row15_col0\" class=\"data row15 col0\" >Saudi Arabia</td>\n",
       "      <td id=\"T_748ef_row15_col1\" class=\"data row15 col1\" >Tadawul All Share (TASI)</td>\n",
       "      <td id=\"T_748ef_row15_col2\" class=\"data row15 col2\" >2.10</td>\n",
       "    </tr>\n",
       "    <tr>\n",
       "      <th id=\"T_748ef_level0_row16\" class=\"row_heading level0 row16\" >22</th>\n",
       "      <td id=\"T_748ef_row16_col0\" class=\"data row16 col0\" >South Korea</td>\n",
       "      <td id=\"T_748ef_row16_col1\" class=\"data row16 col1\" >KOSPI (KS11)</td>\n",
       "      <td id=\"T_748ef_row16_col2\" class=\"data row16 col2\" >0.69</td>\n",
       "    </tr>\n",
       "    <tr>\n",
       "      <th id=\"T_748ef_level0_row17\" class=\"row_heading level0 row17\" >23</th>\n",
       "      <td id=\"T_748ef_row17_col0\" class=\"data row17 col0\" >Euro Zone</td>\n",
       "      <td id=\"T_748ef_row17_col1\" class=\"data row17 col1\" >EuroNext 100 (N100)</td>\n",
       "      <td id=\"T_748ef_row17_col2\" class=\"data row17 col2\" >1.13</td>\n",
       "    </tr>\n",
       "    <tr>\n",
       "      <th id=\"T_748ef_level0_row18\" class=\"row_heading level0 row18\" >24</th>\n",
       "      <td id=\"T_748ef_row18_col0\" class=\"data row18 col0\" >Euro Zone</td>\n",
       "      <td id=\"T_748ef_row18_col1\" class=\"data row18 col1\" >EURO STOXX 50 (STOXX50)</td>\n",
       "      <td id=\"T_748ef_row18_col2\" class=\"data row18 col2\" >-0.63</td>\n",
       "    </tr>\n",
       "    <tr>\n",
       "      <th id=\"T_748ef_level0_row19\" class=\"row_heading level0 row19\" >25</th>\n",
       "      <td id=\"T_748ef_row19_col0\" class=\"data row19 col0\" >Germany</td>\n",
       "      <td id=\"T_748ef_row19_col1\" class=\"data row19 col1\" >DAX (DE30)</td>\n",
       "      <td id=\"T_748ef_row19_col2\" class=\"data row19 col2\" >1.36</td>\n",
       "    </tr>\n",
       "    <tr>\n",
       "      <th id=\"T_748ef_level0_row20\" class=\"row_heading level0 row20\" >26</th>\n",
       "      <td id=\"T_748ef_row20_col0\" class=\"data row20 col0\" >United Kingdom</td>\n",
       "      <td id=\"T_748ef_row20_col1\" class=\"data row20 col1\" >FTSE 100 (UK100)</td>\n",
       "      <td id=\"T_748ef_row20_col2\" class=\"data row20 col2\" >0.30</td>\n",
       "    </tr>\n",
       "    <tr>\n",
       "      <th id=\"T_748ef_level0_row21\" class=\"row_heading level0 row21\" >27</th>\n",
       "      <td id=\"T_748ef_row21_col0\" class=\"data row21 col0\" >France</td>\n",
       "      <td id=\"T_748ef_row21_col1\" class=\"data row21 col1\" >CAC 40 (FCHI)</td>\n",
       "      <td id=\"T_748ef_row21_col2\" class=\"data row21 col2\" >1.28</td>\n",
       "    </tr>\n",
       "    <tr>\n",
       "      <th id=\"T_748ef_level0_row22\" class=\"row_heading level0 row22\" >28</th>\n",
       "      <td id=\"T_748ef_row22_col0\" class=\"data row22 col0\" >Italy</td>\n",
       "      <td id=\"T_748ef_row22_col1\" class=\"data row22 col1\" >FTSE MIB Futures (IT40)</td>\n",
       "      <td id=\"T_748ef_row22_col2\" class=\"data row22 col2\" >-0.30</td>\n",
       "    </tr>\n",
       "    <tr>\n",
       "      <th id=\"T_748ef_level0_row23\" class=\"row_heading level0 row23\" >29</th>\n",
       "      <td id=\"T_748ef_row23_col0\" class=\"data row23 col0\" >Russia</td>\n",
       "      <td id=\"T_748ef_row23_col1\" class=\"data row23 col1\" >MOEX Russia (IMOEX)</td>\n",
       "      <td id=\"T_748ef_row23_col2\" class=\"data row23 col2\" >9.34</td>\n",
       "    </tr>\n",
       "    <tr>\n",
       "      <th id=\"T_748ef_level0_row24\" class=\"row_heading level0 row24\" >30</th>\n",
       "      <td id=\"T_748ef_row24_col0\" class=\"data row24 col0\" >Spain</td>\n",
       "      <td id=\"T_748ef_row24_col1\" class=\"data row24 col1\" >IBEX 35 (ES35)</td>\n",
       "      <td id=\"T_748ef_row24_col2\" class=\"data row24 col2\" >0.57</td>\n",
       "    </tr>\n",
       "    <tr>\n",
       "      <th id=\"T_748ef_level0_row25\" class=\"row_heading level0 row25\" >31</th>\n",
       "      <td id=\"T_748ef_row25_col0\" class=\"data row25 col0\" >Netherlands</td>\n",
       "      <td id=\"T_748ef_row25_col1\" class=\"data row25 col1\" >AEX (AEX)</td>\n",
       "      <td id=\"T_748ef_row25_col2\" class=\"data row25 col2\" >1.43</td>\n",
       "    </tr>\n",
       "    <tr>\n",
       "      <th id=\"T_748ef_level0_row26\" class=\"row_heading level0 row26\" >32</th>\n",
       "      <td id=\"T_748ef_row26_col0\" class=\"data row26 col0\" >Switzerland</td>\n",
       "      <td id=\"T_748ef_row26_col1\" class=\"data row26 col1\" >SMI (SWI20)</td>\n",
       "      <td id=\"T_748ef_row26_col2\" class=\"data row26 col2\" >0.69</td>\n",
       "    </tr>\n",
       "    <tr>\n",
       "      <th id=\"T_748ef_level0_row27\" class=\"row_heading level0 row27\" >33</th>\n",
       "      <td id=\"T_748ef_row27_col0\" class=\"data row27 col0\" >Turkey</td>\n",
       "      <td id=\"T_748ef_row27_col1\" class=\"data row27 col1\" >BIST 100 (XU100)</td>\n",
       "      <td id=\"T_748ef_row27_col2\" class=\"data row27 col2\" >-1.70</td>\n",
       "    </tr>\n",
       "    <tr>\n",
       "      <th id=\"T_748ef_level0_row28\" class=\"row_heading level0 row28\" >34</th>\n",
       "      <td id=\"T_748ef_row28_col0\" class=\"data row28 col0\" >Australia</td>\n",
       "      <td id=\"T_748ef_row28_col1\" class=\"data row28 col1\" >S&P/ASX 200 (AXJO)</td>\n",
       "      <td id=\"T_748ef_row28_col2\" class=\"data row28 col2\" >-0.67</td>\n",
       "    </tr>\n",
       "    <tr>\n",
       "      <th id=\"T_748ef_level0_row29\" class=\"row_heading level0 row29\" >35</th>\n",
       "      <td id=\"T_748ef_row29_col0\" class=\"data row29 col0\" >South Africa</td>\n",
       "      <td id=\"T_748ef_row29_col1\" class=\"data row29 col1\" >South Africa Top 40 (JTOPI)</td>\n",
       "      <td id=\"T_748ef_row29_col2\" class=\"data row29 col2\" >0.14</td>\n",
       "    </tr>\n",
       "  </tbody>\n",
       "</table>\n"
      ],
      "text/plain": [
       "<pandas.io.formats.style.Styler at 0x18d151baf70>"
      ]
     },
     "execution_count": 171,
     "metadata": {},
     "output_type": "execute_result"
    }
   ],
   "source": [
    "df_stocks_result2 = df_stocks_result[['País_x','Market Indices','Result_%']]\n",
    "df_stocks_result3 = df_stocks_result2.drop(df_stocks_result2.index[1:7])\n",
    "df_stocks_result3 = df_stocks_result3.rename({'País_x':'País','Market Indices':'Market Index'},axis=1)\n",
    "df_stocks_result3\n",
    "cm = sns.diverging_palette(20,130, as_cmap=True)\n",
    "df_stocks_result3.style.format('{:.2f}',subset=[\"Result_%\"]).background_gradient(cmap=cm,subset=[\"Result_%\"])"
   ]
  },
  {
   "cell_type": "code",
   "execution_count": 172,
   "id": "cad80147",
   "metadata": {},
   "outputs": [],
   "source": [
    "df_stocks_result3 = df_stocks_result3[df_stocks_result3['Market Index']!='BSE Sensex 30 (BSESN)\t']"
   ]
  },
  {
   "cell_type": "code",
   "execution_count": 183,
   "id": "dace6fd0",
   "metadata": {},
   "outputs": [
    {
     "data": {
      "application/vnd.plotly.v1+json": {
       "config": {
        "plotlyServerURL": "https://plot.ly"
       },
       "data": [
        {
         "marker": {
          "color": [
           "green",
           "green",
           "green",
           "green",
           "green",
           "green",
           "green",
           "green",
           "green",
           "green",
           "green",
           "green",
           "green",
           "green",
           "green",
           "green",
           "green",
           "red",
           "red",
           "red",
           "red",
           "red",
           "red",
           "red",
           "red",
           "red",
           "red",
           "red",
           "red",
           "red"
          ]
         },
         "name": "Net",
         "orientation": "h",
         "type": "bar",
         "x": [
          9.339003362667233,
          2.184604322402958,
          2.102131348267914,
          1.6704242294536338,
          1.430915186532559,
          1.364892993625993,
          1.2846269512781288,
          1.129870129870136,
          0.6869494546326957,
          0.6866741137308712,
          0.582261370992886,
          0.5693800084352637,
          0.5671494346146426,
          0.5267974881016106,
          0.4376670500647668,
          0.30405441337573375,
          0.13775229607551967,
          -0.15071402325479333,
          -0.2966101694915254,
          -0.6297426678094339,
          -0.6663722853357978,
          -1.0649739415186474,
          -1.69666329625884,
          -2.0618421990449445,
          -2.881784707905327,
          -2.9001207894081285,
          -3.182779145600153,
          -3.2514273478195106,
          -3.3190042254008443,
          -3.858033921127419
         ],
         "y": [
          "MOEX Russia (IMOEX)",
          "Hang Seng (HK50)",
          "Tadawul All Share (TASI)",
          "SZSE_Component (SZI)",
          "AEX (AEX)",
          "DAX (DE30)",
          "CAC 40 (FCHI)",
          "EuroNext 100 (N100)",
          "SMI (SWI20)",
          "KOSPI (KS11)",
          "Nikkei 225 (JP225)",
          "IBEX 35 (ES35)",
          "Nifty 50 (NSEI)",
          "BSE Sensex 30 (BSESN)",
          "Shanghai_Composite (SSEC)",
          "FTSE 100 (UK100)",
          "South Africa Top 40 (JTOPI)",
          "NYSE Composite (NYA)",
          "FTSE MIB Futures (IT40)",
          "EURO STOXX 50 (STOXX50)",
          "S&P/ASX 200 (AXJO)",
          "S&P/TSX Composite (GSPTSE)",
          "BIST 100 (XU100)",
          "Dow Jones Industrial Average (DJI)",
          "Bovespa (BVSP)",
          "S&P 500 (US500)",
          "Nasdaq 100 (NDX)",
          "NASDAQ Composite (IXIC)",
          "S&P/BMV IPC (MXX)",
          "S&P Merval (MERV)"
         ]
        }
       ],
       "layout": {
        "annotations": [
         {
          "font": {
           "color": "black",
           "family": "Arial",
           "size": 22
          },
          "showarrow": false,
          "text": "9.34%",
          "x": 11.34,
          "xref": "x",
          "y": "MOEX Russia (IMOEX)",
          "yref": "y"
         },
         {
          "font": {
           "color": "black",
           "family": "Arial",
           "size": 22
          },
          "showarrow": false,
          "text": "2.18%",
          "x": 4.18,
          "xref": "x",
          "y": "Hang Seng (HK50)",
          "yref": "y"
         },
         {
          "font": {
           "color": "black",
           "family": "Arial",
           "size": 22
          },
          "showarrow": false,
          "text": "2.1%",
          "x": 4.1,
          "xref": "x",
          "y": "Tadawul All Share (TASI)",
          "yref": "y"
         },
         {
          "font": {
           "color": "black",
           "family": "Arial",
           "size": 22
          },
          "showarrow": false,
          "text": "1.67%",
          "x": 3.67,
          "xref": "x",
          "y": "SZSE_Component (SZI)",
          "yref": "y"
         },
         {
          "font": {
           "color": "black",
           "family": "Arial",
           "size": 22
          },
          "showarrow": false,
          "text": "1.43%",
          "x": 3.4299999999999997,
          "xref": "x",
          "y": "AEX (AEX)",
          "yref": "y"
         },
         {
          "font": {
           "color": "black",
           "family": "Arial",
           "size": 22
          },
          "showarrow": false,
          "text": "1.36%",
          "x": 3.3600000000000003,
          "xref": "x",
          "y": "DAX (DE30)",
          "yref": "y"
         },
         {
          "font": {
           "color": "black",
           "family": "Arial",
           "size": 22
          },
          "showarrow": false,
          "text": "1.28%",
          "x": 3.2800000000000002,
          "xref": "x",
          "y": "CAC 40 (FCHI)",
          "yref": "y"
         },
         {
          "font": {
           "color": "black",
           "family": "Arial",
           "size": 22
          },
          "showarrow": false,
          "text": "1.13%",
          "x": 3.13,
          "xref": "x",
          "y": "EuroNext 100 (N100)",
          "yref": "y"
         },
         {
          "font": {
           "color": "black",
           "family": "Arial",
           "size": 22
          },
          "showarrow": false,
          "text": "0.69%",
          "x": 2.69,
          "xref": "x",
          "y": "SMI (SWI20)",
          "yref": "y"
         },
         {
          "font": {
           "color": "black",
           "family": "Arial",
           "size": 22
          },
          "showarrow": false,
          "text": "0.69%",
          "x": 2.69,
          "xref": "x",
          "y": "KOSPI (KS11)",
          "yref": "y"
         },
         {
          "font": {
           "color": "black",
           "family": "Arial",
           "size": 22
          },
          "showarrow": false,
          "text": "0.58%",
          "x": 2.58,
          "xref": "x",
          "y": "Nikkei 225 (JP225)",
          "yref": "y"
         },
         {
          "font": {
           "color": "black",
           "family": "Arial",
           "size": 22
          },
          "showarrow": false,
          "text": "0.57%",
          "x": 2.57,
          "xref": "x",
          "y": "IBEX 35 (ES35)",
          "yref": "y"
         },
         {
          "font": {
           "color": "black",
           "family": "Arial",
           "size": 22
          },
          "showarrow": false,
          "text": "0.57%",
          "x": 2.57,
          "xref": "x",
          "y": "Nifty 50 (NSEI)",
          "yref": "y"
         },
         {
          "font": {
           "color": "black",
           "family": "Arial",
           "size": 22
          },
          "showarrow": false,
          "text": "0.53%",
          "x": 2.5300000000000002,
          "xref": "x",
          "y": "BSE Sensex 30 (BSESN)",
          "yref": "y"
         },
         {
          "font": {
           "color": "black",
           "family": "Arial",
           "size": 22
          },
          "showarrow": false,
          "text": "0.44%",
          "x": 2.44,
          "xref": "x",
          "y": "Shanghai_Composite (SSEC)",
          "yref": "y"
         },
         {
          "font": {
           "color": "black",
           "family": "Arial",
           "size": 22
          },
          "showarrow": false,
          "text": "0.3%",
          "x": 2.3,
          "xref": "x",
          "y": "FTSE 100 (UK100)",
          "yref": "y"
         },
         {
          "font": {
           "color": "black",
           "family": "Arial",
           "size": 22
          },
          "showarrow": false,
          "text": "0.14%",
          "x": 2.14,
          "xref": "x",
          "y": "South Africa Top 40 (JTOPI)",
          "yref": "y"
         },
         {
          "font": {
           "color": "black",
           "family": "Arial",
           "size": 22
          },
          "showarrow": false,
          "text": "-0.15%",
          "x": -2.15,
          "xref": "x",
          "y": "NYSE Composite (NYA)",
          "yref": "y"
         },
         {
          "font": {
           "color": "black",
           "family": "Arial",
           "size": 22
          },
          "showarrow": false,
          "text": "-0.3%",
          "x": -2.3,
          "xref": "x",
          "y": "FTSE MIB Futures (IT40)",
          "yref": "y"
         },
         {
          "font": {
           "color": "black",
           "family": "Arial",
           "size": 22
          },
          "showarrow": false,
          "text": "-0.63%",
          "x": -2.63,
          "xref": "x",
          "y": "EURO STOXX 50 (STOXX50)",
          "yref": "y"
         },
         {
          "font": {
           "color": "black",
           "family": "Arial",
           "size": 22
          },
          "showarrow": false,
          "text": "-0.67%",
          "x": -2.67,
          "xref": "x",
          "y": "S&P/ASX 200 (AXJO)",
          "yref": "y"
         },
         {
          "font": {
           "color": "black",
           "family": "Arial",
           "size": 22
          },
          "showarrow": false,
          "text": "-1.06%",
          "x": -3.06,
          "xref": "x",
          "y": "S&P/TSX Composite (GSPTSE)",
          "yref": "y"
         },
         {
          "font": {
           "color": "black",
           "family": "Arial",
           "size": 22
          },
          "showarrow": false,
          "text": "-1.7%",
          "x": -3.7,
          "xref": "x",
          "y": "BIST 100 (XU100)",
          "yref": "y"
         },
         {
          "font": {
           "color": "black",
           "family": "Arial",
           "size": 22
          },
          "showarrow": false,
          "text": "-2.06%",
          "x": -4.0600000000000005,
          "xref": "x",
          "y": "Dow Jones Industrial Average (DJI)",
          "yref": "y"
         },
         {
          "font": {
           "color": "black",
           "family": "Arial",
           "size": 22
          },
          "showarrow": false,
          "text": "-2.88%",
          "x": -4.88,
          "xref": "x",
          "y": "Bovespa (BVSP)",
          "yref": "y"
         },
         {
          "font": {
           "color": "black",
           "family": "Arial",
           "size": 22
          },
          "showarrow": false,
          "text": "-2.9%",
          "x": -4.9,
          "xref": "x",
          "y": "S&P 500 (US500)",
          "yref": "y"
         },
         {
          "font": {
           "color": "black",
           "family": "Arial",
           "size": 22
          },
          "showarrow": false,
          "text": "-3.18%",
          "x": -5.18,
          "xref": "x",
          "y": "Nasdaq 100 (NDX)",
          "yref": "y"
         },
         {
          "font": {
           "color": "black",
           "family": "Arial",
           "size": 22
          },
          "showarrow": false,
          "text": "-3.25%",
          "x": -5.25,
          "xref": "x",
          "y": "NASDAQ Composite (IXIC)",
          "yref": "y"
         },
         {
          "font": {
           "color": "black",
           "family": "Arial",
           "size": 22
          },
          "showarrow": false,
          "text": "-3.32%",
          "x": -5.32,
          "xref": "x",
          "y": "S&P/BMV IPC (MXX)",
          "yref": "y"
         },
         {
          "font": {
           "color": "black",
           "family": "Arial",
           "size": 22
          },
          "showarrow": false,
          "text": "-3.86%",
          "x": -5.859999999999999,
          "xref": "x",
          "y": "S&P Merval (MERV)",
          "yref": "y"
         }
        ],
        "barmode": "stack",
        "font": {
         "color": "black",
         "family": "Arial Black",
         "size": 20
        },
        "height": 800,
        "margin": {
         "b": 20,
         "l": 20,
         "r": 20,
         "t": 20
        },
        "paper_bgcolor": "#f7f8fa",
        "template": {
         "data": {
          "bar": [
           {
            "error_x": {
             "color": "rgb(36,36,36)"
            },
            "error_y": {
             "color": "rgb(36,36,36)"
            },
            "marker": {
             "line": {
              "color": "white",
              "width": 0.5
             },
             "pattern": {
              "fillmode": "overlay",
              "size": 10,
              "solidity": 0.2
             }
            },
            "type": "bar"
           }
          ],
          "barpolar": [
           {
            "marker": {
             "line": {
              "color": "white",
              "width": 0.5
             },
             "pattern": {
              "fillmode": "overlay",
              "size": 10,
              "solidity": 0.2
             }
            },
            "type": "barpolar"
           }
          ],
          "carpet": [
           {
            "aaxis": {
             "endlinecolor": "rgb(36,36,36)",
             "gridcolor": "white",
             "linecolor": "white",
             "minorgridcolor": "white",
             "startlinecolor": "rgb(36,36,36)"
            },
            "baxis": {
             "endlinecolor": "rgb(36,36,36)",
             "gridcolor": "white",
             "linecolor": "white",
             "minorgridcolor": "white",
             "startlinecolor": "rgb(36,36,36)"
            },
            "type": "carpet"
           }
          ],
          "choropleth": [
           {
            "colorbar": {
             "outlinewidth": 1,
             "tickcolor": "rgb(36,36,36)",
             "ticks": "outside"
            },
            "type": "choropleth"
           }
          ],
          "contour": [
           {
            "colorbar": {
             "outlinewidth": 1,
             "tickcolor": "rgb(36,36,36)",
             "ticks": "outside"
            },
            "colorscale": [
             [
              0,
              "#440154"
             ],
             [
              0.1111111111111111,
              "#482878"
             ],
             [
              0.2222222222222222,
              "#3e4989"
             ],
             [
              0.3333333333333333,
              "#31688e"
             ],
             [
              0.4444444444444444,
              "#26828e"
             ],
             [
              0.5555555555555556,
              "#1f9e89"
             ],
             [
              0.6666666666666666,
              "#35b779"
             ],
             [
              0.7777777777777778,
              "#6ece58"
             ],
             [
              0.8888888888888888,
              "#b5de2b"
             ],
             [
              1,
              "#fde725"
             ]
            ],
            "type": "contour"
           }
          ],
          "contourcarpet": [
           {
            "colorbar": {
             "outlinewidth": 1,
             "tickcolor": "rgb(36,36,36)",
             "ticks": "outside"
            },
            "type": "contourcarpet"
           }
          ],
          "heatmap": [
           {
            "colorbar": {
             "outlinewidth": 1,
             "tickcolor": "rgb(36,36,36)",
             "ticks": "outside"
            },
            "colorscale": [
             [
              0,
              "#440154"
             ],
             [
              0.1111111111111111,
              "#482878"
             ],
             [
              0.2222222222222222,
              "#3e4989"
             ],
             [
              0.3333333333333333,
              "#31688e"
             ],
             [
              0.4444444444444444,
              "#26828e"
             ],
             [
              0.5555555555555556,
              "#1f9e89"
             ],
             [
              0.6666666666666666,
              "#35b779"
             ],
             [
              0.7777777777777778,
              "#6ece58"
             ],
             [
              0.8888888888888888,
              "#b5de2b"
             ],
             [
              1,
              "#fde725"
             ]
            ],
            "type": "heatmap"
           }
          ],
          "heatmapgl": [
           {
            "colorbar": {
             "outlinewidth": 1,
             "tickcolor": "rgb(36,36,36)",
             "ticks": "outside"
            },
            "colorscale": [
             [
              0,
              "#440154"
             ],
             [
              0.1111111111111111,
              "#482878"
             ],
             [
              0.2222222222222222,
              "#3e4989"
             ],
             [
              0.3333333333333333,
              "#31688e"
             ],
             [
              0.4444444444444444,
              "#26828e"
             ],
             [
              0.5555555555555556,
              "#1f9e89"
             ],
             [
              0.6666666666666666,
              "#35b779"
             ],
             [
              0.7777777777777778,
              "#6ece58"
             ],
             [
              0.8888888888888888,
              "#b5de2b"
             ],
             [
              1,
              "#fde725"
             ]
            ],
            "type": "heatmapgl"
           }
          ],
          "histogram": [
           {
            "marker": {
             "line": {
              "color": "white",
              "width": 0.6
             }
            },
            "type": "histogram"
           }
          ],
          "histogram2d": [
           {
            "colorbar": {
             "outlinewidth": 1,
             "tickcolor": "rgb(36,36,36)",
             "ticks": "outside"
            },
            "colorscale": [
             [
              0,
              "#440154"
             ],
             [
              0.1111111111111111,
              "#482878"
             ],
             [
              0.2222222222222222,
              "#3e4989"
             ],
             [
              0.3333333333333333,
              "#31688e"
             ],
             [
              0.4444444444444444,
              "#26828e"
             ],
             [
              0.5555555555555556,
              "#1f9e89"
             ],
             [
              0.6666666666666666,
              "#35b779"
             ],
             [
              0.7777777777777778,
              "#6ece58"
             ],
             [
              0.8888888888888888,
              "#b5de2b"
             ],
             [
              1,
              "#fde725"
             ]
            ],
            "type": "histogram2d"
           }
          ],
          "histogram2dcontour": [
           {
            "colorbar": {
             "outlinewidth": 1,
             "tickcolor": "rgb(36,36,36)",
             "ticks": "outside"
            },
            "colorscale": [
             [
              0,
              "#440154"
             ],
             [
              0.1111111111111111,
              "#482878"
             ],
             [
              0.2222222222222222,
              "#3e4989"
             ],
             [
              0.3333333333333333,
              "#31688e"
             ],
             [
              0.4444444444444444,
              "#26828e"
             ],
             [
              0.5555555555555556,
              "#1f9e89"
             ],
             [
              0.6666666666666666,
              "#35b779"
             ],
             [
              0.7777777777777778,
              "#6ece58"
             ],
             [
              0.8888888888888888,
              "#b5de2b"
             ],
             [
              1,
              "#fde725"
             ]
            ],
            "type": "histogram2dcontour"
           }
          ],
          "mesh3d": [
           {
            "colorbar": {
             "outlinewidth": 1,
             "tickcolor": "rgb(36,36,36)",
             "ticks": "outside"
            },
            "type": "mesh3d"
           }
          ],
          "parcoords": [
           {
            "line": {
             "colorbar": {
              "outlinewidth": 1,
              "tickcolor": "rgb(36,36,36)",
              "ticks": "outside"
             }
            },
            "type": "parcoords"
           }
          ],
          "pie": [
           {
            "automargin": true,
            "type": "pie"
           }
          ],
          "scatter": [
           {
            "marker": {
             "colorbar": {
              "outlinewidth": 1,
              "tickcolor": "rgb(36,36,36)",
              "ticks": "outside"
             }
            },
            "type": "scatter"
           }
          ],
          "scatter3d": [
           {
            "line": {
             "colorbar": {
              "outlinewidth": 1,
              "tickcolor": "rgb(36,36,36)",
              "ticks": "outside"
             }
            },
            "marker": {
             "colorbar": {
              "outlinewidth": 1,
              "tickcolor": "rgb(36,36,36)",
              "ticks": "outside"
             }
            },
            "type": "scatter3d"
           }
          ],
          "scattercarpet": [
           {
            "marker": {
             "colorbar": {
              "outlinewidth": 1,
              "tickcolor": "rgb(36,36,36)",
              "ticks": "outside"
             }
            },
            "type": "scattercarpet"
           }
          ],
          "scattergeo": [
           {
            "marker": {
             "colorbar": {
              "outlinewidth": 1,
              "tickcolor": "rgb(36,36,36)",
              "ticks": "outside"
             }
            },
            "type": "scattergeo"
           }
          ],
          "scattergl": [
           {
            "marker": {
             "colorbar": {
              "outlinewidth": 1,
              "tickcolor": "rgb(36,36,36)",
              "ticks": "outside"
             }
            },
            "type": "scattergl"
           }
          ],
          "scattermapbox": [
           {
            "marker": {
             "colorbar": {
              "outlinewidth": 1,
              "tickcolor": "rgb(36,36,36)",
              "ticks": "outside"
             }
            },
            "type": "scattermapbox"
           }
          ],
          "scatterpolar": [
           {
            "marker": {
             "colorbar": {
              "outlinewidth": 1,
              "tickcolor": "rgb(36,36,36)",
              "ticks": "outside"
             }
            },
            "type": "scatterpolar"
           }
          ],
          "scatterpolargl": [
           {
            "marker": {
             "colorbar": {
              "outlinewidth": 1,
              "tickcolor": "rgb(36,36,36)",
              "ticks": "outside"
             }
            },
            "type": "scatterpolargl"
           }
          ],
          "scatterternary": [
           {
            "marker": {
             "colorbar": {
              "outlinewidth": 1,
              "tickcolor": "rgb(36,36,36)",
              "ticks": "outside"
             }
            },
            "type": "scatterternary"
           }
          ],
          "surface": [
           {
            "colorbar": {
             "outlinewidth": 1,
             "tickcolor": "rgb(36,36,36)",
             "ticks": "outside"
            },
            "colorscale": [
             [
              0,
              "#440154"
             ],
             [
              0.1111111111111111,
              "#482878"
             ],
             [
              0.2222222222222222,
              "#3e4989"
             ],
             [
              0.3333333333333333,
              "#31688e"
             ],
             [
              0.4444444444444444,
              "#26828e"
             ],
             [
              0.5555555555555556,
              "#1f9e89"
             ],
             [
              0.6666666666666666,
              "#35b779"
             ],
             [
              0.7777777777777778,
              "#6ece58"
             ],
             [
              0.8888888888888888,
              "#b5de2b"
             ],
             [
              1,
              "#fde725"
             ]
            ],
            "type": "surface"
           }
          ],
          "table": [
           {
            "cells": {
             "fill": {
              "color": "rgb(237,237,237)"
             },
             "line": {
              "color": "white"
             }
            },
            "header": {
             "fill": {
              "color": "rgb(217,217,217)"
             },
             "line": {
              "color": "white"
             }
            },
            "type": "table"
           }
          ]
         },
         "layout": {
          "annotationdefaults": {
           "arrowhead": 0,
           "arrowwidth": 1
          },
          "autotypenumbers": "strict",
          "coloraxis": {
           "colorbar": {
            "outlinewidth": 1,
            "tickcolor": "rgb(36,36,36)",
            "ticks": "outside"
           }
          },
          "colorscale": {
           "diverging": [
            [
             0,
             "rgb(103,0,31)"
            ],
            [
             0.1,
             "rgb(178,24,43)"
            ],
            [
             0.2,
             "rgb(214,96,77)"
            ],
            [
             0.3,
             "rgb(244,165,130)"
            ],
            [
             0.4,
             "rgb(253,219,199)"
            ],
            [
             0.5,
             "rgb(247,247,247)"
            ],
            [
             0.6,
             "rgb(209,229,240)"
            ],
            [
             0.7,
             "rgb(146,197,222)"
            ],
            [
             0.8,
             "rgb(67,147,195)"
            ],
            [
             0.9,
             "rgb(33,102,172)"
            ],
            [
             1,
             "rgb(5,48,97)"
            ]
           ],
           "sequential": [
            [
             0,
             "#440154"
            ],
            [
             0.1111111111111111,
             "#482878"
            ],
            [
             0.2222222222222222,
             "#3e4989"
            ],
            [
             0.3333333333333333,
             "#31688e"
            ],
            [
             0.4444444444444444,
             "#26828e"
            ],
            [
             0.5555555555555556,
             "#1f9e89"
            ],
            [
             0.6666666666666666,
             "#35b779"
            ],
            [
             0.7777777777777778,
             "#6ece58"
            ],
            [
             0.8888888888888888,
             "#b5de2b"
            ],
            [
             1,
             "#fde725"
            ]
           ],
           "sequentialminus": [
            [
             0,
             "#440154"
            ],
            [
             0.1111111111111111,
             "#482878"
            ],
            [
             0.2222222222222222,
             "#3e4989"
            ],
            [
             0.3333333333333333,
             "#31688e"
            ],
            [
             0.4444444444444444,
             "#26828e"
            ],
            [
             0.5555555555555556,
             "#1f9e89"
            ],
            [
             0.6666666666666666,
             "#35b779"
            ],
            [
             0.7777777777777778,
             "#6ece58"
            ],
            [
             0.8888888888888888,
             "#b5de2b"
            ],
            [
             1,
             "#fde725"
            ]
           ]
          },
          "colorway": [
           "#1F77B4",
           "#FF7F0E",
           "#2CA02C",
           "#D62728",
           "#9467BD",
           "#8C564B",
           "#E377C2",
           "#7F7F7F",
           "#BCBD22",
           "#17BECF"
          ],
          "font": {
           "color": "rgb(36,36,36)"
          },
          "geo": {
           "bgcolor": "white",
           "lakecolor": "white",
           "landcolor": "white",
           "showlakes": true,
           "showland": true,
           "subunitcolor": "white"
          },
          "hoverlabel": {
           "align": "left"
          },
          "hovermode": "closest",
          "mapbox": {
           "style": "light"
          },
          "paper_bgcolor": "white",
          "plot_bgcolor": "white",
          "polar": {
           "angularaxis": {
            "gridcolor": "rgb(232,232,232)",
            "linecolor": "rgb(36,36,36)",
            "showgrid": false,
            "showline": true,
            "ticks": "outside"
           },
           "bgcolor": "white",
           "radialaxis": {
            "gridcolor": "rgb(232,232,232)",
            "linecolor": "rgb(36,36,36)",
            "showgrid": false,
            "showline": true,
            "ticks": "outside"
           }
          },
          "scene": {
           "xaxis": {
            "backgroundcolor": "white",
            "gridcolor": "rgb(232,232,232)",
            "gridwidth": 2,
            "linecolor": "rgb(36,36,36)",
            "showbackground": true,
            "showgrid": false,
            "showline": true,
            "ticks": "outside",
            "zeroline": false,
            "zerolinecolor": "rgb(36,36,36)"
           },
           "yaxis": {
            "backgroundcolor": "white",
            "gridcolor": "rgb(232,232,232)",
            "gridwidth": 2,
            "linecolor": "rgb(36,36,36)",
            "showbackground": true,
            "showgrid": false,
            "showline": true,
            "ticks": "outside",
            "zeroline": false,
            "zerolinecolor": "rgb(36,36,36)"
           },
           "zaxis": {
            "backgroundcolor": "white",
            "gridcolor": "rgb(232,232,232)",
            "gridwidth": 2,
            "linecolor": "rgb(36,36,36)",
            "showbackground": true,
            "showgrid": false,
            "showline": true,
            "ticks": "outside",
            "zeroline": false,
            "zerolinecolor": "rgb(36,36,36)"
           }
          },
          "shapedefaults": {
           "fillcolor": "black",
           "line": {
            "width": 0
           },
           "opacity": 0.3
          },
          "ternary": {
           "aaxis": {
            "gridcolor": "rgb(232,232,232)",
            "linecolor": "rgb(36,36,36)",
            "showgrid": false,
            "showline": true,
            "ticks": "outside"
           },
           "baxis": {
            "gridcolor": "rgb(232,232,232)",
            "linecolor": "rgb(36,36,36)",
            "showgrid": false,
            "showline": true,
            "ticks": "outside"
           },
           "bgcolor": "white",
           "caxis": {
            "gridcolor": "rgb(232,232,232)",
            "linecolor": "rgb(36,36,36)",
            "showgrid": false,
            "showline": true,
            "ticks": "outside"
           }
          },
          "title": {
           "x": 0.05
          },
          "xaxis": {
           "automargin": true,
           "gridcolor": "rgb(232,232,232)",
           "linecolor": "rgb(36,36,36)",
           "showgrid": false,
           "showline": true,
           "ticks": "outside",
           "title": {
            "standoff": 15
           },
           "zeroline": false,
           "zerolinecolor": "rgb(36,36,36)"
          },
          "yaxis": {
           "automargin": true,
           "gridcolor": "rgb(232,232,232)",
           "linecolor": "rgb(36,36,36)",
           "showgrid": false,
           "showline": true,
           "ticks": "outside",
           "title": {
            "standoff": 15
           },
           "zeroline": false,
           "zerolinecolor": "rgb(36,36,36)"
          }
         }
        },
        "title": {
         "text": ""
        },
        "width": 1000,
        "xaxis": {
         "range": [
          -10,
          15
         ],
         "showticklabels": true,
         "visible": true
        }
       }
      },
      "text/html": [
       "<div>                            <div id=\"b3fa0075-ae67-4ed4-a0f3-a11465730668\" class=\"plotly-graph-div\" style=\"height:800px; width:1000px;\"></div>            <script type=\"text/javascript\">                require([\"plotly\"], function(Plotly) {                    window.PLOTLYENV=window.PLOTLYENV || {};                                    if (document.getElementById(\"b3fa0075-ae67-4ed4-a0f3-a11465730668\")) {                    Plotly.newPlot(                        \"b3fa0075-ae67-4ed4-a0f3-a11465730668\",                        [{\"marker\":{\"color\":[\"green\",\"green\",\"green\",\"green\",\"green\",\"green\",\"green\",\"green\",\"green\",\"green\",\"green\",\"green\",\"green\",\"green\",\"green\",\"green\",\"green\",\"red\",\"red\",\"red\",\"red\",\"red\",\"red\",\"red\",\"red\",\"red\",\"red\",\"red\",\"red\",\"red\"]},\"name\":\"Net\",\"orientation\":\"h\",\"x\":[9.339003362667233,2.184604322402958,2.102131348267914,1.6704242294536338,1.430915186532559,1.364892993625993,1.2846269512781288,1.129870129870136,0.6869494546326957,0.6866741137308712,0.582261370992886,0.5693800084352637,0.5671494346146426,0.5267974881016106,0.4376670500647668,0.30405441337573375,0.13775229607551967,-0.15071402325479333,-0.2966101694915254,-0.6297426678094339,-0.6663722853357978,-1.0649739415186474,-1.69666329625884,-2.0618421990449445,-2.881784707905327,-2.9001207894081285,-3.182779145600153,-3.2514273478195106,-3.3190042254008443,-3.858033921127419],\"y\":[\"MOEX Russia (IMOEX)\",\"Hang Seng (HK50)\",\"Tadawul All Share (TASI)\",\"SZSE_Component (SZI)\",\"AEX (AEX)\",\"DAX (DE30)\",\"CAC 40 (FCHI)\",\"EuroNext 100 (N100)\",\"SMI (SWI20)\",\"KOSPI (KS11)\",\"Nikkei 225 (JP225)\",\"IBEX 35 (ES35)\",\"Nifty 50 (NSEI)\",\"BSE Sensex 30 (BSESN)\",\"Shanghai_Composite (SSEC)\",\"FTSE 100 (UK100)\",\"South Africa Top 40 (JTOPI)\",\"NYSE Composite (NYA)\",\"FTSE MIB Futures (IT40)\",\"EURO STOXX 50 (STOXX50)\",\"S&P/ASX 200 (AXJO)\",\"S&P/TSX Composite (GSPTSE)\",\"BIST 100 (XU100)\",\"Dow Jones Industrial Average (DJI)\",\"Bovespa (BVSP)\",\"S&P 500 (US500)\",\"Nasdaq 100 (NDX)\",\"NASDAQ Composite (IXIC)\",\"S&P/BMV IPC (MXX)\",\"S&P Merval (MERV)\"],\"type\":\"bar\"}],                        {\"template\":{\"data\":{\"barpolar\":[{\"marker\":{\"line\":{\"color\":\"white\",\"width\":0.5},\"pattern\":{\"fillmode\":\"overlay\",\"size\":10,\"solidity\":0.2}},\"type\":\"barpolar\"}],\"bar\":[{\"error_x\":{\"color\":\"rgb(36,36,36)\"},\"error_y\":{\"color\":\"rgb(36,36,36)\"},\"marker\":{\"line\":{\"color\":\"white\",\"width\":0.5},\"pattern\":{\"fillmode\":\"overlay\",\"size\":10,\"solidity\":0.2}},\"type\":\"bar\"}],\"carpet\":[{\"aaxis\":{\"endlinecolor\":\"rgb(36,36,36)\",\"gridcolor\":\"white\",\"linecolor\":\"white\",\"minorgridcolor\":\"white\",\"startlinecolor\":\"rgb(36,36,36)\"},\"baxis\":{\"endlinecolor\":\"rgb(36,36,36)\",\"gridcolor\":\"white\",\"linecolor\":\"white\",\"minorgridcolor\":\"white\",\"startlinecolor\":\"rgb(36,36,36)\"},\"type\":\"carpet\"}],\"choropleth\":[{\"colorbar\":{\"outlinewidth\":1,\"tickcolor\":\"rgb(36,36,36)\",\"ticks\":\"outside\"},\"type\":\"choropleth\"}],\"contourcarpet\":[{\"colorbar\":{\"outlinewidth\":1,\"tickcolor\":\"rgb(36,36,36)\",\"ticks\":\"outside\"},\"type\":\"contourcarpet\"}],\"contour\":[{\"colorbar\":{\"outlinewidth\":1,\"tickcolor\":\"rgb(36,36,36)\",\"ticks\":\"outside\"},\"colorscale\":[[0.0,\"#440154\"],[0.1111111111111111,\"#482878\"],[0.2222222222222222,\"#3e4989\"],[0.3333333333333333,\"#31688e\"],[0.4444444444444444,\"#26828e\"],[0.5555555555555556,\"#1f9e89\"],[0.6666666666666666,\"#35b779\"],[0.7777777777777778,\"#6ece58\"],[0.8888888888888888,\"#b5de2b\"],[1.0,\"#fde725\"]],\"type\":\"contour\"}],\"heatmapgl\":[{\"colorbar\":{\"outlinewidth\":1,\"tickcolor\":\"rgb(36,36,36)\",\"ticks\":\"outside\"},\"colorscale\":[[0.0,\"#440154\"],[0.1111111111111111,\"#482878\"],[0.2222222222222222,\"#3e4989\"],[0.3333333333333333,\"#31688e\"],[0.4444444444444444,\"#26828e\"],[0.5555555555555556,\"#1f9e89\"],[0.6666666666666666,\"#35b779\"],[0.7777777777777778,\"#6ece58\"],[0.8888888888888888,\"#b5de2b\"],[1.0,\"#fde725\"]],\"type\":\"heatmapgl\"}],\"heatmap\":[{\"colorbar\":{\"outlinewidth\":1,\"tickcolor\":\"rgb(36,36,36)\",\"ticks\":\"outside\"},\"colorscale\":[[0.0,\"#440154\"],[0.1111111111111111,\"#482878\"],[0.2222222222222222,\"#3e4989\"],[0.3333333333333333,\"#31688e\"],[0.4444444444444444,\"#26828e\"],[0.5555555555555556,\"#1f9e89\"],[0.6666666666666666,\"#35b779\"],[0.7777777777777778,\"#6ece58\"],[0.8888888888888888,\"#b5de2b\"],[1.0,\"#fde725\"]],\"type\":\"heatmap\"}],\"histogram2dcontour\":[{\"colorbar\":{\"outlinewidth\":1,\"tickcolor\":\"rgb(36,36,36)\",\"ticks\":\"outside\"},\"colorscale\":[[0.0,\"#440154\"],[0.1111111111111111,\"#482878\"],[0.2222222222222222,\"#3e4989\"],[0.3333333333333333,\"#31688e\"],[0.4444444444444444,\"#26828e\"],[0.5555555555555556,\"#1f9e89\"],[0.6666666666666666,\"#35b779\"],[0.7777777777777778,\"#6ece58\"],[0.8888888888888888,\"#b5de2b\"],[1.0,\"#fde725\"]],\"type\":\"histogram2dcontour\"}],\"histogram2d\":[{\"colorbar\":{\"outlinewidth\":1,\"tickcolor\":\"rgb(36,36,36)\",\"ticks\":\"outside\"},\"colorscale\":[[0.0,\"#440154\"],[0.1111111111111111,\"#482878\"],[0.2222222222222222,\"#3e4989\"],[0.3333333333333333,\"#31688e\"],[0.4444444444444444,\"#26828e\"],[0.5555555555555556,\"#1f9e89\"],[0.6666666666666666,\"#35b779\"],[0.7777777777777778,\"#6ece58\"],[0.8888888888888888,\"#b5de2b\"],[1.0,\"#fde725\"]],\"type\":\"histogram2d\"}],\"histogram\":[{\"marker\":{\"line\":{\"color\":\"white\",\"width\":0.6}},\"type\":\"histogram\"}],\"mesh3d\":[{\"colorbar\":{\"outlinewidth\":1,\"tickcolor\":\"rgb(36,36,36)\",\"ticks\":\"outside\"},\"type\":\"mesh3d\"}],\"parcoords\":[{\"line\":{\"colorbar\":{\"outlinewidth\":1,\"tickcolor\":\"rgb(36,36,36)\",\"ticks\":\"outside\"}},\"type\":\"parcoords\"}],\"pie\":[{\"automargin\":true,\"type\":\"pie\"}],\"scatter3d\":[{\"line\":{\"colorbar\":{\"outlinewidth\":1,\"tickcolor\":\"rgb(36,36,36)\",\"ticks\":\"outside\"}},\"marker\":{\"colorbar\":{\"outlinewidth\":1,\"tickcolor\":\"rgb(36,36,36)\",\"ticks\":\"outside\"}},\"type\":\"scatter3d\"}],\"scattercarpet\":[{\"marker\":{\"colorbar\":{\"outlinewidth\":1,\"tickcolor\":\"rgb(36,36,36)\",\"ticks\":\"outside\"}},\"type\":\"scattercarpet\"}],\"scattergeo\":[{\"marker\":{\"colorbar\":{\"outlinewidth\":1,\"tickcolor\":\"rgb(36,36,36)\",\"ticks\":\"outside\"}},\"type\":\"scattergeo\"}],\"scattergl\":[{\"marker\":{\"colorbar\":{\"outlinewidth\":1,\"tickcolor\":\"rgb(36,36,36)\",\"ticks\":\"outside\"}},\"type\":\"scattergl\"}],\"scattermapbox\":[{\"marker\":{\"colorbar\":{\"outlinewidth\":1,\"tickcolor\":\"rgb(36,36,36)\",\"ticks\":\"outside\"}},\"type\":\"scattermapbox\"}],\"scatterpolargl\":[{\"marker\":{\"colorbar\":{\"outlinewidth\":1,\"tickcolor\":\"rgb(36,36,36)\",\"ticks\":\"outside\"}},\"type\":\"scatterpolargl\"}],\"scatterpolar\":[{\"marker\":{\"colorbar\":{\"outlinewidth\":1,\"tickcolor\":\"rgb(36,36,36)\",\"ticks\":\"outside\"}},\"type\":\"scatterpolar\"}],\"scatter\":[{\"marker\":{\"colorbar\":{\"outlinewidth\":1,\"tickcolor\":\"rgb(36,36,36)\",\"ticks\":\"outside\"}},\"type\":\"scatter\"}],\"scatterternary\":[{\"marker\":{\"colorbar\":{\"outlinewidth\":1,\"tickcolor\":\"rgb(36,36,36)\",\"ticks\":\"outside\"}},\"type\":\"scatterternary\"}],\"surface\":[{\"colorbar\":{\"outlinewidth\":1,\"tickcolor\":\"rgb(36,36,36)\",\"ticks\":\"outside\"},\"colorscale\":[[0.0,\"#440154\"],[0.1111111111111111,\"#482878\"],[0.2222222222222222,\"#3e4989\"],[0.3333333333333333,\"#31688e\"],[0.4444444444444444,\"#26828e\"],[0.5555555555555556,\"#1f9e89\"],[0.6666666666666666,\"#35b779\"],[0.7777777777777778,\"#6ece58\"],[0.8888888888888888,\"#b5de2b\"],[1.0,\"#fde725\"]],\"type\":\"surface\"}],\"table\":[{\"cells\":{\"fill\":{\"color\":\"rgb(237,237,237)\"},\"line\":{\"color\":\"white\"}},\"header\":{\"fill\":{\"color\":\"rgb(217,217,217)\"},\"line\":{\"color\":\"white\"}},\"type\":\"table\"}]},\"layout\":{\"annotationdefaults\":{\"arrowhead\":0,\"arrowwidth\":1},\"autotypenumbers\":\"strict\",\"coloraxis\":{\"colorbar\":{\"outlinewidth\":1,\"tickcolor\":\"rgb(36,36,36)\",\"ticks\":\"outside\"}},\"colorscale\":{\"diverging\":[[0.0,\"rgb(103,0,31)\"],[0.1,\"rgb(178,24,43)\"],[0.2,\"rgb(214,96,77)\"],[0.3,\"rgb(244,165,130)\"],[0.4,\"rgb(253,219,199)\"],[0.5,\"rgb(247,247,247)\"],[0.6,\"rgb(209,229,240)\"],[0.7,\"rgb(146,197,222)\"],[0.8,\"rgb(67,147,195)\"],[0.9,\"rgb(33,102,172)\"],[1.0,\"rgb(5,48,97)\"]],\"sequential\":[[0.0,\"#440154\"],[0.1111111111111111,\"#482878\"],[0.2222222222222222,\"#3e4989\"],[0.3333333333333333,\"#31688e\"],[0.4444444444444444,\"#26828e\"],[0.5555555555555556,\"#1f9e89\"],[0.6666666666666666,\"#35b779\"],[0.7777777777777778,\"#6ece58\"],[0.8888888888888888,\"#b5de2b\"],[1.0,\"#fde725\"]],\"sequentialminus\":[[0.0,\"#440154\"],[0.1111111111111111,\"#482878\"],[0.2222222222222222,\"#3e4989\"],[0.3333333333333333,\"#31688e\"],[0.4444444444444444,\"#26828e\"],[0.5555555555555556,\"#1f9e89\"],[0.6666666666666666,\"#35b779\"],[0.7777777777777778,\"#6ece58\"],[0.8888888888888888,\"#b5de2b\"],[1.0,\"#fde725\"]]},\"colorway\":[\"#1F77B4\",\"#FF7F0E\",\"#2CA02C\",\"#D62728\",\"#9467BD\",\"#8C564B\",\"#E377C2\",\"#7F7F7F\",\"#BCBD22\",\"#17BECF\"],\"font\":{\"color\":\"rgb(36,36,36)\"},\"geo\":{\"bgcolor\":\"white\",\"lakecolor\":\"white\",\"landcolor\":\"white\",\"showlakes\":true,\"showland\":true,\"subunitcolor\":\"white\"},\"hoverlabel\":{\"align\":\"left\"},\"hovermode\":\"closest\",\"mapbox\":{\"style\":\"light\"},\"paper_bgcolor\":\"white\",\"plot_bgcolor\":\"white\",\"polar\":{\"angularaxis\":{\"gridcolor\":\"rgb(232,232,232)\",\"linecolor\":\"rgb(36,36,36)\",\"showgrid\":false,\"showline\":true,\"ticks\":\"outside\"},\"bgcolor\":\"white\",\"radialaxis\":{\"gridcolor\":\"rgb(232,232,232)\",\"linecolor\":\"rgb(36,36,36)\",\"showgrid\":false,\"showline\":true,\"ticks\":\"outside\"}},\"scene\":{\"xaxis\":{\"backgroundcolor\":\"white\",\"gridcolor\":\"rgb(232,232,232)\",\"gridwidth\":2,\"linecolor\":\"rgb(36,36,36)\",\"showbackground\":true,\"showgrid\":false,\"showline\":true,\"ticks\":\"outside\",\"zeroline\":false,\"zerolinecolor\":\"rgb(36,36,36)\"},\"yaxis\":{\"backgroundcolor\":\"white\",\"gridcolor\":\"rgb(232,232,232)\",\"gridwidth\":2,\"linecolor\":\"rgb(36,36,36)\",\"showbackground\":true,\"showgrid\":false,\"showline\":true,\"ticks\":\"outside\",\"zeroline\":false,\"zerolinecolor\":\"rgb(36,36,36)\"},\"zaxis\":{\"backgroundcolor\":\"white\",\"gridcolor\":\"rgb(232,232,232)\",\"gridwidth\":2,\"linecolor\":\"rgb(36,36,36)\",\"showbackground\":true,\"showgrid\":false,\"showline\":true,\"ticks\":\"outside\",\"zeroline\":false,\"zerolinecolor\":\"rgb(36,36,36)\"}},\"shapedefaults\":{\"fillcolor\":\"black\",\"line\":{\"width\":0},\"opacity\":0.3},\"ternary\":{\"aaxis\":{\"gridcolor\":\"rgb(232,232,232)\",\"linecolor\":\"rgb(36,36,36)\",\"showgrid\":false,\"showline\":true,\"ticks\":\"outside\"},\"baxis\":{\"gridcolor\":\"rgb(232,232,232)\",\"linecolor\":\"rgb(36,36,36)\",\"showgrid\":false,\"showline\":true,\"ticks\":\"outside\"},\"bgcolor\":\"white\",\"caxis\":{\"gridcolor\":\"rgb(232,232,232)\",\"linecolor\":\"rgb(36,36,36)\",\"showgrid\":false,\"showline\":true,\"ticks\":\"outside\"}},\"title\":{\"x\":0.05},\"xaxis\":{\"automargin\":true,\"gridcolor\":\"rgb(232,232,232)\",\"linecolor\":\"rgb(36,36,36)\",\"showgrid\":false,\"showline\":true,\"ticks\":\"outside\",\"title\":{\"standoff\":15},\"zeroline\":false,\"zerolinecolor\":\"rgb(36,36,36)\"},\"yaxis\":{\"automargin\":true,\"gridcolor\":\"rgb(232,232,232)\",\"linecolor\":\"rgb(36,36,36)\",\"showgrid\":false,\"showline\":true,\"ticks\":\"outside\",\"title\":{\"standoff\":15},\"zeroline\":false,\"zerolinecolor\":\"rgb(36,36,36)\"}}},\"xaxis\":{\"visible\":true,\"showticklabels\":true,\"range\":[-10,15]},\"title\":{\"text\":\"\"},\"margin\":{\"l\":20,\"r\":20,\"t\":20,\"b\":20},\"font\":{\"family\":\"Arial Black\",\"size\":20,\"color\":\"black\"},\"barmode\":\"stack\",\"paper_bgcolor\":\"#f7f8fa\",\"width\":1000,\"height\":800,\"annotations\":[{\"font\":{\"color\":\"black\",\"family\":\"Arial\",\"size\":22},\"showarrow\":false,\"text\":\"9.34%\",\"x\":11.34,\"xref\":\"x\",\"y\":\"MOEX Russia (IMOEX)\",\"yref\":\"y\"},{\"font\":{\"color\":\"black\",\"family\":\"Arial\",\"size\":22},\"showarrow\":false,\"text\":\"2.18%\",\"x\":4.18,\"xref\":\"x\",\"y\":\"Hang Seng (HK50)\",\"yref\":\"y\"},{\"font\":{\"color\":\"black\",\"family\":\"Arial\",\"size\":22},\"showarrow\":false,\"text\":\"2.1%\",\"x\":4.1,\"xref\":\"x\",\"y\":\"Tadawul All Share (TASI)\",\"yref\":\"y\"},{\"font\":{\"color\":\"black\",\"family\":\"Arial\",\"size\":22},\"showarrow\":false,\"text\":\"1.67%\",\"x\":3.67,\"xref\":\"x\",\"y\":\"SZSE_Component (SZI)\",\"yref\":\"y\"},{\"font\":{\"color\":\"black\",\"family\":\"Arial\",\"size\":22},\"showarrow\":false,\"text\":\"1.43%\",\"x\":3.4299999999999997,\"xref\":\"x\",\"y\":\"AEX (AEX)\",\"yref\":\"y\"},{\"font\":{\"color\":\"black\",\"family\":\"Arial\",\"size\":22},\"showarrow\":false,\"text\":\"1.36%\",\"x\":3.3600000000000003,\"xref\":\"x\",\"y\":\"DAX (DE30)\",\"yref\":\"y\"},{\"font\":{\"color\":\"black\",\"family\":\"Arial\",\"size\":22},\"showarrow\":false,\"text\":\"1.28%\",\"x\":3.2800000000000002,\"xref\":\"x\",\"y\":\"CAC 40 (FCHI)\",\"yref\":\"y\"},{\"font\":{\"color\":\"black\",\"family\":\"Arial\",\"size\":22},\"showarrow\":false,\"text\":\"1.13%\",\"x\":3.13,\"xref\":\"x\",\"y\":\"EuroNext 100 (N100)\",\"yref\":\"y\"},{\"font\":{\"color\":\"black\",\"family\":\"Arial\",\"size\":22},\"showarrow\":false,\"text\":\"0.69%\",\"x\":2.69,\"xref\":\"x\",\"y\":\"SMI (SWI20)\",\"yref\":\"y\"},{\"font\":{\"color\":\"black\",\"family\":\"Arial\",\"size\":22},\"showarrow\":false,\"text\":\"0.69%\",\"x\":2.69,\"xref\":\"x\",\"y\":\"KOSPI (KS11)\",\"yref\":\"y\"},{\"font\":{\"color\":\"black\",\"family\":\"Arial\",\"size\":22},\"showarrow\":false,\"text\":\"0.58%\",\"x\":2.58,\"xref\":\"x\",\"y\":\"Nikkei 225 (JP225)\",\"yref\":\"y\"},{\"font\":{\"color\":\"black\",\"family\":\"Arial\",\"size\":22},\"showarrow\":false,\"text\":\"0.57%\",\"x\":2.57,\"xref\":\"x\",\"y\":\"IBEX 35 (ES35)\",\"yref\":\"y\"},{\"font\":{\"color\":\"black\",\"family\":\"Arial\",\"size\":22},\"showarrow\":false,\"text\":\"0.57%\",\"x\":2.57,\"xref\":\"x\",\"y\":\"Nifty 50 (NSEI)\",\"yref\":\"y\"},{\"font\":{\"color\":\"black\",\"family\":\"Arial\",\"size\":22},\"showarrow\":false,\"text\":\"0.53%\",\"x\":2.5300000000000002,\"xref\":\"x\",\"y\":\"BSE Sensex 30 (BSESN)\",\"yref\":\"y\"},{\"font\":{\"color\":\"black\",\"family\":\"Arial\",\"size\":22},\"showarrow\":false,\"text\":\"0.44%\",\"x\":2.44,\"xref\":\"x\",\"y\":\"Shanghai_Composite (SSEC)\",\"yref\":\"y\"},{\"font\":{\"color\":\"black\",\"family\":\"Arial\",\"size\":22},\"showarrow\":false,\"text\":\"0.3%\",\"x\":2.3,\"xref\":\"x\",\"y\":\"FTSE 100 (UK100)\",\"yref\":\"y\"},{\"font\":{\"color\":\"black\",\"family\":\"Arial\",\"size\":22},\"showarrow\":false,\"text\":\"0.14%\",\"x\":2.14,\"xref\":\"x\",\"y\":\"South Africa Top 40 (JTOPI)\",\"yref\":\"y\"},{\"font\":{\"color\":\"black\",\"family\":\"Arial\",\"size\":22},\"showarrow\":false,\"text\":\"-0.15%\",\"x\":-2.15,\"xref\":\"x\",\"y\":\"NYSE Composite (NYA)\",\"yref\":\"y\"},{\"font\":{\"color\":\"black\",\"family\":\"Arial\",\"size\":22},\"showarrow\":false,\"text\":\"-0.3%\",\"x\":-2.3,\"xref\":\"x\",\"y\":\"FTSE MIB Futures (IT40)\",\"yref\":\"y\"},{\"font\":{\"color\":\"black\",\"family\":\"Arial\",\"size\":22},\"showarrow\":false,\"text\":\"-0.63%\",\"x\":-2.63,\"xref\":\"x\",\"y\":\"EURO STOXX 50 (STOXX50)\",\"yref\":\"y\"},{\"font\":{\"color\":\"black\",\"family\":\"Arial\",\"size\":22},\"showarrow\":false,\"text\":\"-0.67%\",\"x\":-2.67,\"xref\":\"x\",\"y\":\"S&P/ASX 200 (AXJO)\",\"yref\":\"y\"},{\"font\":{\"color\":\"black\",\"family\":\"Arial\",\"size\":22},\"showarrow\":false,\"text\":\"-1.06%\",\"x\":-3.06,\"xref\":\"x\",\"y\":\"S&P/TSX Composite (GSPTSE)\",\"yref\":\"y\"},{\"font\":{\"color\":\"black\",\"family\":\"Arial\",\"size\":22},\"showarrow\":false,\"text\":\"-1.7%\",\"x\":-3.7,\"xref\":\"x\",\"y\":\"BIST 100 (XU100)\",\"yref\":\"y\"},{\"font\":{\"color\":\"black\",\"family\":\"Arial\",\"size\":22},\"showarrow\":false,\"text\":\"-2.06%\",\"x\":-4.0600000000000005,\"xref\":\"x\",\"y\":\"Dow Jones Industrial Average (DJI)\",\"yref\":\"y\"},{\"font\":{\"color\":\"black\",\"family\":\"Arial\",\"size\":22},\"showarrow\":false,\"text\":\"-2.88%\",\"x\":-4.88,\"xref\":\"x\",\"y\":\"Bovespa (BVSP)\",\"yref\":\"y\"},{\"font\":{\"color\":\"black\",\"family\":\"Arial\",\"size\":22},\"showarrow\":false,\"text\":\"-2.9%\",\"x\":-4.9,\"xref\":\"x\",\"y\":\"S&P 500 (US500)\",\"yref\":\"y\"},{\"font\":{\"color\":\"black\",\"family\":\"Arial\",\"size\":22},\"showarrow\":false,\"text\":\"-3.18%\",\"x\":-5.18,\"xref\":\"x\",\"y\":\"Nasdaq 100 (NDX)\",\"yref\":\"y\"},{\"font\":{\"color\":\"black\",\"family\":\"Arial\",\"size\":22},\"showarrow\":false,\"text\":\"-3.25%\",\"x\":-5.25,\"xref\":\"x\",\"y\":\"NASDAQ Composite (IXIC)\",\"yref\":\"y\"},{\"font\":{\"color\":\"black\",\"family\":\"Arial\",\"size\":22},\"showarrow\":false,\"text\":\"-3.32%\",\"x\":-5.32,\"xref\":\"x\",\"y\":\"S&P/BMV IPC (MXX)\",\"yref\":\"y\"},{\"font\":{\"color\":\"black\",\"family\":\"Arial\",\"size\":22},\"showarrow\":false,\"text\":\"-3.86%\",\"x\":-5.859999999999999,\"xref\":\"x\",\"y\":\"S&P Merval (MERV)\",\"yref\":\"y\"}]},                        {\"responsive\": true}                    ).then(function(){\n",
       "                            \n",
       "var gd = document.getElementById('b3fa0075-ae67-4ed4-a0f3-a11465730668');\n",
       "var x = new MutationObserver(function (mutations, observer) {{\n",
       "        var display = window.getComputedStyle(gd).display;\n",
       "        if (!display || display === 'none') {{\n",
       "            console.log([gd, 'removed!']);\n",
       "            Plotly.purge(gd);\n",
       "            observer.disconnect();\n",
       "        }}\n",
       "}});\n",
       "\n",
       "// Listen for the removal of the full notebook cells\n",
       "var notebookContainer = gd.closest('#notebook-container');\n",
       "if (notebookContainer) {{\n",
       "    x.observe(notebookContainer, {childList: true});\n",
       "}}\n",
       "\n",
       "// Listen for the clearing of the current output cell\n",
       "var outputEl = gd.closest('.output');\n",
       "if (outputEl) {{\n",
       "    x.observe(outputEl, {childList: true});\n",
       "}}\n",
       "\n",
       "                        })                };                });            </script>        </div>"
      ]
     },
     "metadata": {},
     "output_type": "display_data"
    }
   ],
   "source": [
    "df_stocks_result3 = df_stocks_result3.sort_values(by='Result_%',ascending=False)\n",
    "df_stocks_result3[\"Color\"] = np.where(df_stocks_result3[\"Result_%\"] < 0, 'red', 'green')\n",
    "\n",
    "fig = go.Figure()\n",
    "\n",
    "fig.add_trace(go.Bar(name='Net', x=df_stocks_result3['Result_%'], y=df_stocks_result3['Market Index'], marker_color=df_stocks_result3['Color'],orientation='h'))\n",
    "\n",
    "annotations = []\n",
    "\n",
    "x_pos = []\n",
    "y_pos = []\n",
    "x_neg = []\n",
    "y_neg = []\n",
    "\n",
    "for i in range(0,len(df_stocks_result3)):\n",
    "  if df_stocks_result3[\"Result_%\"].iloc[i] > 0:\n",
    "    x_pos.append(df_stocks_result3[\"Market Index\"].iloc[i])\n",
    "    y_pos.append(np.round(df_stocks_result3[\"Result_%\"].iloc[i], decimals=2))\n",
    "  else:\n",
    "    x_neg.append(df_stocks_result3[\"Market Index\"].iloc[i])\n",
    "    y_neg.append(np.round(df_stocks_result3[\"Result_%\"].iloc[i], decimals=2))\n",
    "\n",
    "for yd, xd in zip(y_pos, x_pos):\n",
    "  annotations.append(dict(xref='x1', yref='y1', y=xd, x=yd + 2, text= str(yd)+'%', \n",
    "                            font=dict(family='Arial', size=22, color='black'), showarrow=False))\n",
    "\n",
    "for yd, xd in zip(y_neg, x_neg):\n",
    "  annotations.append(dict(xref='x1', yref='y1', y=xd, x=yd - 2, text= str(yd)+'%', \n",
    "                            font=dict(family='Arial', size=22, color='black'), showarrow=False))\n",
    "\n",
    "fig.update_xaxes(visible=True, showticklabels=True,range=[-10, 15])\n",
    "fig.update_layout(barmode='stack',title_text='',template = 'simple_white',margin=dict(l=20, r=20, t=20, b=20), \n",
    "                  paper_bgcolor=\"#f7f8fa\",width=1000,height=800,annotations=annotations,\n",
    "                  font=dict(family=\"Arial Black\",size=20,color=\"black\"))\n",
    "\n",
    "fig.show()"
   ]
  },
  {
   "cell_type": "markdown",
   "id": "ca8177a3",
   "metadata": {},
   "source": [
    "# **3. Normalização IBOV x Major Indices**"
   ]
  },
  {
   "cell_type": "markdown",
   "id": "84f13612",
   "metadata": {},
   "source": [
    "<b> Comparar IBOV a outros índices importantes mas com timeframe menor (1H)"
   ]
  },
  {
   "cell_type": "code",
   "execution_count": null,
   "id": "f42d9450",
   "metadata": {},
   "outputs": [],
   "source": [
    "# ls_IBOV_major_indices = ['Bovespa (BVSP)','S&P 500 (US500)', 'Dow Jones Industrial Average (DJI)', 'NASDAQ Composite (IXIC)','Shanghai_Composite (SSEC)','SZSE_Component (SZI)','Nikkei 225 (JP225)','EuroNext 100 (N100)','DAX (DE30)','FTSE 100 (UK100)']\n",
    "# IBOV_major_indices = stocks_indices_data[stocks_indices_data['Market Indices'].isin(ls_IBOV_major_indices)]\n",
    "# IBOV_major_indices"
   ]
  },
  {
   "cell_type": "code",
   "execution_count": null,
   "id": "2e9f1ccf",
   "metadata": {},
   "outputs": [],
   "source": [
    "ls_IBOV_major_indices = ['Bovespa (BVSP)','S&P 500 (GSPC)', 'Dow Jones 30 (DJI)', 'NASDAQ Composite (IXIC)','Shanghai_Composite (SSEC)','SZSE_Component (SZI)','Nikkei 225 (N225)','EuroNext 100 (N100)','DAX (DE30)','FTSE 100 (UK100)']\n",
    "ls_tickers_yf_IBOV_major_indices = ['^BVSP','^GSPC', '^DJI', '^IXIC','000001.SS','399001.SZ','^N225','^N100','^GDAXI','^FTSE']"
   ]
  },
  {
   "cell_type": "code",
   "execution_count": null,
   "id": "99ff907d",
   "metadata": {},
   "outputs": [],
   "source": [
    "df_IBOV_major_indices = pd.DataFrame()\n",
    "\n",
    "for i in ls_tickers_yf_IBOV_major_indices:\n",
    "  IBOV_major_indices_df = yf.download(i,start=dia_segunda,end=dia_sabado,interval='1H')\n",
    "  IBOV_major_indices_df['Ticker'] = i\n",
    "  df_IBOV_major_indices = pd.concat([df_IBOV_major_indices,IBOV_major_indices_df],axis=0)"
   ]
  },
  {
   "cell_type": "code",
   "execution_count": null,
   "id": "eb332823",
   "metadata": {},
   "outputs": [],
   "source": [
    "df_IBOV_major_indices.insert(0,\"Data\",df_IBOV_major_indices.index)\n",
    "df_IBOV_major_indices"
   ]
  },
  {
   "cell_type": "code",
   "execution_count": null,
   "id": "83413a8f",
   "metadata": {},
   "outputs": [],
   "source": [
    "Data_UTC = []\n",
    "\n",
    "for i in df_IBOV_major_indices[\"Data\"]:\n",
    "  data_individual = i.astimezone(pytz.timezone('UTC'))\n",
    "  data_individual = data_individual.strftime('%m/%d/%Y %H:%M')\n",
    "  Data_UTC.append(data_individual)"
   ]
  },
  {
   "cell_type": "code",
   "execution_count": null,
   "id": "41ce2d3b",
   "metadata": {},
   "outputs": [],
   "source": [
    "df_IBOV_major_indices[\"Data_UTC\"] = Data_UTC\n",
    "df_IBOV_major_indices"
   ]
  },
  {
   "cell_type": "code",
   "execution_count": null,
   "id": "174a60f2",
   "metadata": {},
   "outputs": [],
   "source": [
    "count_stocks = pd.pivot_table(df_IBOV_major_indices, values=\"Close\",index=[\"Ticker\"], aggfunc='count')\n",
    "count_stocks"
   ]
  },
  {
   "cell_type": "code",
   "execution_count": null,
   "id": "6258bf4c",
   "metadata": {},
   "outputs": [],
   "source": [
    "open_stocks = ls_IBOV_major_indices.drop_duplicates(subset=['Ticker'], keep='first')[['Open','Ticker']]\n",
    "open_stocks = open_stocks.sort_values(by='Ticker')\n",
    "open_stocks"
   ]
  },
  {
   "cell_type": "markdown",
   "id": "5c9b0980",
   "metadata": {},
   "source": [
    "# **4. Futuros, moedas e commodities**"
   ]
  },
  {
   "cell_type": "code",
   "execution_count": 99,
   "id": "5c198109",
   "metadata": {},
   "outputs": [
    {
     "name": "stdout",
     "output_type": "stream",
     "text": [
      "25/04/2022\n",
      "29/04/2022\n"
     ]
    }
   ],
   "source": [
    "# Manter o padrão para dia_sexta para nao mudar o código todo\n",
    "\n",
    "dia_sexta = datetime.now(pytz.timezone(\"America/Sao_Paulo\"))\n",
    "dia_segunda = datetime.now(pytz.timezone(\"America/Sao_Paulo\")) - timedelta(days=4)\n",
    "dia_segunda = dia_segunda.strftime('%d/%m/%Y')\n",
    "dia_sexta = dia_sexta.strftime('%d/%m/%Y')\n",
    "print(dia_segunda)\n",
    "print(dia_sexta)"
   ]
  },
  {
   "cell_type": "code",
   "execution_count": 100,
   "id": "909fd2eb",
   "metadata": {},
   "outputs": [],
   "source": [
    "from_date = dia_segunda\n",
    "to_date = dia_sexta"
   ]
  },
  {
   "cell_type": "markdown",
   "id": "8bca0950",
   "metadata": {},
   "source": [
    "**iBovespa Futures**"
   ]
  },
  {
   "cell_type": "code",
   "execution_count": 101,
   "id": "be09873b",
   "metadata": {},
   "outputs": [
    {
     "name": "stdout",
     "output_type": "stream",
     "text": [
      "{\"id_\": 941612, \"name\": \"iBovespa Futures\", \"symbol\": \"iBOV\", \"country\": \"brazil\", \"tag\": \"/indices/ibovespa-futures\", \"pair_type\": \"indices\", \"exchange\": \"BM&F Bovespa\"}\n"
     ]
    }
   ],
   "source": [
    "IBOV_future_search_results = investpy.search_quotes(text = 'iBovespa Futures', n_results= 1)\n",
    "print(IBOV_future_search_results)"
   ]
  },
  {
   "cell_type": "code",
   "execution_count": 102,
   "id": "7d588b76",
   "metadata": {},
   "outputs": [
    {
     "data": {
      "text/html": [
       "<div>\n",
       "<style scoped>\n",
       "    .dataframe tbody tr th:only-of-type {\n",
       "        vertical-align: middle;\n",
       "    }\n",
       "\n",
       "    .dataframe tbody tr th {\n",
       "        vertical-align: top;\n",
       "    }\n",
       "\n",
       "    .dataframe thead th {\n",
       "        text-align: right;\n",
       "    }\n",
       "</style>\n",
       "<table border=\"1\" class=\"dataframe\">\n",
       "  <thead>\n",
       "    <tr style=\"text-align: right;\">\n",
       "      <th></th>\n",
       "      <th>Open</th>\n",
       "      <th>High</th>\n",
       "      <th>Low</th>\n",
       "      <th>Close</th>\n",
       "      <th>Volume</th>\n",
       "      <th>Change Pct</th>\n",
       "    </tr>\n",
       "    <tr>\n",
       "      <th>Date</th>\n",
       "      <th></th>\n",
       "      <th></th>\n",
       "      <th></th>\n",
       "      <th></th>\n",
       "      <th></th>\n",
       "      <th></th>\n",
       "    </tr>\n",
       "  </thead>\n",
       "  <tbody>\n",
       "    <tr>\n",
       "      <th>2022-04-25</th>\n",
       "      <td>111450.0</td>\n",
       "      <td>112860.0</td>\n",
       "      <td>110840.0</td>\n",
       "      <td>112449.0</td>\n",
       "      <td>176310</td>\n",
       "      <td>-0.17</td>\n",
       "    </tr>\n",
       "    <tr>\n",
       "      <th>2022-04-26</th>\n",
       "      <td>112430.0</td>\n",
       "      <td>112430.0</td>\n",
       "      <td>109235.0</td>\n",
       "      <td>109675.0</td>\n",
       "      <td>195285</td>\n",
       "      <td>-2.47</td>\n",
       "    </tr>\n",
       "    <tr>\n",
       "      <th>2022-04-27</th>\n",
       "      <td>110500.0</td>\n",
       "      <td>111700.0</td>\n",
       "      <td>110485.0</td>\n",
       "      <td>110917.0</td>\n",
       "      <td>174730</td>\n",
       "      <td>1.13</td>\n",
       "    </tr>\n",
       "    <tr>\n",
       "      <th>2022-04-28</th>\n",
       "      <td>111934.0</td>\n",
       "      <td>112262.0</td>\n",
       "      <td>110338.0</td>\n",
       "      <td>111094.0</td>\n",
       "      <td>0</td>\n",
       "      <td>0.16</td>\n",
       "    </tr>\n",
       "    <tr>\n",
       "      <th>2022-04-29</th>\n",
       "      <td>111280.0</td>\n",
       "      <td>113338.0</td>\n",
       "      <td>108512.0</td>\n",
       "      <td>108872.0</td>\n",
       "      <td>0</td>\n",
       "      <td>-2.00</td>\n",
       "    </tr>\n",
       "  </tbody>\n",
       "</table>\n",
       "</div>"
      ],
      "text/plain": [
       "                Open      High       Low     Close  Volume  Change Pct\n",
       "Date                                                                  \n",
       "2022-04-25  111450.0  112860.0  110840.0  112449.0  176310       -0.17\n",
       "2022-04-26  112430.0  112430.0  109235.0  109675.0  195285       -2.47\n",
       "2022-04-27  110500.0  111700.0  110485.0  110917.0  174730        1.13\n",
       "2022-04-28  111934.0  112262.0  110338.0  111094.0       0        0.16\n",
       "2022-04-29  111280.0  113338.0  108512.0  108872.0       0       -2.00"
      ]
     },
     "execution_count": 102,
     "metadata": {},
     "output_type": "execute_result"
    }
   ],
   "source": [
    "IBOV_future_search_results = IBOV_future_search_results.retrieve_historical_data(from_date=dia_segunda, to_date=dia_sexta)\n",
    "IBOV_future_search_results"
   ]
  },
  {
   "cell_type": "code",
   "execution_count": 103,
   "id": "ec0caa36",
   "metadata": {},
   "outputs": [
    {
     "data": {
      "text/html": [
       "<div>\n",
       "<style scoped>\n",
       "    .dataframe tbody tr th:only-of-type {\n",
       "        vertical-align: middle;\n",
       "    }\n",
       "\n",
       "    .dataframe tbody tr th {\n",
       "        vertical-align: top;\n",
       "    }\n",
       "\n",
       "    .dataframe thead th {\n",
       "        text-align: right;\n",
       "    }\n",
       "</style>\n",
       "<table border=\"1\" class=\"dataframe\">\n",
       "  <thead>\n",
       "    <tr style=\"text-align: right;\">\n",
       "      <th></th>\n",
       "      <th>Open</th>\n",
       "      <th>High</th>\n",
       "      <th>Low</th>\n",
       "      <th>Close</th>\n",
       "      <th>Volume</th>\n",
       "      <th>Change Pct</th>\n",
       "      <th>Future_code</th>\n",
       "    </tr>\n",
       "    <tr>\n",
       "      <th>Date</th>\n",
       "      <th></th>\n",
       "      <th></th>\n",
       "      <th></th>\n",
       "      <th></th>\n",
       "      <th></th>\n",
       "      <th></th>\n",
       "      <th></th>\n",
       "    </tr>\n",
       "  </thead>\n",
       "  <tbody>\n",
       "    <tr>\n",
       "      <th>2022-04-25</th>\n",
       "      <td>111450.0</td>\n",
       "      <td>112860.0</td>\n",
       "      <td>110840.0</td>\n",
       "      <td>112449.0</td>\n",
       "      <td>176310</td>\n",
       "      <td>-0.17</td>\n",
       "      <td>iBovespa_Futures</td>\n",
       "    </tr>\n",
       "    <tr>\n",
       "      <th>2022-04-26</th>\n",
       "      <td>112430.0</td>\n",
       "      <td>112430.0</td>\n",
       "      <td>109235.0</td>\n",
       "      <td>109675.0</td>\n",
       "      <td>195285</td>\n",
       "      <td>-2.47</td>\n",
       "      <td>iBovespa_Futures</td>\n",
       "    </tr>\n",
       "    <tr>\n",
       "      <th>2022-04-27</th>\n",
       "      <td>110500.0</td>\n",
       "      <td>111700.0</td>\n",
       "      <td>110485.0</td>\n",
       "      <td>110917.0</td>\n",
       "      <td>174730</td>\n",
       "      <td>1.13</td>\n",
       "      <td>iBovespa_Futures</td>\n",
       "    </tr>\n",
       "    <tr>\n",
       "      <th>2022-04-28</th>\n",
       "      <td>111934.0</td>\n",
       "      <td>112262.0</td>\n",
       "      <td>110338.0</td>\n",
       "      <td>111094.0</td>\n",
       "      <td>0</td>\n",
       "      <td>0.16</td>\n",
       "      <td>iBovespa_Futures</td>\n",
       "    </tr>\n",
       "    <tr>\n",
       "      <th>2022-04-29</th>\n",
       "      <td>111280.0</td>\n",
       "      <td>113338.0</td>\n",
       "      <td>108512.0</td>\n",
       "      <td>108872.0</td>\n",
       "      <td>0</td>\n",
       "      <td>-2.00</td>\n",
       "      <td>iBovespa_Futures</td>\n",
       "    </tr>\n",
       "  </tbody>\n",
       "</table>\n",
       "</div>"
      ],
      "text/plain": [
       "                Open      High       Low     Close  Volume  Change Pct  \\\n",
       "Date                                                                     \n",
       "2022-04-25  111450.0  112860.0  110840.0  112449.0  176310       -0.17   \n",
       "2022-04-26  112430.0  112430.0  109235.0  109675.0  195285       -2.47   \n",
       "2022-04-27  110500.0  111700.0  110485.0  110917.0  174730        1.13   \n",
       "2022-04-28  111934.0  112262.0  110338.0  111094.0       0        0.16   \n",
       "2022-04-29  111280.0  113338.0  108512.0  108872.0       0       -2.00   \n",
       "\n",
       "                 Future_code  \n",
       "Date                          \n",
       "2022-04-25  iBovespa_Futures  \n",
       "2022-04-26  iBovespa_Futures  \n",
       "2022-04-27  iBovespa_Futures  \n",
       "2022-04-28  iBovespa_Futures  \n",
       "2022-04-29  iBovespa_Futures  "
      ]
     },
     "execution_count": 103,
     "metadata": {},
     "output_type": "execute_result"
    }
   ],
   "source": [
    "future_code = str('iBovespa_Futures ')*len(IBOV_future_search_results)\n",
    "future_code2 = future_code.split(' ')\n",
    "IBOV_future_search_results['Future_code'] = future_code2[0:-1]\n",
    "IBOV_future_search_results"
   ]
  },
  {
   "cell_type": "markdown",
   "id": "ba18e68e",
   "metadata": {},
   "source": [
    "**Moedas (currencies)**"
   ]
  },
  {
   "cell_type": "code",
   "execution_count": 104,
   "id": "18546ae3",
   "metadata": {},
   "outputs": [
    {
     "name": "stdout",
     "output_type": "stream",
     "text": [
      "{\"id_\": 1121152, \"name\": \"US Dollar Brazilian Real Tourism\", \"symbol\": \"USD/BRLT\", \"country\": \"brazil\", \"tag\": \"/currencies/usd-brlt\", \"pair_type\": \"currencies\", \"exchange\": \"\"}\n",
      "{\"id_\": 1174711, \"name\": \"Tether Brazil Real\", \"symbol\": \"USDT/BRL\", \"country\": null, \"tag\": \"/crypto/tether/usdt-brl\", \"pair_type\": \"cryptos\", \"exchange\": \"Binance\"}\n",
      "{\"id_\": 965081, \"name\": \"US Dollar Brazil Real\", \"symbol\": \"USD/BRL PTAX\", \"country\": \"brazil\", \"tag\": \"/currencies/usd-brl?cid=965081\", \"pair_type\": \"currencies\", \"exchange\": \"\"}\n"
     ]
    }
   ],
   "source": [
    "USD_BRL_search_results = investpy.search_quotes(text = 'BRL/USD', n_results= 3)\n",
    "for i in USD_BRL_search_results:\n",
    "  print(i)"
   ]
  },
  {
   "cell_type": "code",
   "execution_count": 105,
   "id": "d74e27f2",
   "metadata": {},
   "outputs": [
    {
     "data": {
      "text/html": [
       "<div>\n",
       "<style scoped>\n",
       "    .dataframe tbody tr th:only-of-type {\n",
       "        vertical-align: middle;\n",
       "    }\n",
       "\n",
       "    .dataframe tbody tr th {\n",
       "        vertical-align: top;\n",
       "    }\n",
       "\n",
       "    .dataframe thead th {\n",
       "        text-align: right;\n",
       "    }\n",
       "</style>\n",
       "<table border=\"1\" class=\"dataframe\">\n",
       "  <thead>\n",
       "    <tr style=\"text-align: right;\">\n",
       "      <th></th>\n",
       "      <th>Open</th>\n",
       "      <th>High</th>\n",
       "      <th>Low</th>\n",
       "      <th>Close</th>\n",
       "      <th>Change Pct</th>\n",
       "    </tr>\n",
       "    <tr>\n",
       "      <th>Date</th>\n",
       "      <th></th>\n",
       "      <th></th>\n",
       "      <th></th>\n",
       "      <th></th>\n",
       "      <th></th>\n",
       "    </tr>\n",
       "  </thead>\n",
       "  <tbody>\n",
       "    <tr>\n",
       "      <th>2022-04-25</th>\n",
       "      <td>4.8815</td>\n",
       "      <td>4.8815</td>\n",
       "      <td>4.8815</td>\n",
       "      <td>4.8815</td>\n",
       "      <td>3.15</td>\n",
       "    </tr>\n",
       "    <tr>\n",
       "      <th>2022-04-26</th>\n",
       "      <td>4.9663</td>\n",
       "      <td>4.9663</td>\n",
       "      <td>4.9663</td>\n",
       "      <td>4.9663</td>\n",
       "      <td>1.74</td>\n",
       "    </tr>\n",
       "    <tr>\n",
       "      <th>2022-04-27</th>\n",
       "      <td>5.0164</td>\n",
       "      <td>5.0164</td>\n",
       "      <td>5.0164</td>\n",
       "      <td>5.0164</td>\n",
       "      <td>1.01</td>\n",
       "    </tr>\n",
       "    <tr>\n",
       "      <th>2022-04-28</th>\n",
       "      <td>5.0107</td>\n",
       "      <td>5.0107</td>\n",
       "      <td>5.0107</td>\n",
       "      <td>5.0107</td>\n",
       "      <td>-0.11</td>\n",
       "    </tr>\n",
       "    <tr>\n",
       "      <th>2022-04-29</th>\n",
       "      <td>4.9188</td>\n",
       "      <td>4.9188</td>\n",
       "      <td>4.9188</td>\n",
       "      <td>4.9188</td>\n",
       "      <td>-1.83</td>\n",
       "    </tr>\n",
       "  </tbody>\n",
       "</table>\n",
       "</div>"
      ],
      "text/plain": [
       "              Open    High     Low   Close  Change Pct\n",
       "Date                                                  \n",
       "2022-04-25  4.8815  4.8815  4.8815  4.8815        3.15\n",
       "2022-04-26  4.9663  4.9663  4.9663  4.9663        1.74\n",
       "2022-04-27  5.0164  5.0164  5.0164  5.0164        1.01\n",
       "2022-04-28  5.0107  5.0107  5.0107  5.0107       -0.11\n",
       "2022-04-29  4.9188  4.9188  4.9188  4.9188       -1.83"
      ]
     },
     "execution_count": 105,
     "metadata": {},
     "output_type": "execute_result"
    }
   ],
   "source": [
    "USD_BRL_search_result = USD_BRL_search_results[2].retrieve_historical_data(from_date=dia_segunda, to_date=dia_sexta)\n",
    "USD_BRL_search_result"
   ]
  },
  {
   "cell_type": "code",
   "execution_count": 106,
   "id": "adf83939",
   "metadata": {},
   "outputs": [
    {
     "data": {
      "text/html": [
       "<div>\n",
       "<style scoped>\n",
       "    .dataframe tbody tr th:only-of-type {\n",
       "        vertical-align: middle;\n",
       "    }\n",
       "\n",
       "    .dataframe tbody tr th {\n",
       "        vertical-align: top;\n",
       "    }\n",
       "\n",
       "    .dataframe thead th {\n",
       "        text-align: right;\n",
       "    }\n",
       "</style>\n",
       "<table border=\"1\" class=\"dataframe\">\n",
       "  <thead>\n",
       "    <tr style=\"text-align: right;\">\n",
       "      <th></th>\n",
       "      <th>Open</th>\n",
       "      <th>High</th>\n",
       "      <th>Low</th>\n",
       "      <th>Close</th>\n",
       "      <th>Change Pct</th>\n",
       "      <th>Future_code</th>\n",
       "    </tr>\n",
       "    <tr>\n",
       "      <th>Date</th>\n",
       "      <th></th>\n",
       "      <th></th>\n",
       "      <th></th>\n",
       "      <th></th>\n",
       "      <th></th>\n",
       "      <th></th>\n",
       "    </tr>\n",
       "  </thead>\n",
       "  <tbody>\n",
       "    <tr>\n",
       "      <th>2022-04-25</th>\n",
       "      <td>4.8815</td>\n",
       "      <td>4.8815</td>\n",
       "      <td>4.8815</td>\n",
       "      <td>4.8815</td>\n",
       "      <td>3.15</td>\n",
       "      <td>USD_BRL</td>\n",
       "    </tr>\n",
       "    <tr>\n",
       "      <th>2022-04-26</th>\n",
       "      <td>4.9663</td>\n",
       "      <td>4.9663</td>\n",
       "      <td>4.9663</td>\n",
       "      <td>4.9663</td>\n",
       "      <td>1.74</td>\n",
       "      <td>USD_BRL</td>\n",
       "    </tr>\n",
       "    <tr>\n",
       "      <th>2022-04-27</th>\n",
       "      <td>5.0164</td>\n",
       "      <td>5.0164</td>\n",
       "      <td>5.0164</td>\n",
       "      <td>5.0164</td>\n",
       "      <td>1.01</td>\n",
       "      <td>USD_BRL</td>\n",
       "    </tr>\n",
       "    <tr>\n",
       "      <th>2022-04-28</th>\n",
       "      <td>5.0107</td>\n",
       "      <td>5.0107</td>\n",
       "      <td>5.0107</td>\n",
       "      <td>5.0107</td>\n",
       "      <td>-0.11</td>\n",
       "      <td>USD_BRL</td>\n",
       "    </tr>\n",
       "    <tr>\n",
       "      <th>2022-04-29</th>\n",
       "      <td>4.9188</td>\n",
       "      <td>4.9188</td>\n",
       "      <td>4.9188</td>\n",
       "      <td>4.9188</td>\n",
       "      <td>-1.83</td>\n",
       "      <td>USD_BRL</td>\n",
       "    </tr>\n",
       "  </tbody>\n",
       "</table>\n",
       "</div>"
      ],
      "text/plain": [
       "              Open    High     Low   Close  Change Pct Future_code\n",
       "Date                                                              \n",
       "2022-04-25  4.8815  4.8815  4.8815  4.8815        3.15     USD_BRL\n",
       "2022-04-26  4.9663  4.9663  4.9663  4.9663        1.74     USD_BRL\n",
       "2022-04-27  5.0164  5.0164  5.0164  5.0164        1.01     USD_BRL\n",
       "2022-04-28  5.0107  5.0107  5.0107  5.0107       -0.11     USD_BRL\n",
       "2022-04-29  4.9188  4.9188  4.9188  4.9188       -1.83     USD_BRL"
      ]
     },
     "execution_count": 106,
     "metadata": {},
     "output_type": "execute_result"
    }
   ],
   "source": [
    "future_code = str('USD_BRL ')*len(USD_BRL_search_result)\n",
    "future_code2 = future_code.split(' ')\n",
    "USD_BRL_search_result['Future_code'] = future_code2[0:-1]\n",
    "USD_BRL_search_result"
   ]
  },
  {
   "cell_type": "code",
   "execution_count": 107,
   "id": "9331cfa8",
   "metadata": {},
   "outputs": [
    {
     "name": "stdout",
     "output_type": "stream",
     "text": [
      "{\"id_\": 1617, \"name\": \"Euro Brazil Real\", \"symbol\": \"EUR/BRL\", \"country\": \"brazil\", \"tag\": \"/currencies/eur-brl\", \"pair_type\": \"currencies\", \"exchange\": \"\"}\n",
      "{\"id_\": 9419, \"name\": \"Brazil Real Euro\", \"symbol\": \"BRL/EUR\", \"country\": \"brazil\", \"tag\": \"/currencies/brl-eur\", \"pair_type\": \"currencies\", \"exchange\": \"\"}\n"
     ]
    }
   ],
   "source": [
    "EUR_BRL_search_results = investpy.search_quotes(text = 'EUR/BRL', n_results= 3)\n",
    "for i in EUR_BRL_search_results:\n",
    "  print(i)"
   ]
  },
  {
   "cell_type": "code",
   "execution_count": 108,
   "id": "f7cb9a9e",
   "metadata": {},
   "outputs": [
    {
     "data": {
      "text/html": [
       "<div>\n",
       "<style scoped>\n",
       "    .dataframe tbody tr th:only-of-type {\n",
       "        vertical-align: middle;\n",
       "    }\n",
       "\n",
       "    .dataframe tbody tr th {\n",
       "        vertical-align: top;\n",
       "    }\n",
       "\n",
       "    .dataframe thead th {\n",
       "        text-align: right;\n",
       "    }\n",
       "</style>\n",
       "<table border=\"1\" class=\"dataframe\">\n",
       "  <thead>\n",
       "    <tr style=\"text-align: right;\">\n",
       "      <th></th>\n",
       "      <th>Open</th>\n",
       "      <th>High</th>\n",
       "      <th>Low</th>\n",
       "      <th>Close</th>\n",
       "      <th>Change Pct</th>\n",
       "    </tr>\n",
       "    <tr>\n",
       "      <th>Date</th>\n",
       "      <th></th>\n",
       "      <th></th>\n",
       "      <th></th>\n",
       "      <th></th>\n",
       "      <th></th>\n",
       "    </tr>\n",
       "  </thead>\n",
       "  <tbody>\n",
       "    <tr>\n",
       "      <th>2022-04-25</th>\n",
       "      <td>5.1985</td>\n",
       "      <td>5.2979</td>\n",
       "      <td>5.1337</td>\n",
       "      <td>5.2233</td>\n",
       "      <td>0.95</td>\n",
       "    </tr>\n",
       "    <tr>\n",
       "      <th>2022-04-26</th>\n",
       "      <td>5.2260</td>\n",
       "      <td>5.3253</td>\n",
       "      <td>5.2048</td>\n",
       "      <td>5.3163</td>\n",
       "      <td>1.78</td>\n",
       "    </tr>\n",
       "    <tr>\n",
       "      <th>2022-04-27</th>\n",
       "      <td>5.3184</td>\n",
       "      <td>5.3300</td>\n",
       "      <td>5.2094</td>\n",
       "      <td>5.2407</td>\n",
       "      <td>-1.42</td>\n",
       "    </tr>\n",
       "    <tr>\n",
       "      <th>2022-04-28</th>\n",
       "      <td>5.2397</td>\n",
       "      <td>5.2946</td>\n",
       "      <td>5.1817</td>\n",
       "      <td>5.1874</td>\n",
       "      <td>-1.02</td>\n",
       "    </tr>\n",
       "    <tr>\n",
       "      <th>2022-04-29</th>\n",
       "      <td>5.1879</td>\n",
       "      <td>5.2512</td>\n",
       "      <td>5.1152</td>\n",
       "      <td>5.2442</td>\n",
       "      <td>1.09</td>\n",
       "    </tr>\n",
       "  </tbody>\n",
       "</table>\n",
       "</div>"
      ],
      "text/plain": [
       "              Open    High     Low   Close  Change Pct\n",
       "Date                                                  \n",
       "2022-04-25  5.1985  5.2979  5.1337  5.2233        0.95\n",
       "2022-04-26  5.2260  5.3253  5.2048  5.3163        1.78\n",
       "2022-04-27  5.3184  5.3300  5.2094  5.2407       -1.42\n",
       "2022-04-28  5.2397  5.2946  5.1817  5.1874       -1.02\n",
       "2022-04-29  5.1879  5.2512  5.1152  5.2442        1.09"
      ]
     },
     "execution_count": 108,
     "metadata": {},
     "output_type": "execute_result"
    }
   ],
   "source": [
    "EUR_BRL_search_result = EUR_BRL_search_results[0].retrieve_historical_data(from_date=dia_segunda, to_date=dia_sexta)\n",
    "EUR_BRL_search_result"
   ]
  },
  {
   "cell_type": "code",
   "execution_count": 109,
   "id": "6d6ac4f8",
   "metadata": {},
   "outputs": [
    {
     "data": {
      "text/html": [
       "<div>\n",
       "<style scoped>\n",
       "    .dataframe tbody tr th:only-of-type {\n",
       "        vertical-align: middle;\n",
       "    }\n",
       "\n",
       "    .dataframe tbody tr th {\n",
       "        vertical-align: top;\n",
       "    }\n",
       "\n",
       "    .dataframe thead th {\n",
       "        text-align: right;\n",
       "    }\n",
       "</style>\n",
       "<table border=\"1\" class=\"dataframe\">\n",
       "  <thead>\n",
       "    <tr style=\"text-align: right;\">\n",
       "      <th></th>\n",
       "      <th>Open</th>\n",
       "      <th>High</th>\n",
       "      <th>Low</th>\n",
       "      <th>Close</th>\n",
       "      <th>Change Pct</th>\n",
       "      <th>Future_code</th>\n",
       "    </tr>\n",
       "    <tr>\n",
       "      <th>Date</th>\n",
       "      <th></th>\n",
       "      <th></th>\n",
       "      <th></th>\n",
       "      <th></th>\n",
       "      <th></th>\n",
       "      <th></th>\n",
       "    </tr>\n",
       "  </thead>\n",
       "  <tbody>\n",
       "    <tr>\n",
       "      <th>2022-04-25</th>\n",
       "      <td>5.1985</td>\n",
       "      <td>5.2979</td>\n",
       "      <td>5.1337</td>\n",
       "      <td>5.2233</td>\n",
       "      <td>0.95</td>\n",
       "      <td>EUR_BRL</td>\n",
       "    </tr>\n",
       "    <tr>\n",
       "      <th>2022-04-26</th>\n",
       "      <td>5.2260</td>\n",
       "      <td>5.3253</td>\n",
       "      <td>5.2048</td>\n",
       "      <td>5.3163</td>\n",
       "      <td>1.78</td>\n",
       "      <td>EUR_BRL</td>\n",
       "    </tr>\n",
       "    <tr>\n",
       "      <th>2022-04-27</th>\n",
       "      <td>5.3184</td>\n",
       "      <td>5.3300</td>\n",
       "      <td>5.2094</td>\n",
       "      <td>5.2407</td>\n",
       "      <td>-1.42</td>\n",
       "      <td>EUR_BRL</td>\n",
       "    </tr>\n",
       "    <tr>\n",
       "      <th>2022-04-28</th>\n",
       "      <td>5.2397</td>\n",
       "      <td>5.2946</td>\n",
       "      <td>5.1817</td>\n",
       "      <td>5.1874</td>\n",
       "      <td>-1.02</td>\n",
       "      <td>EUR_BRL</td>\n",
       "    </tr>\n",
       "    <tr>\n",
       "      <th>2022-04-29</th>\n",
       "      <td>5.1879</td>\n",
       "      <td>5.2512</td>\n",
       "      <td>5.1152</td>\n",
       "      <td>5.2442</td>\n",
       "      <td>1.09</td>\n",
       "      <td>EUR_BRL</td>\n",
       "    </tr>\n",
       "  </tbody>\n",
       "</table>\n",
       "</div>"
      ],
      "text/plain": [
       "              Open    High     Low   Close  Change Pct Future_code\n",
       "Date                                                              \n",
       "2022-04-25  5.1985  5.2979  5.1337  5.2233        0.95     EUR_BRL\n",
       "2022-04-26  5.2260  5.3253  5.2048  5.3163        1.78     EUR_BRL\n",
       "2022-04-27  5.3184  5.3300  5.2094  5.2407       -1.42     EUR_BRL\n",
       "2022-04-28  5.2397  5.2946  5.1817  5.1874       -1.02     EUR_BRL\n",
       "2022-04-29  5.1879  5.2512  5.1152  5.2442        1.09     EUR_BRL"
      ]
     },
     "execution_count": 109,
     "metadata": {},
     "output_type": "execute_result"
    }
   ],
   "source": [
    "future_code = str('EUR_BRL ')*len(EUR_BRL_search_result)\n",
    "future_code2 = future_code.split(' ')\n",
    "EUR_BRL_search_result['Future_code'] = future_code2[0:-1]\n",
    "EUR_BRL_search_result"
   ]
  },
  {
   "cell_type": "code",
   "execution_count": 110,
   "id": "6660e0a1",
   "metadata": {},
   "outputs": [
    {
     "name": "stdout",
     "output_type": "stream",
     "text": [
      "{\"id_\": 1, \"name\": \"Euro US Dollar\", \"symbol\": \"EUR/USD\", \"country\": \"euro zone\", \"tag\": \"/currencies/eur-usd\", \"pair_type\": \"currencies\", \"exchange\": \"\"}\n",
      "{\"id_\": 2124, \"name\": \"US Dollar Euro\", \"symbol\": \"USD/EUR\", \"country\": \"united states\", \"tag\": \"/currencies/usd-eur\", \"pair_type\": \"currencies\", \"exchange\": \"\"}\n",
      "{\"id_\": 14903, \"name\": \"NASDAQ OMX Green Economy Europe USD\", \"symbol\": \"GRNEUROPE\", \"country\": \"united states\", \"tag\": \"/indices/nasdaq-omx-green-economy-europe\", \"pair_type\": \"indices\", \"exchange\": \"NASDAQ\"}\n"
     ]
    }
   ],
   "source": [
    "USD_EUR_search_results = investpy.search_quotes(text = 'USD/EUR', n_results= 3)\n",
    "for i in USD_EUR_search_results:\n",
    "  print(i)"
   ]
  },
  {
   "cell_type": "code",
   "execution_count": 111,
   "id": "6f28eed1",
   "metadata": {},
   "outputs": [
    {
     "data": {
      "text/html": [
       "<div>\n",
       "<style scoped>\n",
       "    .dataframe tbody tr th:only-of-type {\n",
       "        vertical-align: middle;\n",
       "    }\n",
       "\n",
       "    .dataframe tbody tr th {\n",
       "        vertical-align: top;\n",
       "    }\n",
       "\n",
       "    .dataframe thead th {\n",
       "        text-align: right;\n",
       "    }\n",
       "</style>\n",
       "<table border=\"1\" class=\"dataframe\">\n",
       "  <thead>\n",
       "    <tr style=\"text-align: right;\">\n",
       "      <th></th>\n",
       "      <th>Open</th>\n",
       "      <th>High</th>\n",
       "      <th>Low</th>\n",
       "      <th>Close</th>\n",
       "      <th>Change Pct</th>\n",
       "    </tr>\n",
       "    <tr>\n",
       "      <th>Date</th>\n",
       "      <th></th>\n",
       "      <th></th>\n",
       "      <th></th>\n",
       "      <th></th>\n",
       "      <th></th>\n",
       "    </tr>\n",
       "  </thead>\n",
       "  <tbody>\n",
       "    <tr>\n",
       "      <th>2022-04-25</th>\n",
       "      <td>0.9224</td>\n",
       "      <td>0.9349</td>\n",
       "      <td>0.9223</td>\n",
       "      <td>0.9333</td>\n",
       "      <td>0.76</td>\n",
       "    </tr>\n",
       "    <tr>\n",
       "      <th>2022-04-26</th>\n",
       "      <td>0.9334</td>\n",
       "      <td>0.9402</td>\n",
       "      <td>0.9312</td>\n",
       "      <td>0.9399</td>\n",
       "      <td>0.71</td>\n",
       "    </tr>\n",
       "    <tr>\n",
       "      <th>2022-04-27</th>\n",
       "      <td>0.9401</td>\n",
       "      <td>0.9512</td>\n",
       "      <td>0.9385</td>\n",
       "      <td>0.9471</td>\n",
       "      <td>0.77</td>\n",
       "    </tr>\n",
       "    <tr>\n",
       "      <th>2022-04-28</th>\n",
       "      <td>0.9475</td>\n",
       "      <td>0.9549</td>\n",
       "      <td>0.9465</td>\n",
       "      <td>0.9521</td>\n",
       "      <td>0.53</td>\n",
       "    </tr>\n",
       "    <tr>\n",
       "      <th>2022-04-29</th>\n",
       "      <td>0.9520</td>\n",
       "      <td>0.9521</td>\n",
       "      <td>0.9441</td>\n",
       "      <td>0.9485</td>\n",
       "      <td>-0.38</td>\n",
       "    </tr>\n",
       "  </tbody>\n",
       "</table>\n",
       "</div>"
      ],
      "text/plain": [
       "              Open    High     Low   Close  Change Pct\n",
       "Date                                                  \n",
       "2022-04-25  0.9224  0.9349  0.9223  0.9333        0.76\n",
       "2022-04-26  0.9334  0.9402  0.9312  0.9399        0.71\n",
       "2022-04-27  0.9401  0.9512  0.9385  0.9471        0.77\n",
       "2022-04-28  0.9475  0.9549  0.9465  0.9521        0.53\n",
       "2022-04-29  0.9520  0.9521  0.9441  0.9485       -0.38"
      ]
     },
     "execution_count": 111,
     "metadata": {},
     "output_type": "execute_result"
    }
   ],
   "source": [
    "USD_EUR_search_result = USD_EUR_search_results[1].retrieve_historical_data(from_date=dia_segunda, to_date=dia_sexta)\n",
    "USD_EUR_search_result"
   ]
  },
  {
   "cell_type": "code",
   "execution_count": 112,
   "id": "44b1b61e",
   "metadata": {},
   "outputs": [
    {
     "data": {
      "text/html": [
       "<div>\n",
       "<style scoped>\n",
       "    .dataframe tbody tr th:only-of-type {\n",
       "        vertical-align: middle;\n",
       "    }\n",
       "\n",
       "    .dataframe tbody tr th {\n",
       "        vertical-align: top;\n",
       "    }\n",
       "\n",
       "    .dataframe thead th {\n",
       "        text-align: right;\n",
       "    }\n",
       "</style>\n",
       "<table border=\"1\" class=\"dataframe\">\n",
       "  <thead>\n",
       "    <tr style=\"text-align: right;\">\n",
       "      <th></th>\n",
       "      <th>Open</th>\n",
       "      <th>High</th>\n",
       "      <th>Low</th>\n",
       "      <th>Close</th>\n",
       "      <th>Change Pct</th>\n",
       "      <th>Future_code</th>\n",
       "    </tr>\n",
       "    <tr>\n",
       "      <th>Date</th>\n",
       "      <th></th>\n",
       "      <th></th>\n",
       "      <th></th>\n",
       "      <th></th>\n",
       "      <th></th>\n",
       "      <th></th>\n",
       "    </tr>\n",
       "  </thead>\n",
       "  <tbody>\n",
       "    <tr>\n",
       "      <th>2022-04-25</th>\n",
       "      <td>0.9224</td>\n",
       "      <td>0.9349</td>\n",
       "      <td>0.9223</td>\n",
       "      <td>0.9333</td>\n",
       "      <td>0.76</td>\n",
       "      <td>USD_EUR</td>\n",
       "    </tr>\n",
       "    <tr>\n",
       "      <th>2022-04-26</th>\n",
       "      <td>0.9334</td>\n",
       "      <td>0.9402</td>\n",
       "      <td>0.9312</td>\n",
       "      <td>0.9399</td>\n",
       "      <td>0.71</td>\n",
       "      <td>USD_EUR</td>\n",
       "    </tr>\n",
       "    <tr>\n",
       "      <th>2022-04-27</th>\n",
       "      <td>0.9401</td>\n",
       "      <td>0.9512</td>\n",
       "      <td>0.9385</td>\n",
       "      <td>0.9471</td>\n",
       "      <td>0.77</td>\n",
       "      <td>USD_EUR</td>\n",
       "    </tr>\n",
       "    <tr>\n",
       "      <th>2022-04-28</th>\n",
       "      <td>0.9475</td>\n",
       "      <td>0.9549</td>\n",
       "      <td>0.9465</td>\n",
       "      <td>0.9521</td>\n",
       "      <td>0.53</td>\n",
       "      <td>USD_EUR</td>\n",
       "    </tr>\n",
       "    <tr>\n",
       "      <th>2022-04-29</th>\n",
       "      <td>0.9520</td>\n",
       "      <td>0.9521</td>\n",
       "      <td>0.9441</td>\n",
       "      <td>0.9485</td>\n",
       "      <td>-0.38</td>\n",
       "      <td>USD_EUR</td>\n",
       "    </tr>\n",
       "  </tbody>\n",
       "</table>\n",
       "</div>"
      ],
      "text/plain": [
       "              Open    High     Low   Close  Change Pct Future_code\n",
       "Date                                                              \n",
       "2022-04-25  0.9224  0.9349  0.9223  0.9333        0.76     USD_EUR\n",
       "2022-04-26  0.9334  0.9402  0.9312  0.9399        0.71     USD_EUR\n",
       "2022-04-27  0.9401  0.9512  0.9385  0.9471        0.77     USD_EUR\n",
       "2022-04-28  0.9475  0.9549  0.9465  0.9521        0.53     USD_EUR\n",
       "2022-04-29  0.9520  0.9521  0.9441  0.9485       -0.38     USD_EUR"
      ]
     },
     "execution_count": 112,
     "metadata": {},
     "output_type": "execute_result"
    }
   ],
   "source": [
    "future_code = str('USD_EUR ')*len(USD_EUR_search_result)\n",
    "future_code2 = future_code.split(' ')\n",
    "USD_EUR_search_result['Future_code'] = future_code2[0:-1]\n",
    "USD_EUR_search_result"
   ]
  },
  {
   "cell_type": "markdown",
   "id": "b72a43ed",
   "metadata": {},
   "source": [
    "**Ouro - Gold Futures - (ZG**)"
   ]
  },
  {
   "cell_type": "code",
   "execution_count": 113,
   "id": "15dbf90f",
   "metadata": {},
   "outputs": [
    {
     "name": "stdout",
     "output_type": "stream",
     "text": [
      "{\"id_\": 8830, \"name\": \"Gold Futures\", \"symbol\": \"ZG\", \"country\": null, \"tag\": \"/commodities/gold\", \"pair_type\": \"commodities\", \"exchange\": \"ICE\"}\n"
     ]
    }
   ],
   "source": [
    "search_results = investpy.search_quotes(text = 'Gold Futures (ZG)', products = ['commodities'], n_results= 1)\n",
    "print(search_results)"
   ]
  },
  {
   "cell_type": "code",
   "execution_count": 114,
   "id": "cbf67945",
   "metadata": {},
   "outputs": [
    {
     "data": {
      "text/html": [
       "<div>\n",
       "<style scoped>\n",
       "    .dataframe tbody tr th:only-of-type {\n",
       "        vertical-align: middle;\n",
       "    }\n",
       "\n",
       "    .dataframe tbody tr th {\n",
       "        vertical-align: top;\n",
       "    }\n",
       "\n",
       "    .dataframe thead th {\n",
       "        text-align: right;\n",
       "    }\n",
       "</style>\n",
       "<table border=\"1\" class=\"dataframe\">\n",
       "  <thead>\n",
       "    <tr style=\"text-align: right;\">\n",
       "      <th></th>\n",
       "      <th>Open</th>\n",
       "      <th>High</th>\n",
       "      <th>Low</th>\n",
       "      <th>Close</th>\n",
       "      <th>Volume</th>\n",
       "      <th>Change Pct</th>\n",
       "    </tr>\n",
       "    <tr>\n",
       "      <th>Date</th>\n",
       "      <th></th>\n",
       "      <th></th>\n",
       "      <th></th>\n",
       "      <th></th>\n",
       "      <th></th>\n",
       "      <th></th>\n",
       "    </tr>\n",
       "  </thead>\n",
       "  <tbody>\n",
       "    <tr>\n",
       "      <th>2022-04-25</th>\n",
       "      <td>1931.90</td>\n",
       "      <td>1935.50</td>\n",
       "      <td>1891.80</td>\n",
       "      <td>1896.00</td>\n",
       "      <td>231494</td>\n",
       "      <td>-1.98</td>\n",
       "    </tr>\n",
       "    <tr>\n",
       "      <th>2022-04-26</th>\n",
       "      <td>1899.80</td>\n",
       "      <td>1912.20</td>\n",
       "      <td>1896.30</td>\n",
       "      <td>1904.10</td>\n",
       "      <td>166199</td>\n",
       "      <td>0.43</td>\n",
       "    </tr>\n",
       "    <tr>\n",
       "      <th>2022-04-27</th>\n",
       "      <td>1907.40</td>\n",
       "      <td>1908.10</td>\n",
       "      <td>1881.60</td>\n",
       "      <td>1888.70</td>\n",
       "      <td>178197</td>\n",
       "      <td>-0.81</td>\n",
       "    </tr>\n",
       "    <tr>\n",
       "      <th>2022-04-28</th>\n",
       "      <td>1886.80</td>\n",
       "      <td>1897.80</td>\n",
       "      <td>1870.90</td>\n",
       "      <td>1891.30</td>\n",
       "      <td>170910</td>\n",
       "      <td>0.14</td>\n",
       "    </tr>\n",
       "    <tr>\n",
       "      <th>2022-04-29</th>\n",
       "      <td>1895.54</td>\n",
       "      <td>1921.05</td>\n",
       "      <td>1894.57</td>\n",
       "      <td>1896.85</td>\n",
       "      <td>0</td>\n",
       "      <td>0.29</td>\n",
       "    </tr>\n",
       "  </tbody>\n",
       "</table>\n",
       "</div>"
      ],
      "text/plain": [
       "               Open     High      Low    Close  Volume  Change Pct\n",
       "Date                                                              \n",
       "2022-04-25  1931.90  1935.50  1891.80  1896.00  231494       -1.98\n",
       "2022-04-26  1899.80  1912.20  1896.30  1904.10  166199        0.43\n",
       "2022-04-27  1907.40  1908.10  1881.60  1888.70  178197       -0.81\n",
       "2022-04-28  1886.80  1897.80  1870.90  1891.30  170910        0.14\n",
       "2022-04-29  1895.54  1921.05  1894.57  1896.85       0        0.29"
      ]
     },
     "execution_count": 114,
     "metadata": {},
     "output_type": "execute_result"
    }
   ],
   "source": [
    "Gold_Futures_search_result = search_results.retrieve_historical_data(from_date=dia_segunda, to_date=dia_sexta)\n",
    "Gold_Futures_search_result"
   ]
  },
  {
   "cell_type": "code",
   "execution_count": 115,
   "id": "1518e122",
   "metadata": {},
   "outputs": [
    {
     "data": {
      "text/html": [
       "<div>\n",
       "<style scoped>\n",
       "    .dataframe tbody tr th:only-of-type {\n",
       "        vertical-align: middle;\n",
       "    }\n",
       "\n",
       "    .dataframe tbody tr th {\n",
       "        vertical-align: top;\n",
       "    }\n",
       "\n",
       "    .dataframe thead th {\n",
       "        text-align: right;\n",
       "    }\n",
       "</style>\n",
       "<table border=\"1\" class=\"dataframe\">\n",
       "  <thead>\n",
       "    <tr style=\"text-align: right;\">\n",
       "      <th></th>\n",
       "      <th>Open</th>\n",
       "      <th>High</th>\n",
       "      <th>Low</th>\n",
       "      <th>Close</th>\n",
       "      <th>Volume</th>\n",
       "      <th>Change Pct</th>\n",
       "      <th>Future_code</th>\n",
       "    </tr>\n",
       "    <tr>\n",
       "      <th>Date</th>\n",
       "      <th></th>\n",
       "      <th></th>\n",
       "      <th></th>\n",
       "      <th></th>\n",
       "      <th></th>\n",
       "      <th></th>\n",
       "      <th></th>\n",
       "    </tr>\n",
       "  </thead>\n",
       "  <tbody>\n",
       "    <tr>\n",
       "      <th>2022-04-25</th>\n",
       "      <td>1931.90</td>\n",
       "      <td>1935.50</td>\n",
       "      <td>1891.80</td>\n",
       "      <td>1896.00</td>\n",
       "      <td>231494</td>\n",
       "      <td>-1.98</td>\n",
       "      <td>Gold_Futures_ZG</td>\n",
       "    </tr>\n",
       "    <tr>\n",
       "      <th>2022-04-26</th>\n",
       "      <td>1899.80</td>\n",
       "      <td>1912.20</td>\n",
       "      <td>1896.30</td>\n",
       "      <td>1904.10</td>\n",
       "      <td>166199</td>\n",
       "      <td>0.43</td>\n",
       "      <td>Gold_Futures_ZG</td>\n",
       "    </tr>\n",
       "    <tr>\n",
       "      <th>2022-04-27</th>\n",
       "      <td>1907.40</td>\n",
       "      <td>1908.10</td>\n",
       "      <td>1881.60</td>\n",
       "      <td>1888.70</td>\n",
       "      <td>178197</td>\n",
       "      <td>-0.81</td>\n",
       "      <td>Gold_Futures_ZG</td>\n",
       "    </tr>\n",
       "    <tr>\n",
       "      <th>2022-04-28</th>\n",
       "      <td>1886.80</td>\n",
       "      <td>1897.80</td>\n",
       "      <td>1870.90</td>\n",
       "      <td>1891.30</td>\n",
       "      <td>170910</td>\n",
       "      <td>0.14</td>\n",
       "      <td>Gold_Futures_ZG</td>\n",
       "    </tr>\n",
       "    <tr>\n",
       "      <th>2022-04-29</th>\n",
       "      <td>1895.54</td>\n",
       "      <td>1921.05</td>\n",
       "      <td>1894.57</td>\n",
       "      <td>1896.85</td>\n",
       "      <td>0</td>\n",
       "      <td>0.29</td>\n",
       "      <td>Gold_Futures_ZG</td>\n",
       "    </tr>\n",
       "  </tbody>\n",
       "</table>\n",
       "</div>"
      ],
      "text/plain": [
       "               Open     High      Low    Close  Volume  Change Pct  \\\n",
       "Date                                                                 \n",
       "2022-04-25  1931.90  1935.50  1891.80  1896.00  231494       -1.98   \n",
       "2022-04-26  1899.80  1912.20  1896.30  1904.10  166199        0.43   \n",
       "2022-04-27  1907.40  1908.10  1881.60  1888.70  178197       -0.81   \n",
       "2022-04-28  1886.80  1897.80  1870.90  1891.30  170910        0.14   \n",
       "2022-04-29  1895.54  1921.05  1894.57  1896.85       0        0.29   \n",
       "\n",
       "                Future_code  \n",
       "Date                         \n",
       "2022-04-25  Gold_Futures_ZG  \n",
       "2022-04-26  Gold_Futures_ZG  \n",
       "2022-04-27  Gold_Futures_ZG  \n",
       "2022-04-28  Gold_Futures_ZG  \n",
       "2022-04-29  Gold_Futures_ZG  "
      ]
     },
     "execution_count": 115,
     "metadata": {},
     "output_type": "execute_result"
    }
   ],
   "source": [
    "future_code = str('Gold_Futures_ZG ')*len(Gold_Futures_search_result)\n",
    "future_code2 = future_code.split(' ')\n",
    "Gold_Futures_search_result['Future_code'] = future_code2[0:-1]\n",
    "Gold_Futures_search_result"
   ]
  },
  {
   "cell_type": "markdown",
   "id": "14985df6",
   "metadata": {},
   "source": [
    "**Petróleo - Crude Oil WTI - (USD)**"
   ]
  },
  {
   "cell_type": "code",
   "execution_count": 116,
   "id": "96e6c464",
   "metadata": {},
   "outputs": [
    {
     "name": "stdout",
     "output_type": "stream",
     "text": [
      "{\"id_\": 8849, \"name\": \"Crude Oil WTI Futures\", \"symbol\": \"T\", \"country\": null, \"tag\": \"/commodities/crude-oil\", \"pair_type\": \"commodities\", \"exchange\": \"ICE\"}\n"
     ]
    }
   ],
   "source": [
    "search_results = investpy.search_quotes(text = 'Crude Oil WTI (T)', products = ['commodities'], countries= ['United States'], n_results= 1)\n",
    "print(search_results)"
   ]
  },
  {
   "cell_type": "code",
   "execution_count": 117,
   "id": "4e3ce7e7",
   "metadata": {},
   "outputs": [
    {
     "data": {
      "text/html": [
       "<div>\n",
       "<style scoped>\n",
       "    .dataframe tbody tr th:only-of-type {\n",
       "        vertical-align: middle;\n",
       "    }\n",
       "\n",
       "    .dataframe tbody tr th {\n",
       "        vertical-align: top;\n",
       "    }\n",
       "\n",
       "    .dataframe thead th {\n",
       "        text-align: right;\n",
       "    }\n",
       "</style>\n",
       "<table border=\"1\" class=\"dataframe\">\n",
       "  <thead>\n",
       "    <tr style=\"text-align: right;\">\n",
       "      <th></th>\n",
       "      <th>Open</th>\n",
       "      <th>High</th>\n",
       "      <th>Low</th>\n",
       "      <th>Close</th>\n",
       "      <th>Volume</th>\n",
       "      <th>Change Pct</th>\n",
       "    </tr>\n",
       "    <tr>\n",
       "      <th>Date</th>\n",
       "      <th></th>\n",
       "      <th></th>\n",
       "      <th></th>\n",
       "      <th></th>\n",
       "      <th></th>\n",
       "      <th></th>\n",
       "    </tr>\n",
       "  </thead>\n",
       "  <tbody>\n",
       "    <tr>\n",
       "      <th>2022-04-25</th>\n",
       "      <td>101.38</td>\n",
       "      <td>101.55</td>\n",
       "      <td>95.28</td>\n",
       "      <td>98.54</td>\n",
       "      <td>328153</td>\n",
       "      <td>-1.98</td>\n",
       "    </tr>\n",
       "    <tr>\n",
       "      <th>2022-04-26</th>\n",
       "      <td>98.64</td>\n",
       "      <td>102.78</td>\n",
       "      <td>97.06</td>\n",
       "      <td>101.70</td>\n",
       "      <td>351850</td>\n",
       "      <td>3.21</td>\n",
       "    </tr>\n",
       "    <tr>\n",
       "      <th>2022-04-27</th>\n",
       "      <td>101.76</td>\n",
       "      <td>102.99</td>\n",
       "      <td>99.80</td>\n",
       "      <td>102.02</td>\n",
       "      <td>278781</td>\n",
       "      <td>0.31</td>\n",
       "    </tr>\n",
       "    <tr>\n",
       "      <th>2022-04-28</th>\n",
       "      <td>101.80</td>\n",
       "      <td>105.67</td>\n",
       "      <td>100.14</td>\n",
       "      <td>105.02</td>\n",
       "      <td>0</td>\n",
       "      <td>2.94</td>\n",
       "    </tr>\n",
       "    <tr>\n",
       "      <th>2022-04-29</th>\n",
       "      <td>105.05</td>\n",
       "      <td>107.97</td>\n",
       "      <td>103.78</td>\n",
       "      <td>104.24</td>\n",
       "      <td>0</td>\n",
       "      <td>-0.74</td>\n",
       "    </tr>\n",
       "  </tbody>\n",
       "</table>\n",
       "</div>"
      ],
      "text/plain": [
       "              Open    High     Low   Close  Volume  Change Pct\n",
       "Date                                                          \n",
       "2022-04-25  101.38  101.55   95.28   98.54  328153       -1.98\n",
       "2022-04-26   98.64  102.78   97.06  101.70  351850        3.21\n",
       "2022-04-27  101.76  102.99   99.80  102.02  278781        0.31\n",
       "2022-04-28  101.80  105.67  100.14  105.02       0        2.94\n",
       "2022-04-29  105.05  107.97  103.78  104.24       0       -0.74"
      ]
     },
     "execution_count": 117,
     "metadata": {},
     "output_type": "execute_result"
    }
   ],
   "source": [
    "Crude_Oil_WTI_search_result = search_results.retrieve_historical_data(from_date=dia_segunda, to_date=dia_sexta)\n",
    "Crude_Oil_WTI_search_result"
   ]
  },
  {
   "cell_type": "code",
   "execution_count": 118,
   "id": "8f7f487d",
   "metadata": {},
   "outputs": [
    {
     "data": {
      "text/html": [
       "<div>\n",
       "<style scoped>\n",
       "    .dataframe tbody tr th:only-of-type {\n",
       "        vertical-align: middle;\n",
       "    }\n",
       "\n",
       "    .dataframe tbody tr th {\n",
       "        vertical-align: top;\n",
       "    }\n",
       "\n",
       "    .dataframe thead th {\n",
       "        text-align: right;\n",
       "    }\n",
       "</style>\n",
       "<table border=\"1\" class=\"dataframe\">\n",
       "  <thead>\n",
       "    <tr style=\"text-align: right;\">\n",
       "      <th></th>\n",
       "      <th>Open</th>\n",
       "      <th>High</th>\n",
       "      <th>Low</th>\n",
       "      <th>Close</th>\n",
       "      <th>Volume</th>\n",
       "      <th>Change Pct</th>\n",
       "      <th>Future_code</th>\n",
       "    </tr>\n",
       "    <tr>\n",
       "      <th>Date</th>\n",
       "      <th></th>\n",
       "      <th></th>\n",
       "      <th></th>\n",
       "      <th></th>\n",
       "      <th></th>\n",
       "      <th></th>\n",
       "      <th></th>\n",
       "    </tr>\n",
       "  </thead>\n",
       "  <tbody>\n",
       "    <tr>\n",
       "      <th>2022-04-25</th>\n",
       "      <td>101.38</td>\n",
       "      <td>101.55</td>\n",
       "      <td>95.28</td>\n",
       "      <td>98.54</td>\n",
       "      <td>328153</td>\n",
       "      <td>-1.98</td>\n",
       "      <td>Crude_Oil_WTI_Futures</td>\n",
       "    </tr>\n",
       "    <tr>\n",
       "      <th>2022-04-26</th>\n",
       "      <td>98.64</td>\n",
       "      <td>102.78</td>\n",
       "      <td>97.06</td>\n",
       "      <td>101.70</td>\n",
       "      <td>351850</td>\n",
       "      <td>3.21</td>\n",
       "      <td>Crude_Oil_WTI_Futures</td>\n",
       "    </tr>\n",
       "    <tr>\n",
       "      <th>2022-04-27</th>\n",
       "      <td>101.76</td>\n",
       "      <td>102.99</td>\n",
       "      <td>99.80</td>\n",
       "      <td>102.02</td>\n",
       "      <td>278781</td>\n",
       "      <td>0.31</td>\n",
       "      <td>Crude_Oil_WTI_Futures</td>\n",
       "    </tr>\n",
       "    <tr>\n",
       "      <th>2022-04-28</th>\n",
       "      <td>101.80</td>\n",
       "      <td>105.67</td>\n",
       "      <td>100.14</td>\n",
       "      <td>105.02</td>\n",
       "      <td>0</td>\n",
       "      <td>2.94</td>\n",
       "      <td>Crude_Oil_WTI_Futures</td>\n",
       "    </tr>\n",
       "    <tr>\n",
       "      <th>2022-04-29</th>\n",
       "      <td>105.05</td>\n",
       "      <td>107.97</td>\n",
       "      <td>103.78</td>\n",
       "      <td>104.24</td>\n",
       "      <td>0</td>\n",
       "      <td>-0.74</td>\n",
       "      <td>Crude_Oil_WTI_Futures</td>\n",
       "    </tr>\n",
       "  </tbody>\n",
       "</table>\n",
       "</div>"
      ],
      "text/plain": [
       "              Open    High     Low   Close  Volume  Change Pct  \\\n",
       "Date                                                             \n",
       "2022-04-25  101.38  101.55   95.28   98.54  328153       -1.98   \n",
       "2022-04-26   98.64  102.78   97.06  101.70  351850        3.21   \n",
       "2022-04-27  101.76  102.99   99.80  102.02  278781        0.31   \n",
       "2022-04-28  101.80  105.67  100.14  105.02       0        2.94   \n",
       "2022-04-29  105.05  107.97  103.78  104.24       0       -0.74   \n",
       "\n",
       "                      Future_code  \n",
       "Date                               \n",
       "2022-04-25  Crude_Oil_WTI_Futures  \n",
       "2022-04-26  Crude_Oil_WTI_Futures  \n",
       "2022-04-27  Crude_Oil_WTI_Futures  \n",
       "2022-04-28  Crude_Oil_WTI_Futures  \n",
       "2022-04-29  Crude_Oil_WTI_Futures  "
      ]
     },
     "execution_count": 118,
     "metadata": {},
     "output_type": "execute_result"
    }
   ],
   "source": [
    "future_code = str('Crude_Oil_WTI_Futures ')*len(Crude_Oil_WTI_search_result)\n",
    "future_code2 = future_code.split(' ')\n",
    "Crude_Oil_WTI_search_result['Future_code'] = future_code2[0:-1]\n",
    "Crude_Oil_WTI_search_result"
   ]
  },
  {
   "cell_type": "markdown",
   "id": "c299ef07",
   "metadata": {},
   "source": [
    "**Boi gordo**"
   ]
  },
  {
   "cell_type": "code",
   "execution_count": 119,
   "id": "9c2ccddb",
   "metadata": {},
   "outputs": [
    {
     "name": "stdout",
     "output_type": "stream",
     "text": [
      "{\"id_\": 964528, \"name\": \"Live Cattle Futures\", \"symbol\": \"BGIc1\", \"country\": null, \"tag\": \"/commodities/live-cattle?cid=964528\", \"pair_type\": \"commodities\", \"exchange\": \"BM&FBovespa\"}\n",
      "{\"id_\": 1181094, \"name\": \"Live Cattle Futures\", \"symbol\": \"BGIc2\", \"country\": null, \"tag\": \"/commodities/live-cattle?cid=1181094\", \"pair_type\": \"commodities\", \"exchange\": \"BM&FBovespa\"}\n",
      "{\"id_\": 1181095, \"name\": \"Live Cattle Futures\", \"symbol\": \"BGIc3\", \"country\": null, \"tag\": \"/commodities/live-cattle?cid=1181095\", \"pair_type\": \"commodities\", \"exchange\": \"BM&FBovespa\"}\n"
     ]
    }
   ],
   "source": [
    "search_results = investpy.search_quotes(text = 'cattle', products = ['commodities'], countries= ['brazil'], n_results= 10)\n",
    "\n",
    "for search_result in search_results:\n",
    "  print(search_result)\n"
   ]
  },
  {
   "cell_type": "code",
   "execution_count": 120,
   "id": "e42c4e5a",
   "metadata": {},
   "outputs": [],
   "source": [
    "BGIc1_search_result = search_results[0].retrieve_historical_data(from_date=dia_segunda, to_date=dia_sexta)\n",
    "BGIc2_search_result = search_results[1].retrieve_historical_data(from_date=dia_segunda, to_date=dia_sexta)\n",
    "BGIc3_search_result = search_results[2].retrieve_historical_data(from_date=dia_segunda, to_date=dia_sexta)\n"
   ]
  },
  {
   "cell_type": "code",
   "execution_count": 121,
   "id": "a83c81a5",
   "metadata": {},
   "outputs": [
    {
     "data": {
      "text/html": [
       "<div>\n",
       "<style scoped>\n",
       "    .dataframe tbody tr th:only-of-type {\n",
       "        vertical-align: middle;\n",
       "    }\n",
       "\n",
       "    .dataframe tbody tr th {\n",
       "        vertical-align: top;\n",
       "    }\n",
       "\n",
       "    .dataframe thead th {\n",
       "        text-align: right;\n",
       "    }\n",
       "</style>\n",
       "<table border=\"1\" class=\"dataframe\">\n",
       "  <thead>\n",
       "    <tr style=\"text-align: right;\">\n",
       "      <th></th>\n",
       "      <th>Open</th>\n",
       "      <th>High</th>\n",
       "      <th>Low</th>\n",
       "      <th>Close</th>\n",
       "      <th>Volume</th>\n",
       "      <th>Change Pct</th>\n",
       "      <th>Future_code</th>\n",
       "    </tr>\n",
       "    <tr>\n",
       "      <th>Date</th>\n",
       "      <th></th>\n",
       "      <th></th>\n",
       "      <th></th>\n",
       "      <th></th>\n",
       "      <th></th>\n",
       "      <th></th>\n",
       "      <th></th>\n",
       "    </tr>\n",
       "  </thead>\n",
       "  <tbody>\n",
       "    <tr>\n",
       "      <th>2022-04-25</th>\n",
       "      <td>321.35</td>\n",
       "      <td>323.05</td>\n",
       "      <td>321.15</td>\n",
       "      <td>322.55</td>\n",
       "      <td>17</td>\n",
       "      <td>0.30</td>\n",
       "      <td>BGIc3</td>\n",
       "    </tr>\n",
       "    <tr>\n",
       "      <th>2022-04-26</th>\n",
       "      <td>324.00</td>\n",
       "      <td>324.50</td>\n",
       "      <td>323.05</td>\n",
       "      <td>324.50</td>\n",
       "      <td>1</td>\n",
       "      <td>0.60</td>\n",
       "      <td>BGIc3</td>\n",
       "    </tr>\n",
       "    <tr>\n",
       "      <th>2022-04-27</th>\n",
       "      <td>324.50</td>\n",
       "      <td>325.50</td>\n",
       "      <td>324.50</td>\n",
       "      <td>326.00</td>\n",
       "      <td>3</td>\n",
       "      <td>0.46</td>\n",
       "      <td>BGIc3</td>\n",
       "    </tr>\n",
       "    <tr>\n",
       "      <th>2022-04-28</th>\n",
       "      <td>327.95</td>\n",
       "      <td>330.50</td>\n",
       "      <td>326.50</td>\n",
       "      <td>330.50</td>\n",
       "      <td>25</td>\n",
       "      <td>1.38</td>\n",
       "      <td>BGIc3</td>\n",
       "    </tr>\n",
       "    <tr>\n",
       "      <th>2022-04-29</th>\n",
       "      <td>330.75</td>\n",
       "      <td>330.90</td>\n",
       "      <td>327.95</td>\n",
       "      <td>330.00</td>\n",
       "      <td>16</td>\n",
       "      <td>-0.15</td>\n",
       "      <td>BGIc3</td>\n",
       "    </tr>\n",
       "  </tbody>\n",
       "</table>\n",
       "</div>"
      ],
      "text/plain": [
       "              Open    High     Low   Close  Volume  Change Pct Future_code\n",
       "Date                                                                      \n",
       "2022-04-25  321.35  323.05  321.15  322.55      17        0.30       BGIc3\n",
       "2022-04-26  324.00  324.50  323.05  324.50       1        0.60       BGIc3\n",
       "2022-04-27  324.50  325.50  324.50  326.00       3        0.46       BGIc3\n",
       "2022-04-28  327.95  330.50  326.50  330.50      25        1.38       BGIc3\n",
       "2022-04-29  330.75  330.90  327.95  330.00      16       -0.15       BGIc3"
      ]
     },
     "execution_count": 121,
     "metadata": {},
     "output_type": "execute_result"
    }
   ],
   "source": [
    "future_code = str('BGIc1 ')*len(BGIc1_search_result)\n",
    "future_code2 = future_code.split(' ')\n",
    "BGIc1_search_result['Future_code'] = future_code2[0:-1]\n",
    "BGIc1_search_result\n",
    "\n",
    "future_code = str('BGIc2 ')*len(BGIc2_search_result)\n",
    "future_code2 = future_code.split(' ')\n",
    "BGIc2_search_result['Future_code'] = future_code2[0:-1]\n",
    "BGIc2_search_result\n",
    "\n",
    "future_code = str('BGIc3 ')*len(BGIc3_search_result)\n",
    "future_code2 = future_code.split(' ')\n",
    "BGIc3_search_result['Future_code'] = future_code2[0:-1]\n",
    "BGIc3_search_result"
   ]
  },
  {
   "cell_type": "markdown",
   "id": "70f5a856",
   "metadata": {},
   "source": [
    "**Café**"
   ]
  },
  {
   "cell_type": "code",
   "execution_count": 122,
   "id": "0312c79f",
   "metadata": {},
   "outputs": [
    {
     "name": "stdout",
     "output_type": "stream",
     "text": [
      "{\"id_\": 964526, \"name\": \"Arabica Coffee 4/5 Futures\", \"symbol\": \"ICFc1\", \"country\": null, \"tag\": \"/commodities/arabica-coffee-4-5\", \"pair_type\": \"commodities\", \"exchange\": \"BM&FBovespa\"}\n",
      "{\"id_\": 1181093, \"name\": \"Arabica Coffee 4/5 Futures\", \"symbol\": \"ICFc3\", \"country\": null, \"tag\": \"/commodities/arabica-coffee-4-5?cid=1181093\", \"pair_type\": \"commodities\", \"exchange\": \"BM&FBovespa\"}\n",
      "{\"id_\": 1181092, \"name\": \"Arabica Coffee 4/5 Futures\", \"symbol\": \"ICFc2\", \"country\": null, \"tag\": \"/commodities/arabica-coffee-4-5?cid=1181092\", \"pair_type\": \"commodities\", \"exchange\": \"BM&FBovespa\"}\n"
     ]
    }
   ],
   "source": [
    "search_results = investpy.search_quotes(text = 'coffee', products = ['commodities'], countries= ['brazil'], n_results= 10)\n",
    "\n",
    "for search_result in search_results:\n",
    "  print(search_result)"
   ]
  },
  {
   "cell_type": "code",
   "execution_count": 123,
   "id": "89dfa75b",
   "metadata": {},
   "outputs": [],
   "source": [
    "ICFc1_search_result = search_results[0].retrieve_historical_data(from_date=dia_segunda, to_date=dia_sexta)\n",
    "ICFc3_search_result = search_results[1].retrieve_historical_data(from_date=dia_segunda, to_date=dia_sexta)\n",
    "ICFc2_search_result = search_results[2].retrieve_historical_data(from_date=dia_segunda, to_date=dia_sexta)"
   ]
  },
  {
   "cell_type": "code",
   "execution_count": 124,
   "id": "cf9d0c90",
   "metadata": {},
   "outputs": [
    {
     "data": {
      "text/html": [
       "<div>\n",
       "<style scoped>\n",
       "    .dataframe tbody tr th:only-of-type {\n",
       "        vertical-align: middle;\n",
       "    }\n",
       "\n",
       "    .dataframe tbody tr th {\n",
       "        vertical-align: top;\n",
       "    }\n",
       "\n",
       "    .dataframe thead th {\n",
       "        text-align: right;\n",
       "    }\n",
       "</style>\n",
       "<table border=\"1\" class=\"dataframe\">\n",
       "  <thead>\n",
       "    <tr style=\"text-align: right;\">\n",
       "      <th></th>\n",
       "      <th>Open</th>\n",
       "      <th>High</th>\n",
       "      <th>Low</th>\n",
       "      <th>Close</th>\n",
       "      <th>Volume</th>\n",
       "      <th>Change Pct</th>\n",
       "      <th>Future_code</th>\n",
       "    </tr>\n",
       "    <tr>\n",
       "      <th>Date</th>\n",
       "      <th></th>\n",
       "      <th></th>\n",
       "      <th></th>\n",
       "      <th></th>\n",
       "      <th></th>\n",
       "      <th></th>\n",
       "      <th></th>\n",
       "    </tr>\n",
       "  </thead>\n",
       "  <tbody>\n",
       "    <tr>\n",
       "      <th>2022-04-25</th>\n",
       "      <td>274.05</td>\n",
       "      <td>274.05</td>\n",
       "      <td>274.05</td>\n",
       "      <td>274.05</td>\n",
       "      <td>0</td>\n",
       "      <td>-3.03</td>\n",
       "      <td>ICFc2</td>\n",
       "    </tr>\n",
       "    <tr>\n",
       "      <th>2022-04-26</th>\n",
       "      <td>274.65</td>\n",
       "      <td>274.65</td>\n",
       "      <td>274.65</td>\n",
       "      <td>274.65</td>\n",
       "      <td>0</td>\n",
       "      <td>0.22</td>\n",
       "      <td>ICFc2</td>\n",
       "    </tr>\n",
       "    <tr>\n",
       "      <th>2022-04-27</th>\n",
       "      <td>268.00</td>\n",
       "      <td>268.00</td>\n",
       "      <td>268.00</td>\n",
       "      <td>267.25</td>\n",
       "      <td>0</td>\n",
       "      <td>-2.69</td>\n",
       "      <td>ICFc2</td>\n",
       "    </tr>\n",
       "  </tbody>\n",
       "</table>\n",
       "</div>"
      ],
      "text/plain": [
       "              Open    High     Low   Close  Volume  Change Pct Future_code\n",
       "Date                                                                      \n",
       "2022-04-25  274.05  274.05  274.05  274.05       0       -3.03       ICFc2\n",
       "2022-04-26  274.65  274.65  274.65  274.65       0        0.22       ICFc2\n",
       "2022-04-27  268.00  268.00  268.00  267.25       0       -2.69       ICFc2"
      ]
     },
     "execution_count": 124,
     "metadata": {},
     "output_type": "execute_result"
    }
   ],
   "source": [
    "future_code = str('ICFc1 ')*len(ICFc1_search_result)\n",
    "future_code2 = future_code.split(' ')\n",
    "ICFc1_search_result['Future_code'] = future_code2[0:-1]\n",
    "ICFc1_search_result\n",
    "\n",
    "future_code = str('ICFc3 ')*len(ICFc3_search_result)\n",
    "future_code2 = future_code.split(' ')\n",
    "ICFc3_search_result['Future_code'] = future_code2[0:-1]\n",
    "ICFc3_search_result\n",
    "\n",
    "future_code = str('ICFc2 ')*len(ICFc2_search_result)\n",
    "future_code2 = future_code.split(' ')\n",
    "ICFc2_search_result['Future_code'] = future_code2[0:-1]\n",
    "ICFc2_search_result"
   ]
  },
  {
   "cell_type": "markdown",
   "id": "d3ea5ff8",
   "metadata": {},
   "source": [
    "**Milho**"
   ]
  },
  {
   "cell_type": "code",
   "execution_count": 125,
   "id": "0bb67161",
   "metadata": {},
   "outputs": [
    {
     "name": "stdout",
     "output_type": "stream",
     "text": [
      "{\"id_\": 1181089, \"name\": \"US Corn Futures\", \"symbol\": \"CCMc3\", \"country\": null, \"tag\": \"/commodities/us-corn?cid=1181089\", \"pair_type\": \"commodities\", \"exchange\": \"BM&FBovespa\"}\n",
      "{\"id_\": 1181088, \"name\": \"US Corn Futures\", \"symbol\": \"CCMc2\", \"country\": null, \"tag\": \"/commodities/us-corn?cid=1181088\", \"pair_type\": \"commodities\", \"exchange\": \"BM&FBovespa\"}\n",
      "{\"id_\": 964522, \"name\": \"US Corn Futures\", \"symbol\": \"CCMc1\", \"country\": null, \"tag\": \"/commodities/us-corn?cid=964522\", \"pair_type\": \"commodities\", \"exchange\": \"BM&FBovespa\"}\n"
     ]
    }
   ],
   "source": [
    "search_results = investpy.search_quotes(text = 'corn', products = ['commodities'], countries= ['brazil'], n_results= 10)\n",
    "\n",
    "for search_result in search_results:\n",
    "  print(search_result)"
   ]
  },
  {
   "cell_type": "code",
   "execution_count": 126,
   "id": "985d51c3",
   "metadata": {},
   "outputs": [],
   "source": [
    "CCMc2_search_result = search_results[0].retrieve_historical_data(from_date=dia_segunda, to_date=dia_sexta)\n",
    "CCMc3_search_result = search_results[1].retrieve_historical_data(from_date=dia_segunda, to_date=dia_sexta)\n",
    "CCMc1_search_result = search_results[2].retrieve_historical_data(from_date=dia_segunda, to_date=dia_sexta)"
   ]
  },
  {
   "cell_type": "code",
   "execution_count": 127,
   "id": "3991a3ed",
   "metadata": {},
   "outputs": [
    {
     "data": {
      "text/html": [
       "<div>\n",
       "<style scoped>\n",
       "    .dataframe tbody tr th:only-of-type {\n",
       "        vertical-align: middle;\n",
       "    }\n",
       "\n",
       "    .dataframe tbody tr th {\n",
       "        vertical-align: top;\n",
       "    }\n",
       "\n",
       "    .dataframe thead th {\n",
       "        text-align: right;\n",
       "    }\n",
       "</style>\n",
       "<table border=\"1\" class=\"dataframe\">\n",
       "  <thead>\n",
       "    <tr style=\"text-align: right;\">\n",
       "      <th></th>\n",
       "      <th>Open</th>\n",
       "      <th>High</th>\n",
       "      <th>Low</th>\n",
       "      <th>Close</th>\n",
       "      <th>Volume</th>\n",
       "      <th>Change Pct</th>\n",
       "      <th>Future_code</th>\n",
       "    </tr>\n",
       "    <tr>\n",
       "      <th>Date</th>\n",
       "      <th></th>\n",
       "      <th></th>\n",
       "      <th></th>\n",
       "      <th></th>\n",
       "      <th></th>\n",
       "      <th></th>\n",
       "      <th></th>\n",
       "    </tr>\n",
       "  </thead>\n",
       "  <tbody>\n",
       "    <tr>\n",
       "      <th>2022-04-25</th>\n",
       "      <td>92.38</td>\n",
       "      <td>94.85</td>\n",
       "      <td>92.00</td>\n",
       "      <td>94.79</td>\n",
       "      <td>1635</td>\n",
       "      <td>2.69</td>\n",
       "      <td>CCMc1</td>\n",
       "    </tr>\n",
       "    <tr>\n",
       "      <th>2022-04-26</th>\n",
       "      <td>95.30</td>\n",
       "      <td>95.30</td>\n",
       "      <td>95.00</td>\n",
       "      <td>95.12</td>\n",
       "      <td>10146</td>\n",
       "      <td>0.35</td>\n",
       "      <td>CCMc1</td>\n",
       "    </tr>\n",
       "    <tr>\n",
       "      <th>2022-04-27</th>\n",
       "      <td>94.60</td>\n",
       "      <td>95.15</td>\n",
       "      <td>92.22</td>\n",
       "      <td>92.70</td>\n",
       "      <td>518</td>\n",
       "      <td>-2.54</td>\n",
       "      <td>CCMc1</td>\n",
       "    </tr>\n",
       "    <tr>\n",
       "      <th>2022-04-28</th>\n",
       "      <td>91.35</td>\n",
       "      <td>93.42</td>\n",
       "      <td>91.10</td>\n",
       "      <td>91.69</td>\n",
       "      <td>347</td>\n",
       "      <td>-1.09</td>\n",
       "      <td>CCMc1</td>\n",
       "    </tr>\n",
       "    <tr>\n",
       "      <th>2022-04-29</th>\n",
       "      <td>91.64</td>\n",
       "      <td>92.80</td>\n",
       "      <td>90.87</td>\n",
       "      <td>91.99</td>\n",
       "      <td>331</td>\n",
       "      <td>0.33</td>\n",
       "      <td>CCMc1</td>\n",
       "    </tr>\n",
       "  </tbody>\n",
       "</table>\n",
       "</div>"
      ],
      "text/plain": [
       "             Open   High    Low  Close  Volume  Change Pct Future_code\n",
       "Date                                                                  \n",
       "2022-04-25  92.38  94.85  92.00  94.79    1635        2.69       CCMc1\n",
       "2022-04-26  95.30  95.30  95.00  95.12   10146        0.35       CCMc1\n",
       "2022-04-27  94.60  95.15  92.22  92.70     518       -2.54       CCMc1\n",
       "2022-04-28  91.35  93.42  91.10  91.69     347       -1.09       CCMc1\n",
       "2022-04-29  91.64  92.80  90.87  91.99     331        0.33       CCMc1"
      ]
     },
     "execution_count": 127,
     "metadata": {},
     "output_type": "execute_result"
    }
   ],
   "source": [
    "future_code = str('CCMc2 ')*len(CCMc2_search_result)\n",
    "future_code2 = future_code.split(' ')\n",
    "CCMc2_search_result['Future_code'] = future_code2[0:-1]\n",
    "CCMc2_search_result\n",
    "\n",
    "future_code = str('CCMc3 ')*len(CCMc3_search_result)\n",
    "future_code2 = future_code.split(' ')\n",
    "CCMc3_search_result['Future_code'] = future_code2[0:-1]\n",
    "CCMc3_search_result\n",
    "\n",
    "future_code = str('CCMc1 ')*len(CCMc1_search_result)\n",
    "future_code2 = future_code.split(' ')\n",
    "CCMc1_search_result['Future_code'] = future_code2[0:-1]\n",
    "CCMc1_search_result"
   ]
  },
  {
   "cell_type": "markdown",
   "id": "1fb85829",
   "metadata": {},
   "source": [
    "**Soja**"
   ]
  },
  {
   "cell_type": "code",
   "execution_count": 128,
   "id": "53046f73",
   "metadata": {},
   "outputs": [
    {
     "name": "stdout",
     "output_type": "stream",
     "text": [
      "{\"id_\": 964523, \"name\": \"US Soybeans Futures\", \"symbol\": \"SJCc1\", \"country\": null, \"tag\": \"/commodities/us-soybeans?cid=964523\", \"pair_type\": \"commodities\", \"exchange\": \"BM&FBovespa\"}\n"
     ]
    }
   ],
   "source": [
    "search_results = investpy.search_quotes(text = 'soybeans', products = ['commodities'], countries= ['brazil'], n_results= 10)\n",
    "\n",
    "for search_result in search_results:\n",
    "  print(search_result)"
   ]
  },
  {
   "cell_type": "code",
   "execution_count": 129,
   "id": "56b7e79d",
   "metadata": {},
   "outputs": [
    {
     "data": {
      "text/html": [
       "<div>\n",
       "<style scoped>\n",
       "    .dataframe tbody tr th:only-of-type {\n",
       "        vertical-align: middle;\n",
       "    }\n",
       "\n",
       "    .dataframe tbody tr th {\n",
       "        vertical-align: top;\n",
       "    }\n",
       "\n",
       "    .dataframe thead th {\n",
       "        text-align: right;\n",
       "    }\n",
       "</style>\n",
       "<table border=\"1\" class=\"dataframe\">\n",
       "  <thead>\n",
       "    <tr style=\"text-align: right;\">\n",
       "      <th></th>\n",
       "      <th>Open</th>\n",
       "      <th>High</th>\n",
       "      <th>Low</th>\n",
       "      <th>Close</th>\n",
       "      <th>Volume</th>\n",
       "      <th>Change Pct</th>\n",
       "      <th>Future_code</th>\n",
       "    </tr>\n",
       "    <tr>\n",
       "      <th>Date</th>\n",
       "      <th></th>\n",
       "      <th></th>\n",
       "      <th></th>\n",
       "      <th></th>\n",
       "      <th></th>\n",
       "      <th></th>\n",
       "      <th></th>\n",
       "    </tr>\n",
       "  </thead>\n",
       "  <tbody>\n",
       "    <tr>\n",
       "      <th>2022-04-25</th>\n",
       "      <td>37.36</td>\n",
       "      <td>37.64</td>\n",
       "      <td>37.18</td>\n",
       "      <td>37.51</td>\n",
       "      <td>311</td>\n",
       "      <td>-0.98</td>\n",
       "      <td>Soja_SJCc1</td>\n",
       "    </tr>\n",
       "    <tr>\n",
       "      <th>2022-04-26</th>\n",
       "      <td>37.84</td>\n",
       "      <td>38.08</td>\n",
       "      <td>37.31</td>\n",
       "      <td>37.59</td>\n",
       "      <td>574</td>\n",
       "      <td>0.21</td>\n",
       "      <td>Soja_SJCc1</td>\n",
       "    </tr>\n",
       "    <tr>\n",
       "      <th>2022-04-27</th>\n",
       "      <td>37.91</td>\n",
       "      <td>38.23</td>\n",
       "      <td>37.39</td>\n",
       "      <td>37.39</td>\n",
       "      <td>299</td>\n",
       "      <td>-0.53</td>\n",
       "      <td>Soja_SJCc1</td>\n",
       "    </tr>\n",
       "    <tr>\n",
       "      <th>2022-04-28</th>\n",
       "      <td>37.32</td>\n",
       "      <td>37.40</td>\n",
       "      <td>37.07</td>\n",
       "      <td>37.10</td>\n",
       "      <td>147</td>\n",
       "      <td>-0.78</td>\n",
       "      <td>Soja_SJCc1</td>\n",
       "    </tr>\n",
       "    <tr>\n",
       "      <th>2022-04-29</th>\n",
       "      <td>37.27</td>\n",
       "      <td>37.55</td>\n",
       "      <td>37.15</td>\n",
       "      <td>37.16</td>\n",
       "      <td>306</td>\n",
       "      <td>0.16</td>\n",
       "      <td>Soja_SJCc1</td>\n",
       "    </tr>\n",
       "  </tbody>\n",
       "</table>\n",
       "</div>"
      ],
      "text/plain": [
       "             Open   High    Low  Close  Volume  Change Pct Future_code\n",
       "Date                                                                  \n",
       "2022-04-25  37.36  37.64  37.18  37.51     311       -0.98  Soja_SJCc1\n",
       "2022-04-26  37.84  38.08  37.31  37.59     574        0.21  Soja_SJCc1\n",
       "2022-04-27  37.91  38.23  37.39  37.39     299       -0.53  Soja_SJCc1\n",
       "2022-04-28  37.32  37.40  37.07  37.10     147       -0.78  Soja_SJCc1\n",
       "2022-04-29  37.27  37.55  37.15  37.16     306        0.16  Soja_SJCc1"
      ]
     },
     "execution_count": 129,
     "metadata": {},
     "output_type": "execute_result"
    }
   ],
   "source": [
    "SJCc1_search_result = search_results[0].retrieve_historical_data(from_date=dia_segunda, to_date=dia_sexta)\n",
    "future_code = str('Soja_SJCc1 ')*len(SJCc1_search_result)\n",
    "future_code2 = future_code.split(' ')\n",
    "SJCc1_search_result['Future_code'] = future_code2[0:-1]\n",
    "SJCc1_search_result"
   ]
  },
  {
   "cell_type": "markdown",
   "id": "81e6f5cf",
   "metadata": {},
   "source": [
    "**Organização dados - *Futuros, moedas e commodities***"
   ]
  },
  {
   "cell_type": "code",
   "execution_count": 130,
   "id": "4c1f9d07",
   "metadata": {},
   "outputs": [
    {
     "data": {
      "text/html": [
       "<div>\n",
       "<style scoped>\n",
       "    .dataframe tbody tr th:only-of-type {\n",
       "        vertical-align: middle;\n",
       "    }\n",
       "\n",
       "    .dataframe tbody tr th {\n",
       "        vertical-align: top;\n",
       "    }\n",
       "\n",
       "    .dataframe thead th {\n",
       "        text-align: right;\n",
       "    }\n",
       "</style>\n",
       "<table border=\"1\" class=\"dataframe\">\n",
       "  <thead>\n",
       "    <tr style=\"text-align: right;\">\n",
       "      <th></th>\n",
       "      <th>Open</th>\n",
       "      <th>High</th>\n",
       "      <th>Low</th>\n",
       "      <th>Close</th>\n",
       "      <th>Volume</th>\n",
       "      <th>Change Pct</th>\n",
       "      <th>Future_code</th>\n",
       "    </tr>\n",
       "    <tr>\n",
       "      <th>Date</th>\n",
       "      <th></th>\n",
       "      <th></th>\n",
       "      <th></th>\n",
       "      <th></th>\n",
       "      <th></th>\n",
       "      <th></th>\n",
       "      <th></th>\n",
       "    </tr>\n",
       "  </thead>\n",
       "  <tbody>\n",
       "    <tr>\n",
       "      <th>2022-04-25</th>\n",
       "      <td>111450.0000</td>\n",
       "      <td>112860.0000</td>\n",
       "      <td>110840.0000</td>\n",
       "      <td>112449.0000</td>\n",
       "      <td>176310.0</td>\n",
       "      <td>-0.17</td>\n",
       "      <td>iBovespa_Futures</td>\n",
       "    </tr>\n",
       "    <tr>\n",
       "      <th>2022-04-26</th>\n",
       "      <td>112430.0000</td>\n",
       "      <td>112430.0000</td>\n",
       "      <td>109235.0000</td>\n",
       "      <td>109675.0000</td>\n",
       "      <td>195285.0</td>\n",
       "      <td>-2.47</td>\n",
       "      <td>iBovespa_Futures</td>\n",
       "    </tr>\n",
       "    <tr>\n",
       "      <th>2022-04-27</th>\n",
       "      <td>110500.0000</td>\n",
       "      <td>111700.0000</td>\n",
       "      <td>110485.0000</td>\n",
       "      <td>110917.0000</td>\n",
       "      <td>174730.0</td>\n",
       "      <td>1.13</td>\n",
       "      <td>iBovespa_Futures</td>\n",
       "    </tr>\n",
       "    <tr>\n",
       "      <th>2022-04-28</th>\n",
       "      <td>111934.0000</td>\n",
       "      <td>112262.0000</td>\n",
       "      <td>110338.0000</td>\n",
       "      <td>111094.0000</td>\n",
       "      <td>0.0</td>\n",
       "      <td>0.16</td>\n",
       "      <td>iBovespa_Futures</td>\n",
       "    </tr>\n",
       "    <tr>\n",
       "      <th>2022-04-29</th>\n",
       "      <td>111280.0000</td>\n",
       "      <td>113338.0000</td>\n",
       "      <td>108512.0000</td>\n",
       "      <td>108872.0000</td>\n",
       "      <td>0.0</td>\n",
       "      <td>-2.00</td>\n",
       "      <td>iBovespa_Futures</td>\n",
       "    </tr>\n",
       "    <tr>\n",
       "      <th>2022-04-25</th>\n",
       "      <td>4.8815</td>\n",
       "      <td>4.8815</td>\n",
       "      <td>4.8815</td>\n",
       "      <td>4.8815</td>\n",
       "      <td>NaN</td>\n",
       "      <td>3.15</td>\n",
       "      <td>USD_BRL</td>\n",
       "    </tr>\n",
       "    <tr>\n",
       "      <th>2022-04-26</th>\n",
       "      <td>4.9663</td>\n",
       "      <td>4.9663</td>\n",
       "      <td>4.9663</td>\n",
       "      <td>4.9663</td>\n",
       "      <td>NaN</td>\n",
       "      <td>1.74</td>\n",
       "      <td>USD_BRL</td>\n",
       "    </tr>\n",
       "    <tr>\n",
       "      <th>2022-04-27</th>\n",
       "      <td>5.0164</td>\n",
       "      <td>5.0164</td>\n",
       "      <td>5.0164</td>\n",
       "      <td>5.0164</td>\n",
       "      <td>NaN</td>\n",
       "      <td>1.01</td>\n",
       "      <td>USD_BRL</td>\n",
       "    </tr>\n",
       "    <tr>\n",
       "      <th>2022-04-28</th>\n",
       "      <td>5.0107</td>\n",
       "      <td>5.0107</td>\n",
       "      <td>5.0107</td>\n",
       "      <td>5.0107</td>\n",
       "      <td>NaN</td>\n",
       "      <td>-0.11</td>\n",
       "      <td>USD_BRL</td>\n",
       "    </tr>\n",
       "    <tr>\n",
       "      <th>2022-04-29</th>\n",
       "      <td>4.9188</td>\n",
       "      <td>4.9188</td>\n",
       "      <td>4.9188</td>\n",
       "      <td>4.9188</td>\n",
       "      <td>NaN</td>\n",
       "      <td>-1.83</td>\n",
       "      <td>USD_BRL</td>\n",
       "    </tr>\n",
       "  </tbody>\n",
       "</table>\n",
       "</div>"
      ],
      "text/plain": [
       "                   Open         High          Low        Close    Volume  \\\n",
       "Date                                                                       \n",
       "2022-04-25  111450.0000  112860.0000  110840.0000  112449.0000  176310.0   \n",
       "2022-04-26  112430.0000  112430.0000  109235.0000  109675.0000  195285.0   \n",
       "2022-04-27  110500.0000  111700.0000  110485.0000  110917.0000  174730.0   \n",
       "2022-04-28  111934.0000  112262.0000  110338.0000  111094.0000       0.0   \n",
       "2022-04-29  111280.0000  113338.0000  108512.0000  108872.0000       0.0   \n",
       "2022-04-25       4.8815       4.8815       4.8815       4.8815       NaN   \n",
       "2022-04-26       4.9663       4.9663       4.9663       4.9663       NaN   \n",
       "2022-04-27       5.0164       5.0164       5.0164       5.0164       NaN   \n",
       "2022-04-28       5.0107       5.0107       5.0107       5.0107       NaN   \n",
       "2022-04-29       4.9188       4.9188       4.9188       4.9188       NaN   \n",
       "\n",
       "            Change Pct       Future_code  \n",
       "Date                                      \n",
       "2022-04-25       -0.17  iBovespa_Futures  \n",
       "2022-04-26       -2.47  iBovespa_Futures  \n",
       "2022-04-27        1.13  iBovespa_Futures  \n",
       "2022-04-28        0.16  iBovespa_Futures  \n",
       "2022-04-29       -2.00  iBovespa_Futures  \n",
       "2022-04-25        3.15           USD_BRL  \n",
       "2022-04-26        1.74           USD_BRL  \n",
       "2022-04-27        1.01           USD_BRL  \n",
       "2022-04-28       -0.11           USD_BRL  \n",
       "2022-04-29       -1.83           USD_BRL  "
      ]
     },
     "execution_count": 130,
     "metadata": {},
     "output_type": "execute_result"
    }
   ],
   "source": [
    "future_data = pd.concat([IBOV_future_search_results, USD_BRL_search_result, EUR_BRL_search_result, USD_EUR_search_result, Gold_Futures_search_result, Crude_Oil_WTI_search_result,\n",
    "                         BGIc1_search_result, ICFc1_search_result, CCMc1_search_result, SJCc1_search_result],axis=0)\n",
    "\n",
    "future_data.head(10)"
   ]
  },
  {
   "cell_type": "code",
   "execution_count": 131,
   "id": "95214f0e",
   "metadata": {},
   "outputs": [
    {
     "name": "stdout",
     "output_type": "stream",
     "text": [
      "2022-04-25\n",
      "2022-04-29\n"
     ]
    }
   ],
   "source": [
    "# Aqui precisa alterar o formato da estrutura de data seguindo o dataframe\n",
    "\n",
    "dia_sexta = datetime.now(pytz.timezone(\"America/Sao_Paulo\"))\n",
    "dia_segunda = datetime.now(pytz.timezone(\"America/Sao_Paulo\")) - timedelta(days=4)\n",
    "dia_segunda = dia_segunda.strftime('%Y-%m-%d')\n",
    "dia_sexta = dia_sexta.strftime('%Y-%m-%d')\n",
    "print(dia_segunda)\n",
    "print(dia_sexta)"
   ]
  },
  {
   "cell_type": "code",
   "execution_count": 132,
   "id": "0f723459",
   "metadata": {},
   "outputs": [
    {
     "data": {
      "text/html": [
       "<div>\n",
       "<style scoped>\n",
       "    .dataframe tbody tr th:only-of-type {\n",
       "        vertical-align: middle;\n",
       "    }\n",
       "\n",
       "    .dataframe tbody tr th {\n",
       "        vertical-align: top;\n",
       "    }\n",
       "\n",
       "    .dataframe thead th {\n",
       "        text-align: right;\n",
       "    }\n",
       "</style>\n",
       "<table border=\"1\" class=\"dataframe\">\n",
       "  <thead>\n",
       "    <tr style=\"text-align: right;\">\n",
       "      <th></th>\n",
       "      <th>Open_x</th>\n",
       "      <th>High_x</th>\n",
       "      <th>Low_x</th>\n",
       "      <th>Close_x</th>\n",
       "      <th>Volume_x</th>\n",
       "      <th>Change Pct_x</th>\n",
       "      <th>Future_code</th>\n",
       "      <th>Open_y</th>\n",
       "      <th>High_y</th>\n",
       "      <th>Low_y</th>\n",
       "      <th>Close_y</th>\n",
       "      <th>Volume_y</th>\n",
       "      <th>Change Pct_y</th>\n",
       "      <th>Resultado_%</th>\n",
       "    </tr>\n",
       "  </thead>\n",
       "  <tbody>\n",
       "    <tr>\n",
       "      <th>0</th>\n",
       "      <td>111450.0000</td>\n",
       "      <td>112860.0000</td>\n",
       "      <td>110840.0000</td>\n",
       "      <td>112449.0000</td>\n",
       "      <td>176310.0</td>\n",
       "      <td>-0.17</td>\n",
       "      <td>iBovespa_Futures</td>\n",
       "      <td>111280.0000</td>\n",
       "      <td>113338.0000</td>\n",
       "      <td>108512.0000</td>\n",
       "      <td>108872.0000</td>\n",
       "      <td>0.0</td>\n",
       "      <td>-2.00</td>\n",
       "      <td>-2.313145</td>\n",
       "    </tr>\n",
       "    <tr>\n",
       "      <th>1</th>\n",
       "      <td>4.8815</td>\n",
       "      <td>4.8815</td>\n",
       "      <td>4.8815</td>\n",
       "      <td>4.8815</td>\n",
       "      <td>NaN</td>\n",
       "      <td>3.15</td>\n",
       "      <td>USD_BRL</td>\n",
       "      <td>4.9188</td>\n",
       "      <td>4.9188</td>\n",
       "      <td>4.9188</td>\n",
       "      <td>4.9188</td>\n",
       "      <td>NaN</td>\n",
       "      <td>-1.83</td>\n",
       "      <td>0.764109</td>\n",
       "    </tr>\n",
       "    <tr>\n",
       "      <th>2</th>\n",
       "      <td>5.1985</td>\n",
       "      <td>5.2979</td>\n",
       "      <td>5.1337</td>\n",
       "      <td>5.2233</td>\n",
       "      <td>NaN</td>\n",
       "      <td>0.95</td>\n",
       "      <td>EUR_BRL</td>\n",
       "      <td>5.1879</td>\n",
       "      <td>5.2512</td>\n",
       "      <td>5.1152</td>\n",
       "      <td>5.2442</td>\n",
       "      <td>NaN</td>\n",
       "      <td>1.09</td>\n",
       "      <td>0.879100</td>\n",
       "    </tr>\n",
       "    <tr>\n",
       "      <th>3</th>\n",
       "      <td>0.9224</td>\n",
       "      <td>0.9349</td>\n",
       "      <td>0.9223</td>\n",
       "      <td>0.9333</td>\n",
       "      <td>NaN</td>\n",
       "      <td>0.76</td>\n",
       "      <td>USD_EUR</td>\n",
       "      <td>0.9520</td>\n",
       "      <td>0.9521</td>\n",
       "      <td>0.9441</td>\n",
       "      <td>0.9485</td>\n",
       "      <td>NaN</td>\n",
       "      <td>-0.38</td>\n",
       "      <td>2.829575</td>\n",
       "    </tr>\n",
       "    <tr>\n",
       "      <th>4</th>\n",
       "      <td>1931.9000</td>\n",
       "      <td>1935.5000</td>\n",
       "      <td>1891.8000</td>\n",
       "      <td>1896.0000</td>\n",
       "      <td>231494.0</td>\n",
       "      <td>-1.98</td>\n",
       "      <td>Gold_Futures_ZG</td>\n",
       "      <td>1895.5400</td>\n",
       "      <td>1921.0500</td>\n",
       "      <td>1894.5700</td>\n",
       "      <td>1896.8500</td>\n",
       "      <td>0.0</td>\n",
       "      <td>0.29</td>\n",
       "      <td>-1.814276</td>\n",
       "    </tr>\n",
       "    <tr>\n",
       "      <th>5</th>\n",
       "      <td>101.3800</td>\n",
       "      <td>101.5500</td>\n",
       "      <td>95.2800</td>\n",
       "      <td>98.5400</td>\n",
       "      <td>328153.0</td>\n",
       "      <td>-1.98</td>\n",
       "      <td>Crude_Oil_WTI_Futures</td>\n",
       "      <td>105.0500</td>\n",
       "      <td>107.9700</td>\n",
       "      <td>103.7800</td>\n",
       "      <td>104.2400</td>\n",
       "      <td>0.0</td>\n",
       "      <td>-0.74</td>\n",
       "      <td>2.821069</td>\n",
       "    </tr>\n",
       "    <tr>\n",
       "      <th>6</th>\n",
       "      <td>329.4500</td>\n",
       "      <td>331.5000</td>\n",
       "      <td>327.6000</td>\n",
       "      <td>330.5500</td>\n",
       "      <td>166.0</td>\n",
       "      <td>0.32</td>\n",
       "      <td>BGIc1</td>\n",
       "      <td>326.0000</td>\n",
       "      <td>327.2000</td>\n",
       "      <td>321.6000</td>\n",
       "      <td>322.0500</td>\n",
       "      <td>97.0</td>\n",
       "      <td>-1.30</td>\n",
       "      <td>-2.246168</td>\n",
       "    </tr>\n",
       "    <tr>\n",
       "      <th>7</th>\n",
       "      <td>273.5000</td>\n",
       "      <td>273.5000</td>\n",
       "      <td>271.0500</td>\n",
       "      <td>272.5000</td>\n",
       "      <td>1.0</td>\n",
       "      <td>-0.93</td>\n",
       "      <td>ICFc1</td>\n",
       "      <td>268.0000</td>\n",
       "      <td>272.5000</td>\n",
       "      <td>268.0000</td>\n",
       "      <td>270.8500</td>\n",
       "      <td>13.0</td>\n",
       "      <td>2.21</td>\n",
       "      <td>-0.968921</td>\n",
       "    </tr>\n",
       "    <tr>\n",
       "      <th>8</th>\n",
       "      <td>92.3800</td>\n",
       "      <td>94.8500</td>\n",
       "      <td>92.0000</td>\n",
       "      <td>94.7900</td>\n",
       "      <td>1635.0</td>\n",
       "      <td>2.69</td>\n",
       "      <td>CCMc1</td>\n",
       "      <td>91.6400</td>\n",
       "      <td>92.8000</td>\n",
       "      <td>90.8700</td>\n",
       "      <td>91.9900</td>\n",
       "      <td>331.0</td>\n",
       "      <td>0.33</td>\n",
       "      <td>-0.422169</td>\n",
       "    </tr>\n",
       "    <tr>\n",
       "      <th>9</th>\n",
       "      <td>37.3600</td>\n",
       "      <td>37.6400</td>\n",
       "      <td>37.1800</td>\n",
       "      <td>37.5100</td>\n",
       "      <td>311.0</td>\n",
       "      <td>-0.98</td>\n",
       "      <td>Soja_SJCc1</td>\n",
       "      <td>37.2700</td>\n",
       "      <td>37.5500</td>\n",
       "      <td>37.1500</td>\n",
       "      <td>37.1600</td>\n",
       "      <td>306.0</td>\n",
       "      <td>0.16</td>\n",
       "      <td>-0.535332</td>\n",
       "    </tr>\n",
       "  </tbody>\n",
       "</table>\n",
       "</div>"
      ],
      "text/plain": [
       "        Open_x       High_x        Low_x      Close_x  Volume_x  Change Pct_x  \\\n",
       "0  111450.0000  112860.0000  110840.0000  112449.0000  176310.0         -0.17   \n",
       "1       4.8815       4.8815       4.8815       4.8815       NaN          3.15   \n",
       "2       5.1985       5.2979       5.1337       5.2233       NaN          0.95   \n",
       "3       0.9224       0.9349       0.9223       0.9333       NaN          0.76   \n",
       "4    1931.9000    1935.5000    1891.8000    1896.0000  231494.0         -1.98   \n",
       "5     101.3800     101.5500      95.2800      98.5400  328153.0         -1.98   \n",
       "6     329.4500     331.5000     327.6000     330.5500     166.0          0.32   \n",
       "7     273.5000     273.5000     271.0500     272.5000       1.0         -0.93   \n",
       "8      92.3800      94.8500      92.0000      94.7900    1635.0          2.69   \n",
       "9      37.3600      37.6400      37.1800      37.5100     311.0         -0.98   \n",
       "\n",
       "             Future_code       Open_y       High_y        Low_y      Close_y  \\\n",
       "0       iBovespa_Futures  111280.0000  113338.0000  108512.0000  108872.0000   \n",
       "1                USD_BRL       4.9188       4.9188       4.9188       4.9188   \n",
       "2                EUR_BRL       5.1879       5.2512       5.1152       5.2442   \n",
       "3                USD_EUR       0.9520       0.9521       0.9441       0.9485   \n",
       "4        Gold_Futures_ZG    1895.5400    1921.0500    1894.5700    1896.8500   \n",
       "5  Crude_Oil_WTI_Futures     105.0500     107.9700     103.7800     104.2400   \n",
       "6                  BGIc1     326.0000     327.2000     321.6000     322.0500   \n",
       "7                  ICFc1     268.0000     272.5000     268.0000     270.8500   \n",
       "8                  CCMc1      91.6400      92.8000      90.8700      91.9900   \n",
       "9             Soja_SJCc1      37.2700      37.5500      37.1500      37.1600   \n",
       "\n",
       "   Volume_y  Change Pct_y  Resultado_%  \n",
       "0       0.0         -2.00    -2.313145  \n",
       "1       NaN         -1.83     0.764109  \n",
       "2       NaN          1.09     0.879100  \n",
       "3       NaN         -0.38     2.829575  \n",
       "4       0.0          0.29    -1.814276  \n",
       "5       0.0         -0.74     2.821069  \n",
       "6      97.0         -1.30    -2.246168  \n",
       "7      13.0          2.21    -0.968921  \n",
       "8     331.0          0.33    -0.422169  \n",
       "9     306.0          0.16    -0.535332  "
      ]
     },
     "execution_count": 132,
     "metadata": {},
     "output_type": "execute_result"
    }
   ],
   "source": [
    "df_cotacoes_01 = (future_data.loc[dia_segunda])\n",
    "df_cotacoes_02 = (future_data.loc[dia_sexta])\n",
    "df_cotacoes_03 = pd.merge(df_cotacoes_01, df_cotacoes_02,on ='Future_code',how ='outer')\n",
    "df_cotacoes_03['Resultado_%'] = (df_cotacoes_03['Close_y'] - df_cotacoes_03['Open_x'])/df_cotacoes_03['Open_x']*100\n",
    "df_cotacoes_03"
   ]
  },
  {
   "cell_type": "markdown",
   "id": "7ad7f777",
   "metadata": {},
   "source": [
    "Nome portugues / Symbol / Fechamento sem / Resul %"
   ]
  },
  {
   "cell_type": "code",
   "execution_count": 133,
   "id": "3c2253fe",
   "metadata": {},
   "outputs": [
    {
     "data": {
      "text/plain": [
       "['iBovespa_Futures',\n",
       " 'USD_BRL',\n",
       " 'EUR_BRL',\n",
       " 'USD_EUR',\n",
       " 'Gold_Futures_ZG',\n",
       " 'Crude_Oil_WTI_Futures',\n",
       " 'BGIc1',\n",
       " 'ICFc1',\n",
       " 'CCMc1',\n",
       " 'Soja_SJCc1']"
      ]
     },
     "execution_count": 133,
     "metadata": {},
     "output_type": "execute_result"
    }
   ],
   "source": [
    "list(df_cotacoes_03['Future_code'])"
   ]
  },
  {
   "cell_type": "code",
   "execution_count": 134,
   "id": "d568af42",
   "metadata": {},
   "outputs": [],
   "source": [
    "df_cotacoes_04 = df_cotacoes_03[['Future_code','Open_x','Close_y','Resultado_%']]\n",
    "df_cotacoes_04 = df_cotacoes_04.rename({'Future_code':'Ticker','Open_x':'Abertura','Close_y':'Fechamento','Resultado_%':'Resultado_%'},axis=1)\n",
    "df_cotacoes_04 = df_cotacoes_04.replace('iBovespa_Futures', value='iBovespa_Futures').replace('Crude_Oil_WTI_Futures', value='Crude_Oil_WTI').replace('Soja_SJCc1', value='SJCc1').replace('Gold_Futures_ZG', value='Gold_ZG')\n",
    "df_cotacoes_04.index = ['Índice Futuro', 'Dolar','Euro','Dolar/Euro', 'Ouro', 'Petróleo', 'Boi gordo', 'Café', 'Milho', 'Soja']\n"
   ]
  },
  {
   "cell_type": "code",
   "execution_count": 135,
   "id": "dc037fa6",
   "metadata": {},
   "outputs": [
    {
     "data": {
      "text/html": [
       "<style type=\"text/css\">\n",
       "#T_57ec5_row0_col3 {\n",
       "  background-color: #c3553a;\n",
       "  color: #f1f1f1;\n",
       "}\n",
       "#T_57ec5_row1_col3 {\n",
       "  background-color: #c9decb;\n",
       "  color: #000000;\n",
       "}\n",
       "#T_57ec5_row2_col3 {\n",
       "  background-color: #c2d9c5;\n",
       "  color: #000000;\n",
       "}\n",
       "#T_57ec5_row3_col3, #T_57ec5_row5_col3 {\n",
       "  background-color: #398641;\n",
       "  color: #f1f1f1;\n",
       "}\n",
       "#T_57ec5_row4_col3 {\n",
       "  background-color: #cc735c;\n",
       "  color: #f1f1f1;\n",
       "}\n",
       "#T_57ec5_row6_col3 {\n",
       "  background-color: #c4593e;\n",
       "  color: #f1f1f1;\n",
       "}\n",
       "#T_57ec5_row7_col3 {\n",
       "  background-color: #dca699;\n",
       "  color: #000000;\n",
       "}\n",
       "#T_57ec5_row8_col3 {\n",
       "  background-color: #e6c9c1;\n",
       "  color: #000000;\n",
       "}\n",
       "#T_57ec5_row9_col3 {\n",
       "  background-color: #e4c1b9;\n",
       "  color: #000000;\n",
       "}\n",
       "</style>\n",
       "<table id=\"T_57ec5_\">\n",
       "  <thead>\n",
       "    <tr>\n",
       "      <th class=\"blank level0\" >&nbsp;</th>\n",
       "      <th class=\"col_heading level0 col0\" >Ticker</th>\n",
       "      <th class=\"col_heading level0 col1\" >Abertura</th>\n",
       "      <th class=\"col_heading level0 col2\" >Fechamento</th>\n",
       "      <th class=\"col_heading level0 col3\" >Resultado_%</th>\n",
       "    </tr>\n",
       "  </thead>\n",
       "  <tbody>\n",
       "    <tr>\n",
       "      <th id=\"T_57ec5_level0_row0\" class=\"row_heading level0 row0\" >Índice Futuro</th>\n",
       "      <td id=\"T_57ec5_row0_col0\" class=\"data row0 col0\" >iBovespa_Futures</td>\n",
       "      <td id=\"T_57ec5_row0_col1\" class=\"data row0 col1\" >111450.00</td>\n",
       "      <td id=\"T_57ec5_row0_col2\" class=\"data row0 col2\" >108872.00</td>\n",
       "      <td id=\"T_57ec5_row0_col3\" class=\"data row0 col3\" >-2.31</td>\n",
       "    </tr>\n",
       "    <tr>\n",
       "      <th id=\"T_57ec5_level0_row1\" class=\"row_heading level0 row1\" >Dolar</th>\n",
       "      <td id=\"T_57ec5_row1_col0\" class=\"data row1 col0\" >USD_BRL</td>\n",
       "      <td id=\"T_57ec5_row1_col1\" class=\"data row1 col1\" >4.88</td>\n",
       "      <td id=\"T_57ec5_row1_col2\" class=\"data row1 col2\" >4.92</td>\n",
       "      <td id=\"T_57ec5_row1_col3\" class=\"data row1 col3\" >0.76</td>\n",
       "    </tr>\n",
       "    <tr>\n",
       "      <th id=\"T_57ec5_level0_row2\" class=\"row_heading level0 row2\" >Euro</th>\n",
       "      <td id=\"T_57ec5_row2_col0\" class=\"data row2 col0\" >EUR_BRL</td>\n",
       "      <td id=\"T_57ec5_row2_col1\" class=\"data row2 col1\" >5.20</td>\n",
       "      <td id=\"T_57ec5_row2_col2\" class=\"data row2 col2\" >5.24</td>\n",
       "      <td id=\"T_57ec5_row2_col3\" class=\"data row2 col3\" >0.88</td>\n",
       "    </tr>\n",
       "    <tr>\n",
       "      <th id=\"T_57ec5_level0_row3\" class=\"row_heading level0 row3\" >Dolar/Euro</th>\n",
       "      <td id=\"T_57ec5_row3_col0\" class=\"data row3 col0\" >USD_EUR</td>\n",
       "      <td id=\"T_57ec5_row3_col1\" class=\"data row3 col1\" >0.92</td>\n",
       "      <td id=\"T_57ec5_row3_col2\" class=\"data row3 col2\" >0.95</td>\n",
       "      <td id=\"T_57ec5_row3_col3\" class=\"data row3 col3\" >2.83</td>\n",
       "    </tr>\n",
       "    <tr>\n",
       "      <th id=\"T_57ec5_level0_row4\" class=\"row_heading level0 row4\" >Ouro</th>\n",
       "      <td id=\"T_57ec5_row4_col0\" class=\"data row4 col0\" >Gold_ZG</td>\n",
       "      <td id=\"T_57ec5_row4_col1\" class=\"data row4 col1\" >1931.90</td>\n",
       "      <td id=\"T_57ec5_row4_col2\" class=\"data row4 col2\" >1896.85</td>\n",
       "      <td id=\"T_57ec5_row4_col3\" class=\"data row4 col3\" >-1.81</td>\n",
       "    </tr>\n",
       "    <tr>\n",
       "      <th id=\"T_57ec5_level0_row5\" class=\"row_heading level0 row5\" >Petróleo</th>\n",
       "      <td id=\"T_57ec5_row5_col0\" class=\"data row5 col0\" >Crude_Oil_WTI</td>\n",
       "      <td id=\"T_57ec5_row5_col1\" class=\"data row5 col1\" >101.38</td>\n",
       "      <td id=\"T_57ec5_row5_col2\" class=\"data row5 col2\" >104.24</td>\n",
       "      <td id=\"T_57ec5_row5_col3\" class=\"data row5 col3\" >2.82</td>\n",
       "    </tr>\n",
       "    <tr>\n",
       "      <th id=\"T_57ec5_level0_row6\" class=\"row_heading level0 row6\" >Boi gordo</th>\n",
       "      <td id=\"T_57ec5_row6_col0\" class=\"data row6 col0\" >BGIc1</td>\n",
       "      <td id=\"T_57ec5_row6_col1\" class=\"data row6 col1\" >329.45</td>\n",
       "      <td id=\"T_57ec5_row6_col2\" class=\"data row6 col2\" >322.05</td>\n",
       "      <td id=\"T_57ec5_row6_col3\" class=\"data row6 col3\" >-2.25</td>\n",
       "    </tr>\n",
       "    <tr>\n",
       "      <th id=\"T_57ec5_level0_row7\" class=\"row_heading level0 row7\" >Café</th>\n",
       "      <td id=\"T_57ec5_row7_col0\" class=\"data row7 col0\" >ICFc1</td>\n",
       "      <td id=\"T_57ec5_row7_col1\" class=\"data row7 col1\" >273.50</td>\n",
       "      <td id=\"T_57ec5_row7_col2\" class=\"data row7 col2\" >270.85</td>\n",
       "      <td id=\"T_57ec5_row7_col3\" class=\"data row7 col3\" >-0.97</td>\n",
       "    </tr>\n",
       "    <tr>\n",
       "      <th id=\"T_57ec5_level0_row8\" class=\"row_heading level0 row8\" >Milho</th>\n",
       "      <td id=\"T_57ec5_row8_col0\" class=\"data row8 col0\" >CCMc1</td>\n",
       "      <td id=\"T_57ec5_row8_col1\" class=\"data row8 col1\" >92.38</td>\n",
       "      <td id=\"T_57ec5_row8_col2\" class=\"data row8 col2\" >91.99</td>\n",
       "      <td id=\"T_57ec5_row8_col3\" class=\"data row8 col3\" >-0.42</td>\n",
       "    </tr>\n",
       "    <tr>\n",
       "      <th id=\"T_57ec5_level0_row9\" class=\"row_heading level0 row9\" >Soja</th>\n",
       "      <td id=\"T_57ec5_row9_col0\" class=\"data row9 col0\" >SJCc1</td>\n",
       "      <td id=\"T_57ec5_row9_col1\" class=\"data row9 col1\" >37.36</td>\n",
       "      <td id=\"T_57ec5_row9_col2\" class=\"data row9 col2\" >37.16</td>\n",
       "      <td id=\"T_57ec5_row9_col3\" class=\"data row9 col3\" >-0.54</td>\n",
       "    </tr>\n",
       "  </tbody>\n",
       "</table>\n"
      ],
      "text/plain": [
       "<pandas.io.formats.style.Styler at 0x18d14fa10a0>"
      ]
     },
     "execution_count": 135,
     "metadata": {},
     "output_type": "execute_result"
    }
   ],
   "source": [
    "cm = sns.diverging_palette(20,130, as_cmap=True)\n",
    "df_cotacoes_04.style.format('{:.2f}',subset=[\"Abertura\",\"Fechamento\",\"Resultado_%\"]).background_gradient(cmap=cm,subset=[\"Resultado_%\"])"
   ]
  },
  {
   "cell_type": "markdown",
   "id": "b840a85b",
   "metadata": {},
   "source": [
    "# **5. Criptomoedas**"
   ]
  },
  {
   "cell_type": "code",
   "execution_count": 75,
   "id": "8f490613",
   "metadata": {},
   "outputs": [],
   "source": [
    "client = Client()"
   ]
  },
  {
   "cell_type": "code",
   "execution_count": 76,
   "id": "ecd6c7ca",
   "metadata": {},
   "outputs": [
    {
     "name": "stdout",
     "output_type": "stream",
     "text": [
      "2022-04-25\n",
      "2022-04-29\n",
      "2022-04-30\n"
     ]
    }
   ],
   "source": [
    "# Manter o padrão para dia_sexta para nao mudar o código todo\n",
    "# NO CASO DE YFINANCE E BINANCE É PRECISO COLOCAR COMO SÁBADO\n",
    "\n",
    "dia_sexta = datetime.now(pytz.timezone(\"America/Sao_Paulo\"))\n",
    "dia_segunda = datetime.now(pytz.timezone(\"America/Sao_Paulo\")) - timedelta(days=4)\n",
    "dia_sabado = datetime.now(pytz.timezone(\"America/Sao_Paulo\")) + timedelta(days=1)\n",
    "dia_segunda = dia_segunda.strftime('%Y-%m-%d')\n",
    "dia_sexta = dia_sexta.strftime('%Y-%m-%d')\n",
    "dia_sabado = dia_sabado.strftime('%Y-%m-%d')\n",
    "print(dia_segunda)\n",
    "print(dia_sexta)\n",
    "print(dia_sabado)"
   ]
  },
  {
   "cell_type": "code",
   "execution_count": 77,
   "id": "c19e5ab3",
   "metadata": {},
   "outputs": [],
   "source": [
    "start_str = dia_segunda\n",
    "end_str = dia_sabado"
   ]
  },
  {
   "cell_type": "code",
   "execution_count": 78,
   "id": "c314eadf",
   "metadata": {},
   "outputs": [
    {
     "data": {
      "text/html": [
       "<div>\n",
       "<style scoped>\n",
       "    .dataframe tbody tr th:only-of-type {\n",
       "        vertical-align: middle;\n",
       "    }\n",
       "\n",
       "    .dataframe tbody tr th {\n",
       "        vertical-align: top;\n",
       "    }\n",
       "\n",
       "    .dataframe thead th {\n",
       "        text-align: right;\n",
       "    }\n",
       "</style>\n",
       "<table border=\"1\" class=\"dataframe\">\n",
       "  <thead>\n",
       "    <tr style=\"text-align: right;\">\n",
       "      <th></th>\n",
       "      <th>open</th>\n",
       "      <th>high</th>\n",
       "      <th>low</th>\n",
       "      <th>close</th>\n",
       "      <th>Cripto_name</th>\n",
       "      <th>cripto_symbol</th>\n",
       "    </tr>\n",
       "    <tr>\n",
       "      <th>date</th>\n",
       "      <th></th>\n",
       "      <th></th>\n",
       "      <th></th>\n",
       "      <th></th>\n",
       "      <th></th>\n",
       "      <th></th>\n",
       "    </tr>\n",
       "  </thead>\n",
       "  <tbody>\n",
       "    <tr>\n",
       "      <th>2022-04-25 00:00:00</th>\n",
       "      <td>190625.0</td>\n",
       "      <td>190871.0</td>\n",
       "      <td>187200.0</td>\n",
       "      <td>187863.0</td>\n",
       "      <td>Bitcoin</td>\n",
       "      <td>BTCBRL</td>\n",
       "    </tr>\n",
       "    <tr>\n",
       "      <th>2022-04-25 01:00:00</th>\n",
       "      <td>187871.0</td>\n",
       "      <td>189210.0</td>\n",
       "      <td>187410.0</td>\n",
       "      <td>188956.0</td>\n",
       "      <td>Bitcoin</td>\n",
       "      <td>BTCBRL</td>\n",
       "    </tr>\n",
       "    <tr>\n",
       "      <th>2022-04-25 02:00:00</th>\n",
       "      <td>188943.0</td>\n",
       "      <td>189200.0</td>\n",
       "      <td>188375.0</td>\n",
       "      <td>189063.0</td>\n",
       "      <td>Bitcoin</td>\n",
       "      <td>BTCBRL</td>\n",
       "    </tr>\n",
       "    <tr>\n",
       "      <th>2022-04-25 03:00:00</th>\n",
       "      <td>188913.0</td>\n",
       "      <td>189889.0</td>\n",
       "      <td>188913.0</td>\n",
       "      <td>189756.0</td>\n",
       "      <td>Bitcoin</td>\n",
       "      <td>BTCBRL</td>\n",
       "    </tr>\n",
       "    <tr>\n",
       "      <th>2022-04-25 04:00:00</th>\n",
       "      <td>189696.0</td>\n",
       "      <td>189703.0</td>\n",
       "      <td>188831.0</td>\n",
       "      <td>189191.0</td>\n",
       "      <td>Bitcoin</td>\n",
       "      <td>BTCBRL</td>\n",
       "    </tr>\n",
       "    <tr>\n",
       "      <th>...</th>\n",
       "      <td>...</td>\n",
       "      <td>...</td>\n",
       "      <td>...</td>\n",
       "      <td>...</td>\n",
       "      <td>...</td>\n",
       "      <td>...</td>\n",
       "    </tr>\n",
       "    <tr>\n",
       "      <th>2022-04-29 17:00:00</th>\n",
       "      <td>191499.0</td>\n",
       "      <td>192399.0</td>\n",
       "      <td>191438.0</td>\n",
       "      <td>191750.0</td>\n",
       "      <td>Bitcoin</td>\n",
       "      <td>BTCBRL</td>\n",
       "    </tr>\n",
       "    <tr>\n",
       "      <th>2022-04-29 18:00:00</th>\n",
       "      <td>191690.0</td>\n",
       "      <td>191713.0</td>\n",
       "      <td>190650.0</td>\n",
       "      <td>191531.0</td>\n",
       "      <td>Bitcoin</td>\n",
       "      <td>BTCBRL</td>\n",
       "    </tr>\n",
       "    <tr>\n",
       "      <th>2022-04-29 19:00:00</th>\n",
       "      <td>191529.0</td>\n",
       "      <td>192165.0</td>\n",
       "      <td>190321.0</td>\n",
       "      <td>191000.0</td>\n",
       "      <td>Bitcoin</td>\n",
       "      <td>BTCBRL</td>\n",
       "    </tr>\n",
       "    <tr>\n",
       "      <th>2022-04-29 20:00:00</th>\n",
       "      <td>191116.0</td>\n",
       "      <td>192950.0</td>\n",
       "      <td>190904.0</td>\n",
       "      <td>192830.0</td>\n",
       "      <td>Bitcoin</td>\n",
       "      <td>BTCBRL</td>\n",
       "    </tr>\n",
       "    <tr>\n",
       "      <th>2022-04-29 21:00:00</th>\n",
       "      <td>192830.0</td>\n",
       "      <td>193279.0</td>\n",
       "      <td>192581.0</td>\n",
       "      <td>193010.0</td>\n",
       "      <td>Bitcoin</td>\n",
       "      <td>BTCBRL</td>\n",
       "    </tr>\n",
       "  </tbody>\n",
       "</table>\n",
       "<p>118 rows × 6 columns</p>\n",
       "</div>"
      ],
      "text/plain": [
       "                         open      high       low     close Cripto_name  \\\n",
       "date                                                                      \n",
       "2022-04-25 00:00:00  190625.0  190871.0  187200.0  187863.0     Bitcoin   \n",
       "2022-04-25 01:00:00  187871.0  189210.0  187410.0  188956.0     Bitcoin   \n",
       "2022-04-25 02:00:00  188943.0  189200.0  188375.0  189063.0     Bitcoin   \n",
       "2022-04-25 03:00:00  188913.0  189889.0  188913.0  189756.0     Bitcoin   \n",
       "2022-04-25 04:00:00  189696.0  189703.0  188831.0  189191.0     Bitcoin   \n",
       "...                       ...       ...       ...       ...         ...   \n",
       "2022-04-29 17:00:00  191499.0  192399.0  191438.0  191750.0     Bitcoin   \n",
       "2022-04-29 18:00:00  191690.0  191713.0  190650.0  191531.0     Bitcoin   \n",
       "2022-04-29 19:00:00  191529.0  192165.0  190321.0  191000.0     Bitcoin   \n",
       "2022-04-29 20:00:00  191116.0  192950.0  190904.0  192830.0     Bitcoin   \n",
       "2022-04-29 21:00:00  192830.0  193279.0  192581.0  193010.0     Bitcoin   \n",
       "\n",
       "                    cripto_symbol  \n",
       "date                               \n",
       "2022-04-25 00:00:00        BTCBRL  \n",
       "2022-04-25 01:00:00        BTCBRL  \n",
       "2022-04-25 02:00:00        BTCBRL  \n",
       "2022-04-25 03:00:00        BTCBRL  \n",
       "2022-04-25 04:00:00        BTCBRL  \n",
       "...                           ...  \n",
       "2022-04-29 17:00:00        BTCBRL  \n",
       "2022-04-29 18:00:00        BTCBRL  \n",
       "2022-04-29 19:00:00        BTCBRL  \n",
       "2022-04-29 20:00:00        BTCBRL  \n",
       "2022-04-29 21:00:00        BTCBRL  \n",
       "\n",
       "[118 rows x 6 columns]"
      ]
     },
     "execution_count": 78,
     "metadata": {},
     "output_type": "execute_result"
    }
   ],
   "source": [
    "# Bitcoin (BTC)\n",
    "\n",
    "cripto_name = 'Bitcoin'\n",
    "cripto_symbol = 'BTCBRL'\n",
    "btcbrl = client.get_historical_klines(symbol='BTCBRL', start_str=start_str, end_str=end_str, interval=Client.KLINE_INTERVAL_1HOUR)\n",
    "btcbrl_df = pd.DataFrame(btcbrl)\n",
    "btcbrl_df.rename(columns={0:'date',1:'open',2:'high',3:'low',4:'close'},inplace=True)\n",
    "btcbrl_df.set_index('date', inplace=True)\n",
    "btcbrl_df.index = pd.to_datetime(btcbrl_df.index,unit='ms')\n",
    "btcbrl_df = btcbrl_df.drop(btcbrl_df.columns[4:],axis=1)\n",
    "btcbrl_df['open'] = pd.to_numeric(btcbrl_df['open'])\n",
    "btcbrl_df['high'] = pd.to_numeric(btcbrl_df['high'])\n",
    "btcbrl_df['low'] = pd.to_numeric(btcbrl_df['low'])\n",
    "btcbrl_df['close'] = pd.to_numeric(btcbrl_df['close'])\n",
    "btcbrl_df['Cripto_name'] = cripto_name\n",
    "btcbrl_df['cripto_symbol'] = cripto_symbol\n",
    "btcbrl_df"
   ]
  },
  {
   "cell_type": "code",
   "execution_count": 79,
   "id": "2382494f",
   "metadata": {},
   "outputs": [
    {
     "data": {
      "text/html": [
       "<div>\n",
       "<style scoped>\n",
       "    .dataframe tbody tr th:only-of-type {\n",
       "        vertical-align: middle;\n",
       "    }\n",
       "\n",
       "    .dataframe tbody tr th {\n",
       "        vertical-align: top;\n",
       "    }\n",
       "\n",
       "    .dataframe thead th {\n",
       "        text-align: right;\n",
       "    }\n",
       "</style>\n",
       "<table border=\"1\" class=\"dataframe\">\n",
       "  <thead>\n",
       "    <tr style=\"text-align: right;\">\n",
       "      <th></th>\n",
       "      <th>open</th>\n",
       "      <th>high</th>\n",
       "      <th>low</th>\n",
       "      <th>close</th>\n",
       "      <th>Cripto_name</th>\n",
       "      <th>cripto_symbol</th>\n",
       "    </tr>\n",
       "    <tr>\n",
       "      <th>date</th>\n",
       "      <th></th>\n",
       "      <th></th>\n",
       "      <th></th>\n",
       "      <th></th>\n",
       "      <th></th>\n",
       "      <th></th>\n",
       "    </tr>\n",
       "  </thead>\n",
       "  <tbody>\n",
       "    <tr>\n",
       "      <th>2022-04-25 00:00:00</th>\n",
       "      <td>14116.88</td>\n",
       "      <td>14130.75</td>\n",
       "      <td>13790.00</td>\n",
       "      <td>13812.25</td>\n",
       "      <td>Ethereum</td>\n",
       "      <td>ETHBRL</td>\n",
       "    </tr>\n",
       "    <tr>\n",
       "      <th>2022-04-25 01:00:00</th>\n",
       "      <td>13811.31</td>\n",
       "      <td>13874.53</td>\n",
       "      <td>13747.40</td>\n",
       "      <td>13842.59</td>\n",
       "      <td>Ethereum</td>\n",
       "      <td>ETHBRL</td>\n",
       "    </tr>\n",
       "    <tr>\n",
       "      <th>2022-04-25 02:00:00</th>\n",
       "      <td>13841.46</td>\n",
       "      <td>13868.57</td>\n",
       "      <td>13794.76</td>\n",
       "      <td>13831.97</td>\n",
       "      <td>Ethereum</td>\n",
       "      <td>ETHBRL</td>\n",
       "    </tr>\n",
       "    <tr>\n",
       "      <th>2022-04-25 03:00:00</th>\n",
       "      <td>13828.12</td>\n",
       "      <td>13915.00</td>\n",
       "      <td>13828.12</td>\n",
       "      <td>13904.38</td>\n",
       "      <td>Ethereum</td>\n",
       "      <td>ETHBRL</td>\n",
       "    </tr>\n",
       "    <tr>\n",
       "      <th>2022-04-25 04:00:00</th>\n",
       "      <td>13901.32</td>\n",
       "      <td>13901.32</td>\n",
       "      <td>13836.02</td>\n",
       "      <td>13854.75</td>\n",
       "      <td>Ethereum</td>\n",
       "      <td>ETHBRL</td>\n",
       "    </tr>\n",
       "    <tr>\n",
       "      <th>...</th>\n",
       "      <td>...</td>\n",
       "      <td>...</td>\n",
       "      <td>...</td>\n",
       "      <td>...</td>\n",
       "      <td>...</td>\n",
       "      <td>...</td>\n",
       "    </tr>\n",
       "    <tr>\n",
       "      <th>2022-04-29 17:00:00</th>\n",
       "      <td>13996.28</td>\n",
       "      <td>14093.99</td>\n",
       "      <td>13965.65</td>\n",
       "      <td>14007.54</td>\n",
       "      <td>Ethereum</td>\n",
       "      <td>ETHBRL</td>\n",
       "    </tr>\n",
       "    <tr>\n",
       "      <th>2022-04-29 18:00:00</th>\n",
       "      <td>14007.54</td>\n",
       "      <td>14029.95</td>\n",
       "      <td>13919.00</td>\n",
       "      <td>13993.00</td>\n",
       "      <td>Ethereum</td>\n",
       "      <td>ETHBRL</td>\n",
       "    </tr>\n",
       "    <tr>\n",
       "      <th>2022-04-29 19:00:00</th>\n",
       "      <td>13999.06</td>\n",
       "      <td>14030.53</td>\n",
       "      <td>13850.00</td>\n",
       "      <td>13914.61</td>\n",
       "      <td>Ethereum</td>\n",
       "      <td>ETHBRL</td>\n",
       "    </tr>\n",
       "    <tr>\n",
       "      <th>2022-04-29 20:00:00</th>\n",
       "      <td>13916.29</td>\n",
       "      <td>14068.12</td>\n",
       "      <td>13899.22</td>\n",
       "      <td>14028.00</td>\n",
       "      <td>Ethereum</td>\n",
       "      <td>ETHBRL</td>\n",
       "    </tr>\n",
       "    <tr>\n",
       "      <th>2022-04-29 21:00:00</th>\n",
       "      <td>14030.83</td>\n",
       "      <td>14052.54</td>\n",
       "      <td>14006.61</td>\n",
       "      <td>14041.36</td>\n",
       "      <td>Ethereum</td>\n",
       "      <td>ETHBRL</td>\n",
       "    </tr>\n",
       "  </tbody>\n",
       "</table>\n",
       "<p>118 rows × 6 columns</p>\n",
       "</div>"
      ],
      "text/plain": [
       "                         open      high       low     close Cripto_name  \\\n",
       "date                                                                      \n",
       "2022-04-25 00:00:00  14116.88  14130.75  13790.00  13812.25    Ethereum   \n",
       "2022-04-25 01:00:00  13811.31  13874.53  13747.40  13842.59    Ethereum   \n",
       "2022-04-25 02:00:00  13841.46  13868.57  13794.76  13831.97    Ethereum   \n",
       "2022-04-25 03:00:00  13828.12  13915.00  13828.12  13904.38    Ethereum   \n",
       "2022-04-25 04:00:00  13901.32  13901.32  13836.02  13854.75    Ethereum   \n",
       "...                       ...       ...       ...       ...         ...   \n",
       "2022-04-29 17:00:00  13996.28  14093.99  13965.65  14007.54    Ethereum   \n",
       "2022-04-29 18:00:00  14007.54  14029.95  13919.00  13993.00    Ethereum   \n",
       "2022-04-29 19:00:00  13999.06  14030.53  13850.00  13914.61    Ethereum   \n",
       "2022-04-29 20:00:00  13916.29  14068.12  13899.22  14028.00    Ethereum   \n",
       "2022-04-29 21:00:00  14030.83  14052.54  14006.61  14041.36    Ethereum   \n",
       "\n",
       "                    cripto_symbol  \n",
       "date                               \n",
       "2022-04-25 00:00:00        ETHBRL  \n",
       "2022-04-25 01:00:00        ETHBRL  \n",
       "2022-04-25 02:00:00        ETHBRL  \n",
       "2022-04-25 03:00:00        ETHBRL  \n",
       "2022-04-25 04:00:00        ETHBRL  \n",
       "...                           ...  \n",
       "2022-04-29 17:00:00        ETHBRL  \n",
       "2022-04-29 18:00:00        ETHBRL  \n",
       "2022-04-29 19:00:00        ETHBRL  \n",
       "2022-04-29 20:00:00        ETHBRL  \n",
       "2022-04-29 21:00:00        ETHBRL  \n",
       "\n",
       "[118 rows x 6 columns]"
      ]
     },
     "execution_count": 79,
     "metadata": {},
     "output_type": "execute_result"
    }
   ],
   "source": [
    "# Ethereum (ETH)\n",
    "\n",
    "cripto_name = 'Ethereum'\n",
    "cripto_symbol = 'ETHBRL'\n",
    "ethbrl = client.get_historical_klines(symbol='ETHBRL', start_str=start_str, end_str=end_str, interval=Client.KLINE_INTERVAL_1HOUR)\n",
    "ethbrl_df = pd.DataFrame(ethbrl)\n",
    "ethbrl_df.rename(columns={0:'date',1:'open',2:'high',3:'low',4:'close'},inplace=True)\n",
    "ethbrl_df.set_index('date', inplace=True)\n",
    "ethbrl_df.index = pd.to_datetime(ethbrl_df.index,unit='ms')\n",
    "ethbrl_df = ethbrl_df.drop(ethbrl_df.columns[4:],axis=1)\n",
    "ethbrl_df['open'] = pd.to_numeric(ethbrl_df['open'])\n",
    "ethbrl_df['high'] = pd.to_numeric(ethbrl_df['high'])\n",
    "ethbrl_df['low'] = pd.to_numeric(ethbrl_df['low'])\n",
    "ethbrl_df['close'] = pd.to_numeric(ethbrl_df['close'])\n",
    "ethbrl_df['Cripto_name'] = cripto_name\n",
    "ethbrl_df['cripto_symbol'] = cripto_symbol\n",
    "ethbrl_df\n"
   ]
  },
  {
   "cell_type": "code",
   "execution_count": 80,
   "id": "99adc436",
   "metadata": {},
   "outputs": [
    {
     "data": {
      "text/html": [
       "<div>\n",
       "<style scoped>\n",
       "    .dataframe tbody tr th:only-of-type {\n",
       "        vertical-align: middle;\n",
       "    }\n",
       "\n",
       "    .dataframe tbody tr th {\n",
       "        vertical-align: top;\n",
       "    }\n",
       "\n",
       "    .dataframe thead th {\n",
       "        text-align: right;\n",
       "    }\n",
       "</style>\n",
       "<table border=\"1\" class=\"dataframe\">\n",
       "  <thead>\n",
       "    <tr style=\"text-align: right;\">\n",
       "      <th></th>\n",
       "      <th>open</th>\n",
       "      <th>high</th>\n",
       "      <th>low</th>\n",
       "      <th>close</th>\n",
       "      <th>Cripto_name</th>\n",
       "      <th>cripto_symbol</th>\n",
       "    </tr>\n",
       "    <tr>\n",
       "      <th>date</th>\n",
       "      <th></th>\n",
       "      <th></th>\n",
       "      <th></th>\n",
       "      <th></th>\n",
       "      <th></th>\n",
       "      <th></th>\n",
       "    </tr>\n",
       "  </thead>\n",
       "  <tbody>\n",
       "    <tr>\n",
       "      <th>2022-04-25 00:00:00</th>\n",
       "      <td>4.832</td>\n",
       "      <td>4.838</td>\n",
       "      <td>4.832</td>\n",
       "      <td>4.835</td>\n",
       "      <td>Tether USD</td>\n",
       "      <td>USDTBRL</td>\n",
       "    </tr>\n",
       "    <tr>\n",
       "      <th>2022-04-25 01:00:00</th>\n",
       "      <td>4.835</td>\n",
       "      <td>4.839</td>\n",
       "      <td>4.833</td>\n",
       "      <td>4.834</td>\n",
       "      <td>Tether USD</td>\n",
       "      <td>USDTBRL</td>\n",
       "    </tr>\n",
       "    <tr>\n",
       "      <th>2022-04-25 02:00:00</th>\n",
       "      <td>4.833</td>\n",
       "      <td>4.838</td>\n",
       "      <td>4.830</td>\n",
       "      <td>4.835</td>\n",
       "      <td>Tether USD</td>\n",
       "      <td>USDTBRL</td>\n",
       "    </tr>\n",
       "    <tr>\n",
       "      <th>2022-04-25 03:00:00</th>\n",
       "      <td>4.835</td>\n",
       "      <td>4.837</td>\n",
       "      <td>4.831</td>\n",
       "      <td>4.834</td>\n",
       "      <td>Tether USD</td>\n",
       "      <td>USDTBRL</td>\n",
       "    </tr>\n",
       "    <tr>\n",
       "      <th>2022-04-25 04:00:00</th>\n",
       "      <td>4.834</td>\n",
       "      <td>4.836</td>\n",
       "      <td>4.831</td>\n",
       "      <td>4.834</td>\n",
       "      <td>Tether USD</td>\n",
       "      <td>USDTBRL</td>\n",
       "    </tr>\n",
       "    <tr>\n",
       "      <th>...</th>\n",
       "      <td>...</td>\n",
       "      <td>...</td>\n",
       "      <td>...</td>\n",
       "      <td>...</td>\n",
       "      <td>...</td>\n",
       "      <td>...</td>\n",
       "    </tr>\n",
       "    <tr>\n",
       "      <th>2022-04-29 17:00:00</th>\n",
       "      <td>4.972</td>\n",
       "      <td>4.977</td>\n",
       "      <td>4.958</td>\n",
       "      <td>4.961</td>\n",
       "      <td>Tether USD</td>\n",
       "      <td>USDTBRL</td>\n",
       "    </tr>\n",
       "    <tr>\n",
       "      <th>2022-04-29 18:00:00</th>\n",
       "      <td>4.962</td>\n",
       "      <td>4.979</td>\n",
       "      <td>4.948</td>\n",
       "      <td>4.971</td>\n",
       "      <td>Tether USD</td>\n",
       "      <td>USDTBRL</td>\n",
       "    </tr>\n",
       "    <tr>\n",
       "      <th>2022-04-29 19:00:00</th>\n",
       "      <td>4.972</td>\n",
       "      <td>4.996</td>\n",
       "      <td>4.971</td>\n",
       "      <td>4.981</td>\n",
       "      <td>Tether USD</td>\n",
       "      <td>USDTBRL</td>\n",
       "    </tr>\n",
       "    <tr>\n",
       "      <th>2022-04-29 20:00:00</th>\n",
       "      <td>4.981</td>\n",
       "      <td>5.000</td>\n",
       "      <td>4.980</td>\n",
       "      <td>5.000</td>\n",
       "      <td>Tether USD</td>\n",
       "      <td>USDTBRL</td>\n",
       "    </tr>\n",
       "    <tr>\n",
       "      <th>2022-04-29 21:00:00</th>\n",
       "      <td>5.000</td>\n",
       "      <td>5.000</td>\n",
       "      <td>4.997</td>\n",
       "      <td>4.999</td>\n",
       "      <td>Tether USD</td>\n",
       "      <td>USDTBRL</td>\n",
       "    </tr>\n",
       "  </tbody>\n",
       "</table>\n",
       "<p>118 rows × 6 columns</p>\n",
       "</div>"
      ],
      "text/plain": [
       "                      open   high    low  close Cripto_name cripto_symbol\n",
       "date                                                                     \n",
       "2022-04-25 00:00:00  4.832  4.838  4.832  4.835  Tether USD       USDTBRL\n",
       "2022-04-25 01:00:00  4.835  4.839  4.833  4.834  Tether USD       USDTBRL\n",
       "2022-04-25 02:00:00  4.833  4.838  4.830  4.835  Tether USD       USDTBRL\n",
       "2022-04-25 03:00:00  4.835  4.837  4.831  4.834  Tether USD       USDTBRL\n",
       "2022-04-25 04:00:00  4.834  4.836  4.831  4.834  Tether USD       USDTBRL\n",
       "...                    ...    ...    ...    ...         ...           ...\n",
       "2022-04-29 17:00:00  4.972  4.977  4.958  4.961  Tether USD       USDTBRL\n",
       "2022-04-29 18:00:00  4.962  4.979  4.948  4.971  Tether USD       USDTBRL\n",
       "2022-04-29 19:00:00  4.972  4.996  4.971  4.981  Tether USD       USDTBRL\n",
       "2022-04-29 20:00:00  4.981  5.000  4.980  5.000  Tether USD       USDTBRL\n",
       "2022-04-29 21:00:00  5.000  5.000  4.997  4.999  Tether USD       USDTBRL\n",
       "\n",
       "[118 rows x 6 columns]"
      ]
     },
     "execution_count": 80,
     "metadata": {},
     "output_type": "execute_result"
    }
   ],
   "source": [
    "# Tether USD (USDT)\n",
    "\n",
    "cripto_name = 'Tether USD'\n",
    "cripto_symbol = 'USDTBRL'\n",
    "usdtbrl = client.get_historical_klines(symbol='USDTBRL', start_str=start_str, end_str=end_str, interval=Client.KLINE_INTERVAL_1HOUR)\n",
    "usdtbrl_df = pd.DataFrame(usdtbrl)\n",
    "usdtbrl_df.rename(columns={0:'date',1:'open',2:'high',3:'low',4:'close'},inplace=True)\n",
    "usdtbrl_df.set_index('date', inplace=True)\n",
    "usdtbrl_df.index = pd.to_datetime(usdtbrl_df.index,unit='ms')\n",
    "usdtbrl_df = usdtbrl_df.drop(usdtbrl_df.columns[4:],axis=1)\n",
    "usdtbrl_df['open'] = pd.to_numeric(usdtbrl_df['open'])\n",
    "usdtbrl_df['high'] = pd.to_numeric(usdtbrl_df['high'])\n",
    "usdtbrl_df['low'] = pd.to_numeric(usdtbrl_df['low'])\n",
    "usdtbrl_df['close'] = pd.to_numeric(usdtbrl_df['close'])\n",
    "usdtbrl_df['Cripto_name'] = cripto_name\n",
    "usdtbrl_df['cripto_symbol'] = cripto_symbol\n",
    "usdtbrl_df"
   ]
  },
  {
   "cell_type": "code",
   "execution_count": 81,
   "id": "6b06b6a0",
   "metadata": {},
   "outputs": [
    {
     "data": {
      "text/html": [
       "<div>\n",
       "<style scoped>\n",
       "    .dataframe tbody tr th:only-of-type {\n",
       "        vertical-align: middle;\n",
       "    }\n",
       "\n",
       "    .dataframe tbody tr th {\n",
       "        vertical-align: top;\n",
       "    }\n",
       "\n",
       "    .dataframe thead th {\n",
       "        text-align: right;\n",
       "    }\n",
       "</style>\n",
       "<table border=\"1\" class=\"dataframe\">\n",
       "  <thead>\n",
       "    <tr style=\"text-align: right;\">\n",
       "      <th></th>\n",
       "      <th>open</th>\n",
       "      <th>high</th>\n",
       "      <th>low</th>\n",
       "      <th>close</th>\n",
       "      <th>Cripto_name</th>\n",
       "      <th>cripto_symbol</th>\n",
       "    </tr>\n",
       "    <tr>\n",
       "      <th>date</th>\n",
       "      <th></th>\n",
       "      <th></th>\n",
       "      <th></th>\n",
       "      <th></th>\n",
       "      <th></th>\n",
       "      <th></th>\n",
       "    </tr>\n",
       "  </thead>\n",
       "  <tbody>\n",
       "    <tr>\n",
       "      <th>2022-04-25 00:00:00</th>\n",
       "      <td>1928.0</td>\n",
       "      <td>1930.0</td>\n",
       "      <td>1890.0</td>\n",
       "      <td>1894.0</td>\n",
       "      <td>BNB</td>\n",
       "      <td>BNBBRL</td>\n",
       "    </tr>\n",
       "    <tr>\n",
       "      <th>2022-04-25 01:00:00</th>\n",
       "      <td>1894.0</td>\n",
       "      <td>1904.0</td>\n",
       "      <td>1890.0</td>\n",
       "      <td>1901.0</td>\n",
       "      <td>BNB</td>\n",
       "      <td>BNBBRL</td>\n",
       "    </tr>\n",
       "    <tr>\n",
       "      <th>2022-04-25 02:00:00</th>\n",
       "      <td>1900.0</td>\n",
       "      <td>1905.0</td>\n",
       "      <td>1896.0</td>\n",
       "      <td>1905.0</td>\n",
       "      <td>BNB</td>\n",
       "      <td>BNBBRL</td>\n",
       "    </tr>\n",
       "    <tr>\n",
       "      <th>2022-04-25 03:00:00</th>\n",
       "      <td>1905.0</td>\n",
       "      <td>1915.0</td>\n",
       "      <td>1904.0</td>\n",
       "      <td>1915.0</td>\n",
       "      <td>BNB</td>\n",
       "      <td>BNBBRL</td>\n",
       "    </tr>\n",
       "    <tr>\n",
       "      <th>2022-04-25 04:00:00</th>\n",
       "      <td>1915.0</td>\n",
       "      <td>1915.0</td>\n",
       "      <td>1908.0</td>\n",
       "      <td>1910.0</td>\n",
       "      <td>BNB</td>\n",
       "      <td>BNBBRL</td>\n",
       "    </tr>\n",
       "    <tr>\n",
       "      <th>...</th>\n",
       "      <td>...</td>\n",
       "      <td>...</td>\n",
       "      <td>...</td>\n",
       "      <td>...</td>\n",
       "      <td>...</td>\n",
       "      <td>...</td>\n",
       "    </tr>\n",
       "    <tr>\n",
       "      <th>2022-04-29 17:00:00</th>\n",
       "      <td>1963.0</td>\n",
       "      <td>1974.0</td>\n",
       "      <td>1960.0</td>\n",
       "      <td>1963.0</td>\n",
       "      <td>BNB</td>\n",
       "      <td>BNBBRL</td>\n",
       "    </tr>\n",
       "    <tr>\n",
       "      <th>2022-04-29 18:00:00</th>\n",
       "      <td>1960.0</td>\n",
       "      <td>1962.0</td>\n",
       "      <td>1946.0</td>\n",
       "      <td>1958.0</td>\n",
       "      <td>BNB</td>\n",
       "      <td>BNBBRL</td>\n",
       "    </tr>\n",
       "    <tr>\n",
       "      <th>2022-04-29 19:00:00</th>\n",
       "      <td>1957.0</td>\n",
       "      <td>1964.0</td>\n",
       "      <td>1944.0</td>\n",
       "      <td>1950.0</td>\n",
       "      <td>BNB</td>\n",
       "      <td>BNBBRL</td>\n",
       "    </tr>\n",
       "    <tr>\n",
       "      <th>2022-04-29 20:00:00</th>\n",
       "      <td>1951.0</td>\n",
       "      <td>1970.0</td>\n",
       "      <td>1948.0</td>\n",
       "      <td>1966.0</td>\n",
       "      <td>BNB</td>\n",
       "      <td>BNBBRL</td>\n",
       "    </tr>\n",
       "    <tr>\n",
       "      <th>2022-04-29 21:00:00</th>\n",
       "      <td>1967.0</td>\n",
       "      <td>1970.0</td>\n",
       "      <td>1964.0</td>\n",
       "      <td>1969.0</td>\n",
       "      <td>BNB</td>\n",
       "      <td>BNBBRL</td>\n",
       "    </tr>\n",
       "  </tbody>\n",
       "</table>\n",
       "<p>118 rows × 6 columns</p>\n",
       "</div>"
      ],
      "text/plain": [
       "                       open    high     low   close Cripto_name cripto_symbol\n",
       "date                                                                         \n",
       "2022-04-25 00:00:00  1928.0  1930.0  1890.0  1894.0         BNB        BNBBRL\n",
       "2022-04-25 01:00:00  1894.0  1904.0  1890.0  1901.0         BNB        BNBBRL\n",
       "2022-04-25 02:00:00  1900.0  1905.0  1896.0  1905.0         BNB        BNBBRL\n",
       "2022-04-25 03:00:00  1905.0  1915.0  1904.0  1915.0         BNB        BNBBRL\n",
       "2022-04-25 04:00:00  1915.0  1915.0  1908.0  1910.0         BNB        BNBBRL\n",
       "...                     ...     ...     ...     ...         ...           ...\n",
       "2022-04-29 17:00:00  1963.0  1974.0  1960.0  1963.0         BNB        BNBBRL\n",
       "2022-04-29 18:00:00  1960.0  1962.0  1946.0  1958.0         BNB        BNBBRL\n",
       "2022-04-29 19:00:00  1957.0  1964.0  1944.0  1950.0         BNB        BNBBRL\n",
       "2022-04-29 20:00:00  1951.0  1970.0  1948.0  1966.0         BNB        BNBBRL\n",
       "2022-04-29 21:00:00  1967.0  1970.0  1964.0  1969.0         BNB        BNBBRL\n",
       "\n",
       "[118 rows x 6 columns]"
      ]
     },
     "execution_count": 81,
     "metadata": {},
     "output_type": "execute_result"
    }
   ],
   "source": [
    "# BNB (BNB)\n",
    "\n",
    "cripto_name = 'BNB'\n",
    "cripto_symbol = 'BNBBRL'\n",
    "bnbbrl = client.get_historical_klines(symbol='BNBBRL', start_str=start_str, end_str=end_str, interval=Client.KLINE_INTERVAL_1HOUR)\n",
    "bnbbrl_df = pd.DataFrame(bnbbrl)\n",
    "bnbbrl_df.rename(columns={0:'date',1:'open',2:'high',3:'low',4:'close'},inplace=True)\n",
    "bnbbrl_df.set_index('date', inplace=True)\n",
    "bnbbrl_df.index = pd.to_datetime(bnbbrl_df.index,unit='ms')\n",
    "bnbbrl_df = bnbbrl_df.drop(bnbbrl_df.columns[4:],axis=1)\n",
    "bnbbrl_df['open'] = pd.to_numeric(bnbbrl_df['open'])\n",
    "bnbbrl_df['high'] = pd.to_numeric(bnbbrl_df['high'])\n",
    "bnbbrl_df['low'] = pd.to_numeric(bnbbrl_df['low'])\n",
    "bnbbrl_df['close'] = pd.to_numeric(bnbbrl_df['close'])\n",
    "bnbbrl_df['Cripto_name'] = cripto_name\n",
    "bnbbrl_df['cripto_symbol'] = cripto_symbol\n",
    "bnbbrl_df"
   ]
  },
  {
   "cell_type": "code",
   "execution_count": 82,
   "id": "c323b028",
   "metadata": {},
   "outputs": [
    {
     "data": {
      "text/html": [
       "<div>\n",
       "<style scoped>\n",
       "    .dataframe tbody tr th:only-of-type {\n",
       "        vertical-align: middle;\n",
       "    }\n",
       "\n",
       "    .dataframe tbody tr th {\n",
       "        vertical-align: top;\n",
       "    }\n",
       "\n",
       "    .dataframe thead th {\n",
       "        text-align: right;\n",
       "    }\n",
       "</style>\n",
       "<table border=\"1\" class=\"dataframe\">\n",
       "  <thead>\n",
       "    <tr style=\"text-align: right;\">\n",
       "      <th></th>\n",
       "      <th>open</th>\n",
       "      <th>high</th>\n",
       "      <th>low</th>\n",
       "      <th>close</th>\n",
       "      <th>Cripto_name</th>\n",
       "      <th>cripto_symbol</th>\n",
       "    </tr>\n",
       "    <tr>\n",
       "      <th>date</th>\n",
       "      <th></th>\n",
       "      <th></th>\n",
       "      <th></th>\n",
       "      <th></th>\n",
       "      <th></th>\n",
       "      <th></th>\n",
       "    </tr>\n",
       "  </thead>\n",
       "  <tbody>\n",
       "    <tr>\n",
       "      <th>2022-04-25 00:00:00</th>\n",
       "      <td>436.4</td>\n",
       "      <td>437.1</td>\n",
       "      <td>419.9</td>\n",
       "      <td>424.2</td>\n",
       "      <td>Terra</td>\n",
       "      <td>LUNABRL</td>\n",
       "    </tr>\n",
       "    <tr>\n",
       "      <th>2022-04-25 01:00:00</th>\n",
       "      <td>424.0</td>\n",
       "      <td>432.5</td>\n",
       "      <td>424.0</td>\n",
       "      <td>432.3</td>\n",
       "      <td>Terra</td>\n",
       "      <td>LUNABRL</td>\n",
       "    </tr>\n",
       "    <tr>\n",
       "      <th>2022-04-25 02:00:00</th>\n",
       "      <td>431.6</td>\n",
       "      <td>433.2</td>\n",
       "      <td>430.0</td>\n",
       "      <td>431.2</td>\n",
       "      <td>Terra</td>\n",
       "      <td>LUNABRL</td>\n",
       "    </tr>\n",
       "    <tr>\n",
       "      <th>2022-04-25 03:00:00</th>\n",
       "      <td>433.0</td>\n",
       "      <td>441.1</td>\n",
       "      <td>431.6</td>\n",
       "      <td>440.3</td>\n",
       "      <td>Terra</td>\n",
       "      <td>LUNABRL</td>\n",
       "    </tr>\n",
       "    <tr>\n",
       "      <th>2022-04-25 04:00:00</th>\n",
       "      <td>439.7</td>\n",
       "      <td>440.6</td>\n",
       "      <td>432.4</td>\n",
       "      <td>440.6</td>\n",
       "      <td>Terra</td>\n",
       "      <td>LUNABRL</td>\n",
       "    </tr>\n",
       "    <tr>\n",
       "      <th>...</th>\n",
       "      <td>...</td>\n",
       "      <td>...</td>\n",
       "      <td>...</td>\n",
       "      <td>...</td>\n",
       "      <td>...</td>\n",
       "      <td>...</td>\n",
       "    </tr>\n",
       "    <tr>\n",
       "      <th>2022-04-29 17:00:00</th>\n",
       "      <td>428.7</td>\n",
       "      <td>429.3</td>\n",
       "      <td>422.8</td>\n",
       "      <td>425.2</td>\n",
       "      <td>Terra</td>\n",
       "      <td>LUNABRL</td>\n",
       "    </tr>\n",
       "    <tr>\n",
       "      <th>2022-04-29 18:00:00</th>\n",
       "      <td>424.7</td>\n",
       "      <td>425.0</td>\n",
       "      <td>418.1</td>\n",
       "      <td>422.1</td>\n",
       "      <td>Terra</td>\n",
       "      <td>LUNABRL</td>\n",
       "    </tr>\n",
       "    <tr>\n",
       "      <th>2022-04-29 19:00:00</th>\n",
       "      <td>421.8</td>\n",
       "      <td>424.5</td>\n",
       "      <td>418.4</td>\n",
       "      <td>422.6</td>\n",
       "      <td>Terra</td>\n",
       "      <td>LUNABRL</td>\n",
       "    </tr>\n",
       "    <tr>\n",
       "      <th>2022-04-29 20:00:00</th>\n",
       "      <td>424.9</td>\n",
       "      <td>429.0</td>\n",
       "      <td>422.3</td>\n",
       "      <td>428.2</td>\n",
       "      <td>Terra</td>\n",
       "      <td>LUNABRL</td>\n",
       "    </tr>\n",
       "    <tr>\n",
       "      <th>2022-04-29 21:00:00</th>\n",
       "      <td>426.6</td>\n",
       "      <td>428.0</td>\n",
       "      <td>426.6</td>\n",
       "      <td>428.0</td>\n",
       "      <td>Terra</td>\n",
       "      <td>LUNABRL</td>\n",
       "    </tr>\n",
       "  </tbody>\n",
       "</table>\n",
       "<p>118 rows × 6 columns</p>\n",
       "</div>"
      ],
      "text/plain": [
       "                      open   high    low  close Cripto_name cripto_symbol\n",
       "date                                                                     \n",
       "2022-04-25 00:00:00  436.4  437.1  419.9  424.2       Terra       LUNABRL\n",
       "2022-04-25 01:00:00  424.0  432.5  424.0  432.3       Terra       LUNABRL\n",
       "2022-04-25 02:00:00  431.6  433.2  430.0  431.2       Terra       LUNABRL\n",
       "2022-04-25 03:00:00  433.0  441.1  431.6  440.3       Terra       LUNABRL\n",
       "2022-04-25 04:00:00  439.7  440.6  432.4  440.6       Terra       LUNABRL\n",
       "...                    ...    ...    ...    ...         ...           ...\n",
       "2022-04-29 17:00:00  428.7  429.3  422.8  425.2       Terra       LUNABRL\n",
       "2022-04-29 18:00:00  424.7  425.0  418.1  422.1       Terra       LUNABRL\n",
       "2022-04-29 19:00:00  421.8  424.5  418.4  422.6       Terra       LUNABRL\n",
       "2022-04-29 20:00:00  424.9  429.0  422.3  428.2       Terra       LUNABRL\n",
       "2022-04-29 21:00:00  426.6  428.0  426.6  428.0       Terra       LUNABRL\n",
       "\n",
       "[118 rows x 6 columns]"
      ]
     },
     "execution_count": 82,
     "metadata": {},
     "output_type": "execute_result"
    }
   ],
   "source": [
    "# Terra (LUNA)\n",
    "\n",
    "cripto_name = 'Terra'\n",
    "cripto_symbol = 'LUNABRL'\n",
    "lunabrl = client.get_historical_klines(symbol='LUNABRL', start_str=start_str, end_str=end_str, interval=Client.KLINE_INTERVAL_1HOUR)\n",
    "lunabrl_df = pd.DataFrame(lunabrl)\n",
    "lunabrl_df.rename(columns={0:'date',1:'open',2:'high',3:'low',4:'close'},inplace=True)\n",
    "lunabrl_df.set_index('date', inplace=True)\n",
    "lunabrl_df.index = pd.to_datetime(lunabrl_df.index,unit='ms')\n",
    "lunabrl_df = lunabrl_df.drop(lunabrl_df.columns[4:],axis=1)\n",
    "lunabrl_df['open'] = pd.to_numeric(lunabrl_df['open'])\n",
    "lunabrl_df['high'] = pd.to_numeric(lunabrl_df['high'])\n",
    "lunabrl_df['low'] = pd.to_numeric(lunabrl_df['low'])\n",
    "lunabrl_df['close'] = pd.to_numeric(lunabrl_df['close'])\n",
    "lunabrl_df['Cripto_name'] = cripto_name\n",
    "lunabrl_df['cripto_symbol'] = cripto_symbol\n",
    "lunabrl_df"
   ]
  },
  {
   "cell_type": "code",
   "execution_count": 83,
   "id": "5691c8bc",
   "metadata": {},
   "outputs": [
    {
     "data": {
      "text/html": [
       "<div>\n",
       "<style scoped>\n",
       "    .dataframe tbody tr th:only-of-type {\n",
       "        vertical-align: middle;\n",
       "    }\n",
       "\n",
       "    .dataframe tbody tr th {\n",
       "        vertical-align: top;\n",
       "    }\n",
       "\n",
       "    .dataframe thead th {\n",
       "        text-align: right;\n",
       "    }\n",
       "</style>\n",
       "<table border=\"1\" class=\"dataframe\">\n",
       "  <thead>\n",
       "    <tr style=\"text-align: right;\">\n",
       "      <th></th>\n",
       "      <th>open</th>\n",
       "      <th>high</th>\n",
       "      <th>low</th>\n",
       "      <th>close</th>\n",
       "      <th>Cripto_name</th>\n",
       "      <th>cripto_symbol</th>\n",
       "    </tr>\n",
       "    <tr>\n",
       "      <th>date</th>\n",
       "      <th></th>\n",
       "      <th></th>\n",
       "      <th></th>\n",
       "      <th></th>\n",
       "      <th></th>\n",
       "      <th></th>\n",
       "    </tr>\n",
       "  </thead>\n",
       "  <tbody>\n",
       "    <tr>\n",
       "      <th>2022-04-25 00:00:00</th>\n",
       "      <td>480.0</td>\n",
       "      <td>480.2</td>\n",
       "      <td>466.0</td>\n",
       "      <td>469.1</td>\n",
       "      <td>Solana</td>\n",
       "      <td>SOLBRL</td>\n",
       "    </tr>\n",
       "    <tr>\n",
       "      <th>2022-04-25 01:00:00</th>\n",
       "      <td>467.3</td>\n",
       "      <td>472.4</td>\n",
       "      <td>465.3</td>\n",
       "      <td>471.2</td>\n",
       "      <td>Solana</td>\n",
       "      <td>SOLBRL</td>\n",
       "    </tr>\n",
       "    <tr>\n",
       "      <th>2022-04-25 02:00:00</th>\n",
       "      <td>471.5</td>\n",
       "      <td>471.6</td>\n",
       "      <td>468.0</td>\n",
       "      <td>470.5</td>\n",
       "      <td>Solana</td>\n",
       "      <td>SOLBRL</td>\n",
       "    </tr>\n",
       "    <tr>\n",
       "      <th>2022-04-25 03:00:00</th>\n",
       "      <td>470.6</td>\n",
       "      <td>474.2</td>\n",
       "      <td>470.6</td>\n",
       "      <td>474.0</td>\n",
       "      <td>Solana</td>\n",
       "      <td>SOLBRL</td>\n",
       "    </tr>\n",
       "    <tr>\n",
       "      <th>2022-04-25 04:00:00</th>\n",
       "      <td>474.2</td>\n",
       "      <td>474.4</td>\n",
       "      <td>472.4</td>\n",
       "      <td>472.9</td>\n",
       "      <td>Solana</td>\n",
       "      <td>SOLBRL</td>\n",
       "    </tr>\n",
       "    <tr>\n",
       "      <th>...</th>\n",
       "      <td>...</td>\n",
       "      <td>...</td>\n",
       "      <td>...</td>\n",
       "      <td>...</td>\n",
       "      <td>...</td>\n",
       "      <td>...</td>\n",
       "    </tr>\n",
       "    <tr>\n",
       "      <th>2022-04-29 17:00:00</th>\n",
       "      <td>472.7</td>\n",
       "      <td>473.4</td>\n",
       "      <td>468.9</td>\n",
       "      <td>471.3</td>\n",
       "      <td>Solana</td>\n",
       "      <td>SOLBRL</td>\n",
       "    </tr>\n",
       "    <tr>\n",
       "      <th>2022-04-29 18:00:00</th>\n",
       "      <td>470.3</td>\n",
       "      <td>471.2</td>\n",
       "      <td>464.0</td>\n",
       "      <td>466.3</td>\n",
       "      <td>Solana</td>\n",
       "      <td>SOLBRL</td>\n",
       "    </tr>\n",
       "    <tr>\n",
       "      <th>2022-04-29 19:00:00</th>\n",
       "      <td>466.7</td>\n",
       "      <td>468.1</td>\n",
       "      <td>461.1</td>\n",
       "      <td>463.6</td>\n",
       "      <td>Solana</td>\n",
       "      <td>SOLBRL</td>\n",
       "    </tr>\n",
       "    <tr>\n",
       "      <th>2022-04-29 20:00:00</th>\n",
       "      <td>462.6</td>\n",
       "      <td>468.4</td>\n",
       "      <td>461.7</td>\n",
       "      <td>468.1</td>\n",
       "      <td>Solana</td>\n",
       "      <td>SOLBRL</td>\n",
       "    </tr>\n",
       "    <tr>\n",
       "      <th>2022-04-29 21:00:00</th>\n",
       "      <td>468.7</td>\n",
       "      <td>471.6</td>\n",
       "      <td>468.7</td>\n",
       "      <td>471.1</td>\n",
       "      <td>Solana</td>\n",
       "      <td>SOLBRL</td>\n",
       "    </tr>\n",
       "  </tbody>\n",
       "</table>\n",
       "<p>118 rows × 6 columns</p>\n",
       "</div>"
      ],
      "text/plain": [
       "                      open   high    low  close Cripto_name cripto_symbol\n",
       "date                                                                     \n",
       "2022-04-25 00:00:00  480.0  480.2  466.0  469.1      Solana        SOLBRL\n",
       "2022-04-25 01:00:00  467.3  472.4  465.3  471.2      Solana        SOLBRL\n",
       "2022-04-25 02:00:00  471.5  471.6  468.0  470.5      Solana        SOLBRL\n",
       "2022-04-25 03:00:00  470.6  474.2  470.6  474.0      Solana        SOLBRL\n",
       "2022-04-25 04:00:00  474.2  474.4  472.4  472.9      Solana        SOLBRL\n",
       "...                    ...    ...    ...    ...         ...           ...\n",
       "2022-04-29 17:00:00  472.7  473.4  468.9  471.3      Solana        SOLBRL\n",
       "2022-04-29 18:00:00  470.3  471.2  464.0  466.3      Solana        SOLBRL\n",
       "2022-04-29 19:00:00  466.7  468.1  461.1  463.6      Solana        SOLBRL\n",
       "2022-04-29 20:00:00  462.6  468.4  461.7  468.1      Solana        SOLBRL\n",
       "2022-04-29 21:00:00  468.7  471.6  468.7  471.1      Solana        SOLBRL\n",
       "\n",
       "[118 rows x 6 columns]"
      ]
     },
     "execution_count": 83,
     "metadata": {},
     "output_type": "execute_result"
    }
   ],
   "source": [
    "# Solana (SOL)\n",
    "\n",
    "cripto_name = 'Solana'\n",
    "cripto_symbol = 'SOLBRL'\n",
    "solbrl = client.get_historical_klines(symbol='SOLBRL', start_str=start_str, end_str=end_str, interval=Client.KLINE_INTERVAL_1HOUR)\n",
    "solbrl_df = pd.DataFrame(solbrl)\n",
    "solbrl_df.rename(columns={0:'date',1:'open',2:'high',3:'low',4:'close'},inplace=True)\n",
    "solbrl_df.set_index('date', inplace=True)\n",
    "solbrl_df.index = pd.to_datetime(solbrl_df.index,unit='ms')\n",
    "solbrl_df = solbrl_df.drop(solbrl_df.columns[4:],axis=1)\n",
    "solbrl_df['open'] = pd.to_numeric(solbrl_df['open'])\n",
    "solbrl_df['high'] = pd.to_numeric(solbrl_df['high'])\n",
    "solbrl_df['low'] = pd.to_numeric(solbrl_df['low'])\n",
    "solbrl_df['close'] = pd.to_numeric(solbrl_df['close'])\n",
    "solbrl_df['Cripto_name'] = cripto_name\n",
    "solbrl_df['cripto_symbol'] = cripto_symbol\n",
    "solbrl_df"
   ]
  },
  {
   "cell_type": "code",
   "execution_count": 84,
   "id": "cc78fd23",
   "metadata": {},
   "outputs": [
    {
     "data": {
      "text/html": [
       "<div>\n",
       "<style scoped>\n",
       "    .dataframe tbody tr th:only-of-type {\n",
       "        vertical-align: middle;\n",
       "    }\n",
       "\n",
       "    .dataframe tbody tr th {\n",
       "        vertical-align: top;\n",
       "    }\n",
       "\n",
       "    .dataframe thead th {\n",
       "        text-align: right;\n",
       "    }\n",
       "</style>\n",
       "<table border=\"1\" class=\"dataframe\">\n",
       "  <thead>\n",
       "    <tr style=\"text-align: right;\">\n",
       "      <th></th>\n",
       "      <th>open</th>\n",
       "      <th>high</th>\n",
       "      <th>low</th>\n",
       "      <th>close</th>\n",
       "      <th>Cripto_name</th>\n",
       "      <th>cripto_symbol</th>\n",
       "    </tr>\n",
       "    <tr>\n",
       "      <th>date</th>\n",
       "      <th></th>\n",
       "      <th></th>\n",
       "      <th></th>\n",
       "      <th></th>\n",
       "      <th></th>\n",
       "      <th></th>\n",
       "    </tr>\n",
       "  </thead>\n",
       "  <tbody>\n",
       "    <tr>\n",
       "      <th>2022-04-25 00:00:00</th>\n",
       "      <td>4.278</td>\n",
       "      <td>4.282</td>\n",
       "      <td>4.130</td>\n",
       "      <td>4.146</td>\n",
       "      <td>Cardano</td>\n",
       "      <td>ADABRL</td>\n",
       "    </tr>\n",
       "    <tr>\n",
       "      <th>2022-04-25 01:00:00</th>\n",
       "      <td>4.146</td>\n",
       "      <td>4.177</td>\n",
       "      <td>4.137</td>\n",
       "      <td>4.173</td>\n",
       "      <td>Cardano</td>\n",
       "      <td>ADABRL</td>\n",
       "    </tr>\n",
       "    <tr>\n",
       "      <th>2022-04-25 02:00:00</th>\n",
       "      <td>4.167</td>\n",
       "      <td>4.179</td>\n",
       "      <td>4.156</td>\n",
       "      <td>4.178</td>\n",
       "      <td>Cardano</td>\n",
       "      <td>ADABRL</td>\n",
       "    </tr>\n",
       "    <tr>\n",
       "      <th>2022-04-25 03:00:00</th>\n",
       "      <td>4.175</td>\n",
       "      <td>4.220</td>\n",
       "      <td>4.175</td>\n",
       "      <td>4.220</td>\n",
       "      <td>Cardano</td>\n",
       "      <td>ADABRL</td>\n",
       "    </tr>\n",
       "    <tr>\n",
       "      <th>2022-04-25 04:00:00</th>\n",
       "      <td>4.214</td>\n",
       "      <td>4.214</td>\n",
       "      <td>4.195</td>\n",
       "      <td>4.196</td>\n",
       "      <td>Cardano</td>\n",
       "      <td>ADABRL</td>\n",
       "    </tr>\n",
       "    <tr>\n",
       "      <th>...</th>\n",
       "      <td>...</td>\n",
       "      <td>...</td>\n",
       "      <td>...</td>\n",
       "      <td>...</td>\n",
       "      <td>...</td>\n",
       "      <td>...</td>\n",
       "    </tr>\n",
       "    <tr>\n",
       "      <th>2022-04-29 17:00:00</th>\n",
       "      <td>4.011</td>\n",
       "      <td>4.037</td>\n",
       "      <td>4.009</td>\n",
       "      <td>4.009</td>\n",
       "      <td>Cardano</td>\n",
       "      <td>ADABRL</td>\n",
       "    </tr>\n",
       "    <tr>\n",
       "      <th>2022-04-29 18:00:00</th>\n",
       "      <td>4.011</td>\n",
       "      <td>4.018</td>\n",
       "      <td>3.976</td>\n",
       "      <td>3.977</td>\n",
       "      <td>Cardano</td>\n",
       "      <td>ADABRL</td>\n",
       "    </tr>\n",
       "    <tr>\n",
       "      <th>2022-04-29 19:00:00</th>\n",
       "      <td>4.004</td>\n",
       "      <td>4.018</td>\n",
       "      <td>3.937</td>\n",
       "      <td>3.963</td>\n",
       "      <td>Cardano</td>\n",
       "      <td>ADABRL</td>\n",
       "    </tr>\n",
       "    <tr>\n",
       "      <th>2022-04-29 20:00:00</th>\n",
       "      <td>3.967</td>\n",
       "      <td>4.020</td>\n",
       "      <td>3.967</td>\n",
       "      <td>4.010</td>\n",
       "      <td>Cardano</td>\n",
       "      <td>ADABRL</td>\n",
       "    </tr>\n",
       "    <tr>\n",
       "      <th>2022-04-29 21:00:00</th>\n",
       "      <td>4.010</td>\n",
       "      <td>4.030</td>\n",
       "      <td>4.010</td>\n",
       "      <td>4.030</td>\n",
       "      <td>Cardano</td>\n",
       "      <td>ADABRL</td>\n",
       "    </tr>\n",
       "  </tbody>\n",
       "</table>\n",
       "<p>118 rows × 6 columns</p>\n",
       "</div>"
      ],
      "text/plain": [
       "                      open   high    low  close Cripto_name cripto_symbol\n",
       "date                                                                     \n",
       "2022-04-25 00:00:00  4.278  4.282  4.130  4.146     Cardano        ADABRL\n",
       "2022-04-25 01:00:00  4.146  4.177  4.137  4.173     Cardano        ADABRL\n",
       "2022-04-25 02:00:00  4.167  4.179  4.156  4.178     Cardano        ADABRL\n",
       "2022-04-25 03:00:00  4.175  4.220  4.175  4.220     Cardano        ADABRL\n",
       "2022-04-25 04:00:00  4.214  4.214  4.195  4.196     Cardano        ADABRL\n",
       "...                    ...    ...    ...    ...         ...           ...\n",
       "2022-04-29 17:00:00  4.011  4.037  4.009  4.009     Cardano        ADABRL\n",
       "2022-04-29 18:00:00  4.011  4.018  3.976  3.977     Cardano        ADABRL\n",
       "2022-04-29 19:00:00  4.004  4.018  3.937  3.963     Cardano        ADABRL\n",
       "2022-04-29 20:00:00  3.967  4.020  3.967  4.010     Cardano        ADABRL\n",
       "2022-04-29 21:00:00  4.010  4.030  4.010  4.030     Cardano        ADABRL\n",
       "\n",
       "[118 rows x 6 columns]"
      ]
     },
     "execution_count": 84,
     "metadata": {},
     "output_type": "execute_result"
    }
   ],
   "source": [
    "# Cardano (ADA)\n",
    "\n",
    "cripto_name = 'Cardano'\n",
    "cripto_symbol = 'ADABRL'\n",
    "adabrl = client.get_historical_klines(symbol='ADABRL', start_str=start_str, end_str=end_str, interval=Client.KLINE_INTERVAL_1HOUR)\n",
    "adabrl_df = pd.DataFrame(adabrl)\n",
    "adabrl_df.rename(columns={0:'date',1:'open',2:'high',3:'low',4:'close'},inplace=True)\n",
    "adabrl_df.set_index('date', inplace=True)\n",
    "adabrl_df.index = pd.to_datetime(adabrl_df.index,unit='ms')\n",
    "adabrl_df = adabrl_df.drop(adabrl_df.columns[4:],axis=1)\n",
    "adabrl_df['open'] = pd.to_numeric(adabrl_df['open'])\n",
    "adabrl_df['high'] = pd.to_numeric(adabrl_df['high'])\n",
    "adabrl_df['low'] = pd.to_numeric(adabrl_df['low'])\n",
    "adabrl_df['close'] = pd.to_numeric(adabrl_df['close'])\n",
    "adabrl_df['Cripto_name'] = cripto_name\n",
    "adabrl_df['cripto_symbol'] = cripto_symbol\n",
    "adabrl_df"
   ]
  },
  {
   "cell_type": "code",
   "execution_count": 85,
   "id": "b10ea2a5",
   "metadata": {},
   "outputs": [
    {
     "data": {
      "text/html": [
       "<div>\n",
       "<style scoped>\n",
       "    .dataframe tbody tr th:only-of-type {\n",
       "        vertical-align: middle;\n",
       "    }\n",
       "\n",
       "    .dataframe tbody tr th {\n",
       "        vertical-align: top;\n",
       "    }\n",
       "\n",
       "    .dataframe thead th {\n",
       "        text-align: right;\n",
       "    }\n",
       "</style>\n",
       "<table border=\"1\" class=\"dataframe\">\n",
       "  <thead>\n",
       "    <tr style=\"text-align: right;\">\n",
       "      <th></th>\n",
       "      <th>open</th>\n",
       "      <th>high</th>\n",
       "      <th>low</th>\n",
       "      <th>close</th>\n",
       "      <th>Cripto_name</th>\n",
       "      <th>cripto_symbol</th>\n",
       "    </tr>\n",
       "    <tr>\n",
       "      <th>date</th>\n",
       "      <th></th>\n",
       "      <th></th>\n",
       "      <th></th>\n",
       "      <th></th>\n",
       "      <th></th>\n",
       "      <th></th>\n",
       "    </tr>\n",
       "  </thead>\n",
       "  <tbody>\n",
       "    <tr>\n",
       "      <th>2022-04-25 00:00:00</th>\n",
       "      <td>3.381</td>\n",
       "      <td>3.381</td>\n",
       "      <td>3.247</td>\n",
       "      <td>3.263</td>\n",
       "      <td>XRP</td>\n",
       "      <td>XRPBRL</td>\n",
       "    </tr>\n",
       "    <tr>\n",
       "      <th>2022-04-25 01:00:00</th>\n",
       "      <td>3.263</td>\n",
       "      <td>3.295</td>\n",
       "      <td>3.259</td>\n",
       "      <td>3.284</td>\n",
       "      <td>XRP</td>\n",
       "      <td>XRPBRL</td>\n",
       "    </tr>\n",
       "    <tr>\n",
       "      <th>2022-04-25 02:00:00</th>\n",
       "      <td>3.292</td>\n",
       "      <td>3.294</td>\n",
       "      <td>3.276</td>\n",
       "      <td>3.281</td>\n",
       "      <td>XRP</td>\n",
       "      <td>XRPBRL</td>\n",
       "    </tr>\n",
       "    <tr>\n",
       "      <th>2022-04-25 03:00:00</th>\n",
       "      <td>3.284</td>\n",
       "      <td>3.292</td>\n",
       "      <td>3.283</td>\n",
       "      <td>3.286</td>\n",
       "      <td>XRP</td>\n",
       "      <td>XRPBRL</td>\n",
       "    </tr>\n",
       "    <tr>\n",
       "      <th>2022-04-25 04:00:00</th>\n",
       "      <td>3.285</td>\n",
       "      <td>3.285</td>\n",
       "      <td>3.269</td>\n",
       "      <td>3.278</td>\n",
       "      <td>XRP</td>\n",
       "      <td>XRPBRL</td>\n",
       "    </tr>\n",
       "    <tr>\n",
       "      <th>...</th>\n",
       "      <td>...</td>\n",
       "      <td>...</td>\n",
       "      <td>...</td>\n",
       "      <td>...</td>\n",
       "      <td>...</td>\n",
       "      <td>...</td>\n",
       "    </tr>\n",
       "    <tr>\n",
       "      <th>2022-04-29 17:00:00</th>\n",
       "      <td>3.042</td>\n",
       "      <td>3.049</td>\n",
       "      <td>3.031</td>\n",
       "      <td>3.031</td>\n",
       "      <td>XRP</td>\n",
       "      <td>XRPBRL</td>\n",
       "    </tr>\n",
       "    <tr>\n",
       "      <th>2022-04-29 18:00:00</th>\n",
       "      <td>3.024</td>\n",
       "      <td>3.034</td>\n",
       "      <td>2.989</td>\n",
       "      <td>3.013</td>\n",
       "      <td>XRP</td>\n",
       "      <td>XRPBRL</td>\n",
       "    </tr>\n",
       "    <tr>\n",
       "      <th>2022-04-29 19:00:00</th>\n",
       "      <td>3.017</td>\n",
       "      <td>3.036</td>\n",
       "      <td>2.991</td>\n",
       "      <td>3.015</td>\n",
       "      <td>XRP</td>\n",
       "      <td>XRPBRL</td>\n",
       "    </tr>\n",
       "    <tr>\n",
       "      <th>2022-04-29 20:00:00</th>\n",
       "      <td>3.020</td>\n",
       "      <td>3.061</td>\n",
       "      <td>3.020</td>\n",
       "      <td>3.060</td>\n",
       "      <td>XRP</td>\n",
       "      <td>XRPBRL</td>\n",
       "    </tr>\n",
       "    <tr>\n",
       "      <th>2022-04-29 21:00:00</th>\n",
       "      <td>3.061</td>\n",
       "      <td>3.068</td>\n",
       "      <td>3.059</td>\n",
       "      <td>3.068</td>\n",
       "      <td>XRP</td>\n",
       "      <td>XRPBRL</td>\n",
       "    </tr>\n",
       "  </tbody>\n",
       "</table>\n",
       "<p>118 rows × 6 columns</p>\n",
       "</div>"
      ],
      "text/plain": [
       "                      open   high    low  close Cripto_name cripto_symbol\n",
       "date                                                                     \n",
       "2022-04-25 00:00:00  3.381  3.381  3.247  3.263         XRP        XRPBRL\n",
       "2022-04-25 01:00:00  3.263  3.295  3.259  3.284         XRP        XRPBRL\n",
       "2022-04-25 02:00:00  3.292  3.294  3.276  3.281         XRP        XRPBRL\n",
       "2022-04-25 03:00:00  3.284  3.292  3.283  3.286         XRP        XRPBRL\n",
       "2022-04-25 04:00:00  3.285  3.285  3.269  3.278         XRP        XRPBRL\n",
       "...                    ...    ...    ...    ...         ...           ...\n",
       "2022-04-29 17:00:00  3.042  3.049  3.031  3.031         XRP        XRPBRL\n",
       "2022-04-29 18:00:00  3.024  3.034  2.989  3.013         XRP        XRPBRL\n",
       "2022-04-29 19:00:00  3.017  3.036  2.991  3.015         XRP        XRPBRL\n",
       "2022-04-29 20:00:00  3.020  3.061  3.020  3.060         XRP        XRPBRL\n",
       "2022-04-29 21:00:00  3.061  3.068  3.059  3.068         XRP        XRPBRL\n",
       "\n",
       "[118 rows x 6 columns]"
      ]
     },
     "execution_count": 85,
     "metadata": {},
     "output_type": "execute_result"
    }
   ],
   "source": [
    "# XRP (XRP)\n",
    "\n",
    "cripto_name = 'XRP'\n",
    "cripto_symbol = 'XRPBRL'\n",
    "xrpbrl = client.get_historical_klines(symbol='XRPBRL', start_str=start_str, end_str=end_str, interval=Client.KLINE_INTERVAL_1HOUR)\n",
    "xrpbrl_df = pd.DataFrame(xrpbrl)\n",
    "xrpbrl_df.rename(columns={0:'date',1:'open',2:'high',3:'low',4:'close'},inplace=True)\n",
    "xrpbrl_df.set_index('date', inplace=True)\n",
    "xrpbrl_df.index = pd.to_datetime(xrpbrl_df.index,unit='ms')\n",
    "xrpbrl_df = xrpbrl_df.drop(xrpbrl_df.columns[4:],axis=1)\n",
    "xrpbrl_df['open'] = pd.to_numeric(xrpbrl_df['open'])\n",
    "xrpbrl_df['high'] = pd.to_numeric(xrpbrl_df['high'])\n",
    "xrpbrl_df['low'] = pd.to_numeric(xrpbrl_df['low'])\n",
    "xrpbrl_df['close'] = pd.to_numeric(xrpbrl_df['close'])\n",
    "xrpbrl_df['Cripto_name'] = cripto_name\n",
    "xrpbrl_df['cripto_symbol'] = cripto_symbol\n",
    "xrpbrl_df"
   ]
  },
  {
   "cell_type": "code",
   "execution_count": 86,
   "id": "4e4ec86b",
   "metadata": {},
   "outputs": [
    {
     "data": {
      "text/html": [
       "<div>\n",
       "<style scoped>\n",
       "    .dataframe tbody tr th:only-of-type {\n",
       "        vertical-align: middle;\n",
       "    }\n",
       "\n",
       "    .dataframe tbody tr th {\n",
       "        vertical-align: top;\n",
       "    }\n",
       "\n",
       "    .dataframe thead th {\n",
       "        text-align: right;\n",
       "    }\n",
       "</style>\n",
       "<table border=\"1\" class=\"dataframe\">\n",
       "  <thead>\n",
       "    <tr style=\"text-align: right;\">\n",
       "      <th></th>\n",
       "      <th>open</th>\n",
       "      <th>high</th>\n",
       "      <th>low</th>\n",
       "      <th>close</th>\n",
       "      <th>Cripto_name</th>\n",
       "      <th>cripto_symbol</th>\n",
       "    </tr>\n",
       "    <tr>\n",
       "      <th>date</th>\n",
       "      <th></th>\n",
       "      <th></th>\n",
       "      <th></th>\n",
       "      <th></th>\n",
       "      <th></th>\n",
       "      <th></th>\n",
       "    </tr>\n",
       "  </thead>\n",
       "  <tbody>\n",
       "    <tr>\n",
       "      <th>2022-04-25 00:00:00</th>\n",
       "      <td>0.637</td>\n",
       "      <td>0.637</td>\n",
       "      <td>0.605</td>\n",
       "      <td>0.614</td>\n",
       "      <td>Dogecoin</td>\n",
       "      <td>DOGEBRL</td>\n",
       "    </tr>\n",
       "    <tr>\n",
       "      <th>2022-04-25 01:00:00</th>\n",
       "      <td>0.614</td>\n",
       "      <td>0.619</td>\n",
       "      <td>0.613</td>\n",
       "      <td>0.618</td>\n",
       "      <td>Dogecoin</td>\n",
       "      <td>DOGEBRL</td>\n",
       "    </tr>\n",
       "    <tr>\n",
       "      <th>2022-04-25 02:00:00</th>\n",
       "      <td>0.618</td>\n",
       "      <td>0.619</td>\n",
       "      <td>0.615</td>\n",
       "      <td>0.617</td>\n",
       "      <td>Dogecoin</td>\n",
       "      <td>DOGEBRL</td>\n",
       "    </tr>\n",
       "    <tr>\n",
       "      <th>2022-04-25 03:00:00</th>\n",
       "      <td>0.617</td>\n",
       "      <td>0.622</td>\n",
       "      <td>0.617</td>\n",
       "      <td>0.622</td>\n",
       "      <td>Dogecoin</td>\n",
       "      <td>DOGEBRL</td>\n",
       "    </tr>\n",
       "    <tr>\n",
       "      <th>2022-04-25 04:00:00</th>\n",
       "      <td>0.622</td>\n",
       "      <td>0.623</td>\n",
       "      <td>0.622</td>\n",
       "      <td>0.623</td>\n",
       "      <td>Dogecoin</td>\n",
       "      <td>DOGEBRL</td>\n",
       "    </tr>\n",
       "    <tr>\n",
       "      <th>...</th>\n",
       "      <td>...</td>\n",
       "      <td>...</td>\n",
       "      <td>...</td>\n",
       "      <td>...</td>\n",
       "      <td>...</td>\n",
       "      <td>...</td>\n",
       "    </tr>\n",
       "    <tr>\n",
       "      <th>2022-04-29 17:00:00</th>\n",
       "      <td>0.682</td>\n",
       "      <td>0.689</td>\n",
       "      <td>0.680</td>\n",
       "      <td>0.684</td>\n",
       "      <td>Dogecoin</td>\n",
       "      <td>DOGEBRL</td>\n",
       "    </tr>\n",
       "    <tr>\n",
       "      <th>2022-04-29 18:00:00</th>\n",
       "      <td>0.682</td>\n",
       "      <td>0.682</td>\n",
       "      <td>0.664</td>\n",
       "      <td>0.670</td>\n",
       "      <td>Dogecoin</td>\n",
       "      <td>DOGEBRL</td>\n",
       "    </tr>\n",
       "    <tr>\n",
       "      <th>2022-04-29 19:00:00</th>\n",
       "      <td>0.669</td>\n",
       "      <td>0.676</td>\n",
       "      <td>0.665</td>\n",
       "      <td>0.669</td>\n",
       "      <td>Dogecoin</td>\n",
       "      <td>DOGEBRL</td>\n",
       "    </tr>\n",
       "    <tr>\n",
       "      <th>2022-04-29 20:00:00</th>\n",
       "      <td>0.671</td>\n",
       "      <td>0.679</td>\n",
       "      <td>0.670</td>\n",
       "      <td>0.676</td>\n",
       "      <td>Dogecoin</td>\n",
       "      <td>DOGEBRL</td>\n",
       "    </tr>\n",
       "    <tr>\n",
       "      <th>2022-04-29 21:00:00</th>\n",
       "      <td>0.677</td>\n",
       "      <td>0.678</td>\n",
       "      <td>0.674</td>\n",
       "      <td>0.678</td>\n",
       "      <td>Dogecoin</td>\n",
       "      <td>DOGEBRL</td>\n",
       "    </tr>\n",
       "  </tbody>\n",
       "</table>\n",
       "<p>118 rows × 6 columns</p>\n",
       "</div>"
      ],
      "text/plain": [
       "                      open   high    low  close Cripto_name cripto_symbol\n",
       "date                                                                     \n",
       "2022-04-25 00:00:00  0.637  0.637  0.605  0.614    Dogecoin       DOGEBRL\n",
       "2022-04-25 01:00:00  0.614  0.619  0.613  0.618    Dogecoin       DOGEBRL\n",
       "2022-04-25 02:00:00  0.618  0.619  0.615  0.617    Dogecoin       DOGEBRL\n",
       "2022-04-25 03:00:00  0.617  0.622  0.617  0.622    Dogecoin       DOGEBRL\n",
       "2022-04-25 04:00:00  0.622  0.623  0.622  0.623    Dogecoin       DOGEBRL\n",
       "...                    ...    ...    ...    ...         ...           ...\n",
       "2022-04-29 17:00:00  0.682  0.689  0.680  0.684    Dogecoin       DOGEBRL\n",
       "2022-04-29 18:00:00  0.682  0.682  0.664  0.670    Dogecoin       DOGEBRL\n",
       "2022-04-29 19:00:00  0.669  0.676  0.665  0.669    Dogecoin       DOGEBRL\n",
       "2022-04-29 20:00:00  0.671  0.679  0.670  0.676    Dogecoin       DOGEBRL\n",
       "2022-04-29 21:00:00  0.677  0.678  0.674  0.678    Dogecoin       DOGEBRL\n",
       "\n",
       "[118 rows x 6 columns]"
      ]
     },
     "execution_count": 86,
     "metadata": {},
     "output_type": "execute_result"
    }
   ],
   "source": [
    "# Dogecoin (DOGE)\n",
    "\n",
    "cripto_name = 'Dogecoin'\n",
    "cripto_symbol = 'DOGEBRL'\n",
    "dogebrl = client.get_historical_klines(symbol='DOGEBRL', start_str=start_str, end_str=end_str, interval=Client.KLINE_INTERVAL_1HOUR)\n",
    "dogebrl_df = pd.DataFrame(dogebrl)\n",
    "dogebrl_df.rename(columns={0:'date',1:'open',2:'high',3:'low',4:'close'},inplace=True)\n",
    "dogebrl_df.set_index('date', inplace=True)\n",
    "dogebrl_df.index = pd.to_datetime(dogebrl_df.index,unit='ms')\n",
    "dogebrl_df = dogebrl_df.drop(dogebrl_df.columns[4:],axis=1)\n",
    "dogebrl_df['open'] = pd.to_numeric(dogebrl_df['open'])\n",
    "dogebrl_df['high'] = pd.to_numeric(dogebrl_df['high'])\n",
    "dogebrl_df['low'] = pd.to_numeric(dogebrl_df['low'])\n",
    "dogebrl_df['close'] = pd.to_numeric(dogebrl_df['close'])\n",
    "dogebrl_df['Cripto_name'] = cripto_name\n",
    "dogebrl_df['cripto_symbol'] = cripto_symbol\n",
    "dogebrl_df"
   ]
  },
  {
   "cell_type": "code",
   "execution_count": 87,
   "id": "20003834",
   "metadata": {},
   "outputs": [
    {
     "data": {
      "text/html": [
       "<div>\n",
       "<style scoped>\n",
       "    .dataframe tbody tr th:only-of-type {\n",
       "        vertical-align: middle;\n",
       "    }\n",
       "\n",
       "    .dataframe tbody tr th {\n",
       "        vertical-align: top;\n",
       "    }\n",
       "\n",
       "    .dataframe thead th {\n",
       "        text-align: right;\n",
       "    }\n",
       "</style>\n",
       "<table border=\"1\" class=\"dataframe\">\n",
       "  <thead>\n",
       "    <tr style=\"text-align: right;\">\n",
       "      <th></th>\n",
       "      <th>open</th>\n",
       "      <th>high</th>\n",
       "      <th>low</th>\n",
       "      <th>close</th>\n",
       "      <th>Cripto_name</th>\n",
       "      <th>cripto_symbol</th>\n",
       "    </tr>\n",
       "    <tr>\n",
       "      <th>date</th>\n",
       "      <th></th>\n",
       "      <th></th>\n",
       "      <th></th>\n",
       "      <th></th>\n",
       "      <th></th>\n",
       "      <th></th>\n",
       "    </tr>\n",
       "  </thead>\n",
       "  <tbody>\n",
       "    <tr>\n",
       "      <th>2022-04-25 00:00:00</th>\n",
       "      <td>4.831</td>\n",
       "      <td>4.837</td>\n",
       "      <td>4.828</td>\n",
       "      <td>4.834</td>\n",
       "      <td>Binance USD</td>\n",
       "      <td>BUSDBRL</td>\n",
       "    </tr>\n",
       "    <tr>\n",
       "      <th>2022-04-25 01:00:00</th>\n",
       "      <td>4.834</td>\n",
       "      <td>4.838</td>\n",
       "      <td>4.831</td>\n",
       "      <td>4.832</td>\n",
       "      <td>Binance USD</td>\n",
       "      <td>BUSDBRL</td>\n",
       "    </tr>\n",
       "    <tr>\n",
       "      <th>2022-04-25 02:00:00</th>\n",
       "      <td>4.832</td>\n",
       "      <td>4.836</td>\n",
       "      <td>4.831</td>\n",
       "      <td>4.835</td>\n",
       "      <td>Binance USD</td>\n",
       "      <td>BUSDBRL</td>\n",
       "    </tr>\n",
       "    <tr>\n",
       "      <th>2022-04-25 03:00:00</th>\n",
       "      <td>4.834</td>\n",
       "      <td>4.836</td>\n",
       "      <td>4.831</td>\n",
       "      <td>4.833</td>\n",
       "      <td>Binance USD</td>\n",
       "      <td>BUSDBRL</td>\n",
       "    </tr>\n",
       "    <tr>\n",
       "      <th>2022-04-25 04:00:00</th>\n",
       "      <td>4.833</td>\n",
       "      <td>4.835</td>\n",
       "      <td>4.831</td>\n",
       "      <td>4.833</td>\n",
       "      <td>Binance USD</td>\n",
       "      <td>BUSDBRL</td>\n",
       "    </tr>\n",
       "    <tr>\n",
       "      <th>...</th>\n",
       "      <td>...</td>\n",
       "      <td>...</td>\n",
       "      <td>...</td>\n",
       "      <td>...</td>\n",
       "      <td>...</td>\n",
       "      <td>...</td>\n",
       "    </tr>\n",
       "    <tr>\n",
       "      <th>2022-04-29 17:00:00</th>\n",
       "      <td>4.971</td>\n",
       "      <td>4.978</td>\n",
       "      <td>4.956</td>\n",
       "      <td>4.957</td>\n",
       "      <td>Binance USD</td>\n",
       "      <td>BUSDBRL</td>\n",
       "    </tr>\n",
       "    <tr>\n",
       "      <th>2022-04-29 18:00:00</th>\n",
       "      <td>4.961</td>\n",
       "      <td>4.981</td>\n",
       "      <td>4.952</td>\n",
       "      <td>4.973</td>\n",
       "      <td>Binance USD</td>\n",
       "      <td>BUSDBRL</td>\n",
       "    </tr>\n",
       "    <tr>\n",
       "      <th>2022-04-29 19:00:00</th>\n",
       "      <td>4.973</td>\n",
       "      <td>4.992</td>\n",
       "      <td>4.973</td>\n",
       "      <td>4.982</td>\n",
       "      <td>Binance USD</td>\n",
       "      <td>BUSDBRL</td>\n",
       "    </tr>\n",
       "    <tr>\n",
       "      <th>2022-04-29 20:00:00</th>\n",
       "      <td>4.982</td>\n",
       "      <td>5.004</td>\n",
       "      <td>4.979</td>\n",
       "      <td>5.000</td>\n",
       "      <td>Binance USD</td>\n",
       "      <td>BUSDBRL</td>\n",
       "    </tr>\n",
       "    <tr>\n",
       "      <th>2022-04-29 21:00:00</th>\n",
       "      <td>5.000</td>\n",
       "      <td>5.001</td>\n",
       "      <td>4.998</td>\n",
       "      <td>4.999</td>\n",
       "      <td>Binance USD</td>\n",
       "      <td>BUSDBRL</td>\n",
       "    </tr>\n",
       "  </tbody>\n",
       "</table>\n",
       "<p>118 rows × 6 columns</p>\n",
       "</div>"
      ],
      "text/plain": [
       "                      open   high    low  close  Cripto_name cripto_symbol\n",
       "date                                                                      \n",
       "2022-04-25 00:00:00  4.831  4.837  4.828  4.834  Binance USD       BUSDBRL\n",
       "2022-04-25 01:00:00  4.834  4.838  4.831  4.832  Binance USD       BUSDBRL\n",
       "2022-04-25 02:00:00  4.832  4.836  4.831  4.835  Binance USD       BUSDBRL\n",
       "2022-04-25 03:00:00  4.834  4.836  4.831  4.833  Binance USD       BUSDBRL\n",
       "2022-04-25 04:00:00  4.833  4.835  4.831  4.833  Binance USD       BUSDBRL\n",
       "...                    ...    ...    ...    ...          ...           ...\n",
       "2022-04-29 17:00:00  4.971  4.978  4.956  4.957  Binance USD       BUSDBRL\n",
       "2022-04-29 18:00:00  4.961  4.981  4.952  4.973  Binance USD       BUSDBRL\n",
       "2022-04-29 19:00:00  4.973  4.992  4.973  4.982  Binance USD       BUSDBRL\n",
       "2022-04-29 20:00:00  4.982  5.004  4.979  5.000  Binance USD       BUSDBRL\n",
       "2022-04-29 21:00:00  5.000  5.001  4.998  4.999  Binance USD       BUSDBRL\n",
       "\n",
       "[118 rows x 6 columns]"
      ]
     },
     "execution_count": 87,
     "metadata": {},
     "output_type": "execute_result"
    }
   ],
   "source": [
    "# Binance USD (BUSD)\n",
    "\n",
    "cripto_name = 'Binance USD'\n",
    "cripto_symbol = 'BUSDBRL'\n",
    "busdbrl = client.get_historical_klines(symbol='BUSDBRL', start_str=start_str, end_str=end_str, interval=Client.KLINE_INTERVAL_1HOUR)\n",
    "busdbrl_df = pd.DataFrame(busdbrl)\n",
    "busdbrl_df.rename(columns={0:'date',1:'open',2:'high',3:'low',4:'close'},inplace=True)\n",
    "busdbrl_df.set_index('date', inplace=True)\n",
    "busdbrl_df.index = pd.to_datetime(busdbrl_df.index,unit='ms')\n",
    "busdbrl_df = busdbrl_df.drop(busdbrl_df.columns[4:],axis=1)\n",
    "busdbrl_df['open'] = pd.to_numeric(busdbrl_df['open'])\n",
    "busdbrl_df['high'] = pd.to_numeric(busdbrl_df['high'])\n",
    "busdbrl_df['low'] = pd.to_numeric(busdbrl_df['low'])\n",
    "busdbrl_df['close'] = pd.to_numeric(busdbrl_df['close'])\n",
    "busdbrl_df['Cripto_name'] = cripto_name\n",
    "busdbrl_df['cripto_symbol'] = cripto_symbol\n",
    "busdbrl_df"
   ]
  },
  {
   "cell_type": "code",
   "execution_count": 88,
   "id": "09e3e35b",
   "metadata": {},
   "outputs": [
    {
     "data": {
      "text/html": [
       "<div>\n",
       "<style scoped>\n",
       "    .dataframe tbody tr th:only-of-type {\n",
       "        vertical-align: middle;\n",
       "    }\n",
       "\n",
       "    .dataframe tbody tr th {\n",
       "        vertical-align: top;\n",
       "    }\n",
       "\n",
       "    .dataframe thead th {\n",
       "        text-align: right;\n",
       "    }\n",
       "</style>\n",
       "<table border=\"1\" class=\"dataframe\">\n",
       "  <thead>\n",
       "    <tr style=\"text-align: right;\">\n",
       "      <th></th>\n",
       "      <th>open</th>\n",
       "      <th>high</th>\n",
       "      <th>low</th>\n",
       "      <th>close</th>\n",
       "      <th>Cripto_name</th>\n",
       "      <th>cripto_symbol</th>\n",
       "    </tr>\n",
       "    <tr>\n",
       "      <th>date</th>\n",
       "      <th></th>\n",
       "      <th></th>\n",
       "      <th></th>\n",
       "      <th></th>\n",
       "      <th></th>\n",
       "      <th></th>\n",
       "    </tr>\n",
       "  </thead>\n",
       "  <tbody>\n",
       "    <tr>\n",
       "      <th>2022-04-25 00:00:00</th>\n",
       "      <td>507.1</td>\n",
       "      <td>507.1</td>\n",
       "      <td>491.2</td>\n",
       "      <td>493.9</td>\n",
       "      <td>Litecoin</td>\n",
       "      <td>LTCBRL</td>\n",
       "    </tr>\n",
       "    <tr>\n",
       "      <th>2022-04-25 01:00:00</th>\n",
       "      <td>493.9</td>\n",
       "      <td>496.2</td>\n",
       "      <td>492.0</td>\n",
       "      <td>494.8</td>\n",
       "      <td>Litecoin</td>\n",
       "      <td>LTCBRL</td>\n",
       "    </tr>\n",
       "    <tr>\n",
       "      <th>2022-04-25 02:00:00</th>\n",
       "      <td>494.5</td>\n",
       "      <td>494.5</td>\n",
       "      <td>488.0</td>\n",
       "      <td>490.9</td>\n",
       "      <td>Litecoin</td>\n",
       "      <td>LTCBRL</td>\n",
       "    </tr>\n",
       "    <tr>\n",
       "      <th>2022-04-25 03:00:00</th>\n",
       "      <td>490.2</td>\n",
       "      <td>493.1</td>\n",
       "      <td>490.0</td>\n",
       "      <td>493.0</td>\n",
       "      <td>Litecoin</td>\n",
       "      <td>LTCBRL</td>\n",
       "    </tr>\n",
       "    <tr>\n",
       "      <th>2022-04-25 04:00:00</th>\n",
       "      <td>492.5</td>\n",
       "      <td>492.5</td>\n",
       "      <td>490.7</td>\n",
       "      <td>491.6</td>\n",
       "      <td>Litecoin</td>\n",
       "      <td>LTCBRL</td>\n",
       "    </tr>\n",
       "    <tr>\n",
       "      <th>...</th>\n",
       "      <td>...</td>\n",
       "      <td>...</td>\n",
       "      <td>...</td>\n",
       "      <td>...</td>\n",
       "      <td>...</td>\n",
       "      <td>...</td>\n",
       "    </tr>\n",
       "    <tr>\n",
       "      <th>2022-04-29 17:00:00</th>\n",
       "      <td>497.5</td>\n",
       "      <td>501.8</td>\n",
       "      <td>497.0</td>\n",
       "      <td>499.6</td>\n",
       "      <td>Litecoin</td>\n",
       "      <td>LTCBRL</td>\n",
       "    </tr>\n",
       "    <tr>\n",
       "      <th>2022-04-29 18:00:00</th>\n",
       "      <td>498.0</td>\n",
       "      <td>499.0</td>\n",
       "      <td>490.7</td>\n",
       "      <td>495.5</td>\n",
       "      <td>Litecoin</td>\n",
       "      <td>LTCBRL</td>\n",
       "    </tr>\n",
       "    <tr>\n",
       "      <th>2022-04-29 19:00:00</th>\n",
       "      <td>493.9</td>\n",
       "      <td>496.7</td>\n",
       "      <td>492.2</td>\n",
       "      <td>492.2</td>\n",
       "      <td>Litecoin</td>\n",
       "      <td>LTCBRL</td>\n",
       "    </tr>\n",
       "    <tr>\n",
       "      <th>2022-04-29 20:00:00</th>\n",
       "      <td>493.3</td>\n",
       "      <td>499.0</td>\n",
       "      <td>492.8</td>\n",
       "      <td>499.0</td>\n",
       "      <td>Litecoin</td>\n",
       "      <td>LTCBRL</td>\n",
       "    </tr>\n",
       "    <tr>\n",
       "      <th>2022-04-29 21:00:00</th>\n",
       "      <td>498.0</td>\n",
       "      <td>499.7</td>\n",
       "      <td>498.0</td>\n",
       "      <td>498.7</td>\n",
       "      <td>Litecoin</td>\n",
       "      <td>LTCBRL</td>\n",
       "    </tr>\n",
       "  </tbody>\n",
       "</table>\n",
       "<p>118 rows × 6 columns</p>\n",
       "</div>"
      ],
      "text/plain": [
       "                      open   high    low  close Cripto_name cripto_symbol\n",
       "date                                                                     \n",
       "2022-04-25 00:00:00  507.1  507.1  491.2  493.9    Litecoin        LTCBRL\n",
       "2022-04-25 01:00:00  493.9  496.2  492.0  494.8    Litecoin        LTCBRL\n",
       "2022-04-25 02:00:00  494.5  494.5  488.0  490.9    Litecoin        LTCBRL\n",
       "2022-04-25 03:00:00  490.2  493.1  490.0  493.0    Litecoin        LTCBRL\n",
       "2022-04-25 04:00:00  492.5  492.5  490.7  491.6    Litecoin        LTCBRL\n",
       "...                    ...    ...    ...    ...         ...           ...\n",
       "2022-04-29 17:00:00  497.5  501.8  497.0  499.6    Litecoin        LTCBRL\n",
       "2022-04-29 18:00:00  498.0  499.0  490.7  495.5    Litecoin        LTCBRL\n",
       "2022-04-29 19:00:00  493.9  496.7  492.2  492.2    Litecoin        LTCBRL\n",
       "2022-04-29 20:00:00  493.3  499.0  492.8  499.0    Litecoin        LTCBRL\n",
       "2022-04-29 21:00:00  498.0  499.7  498.0  498.7    Litecoin        LTCBRL\n",
       "\n",
       "[118 rows x 6 columns]"
      ]
     },
     "execution_count": 88,
     "metadata": {},
     "output_type": "execute_result"
    }
   ],
   "source": [
    "# Litecoin (LTC)\n",
    "\n",
    "cripto_name = 'Litecoin'\n",
    "cripto_symbol = 'LTCBRL'\n",
    "ltcbrl = client.get_historical_klines(symbol='LTCBRL', start_str=start_str, end_str=end_str, interval=Client.KLINE_INTERVAL_1HOUR)\n",
    "ltcbrl_df = pd.DataFrame(ltcbrl)\n",
    "ltcbrl_df.rename(columns={0:'date',1:'open',2:'high',3:'low',4:'close'},inplace=True)\n",
    "ltcbrl_df.set_index('date', inplace=True)\n",
    "ltcbrl_df.index = pd.to_datetime(ltcbrl_df.index,unit='ms')\n",
    "ltcbrl_df = ltcbrl_df.drop(ltcbrl_df.columns[4:],axis=1)\n",
    "ltcbrl_df['open'] = pd.to_numeric(ltcbrl_df['open'])\n",
    "ltcbrl_df['high'] = pd.to_numeric(ltcbrl_df['high'])\n",
    "ltcbrl_df['low'] = pd.to_numeric(ltcbrl_df['low'])\n",
    "ltcbrl_df['close'] = pd.to_numeric(ltcbrl_df['close'])\n",
    "ltcbrl_df['Cripto_name'] = cripto_name\n",
    "ltcbrl_df['cripto_symbol'] = cripto_symbol\n",
    "ltcbrl_df"
   ]
  },
  {
   "cell_type": "code",
   "execution_count": 89,
   "id": "560573fa",
   "metadata": {},
   "outputs": [
    {
     "data": {
      "text/html": [
       "<div>\n",
       "<style scoped>\n",
       "    .dataframe tbody tr th:only-of-type {\n",
       "        vertical-align: middle;\n",
       "    }\n",
       "\n",
       "    .dataframe tbody tr th {\n",
       "        vertical-align: top;\n",
       "    }\n",
       "\n",
       "    .dataframe thead th {\n",
       "        text-align: right;\n",
       "    }\n",
       "</style>\n",
       "<table border=\"1\" class=\"dataframe\">\n",
       "  <thead>\n",
       "    <tr style=\"text-align: right;\">\n",
       "      <th></th>\n",
       "      <th>open</th>\n",
       "      <th>high</th>\n",
       "      <th>low</th>\n",
       "      <th>close</th>\n",
       "      <th>Cripto_name</th>\n",
       "      <th>cripto_symbol</th>\n",
       "    </tr>\n",
       "    <tr>\n",
       "      <th>date</th>\n",
       "      <th></th>\n",
       "      <th></th>\n",
       "      <th></th>\n",
       "      <th></th>\n",
       "      <th></th>\n",
       "      <th></th>\n",
       "    </tr>\n",
       "  </thead>\n",
       "  <tbody>\n",
       "    <tr>\n",
       "      <th>2022-04-25 00:00:00</th>\n",
       "      <td>0.000116</td>\n",
       "      <td>0.000116</td>\n",
       "      <td>0.000111</td>\n",
       "      <td>0.000111</td>\n",
       "      <td>Shiba Inu</td>\n",
       "      <td>SHIBBRL</td>\n",
       "    </tr>\n",
       "    <tr>\n",
       "      <th>2022-04-25 01:00:00</th>\n",
       "      <td>0.000111</td>\n",
       "      <td>0.000113</td>\n",
       "      <td>0.000111</td>\n",
       "      <td>0.000113</td>\n",
       "      <td>Shiba Inu</td>\n",
       "      <td>SHIBBRL</td>\n",
       "    </tr>\n",
       "    <tr>\n",
       "      <th>2022-04-25 02:00:00</th>\n",
       "      <td>0.000113</td>\n",
       "      <td>0.000113</td>\n",
       "      <td>0.000112</td>\n",
       "      <td>0.000113</td>\n",
       "      <td>Shiba Inu</td>\n",
       "      <td>SHIBBRL</td>\n",
       "    </tr>\n",
       "    <tr>\n",
       "      <th>2022-04-25 03:00:00</th>\n",
       "      <td>0.000113</td>\n",
       "      <td>0.000114</td>\n",
       "      <td>0.000113</td>\n",
       "      <td>0.000114</td>\n",
       "      <td>Shiba Inu</td>\n",
       "      <td>SHIBBRL</td>\n",
       "    </tr>\n",
       "    <tr>\n",
       "      <th>2022-04-25 04:00:00</th>\n",
       "      <td>0.000114</td>\n",
       "      <td>0.000114</td>\n",
       "      <td>0.000113</td>\n",
       "      <td>0.000113</td>\n",
       "      <td>Shiba Inu</td>\n",
       "      <td>SHIBBRL</td>\n",
       "    </tr>\n",
       "    <tr>\n",
       "      <th>...</th>\n",
       "      <td>...</td>\n",
       "      <td>...</td>\n",
       "      <td>...</td>\n",
       "      <td>...</td>\n",
       "      <td>...</td>\n",
       "      <td>...</td>\n",
       "    </tr>\n",
       "    <tr>\n",
       "      <th>2022-04-29 17:00:00</th>\n",
       "      <td>0.000111</td>\n",
       "      <td>0.000112</td>\n",
       "      <td>0.000111</td>\n",
       "      <td>0.000111</td>\n",
       "      <td>Shiba Inu</td>\n",
       "      <td>SHIBBRL</td>\n",
       "    </tr>\n",
       "    <tr>\n",
       "      <th>2022-04-29 18:00:00</th>\n",
       "      <td>0.000111</td>\n",
       "      <td>0.000111</td>\n",
       "      <td>0.000109</td>\n",
       "      <td>0.000110</td>\n",
       "      <td>Shiba Inu</td>\n",
       "      <td>SHIBBRL</td>\n",
       "    </tr>\n",
       "    <tr>\n",
       "      <th>2022-04-29 19:00:00</th>\n",
       "      <td>0.000110</td>\n",
       "      <td>0.000111</td>\n",
       "      <td>0.000108</td>\n",
       "      <td>0.000109</td>\n",
       "      <td>Shiba Inu</td>\n",
       "      <td>SHIBBRL</td>\n",
       "    </tr>\n",
       "    <tr>\n",
       "      <th>2022-04-29 20:00:00</th>\n",
       "      <td>0.000108</td>\n",
       "      <td>0.000111</td>\n",
       "      <td>0.000108</td>\n",
       "      <td>0.000111</td>\n",
       "      <td>Shiba Inu</td>\n",
       "      <td>SHIBBRL</td>\n",
       "    </tr>\n",
       "    <tr>\n",
       "      <th>2022-04-29 21:00:00</th>\n",
       "      <td>0.000111</td>\n",
       "      <td>0.000111</td>\n",
       "      <td>0.000110</td>\n",
       "      <td>0.000111</td>\n",
       "      <td>Shiba Inu</td>\n",
       "      <td>SHIBBRL</td>\n",
       "    </tr>\n",
       "  </tbody>\n",
       "</table>\n",
       "<p>118 rows × 6 columns</p>\n",
       "</div>"
      ],
      "text/plain": [
       "                         open      high       low     close Cripto_name  \\\n",
       "date                                                                      \n",
       "2022-04-25 00:00:00  0.000116  0.000116  0.000111  0.000111   Shiba Inu   \n",
       "2022-04-25 01:00:00  0.000111  0.000113  0.000111  0.000113   Shiba Inu   \n",
       "2022-04-25 02:00:00  0.000113  0.000113  0.000112  0.000113   Shiba Inu   \n",
       "2022-04-25 03:00:00  0.000113  0.000114  0.000113  0.000114   Shiba Inu   \n",
       "2022-04-25 04:00:00  0.000114  0.000114  0.000113  0.000113   Shiba Inu   \n",
       "...                       ...       ...       ...       ...         ...   \n",
       "2022-04-29 17:00:00  0.000111  0.000112  0.000111  0.000111   Shiba Inu   \n",
       "2022-04-29 18:00:00  0.000111  0.000111  0.000109  0.000110   Shiba Inu   \n",
       "2022-04-29 19:00:00  0.000110  0.000111  0.000108  0.000109   Shiba Inu   \n",
       "2022-04-29 20:00:00  0.000108  0.000111  0.000108  0.000111   Shiba Inu   \n",
       "2022-04-29 21:00:00  0.000111  0.000111  0.000110  0.000111   Shiba Inu   \n",
       "\n",
       "                    cripto_symbol  \n",
       "date                               \n",
       "2022-04-25 00:00:00       SHIBBRL  \n",
       "2022-04-25 01:00:00       SHIBBRL  \n",
       "2022-04-25 02:00:00       SHIBBRL  \n",
       "2022-04-25 03:00:00       SHIBBRL  \n",
       "2022-04-25 04:00:00       SHIBBRL  \n",
       "...                           ...  \n",
       "2022-04-29 17:00:00       SHIBBRL  \n",
       "2022-04-29 18:00:00       SHIBBRL  \n",
       "2022-04-29 19:00:00       SHIBBRL  \n",
       "2022-04-29 20:00:00       SHIBBRL  \n",
       "2022-04-29 21:00:00       SHIBBRL  \n",
       "\n",
       "[118 rows x 6 columns]"
      ]
     },
     "execution_count": 89,
     "metadata": {},
     "output_type": "execute_result"
    }
   ],
   "source": [
    "# Shiba Inu (SHIB)\n",
    "\n",
    "cripto_name = 'Shiba Inu'\n",
    "cripto_symbol = 'SHIBBRL'\n",
    "shibbrl = client.get_historical_klines(symbol='SHIBBRL', start_str=start_str, end_str=end_str, interval=Client.KLINE_INTERVAL_1HOUR)\n",
    "shibbrl_df = pd.DataFrame(shibbrl)\n",
    "shibbrl_df.rename(columns={0:'date',1:'open',2:'high',3:'low',4:'close'},inplace=True)\n",
    "shibbrl_df.set_index('date', inplace=True)\n",
    "shibbrl_df.index = pd.to_datetime(shibbrl_df.index,unit='ms')\n",
    "shibbrl_df = shibbrl_df.drop(shibbrl_df.columns[4:],axis=1)\n",
    "shibbrl_df['open'] = pd.to_numeric(shibbrl_df['open'])\n",
    "shibbrl_df['high'] = pd.to_numeric(shibbrl_df['high'])\n",
    "shibbrl_df['low'] = pd.to_numeric(shibbrl_df['low'])\n",
    "shibbrl_df['close'] = pd.to_numeric(shibbrl_df['close'])\n",
    "shibbrl_df['Cripto_name'] = cripto_name\n",
    "shibbrl_df['cripto_symbol'] = cripto_symbol\n",
    "shibbrl_df"
   ]
  },
  {
   "cell_type": "code",
   "execution_count": 90,
   "id": "25698767",
   "metadata": {},
   "outputs": [
    {
     "data": {
      "text/html": [
       "<div>\n",
       "<style scoped>\n",
       "    .dataframe tbody tr th:only-of-type {\n",
       "        vertical-align: middle;\n",
       "    }\n",
       "\n",
       "    .dataframe tbody tr th {\n",
       "        vertical-align: top;\n",
       "    }\n",
       "\n",
       "    .dataframe thead th {\n",
       "        text-align: right;\n",
       "    }\n",
       "</style>\n",
       "<table border=\"1\" class=\"dataframe\">\n",
       "  <thead>\n",
       "    <tr style=\"text-align: right;\">\n",
       "      <th></th>\n",
       "      <th>open</th>\n",
       "      <th>high</th>\n",
       "      <th>low</th>\n",
       "      <th>close</th>\n",
       "      <th>Cripto_name</th>\n",
       "      <th>cripto_symbol</th>\n",
       "    </tr>\n",
       "    <tr>\n",
       "      <th>date</th>\n",
       "      <th></th>\n",
       "      <th></th>\n",
       "      <th></th>\n",
       "      <th></th>\n",
       "      <th></th>\n",
       "      <th></th>\n",
       "    </tr>\n",
       "  </thead>\n",
       "  <tbody>\n",
       "    <tr>\n",
       "      <th>2022-04-25 00:00:00</th>\n",
       "      <td>190625.000000</td>\n",
       "      <td>190871.000000</td>\n",
       "      <td>187200.000000</td>\n",
       "      <td>187863.000000</td>\n",
       "      <td>Bitcoin</td>\n",
       "      <td>BTCBRL</td>\n",
       "    </tr>\n",
       "    <tr>\n",
       "      <th>2022-04-25 01:00:00</th>\n",
       "      <td>187871.000000</td>\n",
       "      <td>189210.000000</td>\n",
       "      <td>187410.000000</td>\n",
       "      <td>188956.000000</td>\n",
       "      <td>Bitcoin</td>\n",
       "      <td>BTCBRL</td>\n",
       "    </tr>\n",
       "    <tr>\n",
       "      <th>2022-04-25 02:00:00</th>\n",
       "      <td>188943.000000</td>\n",
       "      <td>189200.000000</td>\n",
       "      <td>188375.000000</td>\n",
       "      <td>189063.000000</td>\n",
       "      <td>Bitcoin</td>\n",
       "      <td>BTCBRL</td>\n",
       "    </tr>\n",
       "    <tr>\n",
       "      <th>2022-04-25 03:00:00</th>\n",
       "      <td>188913.000000</td>\n",
       "      <td>189889.000000</td>\n",
       "      <td>188913.000000</td>\n",
       "      <td>189756.000000</td>\n",
       "      <td>Bitcoin</td>\n",
       "      <td>BTCBRL</td>\n",
       "    </tr>\n",
       "    <tr>\n",
       "      <th>2022-04-25 04:00:00</th>\n",
       "      <td>189696.000000</td>\n",
       "      <td>189703.000000</td>\n",
       "      <td>188831.000000</td>\n",
       "      <td>189191.000000</td>\n",
       "      <td>Bitcoin</td>\n",
       "      <td>BTCBRL</td>\n",
       "    </tr>\n",
       "    <tr>\n",
       "      <th>...</th>\n",
       "      <td>...</td>\n",
       "      <td>...</td>\n",
       "      <td>...</td>\n",
       "      <td>...</td>\n",
       "      <td>...</td>\n",
       "      <td>...</td>\n",
       "    </tr>\n",
       "    <tr>\n",
       "      <th>2022-04-29 17:00:00</th>\n",
       "      <td>0.000111</td>\n",
       "      <td>0.000112</td>\n",
       "      <td>0.000111</td>\n",
       "      <td>0.000111</td>\n",
       "      <td>Shiba Inu</td>\n",
       "      <td>SHIBBRL</td>\n",
       "    </tr>\n",
       "    <tr>\n",
       "      <th>2022-04-29 18:00:00</th>\n",
       "      <td>0.000111</td>\n",
       "      <td>0.000111</td>\n",
       "      <td>0.000109</td>\n",
       "      <td>0.000110</td>\n",
       "      <td>Shiba Inu</td>\n",
       "      <td>SHIBBRL</td>\n",
       "    </tr>\n",
       "    <tr>\n",
       "      <th>2022-04-29 19:00:00</th>\n",
       "      <td>0.000110</td>\n",
       "      <td>0.000111</td>\n",
       "      <td>0.000108</td>\n",
       "      <td>0.000109</td>\n",
       "      <td>Shiba Inu</td>\n",
       "      <td>SHIBBRL</td>\n",
       "    </tr>\n",
       "    <tr>\n",
       "      <th>2022-04-29 20:00:00</th>\n",
       "      <td>0.000108</td>\n",
       "      <td>0.000111</td>\n",
       "      <td>0.000108</td>\n",
       "      <td>0.000111</td>\n",
       "      <td>Shiba Inu</td>\n",
       "      <td>SHIBBRL</td>\n",
       "    </tr>\n",
       "    <tr>\n",
       "      <th>2022-04-29 21:00:00</th>\n",
       "      <td>0.000111</td>\n",
       "      <td>0.000111</td>\n",
       "      <td>0.000110</td>\n",
       "      <td>0.000111</td>\n",
       "      <td>Shiba Inu</td>\n",
       "      <td>SHIBBRL</td>\n",
       "    </tr>\n",
       "  </tbody>\n",
       "</table>\n",
       "<p>1416 rows × 6 columns</p>\n",
       "</div>"
      ],
      "text/plain": [
       "                              open           high            low  \\\n",
       "date                                                               \n",
       "2022-04-25 00:00:00  190625.000000  190871.000000  187200.000000   \n",
       "2022-04-25 01:00:00  187871.000000  189210.000000  187410.000000   \n",
       "2022-04-25 02:00:00  188943.000000  189200.000000  188375.000000   \n",
       "2022-04-25 03:00:00  188913.000000  189889.000000  188913.000000   \n",
       "2022-04-25 04:00:00  189696.000000  189703.000000  188831.000000   \n",
       "...                            ...            ...            ...   \n",
       "2022-04-29 17:00:00       0.000111       0.000112       0.000111   \n",
       "2022-04-29 18:00:00       0.000111       0.000111       0.000109   \n",
       "2022-04-29 19:00:00       0.000110       0.000111       0.000108   \n",
       "2022-04-29 20:00:00       0.000108       0.000111       0.000108   \n",
       "2022-04-29 21:00:00       0.000111       0.000111       0.000110   \n",
       "\n",
       "                             close Cripto_name cripto_symbol  \n",
       "date                                                          \n",
       "2022-04-25 00:00:00  187863.000000     Bitcoin        BTCBRL  \n",
       "2022-04-25 01:00:00  188956.000000     Bitcoin        BTCBRL  \n",
       "2022-04-25 02:00:00  189063.000000     Bitcoin        BTCBRL  \n",
       "2022-04-25 03:00:00  189756.000000     Bitcoin        BTCBRL  \n",
       "2022-04-25 04:00:00  189191.000000     Bitcoin        BTCBRL  \n",
       "...                            ...         ...           ...  \n",
       "2022-04-29 17:00:00       0.000111   Shiba Inu       SHIBBRL  \n",
       "2022-04-29 18:00:00       0.000110   Shiba Inu       SHIBBRL  \n",
       "2022-04-29 19:00:00       0.000109   Shiba Inu       SHIBBRL  \n",
       "2022-04-29 20:00:00       0.000111   Shiba Inu       SHIBBRL  \n",
       "2022-04-29 21:00:00       0.000111   Shiba Inu       SHIBBRL  \n",
       "\n",
       "[1416 rows x 6 columns]"
      ]
     },
     "execution_count": 90,
     "metadata": {},
     "output_type": "execute_result"
    }
   ],
   "source": [
    "crypto_data = pd.concat([btcbrl_df, ethbrl_df, usdtbrl_df, bnbbrl_df, lunabrl_df, solbrl_df, adabrl_df, xrpbrl_df, dogebrl_df, busdbrl_df, ltcbrl_df, shibbrl_df],axis=0)\n",
    "crypto_data"
   ]
  },
  {
   "cell_type": "code",
   "execution_count": 91,
   "id": "2fc6cfd2",
   "metadata": {},
   "outputs": [
    {
     "data": {
      "text/html": [
       "<div>\n",
       "<style scoped>\n",
       "    .dataframe tbody tr th:only-of-type {\n",
       "        vertical-align: middle;\n",
       "    }\n",
       "\n",
       "    .dataframe tbody tr th {\n",
       "        vertical-align: top;\n",
       "    }\n",
       "\n",
       "    .dataframe thead th {\n",
       "        text-align: right;\n",
       "    }\n",
       "</style>\n",
       "<table border=\"1\" class=\"dataframe\">\n",
       "  <thead>\n",
       "    <tr style=\"text-align: right;\">\n",
       "      <th></th>\n",
       "      <th>open_x</th>\n",
       "      <th>high_x</th>\n",
       "      <th>low_x</th>\n",
       "      <th>close_x</th>\n",
       "      <th>Cripto_name_x</th>\n",
       "      <th>cripto_symbol</th>\n",
       "      <th>open_y</th>\n",
       "      <th>high_y</th>\n",
       "      <th>low_y</th>\n",
       "      <th>close_y</th>\n",
       "      <th>Cripto_name_y</th>\n",
       "      <th>Resultado_%</th>\n",
       "    </tr>\n",
       "  </thead>\n",
       "  <tbody>\n",
       "    <tr>\n",
       "      <th>0</th>\n",
       "      <td>190625.000000</td>\n",
       "      <td>190871.000000</td>\n",
       "      <td>187200.000000</td>\n",
       "      <td>187863.000000</td>\n",
       "      <td>Bitcoin</td>\n",
       "      <td>BTCBRL</td>\n",
       "      <td>192830.000000</td>\n",
       "      <td>193279.000000</td>\n",
       "      <td>192581.00000</td>\n",
       "      <td>193010.000000</td>\n",
       "      <td>Bitcoin</td>\n",
       "      <td>1.251148</td>\n",
       "    </tr>\n",
       "    <tr>\n",
       "      <th>1</th>\n",
       "      <td>14116.880000</td>\n",
       "      <td>14130.750000</td>\n",
       "      <td>13790.000000</td>\n",
       "      <td>13812.250000</td>\n",
       "      <td>Ethereum</td>\n",
       "      <td>ETHBRL</td>\n",
       "      <td>14030.830000</td>\n",
       "      <td>14052.540000</td>\n",
       "      <td>14006.61000</td>\n",
       "      <td>14041.360000</td>\n",
       "      <td>Ethereum</td>\n",
       "      <td>-0.534962</td>\n",
       "    </tr>\n",
       "    <tr>\n",
       "      <th>2</th>\n",
       "      <td>4.832000</td>\n",
       "      <td>4.838000</td>\n",
       "      <td>4.832000</td>\n",
       "      <td>4.835000</td>\n",
       "      <td>Tether USD</td>\n",
       "      <td>USDTBRL</td>\n",
       "      <td>5.000000</td>\n",
       "      <td>5.000000</td>\n",
       "      <td>4.99700</td>\n",
       "      <td>4.999000</td>\n",
       "      <td>Tether USD</td>\n",
       "      <td>3.456126</td>\n",
       "    </tr>\n",
       "    <tr>\n",
       "      <th>3</th>\n",
       "      <td>1928.000000</td>\n",
       "      <td>1930.000000</td>\n",
       "      <td>1890.000000</td>\n",
       "      <td>1894.000000</td>\n",
       "      <td>BNB</td>\n",
       "      <td>BNBBRL</td>\n",
       "      <td>1967.000000</td>\n",
       "      <td>1970.000000</td>\n",
       "      <td>1964.00000</td>\n",
       "      <td>1969.000000</td>\n",
       "      <td>BNB</td>\n",
       "      <td>2.126556</td>\n",
       "    </tr>\n",
       "    <tr>\n",
       "      <th>4</th>\n",
       "      <td>436.400000</td>\n",
       "      <td>437.100000</td>\n",
       "      <td>419.900000</td>\n",
       "      <td>424.200000</td>\n",
       "      <td>Terra</td>\n",
       "      <td>LUNABRL</td>\n",
       "      <td>426.600000</td>\n",
       "      <td>428.000000</td>\n",
       "      <td>426.60000</td>\n",
       "      <td>428.000000</td>\n",
       "      <td>Terra</td>\n",
       "      <td>-1.924840</td>\n",
       "    </tr>\n",
       "    <tr>\n",
       "      <th>5</th>\n",
       "      <td>480.000000</td>\n",
       "      <td>480.200000</td>\n",
       "      <td>466.000000</td>\n",
       "      <td>469.100000</td>\n",
       "      <td>Solana</td>\n",
       "      <td>SOLBRL</td>\n",
       "      <td>468.700000</td>\n",
       "      <td>471.600000</td>\n",
       "      <td>468.70000</td>\n",
       "      <td>471.100000</td>\n",
       "      <td>Solana</td>\n",
       "      <td>-1.854167</td>\n",
       "    </tr>\n",
       "    <tr>\n",
       "      <th>6</th>\n",
       "      <td>4.278000</td>\n",
       "      <td>4.282000</td>\n",
       "      <td>4.130000</td>\n",
       "      <td>4.146000</td>\n",
       "      <td>Cardano</td>\n",
       "      <td>ADABRL</td>\n",
       "      <td>4.010000</td>\n",
       "      <td>4.030000</td>\n",
       "      <td>4.01000</td>\n",
       "      <td>4.030000</td>\n",
       "      <td>Cardano</td>\n",
       "      <td>-5.797101</td>\n",
       "    </tr>\n",
       "    <tr>\n",
       "      <th>7</th>\n",
       "      <td>3.381000</td>\n",
       "      <td>3.381000</td>\n",
       "      <td>3.247000</td>\n",
       "      <td>3.263000</td>\n",
       "      <td>XRP</td>\n",
       "      <td>XRPBRL</td>\n",
       "      <td>3.061000</td>\n",
       "      <td>3.068000</td>\n",
       "      <td>3.05900</td>\n",
       "      <td>3.068000</td>\n",
       "      <td>XRP</td>\n",
       "      <td>-9.257616</td>\n",
       "    </tr>\n",
       "    <tr>\n",
       "      <th>8</th>\n",
       "      <td>0.637000</td>\n",
       "      <td>0.637000</td>\n",
       "      <td>0.605000</td>\n",
       "      <td>0.614000</td>\n",
       "      <td>Dogecoin</td>\n",
       "      <td>DOGEBRL</td>\n",
       "      <td>0.677000</td>\n",
       "      <td>0.678000</td>\n",
       "      <td>0.67400</td>\n",
       "      <td>0.678000</td>\n",
       "      <td>Dogecoin</td>\n",
       "      <td>6.436421</td>\n",
       "    </tr>\n",
       "    <tr>\n",
       "      <th>9</th>\n",
       "      <td>4.831000</td>\n",
       "      <td>4.837000</td>\n",
       "      <td>4.828000</td>\n",
       "      <td>4.834000</td>\n",
       "      <td>Binance USD</td>\n",
       "      <td>BUSDBRL</td>\n",
       "      <td>5.000000</td>\n",
       "      <td>5.001000</td>\n",
       "      <td>4.99800</td>\n",
       "      <td>4.999000</td>\n",
       "      <td>Binance USD</td>\n",
       "      <td>3.477541</td>\n",
       "    </tr>\n",
       "    <tr>\n",
       "      <th>10</th>\n",
       "      <td>507.100000</td>\n",
       "      <td>507.100000</td>\n",
       "      <td>491.200000</td>\n",
       "      <td>493.900000</td>\n",
       "      <td>Litecoin</td>\n",
       "      <td>LTCBRL</td>\n",
       "      <td>498.000000</td>\n",
       "      <td>499.700000</td>\n",
       "      <td>498.00000</td>\n",
       "      <td>498.700000</td>\n",
       "      <td>Litecoin</td>\n",
       "      <td>-1.656478</td>\n",
       "    </tr>\n",
       "    <tr>\n",
       "      <th>11</th>\n",
       "      <td>0.000116</td>\n",
       "      <td>0.000116</td>\n",
       "      <td>0.000111</td>\n",
       "      <td>0.000111</td>\n",
       "      <td>Shiba Inu</td>\n",
       "      <td>SHIBBRL</td>\n",
       "      <td>0.000111</td>\n",
       "      <td>0.000111</td>\n",
       "      <td>0.00011</td>\n",
       "      <td>0.000111</td>\n",
       "      <td>Shiba Inu</td>\n",
       "      <td>-4.189703</td>\n",
       "    </tr>\n",
       "  </tbody>\n",
       "</table>\n",
       "</div>"
      ],
      "text/plain": [
       "           open_x         high_x          low_x        close_x Cripto_name_x  \\\n",
       "0   190625.000000  190871.000000  187200.000000  187863.000000       Bitcoin   \n",
       "1    14116.880000   14130.750000   13790.000000   13812.250000      Ethereum   \n",
       "2        4.832000       4.838000       4.832000       4.835000    Tether USD   \n",
       "3     1928.000000    1930.000000    1890.000000    1894.000000           BNB   \n",
       "4      436.400000     437.100000     419.900000     424.200000         Terra   \n",
       "5      480.000000     480.200000     466.000000     469.100000        Solana   \n",
       "6        4.278000       4.282000       4.130000       4.146000       Cardano   \n",
       "7        3.381000       3.381000       3.247000       3.263000           XRP   \n",
       "8        0.637000       0.637000       0.605000       0.614000      Dogecoin   \n",
       "9        4.831000       4.837000       4.828000       4.834000   Binance USD   \n",
       "10     507.100000     507.100000     491.200000     493.900000      Litecoin   \n",
       "11       0.000116       0.000116       0.000111       0.000111     Shiba Inu   \n",
       "\n",
       "   cripto_symbol         open_y         high_y         low_y        close_y  \\\n",
       "0         BTCBRL  192830.000000  193279.000000  192581.00000  193010.000000   \n",
       "1         ETHBRL   14030.830000   14052.540000   14006.61000   14041.360000   \n",
       "2        USDTBRL       5.000000       5.000000       4.99700       4.999000   \n",
       "3         BNBBRL    1967.000000    1970.000000    1964.00000    1969.000000   \n",
       "4        LUNABRL     426.600000     428.000000     426.60000     428.000000   \n",
       "5         SOLBRL     468.700000     471.600000     468.70000     471.100000   \n",
       "6         ADABRL       4.010000       4.030000       4.01000       4.030000   \n",
       "7         XRPBRL       3.061000       3.068000       3.05900       3.068000   \n",
       "8        DOGEBRL       0.677000       0.678000       0.67400       0.678000   \n",
       "9        BUSDBRL       5.000000       5.001000       4.99800       4.999000   \n",
       "10        LTCBRL     498.000000     499.700000     498.00000     498.700000   \n",
       "11       SHIBBRL       0.000111       0.000111       0.00011       0.000111   \n",
       "\n",
       "   Cripto_name_y  Resultado_%  \n",
       "0        Bitcoin     1.251148  \n",
       "1       Ethereum    -0.534962  \n",
       "2     Tether USD     3.456126  \n",
       "3            BNB     2.126556  \n",
       "4          Terra    -1.924840  \n",
       "5         Solana    -1.854167  \n",
       "6        Cardano    -5.797101  \n",
       "7            XRP    -9.257616  \n",
       "8       Dogecoin     6.436421  \n",
       "9    Binance USD     3.477541  \n",
       "10      Litecoin    -1.656478  \n",
       "11     Shiba Inu    -4.189703  "
      ]
     },
     "execution_count": 91,
     "metadata": {},
     "output_type": "execute_result"
    }
   ],
   "source": [
    "open_criptos = crypto_data.drop_duplicates(subset=['cripto_symbol'], keep='first')\n",
    "close_criptos = crypto_data.drop_duplicates(subset=['cripto_symbol'], keep='last')\n",
    "df_criptos_result = pd.merge(open_criptos, close_criptos,on ='cripto_symbol',how ='outer')\n",
    "df_criptos_result['Resultado_%'] = (df_criptos_result['close_y'] - df_criptos_result['open_x'])/df_criptos_result['open_x']*100\n",
    "df_criptos_result\n"
   ]
  },
  {
   "cell_type": "code",
   "execution_count": 92,
   "id": "8e28e5ed",
   "metadata": {},
   "outputs": [
    {
     "data": {
      "text/html": [
       "<div>\n",
       "<style scoped>\n",
       "    .dataframe tbody tr th:only-of-type {\n",
       "        vertical-align: middle;\n",
       "    }\n",
       "\n",
       "    .dataframe tbody tr th {\n",
       "        vertical-align: top;\n",
       "    }\n",
       "\n",
       "    .dataframe thead th {\n",
       "        text-align: right;\n",
       "    }\n",
       "</style>\n",
       "<table border=\"1\" class=\"dataframe\">\n",
       "  <thead>\n",
       "    <tr style=\"text-align: right;\">\n",
       "      <th></th>\n",
       "      <th>Crypto Ticker</th>\n",
       "      <th>Abertura</th>\n",
       "      <th>Fechamento</th>\n",
       "      <th>Resultado_%</th>\n",
       "    </tr>\n",
       "    <tr>\n",
       "      <th>Criptomoeda</th>\n",
       "      <th></th>\n",
       "      <th></th>\n",
       "      <th></th>\n",
       "      <th></th>\n",
       "    </tr>\n",
       "  </thead>\n",
       "  <tbody>\n",
       "    <tr>\n",
       "      <th>Bitcoin</th>\n",
       "      <td>BTCBRL</td>\n",
       "      <td>190625.000000</td>\n",
       "      <td>193010.000000</td>\n",
       "      <td>1.251148</td>\n",
       "    </tr>\n",
       "    <tr>\n",
       "      <th>Ethereum</th>\n",
       "      <td>ETHBRL</td>\n",
       "      <td>14116.880000</td>\n",
       "      <td>14041.360000</td>\n",
       "      <td>-0.534962</td>\n",
       "    </tr>\n",
       "    <tr>\n",
       "      <th>Tether USD</th>\n",
       "      <td>USDTBRL</td>\n",
       "      <td>4.832000</td>\n",
       "      <td>4.999000</td>\n",
       "      <td>3.456126</td>\n",
       "    </tr>\n",
       "    <tr>\n",
       "      <th>BNB</th>\n",
       "      <td>BNBBRL</td>\n",
       "      <td>1928.000000</td>\n",
       "      <td>1969.000000</td>\n",
       "      <td>2.126556</td>\n",
       "    </tr>\n",
       "    <tr>\n",
       "      <th>Terra</th>\n",
       "      <td>LUNABRL</td>\n",
       "      <td>436.400000</td>\n",
       "      <td>428.000000</td>\n",
       "      <td>-1.924840</td>\n",
       "    </tr>\n",
       "    <tr>\n",
       "      <th>Solana</th>\n",
       "      <td>SOLBRL</td>\n",
       "      <td>480.000000</td>\n",
       "      <td>471.100000</td>\n",
       "      <td>-1.854167</td>\n",
       "    </tr>\n",
       "    <tr>\n",
       "      <th>Cardano</th>\n",
       "      <td>ADABRL</td>\n",
       "      <td>4.278000</td>\n",
       "      <td>4.030000</td>\n",
       "      <td>-5.797101</td>\n",
       "    </tr>\n",
       "    <tr>\n",
       "      <th>XRP</th>\n",
       "      <td>XRPBRL</td>\n",
       "      <td>3.381000</td>\n",
       "      <td>3.068000</td>\n",
       "      <td>-9.257616</td>\n",
       "    </tr>\n",
       "    <tr>\n",
       "      <th>Dogecoin</th>\n",
       "      <td>DOGEBRL</td>\n",
       "      <td>0.637000</td>\n",
       "      <td>0.678000</td>\n",
       "      <td>6.436421</td>\n",
       "    </tr>\n",
       "    <tr>\n",
       "      <th>Binance USD</th>\n",
       "      <td>BUSDBRL</td>\n",
       "      <td>4.831000</td>\n",
       "      <td>4.999000</td>\n",
       "      <td>3.477541</td>\n",
       "    </tr>\n",
       "    <tr>\n",
       "      <th>Litecoin</th>\n",
       "      <td>LTCBRL</td>\n",
       "      <td>507.100000</td>\n",
       "      <td>498.700000</td>\n",
       "      <td>-1.656478</td>\n",
       "    </tr>\n",
       "    <tr>\n",
       "      <th>Shiba Inu</th>\n",
       "      <td>SHIBBRL</td>\n",
       "      <td>0.000116</td>\n",
       "      <td>0.000111</td>\n",
       "      <td>-4.189703</td>\n",
       "    </tr>\n",
       "  </tbody>\n",
       "</table>\n",
       "</div>"
      ],
      "text/plain": [
       "            Crypto Ticker       Abertura     Fechamento  Resultado_%\n",
       "Criptomoeda                                                         \n",
       "Bitcoin            BTCBRL  190625.000000  193010.000000     1.251148\n",
       "Ethereum           ETHBRL   14116.880000   14041.360000    -0.534962\n",
       "Tether USD        USDTBRL       4.832000       4.999000     3.456126\n",
       "BNB                BNBBRL    1928.000000    1969.000000     2.126556\n",
       "Terra             LUNABRL     436.400000     428.000000    -1.924840\n",
       "Solana             SOLBRL     480.000000     471.100000    -1.854167\n",
       "Cardano            ADABRL       4.278000       4.030000    -5.797101\n",
       "XRP                XRPBRL       3.381000       3.068000    -9.257616\n",
       "Dogecoin          DOGEBRL       0.637000       0.678000     6.436421\n",
       "Binance USD       BUSDBRL       4.831000       4.999000     3.477541\n",
       "Litecoin           LTCBRL     507.100000     498.700000    -1.656478\n",
       "Shiba Inu         SHIBBRL       0.000116       0.000111    -4.189703"
      ]
     },
     "execution_count": 92,
     "metadata": {},
     "output_type": "execute_result"
    }
   ],
   "source": [
    "df_criptos_result2 = df_criptos_result[['Cripto_name_x','cripto_symbol','open_x','close_y','Resultado_%']]\n",
    "df_criptos_result2 = df_criptos_result2.rename({'Cripto_name_x':'Criptomoeda','cripto_symbol':'Crypto Ticker','open_x':'Abertura','close_y':'Fechamento'},axis=1)\n",
    "df_criptos_result2.index = (df_criptos_result2['Criptomoeda'])\n",
    "df_criptos_result2 = df_criptos_result2[['Crypto Ticker','Abertura','Fechamento','Resultado_%']]\n",
    "df_criptos_result2"
   ]
  },
  {
   "cell_type": "code",
   "execution_count": 93,
   "id": "069ceedb",
   "metadata": {},
   "outputs": [
    {
     "data": {
      "text/html": [
       "<style type=\"text/css\">\n",
       "#T_3a94a_row0_col1, #T_3a94a_row2_col1, #T_3a94a_row3_col1, #T_3a94a_row8_col1, #T_3a94a_row9_col1 {\n",
       "  background-color: #178a39;\n",
       "}\n",
       "#T_3a94a_row1_col1 {\n",
       "  background-color: #de948c;\n",
       "}\n",
       "#T_3a94a_row4_col1, #T_3a94a_row5_col1, #T_3a94a_row6_col1, #T_3a94a_row7_col1, #T_3a94a_row10_col1, #T_3a94a_row11_col1 {\n",
       "  background-color: #d13232;\n",
       "}\n",
       "</style>\n",
       "<table id=\"T_3a94a_\">\n",
       "  <thead>\n",
       "    <tr>\n",
       "      <th class=\"blank level0\" >&nbsp;</th>\n",
       "      <th class=\"col_heading level0 col0\" >Crypto Ticker</th>\n",
       "      <th class=\"col_heading level0 col1\" >Resultado_%</th>\n",
       "    </tr>\n",
       "    <tr>\n",
       "      <th class=\"index_name level0\" >Criptomoeda</th>\n",
       "      <th class=\"blank col0\" >&nbsp;</th>\n",
       "      <th class=\"blank col1\" >&nbsp;</th>\n",
       "    </tr>\n",
       "  </thead>\n",
       "  <tbody>\n",
       "    <tr>\n",
       "      <th id=\"T_3a94a_level0_row0\" class=\"row_heading level0 row0\" >Bitcoin</th>\n",
       "      <td id=\"T_3a94a_row0_col0\" class=\"data row0 col0\" >BTCBRL</td>\n",
       "      <td id=\"T_3a94a_row0_col1\" class=\"data row0 col1\" >1.25</td>\n",
       "    </tr>\n",
       "    <tr>\n",
       "      <th id=\"T_3a94a_level0_row1\" class=\"row_heading level0 row1\" >Ethereum</th>\n",
       "      <td id=\"T_3a94a_row1_col0\" class=\"data row1 col0\" >ETHBRL</td>\n",
       "      <td id=\"T_3a94a_row1_col1\" class=\"data row1 col1\" >-0.53</td>\n",
       "    </tr>\n",
       "    <tr>\n",
       "      <th id=\"T_3a94a_level0_row2\" class=\"row_heading level0 row2\" >Tether USD</th>\n",
       "      <td id=\"T_3a94a_row2_col0\" class=\"data row2 col0\" >USDTBRL</td>\n",
       "      <td id=\"T_3a94a_row2_col1\" class=\"data row2 col1\" >3.46</td>\n",
       "    </tr>\n",
       "    <tr>\n",
       "      <th id=\"T_3a94a_level0_row3\" class=\"row_heading level0 row3\" >BNB</th>\n",
       "      <td id=\"T_3a94a_row3_col0\" class=\"data row3 col0\" >BNBBRL</td>\n",
       "      <td id=\"T_3a94a_row3_col1\" class=\"data row3 col1\" >2.13</td>\n",
       "    </tr>\n",
       "    <tr>\n",
       "      <th id=\"T_3a94a_level0_row4\" class=\"row_heading level0 row4\" >Terra</th>\n",
       "      <td id=\"T_3a94a_row4_col0\" class=\"data row4 col0\" >LUNABRL</td>\n",
       "      <td id=\"T_3a94a_row4_col1\" class=\"data row4 col1\" >-1.92</td>\n",
       "    </tr>\n",
       "    <tr>\n",
       "      <th id=\"T_3a94a_level0_row5\" class=\"row_heading level0 row5\" >Solana</th>\n",
       "      <td id=\"T_3a94a_row5_col0\" class=\"data row5 col0\" >SOLBRL</td>\n",
       "      <td id=\"T_3a94a_row5_col1\" class=\"data row5 col1\" >-1.85</td>\n",
       "    </tr>\n",
       "    <tr>\n",
       "      <th id=\"T_3a94a_level0_row6\" class=\"row_heading level0 row6\" >Cardano</th>\n",
       "      <td id=\"T_3a94a_row6_col0\" class=\"data row6 col0\" >ADABRL</td>\n",
       "      <td id=\"T_3a94a_row6_col1\" class=\"data row6 col1\" >-5.80</td>\n",
       "    </tr>\n",
       "    <tr>\n",
       "      <th id=\"T_3a94a_level0_row7\" class=\"row_heading level0 row7\" >XRP</th>\n",
       "      <td id=\"T_3a94a_row7_col0\" class=\"data row7 col0\" >XRPBRL</td>\n",
       "      <td id=\"T_3a94a_row7_col1\" class=\"data row7 col1\" >-9.26</td>\n",
       "    </tr>\n",
       "    <tr>\n",
       "      <th id=\"T_3a94a_level0_row8\" class=\"row_heading level0 row8\" >Dogecoin</th>\n",
       "      <td id=\"T_3a94a_row8_col0\" class=\"data row8 col0\" >DOGEBRL</td>\n",
       "      <td id=\"T_3a94a_row8_col1\" class=\"data row8 col1\" >6.44</td>\n",
       "    </tr>\n",
       "    <tr>\n",
       "      <th id=\"T_3a94a_level0_row9\" class=\"row_heading level0 row9\" >Binance USD</th>\n",
       "      <td id=\"T_3a94a_row9_col0\" class=\"data row9 col0\" >BUSDBRL</td>\n",
       "      <td id=\"T_3a94a_row9_col1\" class=\"data row9 col1\" >3.48</td>\n",
       "    </tr>\n",
       "    <tr>\n",
       "      <th id=\"T_3a94a_level0_row10\" class=\"row_heading level0 row10\" >Litecoin</th>\n",
       "      <td id=\"T_3a94a_row10_col0\" class=\"data row10 col0\" >LTCBRL</td>\n",
       "      <td id=\"T_3a94a_row10_col1\" class=\"data row10 col1\" >-1.66</td>\n",
       "    </tr>\n",
       "    <tr>\n",
       "      <th id=\"T_3a94a_level0_row11\" class=\"row_heading level0 row11\" >Shiba Inu</th>\n",
       "      <td id=\"T_3a94a_row11_col0\" class=\"data row11 col0\" >SHIBBRL</td>\n",
       "      <td id=\"T_3a94a_row11_col1\" class=\"data row11 col1\" >-4.19</td>\n",
       "    </tr>\n",
       "  </tbody>\n",
       "</table>\n"
      ],
      "text/plain": [
       "<pandas.io.formats.style.Styler at 0x18d14b8e910>"
      ]
     },
     "execution_count": 93,
     "metadata": {},
     "output_type": "execute_result"
    }
   ],
   "source": [
    "df_criptos_result2 = df_criptos_result2[['Crypto Ticker','Resultado_%']]\n",
    "df_criptos_result2.style.format('{:.2f}', subset=[\"Resultado_%\"]).applymap(lambda x: 'background-color : #d13232' if x<-1 else ('background-color : #de948c' if x<0 else ('background-color : #178a39' if x>1 else 'background-color : #7db08c')),subset=[\"Resultado_%\"])"
   ]
  },
  {
   "cell_type": "markdown",
   "id": "e96f60ba",
   "metadata": {},
   "source": [
    "# **6. Normalização Criptomoedas**"
   ]
  },
  {
   "cell_type": "code",
   "execution_count": 94,
   "id": "e5078062",
   "metadata": {},
   "outputs": [
    {
     "data": {
      "text/html": [
       "<div>\n",
       "<style scoped>\n",
       "    .dataframe tbody tr th:only-of-type {\n",
       "        vertical-align: middle;\n",
       "    }\n",
       "\n",
       "    .dataframe tbody tr th {\n",
       "        vertical-align: top;\n",
       "    }\n",
       "\n",
       "    .dataframe thead th {\n",
       "        text-align: right;\n",
       "    }\n",
       "</style>\n",
       "<table border=\"1\" class=\"dataframe\">\n",
       "  <thead>\n",
       "    <tr style=\"text-align: right;\">\n",
       "      <th></th>\n",
       "      <th>open</th>\n",
       "      <th>high</th>\n",
       "      <th>low</th>\n",
       "      <th>close</th>\n",
       "      <th>Cripto_name</th>\n",
       "      <th>cripto_symbol</th>\n",
       "    </tr>\n",
       "    <tr>\n",
       "      <th>date</th>\n",
       "      <th></th>\n",
       "      <th></th>\n",
       "      <th></th>\n",
       "      <th></th>\n",
       "      <th></th>\n",
       "      <th></th>\n",
       "    </tr>\n",
       "  </thead>\n",
       "  <tbody>\n",
       "    <tr>\n",
       "      <th>2022-04-25 00:00:00</th>\n",
       "      <td>190625.000000</td>\n",
       "      <td>190871.000000</td>\n",
       "      <td>187200.000000</td>\n",
       "      <td>187863.000000</td>\n",
       "      <td>Bitcoin</td>\n",
       "      <td>BTCBRL</td>\n",
       "    </tr>\n",
       "    <tr>\n",
       "      <th>2022-04-25 01:00:00</th>\n",
       "      <td>187871.000000</td>\n",
       "      <td>189210.000000</td>\n",
       "      <td>187410.000000</td>\n",
       "      <td>188956.000000</td>\n",
       "      <td>Bitcoin</td>\n",
       "      <td>BTCBRL</td>\n",
       "    </tr>\n",
       "    <tr>\n",
       "      <th>2022-04-25 02:00:00</th>\n",
       "      <td>188943.000000</td>\n",
       "      <td>189200.000000</td>\n",
       "      <td>188375.000000</td>\n",
       "      <td>189063.000000</td>\n",
       "      <td>Bitcoin</td>\n",
       "      <td>BTCBRL</td>\n",
       "    </tr>\n",
       "    <tr>\n",
       "      <th>2022-04-25 03:00:00</th>\n",
       "      <td>188913.000000</td>\n",
       "      <td>189889.000000</td>\n",
       "      <td>188913.000000</td>\n",
       "      <td>189756.000000</td>\n",
       "      <td>Bitcoin</td>\n",
       "      <td>BTCBRL</td>\n",
       "    </tr>\n",
       "    <tr>\n",
       "      <th>2022-04-25 04:00:00</th>\n",
       "      <td>189696.000000</td>\n",
       "      <td>189703.000000</td>\n",
       "      <td>188831.000000</td>\n",
       "      <td>189191.000000</td>\n",
       "      <td>Bitcoin</td>\n",
       "      <td>BTCBRL</td>\n",
       "    </tr>\n",
       "    <tr>\n",
       "      <th>...</th>\n",
       "      <td>...</td>\n",
       "      <td>...</td>\n",
       "      <td>...</td>\n",
       "      <td>...</td>\n",
       "      <td>...</td>\n",
       "      <td>...</td>\n",
       "    </tr>\n",
       "    <tr>\n",
       "      <th>2022-04-29 17:00:00</th>\n",
       "      <td>0.000111</td>\n",
       "      <td>0.000112</td>\n",
       "      <td>0.000111</td>\n",
       "      <td>0.000111</td>\n",
       "      <td>Shiba Inu</td>\n",
       "      <td>SHIBBRL</td>\n",
       "    </tr>\n",
       "    <tr>\n",
       "      <th>2022-04-29 18:00:00</th>\n",
       "      <td>0.000111</td>\n",
       "      <td>0.000111</td>\n",
       "      <td>0.000109</td>\n",
       "      <td>0.000110</td>\n",
       "      <td>Shiba Inu</td>\n",
       "      <td>SHIBBRL</td>\n",
       "    </tr>\n",
       "    <tr>\n",
       "      <th>2022-04-29 19:00:00</th>\n",
       "      <td>0.000110</td>\n",
       "      <td>0.000111</td>\n",
       "      <td>0.000108</td>\n",
       "      <td>0.000109</td>\n",
       "      <td>Shiba Inu</td>\n",
       "      <td>SHIBBRL</td>\n",
       "    </tr>\n",
       "    <tr>\n",
       "      <th>2022-04-29 20:00:00</th>\n",
       "      <td>0.000108</td>\n",
       "      <td>0.000111</td>\n",
       "      <td>0.000108</td>\n",
       "      <td>0.000111</td>\n",
       "      <td>Shiba Inu</td>\n",
       "      <td>SHIBBRL</td>\n",
       "    </tr>\n",
       "    <tr>\n",
       "      <th>2022-04-29 21:00:00</th>\n",
       "      <td>0.000111</td>\n",
       "      <td>0.000111</td>\n",
       "      <td>0.000110</td>\n",
       "      <td>0.000111</td>\n",
       "      <td>Shiba Inu</td>\n",
       "      <td>SHIBBRL</td>\n",
       "    </tr>\n",
       "  </tbody>\n",
       "</table>\n",
       "<p>1416 rows × 6 columns</p>\n",
       "</div>"
      ],
      "text/plain": [
       "                              open           high            low  \\\n",
       "date                                                               \n",
       "2022-04-25 00:00:00  190625.000000  190871.000000  187200.000000   \n",
       "2022-04-25 01:00:00  187871.000000  189210.000000  187410.000000   \n",
       "2022-04-25 02:00:00  188943.000000  189200.000000  188375.000000   \n",
       "2022-04-25 03:00:00  188913.000000  189889.000000  188913.000000   \n",
       "2022-04-25 04:00:00  189696.000000  189703.000000  188831.000000   \n",
       "...                            ...            ...            ...   \n",
       "2022-04-29 17:00:00       0.000111       0.000112       0.000111   \n",
       "2022-04-29 18:00:00       0.000111       0.000111       0.000109   \n",
       "2022-04-29 19:00:00       0.000110       0.000111       0.000108   \n",
       "2022-04-29 20:00:00       0.000108       0.000111       0.000108   \n",
       "2022-04-29 21:00:00       0.000111       0.000111       0.000110   \n",
       "\n",
       "                             close Cripto_name cripto_symbol  \n",
       "date                                                          \n",
       "2022-04-25 00:00:00  187863.000000     Bitcoin        BTCBRL  \n",
       "2022-04-25 01:00:00  188956.000000     Bitcoin        BTCBRL  \n",
       "2022-04-25 02:00:00  189063.000000     Bitcoin        BTCBRL  \n",
       "2022-04-25 03:00:00  189756.000000     Bitcoin        BTCBRL  \n",
       "2022-04-25 04:00:00  189191.000000     Bitcoin        BTCBRL  \n",
       "...                            ...         ...           ...  \n",
       "2022-04-29 17:00:00       0.000111   Shiba Inu       SHIBBRL  \n",
       "2022-04-29 18:00:00       0.000110   Shiba Inu       SHIBBRL  \n",
       "2022-04-29 19:00:00       0.000109   Shiba Inu       SHIBBRL  \n",
       "2022-04-29 20:00:00       0.000111   Shiba Inu       SHIBBRL  \n",
       "2022-04-29 21:00:00       0.000111   Shiba Inu       SHIBBRL  \n",
       "\n",
       "[1416 rows x 6 columns]"
      ]
     },
     "execution_count": 94,
     "metadata": {},
     "output_type": "execute_result"
    }
   ],
   "source": [
    "crypto_data"
   ]
  },
  {
   "cell_type": "code",
   "execution_count": 95,
   "id": "7ef04ed3",
   "metadata": {},
   "outputs": [
    {
     "data": {
      "text/html": [
       "<div>\n",
       "<style scoped>\n",
       "    .dataframe tbody tr th:only-of-type {\n",
       "        vertical-align: middle;\n",
       "    }\n",
       "\n",
       "    .dataframe tbody tr th {\n",
       "        vertical-align: top;\n",
       "    }\n",
       "\n",
       "    .dataframe thead th {\n",
       "        text-align: right;\n",
       "    }\n",
       "</style>\n",
       "<table border=\"1\" class=\"dataframe\">\n",
       "  <thead>\n",
       "    <tr style=\"text-align: right;\">\n",
       "      <th>Cripto_name</th>\n",
       "      <th>BNB</th>\n",
       "      <th>Binance USD</th>\n",
       "      <th>Bitcoin</th>\n",
       "      <th>Cardano</th>\n",
       "      <th>Dogecoin</th>\n",
       "      <th>Ethereum</th>\n",
       "      <th>Litecoin</th>\n",
       "      <th>Shiba Inu</th>\n",
       "      <th>Solana</th>\n",
       "      <th>Terra</th>\n",
       "      <th>Tether USD</th>\n",
       "      <th>XRP</th>\n",
       "    </tr>\n",
       "    <tr>\n",
       "      <th>date</th>\n",
       "      <th></th>\n",
       "      <th></th>\n",
       "      <th></th>\n",
       "      <th></th>\n",
       "      <th></th>\n",
       "      <th></th>\n",
       "      <th></th>\n",
       "      <th></th>\n",
       "      <th></th>\n",
       "      <th></th>\n",
       "      <th></th>\n",
       "      <th></th>\n",
       "    </tr>\n",
       "  </thead>\n",
       "  <tbody>\n",
       "    <tr>\n",
       "      <th>2022-04-25 00:00:00</th>\n",
       "      <td>1894.0</td>\n",
       "      <td>4.834</td>\n",
       "      <td>187863.0</td>\n",
       "      <td>4.146</td>\n",
       "      <td>0.614</td>\n",
       "      <td>13812.25</td>\n",
       "      <td>493.9</td>\n",
       "      <td>0.000111</td>\n",
       "      <td>469.1</td>\n",
       "      <td>424.2</td>\n",
       "      <td>4.835</td>\n",
       "      <td>3.263</td>\n",
       "    </tr>\n",
       "    <tr>\n",
       "      <th>2022-04-25 01:00:00</th>\n",
       "      <td>1901.0</td>\n",
       "      <td>4.832</td>\n",
       "      <td>188956.0</td>\n",
       "      <td>4.173</td>\n",
       "      <td>0.618</td>\n",
       "      <td>13842.59</td>\n",
       "      <td>494.8</td>\n",
       "      <td>0.000113</td>\n",
       "      <td>471.2</td>\n",
       "      <td>432.3</td>\n",
       "      <td>4.834</td>\n",
       "      <td>3.284</td>\n",
       "    </tr>\n",
       "    <tr>\n",
       "      <th>2022-04-25 02:00:00</th>\n",
       "      <td>1905.0</td>\n",
       "      <td>4.835</td>\n",
       "      <td>189063.0</td>\n",
       "      <td>4.178</td>\n",
       "      <td>0.617</td>\n",
       "      <td>13831.97</td>\n",
       "      <td>490.9</td>\n",
       "      <td>0.000113</td>\n",
       "      <td>470.5</td>\n",
       "      <td>431.2</td>\n",
       "      <td>4.835</td>\n",
       "      <td>3.281</td>\n",
       "    </tr>\n",
       "    <tr>\n",
       "      <th>2022-04-25 03:00:00</th>\n",
       "      <td>1915.0</td>\n",
       "      <td>4.833</td>\n",
       "      <td>189756.0</td>\n",
       "      <td>4.220</td>\n",
       "      <td>0.622</td>\n",
       "      <td>13904.38</td>\n",
       "      <td>493.0</td>\n",
       "      <td>0.000114</td>\n",
       "      <td>474.0</td>\n",
       "      <td>440.3</td>\n",
       "      <td>4.834</td>\n",
       "      <td>3.286</td>\n",
       "    </tr>\n",
       "    <tr>\n",
       "      <th>2022-04-25 04:00:00</th>\n",
       "      <td>1910.0</td>\n",
       "      <td>4.833</td>\n",
       "      <td>189191.0</td>\n",
       "      <td>4.196</td>\n",
       "      <td>0.623</td>\n",
       "      <td>13854.75</td>\n",
       "      <td>491.6</td>\n",
       "      <td>0.000113</td>\n",
       "      <td>472.9</td>\n",
       "      <td>440.6</td>\n",
       "      <td>4.834</td>\n",
       "      <td>3.278</td>\n",
       "    </tr>\n",
       "    <tr>\n",
       "      <th>...</th>\n",
       "      <td>...</td>\n",
       "      <td>...</td>\n",
       "      <td>...</td>\n",
       "      <td>...</td>\n",
       "      <td>...</td>\n",
       "      <td>...</td>\n",
       "      <td>...</td>\n",
       "      <td>...</td>\n",
       "      <td>...</td>\n",
       "      <td>...</td>\n",
       "      <td>...</td>\n",
       "      <td>...</td>\n",
       "    </tr>\n",
       "    <tr>\n",
       "      <th>2022-04-29 17:00:00</th>\n",
       "      <td>1963.0</td>\n",
       "      <td>4.957</td>\n",
       "      <td>191750.0</td>\n",
       "      <td>4.009</td>\n",
       "      <td>0.684</td>\n",
       "      <td>14007.54</td>\n",
       "      <td>499.6</td>\n",
       "      <td>0.000111</td>\n",
       "      <td>471.3</td>\n",
       "      <td>425.2</td>\n",
       "      <td>4.961</td>\n",
       "      <td>3.031</td>\n",
       "    </tr>\n",
       "    <tr>\n",
       "      <th>2022-04-29 18:00:00</th>\n",
       "      <td>1958.0</td>\n",
       "      <td>4.973</td>\n",
       "      <td>191531.0</td>\n",
       "      <td>3.977</td>\n",
       "      <td>0.670</td>\n",
       "      <td>13993.00</td>\n",
       "      <td>495.5</td>\n",
       "      <td>0.000110</td>\n",
       "      <td>466.3</td>\n",
       "      <td>422.1</td>\n",
       "      <td>4.971</td>\n",
       "      <td>3.013</td>\n",
       "    </tr>\n",
       "    <tr>\n",
       "      <th>2022-04-29 19:00:00</th>\n",
       "      <td>1950.0</td>\n",
       "      <td>4.982</td>\n",
       "      <td>191000.0</td>\n",
       "      <td>3.963</td>\n",
       "      <td>0.669</td>\n",
       "      <td>13914.61</td>\n",
       "      <td>492.2</td>\n",
       "      <td>0.000109</td>\n",
       "      <td>463.6</td>\n",
       "      <td>422.6</td>\n",
       "      <td>4.981</td>\n",
       "      <td>3.015</td>\n",
       "    </tr>\n",
       "    <tr>\n",
       "      <th>2022-04-29 20:00:00</th>\n",
       "      <td>1966.0</td>\n",
       "      <td>5.000</td>\n",
       "      <td>192830.0</td>\n",
       "      <td>4.010</td>\n",
       "      <td>0.676</td>\n",
       "      <td>14028.00</td>\n",
       "      <td>499.0</td>\n",
       "      <td>0.000111</td>\n",
       "      <td>468.1</td>\n",
       "      <td>428.2</td>\n",
       "      <td>5.000</td>\n",
       "      <td>3.060</td>\n",
       "    </tr>\n",
       "    <tr>\n",
       "      <th>2022-04-29 21:00:00</th>\n",
       "      <td>1969.0</td>\n",
       "      <td>4.999</td>\n",
       "      <td>193010.0</td>\n",
       "      <td>4.030</td>\n",
       "      <td>0.678</td>\n",
       "      <td>14041.36</td>\n",
       "      <td>498.7</td>\n",
       "      <td>0.000111</td>\n",
       "      <td>471.1</td>\n",
       "      <td>428.0</td>\n",
       "      <td>4.999</td>\n",
       "      <td>3.068</td>\n",
       "    </tr>\n",
       "  </tbody>\n",
       "</table>\n",
       "<p>118 rows × 12 columns</p>\n",
       "</div>"
      ],
      "text/plain": [
       "Cripto_name             BNB  Binance USD   Bitcoin  Cardano  Dogecoin  \\\n",
       "date                                                                    \n",
       "2022-04-25 00:00:00  1894.0        4.834  187863.0    4.146     0.614   \n",
       "2022-04-25 01:00:00  1901.0        4.832  188956.0    4.173     0.618   \n",
       "2022-04-25 02:00:00  1905.0        4.835  189063.0    4.178     0.617   \n",
       "2022-04-25 03:00:00  1915.0        4.833  189756.0    4.220     0.622   \n",
       "2022-04-25 04:00:00  1910.0        4.833  189191.0    4.196     0.623   \n",
       "...                     ...          ...       ...      ...       ...   \n",
       "2022-04-29 17:00:00  1963.0        4.957  191750.0    4.009     0.684   \n",
       "2022-04-29 18:00:00  1958.0        4.973  191531.0    3.977     0.670   \n",
       "2022-04-29 19:00:00  1950.0        4.982  191000.0    3.963     0.669   \n",
       "2022-04-29 20:00:00  1966.0        5.000  192830.0    4.010     0.676   \n",
       "2022-04-29 21:00:00  1969.0        4.999  193010.0    4.030     0.678   \n",
       "\n",
       "Cripto_name          Ethereum  Litecoin  Shiba Inu  Solana  Terra  Tether USD  \\\n",
       "date                                                                            \n",
       "2022-04-25 00:00:00  13812.25     493.9   0.000111   469.1  424.2       4.835   \n",
       "2022-04-25 01:00:00  13842.59     494.8   0.000113   471.2  432.3       4.834   \n",
       "2022-04-25 02:00:00  13831.97     490.9   0.000113   470.5  431.2       4.835   \n",
       "2022-04-25 03:00:00  13904.38     493.0   0.000114   474.0  440.3       4.834   \n",
       "2022-04-25 04:00:00  13854.75     491.6   0.000113   472.9  440.6       4.834   \n",
       "...                       ...       ...        ...     ...    ...         ...   \n",
       "2022-04-29 17:00:00  14007.54     499.6   0.000111   471.3  425.2       4.961   \n",
       "2022-04-29 18:00:00  13993.00     495.5   0.000110   466.3  422.1       4.971   \n",
       "2022-04-29 19:00:00  13914.61     492.2   0.000109   463.6  422.6       4.981   \n",
       "2022-04-29 20:00:00  14028.00     499.0   0.000111   468.1  428.2       5.000   \n",
       "2022-04-29 21:00:00  14041.36     498.7   0.000111   471.1  428.0       4.999   \n",
       "\n",
       "Cripto_name            XRP  \n",
       "date                        \n",
       "2022-04-25 00:00:00  3.263  \n",
       "2022-04-25 01:00:00  3.284  \n",
       "2022-04-25 02:00:00  3.281  \n",
       "2022-04-25 03:00:00  3.286  \n",
       "2022-04-25 04:00:00  3.278  \n",
       "...                    ...  \n",
       "2022-04-29 17:00:00  3.031  \n",
       "2022-04-29 18:00:00  3.013  \n",
       "2022-04-29 19:00:00  3.015  \n",
       "2022-04-29 20:00:00  3.060  \n",
       "2022-04-29 21:00:00  3.068  \n",
       "\n",
       "[118 rows x 12 columns]"
      ]
     },
     "execution_count": 95,
     "metadata": {},
     "output_type": "execute_result"
    }
   ],
   "source": [
    "pivot_crypto_data = pd.pivot_table(crypto_data,values=\"close\",index=crypto_data.index, columns=['Cripto_name'],aggfunc='mean')\n",
    "pivot_crypto_data"
   ]
  },
  {
   "cell_type": "code",
   "execution_count": 96,
   "id": "6b4e0b61",
   "metadata": {},
   "outputs": [
    {
     "data": {
      "text/html": [
       "<div>\n",
       "<style scoped>\n",
       "    .dataframe tbody tr th:only-of-type {\n",
       "        vertical-align: middle;\n",
       "    }\n",
       "\n",
       "    .dataframe tbody tr th {\n",
       "        vertical-align: top;\n",
       "    }\n",
       "\n",
       "    .dataframe thead th {\n",
       "        text-align: right;\n",
       "    }\n",
       "</style>\n",
       "<table border=\"1\" class=\"dataframe\">\n",
       "  <thead>\n",
       "    <tr style=\"text-align: right;\">\n",
       "      <th>Cripto_name</th>\n",
       "      <th>BNB</th>\n",
       "      <th>Binance USD</th>\n",
       "      <th>Bitcoin</th>\n",
       "      <th>Cardano</th>\n",
       "      <th>Dogecoin</th>\n",
       "      <th>Ethereum</th>\n",
       "      <th>Litecoin</th>\n",
       "      <th>Shiba Inu</th>\n",
       "      <th>Solana</th>\n",
       "      <th>Terra</th>\n",
       "      <th>Tether USD</th>\n",
       "      <th>XRP</th>\n",
       "    </tr>\n",
       "    <tr>\n",
       "      <th>date</th>\n",
       "      <th></th>\n",
       "      <th></th>\n",
       "      <th></th>\n",
       "      <th></th>\n",
       "      <th></th>\n",
       "      <th></th>\n",
       "      <th></th>\n",
       "      <th></th>\n",
       "      <th></th>\n",
       "      <th></th>\n",
       "      <th></th>\n",
       "      <th></th>\n",
       "    </tr>\n",
       "  </thead>\n",
       "  <tbody>\n",
       "    <tr>\n",
       "      <th>2022-04-25 00:00:00</th>\n",
       "      <td>1.000000</td>\n",
       "      <td>1.000000</td>\n",
       "      <td>1.000000</td>\n",
       "      <td>1.000000</td>\n",
       "      <td>1.000000</td>\n",
       "      <td>1.000000</td>\n",
       "      <td>1.000000</td>\n",
       "      <td>1.000000</td>\n",
       "      <td>1.000000</td>\n",
       "      <td>1.000000</td>\n",
       "      <td>1.000000</td>\n",
       "      <td>1.000000</td>\n",
       "    </tr>\n",
       "    <tr>\n",
       "      <th>2022-04-25 01:00:00</th>\n",
       "      <td>1.003696</td>\n",
       "      <td>0.999586</td>\n",
       "      <td>1.005818</td>\n",
       "      <td>1.006512</td>\n",
       "      <td>1.006515</td>\n",
       "      <td>1.002197</td>\n",
       "      <td>1.001822</td>\n",
       "      <td>1.011930</td>\n",
       "      <td>1.004477</td>\n",
       "      <td>1.019095</td>\n",
       "      <td>0.999793</td>\n",
       "      <td>1.006436</td>\n",
       "    </tr>\n",
       "    <tr>\n",
       "      <th>2022-04-25 02:00:00</th>\n",
       "      <td>1.005808</td>\n",
       "      <td>1.000207</td>\n",
       "      <td>1.006388</td>\n",
       "      <td>1.007718</td>\n",
       "      <td>1.004886</td>\n",
       "      <td>1.001428</td>\n",
       "      <td>0.993926</td>\n",
       "      <td>1.014711</td>\n",
       "      <td>1.002984</td>\n",
       "      <td>1.016502</td>\n",
       "      <td>1.000000</td>\n",
       "      <td>1.005516</td>\n",
       "    </tr>\n",
       "    <tr>\n",
       "      <th>2022-04-25 03:00:00</th>\n",
       "      <td>1.011088</td>\n",
       "      <td>0.999793</td>\n",
       "      <td>1.010076</td>\n",
       "      <td>1.017849</td>\n",
       "      <td>1.013029</td>\n",
       "      <td>1.006670</td>\n",
       "      <td>0.998178</td>\n",
       "      <td>1.018658</td>\n",
       "      <td>1.010446</td>\n",
       "      <td>1.037954</td>\n",
       "      <td>0.999793</td>\n",
       "      <td>1.007049</td>\n",
       "    </tr>\n",
       "    <tr>\n",
       "      <th>2022-04-25 04:00:00</th>\n",
       "      <td>1.008448</td>\n",
       "      <td>0.999793</td>\n",
       "      <td>1.007069</td>\n",
       "      <td>1.012060</td>\n",
       "      <td>1.014658</td>\n",
       "      <td>1.003077</td>\n",
       "      <td>0.995343</td>\n",
       "      <td>1.014532</td>\n",
       "      <td>1.008101</td>\n",
       "      <td>1.038661</td>\n",
       "      <td>0.999793</td>\n",
       "      <td>1.004597</td>\n",
       "    </tr>\n",
       "    <tr>\n",
       "      <th>...</th>\n",
       "      <td>...</td>\n",
       "      <td>...</td>\n",
       "      <td>...</td>\n",
       "      <td>...</td>\n",
       "      <td>...</td>\n",
       "      <td>...</td>\n",
       "      <td>...</td>\n",
       "      <td>...</td>\n",
       "      <td>...</td>\n",
       "      <td>...</td>\n",
       "      <td>...</td>\n",
       "      <td>...</td>\n",
       "    </tr>\n",
       "    <tr>\n",
       "      <th>2022-04-29 17:00:00</th>\n",
       "      <td>1.036431</td>\n",
       "      <td>1.025445</td>\n",
       "      <td>1.020691</td>\n",
       "      <td>0.966956</td>\n",
       "      <td>1.114007</td>\n",
       "      <td>1.014139</td>\n",
       "      <td>1.011541</td>\n",
       "      <td>0.994977</td>\n",
       "      <td>1.004690</td>\n",
       "      <td>1.002357</td>\n",
       "      <td>1.026060</td>\n",
       "      <td>0.928900</td>\n",
       "    </tr>\n",
       "    <tr>\n",
       "      <th>2022-04-29 18:00:00</th>\n",
       "      <td>1.033791</td>\n",
       "      <td>1.028755</td>\n",
       "      <td>1.019525</td>\n",
       "      <td>0.959238</td>\n",
       "      <td>1.091205</td>\n",
       "      <td>1.013086</td>\n",
       "      <td>1.003240</td>\n",
       "      <td>0.987980</td>\n",
       "      <td>0.994031</td>\n",
       "      <td>0.995050</td>\n",
       "      <td>1.028128</td>\n",
       "      <td>0.923383</td>\n",
       "    </tr>\n",
       "    <tr>\n",
       "      <th>2022-04-29 19:00:00</th>\n",
       "      <td>1.029567</td>\n",
       "      <td>1.030616</td>\n",
       "      <td>1.016698</td>\n",
       "      <td>0.955861</td>\n",
       "      <td>1.089577</td>\n",
       "      <td>1.007411</td>\n",
       "      <td>0.996558</td>\n",
       "      <td>0.973717</td>\n",
       "      <td>0.988275</td>\n",
       "      <td>0.996228</td>\n",
       "      <td>1.030196</td>\n",
       "      <td>0.923996</td>\n",
       "    </tr>\n",
       "    <tr>\n",
       "      <th>2022-04-29 20:00:00</th>\n",
       "      <td>1.038015</td>\n",
       "      <td>1.034340</td>\n",
       "      <td>1.026439</td>\n",
       "      <td>0.967197</td>\n",
       "      <td>1.100977</td>\n",
       "      <td>1.015620</td>\n",
       "      <td>1.010326</td>\n",
       "      <td>0.992196</td>\n",
       "      <td>0.997868</td>\n",
       "      <td>1.009430</td>\n",
       "      <td>1.034126</td>\n",
       "      <td>0.937787</td>\n",
       "    </tr>\n",
       "    <tr>\n",
       "      <th>2022-04-29 21:00:00</th>\n",
       "      <td>1.039599</td>\n",
       "      <td>1.034133</td>\n",
       "      <td>1.027398</td>\n",
       "      <td>0.972021</td>\n",
       "      <td>1.104235</td>\n",
       "      <td>1.016587</td>\n",
       "      <td>1.009719</td>\n",
       "      <td>0.994887</td>\n",
       "      <td>1.004263</td>\n",
       "      <td>1.008958</td>\n",
       "      <td>1.033919</td>\n",
       "      <td>0.940239</td>\n",
       "    </tr>\n",
       "  </tbody>\n",
       "</table>\n",
       "<p>118 rows × 12 columns</p>\n",
       "</div>"
      ],
      "text/plain": [
       "Cripto_name               BNB  Binance USD   Bitcoin   Cardano  Dogecoin  \\\n",
       "date                                                                       \n",
       "2022-04-25 00:00:00  1.000000     1.000000  1.000000  1.000000  1.000000   \n",
       "2022-04-25 01:00:00  1.003696     0.999586  1.005818  1.006512  1.006515   \n",
       "2022-04-25 02:00:00  1.005808     1.000207  1.006388  1.007718  1.004886   \n",
       "2022-04-25 03:00:00  1.011088     0.999793  1.010076  1.017849  1.013029   \n",
       "2022-04-25 04:00:00  1.008448     0.999793  1.007069  1.012060  1.014658   \n",
       "...                       ...          ...       ...       ...       ...   \n",
       "2022-04-29 17:00:00  1.036431     1.025445  1.020691  0.966956  1.114007   \n",
       "2022-04-29 18:00:00  1.033791     1.028755  1.019525  0.959238  1.091205   \n",
       "2022-04-29 19:00:00  1.029567     1.030616  1.016698  0.955861  1.089577   \n",
       "2022-04-29 20:00:00  1.038015     1.034340  1.026439  0.967197  1.100977   \n",
       "2022-04-29 21:00:00  1.039599     1.034133  1.027398  0.972021  1.104235   \n",
       "\n",
       "Cripto_name          Ethereum  Litecoin  Shiba Inu    Solana     Terra  \\\n",
       "date                                                                     \n",
       "2022-04-25 00:00:00  1.000000  1.000000   1.000000  1.000000  1.000000   \n",
       "2022-04-25 01:00:00  1.002197  1.001822   1.011930  1.004477  1.019095   \n",
       "2022-04-25 02:00:00  1.001428  0.993926   1.014711  1.002984  1.016502   \n",
       "2022-04-25 03:00:00  1.006670  0.998178   1.018658  1.010446  1.037954   \n",
       "2022-04-25 04:00:00  1.003077  0.995343   1.014532  1.008101  1.038661   \n",
       "...                       ...       ...        ...       ...       ...   \n",
       "2022-04-29 17:00:00  1.014139  1.011541   0.994977  1.004690  1.002357   \n",
       "2022-04-29 18:00:00  1.013086  1.003240   0.987980  0.994031  0.995050   \n",
       "2022-04-29 19:00:00  1.007411  0.996558   0.973717  0.988275  0.996228   \n",
       "2022-04-29 20:00:00  1.015620  1.010326   0.992196  0.997868  1.009430   \n",
       "2022-04-29 21:00:00  1.016587  1.009719   0.994887  1.004263  1.008958   \n",
       "\n",
       "Cripto_name          Tether USD       XRP  \n",
       "date                                       \n",
       "2022-04-25 00:00:00    1.000000  1.000000  \n",
       "2022-04-25 01:00:00    0.999793  1.006436  \n",
       "2022-04-25 02:00:00    1.000000  1.005516  \n",
       "2022-04-25 03:00:00    0.999793  1.007049  \n",
       "2022-04-25 04:00:00    0.999793  1.004597  \n",
       "...                         ...       ...  \n",
       "2022-04-29 17:00:00    1.026060  0.928900  \n",
       "2022-04-29 18:00:00    1.028128  0.923383  \n",
       "2022-04-29 19:00:00    1.030196  0.923996  \n",
       "2022-04-29 20:00:00    1.034126  0.937787  \n",
       "2022-04-29 21:00:00    1.033919  0.940239  \n",
       "\n",
       "[118 rows x 12 columns]"
      ]
     },
     "execution_count": 96,
     "metadata": {},
     "output_type": "execute_result"
    }
   ],
   "source": [
    "df_cripto_normaliz = pivot_crypto_data/pivot_crypto_data.iloc[0]\n",
    "df_cripto_normaliz"
   ]
  },
  {
   "cell_type": "code",
   "execution_count": 97,
   "id": "8135fbb4",
   "metadata": {},
   "outputs": [
    {
     "data": {
      "text/html": [
       "<div>\n",
       "<style scoped>\n",
       "    .dataframe tbody tr th:only-of-type {\n",
       "        vertical-align: middle;\n",
       "    }\n",
       "\n",
       "    .dataframe tbody tr th {\n",
       "        vertical-align: top;\n",
       "    }\n",
       "\n",
       "    .dataframe thead th {\n",
       "        text-align: right;\n",
       "    }\n",
       "</style>\n",
       "<table border=\"1\" class=\"dataframe\">\n",
       "  <thead>\n",
       "    <tr style=\"text-align: right;\">\n",
       "      <th></th>\n",
       "      <th>Cripto_name</th>\n",
       "      <th>value</th>\n",
       "      <th>Data</th>\n",
       "    </tr>\n",
       "    <tr>\n",
       "      <th>date</th>\n",
       "      <th></th>\n",
       "      <th></th>\n",
       "      <th></th>\n",
       "    </tr>\n",
       "  </thead>\n",
       "  <tbody>\n",
       "    <tr>\n",
       "      <th>2022-04-25 00:00:00</th>\n",
       "      <td>BNB</td>\n",
       "      <td>1.000000</td>\n",
       "      <td>2022-04-25 00:00:00</td>\n",
       "    </tr>\n",
       "    <tr>\n",
       "      <th>2022-04-25 01:00:00</th>\n",
       "      <td>BNB</td>\n",
       "      <td>1.003696</td>\n",
       "      <td>2022-04-25 01:00:00</td>\n",
       "    </tr>\n",
       "    <tr>\n",
       "      <th>2022-04-25 02:00:00</th>\n",
       "      <td>BNB</td>\n",
       "      <td>1.005808</td>\n",
       "      <td>2022-04-25 02:00:00</td>\n",
       "    </tr>\n",
       "    <tr>\n",
       "      <th>2022-04-25 03:00:00</th>\n",
       "      <td>BNB</td>\n",
       "      <td>1.011088</td>\n",
       "      <td>2022-04-25 03:00:00</td>\n",
       "    </tr>\n",
       "    <tr>\n",
       "      <th>2022-04-25 04:00:00</th>\n",
       "      <td>BNB</td>\n",
       "      <td>1.008448</td>\n",
       "      <td>2022-04-25 04:00:00</td>\n",
       "    </tr>\n",
       "    <tr>\n",
       "      <th>...</th>\n",
       "      <td>...</td>\n",
       "      <td>...</td>\n",
       "      <td>...</td>\n",
       "    </tr>\n",
       "    <tr>\n",
       "      <th>2022-04-29 17:00:00</th>\n",
       "      <td>XRP</td>\n",
       "      <td>0.928900</td>\n",
       "      <td>2022-04-29 17:00:00</td>\n",
       "    </tr>\n",
       "    <tr>\n",
       "      <th>2022-04-29 18:00:00</th>\n",
       "      <td>XRP</td>\n",
       "      <td>0.923383</td>\n",
       "      <td>2022-04-29 18:00:00</td>\n",
       "    </tr>\n",
       "    <tr>\n",
       "      <th>2022-04-29 19:00:00</th>\n",
       "      <td>XRP</td>\n",
       "      <td>0.923996</td>\n",
       "      <td>2022-04-29 19:00:00</td>\n",
       "    </tr>\n",
       "    <tr>\n",
       "      <th>2022-04-29 20:00:00</th>\n",
       "      <td>XRP</td>\n",
       "      <td>0.937787</td>\n",
       "      <td>2022-04-29 20:00:00</td>\n",
       "    </tr>\n",
       "    <tr>\n",
       "      <th>2022-04-29 21:00:00</th>\n",
       "      <td>XRP</td>\n",
       "      <td>0.940239</td>\n",
       "      <td>2022-04-29 21:00:00</td>\n",
       "    </tr>\n",
       "  </tbody>\n",
       "</table>\n",
       "<p>1416 rows × 3 columns</p>\n",
       "</div>"
      ],
      "text/plain": [
       "                    Cripto_name     value                Data\n",
       "date                                                         \n",
       "2022-04-25 00:00:00         BNB  1.000000 2022-04-25 00:00:00\n",
       "2022-04-25 01:00:00         BNB  1.003696 2022-04-25 01:00:00\n",
       "2022-04-25 02:00:00         BNB  1.005808 2022-04-25 02:00:00\n",
       "2022-04-25 03:00:00         BNB  1.011088 2022-04-25 03:00:00\n",
       "2022-04-25 04:00:00         BNB  1.008448 2022-04-25 04:00:00\n",
       "...                         ...       ...                 ...\n",
       "2022-04-29 17:00:00         XRP  0.928900 2022-04-29 17:00:00\n",
       "2022-04-29 18:00:00         XRP  0.923383 2022-04-29 18:00:00\n",
       "2022-04-29 19:00:00         XRP  0.923996 2022-04-29 19:00:00\n",
       "2022-04-29 20:00:00         XRP  0.937787 2022-04-29 20:00:00\n",
       "2022-04-29 21:00:00         XRP  0.940239 2022-04-29 21:00:00\n",
       "\n",
       "[1416 rows x 3 columns]"
      ]
     },
     "execution_count": 97,
     "metadata": {},
     "output_type": "execute_result"
    }
   ],
   "source": [
    "df_cripto_normaliz_long = pd.melt(df_cripto_normaliz,ignore_index=False)\n",
    "df_cripto_normaliz_long[\"Data\"] = df_cripto_normaliz_long.index\n",
    "df_cripto_normaliz_long"
   ]
  },
  {
   "cell_type": "code",
   "execution_count": 98,
   "id": "bc9056f3",
   "metadata": {},
   "outputs": [
    {
     "data": {
      "application/vnd.plotly.v1+json": {
       "config": {
        "plotlyServerURL": "https://plot.ly"
       },
       "data": [
        {
         "hovertemplate": "Cripto_name=BNB<br>Data=%{x}<br>value=%{y}<extra></extra>",
         "legendgroup": "BNB",
         "line": {
          "color": "#636efa",
          "dash": "solid",
          "width": 3
         },
         "marker": {
          "symbol": "circle"
         },
         "mode": "lines",
         "name": "BNB",
         "showlegend": true,
         "type": "scattergl",
         "x": [
          "2022-04-25T00:00:00",
          "2022-04-25T01:00:00",
          "2022-04-25T02:00:00",
          "2022-04-25T03:00:00",
          "2022-04-25T04:00:00",
          "2022-04-25T05:00:00",
          "2022-04-25T06:00:00",
          "2022-04-25T07:00:00",
          "2022-04-25T08:00:00",
          "2022-04-25T09:00:00",
          "2022-04-25T10:00:00",
          "2022-04-25T11:00:00",
          "2022-04-25T12:00:00",
          "2022-04-25T13:00:00",
          "2022-04-25T14:00:00",
          "2022-04-25T15:00:00",
          "2022-04-25T16:00:00",
          "2022-04-25T17:00:00",
          "2022-04-25T18:00:00",
          "2022-04-25T19:00:00",
          "2022-04-25T20:00:00",
          "2022-04-25T21:00:00",
          "2022-04-25T22:00:00",
          "2022-04-25T23:00:00",
          "2022-04-26T00:00:00",
          "2022-04-26T01:00:00",
          "2022-04-26T02:00:00",
          "2022-04-26T03:00:00",
          "2022-04-26T04:00:00",
          "2022-04-26T05:00:00",
          "2022-04-26T06:00:00",
          "2022-04-26T07:00:00",
          "2022-04-26T08:00:00",
          "2022-04-26T09:00:00",
          "2022-04-26T10:00:00",
          "2022-04-26T11:00:00",
          "2022-04-26T12:00:00",
          "2022-04-26T13:00:00",
          "2022-04-26T14:00:00",
          "2022-04-26T15:00:00",
          "2022-04-26T16:00:00",
          "2022-04-26T17:00:00",
          "2022-04-26T18:00:00",
          "2022-04-26T19:00:00",
          "2022-04-26T20:00:00",
          "2022-04-26T21:00:00",
          "2022-04-26T22:00:00",
          "2022-04-26T23:00:00",
          "2022-04-27T00:00:00",
          "2022-04-27T01:00:00",
          "2022-04-27T02:00:00",
          "2022-04-27T03:00:00",
          "2022-04-27T04:00:00",
          "2022-04-27T05:00:00",
          "2022-04-27T06:00:00",
          "2022-04-27T07:00:00",
          "2022-04-27T08:00:00",
          "2022-04-27T09:00:00",
          "2022-04-27T10:00:00",
          "2022-04-27T11:00:00",
          "2022-04-27T12:00:00",
          "2022-04-27T13:00:00",
          "2022-04-27T14:00:00",
          "2022-04-27T15:00:00",
          "2022-04-27T16:00:00",
          "2022-04-27T17:00:00",
          "2022-04-27T18:00:00",
          "2022-04-27T19:00:00",
          "2022-04-27T20:00:00",
          "2022-04-27T21:00:00",
          "2022-04-27T22:00:00",
          "2022-04-27T23:00:00",
          "2022-04-28T00:00:00",
          "2022-04-28T01:00:00",
          "2022-04-28T02:00:00",
          "2022-04-28T03:00:00",
          "2022-04-28T04:00:00",
          "2022-04-28T05:00:00",
          "2022-04-28T06:00:00",
          "2022-04-28T07:00:00",
          "2022-04-28T08:00:00",
          "2022-04-28T09:00:00",
          "2022-04-28T10:00:00",
          "2022-04-28T11:00:00",
          "2022-04-28T12:00:00",
          "2022-04-28T13:00:00",
          "2022-04-28T14:00:00",
          "2022-04-28T15:00:00",
          "2022-04-28T16:00:00",
          "2022-04-28T17:00:00",
          "2022-04-28T18:00:00",
          "2022-04-28T19:00:00",
          "2022-04-28T20:00:00",
          "2022-04-28T21:00:00",
          "2022-04-28T22:00:00",
          "2022-04-28T23:00:00",
          "2022-04-29T00:00:00",
          "2022-04-29T01:00:00",
          "2022-04-29T02:00:00",
          "2022-04-29T03:00:00",
          "2022-04-29T04:00:00",
          "2022-04-29T05:00:00",
          "2022-04-29T06:00:00",
          "2022-04-29T07:00:00",
          "2022-04-29T08:00:00",
          "2022-04-29T09:00:00",
          "2022-04-29T10:00:00",
          "2022-04-29T11:00:00",
          "2022-04-29T12:00:00",
          "2022-04-29T13:00:00",
          "2022-04-29T14:00:00",
          "2022-04-29T15:00:00",
          "2022-04-29T16:00:00",
          "2022-04-29T17:00:00",
          "2022-04-29T18:00:00",
          "2022-04-29T19:00:00",
          "2022-04-29T20:00:00",
          "2022-04-29T21:00:00"
         ],
         "xaxis": "x",
         "y": [
          1,
          1.0036958817317845,
          1.0058078141499471,
          1.0110876451953537,
          1.0084477296726504,
          1.0010559662090812,
          0.9899683210137276,
          0.9809926082365364,
          0.9831045406546991,
          0.9910242872228089,
          0.9904963041182682,
          1.004751847940866,
          1.0036958817317845,
          1.0110876451953537,
          1.0300950369588173,
          1.0327349524815206,
          1.0359028511087645,
          1.0327349524815206,
          1.0332629355860612,
          1.0395987328405492,
          1.0401267159450898,
          1.0422386483632524,
          1.042766631467793,
          1.0454065469904963,
          1.0480464625131996,
          1.0438225976768742,
          1.0406546990496304,
          1.0406546990496304,
          1.0417106652587118,
          1.042766631467793,
          1.0353748680042238,
          1.0385427666314677,
          1.036430834213305,
          1.0311510031678985,
          1.03220696937698,
          1.03220696937698,
          1.0359028511087645,
          1.0337909186906018,
          1.0316789862724394,
          1.0248152059134108,
          1.029039070749736,
          1.0279831045406547,
          1.027455121436114,
          1.0227032734952481,
          1.0221752903907075,
          1.027455121436114,
          1.0253431890179514,
          1.0248152059134108,
          1.025871172122492,
          1.030623020063358,
          1.0348468848996832,
          1.0311510031678985,
          1.0343189017951426,
          1.0359028511087645,
          1.0417106652587118,
          1.045934530095037,
          1.0353748680042238,
          1.041182682154171,
          1.041182682154171,
          1.038014783526927,
          1.0348468848996832,
          1.042766631467793,
          1.030623020063358,
          1.036430834213305,
          1.0316789862724394,
          1.025871172122492,
          1.0205913410770855,
          1.0248152059134108,
          1.0269271383315735,
          1.0285110876451953,
          1.0279831045406547,
          1.0300950369588173,
          1.0295670538542767,
          1.0263991552270328,
          1.0279831045406547,
          1.0242872228088702,
          1.0269271383315735,
          1.0227032734952481,
          1.0242872228088702,
          1.030623020063358,
          1.0617740232312567,
          1.0586061246040126,
          1.0591341077085534,
          1.0623020063357973,
          1.062829989440338,
          1.0586061246040126,
          1.0654699049630412,
          1.059662090813094,
          1.06441393875396,
          1.0712777191129883,
          1.0633579725448785,
          1.0633579725448785,
          1.0649419218585006,
          1.0665258711721224,
          1.0728616684266103,
          1.068637803590285,
          1.0728616684266103,
          1.0723336853220697,
          1.0591341077085534,
          1.0612460401267159,
          1.062829989440338,
          1.0665258711721224,
          1.0649419218585006,
          1.0654699049630412,
          1.0554382259767687,
          1.0501583949313622,
          1.0417106652587118,
          1.0390707497360085,
          1.029039070749736,
          1.0406546990496304,
          1.0464625131995775,
          1.042766631467793,
          1.0353748680042238,
          1.036430834213305,
          1.0337909186906018,
          1.0295670538542767,
          1.038014783526927,
          1.0395987328405492
         ],
         "yaxis": "y"
        },
        {
         "hovertemplate": "Cripto_name=Binance USD<br>Data=%{x}<br>value=%{y}<extra></extra>",
         "legendgroup": "Binance USD",
         "line": {
          "color": "#EF553B",
          "dash": "solid",
          "width": 3
         },
         "marker": {
          "symbol": "circle"
         },
         "mode": "lines",
         "name": "Binance USD",
         "showlegend": true,
         "type": "scattergl",
         "x": [
          "2022-04-25T00:00:00",
          "2022-04-25T01:00:00",
          "2022-04-25T02:00:00",
          "2022-04-25T03:00:00",
          "2022-04-25T04:00:00",
          "2022-04-25T05:00:00",
          "2022-04-25T06:00:00",
          "2022-04-25T07:00:00",
          "2022-04-25T08:00:00",
          "2022-04-25T09:00:00",
          "2022-04-25T10:00:00",
          "2022-04-25T11:00:00",
          "2022-04-25T12:00:00",
          "2022-04-25T13:00:00",
          "2022-04-25T14:00:00",
          "2022-04-25T15:00:00",
          "2022-04-25T16:00:00",
          "2022-04-25T17:00:00",
          "2022-04-25T18:00:00",
          "2022-04-25T19:00:00",
          "2022-04-25T20:00:00",
          "2022-04-25T21:00:00",
          "2022-04-25T22:00:00",
          "2022-04-25T23:00:00",
          "2022-04-26T00:00:00",
          "2022-04-26T01:00:00",
          "2022-04-26T02:00:00",
          "2022-04-26T03:00:00",
          "2022-04-26T04:00:00",
          "2022-04-26T05:00:00",
          "2022-04-26T06:00:00",
          "2022-04-26T07:00:00",
          "2022-04-26T08:00:00",
          "2022-04-26T09:00:00",
          "2022-04-26T10:00:00",
          "2022-04-26T11:00:00",
          "2022-04-26T12:00:00",
          "2022-04-26T13:00:00",
          "2022-04-26T14:00:00",
          "2022-04-26T15:00:00",
          "2022-04-26T16:00:00",
          "2022-04-26T17:00:00",
          "2022-04-26T18:00:00",
          "2022-04-26T19:00:00",
          "2022-04-26T20:00:00",
          "2022-04-26T21:00:00",
          "2022-04-26T22:00:00",
          "2022-04-26T23:00:00",
          "2022-04-27T00:00:00",
          "2022-04-27T01:00:00",
          "2022-04-27T02:00:00",
          "2022-04-27T03:00:00",
          "2022-04-27T04:00:00",
          "2022-04-27T05:00:00",
          "2022-04-27T06:00:00",
          "2022-04-27T07:00:00",
          "2022-04-27T08:00:00",
          "2022-04-27T09:00:00",
          "2022-04-27T10:00:00",
          "2022-04-27T11:00:00",
          "2022-04-27T12:00:00",
          "2022-04-27T13:00:00",
          "2022-04-27T14:00:00",
          "2022-04-27T15:00:00",
          "2022-04-27T16:00:00",
          "2022-04-27T17:00:00",
          "2022-04-27T18:00:00",
          "2022-04-27T19:00:00",
          "2022-04-27T20:00:00",
          "2022-04-27T21:00:00",
          "2022-04-27T22:00:00",
          "2022-04-27T23:00:00",
          "2022-04-28T00:00:00",
          "2022-04-28T01:00:00",
          "2022-04-28T02:00:00",
          "2022-04-28T03:00:00",
          "2022-04-28T04:00:00",
          "2022-04-28T05:00:00",
          "2022-04-28T06:00:00",
          "2022-04-28T07:00:00",
          "2022-04-28T08:00:00",
          "2022-04-28T09:00:00",
          "2022-04-28T10:00:00",
          "2022-04-28T11:00:00",
          "2022-04-28T12:00:00",
          "2022-04-28T13:00:00",
          "2022-04-28T14:00:00",
          "2022-04-28T15:00:00",
          "2022-04-28T16:00:00",
          "2022-04-28T17:00:00",
          "2022-04-28T18:00:00",
          "2022-04-28T19:00:00",
          "2022-04-28T20:00:00",
          "2022-04-28T21:00:00",
          "2022-04-28T22:00:00",
          "2022-04-28T23:00:00",
          "2022-04-29T00:00:00",
          "2022-04-29T01:00:00",
          "2022-04-29T02:00:00",
          "2022-04-29T03:00:00",
          "2022-04-29T04:00:00",
          "2022-04-29T05:00:00",
          "2022-04-29T06:00:00",
          "2022-04-29T07:00:00",
          "2022-04-29T08:00:00",
          "2022-04-29T09:00:00",
          "2022-04-29T10:00:00",
          "2022-04-29T11:00:00",
          "2022-04-29T12:00:00",
          "2022-04-29T13:00:00",
          "2022-04-29T14:00:00",
          "2022-04-29T15:00:00",
          "2022-04-29T16:00:00",
          "2022-04-29T17:00:00",
          "2022-04-29T18:00:00",
          "2022-04-29T19:00:00",
          "2022-04-29T20:00:00",
          "2022-04-29T21:00:00"
         ],
         "xaxis": "x",
         "y": [
          1,
          0.9995862639635913,
          1.0002068680182044,
          0.9997931319817958,
          0.9997931319817958,
          1,
          1.001034340091022,
          1.0008274720728176,
          1.0006206040546133,
          1.003103020273066,
          1.00330988829127,
          1.0024824162184527,
          1.0008274720728176,
          1.0091021928009931,
          1.0233760860570957,
          1.0258585022755482,
          1.0194455937112124,
          1.0159288374017377,
          1.0113777410012412,
          1.0126189491104676,
          1.0136532892014896,
          1.0130326851468765,
          1.0126189491104676,
          1.0130326851468765,
          1.0115846090194456,
          1.0111708729830369,
          1.0103434009102195,
          1.0093090608191972,
          1.0097227968556062,
          1.0093090608191972,
          1.0072403806371535,
          1.0099296648738105,
          1.0105502689284236,
          1.0105502689284236,
          1.0117914770376502,
          1.0103434009102195,
          1.0200661977658254,
          1.0266859743483658,
          1.0341332230037237,
          1.0349606950765413,
          1.031030202730658,
          1.03206454282168,
          1.033719486967315,
          1.038063715349607,
          1.0401323955316508,
          1.0409598676044685,
          1.0407529995862639,
          1.0401323955316508,
          1.0407529995862639,
          1.0405461315680598,
          1.0409598676044685,
          1.0407529995862639,
          1.0397186594952421,
          1.0399255275134465,
          1.0397186594952421,
          1.0399255275134465,
          1.0382705833678114,
          1.0388911874224247,
          1.0395117914770378,
          1.0409598676044685,
          1.0407529995862639,
          1.0386843194042201,
          1.0438560198593299,
          1.0432354158047168,
          1.0355812991311544,
          1.0302027306578405,
          1.0314439387670666,
          1.0335126189491106,
          1.0335126189491106,
          1.0324782788580886,
          1.0324782788580886,
          1.03206454282168,
          1.0304095986760446,
          1.0312370707488623,
          1.0295821266032272,
          1.0291683905668183,
          1.0295821266032272,
          1.0289615225486142,
          1.0289615225486142,
          1.0281340504757965,
          1.0287546545304096,
          1.0277203144393878,
          1.0291683905668183,
          1.0297889946214316,
          1.034340091021928,
          1.0393049234588334,
          1.0397186594952421,
          1.0324782788580886,
          1.0293752585850229,
          1.0302027306578405,
          1.0283409184940009,
          1.0281340504757965,
          1.0287546545304096,
          1.0291683905668183,
          1.0289615225486142,
          1.0281340504757965,
          1.0285477865122055,
          1.0283409184940009,
          1.0283409184940009,
          1.0287546545304096,
          1.0287546545304096,
          1.0287546545304096,
          1.0285477865122055,
          1.0287546545304096,
          1.0285477865122055,
          1.0295821266032272,
          1.0306164666942492,
          1.0308233347124534,
          1.0169631774927599,
          1.0179975175837817,
          1.0285477865122055,
          1.0256516342573438,
          1.0283409184940009,
          1.0254447662391395,
          1.0287546545304096,
          1.0306164666942492,
          1.034340091021928,
          1.0341332230037237
         ],
         "yaxis": "y"
        },
        {
         "hovertemplate": "Cripto_name=Bitcoin<br>Data=%{x}<br>value=%{y}<extra></extra>",
         "legendgroup": "Bitcoin",
         "line": {
          "color": "#00cc96",
          "dash": "solid",
          "width": 3
         },
         "marker": {
          "symbol": "circle"
         },
         "mode": "lines",
         "name": "Bitcoin",
         "showlegend": true,
         "type": "scattergl",
         "x": [
          "2022-04-25T00:00:00",
          "2022-04-25T01:00:00",
          "2022-04-25T02:00:00",
          "2022-04-25T03:00:00",
          "2022-04-25T04:00:00",
          "2022-04-25T05:00:00",
          "2022-04-25T06:00:00",
          "2022-04-25T07:00:00",
          "2022-04-25T08:00:00",
          "2022-04-25T09:00:00",
          "2022-04-25T10:00:00",
          "2022-04-25T11:00:00",
          "2022-04-25T12:00:00",
          "2022-04-25T13:00:00",
          "2022-04-25T14:00:00",
          "2022-04-25T15:00:00",
          "2022-04-25T16:00:00",
          "2022-04-25T17:00:00",
          "2022-04-25T18:00:00",
          "2022-04-25T19:00:00",
          "2022-04-25T20:00:00",
          "2022-04-25T21:00:00",
          "2022-04-25T22:00:00",
          "2022-04-25T23:00:00",
          "2022-04-26T00:00:00",
          "2022-04-26T01:00:00",
          "2022-04-26T02:00:00",
          "2022-04-26T03:00:00",
          "2022-04-26T04:00:00",
          "2022-04-26T05:00:00",
          "2022-04-26T06:00:00",
          "2022-04-26T07:00:00",
          "2022-04-26T08:00:00",
          "2022-04-26T09:00:00",
          "2022-04-26T10:00:00",
          "2022-04-26T11:00:00",
          "2022-04-26T12:00:00",
          "2022-04-26T13:00:00",
          "2022-04-26T14:00:00",
          "2022-04-26T15:00:00",
          "2022-04-26T16:00:00",
          "2022-04-26T17:00:00",
          "2022-04-26T18:00:00",
          "2022-04-26T19:00:00",
          "2022-04-26T20:00:00",
          "2022-04-26T21:00:00",
          "2022-04-26T22:00:00",
          "2022-04-26T23:00:00",
          "2022-04-27T00:00:00",
          "2022-04-27T01:00:00",
          "2022-04-27T02:00:00",
          "2022-04-27T03:00:00",
          "2022-04-27T04:00:00",
          "2022-04-27T05:00:00",
          "2022-04-27T06:00:00",
          "2022-04-27T07:00:00",
          "2022-04-27T08:00:00",
          "2022-04-27T09:00:00",
          "2022-04-27T10:00:00",
          "2022-04-27T11:00:00",
          "2022-04-27T12:00:00",
          "2022-04-27T13:00:00",
          "2022-04-27T14:00:00",
          "2022-04-27T15:00:00",
          "2022-04-27T16:00:00",
          "2022-04-27T17:00:00",
          "2022-04-27T18:00:00",
          "2022-04-27T19:00:00",
          "2022-04-27T20:00:00",
          "2022-04-27T21:00:00",
          "2022-04-27T22:00:00",
          "2022-04-27T23:00:00",
          "2022-04-28T00:00:00",
          "2022-04-28T01:00:00",
          "2022-04-28T02:00:00",
          "2022-04-28T03:00:00",
          "2022-04-28T04:00:00",
          "2022-04-28T05:00:00",
          "2022-04-28T06:00:00",
          "2022-04-28T07:00:00",
          "2022-04-28T08:00:00",
          "2022-04-28T09:00:00",
          "2022-04-28T10:00:00",
          "2022-04-28T11:00:00",
          "2022-04-28T12:00:00",
          "2022-04-28T13:00:00",
          "2022-04-28T14:00:00",
          "2022-04-28T15:00:00",
          "2022-04-28T16:00:00",
          "2022-04-28T17:00:00",
          "2022-04-28T18:00:00",
          "2022-04-28T19:00:00",
          "2022-04-28T20:00:00",
          "2022-04-28T21:00:00",
          "2022-04-28T22:00:00",
          "2022-04-28T23:00:00",
          "2022-04-29T00:00:00",
          "2022-04-29T01:00:00",
          "2022-04-29T02:00:00",
          "2022-04-29T03:00:00",
          "2022-04-29T04:00:00",
          "2022-04-29T05:00:00",
          "2022-04-29T06:00:00",
          "2022-04-29T07:00:00",
          "2022-04-29T08:00:00",
          "2022-04-29T09:00:00",
          "2022-04-29T10:00:00",
          "2022-04-29T11:00:00",
          "2022-04-29T12:00:00",
          "2022-04-29T13:00:00",
          "2022-04-29T14:00:00",
          "2022-04-29T15:00:00",
          "2022-04-29T16:00:00",
          "2022-04-29T17:00:00",
          "2022-04-29T18:00:00",
          "2022-04-29T19:00:00",
          "2022-04-29T20:00:00",
          "2022-04-29T21:00:00"
         ],
         "xaxis": "x",
         "y": [
          1,
          1.0058180695506833,
          1.0063876335414637,
          1.010076491911659,
          1.00706898111922,
          1.0031086483235123,
          0.9953370275147315,
          0.9907751925605361,
          0.9897904323895604,
          0.9963750179652193,
          0.9921112725762923,
          1.001698045916439,
          0.9992547760868292,
          1.006078897920293,
          1.0285367528464893,
          1.0292766537317088,
          1.0355791188259529,
          1.0299420322256112,
          1.037734945146197,
          1.0486365063902952,
          1.0480190351479535,
          1.0486205373064414,
          1.0513086664218074,
          1.05306526564571,
          1.0555937039225394,
          1.0534591697141003,
          1.0537572592793685,
          1.0526713615773196,
          1.0541405172918563,
          1.0538743658942953,
          1.0500098476017097,
          1.05481121881371,
          1.0536401526644417,
          1.0501056621048317,
          1.0513885118410757,
          1.0521017975865392,
          1.0576111315160517,
          1.0517291856299538,
          1.0449582940760023,
          1.0271421195232697,
          1.026109452100733,
          1.0199294166493669,
          1.0218457067118059,
          1.022745298435562,
          1.0203552588854643,
          1.0269238753772696,
          1.023059357084684,
          1.0204457503606352,
          1.0226920681560498,
          1.0255718262776599,
          1.0293192379553184,
          1.0268387069300502,
          1.0276424841506844,
          1.0279192816041478,
          1.0339662413567334,
          1.0456183495419535,
          1.0410618376157093,
          1.0441598398833192,
          1.0460814529737095,
          1.0446229433150753,
          1.0417431851934655,
          1.0514364190926366,
          1.0385653375065873,
          1.047252519122978,
          1.0442130701628314,
          1.0365851711087335,
          1.029819602582733,
          1.033934303189026,
          1.0396139740129775,
          1.0411949133144898,
          1.03853339933888,
          1.0424192097432703,
          1.0444259912808802,
          1.0414504186561484,
          1.0446548814827827,
          1.0427811756439533,
          1.0437712588428802,
          1.0421530583457095,
          1.0421424122898069,
          1.0423074261562948,
          1.0492486546046853,
          1.052021952167271,
          1.051468357260344,
          1.0518196771051245,
          1.052703299745027,
          1.0447613420418072,
          1.0519421067480026,
          1.0492805927723927,
          1.057770822354588,
          1.0681134656638083,
          1.0607091337836616,
          1.0579784204446858,
          1.0561206836897101,
          1.0551572156305393,
          1.053890334978149,
          1.0515056184560025,
          1.0544119917173684,
          1.0538317816706855,
          1.045533181094734,
          1.046241143812246,
          1.0467148932999046,
          1.0451605691381485,
          1.04468681965049,
          1.0474388251012705,
          1.042530993330246,
          1.0365372638571726,
          1.029883478918148,
          1.0277915289333184,
          1.0195674507486838,
          1.0296812038560015,
          1.0312035898500502,
          1.0291595471167818,
          1.0192959763231717,
          1.0206906096463912,
          1.019524866525074,
          1.0166983386829764,
          1.0264394798337086,
          1.0273976248649281
         ],
         "yaxis": "y"
        },
        {
         "hovertemplate": "Cripto_name=Cardano<br>Data=%{x}<br>value=%{y}<extra></extra>",
         "legendgroup": "Cardano",
         "line": {
          "color": "#ab63fa",
          "dash": "solid",
          "width": 3
         },
         "marker": {
          "symbol": "circle"
         },
         "mode": "lines",
         "name": "Cardano",
         "showlegend": true,
         "type": "scattergl",
         "x": [
          "2022-04-25T00:00:00",
          "2022-04-25T01:00:00",
          "2022-04-25T02:00:00",
          "2022-04-25T03:00:00",
          "2022-04-25T04:00:00",
          "2022-04-25T05:00:00",
          "2022-04-25T06:00:00",
          "2022-04-25T07:00:00",
          "2022-04-25T08:00:00",
          "2022-04-25T09:00:00",
          "2022-04-25T10:00:00",
          "2022-04-25T11:00:00",
          "2022-04-25T12:00:00",
          "2022-04-25T13:00:00",
          "2022-04-25T14:00:00",
          "2022-04-25T15:00:00",
          "2022-04-25T16:00:00",
          "2022-04-25T17:00:00",
          "2022-04-25T18:00:00",
          "2022-04-25T19:00:00",
          "2022-04-25T20:00:00",
          "2022-04-25T21:00:00",
          "2022-04-25T22:00:00",
          "2022-04-25T23:00:00",
          "2022-04-26T00:00:00",
          "2022-04-26T01:00:00",
          "2022-04-26T02:00:00",
          "2022-04-26T03:00:00",
          "2022-04-26T04:00:00",
          "2022-04-26T05:00:00",
          "2022-04-26T06:00:00",
          "2022-04-26T07:00:00",
          "2022-04-26T08:00:00",
          "2022-04-26T09:00:00",
          "2022-04-26T10:00:00",
          "2022-04-26T11:00:00",
          "2022-04-26T12:00:00",
          "2022-04-26T13:00:00",
          "2022-04-26T14:00:00",
          "2022-04-26T15:00:00",
          "2022-04-26T16:00:00",
          "2022-04-26T17:00:00",
          "2022-04-26T18:00:00",
          "2022-04-26T19:00:00",
          "2022-04-26T20:00:00",
          "2022-04-26T21:00:00",
          "2022-04-26T22:00:00",
          "2022-04-26T23:00:00",
          "2022-04-27T00:00:00",
          "2022-04-27T01:00:00",
          "2022-04-27T02:00:00",
          "2022-04-27T03:00:00",
          "2022-04-27T04:00:00",
          "2022-04-27T05:00:00",
          "2022-04-27T06:00:00",
          "2022-04-27T07:00:00",
          "2022-04-27T08:00:00",
          "2022-04-27T09:00:00",
          "2022-04-27T10:00:00",
          "2022-04-27T11:00:00",
          "2022-04-27T12:00:00",
          "2022-04-27T13:00:00",
          "2022-04-27T14:00:00",
          "2022-04-27T15:00:00",
          "2022-04-27T16:00:00",
          "2022-04-27T17:00:00",
          "2022-04-27T18:00:00",
          "2022-04-27T19:00:00",
          "2022-04-27T20:00:00",
          "2022-04-27T21:00:00",
          "2022-04-27T22:00:00",
          "2022-04-27T23:00:00",
          "2022-04-28T00:00:00",
          "2022-04-28T01:00:00",
          "2022-04-28T02:00:00",
          "2022-04-28T03:00:00",
          "2022-04-28T04:00:00",
          "2022-04-28T05:00:00",
          "2022-04-28T06:00:00",
          "2022-04-28T07:00:00",
          "2022-04-28T08:00:00",
          "2022-04-28T09:00:00",
          "2022-04-28T10:00:00",
          "2022-04-28T11:00:00",
          "2022-04-28T12:00:00",
          "2022-04-28T13:00:00",
          "2022-04-28T14:00:00",
          "2022-04-28T15:00:00",
          "2022-04-28T16:00:00",
          "2022-04-28T17:00:00",
          "2022-04-28T18:00:00",
          "2022-04-28T19:00:00",
          "2022-04-28T20:00:00",
          "2022-04-28T21:00:00",
          "2022-04-28T22:00:00",
          "2022-04-28T23:00:00",
          "2022-04-29T00:00:00",
          "2022-04-29T01:00:00",
          "2022-04-29T02:00:00",
          "2022-04-29T03:00:00",
          "2022-04-29T04:00:00",
          "2022-04-29T05:00:00",
          "2022-04-29T06:00:00",
          "2022-04-29T07:00:00",
          "2022-04-29T08:00:00",
          "2022-04-29T09:00:00",
          "2022-04-29T10:00:00",
          "2022-04-29T11:00:00",
          "2022-04-29T12:00:00",
          "2022-04-29T13:00:00",
          "2022-04-29T14:00:00",
          "2022-04-29T15:00:00",
          "2022-04-29T16:00:00",
          "2022-04-29T17:00:00",
          "2022-04-29T18:00:00",
          "2022-04-29T19:00:00",
          "2022-04-29T20:00:00",
          "2022-04-29T21:00:00"
         ],
         "xaxis": "x",
         "y": [
          1,
          1.0065123010130246,
          1.0077182826821032,
          1.0178485287023638,
          1.0120598166907862,
          1.0057887120115774,
          0.9855282199710566,
          0.9727448142788231,
          0.9715388326097443,
          0.9848046309696094,
          0.9869753979739507,
          1.0012059816690786,
          0.9990352146647372,
          1.006994693680656,
          1.0253256150506513,
          1.02653159671973,
          1.0400385914134107,
          1.0311143270622287,
          1.0347322720694645,
          1.047515677761698,
          1.051857211770381,
          1.0600578871201156,
          1.0607814761215628,
          1.0605402797877472,
          1.054510371442354,
          1.0441389290882779,
          1.0451037144235409,
          1.0446213217559095,
          1.0511336227689339,
          1.051857211770381,
          1.042450554751568,
          1.0477568740955139,
          1.0506512301013025,
          1.0482392667631453,
          1.0446213217559095,
          1.0434153400868307,
          1.042450554751568,
          1.0330438977327545,
          1.030631934394597,
          1.0178485287023638,
          1.0176073323685482,
          1.0103714423540762,
          1.0077182826821032,
          1.0057887120115774,
          1.0065123010130246,
          1.0188133140376268,
          1.0135069946936808,
          1.0021707670043416,
          1.0028943560057888,
          1.011336227689339,
          1.015918958031838,
          1.0062711046792088,
          1.0110950313555234,
          1.014230583695128,
          1.0209840810419681,
          1.033526290400386,
          1.0192957067052582,
          1.0274963820549927,
          1.0262904003859141,
          1.0166425470332852,
          1.0125422093584178,
          1.0270139893873613,
          1.0151953690303908,
          1.0207428847081526,
          1.0125422093584178,
          1.0060299083453932,
          1.0007235890014472,
          1.0021707670043416,
          1.0086830680173662,
          1.0101302460202604,
          1.0089242643511818,
          1.011336227689339,
          1.011336227689339,
          1.0084418716835504,
          1.0115774240231548,
          1.0072358900144718,
          1.010612638687892,
          1.0021707670043416,
          1.0055475156777616,
          1.0086830680173662,
          1.018572117703811,
          1.0197780993728895,
          1.019536903039074,
          1.0176073323685482,
          1.0118186203569706,
          1.0055475156777616,
          1.0144717800289438,
          1.0045827303424988,
          1.006994693680656,
          1.0144717800289438,
          1.0156777616980224,
          1.0072358900144718,
          1.0091654606849976,
          1.0176073323685482,
          1.0139893873613122,
          1.011336227689339,
          1.012301013024602,
          1.0108538350217076,
          0.9992764109985528,
          1.0002411963338158,
          1.0045827303424988,
          1,
          1.000964785335263,
          1.0031355523396044,
          0.9954172696575012,
          0.9864930053063193,
          0.9756391702846117,
          0.9758803666184275,
          0.9671972986010612,
          0.9773275446213217,
          0.9744331886155331,
          0.9768451519536903,
          0.967438494934877,
          0.9669561022672456,
          0.9592378195851423,
          0.9558610709117222,
          0.9671972986010612,
          0.9720212252773759
         ],
         "yaxis": "y"
        },
        {
         "hovertemplate": "Cripto_name=Dogecoin<br>Data=%{x}<br>value=%{y}<extra></extra>",
         "legendgroup": "Dogecoin",
         "line": {
          "color": "#FFA15A",
          "dash": "solid",
          "width": 3
         },
         "marker": {
          "symbol": "circle"
         },
         "mode": "lines",
         "name": "Dogecoin",
         "showlegend": true,
         "type": "scattergl",
         "x": [
          "2022-04-25T00:00:00",
          "2022-04-25T01:00:00",
          "2022-04-25T02:00:00",
          "2022-04-25T03:00:00",
          "2022-04-25T04:00:00",
          "2022-04-25T05:00:00",
          "2022-04-25T06:00:00",
          "2022-04-25T07:00:00",
          "2022-04-25T08:00:00",
          "2022-04-25T09:00:00",
          "2022-04-25T10:00:00",
          "2022-04-25T11:00:00",
          "2022-04-25T12:00:00",
          "2022-04-25T13:00:00",
          "2022-04-25T14:00:00",
          "2022-04-25T15:00:00",
          "2022-04-25T16:00:00",
          "2022-04-25T17:00:00",
          "2022-04-25T18:00:00",
          "2022-04-25T19:00:00",
          "2022-04-25T20:00:00",
          "2022-04-25T21:00:00",
          "2022-04-25T22:00:00",
          "2022-04-25T23:00:00",
          "2022-04-26T00:00:00",
          "2022-04-26T01:00:00",
          "2022-04-26T02:00:00",
          "2022-04-26T03:00:00",
          "2022-04-26T04:00:00",
          "2022-04-26T05:00:00",
          "2022-04-26T06:00:00",
          "2022-04-26T07:00:00",
          "2022-04-26T08:00:00",
          "2022-04-26T09:00:00",
          "2022-04-26T10:00:00",
          "2022-04-26T11:00:00",
          "2022-04-26T12:00:00",
          "2022-04-26T13:00:00",
          "2022-04-26T14:00:00",
          "2022-04-26T15:00:00",
          "2022-04-26T16:00:00",
          "2022-04-26T17:00:00",
          "2022-04-26T18:00:00",
          "2022-04-26T19:00:00",
          "2022-04-26T20:00:00",
          "2022-04-26T21:00:00",
          "2022-04-26T22:00:00",
          "2022-04-26T23:00:00",
          "2022-04-27T00:00:00",
          "2022-04-27T01:00:00",
          "2022-04-27T02:00:00",
          "2022-04-27T03:00:00",
          "2022-04-27T04:00:00",
          "2022-04-27T05:00:00",
          "2022-04-27T06:00:00",
          "2022-04-27T07:00:00",
          "2022-04-27T08:00:00",
          "2022-04-27T09:00:00",
          "2022-04-27T10:00:00",
          "2022-04-27T11:00:00",
          "2022-04-27T12:00:00",
          "2022-04-27T13:00:00",
          "2022-04-27T14:00:00",
          "2022-04-27T15:00:00",
          "2022-04-27T16:00:00",
          "2022-04-27T17:00:00",
          "2022-04-27T18:00:00",
          "2022-04-27T19:00:00",
          "2022-04-27T20:00:00",
          "2022-04-27T21:00:00",
          "2022-04-27T22:00:00",
          "2022-04-27T23:00:00",
          "2022-04-28T00:00:00",
          "2022-04-28T01:00:00",
          "2022-04-28T02:00:00",
          "2022-04-28T03:00:00",
          "2022-04-28T04:00:00",
          "2022-04-28T05:00:00",
          "2022-04-28T06:00:00",
          "2022-04-28T07:00:00",
          "2022-04-28T08:00:00",
          "2022-04-28T09:00:00",
          "2022-04-28T10:00:00",
          "2022-04-28T11:00:00",
          "2022-04-28T12:00:00",
          "2022-04-28T13:00:00",
          "2022-04-28T14:00:00",
          "2022-04-28T15:00:00",
          "2022-04-28T16:00:00",
          "2022-04-28T17:00:00",
          "2022-04-28T18:00:00",
          "2022-04-28T19:00:00",
          "2022-04-28T20:00:00",
          "2022-04-28T21:00:00",
          "2022-04-28T22:00:00",
          "2022-04-28T23:00:00",
          "2022-04-29T00:00:00",
          "2022-04-29T01:00:00",
          "2022-04-29T02:00:00",
          "2022-04-29T03:00:00",
          "2022-04-29T04:00:00",
          "2022-04-29T05:00:00",
          "2022-04-29T06:00:00",
          "2022-04-29T07:00:00",
          "2022-04-29T08:00:00",
          "2022-04-29T09:00:00",
          "2022-04-29T10:00:00",
          "2022-04-29T11:00:00",
          "2022-04-29T12:00:00",
          "2022-04-29T13:00:00",
          "2022-04-29T14:00:00",
          "2022-04-29T15:00:00",
          "2022-04-29T16:00:00",
          "2022-04-29T17:00:00",
          "2022-04-29T18:00:00",
          "2022-04-29T19:00:00",
          "2022-04-29T20:00:00",
          "2022-04-29T21:00:00"
         ],
         "xaxis": "x",
         "y": [
          1,
          1.006514657980456,
          1.004885993485342,
          1.013029315960912,
          1.014657980456026,
          1.003257328990228,
          0.9869706840390879,
          0.9788273615635179,
          0.9755700325732899,
          0.9853420195439739,
          0.9853420195439739,
          1.1026058631921825,
          1.1009771986970684,
          1.1026058631921825,
          1.1188925081433225,
          1.1205211726384363,
          1.1758957654723128,
          1.205211726384365,
          1.234527687296417,
          1.2915309446254073,
          1.2622149837133552,
          1.2768729641693812,
          1.229641693811075,
          1.2605863192182412,
          1.226384364820847,
          1.1970684039087949,
          1.216612377850163,
          1.221498371335505,
          1.2752442996742672,
          1.2736156351791532,
          1.2508143322475571,
          1.2817589576547233,
          1.3078175895765474,
          1.2866449511400653,
          1.2785016286644952,
          1.2687296416938112,
          1.249185667752443,
          1.234527687296417,
          1.221498371335505,
          1.1938110749185669,
          1.1758957654723128,
          1.1514657980456025,
          1.1563517915309447,
          1.1498371335504884,
          1.1596091205211727,
          1.1628664495114007,
          1.1563517915309447,
          1.1270358306188923,
          1.1237785016286643,
          1.1416938110749184,
          1.1563517915309447,
          1.1465798045602604,
          1.1514657980456025,
          1.1514657980456025,
          1.1710097719869708,
          1.1824104234527688,
          1.1693811074918568,
          1.1693811074918568,
          1.1530944625407167,
          1.1449511400651464,
          1.1400651465798044,
          1.1596091205211727,
          1.1384364820846904,
          1.1498371335504884,
          1.1416938110749184,
          1.1368078175895764,
          1.1254071661237783,
          1.1270358306188923,
          1.1302931596091204,
          1.1270358306188923,
          1.1237785016286643,
          1.1384364820846904,
          1.1482084690553744,
          1.1416938110749184,
          1.1400651465798044,
          1.1286644951140063,
          1.1286644951140063,
          1.1302931596091204,
          1.1319218241042344,
          1.1302931596091204,
          1.1384364820846904,
          1.1400651465798044,
          1.1368078175895764,
          1.1368078175895764,
          1.1286644951140063,
          1.1188925081433225,
          1.1270358306188923,
          1.1188925081433225,
          1.1221498371335503,
          1.1302931596091204,
          1.1221498371335503,
          1.1140065146579805,
          1.1172638436482085,
          1.1026058631921825,
          1.1074918566775245,
          1.1140065146579805,
          1.1188925081433225,
          1.1172638436482085,
          1.1058631921824105,
          1.1449511400651464,
          1.1710097719869708,
          1.1530944625407167,
          1.1433224755700324,
          1.1416938110749184,
          1.1172638436482085,
          1.1156351791530945,
          1.1058631921824105,
          1.1205211726384363,
          1.1074918566775245,
          1.1302931596091204,
          1.1188925081433225,
          1.1172638436482085,
          1.1091205211726385,
          1.1140065146579805,
          1.0912052117263844,
          1.0895765472312704,
          1.1009771986970684,
          1.1042345276872965
         ],
         "yaxis": "y"
        },
        {
         "hovertemplate": "Cripto_name=Ethereum<br>Data=%{x}<br>value=%{y}<extra></extra>",
         "legendgroup": "Ethereum",
         "line": {
          "color": "#19d3f3",
          "dash": "solid",
          "width": 3
         },
         "marker": {
          "symbol": "circle"
         },
         "mode": "lines",
         "name": "Ethereum",
         "showlegend": true,
         "type": "scattergl",
         "x": [
          "2022-04-25T00:00:00",
          "2022-04-25T01:00:00",
          "2022-04-25T02:00:00",
          "2022-04-25T03:00:00",
          "2022-04-25T04:00:00",
          "2022-04-25T05:00:00",
          "2022-04-25T06:00:00",
          "2022-04-25T07:00:00",
          "2022-04-25T08:00:00",
          "2022-04-25T09:00:00",
          "2022-04-25T10:00:00",
          "2022-04-25T11:00:00",
          "2022-04-25T12:00:00",
          "2022-04-25T13:00:00",
          "2022-04-25T14:00:00",
          "2022-04-25T15:00:00",
          "2022-04-25T16:00:00",
          "2022-04-25T17:00:00",
          "2022-04-25T18:00:00",
          "2022-04-25T19:00:00",
          "2022-04-25T20:00:00",
          "2022-04-25T21:00:00",
          "2022-04-25T22:00:00",
          "2022-04-25T23:00:00",
          "2022-04-26T00:00:00",
          "2022-04-26T01:00:00",
          "2022-04-26T02:00:00",
          "2022-04-26T03:00:00",
          "2022-04-26T04:00:00",
          "2022-04-26T05:00:00",
          "2022-04-26T06:00:00",
          "2022-04-26T07:00:00",
          "2022-04-26T08:00:00",
          "2022-04-26T09:00:00",
          "2022-04-26T10:00:00",
          "2022-04-26T11:00:00",
          "2022-04-26T12:00:00",
          "2022-04-26T13:00:00",
          "2022-04-26T14:00:00",
          "2022-04-26T15:00:00",
          "2022-04-26T16:00:00",
          "2022-04-26T17:00:00",
          "2022-04-26T18:00:00",
          "2022-04-26T19:00:00",
          "2022-04-26T20:00:00",
          "2022-04-26T21:00:00",
          "2022-04-26T22:00:00",
          "2022-04-26T23:00:00",
          "2022-04-27T00:00:00",
          "2022-04-27T01:00:00",
          "2022-04-27T02:00:00",
          "2022-04-27T03:00:00",
          "2022-04-27T04:00:00",
          "2022-04-27T05:00:00",
          "2022-04-27T06:00:00",
          "2022-04-27T07:00:00",
          "2022-04-27T08:00:00",
          "2022-04-27T09:00:00",
          "2022-04-27T10:00:00",
          "2022-04-27T11:00:00",
          "2022-04-27T12:00:00",
          "2022-04-27T13:00:00",
          "2022-04-27T14:00:00",
          "2022-04-27T15:00:00",
          "2022-04-27T16:00:00",
          "2022-04-27T17:00:00",
          "2022-04-27T18:00:00",
          "2022-04-27T19:00:00",
          "2022-04-27T20:00:00",
          "2022-04-27T21:00:00",
          "2022-04-27T22:00:00",
          "2022-04-27T23:00:00",
          "2022-04-28T00:00:00",
          "2022-04-28T01:00:00",
          "2022-04-28T02:00:00",
          "2022-04-28T03:00:00",
          "2022-04-28T04:00:00",
          "2022-04-28T05:00:00",
          "2022-04-28T06:00:00",
          "2022-04-28T07:00:00",
          "2022-04-28T08:00:00",
          "2022-04-28T09:00:00",
          "2022-04-28T10:00:00",
          "2022-04-28T11:00:00",
          "2022-04-28T12:00:00",
          "2022-04-28T13:00:00",
          "2022-04-28T14:00:00",
          "2022-04-28T15:00:00",
          "2022-04-28T16:00:00",
          "2022-04-28T17:00:00",
          "2022-04-28T18:00:00",
          "2022-04-28T19:00:00",
          "2022-04-28T20:00:00",
          "2022-04-28T21:00:00",
          "2022-04-28T22:00:00",
          "2022-04-28T23:00:00",
          "2022-04-29T00:00:00",
          "2022-04-29T01:00:00",
          "2022-04-29T02:00:00",
          "2022-04-29T03:00:00",
          "2022-04-29T04:00:00",
          "2022-04-29T05:00:00",
          "2022-04-29T06:00:00",
          "2022-04-29T07:00:00",
          "2022-04-29T08:00:00",
          "2022-04-29T09:00:00",
          "2022-04-29T10:00:00",
          "2022-04-29T11:00:00",
          "2022-04-29T12:00:00",
          "2022-04-29T13:00:00",
          "2022-04-29T14:00:00",
          "2022-04-29T15:00:00",
          "2022-04-29T16:00:00",
          "2022-04-29T17:00:00",
          "2022-04-29T18:00:00",
          "2022-04-29T19:00:00",
          "2022-04-29T20:00:00",
          "2022-04-29T21:00:00"
         ],
         "xaxis": "x",
         "y": [
          1,
          1.0021966008434542,
          1.0014277181487448,
          1.0066701659758548,
          1.0030769787688465,
          0.9985360821010335,
          0.988288656808268,
          0.9849655197379138,
          0.9844333834096545,
          0.9925761552245289,
          0.9922337055874314,
          1.0037256782928197,
          1.001906278846676,
          1.0095103983782512,
          1.0282090173577803,
          1.0304526778765226,
          1.043332549005412,
          1.041291607087911,
          1.048037068544227,
          1.0686166265452768,
          1.063394450578291,
          1.0656069793118428,
          1.0666531520932505,
          1.0653731289254105,
          1.0660232764393927,
          1.062969465510688,
          1.0608937718329743,
          1.0601893246936596,
          1.0632634074824883,
          1.0616148708573911,
          1.0552364748683234,
          1.0616655505077015,
          1.0611305181994244,
          1.0590273127115422,
          1.0603493275896396,
          1.062001484189759,
          1.0629904613658165,
          1.057483755362088,
          1.0478879255733136,
          1.035409147676881,
          1.0401708628210466,
          1.0332769823888215,
          1.0337388912016507,
          1.0307343119332477,
          1.0300638925591414,
          1.0344831580662095,
          1.0276211334141794,
          1.0229651215406614,
          1.0253470651052508,
          1.0330004162971276,
          1.0344549222610364,
          1.0323488207931364,
          1.0346170971420297,
          1.0360194754656193,
          1.0440999837101124,
          1.051301562019222,
          1.0485272131622292,
          1.0542272258321417,
          1.0541548263316982,
          1.0502763850929429,
          1.0445915763181235,
          1.056305815489873,
          1.0389733750837118,
          1.0461481655776574,
          1.0444612572173253,
          1.0358652645296746,
          1.0287208818259155,
          1.0316928813191188,
          1.0362526018570473,
          1.0428460243624318,
          1.038348567394885,
          1.0439102970189507,
          1.0439298448840704,
          1.0387214248221688,
          1.043601151152057,
          1.0398197252438959,
          1.042552806385636,
          1.0382841318394904,
          1.0390674944342884,
          1.0440000723995004,
          1.0552647106734963,
          1.057322304476099,
          1.0551285996126627,
          1.055699107676157,
          1.0550619920722548,
          1.0433629567955982,
          1.0484931853970207,
          1.0441948270556933,
          1.0579384242248728,
          1.0711202012706111,
          1.066572064652754,
          1.0608937718329743,
          1.0612622852902316,
          1.0578776086445003,
          1.0544219804883346,
          1.0570450143894008,
          1.059311842748285,
          1.0550815399373743,
          1.0476164274466506,
          1.0532592445112128,
          1.0518713460877118,
          1.0513819254647143,
          1.0518575901826277,
          1.0531397853354811,
          1.0459287950913139,
          1.037369002153885,
          1.0326282828648483,
          1.0257213705225434,
          1.017936976234864,
          1.0261782113703415,
          1.0290828793281326,
          1.0250980108237253,
          1.0133497438867671,
          1.0141388984416009,
          1.013086209705153,
          1.0074108128653914,
          1.0156201922206736,
          1.016587449546598
         ],
         "yaxis": "y"
        },
        {
         "hovertemplate": "Cripto_name=Litecoin<br>Data=%{x}<br>value=%{y}<extra></extra>",
         "legendgroup": "Litecoin",
         "line": {
          "color": "#FF6692",
          "dash": "solid",
          "width": 3
         },
         "marker": {
          "symbol": "circle"
         },
         "mode": "lines",
         "name": "Litecoin",
         "showlegend": true,
         "type": "scattergl",
         "x": [
          "2022-04-25T00:00:00",
          "2022-04-25T01:00:00",
          "2022-04-25T02:00:00",
          "2022-04-25T03:00:00",
          "2022-04-25T04:00:00",
          "2022-04-25T05:00:00",
          "2022-04-25T06:00:00",
          "2022-04-25T07:00:00",
          "2022-04-25T08:00:00",
          "2022-04-25T09:00:00",
          "2022-04-25T10:00:00",
          "2022-04-25T11:00:00",
          "2022-04-25T12:00:00",
          "2022-04-25T13:00:00",
          "2022-04-25T14:00:00",
          "2022-04-25T15:00:00",
          "2022-04-25T16:00:00",
          "2022-04-25T17:00:00",
          "2022-04-25T18:00:00",
          "2022-04-25T19:00:00",
          "2022-04-25T20:00:00",
          "2022-04-25T21:00:00",
          "2022-04-25T22:00:00",
          "2022-04-25T23:00:00",
          "2022-04-26T00:00:00",
          "2022-04-26T01:00:00",
          "2022-04-26T02:00:00",
          "2022-04-26T03:00:00",
          "2022-04-26T04:00:00",
          "2022-04-26T05:00:00",
          "2022-04-26T06:00:00",
          "2022-04-26T07:00:00",
          "2022-04-26T08:00:00",
          "2022-04-26T09:00:00",
          "2022-04-26T10:00:00",
          "2022-04-26T11:00:00",
          "2022-04-26T12:00:00",
          "2022-04-26T13:00:00",
          "2022-04-26T14:00:00",
          "2022-04-26T15:00:00",
          "2022-04-26T16:00:00",
          "2022-04-26T17:00:00",
          "2022-04-26T18:00:00",
          "2022-04-26T19:00:00",
          "2022-04-26T20:00:00",
          "2022-04-26T21:00:00",
          "2022-04-26T22:00:00",
          "2022-04-26T23:00:00",
          "2022-04-27T00:00:00",
          "2022-04-27T01:00:00",
          "2022-04-27T02:00:00",
          "2022-04-27T03:00:00",
          "2022-04-27T04:00:00",
          "2022-04-27T05:00:00",
          "2022-04-27T06:00:00",
          "2022-04-27T07:00:00",
          "2022-04-27T08:00:00",
          "2022-04-27T09:00:00",
          "2022-04-27T10:00:00",
          "2022-04-27T11:00:00",
          "2022-04-27T12:00:00",
          "2022-04-27T13:00:00",
          "2022-04-27T14:00:00",
          "2022-04-27T15:00:00",
          "2022-04-27T16:00:00",
          "2022-04-27T17:00:00",
          "2022-04-27T18:00:00",
          "2022-04-27T19:00:00",
          "2022-04-27T20:00:00",
          "2022-04-27T21:00:00",
          "2022-04-27T22:00:00",
          "2022-04-27T23:00:00",
          "2022-04-28T00:00:00",
          "2022-04-28T01:00:00",
          "2022-04-28T02:00:00",
          "2022-04-28T03:00:00",
          "2022-04-28T04:00:00",
          "2022-04-28T05:00:00",
          "2022-04-28T06:00:00",
          "2022-04-28T07:00:00",
          "2022-04-28T08:00:00",
          "2022-04-28T09:00:00",
          "2022-04-28T10:00:00",
          "2022-04-28T11:00:00",
          "2022-04-28T12:00:00",
          "2022-04-28T13:00:00",
          "2022-04-28T14:00:00",
          "2022-04-28T15:00:00",
          "2022-04-28T16:00:00",
          "2022-04-28T17:00:00",
          "2022-04-28T18:00:00",
          "2022-04-28T19:00:00",
          "2022-04-28T20:00:00",
          "2022-04-28T21:00:00",
          "2022-04-28T22:00:00",
          "2022-04-28T23:00:00",
          "2022-04-29T00:00:00",
          "2022-04-29T01:00:00",
          "2022-04-29T02:00:00",
          "2022-04-29T03:00:00",
          "2022-04-29T04:00:00",
          "2022-04-29T05:00:00",
          "2022-04-29T06:00:00",
          "2022-04-29T07:00:00",
          "2022-04-29T08:00:00",
          "2022-04-29T09:00:00",
          "2022-04-29T10:00:00",
          "2022-04-29T11:00:00",
          "2022-04-29T12:00:00",
          "2022-04-29T13:00:00",
          "2022-04-29T14:00:00",
          "2022-04-29T15:00:00",
          "2022-04-29T16:00:00",
          "2022-04-29T17:00:00",
          "2022-04-29T18:00:00",
          "2022-04-29T19:00:00",
          "2022-04-29T20:00:00",
          "2022-04-29T21:00:00"
         ],
         "xaxis": "x",
         "y": [
          1,
          1.001822231220895,
          0.9939258959303503,
          0.9981777687791051,
          0.9953431868799353,
          0.9906863737598705,
          0.979145576027536,
          0.9730714719578863,
          0.978335695484916,
          0.9844097995545658,
          0.9819801579267059,
          0.9987851791860701,
          0.9971654181008301,
          1.0064790443409597,
          1.022474185057704,
          1.022271714922049,
          1.0301680502125936,
          1.024903826685564,
          1.0291556995343187,
          1.0330026321117636,
          1.0332051022474187,
          1.0364446244178984,
          1.0372545049605182,
          1.0368495646892084,
          1.0376594452318284,
          1.0356347438752784,
          1.0342174529256936,
          1.0311804008908687,
          1.0348248633326584,
          1.0336100425187285,
          1.0242964162785988,
          1.0295606398056287,
          1.0305729904839036,
          1.0313828710265236,
          1.0336100425187285,
          1.0315853411621787,
          1.0346223931970036,
          1.0269285280421139,
          1.021866774650739,
          1.0186272524802593,
          1.0184247823446042,
          1.0143753796315045,
          1.0141729094958494,
          1.0172099615306742,
          1.0076938651548897,
          1.0078963352905448,
          1.0062765742053048,
          1.0034419923061348,
          1.00202470135655,
          1.0060741040696497,
          1.0085037456975097,
          1.0123506782749545,
          1.0125531484106096,
          1.0153877303097794,
          1.0196396031585342,
          1.024701356549909,
          1.0216643045150842,
          1.025713707228184,
          1.0261186474994939,
          1.0216643045150842,
          1.0192346628872242,
          1.0295606398056287,
          1.021866774650739,
          1.0293581696699736,
          1.0184247823446042,
          1.0135654990888845,
          1.0050617533913748,
          1.0080988054261997,
          1.0111358574610245,
          1.0149827900384694,
          1.0129580886819194,
          1.0143753796315045,
          1.0133630289532294,
          1.0107309171897145,
          1.0125531484106096,
          1.0091111561044745,
          1.0097185665114397,
          1.0068839846122697,
          1.0078963352905448,
          1.0137679692245394,
          1.019437133022879,
          1.022879125329014,
          1.0285482891273539,
          1.0323952217047985,
          1.0366470945535533,
          1.0216643045150842,
          1.0321927515691436,
          1.024701356549909,
          1.0382668556387933,
          1.0494027130998178,
          1.044948370115408,
          1.0431261388945132,
          1.046973071471958,
          1.0419113180805832,
          1.0384693257744482,
          1.0388742660457584,
          1.0392792063170682,
          1.0496051832354727,
          1.0406964972666533,
          1.0358372140109335,
          1.0366470945535533,
          1.0338125126543836,
          1.0344199230613484,
          1.0330026321117636,
          1.0242964162785988,
          1.021056894108119,
          1.0078963352905448,
          1.0089086859688197,
          1.0010123506782749,
          1.0153877303097794,
          1.0131605588175745,
          1.0143753796315045,
          1.0060741040696497,
          1.0115407977323345,
          1.00323952217048,
          0.9965580076938652,
          1.0103259769184045,
          1.0097185665114397
         ],
         "yaxis": "y"
        },
        {
         "hovertemplate": "Cripto_name=Shiba Inu<br>Data=%{x}<br>value=%{y}<extra></extra>",
         "legendgroup": "Shiba Inu",
         "line": {
          "color": "#B6E880",
          "dash": "solid",
          "width": 3
         },
         "marker": {
          "symbol": "circle"
         },
         "mode": "lines",
         "name": "Shiba Inu",
         "showlegend": true,
         "type": "scattergl",
         "x": [
          "2022-04-25T00:00:00",
          "2022-04-25T01:00:00",
          "2022-04-25T02:00:00",
          "2022-04-25T03:00:00",
          "2022-04-25T04:00:00",
          "2022-04-25T05:00:00",
          "2022-04-25T06:00:00",
          "2022-04-25T07:00:00",
          "2022-04-25T08:00:00",
          "2022-04-25T09:00:00",
          "2022-04-25T10:00:00",
          "2022-04-25T11:00:00",
          "2022-04-25T12:00:00",
          "2022-04-25T13:00:00",
          "2022-04-25T14:00:00",
          "2022-04-25T15:00:00",
          "2022-04-25T16:00:00",
          "2022-04-25T17:00:00",
          "2022-04-25T18:00:00",
          "2022-04-25T19:00:00",
          "2022-04-25T20:00:00",
          "2022-04-25T21:00:00",
          "2022-04-25T22:00:00",
          "2022-04-25T23:00:00",
          "2022-04-26T00:00:00",
          "2022-04-26T01:00:00",
          "2022-04-26T02:00:00",
          "2022-04-26T03:00:00",
          "2022-04-26T04:00:00",
          "2022-04-26T05:00:00",
          "2022-04-26T06:00:00",
          "2022-04-26T07:00:00",
          "2022-04-26T08:00:00",
          "2022-04-26T09:00:00",
          "2022-04-26T10:00:00",
          "2022-04-26T11:00:00",
          "2022-04-26T12:00:00",
          "2022-04-26T13:00:00",
          "2022-04-26T14:00:00",
          "2022-04-26T15:00:00",
          "2022-04-26T16:00:00",
          "2022-04-26T17:00:00",
          "2022-04-26T18:00:00",
          "2022-04-26T19:00:00",
          "2022-04-26T20:00:00",
          "2022-04-26T21:00:00",
          "2022-04-26T22:00:00",
          "2022-04-26T23:00:00",
          "2022-04-27T00:00:00",
          "2022-04-27T01:00:00",
          "2022-04-27T02:00:00",
          "2022-04-27T03:00:00",
          "2022-04-27T04:00:00",
          "2022-04-27T05:00:00",
          "2022-04-27T06:00:00",
          "2022-04-27T07:00:00",
          "2022-04-27T08:00:00",
          "2022-04-27T09:00:00",
          "2022-04-27T10:00:00",
          "2022-04-27T11:00:00",
          "2022-04-27T12:00:00",
          "2022-04-27T13:00:00",
          "2022-04-27T14:00:00",
          "2022-04-27T15:00:00",
          "2022-04-27T16:00:00",
          "2022-04-27T17:00:00",
          "2022-04-27T18:00:00",
          "2022-04-27T19:00:00",
          "2022-04-27T20:00:00",
          "2022-04-27T21:00:00",
          "2022-04-27T22:00:00",
          "2022-04-27T23:00:00",
          "2022-04-28T00:00:00",
          "2022-04-28T01:00:00",
          "2022-04-28T02:00:00",
          "2022-04-28T03:00:00",
          "2022-04-28T04:00:00",
          "2022-04-28T05:00:00",
          "2022-04-28T06:00:00",
          "2022-04-28T07:00:00",
          "2022-04-28T08:00:00",
          "2022-04-28T09:00:00",
          "2022-04-28T10:00:00",
          "2022-04-28T11:00:00",
          "2022-04-28T12:00:00",
          "2022-04-28T13:00:00",
          "2022-04-28T14:00:00",
          "2022-04-28T15:00:00",
          "2022-04-28T16:00:00",
          "2022-04-28T17:00:00",
          "2022-04-28T18:00:00",
          "2022-04-28T19:00:00",
          "2022-04-28T20:00:00",
          "2022-04-28T21:00:00",
          "2022-04-28T22:00:00",
          "2022-04-28T23:00:00",
          "2022-04-29T00:00:00",
          "2022-04-29T01:00:00",
          "2022-04-29T02:00:00",
          "2022-04-29T03:00:00",
          "2022-04-29T04:00:00",
          "2022-04-29T05:00:00",
          "2022-04-29T06:00:00",
          "2022-04-29T07:00:00",
          "2022-04-29T08:00:00",
          "2022-04-29T09:00:00",
          "2022-04-29T10:00:00",
          "2022-04-29T11:00:00",
          "2022-04-29T12:00:00",
          "2022-04-29T13:00:00",
          "2022-04-29T14:00:00",
          "2022-04-29T15:00:00",
          "2022-04-29T16:00:00",
          "2022-04-29T17:00:00",
          "2022-04-29T18:00:00",
          "2022-04-29T19:00:00",
          "2022-04-29T20:00:00",
          "2022-04-29T21:00:00"
         ],
         "xaxis": "x",
         "y": [
          1,
          1.011930391101543,
          1.0147111589522784,
          1.0186580552565483,
          1.0145317545748116,
          1.0053821313240043,
          0.9846609257265878,
          0.9817904556871189,
          0.9858270541801221,
          0.9983853606027987,
          0.9939002511661285,
          1.030767850735558,
          1.0258342303552206,
          1.0301399354144243,
          1.0436849659131682,
          1.0447613921779693,
          1.0602798708288483,
          1.060190168640115,
          1.0656620021528527,
          1.0939181916038752,
          1.094366702547542,
          1.0786688195191962,
          1.069967707212056,
          1.0692500897021888,
          1.0692500897021888,
          1.0607283817725153,
          1.0631503408683172,
          1.063329745245784,
          1.0796555435952637,
          1.0685324721923215,
          1.0585755292429135,
          1.0634194474345173,
          1.0690706853247218,
          1.0605489773950485,
          1.0627018299246502,
          1.0583064226767134,
          1.0525654825977755,
          1.0496950125583064,
          1.0461069250089703,
          1.0355220667384286,
          1.0432364549695012,
          1.0413527090060997,
          1.0426085396483675,
          1.040276282741299,
          1.0444922856117689,
          1.0504126300681738,
          1.0437746681019018,
          1.036329386437029,
          1.0418909221385002,
          1.0512199497667742,
          1.055794761392178,
          1.048259777538572,
          1.0539110154287765,
          1.05400071761751,
          1.062881234302117,
          1.0733763903839255,
          1.0592034445640472,
          1.0609974883387154,
          1.0552565482597775,
          1.0471833512737712,
          1.0418012199497668,
          1.055794761392178,
          1.0479906709723719,
          1.052027269465375,
          1.0389307499102978,
          1.034535342662361,
          1.029870828848224,
          1.0352529601722282,
          1.0375852170792967,
          1.0389307499102978,
          1.036329386437029,
          1.048259777538572,
          1.044312881234302,
          1.0359705776820953,
          1.0390204520990312,
          1.0351632579834948,
          1.0362396842482957,
          1.0338177251524938,
          1.0338177251524938,
          1.036060279870829,
          1.0419806243272336,
          1.040276282741299,
          1.0403659849300324,
          1.0404556871187658,
          1.0403659849300324,
          1.0383925367778974,
          1.0426085396483675,
          1.031664872622892,
          1.029422317904557,
          1.0381234302116973,
          1.0303193397918908,
          1.0272694653749552,
          1.025654825977754,
          1.0216182274847507,
          1.0234122712594187,
          1.0233225690706853,
          1.025475421600287,
          1.0244886975242198,
          1.0145317545748116,
          1.0244886975242198,
          1.0263724434876211,
          1.023501973448152,
          1.0210800143523502,
          1.0223358449946178,
          1.0153390742734123,
          1.0100466451381414,
          0.9965913168281306,
          1.0044851094366702,
          0.9970398277717977,
          1.007265877287406,
          1.0103157517043415,
          1.003318980983136,
          0.9951560818083962,
          0.9949766774309293,
          0.9879799067097237,
          0.9737172587011123,
          0.9921959095801938,
          0.9948869752421959
         ],
         "yaxis": "y"
        },
        {
         "hovertemplate": "Cripto_name=Solana<br>Data=%{x}<br>value=%{y}<extra></extra>",
         "legendgroup": "Solana",
         "line": {
          "color": "#FF97FF",
          "dash": "solid",
          "width": 3
         },
         "marker": {
          "symbol": "circle"
         },
         "mode": "lines",
         "name": "Solana",
         "showlegend": true,
         "type": "scattergl",
         "x": [
          "2022-04-25T00:00:00",
          "2022-04-25T01:00:00",
          "2022-04-25T02:00:00",
          "2022-04-25T03:00:00",
          "2022-04-25T04:00:00",
          "2022-04-25T05:00:00",
          "2022-04-25T06:00:00",
          "2022-04-25T07:00:00",
          "2022-04-25T08:00:00",
          "2022-04-25T09:00:00",
          "2022-04-25T10:00:00",
          "2022-04-25T11:00:00",
          "2022-04-25T12:00:00",
          "2022-04-25T13:00:00",
          "2022-04-25T14:00:00",
          "2022-04-25T15:00:00",
          "2022-04-25T16:00:00",
          "2022-04-25T17:00:00",
          "2022-04-25T18:00:00",
          "2022-04-25T19:00:00",
          "2022-04-25T20:00:00",
          "2022-04-25T21:00:00",
          "2022-04-25T22:00:00",
          "2022-04-25T23:00:00",
          "2022-04-26T00:00:00",
          "2022-04-26T01:00:00",
          "2022-04-26T02:00:00",
          "2022-04-26T03:00:00",
          "2022-04-26T04:00:00",
          "2022-04-26T05:00:00",
          "2022-04-26T06:00:00",
          "2022-04-26T07:00:00",
          "2022-04-26T08:00:00",
          "2022-04-26T09:00:00",
          "2022-04-26T10:00:00",
          "2022-04-26T11:00:00",
          "2022-04-26T12:00:00",
          "2022-04-26T13:00:00",
          "2022-04-26T14:00:00",
          "2022-04-26T15:00:00",
          "2022-04-26T16:00:00",
          "2022-04-26T17:00:00",
          "2022-04-26T18:00:00",
          "2022-04-26T19:00:00",
          "2022-04-26T20:00:00",
          "2022-04-26T21:00:00",
          "2022-04-26T22:00:00",
          "2022-04-26T23:00:00",
          "2022-04-27T00:00:00",
          "2022-04-27T01:00:00",
          "2022-04-27T02:00:00",
          "2022-04-27T03:00:00",
          "2022-04-27T04:00:00",
          "2022-04-27T05:00:00",
          "2022-04-27T06:00:00",
          "2022-04-27T07:00:00",
          "2022-04-27T08:00:00",
          "2022-04-27T09:00:00",
          "2022-04-27T10:00:00",
          "2022-04-27T11:00:00",
          "2022-04-27T12:00:00",
          "2022-04-27T13:00:00",
          "2022-04-27T14:00:00",
          "2022-04-27T15:00:00",
          "2022-04-27T16:00:00",
          "2022-04-27T17:00:00",
          "2022-04-27T18:00:00",
          "2022-04-27T19:00:00",
          "2022-04-27T20:00:00",
          "2022-04-27T21:00:00",
          "2022-04-27T22:00:00",
          "2022-04-27T23:00:00",
          "2022-04-28T00:00:00",
          "2022-04-28T01:00:00",
          "2022-04-28T02:00:00",
          "2022-04-28T03:00:00",
          "2022-04-28T04:00:00",
          "2022-04-28T05:00:00",
          "2022-04-28T06:00:00",
          "2022-04-28T07:00:00",
          "2022-04-28T08:00:00",
          "2022-04-28T09:00:00",
          "2022-04-28T10:00:00",
          "2022-04-28T11:00:00",
          "2022-04-28T12:00:00",
          "2022-04-28T13:00:00",
          "2022-04-28T14:00:00",
          "2022-04-28T15:00:00",
          "2022-04-28T16:00:00",
          "2022-04-28T17:00:00",
          "2022-04-28T18:00:00",
          "2022-04-28T19:00:00",
          "2022-04-28T20:00:00",
          "2022-04-28T21:00:00",
          "2022-04-28T22:00:00",
          "2022-04-28T23:00:00",
          "2022-04-29T00:00:00",
          "2022-04-29T01:00:00",
          "2022-04-29T02:00:00",
          "2022-04-29T03:00:00",
          "2022-04-29T04:00:00",
          "2022-04-29T05:00:00",
          "2022-04-29T06:00:00",
          "2022-04-29T07:00:00",
          "2022-04-29T08:00:00",
          "2022-04-29T09:00:00",
          "2022-04-29T10:00:00",
          "2022-04-29T11:00:00",
          "2022-04-29T12:00:00",
          "2022-04-29T13:00:00",
          "2022-04-29T14:00:00",
          "2022-04-29T15:00:00",
          "2022-04-29T16:00:00",
          "2022-04-29T17:00:00",
          "2022-04-29T18:00:00",
          "2022-04-29T19:00:00",
          "2022-04-29T20:00:00",
          "2022-04-29T21:00:00"
         ],
         "xaxis": "x",
         "y": [
          1,
          1.0044766574291195,
          1.0029844382860797,
          1.010445534001279,
          1.0081006182050734,
          1.0019185674696227,
          0.9876358985290983,
          0.982306544446813,
          0.9778298870176934,
          0.9867832018759325,
          0.986996376039224,
          0.9993604775101258,
          0.9980814325303773,
          1.0051161799189938,
          1.0260072479215518,
          1.0257940737582605,
          1.0356000852696652,
          1.0341078661266254,
          1.040076742698785,
          1.0490300575570242,
          1.04540609678107,
          1.0456192709443615,
          1.0507354508633553,
          1.054785759965892,
          1.0558516307823491,
          1.0511617991899382,
          1.0479641867405671,
          1.0500959283734812,
          1.050522276700064,
          1.0535067149861437,
          1.0456192709443615,
          1.0507354508633553,
          1.0507354508633553,
          1.0460456192709442,
          1.0449797484544872,
          1.0464719675975271,
          1.0539330633127264,
          1.0377318269025795,
          1.0370923044127052,
          1.0298443828607973,
          1.0387976977190365,
          1.0358132594329565,
          1.0392240460456192,
          1.0330419953101684,
          1.0370923044127052,
          1.0437007034747388,
          1.0353869111063738,
          1.0260072479215518,
          1.0253677254316775,
          1.0319761244937113,
          1.0409294393519506,
          1.038584523555745,
          1.0392240460456192,
          1.0441270518013217,
          1.0549989341291834,
          1.065231293967171,
          1.0616073331912173,
          1.0662971647836281,
          1.0699211255595822,
          1.063099552334257,
          1.0549989341291834,
          1.068855254743125,
          1.0496695800468983,
          1.0549989341291834,
          1.0477510125772755,
          1.043274355148156,
          1.0366659560861224,
          1.0392240460456192,
          1.0437007034747388,
          1.0466851417608185,
          1.0426348326582817,
          1.0471114900874012,
          1.0513749733532296,
          1.0492432317203155,
          1.0549989341291834,
          1.0524408441696866,
          1.0588360690684289,
          1.049456405883607,
          1.0520144958431037,
          1.0543594116393094,
          1.0594755915583032,
          1.0633127264975484,
          1.0603282882114686,
          1.0594755915583032,
          1.0490300575570242,
          1.0394372202089106,
          1.0486037092304412,
          1.0373054785759965,
          1.0488168833937326,
          1.0620336815178,
          1.049456405883607,
          1.0439138776380301,
          1.043274355148156,
          1.0398635685354936,
          1.0381581752291622,
          1.0402899168620763,
          1.0437007034747388,
          1.042848006821573,
          1.0279258153911746,
          1.0300575570240886,
          1.033468343636751,
          1.0341078661266254,
          1.034960562779791,
          1.0358132594329565,
          1.0311234278405457,
          1.0215305904924323,
          1.017693455553187,
          1.017267107226604,
          1.0036239607759538,
          1.0157748880835642,
          1.0196120230228096,
          1.0149221914303987,
          1.0049030057557022,
          1.0046898315924109,
          0.9940311234278405,
          0.9882754210189725,
          0.9978682583670859,
          1.0042634832658281
         ],
         "yaxis": "y"
        },
        {
         "hovertemplate": "Cripto_name=Terra<br>Data=%{x}<br>value=%{y}<extra></extra>",
         "legendgroup": "Terra",
         "line": {
          "color": "#FECB52",
          "dash": "solid",
          "width": 3
         },
         "marker": {
          "symbol": "circle"
         },
         "mode": "lines",
         "name": "Terra",
         "showlegend": true,
         "type": "scattergl",
         "x": [
          "2022-04-25T00:00:00",
          "2022-04-25T01:00:00",
          "2022-04-25T02:00:00",
          "2022-04-25T03:00:00",
          "2022-04-25T04:00:00",
          "2022-04-25T05:00:00",
          "2022-04-25T06:00:00",
          "2022-04-25T07:00:00",
          "2022-04-25T08:00:00",
          "2022-04-25T09:00:00",
          "2022-04-25T10:00:00",
          "2022-04-25T11:00:00",
          "2022-04-25T12:00:00",
          "2022-04-25T13:00:00",
          "2022-04-25T14:00:00",
          "2022-04-25T15:00:00",
          "2022-04-25T16:00:00",
          "2022-04-25T17:00:00",
          "2022-04-25T18:00:00",
          "2022-04-25T19:00:00",
          "2022-04-25T20:00:00",
          "2022-04-25T21:00:00",
          "2022-04-25T22:00:00",
          "2022-04-25T23:00:00",
          "2022-04-26T00:00:00",
          "2022-04-26T01:00:00",
          "2022-04-26T02:00:00",
          "2022-04-26T03:00:00",
          "2022-04-26T04:00:00",
          "2022-04-26T05:00:00",
          "2022-04-26T06:00:00",
          "2022-04-26T07:00:00",
          "2022-04-26T08:00:00",
          "2022-04-26T09:00:00",
          "2022-04-26T10:00:00",
          "2022-04-26T11:00:00",
          "2022-04-26T12:00:00",
          "2022-04-26T13:00:00",
          "2022-04-26T14:00:00",
          "2022-04-26T15:00:00",
          "2022-04-26T16:00:00",
          "2022-04-26T17:00:00",
          "2022-04-26T18:00:00",
          "2022-04-26T19:00:00",
          "2022-04-26T20:00:00",
          "2022-04-26T21:00:00",
          "2022-04-26T22:00:00",
          "2022-04-26T23:00:00",
          "2022-04-27T00:00:00",
          "2022-04-27T01:00:00",
          "2022-04-27T02:00:00",
          "2022-04-27T03:00:00",
          "2022-04-27T04:00:00",
          "2022-04-27T05:00:00",
          "2022-04-27T06:00:00",
          "2022-04-27T07:00:00",
          "2022-04-27T08:00:00",
          "2022-04-27T09:00:00",
          "2022-04-27T10:00:00",
          "2022-04-27T11:00:00",
          "2022-04-27T12:00:00",
          "2022-04-27T13:00:00",
          "2022-04-27T14:00:00",
          "2022-04-27T15:00:00",
          "2022-04-27T16:00:00",
          "2022-04-27T17:00:00",
          "2022-04-27T18:00:00",
          "2022-04-27T19:00:00",
          "2022-04-27T20:00:00",
          "2022-04-27T21:00:00",
          "2022-04-27T22:00:00",
          "2022-04-27T23:00:00",
          "2022-04-28T00:00:00",
          "2022-04-28T01:00:00",
          "2022-04-28T02:00:00",
          "2022-04-28T03:00:00",
          "2022-04-28T04:00:00",
          "2022-04-28T05:00:00",
          "2022-04-28T06:00:00",
          "2022-04-28T07:00:00",
          "2022-04-28T08:00:00",
          "2022-04-28T09:00:00",
          "2022-04-28T10:00:00",
          "2022-04-28T11:00:00",
          "2022-04-28T12:00:00",
          "2022-04-28T13:00:00",
          "2022-04-28T14:00:00",
          "2022-04-28T15:00:00",
          "2022-04-28T16:00:00",
          "2022-04-28T17:00:00",
          "2022-04-28T18:00:00",
          "2022-04-28T19:00:00",
          "2022-04-28T20:00:00",
          "2022-04-28T21:00:00",
          "2022-04-28T22:00:00",
          "2022-04-28T23:00:00",
          "2022-04-29T00:00:00",
          "2022-04-29T01:00:00",
          "2022-04-29T02:00:00",
          "2022-04-29T03:00:00",
          "2022-04-29T04:00:00",
          "2022-04-29T05:00:00",
          "2022-04-29T06:00:00",
          "2022-04-29T07:00:00",
          "2022-04-29T08:00:00",
          "2022-04-29T09:00:00",
          "2022-04-29T10:00:00",
          "2022-04-29T11:00:00",
          "2022-04-29T12:00:00",
          "2022-04-29T13:00:00",
          "2022-04-29T14:00:00",
          "2022-04-29T15:00:00",
          "2022-04-29T16:00:00",
          "2022-04-29T17:00:00",
          "2022-04-29T18:00:00",
          "2022-04-29T19:00:00",
          "2022-04-29T20:00:00",
          "2022-04-29T21:00:00"
         ],
         "xaxis": "x",
         "y": [
          1,
          1.0190947666195191,
          1.0165016501650166,
          1.037953795379538,
          1.0386610089580388,
          1.0273455917020273,
          1.0091937765205092,
          1.0082508250825082,
          1.0132013201320134,
          1.020980669495521,
          1.0091937765205092,
          1.0167373880245167,
          1.0146157472890145,
          1.0320603488920321,
          1.0707213578500707,
          1.0777934936350777,
          1.0966525223950967,
          1.0855728429985856,
          1.0968882602545968,
          1.1065535124941066,
          1.1023102310231023,
          1.1016030174446017,
          1.11008958038661,
          1.1192833569071194,
          1.1096181046676097,
          1.1067892503536068,
          1.1070249882131071,
          1.1027817067421029,
          1.100895803866101,
          1.098774163130599,
          1.1046676096181047,
          1.1084394153701085,
          1.107967939651108,
          1.1082036775106083,
          1.1086751532296086,
          1.105846298915606,
          1.1004243281471005,
          1.1122112211221122,
          1.0888731730315888,
          1.064120697784064,
          1.0530410183875532,
          1.0565770862800565,
          1.0523338048090523,
          1.0464403583215465,
          1.0525695426685526,
          1.0565770862800565,
          1.0594059405940595,
          1.0464403583215465,
          1.057048561999057,
          1.056812824139557,
          1.052098066949552,
          1.0396039603960396,
          1.0417256011315417,
          1.0457331447430458,
          1.0608203677510608,
          1.0726072607260726,
          1.0535124941065535,
          1.0561056105610562,
          1.0603488920320605,
          1.0516265912305518,
          1.0506836397925507,
          1.0676567656765676,
          1.051862329090052,
          1.0577557755775577,
          1.0575200377180576,
          1.0450259311645451,
          1.0426685525695427,
          1.0431400282885432,
          1.0478547854785478,
          1.054926921263555,
          1.0436115040075435,
          1.0450259311645451,
          1.0553983969825553,
          1.0513908533710514,
          1.0584629891560584,
          1.054926921263555,
          1.0537482319660538,
          1.0457331447430458,
          1.0476190476190477,
          1.0525695426685526,
          1.057048561999057,
          1.0754361150400755,
          1.0773220179160774,
          1.0702498821310702,
          1.0794436586515794,
          1.0556341348420557,
          1.0513908533710514,
          1.0355964167845357,
          1.033946251768034,
          1.0528052805280528,
          1.041961338991042,
          1.0374823196605376,
          1.0431400282885432,
          1.0391324846770391,
          1.0396039603960396,
          1.0447901933050447,
          1.0414898632720415,
          1.0452616690240453,
          1.023809523809524,
          1.0066006600660067,
          1.004950495049505,
          1.0073078736445074,
          1.0120226308345122,
          1.0195662423385197,
          1.0167373880245167,
          1.01013672795851,
          1.0047147571900048,
          1.0084865629420086,
          1.0025931164545026,
          1.0091937765205092,
          1.0306459217350306,
          1.0219236209335218,
          1.008958038661009,
          1.0023573785950024,
          0.9950495049504952,
          0.9962281942479964,
          1.0094295143800094,
          1.008958038661009
         ],
         "yaxis": "y"
        },
        {
         "hovertemplate": "Cripto_name=Tether USD<br>Data=%{x}<br>value=%{y}<extra></extra>",
         "legendgroup": "Tether USD",
         "line": {
          "color": "#636efa",
          "dash": "solid",
          "width": 3
         },
         "marker": {
          "symbol": "circle"
         },
         "mode": "lines",
         "name": "Tether USD",
         "showlegend": true,
         "type": "scattergl",
         "x": [
          "2022-04-25T00:00:00",
          "2022-04-25T01:00:00",
          "2022-04-25T02:00:00",
          "2022-04-25T03:00:00",
          "2022-04-25T04:00:00",
          "2022-04-25T05:00:00",
          "2022-04-25T06:00:00",
          "2022-04-25T07:00:00",
          "2022-04-25T08:00:00",
          "2022-04-25T09:00:00",
          "2022-04-25T10:00:00",
          "2022-04-25T11:00:00",
          "2022-04-25T12:00:00",
          "2022-04-25T13:00:00",
          "2022-04-25T14:00:00",
          "2022-04-25T15:00:00",
          "2022-04-25T16:00:00",
          "2022-04-25T17:00:00",
          "2022-04-25T18:00:00",
          "2022-04-25T19:00:00",
          "2022-04-25T20:00:00",
          "2022-04-25T21:00:00",
          "2022-04-25T22:00:00",
          "2022-04-25T23:00:00",
          "2022-04-26T00:00:00",
          "2022-04-26T01:00:00",
          "2022-04-26T02:00:00",
          "2022-04-26T03:00:00",
          "2022-04-26T04:00:00",
          "2022-04-26T05:00:00",
          "2022-04-26T06:00:00",
          "2022-04-26T07:00:00",
          "2022-04-26T08:00:00",
          "2022-04-26T09:00:00",
          "2022-04-26T10:00:00",
          "2022-04-26T11:00:00",
          "2022-04-26T12:00:00",
          "2022-04-26T13:00:00",
          "2022-04-26T14:00:00",
          "2022-04-26T15:00:00",
          "2022-04-26T16:00:00",
          "2022-04-26T17:00:00",
          "2022-04-26T18:00:00",
          "2022-04-26T19:00:00",
          "2022-04-26T20:00:00",
          "2022-04-26T21:00:00",
          "2022-04-26T22:00:00",
          "2022-04-26T23:00:00",
          "2022-04-27T00:00:00",
          "2022-04-27T01:00:00",
          "2022-04-27T02:00:00",
          "2022-04-27T03:00:00",
          "2022-04-27T04:00:00",
          "2022-04-27T05:00:00",
          "2022-04-27T06:00:00",
          "2022-04-27T07:00:00",
          "2022-04-27T08:00:00",
          "2022-04-27T09:00:00",
          "2022-04-27T10:00:00",
          "2022-04-27T11:00:00",
          "2022-04-27T12:00:00",
          "2022-04-27T13:00:00",
          "2022-04-27T14:00:00",
          "2022-04-27T15:00:00",
          "2022-04-27T16:00:00",
          "2022-04-27T17:00:00",
          "2022-04-27T18:00:00",
          "2022-04-27T19:00:00",
          "2022-04-27T20:00:00",
          "2022-04-27T21:00:00",
          "2022-04-27T22:00:00",
          "2022-04-27T23:00:00",
          "2022-04-28T00:00:00",
          "2022-04-28T01:00:00",
          "2022-04-28T02:00:00",
          "2022-04-28T03:00:00",
          "2022-04-28T04:00:00",
          "2022-04-28T05:00:00",
          "2022-04-28T06:00:00",
          "2022-04-28T07:00:00",
          "2022-04-28T08:00:00",
          "2022-04-28T09:00:00",
          "2022-04-28T10:00:00",
          "2022-04-28T11:00:00",
          "2022-04-28T12:00:00",
          "2022-04-28T13:00:00",
          "2022-04-28T14:00:00",
          "2022-04-28T15:00:00",
          "2022-04-28T16:00:00",
          "2022-04-28T17:00:00",
          "2022-04-28T18:00:00",
          "2022-04-28T19:00:00",
          "2022-04-28T20:00:00",
          "2022-04-28T21:00:00",
          "2022-04-28T22:00:00",
          "2022-04-28T23:00:00",
          "2022-04-29T00:00:00",
          "2022-04-29T01:00:00",
          "2022-04-29T02:00:00",
          "2022-04-29T03:00:00",
          "2022-04-29T04:00:00",
          "2022-04-29T05:00:00",
          "2022-04-29T06:00:00",
          "2022-04-29T07:00:00",
          "2022-04-29T08:00:00",
          "2022-04-29T09:00:00",
          "2022-04-29T10:00:00",
          "2022-04-29T11:00:00",
          "2022-04-29T12:00:00",
          "2022-04-29T13:00:00",
          "2022-04-29T14:00:00",
          "2022-04-29T15:00:00",
          "2022-04-29T16:00:00",
          "2022-04-29T17:00:00",
          "2022-04-29T18:00:00",
          "2022-04-29T19:00:00",
          "2022-04-29T20:00:00",
          "2022-04-29T21:00:00"
         ],
         "xaxis": "x",
         "y": [
          1,
          0.9997931747673215,
          1,
          0.9997931747673215,
          0.9997931747673215,
          1.0002068252326786,
          1.001034126163392,
          1.0008273009307136,
          1.001034126163392,
          1.0031023784901758,
          1.0028955532574975,
          1.002688728024819,
          1.0008273009307136,
          1.0088934850051707,
          1.022957600827301,
          1.026266804550155,
          1.0196483971044468,
          1.0161323681489143,
          1.0109617373319544,
          1.0124095139607032,
          1.0134436401240952,
          1.0128231644260601,
          1.0126163391933816,
          1.0130299896587383,
          1.0115822130299896,
          1.011168562564633,
          1.0103412616339194,
          1.0091003102378489,
          1.009720785935884,
          1.0093071354705274,
          1.0070320579110652,
          1.010134436401241,
          1.0099276111685627,
          1.0103412616339194,
          1.0119958634953463,
          1.0103412616339194,
          1.0198552223371251,
          1.0268872802481903,
          1.0337125129265772,
          1.0345398138572905,
          1.031023784901758,
          1.0318510858324716,
          1.0337125129265772,
          1.0378490175801447,
          1.0399172699069286,
          1.0405377456049638,
          1.0405377456049638,
          1.0397104446742502,
          1.0403309203722855,
          1.0401240951396071,
          1.0409513960703207,
          1.0403309203722855,
          1.0397104446742502,
          1.0399172699069286,
          1.0395036194415719,
          1.0399172699069286,
          1.0380558428128233,
          1.0390899689762152,
          1.0392967942088935,
          1.0405377456049638,
          1.0407445708376422,
          1.0388831437435366,
          1.0436401240951396,
          1.0432264736297827,
          1.0353671147880041,
          1.0301964839710445,
          1.0316442605997933,
          1.0335056876938986,
          1.0335056876938986,
          1.0318510858324716,
          1.0322647362978283,
          1.03205791106515,
          1.0301964839710445,
          1.0316442605997933,
          1.0289555325749742,
          1.0297828335056878,
          1.029369183040331,
          1.0287487073422958,
          1.0287487073422958,
          1.0281282316442606,
          1.0287487073422958,
          1.0279214064115823,
          1.0287487073422958,
          1.0295760082730092,
          1.0341261633919339,
          1.0382626680455014,
          1.0395036194415719,
          1.0322647362978283,
          1.0299896587383661,
          1.0299896587383661,
          1.0283350568769392,
          1.0283350568769392,
          1.0283350568769392,
          1.0289555325749742,
          1.0287487073422958,
          1.0281282316442606,
          1.0283350568769392,
          1.0283350568769392,
          1.0281282316442606,
          1.0281282316442606,
          1.0281282316442606,
          1.0283350568769392,
          1.0283350568769392,
          1.0281282316442606,
          1.0279214064115823,
          1.0295760082730092,
          1.0306101344364011,
          1.0306101344364011,
          1.017580144777663,
          1.0179937952430196,
          1.0285418821096173,
          1.0254395036194417,
          1.0283350568769392,
          1.0260599793174767,
          1.0281282316442606,
          1.0301964839710445,
          1.0341261633919339,
          1.0339193381592553
         ],
         "yaxis": "y"
        },
        {
         "hovertemplate": "Cripto_name=XRP<br>Data=%{x}<br>value=%{y}<extra></extra>",
         "legendgroup": "XRP",
         "line": {
          "color": "#EF553B",
          "dash": "solid",
          "width": 3
         },
         "marker": {
          "symbol": "circle"
         },
         "mode": "lines",
         "name": "XRP",
         "showlegend": true,
         "type": "scattergl",
         "x": [
          "2022-04-25T00:00:00",
          "2022-04-25T01:00:00",
          "2022-04-25T02:00:00",
          "2022-04-25T03:00:00",
          "2022-04-25T04:00:00",
          "2022-04-25T05:00:00",
          "2022-04-25T06:00:00",
          "2022-04-25T07:00:00",
          "2022-04-25T08:00:00",
          "2022-04-25T09:00:00",
          "2022-04-25T10:00:00",
          "2022-04-25T11:00:00",
          "2022-04-25T12:00:00",
          "2022-04-25T13:00:00",
          "2022-04-25T14:00:00",
          "2022-04-25T15:00:00",
          "2022-04-25T16:00:00",
          "2022-04-25T17:00:00",
          "2022-04-25T18:00:00",
          "2022-04-25T19:00:00",
          "2022-04-25T20:00:00",
          "2022-04-25T21:00:00",
          "2022-04-25T22:00:00",
          "2022-04-25T23:00:00",
          "2022-04-26T00:00:00",
          "2022-04-26T01:00:00",
          "2022-04-26T02:00:00",
          "2022-04-26T03:00:00",
          "2022-04-26T04:00:00",
          "2022-04-26T05:00:00",
          "2022-04-26T06:00:00",
          "2022-04-26T07:00:00",
          "2022-04-26T08:00:00",
          "2022-04-26T09:00:00",
          "2022-04-26T10:00:00",
          "2022-04-26T11:00:00",
          "2022-04-26T12:00:00",
          "2022-04-26T13:00:00",
          "2022-04-26T14:00:00",
          "2022-04-26T15:00:00",
          "2022-04-26T16:00:00",
          "2022-04-26T17:00:00",
          "2022-04-26T18:00:00",
          "2022-04-26T19:00:00",
          "2022-04-26T20:00:00",
          "2022-04-26T21:00:00",
          "2022-04-26T22:00:00",
          "2022-04-26T23:00:00",
          "2022-04-27T00:00:00",
          "2022-04-27T01:00:00",
          "2022-04-27T02:00:00",
          "2022-04-27T03:00:00",
          "2022-04-27T04:00:00",
          "2022-04-27T05:00:00",
          "2022-04-27T06:00:00",
          "2022-04-27T07:00:00",
          "2022-04-27T08:00:00",
          "2022-04-27T09:00:00",
          "2022-04-27T10:00:00",
          "2022-04-27T11:00:00",
          "2022-04-27T12:00:00",
          "2022-04-27T13:00:00",
          "2022-04-27T14:00:00",
          "2022-04-27T15:00:00",
          "2022-04-27T16:00:00",
          "2022-04-27T17:00:00",
          "2022-04-27T18:00:00",
          "2022-04-27T19:00:00",
          "2022-04-27T20:00:00",
          "2022-04-27T21:00:00",
          "2022-04-27T22:00:00",
          "2022-04-27T23:00:00",
          "2022-04-28T00:00:00",
          "2022-04-28T01:00:00",
          "2022-04-28T02:00:00",
          "2022-04-28T03:00:00",
          "2022-04-28T04:00:00",
          "2022-04-28T05:00:00",
          "2022-04-28T06:00:00",
          "2022-04-28T07:00:00",
          "2022-04-28T08:00:00",
          "2022-04-28T09:00:00",
          "2022-04-28T10:00:00",
          "2022-04-28T11:00:00",
          "2022-04-28T12:00:00",
          "2022-04-28T13:00:00",
          "2022-04-28T14:00:00",
          "2022-04-28T15:00:00",
          "2022-04-28T16:00:00",
          "2022-04-28T17:00:00",
          "2022-04-28T18:00:00",
          "2022-04-28T19:00:00",
          "2022-04-28T20:00:00",
          "2022-04-28T21:00:00",
          "2022-04-28T22:00:00",
          "2022-04-28T23:00:00",
          "2022-04-29T00:00:00",
          "2022-04-29T01:00:00",
          "2022-04-29T02:00:00",
          "2022-04-29T03:00:00",
          "2022-04-29T04:00:00",
          "2022-04-29T05:00:00",
          "2022-04-29T06:00:00",
          "2022-04-29T07:00:00",
          "2022-04-29T08:00:00",
          "2022-04-29T09:00:00",
          "2022-04-29T10:00:00",
          "2022-04-29T11:00:00",
          "2022-04-29T12:00:00",
          "2022-04-29T13:00:00",
          "2022-04-29T14:00:00",
          "2022-04-29T15:00:00",
          "2022-04-29T16:00:00",
          "2022-04-29T17:00:00",
          "2022-04-29T18:00:00",
          "2022-04-29T19:00:00",
          "2022-04-29T20:00:00",
          "2022-04-29T21:00:00"
         ],
         "xaxis": "x",
         "y": [
          1,
          1.0064357952804168,
          1.0055163959546431,
          1.0070487281642662,
          1.0045969966288693,
          0.9978547349065277,
          0.9714986209010114,
          0.969353355807539,
          0.9626110940851977,
          0.9727244866687098,
          0.9687404229236899,
          0.9877413423230156,
          0.9877413423230156,
          0.9929512718357341,
          1.0144039227704567,
          1.0150168556543058,
          1.019613852283175,
          1.0131780570027582,
          1.015629788538155,
          1.0303401777505363,
          1.0288078455409133,
          1.0389212381244255,
          1.0459699662886914,
          1.0404535703340485,
          1.0459699662886914,
          1.049341097149862,
          1.044744100520993,
          1.0404535703340485,
          1.0438247011952193,
          1.037695372356727,
          1.0193073858412505,
          1.0260496475635918,
          1.0245173153539688,
          1.019000919399326,
          1.018081520073552,
          1.0186944529574011,
          1.019613852283175,
          1.0131780570027582,
          1.0070487281642662,
          1.0021452650934723,
          1.0061293288384923,
          0.998467667790377,
          0.9987741342323015,
          0.9947900704872816,
          0.996935335580754,
          1.0055163959546431,
          0.9957094698130555,
          0.9908060067422618,
          0.9917254060680356,
          1.0003064664419246,
          1.0012258657676985,
          1.001532332209623,
          1.00398406374502,
          1.0067422617223414,
          1.016549187863929,
          1.0199203187250996,
          1.0003064664419246,
          1.0027581979773215,
          1.001532332209623,
          0.996935335580754,
          0.998467667790377,
          1.0064357952804168,
          0.996935335580754,
          1.000919399325774,
          0.9935642047195833,
          0.9892736745326388,
          0.9846766779037696,
          0.9901930738584125,
          0.9880478087649404,
          0.9932577382776586,
          0.9904995403003372,
          0.9975482684646031,
          0.9966288691388293,
          0.9926448053938094,
          0.9929512718357341,
          0.9883542752068649,
          0.9914189396261109,
          0.9880478087649404,
          0.9886607416487895,
          0.9895801409745634,
          0.9978547349065277,
          0.9911124731841864,
          0.9886607416487895,
          0.9901930738584125,
          0.988967208090714,
          0.9825314128102973,
          0.9877413423230156,
          0.977321483297579,
          0.9831443456941465,
          0.9914189396261109,
          0.984370211461845,
          0.9822249463683728,
          0.9837572785779958,
          0.9816120134845234,
          0.978853815507202,
          0.978853815507202,
          0.9831443456941465,
          0.9800796812749004,
          0.9754826846460313,
          0.9705792215752375,
          0.9736438859944836,
          0.9751762182041067,
          0.9770150168556544,
          0.9757891510879559,
          0.9702727551333129,
          0.9632240269690469,
          0.9423843089181736,
          0.945142506895495,
          0.9347226478700582,
          0.9411584431504751,
          0.9454489733374196,
          0.9426907753600982,
          0.9322709163346613,
          0.9288997854734907,
          0.9233833895188477,
          0.923996322402697,
          0.9377873122893043,
          0.9402390438247012
         ],
         "yaxis": "y"
        }
       ],
       "layout": {
        "font": {
         "color": "black",
         "family": "Arial, Arial, Arial",
         "size": 20
        },
        "height": 900,
        "legend": {
         "orientation": "h",
         "title": {
          "text": ""
         },
         "tracegroupgap": 0,
         "x": 1,
         "xanchor": "right",
         "y": 1.02,
         "yanchor": "bottom"
        },
        "margin": {
         "b": 20,
         "l": 120,
         "r": 20,
         "t": 20
        },
        "template": {
         "data": {
          "bar": [
           {
            "error_x": {
             "color": "rgb(36,36,36)"
            },
            "error_y": {
             "color": "rgb(36,36,36)"
            },
            "marker": {
             "line": {
              "color": "white",
              "width": 0.5
             },
             "pattern": {
              "fillmode": "overlay",
              "size": 10,
              "solidity": 0.2
             }
            },
            "type": "bar"
           }
          ],
          "barpolar": [
           {
            "marker": {
             "line": {
              "color": "white",
              "width": 0.5
             },
             "pattern": {
              "fillmode": "overlay",
              "size": 10,
              "solidity": 0.2
             }
            },
            "type": "barpolar"
           }
          ],
          "carpet": [
           {
            "aaxis": {
             "endlinecolor": "rgb(36,36,36)",
             "gridcolor": "white",
             "linecolor": "white",
             "minorgridcolor": "white",
             "startlinecolor": "rgb(36,36,36)"
            },
            "baxis": {
             "endlinecolor": "rgb(36,36,36)",
             "gridcolor": "white",
             "linecolor": "white",
             "minorgridcolor": "white",
             "startlinecolor": "rgb(36,36,36)"
            },
            "type": "carpet"
           }
          ],
          "choropleth": [
           {
            "colorbar": {
             "outlinewidth": 1,
             "tickcolor": "rgb(36,36,36)",
             "ticks": "outside"
            },
            "type": "choropleth"
           }
          ],
          "contour": [
           {
            "colorbar": {
             "outlinewidth": 1,
             "tickcolor": "rgb(36,36,36)",
             "ticks": "outside"
            },
            "colorscale": [
             [
              0,
              "#440154"
             ],
             [
              0.1111111111111111,
              "#482878"
             ],
             [
              0.2222222222222222,
              "#3e4989"
             ],
             [
              0.3333333333333333,
              "#31688e"
             ],
             [
              0.4444444444444444,
              "#26828e"
             ],
             [
              0.5555555555555556,
              "#1f9e89"
             ],
             [
              0.6666666666666666,
              "#35b779"
             ],
             [
              0.7777777777777778,
              "#6ece58"
             ],
             [
              0.8888888888888888,
              "#b5de2b"
             ],
             [
              1,
              "#fde725"
             ]
            ],
            "type": "contour"
           }
          ],
          "contourcarpet": [
           {
            "colorbar": {
             "outlinewidth": 1,
             "tickcolor": "rgb(36,36,36)",
             "ticks": "outside"
            },
            "type": "contourcarpet"
           }
          ],
          "heatmap": [
           {
            "colorbar": {
             "outlinewidth": 1,
             "tickcolor": "rgb(36,36,36)",
             "ticks": "outside"
            },
            "colorscale": [
             [
              0,
              "#440154"
             ],
             [
              0.1111111111111111,
              "#482878"
             ],
             [
              0.2222222222222222,
              "#3e4989"
             ],
             [
              0.3333333333333333,
              "#31688e"
             ],
             [
              0.4444444444444444,
              "#26828e"
             ],
             [
              0.5555555555555556,
              "#1f9e89"
             ],
             [
              0.6666666666666666,
              "#35b779"
             ],
             [
              0.7777777777777778,
              "#6ece58"
             ],
             [
              0.8888888888888888,
              "#b5de2b"
             ],
             [
              1,
              "#fde725"
             ]
            ],
            "type": "heatmap"
           }
          ],
          "heatmapgl": [
           {
            "colorbar": {
             "outlinewidth": 1,
             "tickcolor": "rgb(36,36,36)",
             "ticks": "outside"
            },
            "colorscale": [
             [
              0,
              "#440154"
             ],
             [
              0.1111111111111111,
              "#482878"
             ],
             [
              0.2222222222222222,
              "#3e4989"
             ],
             [
              0.3333333333333333,
              "#31688e"
             ],
             [
              0.4444444444444444,
              "#26828e"
             ],
             [
              0.5555555555555556,
              "#1f9e89"
             ],
             [
              0.6666666666666666,
              "#35b779"
             ],
             [
              0.7777777777777778,
              "#6ece58"
             ],
             [
              0.8888888888888888,
              "#b5de2b"
             ],
             [
              1,
              "#fde725"
             ]
            ],
            "type": "heatmapgl"
           }
          ],
          "histogram": [
           {
            "marker": {
             "line": {
              "color": "white",
              "width": 0.6
             }
            },
            "type": "histogram"
           }
          ],
          "histogram2d": [
           {
            "colorbar": {
             "outlinewidth": 1,
             "tickcolor": "rgb(36,36,36)",
             "ticks": "outside"
            },
            "colorscale": [
             [
              0,
              "#440154"
             ],
             [
              0.1111111111111111,
              "#482878"
             ],
             [
              0.2222222222222222,
              "#3e4989"
             ],
             [
              0.3333333333333333,
              "#31688e"
             ],
             [
              0.4444444444444444,
              "#26828e"
             ],
             [
              0.5555555555555556,
              "#1f9e89"
             ],
             [
              0.6666666666666666,
              "#35b779"
             ],
             [
              0.7777777777777778,
              "#6ece58"
             ],
             [
              0.8888888888888888,
              "#b5de2b"
             ],
             [
              1,
              "#fde725"
             ]
            ],
            "type": "histogram2d"
           }
          ],
          "histogram2dcontour": [
           {
            "colorbar": {
             "outlinewidth": 1,
             "tickcolor": "rgb(36,36,36)",
             "ticks": "outside"
            },
            "colorscale": [
             [
              0,
              "#440154"
             ],
             [
              0.1111111111111111,
              "#482878"
             ],
             [
              0.2222222222222222,
              "#3e4989"
             ],
             [
              0.3333333333333333,
              "#31688e"
             ],
             [
              0.4444444444444444,
              "#26828e"
             ],
             [
              0.5555555555555556,
              "#1f9e89"
             ],
             [
              0.6666666666666666,
              "#35b779"
             ],
             [
              0.7777777777777778,
              "#6ece58"
             ],
             [
              0.8888888888888888,
              "#b5de2b"
             ],
             [
              1,
              "#fde725"
             ]
            ],
            "type": "histogram2dcontour"
           }
          ],
          "mesh3d": [
           {
            "colorbar": {
             "outlinewidth": 1,
             "tickcolor": "rgb(36,36,36)",
             "ticks": "outside"
            },
            "type": "mesh3d"
           }
          ],
          "parcoords": [
           {
            "line": {
             "colorbar": {
              "outlinewidth": 1,
              "tickcolor": "rgb(36,36,36)",
              "ticks": "outside"
             }
            },
            "type": "parcoords"
           }
          ],
          "pie": [
           {
            "automargin": true,
            "type": "pie"
           }
          ],
          "scatter": [
           {
            "marker": {
             "colorbar": {
              "outlinewidth": 1,
              "tickcolor": "rgb(36,36,36)",
              "ticks": "outside"
             }
            },
            "type": "scatter"
           }
          ],
          "scatter3d": [
           {
            "line": {
             "colorbar": {
              "outlinewidth": 1,
              "tickcolor": "rgb(36,36,36)",
              "ticks": "outside"
             }
            },
            "marker": {
             "colorbar": {
              "outlinewidth": 1,
              "tickcolor": "rgb(36,36,36)",
              "ticks": "outside"
             }
            },
            "type": "scatter3d"
           }
          ],
          "scattercarpet": [
           {
            "marker": {
             "colorbar": {
              "outlinewidth": 1,
              "tickcolor": "rgb(36,36,36)",
              "ticks": "outside"
             }
            },
            "type": "scattercarpet"
           }
          ],
          "scattergeo": [
           {
            "marker": {
             "colorbar": {
              "outlinewidth": 1,
              "tickcolor": "rgb(36,36,36)",
              "ticks": "outside"
             }
            },
            "type": "scattergeo"
           }
          ],
          "scattergl": [
           {
            "marker": {
             "colorbar": {
              "outlinewidth": 1,
              "tickcolor": "rgb(36,36,36)",
              "ticks": "outside"
             }
            },
            "type": "scattergl"
           }
          ],
          "scattermapbox": [
           {
            "marker": {
             "colorbar": {
              "outlinewidth": 1,
              "tickcolor": "rgb(36,36,36)",
              "ticks": "outside"
             }
            },
            "type": "scattermapbox"
           }
          ],
          "scatterpolar": [
           {
            "marker": {
             "colorbar": {
              "outlinewidth": 1,
              "tickcolor": "rgb(36,36,36)",
              "ticks": "outside"
             }
            },
            "type": "scatterpolar"
           }
          ],
          "scatterpolargl": [
           {
            "marker": {
             "colorbar": {
              "outlinewidth": 1,
              "tickcolor": "rgb(36,36,36)",
              "ticks": "outside"
             }
            },
            "type": "scatterpolargl"
           }
          ],
          "scatterternary": [
           {
            "marker": {
             "colorbar": {
              "outlinewidth": 1,
              "tickcolor": "rgb(36,36,36)",
              "ticks": "outside"
             }
            },
            "type": "scatterternary"
           }
          ],
          "surface": [
           {
            "colorbar": {
             "outlinewidth": 1,
             "tickcolor": "rgb(36,36,36)",
             "ticks": "outside"
            },
            "colorscale": [
             [
              0,
              "#440154"
             ],
             [
              0.1111111111111111,
              "#482878"
             ],
             [
              0.2222222222222222,
              "#3e4989"
             ],
             [
              0.3333333333333333,
              "#31688e"
             ],
             [
              0.4444444444444444,
              "#26828e"
             ],
             [
              0.5555555555555556,
              "#1f9e89"
             ],
             [
              0.6666666666666666,
              "#35b779"
             ],
             [
              0.7777777777777778,
              "#6ece58"
             ],
             [
              0.8888888888888888,
              "#b5de2b"
             ],
             [
              1,
              "#fde725"
             ]
            ],
            "type": "surface"
           }
          ],
          "table": [
           {
            "cells": {
             "fill": {
              "color": "rgb(237,237,237)"
             },
             "line": {
              "color": "white"
             }
            },
            "header": {
             "fill": {
              "color": "rgb(217,217,217)"
             },
             "line": {
              "color": "white"
             }
            },
            "type": "table"
           }
          ]
         },
         "layout": {
          "annotationdefaults": {
           "arrowhead": 0,
           "arrowwidth": 1
          },
          "autotypenumbers": "strict",
          "coloraxis": {
           "colorbar": {
            "outlinewidth": 1,
            "tickcolor": "rgb(36,36,36)",
            "ticks": "outside"
           }
          },
          "colorscale": {
           "diverging": [
            [
             0,
             "rgb(103,0,31)"
            ],
            [
             0.1,
             "rgb(178,24,43)"
            ],
            [
             0.2,
             "rgb(214,96,77)"
            ],
            [
             0.3,
             "rgb(244,165,130)"
            ],
            [
             0.4,
             "rgb(253,219,199)"
            ],
            [
             0.5,
             "rgb(247,247,247)"
            ],
            [
             0.6,
             "rgb(209,229,240)"
            ],
            [
             0.7,
             "rgb(146,197,222)"
            ],
            [
             0.8,
             "rgb(67,147,195)"
            ],
            [
             0.9,
             "rgb(33,102,172)"
            ],
            [
             1,
             "rgb(5,48,97)"
            ]
           ],
           "sequential": [
            [
             0,
             "#440154"
            ],
            [
             0.1111111111111111,
             "#482878"
            ],
            [
             0.2222222222222222,
             "#3e4989"
            ],
            [
             0.3333333333333333,
             "#31688e"
            ],
            [
             0.4444444444444444,
             "#26828e"
            ],
            [
             0.5555555555555556,
             "#1f9e89"
            ],
            [
             0.6666666666666666,
             "#35b779"
            ],
            [
             0.7777777777777778,
             "#6ece58"
            ],
            [
             0.8888888888888888,
             "#b5de2b"
            ],
            [
             1,
             "#fde725"
            ]
           ],
           "sequentialminus": [
            [
             0,
             "#440154"
            ],
            [
             0.1111111111111111,
             "#482878"
            ],
            [
             0.2222222222222222,
             "#3e4989"
            ],
            [
             0.3333333333333333,
             "#31688e"
            ],
            [
             0.4444444444444444,
             "#26828e"
            ],
            [
             0.5555555555555556,
             "#1f9e89"
            ],
            [
             0.6666666666666666,
             "#35b779"
            ],
            [
             0.7777777777777778,
             "#6ece58"
            ],
            [
             0.8888888888888888,
             "#b5de2b"
            ],
            [
             1,
             "#fde725"
            ]
           ]
          },
          "colorway": [
           "#1F77B4",
           "#FF7F0E",
           "#2CA02C",
           "#D62728",
           "#9467BD",
           "#8C564B",
           "#E377C2",
           "#7F7F7F",
           "#BCBD22",
           "#17BECF"
          ],
          "font": {
           "color": "rgb(36,36,36)"
          },
          "geo": {
           "bgcolor": "white",
           "lakecolor": "white",
           "landcolor": "white",
           "showlakes": true,
           "showland": true,
           "subunitcolor": "white"
          },
          "hoverlabel": {
           "align": "left"
          },
          "hovermode": "closest",
          "mapbox": {
           "style": "light"
          },
          "paper_bgcolor": "white",
          "plot_bgcolor": "white",
          "polar": {
           "angularaxis": {
            "gridcolor": "rgb(232,232,232)",
            "linecolor": "rgb(36,36,36)",
            "showgrid": false,
            "showline": true,
            "ticks": "outside"
           },
           "bgcolor": "white",
           "radialaxis": {
            "gridcolor": "rgb(232,232,232)",
            "linecolor": "rgb(36,36,36)",
            "showgrid": false,
            "showline": true,
            "ticks": "outside"
           }
          },
          "scene": {
           "xaxis": {
            "backgroundcolor": "white",
            "gridcolor": "rgb(232,232,232)",
            "gridwidth": 2,
            "linecolor": "rgb(36,36,36)",
            "showbackground": true,
            "showgrid": false,
            "showline": true,
            "ticks": "outside",
            "zeroline": false,
            "zerolinecolor": "rgb(36,36,36)"
           },
           "yaxis": {
            "backgroundcolor": "white",
            "gridcolor": "rgb(232,232,232)",
            "gridwidth": 2,
            "linecolor": "rgb(36,36,36)",
            "showbackground": true,
            "showgrid": false,
            "showline": true,
            "ticks": "outside",
            "zeroline": false,
            "zerolinecolor": "rgb(36,36,36)"
           },
           "zaxis": {
            "backgroundcolor": "white",
            "gridcolor": "rgb(232,232,232)",
            "gridwidth": 2,
            "linecolor": "rgb(36,36,36)",
            "showbackground": true,
            "showgrid": false,
            "showline": true,
            "ticks": "outside",
            "zeroline": false,
            "zerolinecolor": "rgb(36,36,36)"
           }
          },
          "shapedefaults": {
           "fillcolor": "black",
           "line": {
            "width": 0
           },
           "opacity": 0.3
          },
          "ternary": {
           "aaxis": {
            "gridcolor": "rgb(232,232,232)",
            "linecolor": "rgb(36,36,36)",
            "showgrid": false,
            "showline": true,
            "ticks": "outside"
           },
           "baxis": {
            "gridcolor": "rgb(232,232,232)",
            "linecolor": "rgb(36,36,36)",
            "showgrid": false,
            "showline": true,
            "ticks": "outside"
           },
           "bgcolor": "white",
           "caxis": {
            "gridcolor": "rgb(232,232,232)",
            "linecolor": "rgb(36,36,36)",
            "showgrid": false,
            "showline": true,
            "ticks": "outside"
           }
          },
          "title": {
           "x": 0.05
          },
          "xaxis": {
           "automargin": true,
           "gridcolor": "rgb(232,232,232)",
           "linecolor": "rgb(36,36,36)",
           "showgrid": false,
           "showline": true,
           "ticks": "outside",
           "title": {
            "standoff": 15
           },
           "zeroline": false,
           "zerolinecolor": "rgb(36,36,36)"
          },
          "yaxis": {
           "automargin": true,
           "gridcolor": "rgb(232,232,232)",
           "linecolor": "rgb(36,36,36)",
           "showgrid": false,
           "showline": true,
           "ticks": "outside",
           "title": {
            "standoff": 15
           },
           "zeroline": false,
           "zerolinecolor": "rgb(36,36,36)"
          }
         }
        },
        "title": {
         "text": ""
        },
        "width": 1200,
        "xaxis": {
         "anchor": "y",
         "domain": [
          0,
          1
         ],
         "rangeslider": {
          "visible": false
         },
         "title": {
          "text": "<b>Data"
         }
        },
        "yaxis": {
         "anchor": "x",
         "domain": [
          0,
          1
         ],
         "title": {
          "text": "<b>Valor normalizado"
         }
        }
       }
      },
      "text/html": [
       "<div>                            <div id=\"4a79e33e-53b2-4f57-96dc-7a6343153317\" class=\"plotly-graph-div\" style=\"height:900px; width:1200px;\"></div>            <script type=\"text/javascript\">                require([\"plotly\"], function(Plotly) {                    window.PLOTLYENV=window.PLOTLYENV || {};                                    if (document.getElementById(\"4a79e33e-53b2-4f57-96dc-7a6343153317\")) {                    Plotly.newPlot(                        \"4a79e33e-53b2-4f57-96dc-7a6343153317\",                        [{\"hovertemplate\":\"Cripto_name=BNB<br>Data=%{x}<br>value=%{y}<extra></extra>\",\"legendgroup\":\"BNB\",\"line\":{\"color\":\"#636efa\",\"dash\":\"solid\",\"width\":3},\"marker\":{\"symbol\":\"circle\"},\"mode\":\"lines\",\"name\":\"BNB\",\"showlegend\":true,\"x\":[\"2022-04-25T00:00:00\",\"2022-04-25T01:00:00\",\"2022-04-25T02:00:00\",\"2022-04-25T03:00:00\",\"2022-04-25T04:00:00\",\"2022-04-25T05:00:00\",\"2022-04-25T06:00:00\",\"2022-04-25T07:00:00\",\"2022-04-25T08:00:00\",\"2022-04-25T09:00:00\",\"2022-04-25T10:00:00\",\"2022-04-25T11:00:00\",\"2022-04-25T12:00:00\",\"2022-04-25T13:00:00\",\"2022-04-25T14:00:00\",\"2022-04-25T15:00:00\",\"2022-04-25T16:00:00\",\"2022-04-25T17:00:00\",\"2022-04-25T18:00:00\",\"2022-04-25T19:00:00\",\"2022-04-25T20:00:00\",\"2022-04-25T21:00:00\",\"2022-04-25T22:00:00\",\"2022-04-25T23:00:00\",\"2022-04-26T00:00:00\",\"2022-04-26T01:00:00\",\"2022-04-26T02:00:00\",\"2022-04-26T03:00:00\",\"2022-04-26T04:00:00\",\"2022-04-26T05:00:00\",\"2022-04-26T06:00:00\",\"2022-04-26T07:00:00\",\"2022-04-26T08:00:00\",\"2022-04-26T09:00:00\",\"2022-04-26T10:00:00\",\"2022-04-26T11:00:00\",\"2022-04-26T12:00:00\",\"2022-04-26T13:00:00\",\"2022-04-26T14:00:00\",\"2022-04-26T15:00:00\",\"2022-04-26T16:00:00\",\"2022-04-26T17:00:00\",\"2022-04-26T18:00:00\",\"2022-04-26T19:00:00\",\"2022-04-26T20:00:00\",\"2022-04-26T21:00:00\",\"2022-04-26T22:00:00\",\"2022-04-26T23:00:00\",\"2022-04-27T00:00:00\",\"2022-04-27T01:00:00\",\"2022-04-27T02:00:00\",\"2022-04-27T03:00:00\",\"2022-04-27T04:00:00\",\"2022-04-27T05:00:00\",\"2022-04-27T06:00:00\",\"2022-04-27T07:00:00\",\"2022-04-27T08:00:00\",\"2022-04-27T09:00:00\",\"2022-04-27T10:00:00\",\"2022-04-27T11:00:00\",\"2022-04-27T12:00:00\",\"2022-04-27T13:00:00\",\"2022-04-27T14:00:00\",\"2022-04-27T15:00:00\",\"2022-04-27T16:00:00\",\"2022-04-27T17:00:00\",\"2022-04-27T18:00:00\",\"2022-04-27T19:00:00\",\"2022-04-27T20:00:00\",\"2022-04-27T21:00:00\",\"2022-04-27T22:00:00\",\"2022-04-27T23:00:00\",\"2022-04-28T00:00:00\",\"2022-04-28T01:00:00\",\"2022-04-28T02:00:00\",\"2022-04-28T03:00:00\",\"2022-04-28T04:00:00\",\"2022-04-28T05:00:00\",\"2022-04-28T06:00:00\",\"2022-04-28T07:00:00\",\"2022-04-28T08:00:00\",\"2022-04-28T09:00:00\",\"2022-04-28T10:00:00\",\"2022-04-28T11:00:00\",\"2022-04-28T12:00:00\",\"2022-04-28T13:00:00\",\"2022-04-28T14:00:00\",\"2022-04-28T15:00:00\",\"2022-04-28T16:00:00\",\"2022-04-28T17:00:00\",\"2022-04-28T18:00:00\",\"2022-04-28T19:00:00\",\"2022-04-28T20:00:00\",\"2022-04-28T21:00:00\",\"2022-04-28T22:00:00\",\"2022-04-28T23:00:00\",\"2022-04-29T00:00:00\",\"2022-04-29T01:00:00\",\"2022-04-29T02:00:00\",\"2022-04-29T03:00:00\",\"2022-04-29T04:00:00\",\"2022-04-29T05:00:00\",\"2022-04-29T06:00:00\",\"2022-04-29T07:00:00\",\"2022-04-29T08:00:00\",\"2022-04-29T09:00:00\",\"2022-04-29T10:00:00\",\"2022-04-29T11:00:00\",\"2022-04-29T12:00:00\",\"2022-04-29T13:00:00\",\"2022-04-29T14:00:00\",\"2022-04-29T15:00:00\",\"2022-04-29T16:00:00\",\"2022-04-29T17:00:00\",\"2022-04-29T18:00:00\",\"2022-04-29T19:00:00\",\"2022-04-29T20:00:00\",\"2022-04-29T21:00:00\"],\"xaxis\":\"x\",\"y\":[1.0,1.0036958817317845,1.0058078141499471,1.0110876451953537,1.0084477296726504,1.0010559662090812,0.9899683210137276,0.9809926082365364,0.9831045406546991,0.9910242872228089,0.9904963041182682,1.004751847940866,1.0036958817317845,1.0110876451953537,1.0300950369588173,1.0327349524815206,1.0359028511087645,1.0327349524815206,1.0332629355860612,1.0395987328405492,1.0401267159450898,1.0422386483632524,1.042766631467793,1.0454065469904963,1.0480464625131996,1.0438225976768742,1.0406546990496304,1.0406546990496304,1.0417106652587118,1.042766631467793,1.0353748680042238,1.0385427666314677,1.036430834213305,1.0311510031678985,1.03220696937698,1.03220696937698,1.0359028511087645,1.0337909186906018,1.0316789862724394,1.0248152059134108,1.029039070749736,1.0279831045406547,1.027455121436114,1.0227032734952481,1.0221752903907075,1.027455121436114,1.0253431890179514,1.0248152059134108,1.025871172122492,1.030623020063358,1.0348468848996832,1.0311510031678985,1.0343189017951426,1.0359028511087645,1.0417106652587118,1.045934530095037,1.0353748680042238,1.041182682154171,1.041182682154171,1.038014783526927,1.0348468848996832,1.042766631467793,1.030623020063358,1.036430834213305,1.0316789862724394,1.025871172122492,1.0205913410770855,1.0248152059134108,1.0269271383315735,1.0285110876451953,1.0279831045406547,1.0300950369588173,1.0295670538542767,1.0263991552270328,1.0279831045406547,1.0242872228088702,1.0269271383315735,1.0227032734952481,1.0242872228088702,1.030623020063358,1.0617740232312567,1.0586061246040126,1.0591341077085534,1.0623020063357973,1.062829989440338,1.0586061246040126,1.0654699049630412,1.059662090813094,1.06441393875396,1.0712777191129883,1.0633579725448785,1.0633579725448785,1.0649419218585006,1.0665258711721224,1.0728616684266103,1.068637803590285,1.0728616684266103,1.0723336853220697,1.0591341077085534,1.0612460401267159,1.062829989440338,1.0665258711721224,1.0649419218585006,1.0654699049630412,1.0554382259767687,1.0501583949313622,1.0417106652587118,1.0390707497360085,1.029039070749736,1.0406546990496304,1.0464625131995775,1.042766631467793,1.0353748680042238,1.036430834213305,1.0337909186906018,1.0295670538542767,1.038014783526927,1.0395987328405492],\"yaxis\":\"y\",\"type\":\"scattergl\"},{\"hovertemplate\":\"Cripto_name=Binance USD<br>Data=%{x}<br>value=%{y}<extra></extra>\",\"legendgroup\":\"Binance USD\",\"line\":{\"color\":\"#EF553B\",\"dash\":\"solid\",\"width\":3},\"marker\":{\"symbol\":\"circle\"},\"mode\":\"lines\",\"name\":\"Binance USD\",\"showlegend\":true,\"x\":[\"2022-04-25T00:00:00\",\"2022-04-25T01:00:00\",\"2022-04-25T02:00:00\",\"2022-04-25T03:00:00\",\"2022-04-25T04:00:00\",\"2022-04-25T05:00:00\",\"2022-04-25T06:00:00\",\"2022-04-25T07:00:00\",\"2022-04-25T08:00:00\",\"2022-04-25T09:00:00\",\"2022-04-25T10:00:00\",\"2022-04-25T11:00:00\",\"2022-04-25T12:00:00\",\"2022-04-25T13:00:00\",\"2022-04-25T14:00:00\",\"2022-04-25T15:00:00\",\"2022-04-25T16:00:00\",\"2022-04-25T17:00:00\",\"2022-04-25T18:00:00\",\"2022-04-25T19:00:00\",\"2022-04-25T20:00:00\",\"2022-04-25T21:00:00\",\"2022-04-25T22:00:00\",\"2022-04-25T23:00:00\",\"2022-04-26T00:00:00\",\"2022-04-26T01:00:00\",\"2022-04-26T02:00:00\",\"2022-04-26T03:00:00\",\"2022-04-26T04:00:00\",\"2022-04-26T05:00:00\",\"2022-04-26T06:00:00\",\"2022-04-26T07:00:00\",\"2022-04-26T08:00:00\",\"2022-04-26T09:00:00\",\"2022-04-26T10:00:00\",\"2022-04-26T11:00:00\",\"2022-04-26T12:00:00\",\"2022-04-26T13:00:00\",\"2022-04-26T14:00:00\",\"2022-04-26T15:00:00\",\"2022-04-26T16:00:00\",\"2022-04-26T17:00:00\",\"2022-04-26T18:00:00\",\"2022-04-26T19:00:00\",\"2022-04-26T20:00:00\",\"2022-04-26T21:00:00\",\"2022-04-26T22:00:00\",\"2022-04-26T23:00:00\",\"2022-04-27T00:00:00\",\"2022-04-27T01:00:00\",\"2022-04-27T02:00:00\",\"2022-04-27T03:00:00\",\"2022-04-27T04:00:00\",\"2022-04-27T05:00:00\",\"2022-04-27T06:00:00\",\"2022-04-27T07:00:00\",\"2022-04-27T08:00:00\",\"2022-04-27T09:00:00\",\"2022-04-27T10:00:00\",\"2022-04-27T11:00:00\",\"2022-04-27T12:00:00\",\"2022-04-27T13:00:00\",\"2022-04-27T14:00:00\",\"2022-04-27T15:00:00\",\"2022-04-27T16:00:00\",\"2022-04-27T17:00:00\",\"2022-04-27T18:00:00\",\"2022-04-27T19:00:00\",\"2022-04-27T20:00:00\",\"2022-04-27T21:00:00\",\"2022-04-27T22:00:00\",\"2022-04-27T23:00:00\",\"2022-04-28T00:00:00\",\"2022-04-28T01:00:00\",\"2022-04-28T02:00:00\",\"2022-04-28T03:00:00\",\"2022-04-28T04:00:00\",\"2022-04-28T05:00:00\",\"2022-04-28T06:00:00\",\"2022-04-28T07:00:00\",\"2022-04-28T08:00:00\",\"2022-04-28T09:00:00\",\"2022-04-28T10:00:00\",\"2022-04-28T11:00:00\",\"2022-04-28T12:00:00\",\"2022-04-28T13:00:00\",\"2022-04-28T14:00:00\",\"2022-04-28T15:00:00\",\"2022-04-28T16:00:00\",\"2022-04-28T17:00:00\",\"2022-04-28T18:00:00\",\"2022-04-28T19:00:00\",\"2022-04-28T20:00:00\",\"2022-04-28T21:00:00\",\"2022-04-28T22:00:00\",\"2022-04-28T23:00:00\",\"2022-04-29T00:00:00\",\"2022-04-29T01:00:00\",\"2022-04-29T02:00:00\",\"2022-04-29T03:00:00\",\"2022-04-29T04:00:00\",\"2022-04-29T05:00:00\",\"2022-04-29T06:00:00\",\"2022-04-29T07:00:00\",\"2022-04-29T08:00:00\",\"2022-04-29T09:00:00\",\"2022-04-29T10:00:00\",\"2022-04-29T11:00:00\",\"2022-04-29T12:00:00\",\"2022-04-29T13:00:00\",\"2022-04-29T14:00:00\",\"2022-04-29T15:00:00\",\"2022-04-29T16:00:00\",\"2022-04-29T17:00:00\",\"2022-04-29T18:00:00\",\"2022-04-29T19:00:00\",\"2022-04-29T20:00:00\",\"2022-04-29T21:00:00\"],\"xaxis\":\"x\",\"y\":[1.0,0.9995862639635913,1.0002068680182044,0.9997931319817958,0.9997931319817958,1.0,1.001034340091022,1.0008274720728176,1.0006206040546133,1.003103020273066,1.00330988829127,1.0024824162184527,1.0008274720728176,1.0091021928009931,1.0233760860570957,1.0258585022755482,1.0194455937112124,1.0159288374017377,1.0113777410012412,1.0126189491104676,1.0136532892014896,1.0130326851468765,1.0126189491104676,1.0130326851468765,1.0115846090194456,1.0111708729830369,1.0103434009102195,1.0093090608191972,1.0097227968556062,1.0093090608191972,1.0072403806371535,1.0099296648738105,1.0105502689284236,1.0105502689284236,1.0117914770376502,1.0103434009102195,1.0200661977658254,1.0266859743483658,1.0341332230037237,1.0349606950765413,1.031030202730658,1.03206454282168,1.033719486967315,1.038063715349607,1.0401323955316508,1.0409598676044685,1.0407529995862639,1.0401323955316508,1.0407529995862639,1.0405461315680598,1.0409598676044685,1.0407529995862639,1.0397186594952421,1.0399255275134465,1.0397186594952421,1.0399255275134465,1.0382705833678114,1.0388911874224247,1.0395117914770378,1.0409598676044685,1.0407529995862639,1.0386843194042201,1.0438560198593299,1.0432354158047168,1.0355812991311544,1.0302027306578405,1.0314439387670666,1.0335126189491106,1.0335126189491106,1.0324782788580886,1.0324782788580886,1.03206454282168,1.0304095986760446,1.0312370707488623,1.0295821266032272,1.0291683905668183,1.0295821266032272,1.0289615225486142,1.0289615225486142,1.0281340504757965,1.0287546545304096,1.0277203144393878,1.0291683905668183,1.0297889946214316,1.034340091021928,1.0393049234588334,1.0397186594952421,1.0324782788580886,1.0293752585850229,1.0302027306578405,1.0283409184940009,1.0281340504757965,1.0287546545304096,1.0291683905668183,1.0289615225486142,1.0281340504757965,1.0285477865122055,1.0283409184940009,1.0283409184940009,1.0287546545304096,1.0287546545304096,1.0287546545304096,1.0285477865122055,1.0287546545304096,1.0285477865122055,1.0295821266032272,1.0306164666942492,1.0308233347124534,1.0169631774927599,1.0179975175837817,1.0285477865122055,1.0256516342573438,1.0283409184940009,1.0254447662391395,1.0287546545304096,1.0306164666942492,1.034340091021928,1.0341332230037237],\"yaxis\":\"y\",\"type\":\"scattergl\"},{\"hovertemplate\":\"Cripto_name=Bitcoin<br>Data=%{x}<br>value=%{y}<extra></extra>\",\"legendgroup\":\"Bitcoin\",\"line\":{\"color\":\"#00cc96\",\"dash\":\"solid\",\"width\":3},\"marker\":{\"symbol\":\"circle\"},\"mode\":\"lines\",\"name\":\"Bitcoin\",\"showlegend\":true,\"x\":[\"2022-04-25T00:00:00\",\"2022-04-25T01:00:00\",\"2022-04-25T02:00:00\",\"2022-04-25T03:00:00\",\"2022-04-25T04:00:00\",\"2022-04-25T05:00:00\",\"2022-04-25T06:00:00\",\"2022-04-25T07:00:00\",\"2022-04-25T08:00:00\",\"2022-04-25T09:00:00\",\"2022-04-25T10:00:00\",\"2022-04-25T11:00:00\",\"2022-04-25T12:00:00\",\"2022-04-25T13:00:00\",\"2022-04-25T14:00:00\",\"2022-04-25T15:00:00\",\"2022-04-25T16:00:00\",\"2022-04-25T17:00:00\",\"2022-04-25T18:00:00\",\"2022-04-25T19:00:00\",\"2022-04-25T20:00:00\",\"2022-04-25T21:00:00\",\"2022-04-25T22:00:00\",\"2022-04-25T23:00:00\",\"2022-04-26T00:00:00\",\"2022-04-26T01:00:00\",\"2022-04-26T02:00:00\",\"2022-04-26T03:00:00\",\"2022-04-26T04:00:00\",\"2022-04-26T05:00:00\",\"2022-04-26T06:00:00\",\"2022-04-26T07:00:00\",\"2022-04-26T08:00:00\",\"2022-04-26T09:00:00\",\"2022-04-26T10:00:00\",\"2022-04-26T11:00:00\",\"2022-04-26T12:00:00\",\"2022-04-26T13:00:00\",\"2022-04-26T14:00:00\",\"2022-04-26T15:00:00\",\"2022-04-26T16:00:00\",\"2022-04-26T17:00:00\",\"2022-04-26T18:00:00\",\"2022-04-26T19:00:00\",\"2022-04-26T20:00:00\",\"2022-04-26T21:00:00\",\"2022-04-26T22:00:00\",\"2022-04-26T23:00:00\",\"2022-04-27T00:00:00\",\"2022-04-27T01:00:00\",\"2022-04-27T02:00:00\",\"2022-04-27T03:00:00\",\"2022-04-27T04:00:00\",\"2022-04-27T05:00:00\",\"2022-04-27T06:00:00\",\"2022-04-27T07:00:00\",\"2022-04-27T08:00:00\",\"2022-04-27T09:00:00\",\"2022-04-27T10:00:00\",\"2022-04-27T11:00:00\",\"2022-04-27T12:00:00\",\"2022-04-27T13:00:00\",\"2022-04-27T14:00:00\",\"2022-04-27T15:00:00\",\"2022-04-27T16:00:00\",\"2022-04-27T17:00:00\",\"2022-04-27T18:00:00\",\"2022-04-27T19:00:00\",\"2022-04-27T20:00:00\",\"2022-04-27T21:00:00\",\"2022-04-27T22:00:00\",\"2022-04-27T23:00:00\",\"2022-04-28T00:00:00\",\"2022-04-28T01:00:00\",\"2022-04-28T02:00:00\",\"2022-04-28T03:00:00\",\"2022-04-28T04:00:00\",\"2022-04-28T05:00:00\",\"2022-04-28T06:00:00\",\"2022-04-28T07:00:00\",\"2022-04-28T08:00:00\",\"2022-04-28T09:00:00\",\"2022-04-28T10:00:00\",\"2022-04-28T11:00:00\",\"2022-04-28T12:00:00\",\"2022-04-28T13:00:00\",\"2022-04-28T14:00:00\",\"2022-04-28T15:00:00\",\"2022-04-28T16:00:00\",\"2022-04-28T17:00:00\",\"2022-04-28T18:00:00\",\"2022-04-28T19:00:00\",\"2022-04-28T20:00:00\",\"2022-04-28T21:00:00\",\"2022-04-28T22:00:00\",\"2022-04-28T23:00:00\",\"2022-04-29T00:00:00\",\"2022-04-29T01:00:00\",\"2022-04-29T02:00:00\",\"2022-04-29T03:00:00\",\"2022-04-29T04:00:00\",\"2022-04-29T05:00:00\",\"2022-04-29T06:00:00\",\"2022-04-29T07:00:00\",\"2022-04-29T08:00:00\",\"2022-04-29T09:00:00\",\"2022-04-29T10:00:00\",\"2022-04-29T11:00:00\",\"2022-04-29T12:00:00\",\"2022-04-29T13:00:00\",\"2022-04-29T14:00:00\",\"2022-04-29T15:00:00\",\"2022-04-29T16:00:00\",\"2022-04-29T17:00:00\",\"2022-04-29T18:00:00\",\"2022-04-29T19:00:00\",\"2022-04-29T20:00:00\",\"2022-04-29T21:00:00\"],\"xaxis\":\"x\",\"y\":[1.0,1.0058180695506833,1.0063876335414637,1.010076491911659,1.00706898111922,1.0031086483235123,0.9953370275147315,0.9907751925605361,0.9897904323895604,0.9963750179652193,0.9921112725762923,1.001698045916439,0.9992547760868292,1.006078897920293,1.0285367528464893,1.0292766537317088,1.0355791188259529,1.0299420322256112,1.037734945146197,1.0486365063902952,1.0480190351479535,1.0486205373064414,1.0513086664218074,1.05306526564571,1.0555937039225394,1.0534591697141003,1.0537572592793685,1.0526713615773196,1.0541405172918563,1.0538743658942953,1.0500098476017097,1.05481121881371,1.0536401526644417,1.0501056621048317,1.0513885118410757,1.0521017975865392,1.0576111315160517,1.0517291856299538,1.0449582940760023,1.0271421195232697,1.026109452100733,1.0199294166493669,1.0218457067118059,1.022745298435562,1.0203552588854643,1.0269238753772696,1.023059357084684,1.0204457503606352,1.0226920681560498,1.0255718262776599,1.0293192379553184,1.0268387069300502,1.0276424841506844,1.0279192816041478,1.0339662413567334,1.0456183495419535,1.0410618376157093,1.0441598398833192,1.0460814529737095,1.0446229433150753,1.0417431851934655,1.0514364190926366,1.0385653375065873,1.047252519122978,1.0442130701628314,1.0365851711087335,1.029819602582733,1.033934303189026,1.0396139740129775,1.0411949133144898,1.03853339933888,1.0424192097432703,1.0444259912808802,1.0414504186561484,1.0446548814827827,1.0427811756439533,1.0437712588428802,1.0421530583457095,1.0421424122898069,1.0423074261562948,1.0492486546046853,1.052021952167271,1.051468357260344,1.0518196771051245,1.052703299745027,1.0447613420418072,1.0519421067480026,1.0492805927723927,1.057770822354588,1.0681134656638083,1.0607091337836616,1.0579784204446858,1.0561206836897101,1.0551572156305393,1.053890334978149,1.0515056184560025,1.0544119917173684,1.0538317816706855,1.045533181094734,1.046241143812246,1.0467148932999046,1.0451605691381485,1.04468681965049,1.0474388251012705,1.042530993330246,1.0365372638571726,1.029883478918148,1.0277915289333184,1.0195674507486838,1.0296812038560015,1.0312035898500502,1.0291595471167818,1.0192959763231717,1.0206906096463912,1.019524866525074,1.0166983386829764,1.0264394798337086,1.0273976248649281],\"yaxis\":\"y\",\"type\":\"scattergl\"},{\"hovertemplate\":\"Cripto_name=Cardano<br>Data=%{x}<br>value=%{y}<extra></extra>\",\"legendgroup\":\"Cardano\",\"line\":{\"color\":\"#ab63fa\",\"dash\":\"solid\",\"width\":3},\"marker\":{\"symbol\":\"circle\"},\"mode\":\"lines\",\"name\":\"Cardano\",\"showlegend\":true,\"x\":[\"2022-04-25T00:00:00\",\"2022-04-25T01:00:00\",\"2022-04-25T02:00:00\",\"2022-04-25T03:00:00\",\"2022-04-25T04:00:00\",\"2022-04-25T05:00:00\",\"2022-04-25T06:00:00\",\"2022-04-25T07:00:00\",\"2022-04-25T08:00:00\",\"2022-04-25T09:00:00\",\"2022-04-25T10:00:00\",\"2022-04-25T11:00:00\",\"2022-04-25T12:00:00\",\"2022-04-25T13:00:00\",\"2022-04-25T14:00:00\",\"2022-04-25T15:00:00\",\"2022-04-25T16:00:00\",\"2022-04-25T17:00:00\",\"2022-04-25T18:00:00\",\"2022-04-25T19:00:00\",\"2022-04-25T20:00:00\",\"2022-04-25T21:00:00\",\"2022-04-25T22:00:00\",\"2022-04-25T23:00:00\",\"2022-04-26T00:00:00\",\"2022-04-26T01:00:00\",\"2022-04-26T02:00:00\",\"2022-04-26T03:00:00\",\"2022-04-26T04:00:00\",\"2022-04-26T05:00:00\",\"2022-04-26T06:00:00\",\"2022-04-26T07:00:00\",\"2022-04-26T08:00:00\",\"2022-04-26T09:00:00\",\"2022-04-26T10:00:00\",\"2022-04-26T11:00:00\",\"2022-04-26T12:00:00\",\"2022-04-26T13:00:00\",\"2022-04-26T14:00:00\",\"2022-04-26T15:00:00\",\"2022-04-26T16:00:00\",\"2022-04-26T17:00:00\",\"2022-04-26T18:00:00\",\"2022-04-26T19:00:00\",\"2022-04-26T20:00:00\",\"2022-04-26T21:00:00\",\"2022-04-26T22:00:00\",\"2022-04-26T23:00:00\",\"2022-04-27T00:00:00\",\"2022-04-27T01:00:00\",\"2022-04-27T02:00:00\",\"2022-04-27T03:00:00\",\"2022-04-27T04:00:00\",\"2022-04-27T05:00:00\",\"2022-04-27T06:00:00\",\"2022-04-27T07:00:00\",\"2022-04-27T08:00:00\",\"2022-04-27T09:00:00\",\"2022-04-27T10:00:00\",\"2022-04-27T11:00:00\",\"2022-04-27T12:00:00\",\"2022-04-27T13:00:00\",\"2022-04-27T14:00:00\",\"2022-04-27T15:00:00\",\"2022-04-27T16:00:00\",\"2022-04-27T17:00:00\",\"2022-04-27T18:00:00\",\"2022-04-27T19:00:00\",\"2022-04-27T20:00:00\",\"2022-04-27T21:00:00\",\"2022-04-27T22:00:00\",\"2022-04-27T23:00:00\",\"2022-04-28T00:00:00\",\"2022-04-28T01:00:00\",\"2022-04-28T02:00:00\",\"2022-04-28T03:00:00\",\"2022-04-28T04:00:00\",\"2022-04-28T05:00:00\",\"2022-04-28T06:00:00\",\"2022-04-28T07:00:00\",\"2022-04-28T08:00:00\",\"2022-04-28T09:00:00\",\"2022-04-28T10:00:00\",\"2022-04-28T11:00:00\",\"2022-04-28T12:00:00\",\"2022-04-28T13:00:00\",\"2022-04-28T14:00:00\",\"2022-04-28T15:00:00\",\"2022-04-28T16:00:00\",\"2022-04-28T17:00:00\",\"2022-04-28T18:00:00\",\"2022-04-28T19:00:00\",\"2022-04-28T20:00:00\",\"2022-04-28T21:00:00\",\"2022-04-28T22:00:00\",\"2022-04-28T23:00:00\",\"2022-04-29T00:00:00\",\"2022-04-29T01:00:00\",\"2022-04-29T02:00:00\",\"2022-04-29T03:00:00\",\"2022-04-29T04:00:00\",\"2022-04-29T05:00:00\",\"2022-04-29T06:00:00\",\"2022-04-29T07:00:00\",\"2022-04-29T08:00:00\",\"2022-04-29T09:00:00\",\"2022-04-29T10:00:00\",\"2022-04-29T11:00:00\",\"2022-04-29T12:00:00\",\"2022-04-29T13:00:00\",\"2022-04-29T14:00:00\",\"2022-04-29T15:00:00\",\"2022-04-29T16:00:00\",\"2022-04-29T17:00:00\",\"2022-04-29T18:00:00\",\"2022-04-29T19:00:00\",\"2022-04-29T20:00:00\",\"2022-04-29T21:00:00\"],\"xaxis\":\"x\",\"y\":[1.0,1.0065123010130246,1.0077182826821032,1.0178485287023638,1.0120598166907862,1.0057887120115774,0.9855282199710566,0.9727448142788231,0.9715388326097443,0.9848046309696094,0.9869753979739507,1.0012059816690786,0.9990352146647372,1.006994693680656,1.0253256150506513,1.02653159671973,1.0400385914134107,1.0311143270622287,1.0347322720694645,1.047515677761698,1.051857211770381,1.0600578871201156,1.0607814761215628,1.0605402797877472,1.054510371442354,1.0441389290882779,1.0451037144235409,1.0446213217559095,1.0511336227689339,1.051857211770381,1.042450554751568,1.0477568740955139,1.0506512301013025,1.0482392667631453,1.0446213217559095,1.0434153400868307,1.042450554751568,1.0330438977327545,1.030631934394597,1.0178485287023638,1.0176073323685482,1.0103714423540762,1.0077182826821032,1.0057887120115774,1.0065123010130246,1.0188133140376268,1.0135069946936808,1.0021707670043416,1.0028943560057888,1.011336227689339,1.015918958031838,1.0062711046792088,1.0110950313555234,1.014230583695128,1.0209840810419681,1.033526290400386,1.0192957067052582,1.0274963820549927,1.0262904003859141,1.0166425470332852,1.0125422093584178,1.0270139893873613,1.0151953690303908,1.0207428847081526,1.0125422093584178,1.0060299083453932,1.0007235890014472,1.0021707670043416,1.0086830680173662,1.0101302460202604,1.0089242643511818,1.011336227689339,1.011336227689339,1.0084418716835504,1.0115774240231548,1.0072358900144718,1.010612638687892,1.0021707670043416,1.0055475156777616,1.0086830680173662,1.018572117703811,1.0197780993728895,1.019536903039074,1.0176073323685482,1.0118186203569706,1.0055475156777616,1.0144717800289438,1.0045827303424988,1.006994693680656,1.0144717800289438,1.0156777616980224,1.0072358900144718,1.0091654606849976,1.0176073323685482,1.0139893873613122,1.011336227689339,1.012301013024602,1.0108538350217076,0.9992764109985528,1.0002411963338158,1.0045827303424988,1.0,1.000964785335263,1.0031355523396044,0.9954172696575012,0.9864930053063193,0.9756391702846117,0.9758803666184275,0.9671972986010612,0.9773275446213217,0.9744331886155331,0.9768451519536903,0.967438494934877,0.9669561022672456,0.9592378195851423,0.9558610709117222,0.9671972986010612,0.9720212252773759],\"yaxis\":\"y\",\"type\":\"scattergl\"},{\"hovertemplate\":\"Cripto_name=Dogecoin<br>Data=%{x}<br>value=%{y}<extra></extra>\",\"legendgroup\":\"Dogecoin\",\"line\":{\"color\":\"#FFA15A\",\"dash\":\"solid\",\"width\":3},\"marker\":{\"symbol\":\"circle\"},\"mode\":\"lines\",\"name\":\"Dogecoin\",\"showlegend\":true,\"x\":[\"2022-04-25T00:00:00\",\"2022-04-25T01:00:00\",\"2022-04-25T02:00:00\",\"2022-04-25T03:00:00\",\"2022-04-25T04:00:00\",\"2022-04-25T05:00:00\",\"2022-04-25T06:00:00\",\"2022-04-25T07:00:00\",\"2022-04-25T08:00:00\",\"2022-04-25T09:00:00\",\"2022-04-25T10:00:00\",\"2022-04-25T11:00:00\",\"2022-04-25T12:00:00\",\"2022-04-25T13:00:00\",\"2022-04-25T14:00:00\",\"2022-04-25T15:00:00\",\"2022-04-25T16:00:00\",\"2022-04-25T17:00:00\",\"2022-04-25T18:00:00\",\"2022-04-25T19:00:00\",\"2022-04-25T20:00:00\",\"2022-04-25T21:00:00\",\"2022-04-25T22:00:00\",\"2022-04-25T23:00:00\",\"2022-04-26T00:00:00\",\"2022-04-26T01:00:00\",\"2022-04-26T02:00:00\",\"2022-04-26T03:00:00\",\"2022-04-26T04:00:00\",\"2022-04-26T05:00:00\",\"2022-04-26T06:00:00\",\"2022-04-26T07:00:00\",\"2022-04-26T08:00:00\",\"2022-04-26T09:00:00\",\"2022-04-26T10:00:00\",\"2022-04-26T11:00:00\",\"2022-04-26T12:00:00\",\"2022-04-26T13:00:00\",\"2022-04-26T14:00:00\",\"2022-04-26T15:00:00\",\"2022-04-26T16:00:00\",\"2022-04-26T17:00:00\",\"2022-04-26T18:00:00\",\"2022-04-26T19:00:00\",\"2022-04-26T20:00:00\",\"2022-04-26T21:00:00\",\"2022-04-26T22:00:00\",\"2022-04-26T23:00:00\",\"2022-04-27T00:00:00\",\"2022-04-27T01:00:00\",\"2022-04-27T02:00:00\",\"2022-04-27T03:00:00\",\"2022-04-27T04:00:00\",\"2022-04-27T05:00:00\",\"2022-04-27T06:00:00\",\"2022-04-27T07:00:00\",\"2022-04-27T08:00:00\",\"2022-04-27T09:00:00\",\"2022-04-27T10:00:00\",\"2022-04-27T11:00:00\",\"2022-04-27T12:00:00\",\"2022-04-27T13:00:00\",\"2022-04-27T14:00:00\",\"2022-04-27T15:00:00\",\"2022-04-27T16:00:00\",\"2022-04-27T17:00:00\",\"2022-04-27T18:00:00\",\"2022-04-27T19:00:00\",\"2022-04-27T20:00:00\",\"2022-04-27T21:00:00\",\"2022-04-27T22:00:00\",\"2022-04-27T23:00:00\",\"2022-04-28T00:00:00\",\"2022-04-28T01:00:00\",\"2022-04-28T02:00:00\",\"2022-04-28T03:00:00\",\"2022-04-28T04:00:00\",\"2022-04-28T05:00:00\",\"2022-04-28T06:00:00\",\"2022-04-28T07:00:00\",\"2022-04-28T08:00:00\",\"2022-04-28T09:00:00\",\"2022-04-28T10:00:00\",\"2022-04-28T11:00:00\",\"2022-04-28T12:00:00\",\"2022-04-28T13:00:00\",\"2022-04-28T14:00:00\",\"2022-04-28T15:00:00\",\"2022-04-28T16:00:00\",\"2022-04-28T17:00:00\",\"2022-04-28T18:00:00\",\"2022-04-28T19:00:00\",\"2022-04-28T20:00:00\",\"2022-04-28T21:00:00\",\"2022-04-28T22:00:00\",\"2022-04-28T23:00:00\",\"2022-04-29T00:00:00\",\"2022-04-29T01:00:00\",\"2022-04-29T02:00:00\",\"2022-04-29T03:00:00\",\"2022-04-29T04:00:00\",\"2022-04-29T05:00:00\",\"2022-04-29T06:00:00\",\"2022-04-29T07:00:00\",\"2022-04-29T08:00:00\",\"2022-04-29T09:00:00\",\"2022-04-29T10:00:00\",\"2022-04-29T11:00:00\",\"2022-04-29T12:00:00\",\"2022-04-29T13:00:00\",\"2022-04-29T14:00:00\",\"2022-04-29T15:00:00\",\"2022-04-29T16:00:00\",\"2022-04-29T17:00:00\",\"2022-04-29T18:00:00\",\"2022-04-29T19:00:00\",\"2022-04-29T20:00:00\",\"2022-04-29T21:00:00\"],\"xaxis\":\"x\",\"y\":[1.0,1.006514657980456,1.004885993485342,1.013029315960912,1.014657980456026,1.003257328990228,0.9869706840390879,0.9788273615635179,0.9755700325732899,0.9853420195439739,0.9853420195439739,1.1026058631921825,1.1009771986970684,1.1026058631921825,1.1188925081433225,1.1205211726384363,1.1758957654723128,1.205211726384365,1.234527687296417,1.2915309446254073,1.2622149837133552,1.2768729641693812,1.229641693811075,1.2605863192182412,1.226384364820847,1.1970684039087949,1.216612377850163,1.221498371335505,1.2752442996742672,1.2736156351791532,1.2508143322475571,1.2817589576547233,1.3078175895765474,1.2866449511400653,1.2785016286644952,1.2687296416938112,1.249185667752443,1.234527687296417,1.221498371335505,1.1938110749185669,1.1758957654723128,1.1514657980456025,1.1563517915309447,1.1498371335504884,1.1596091205211727,1.1628664495114007,1.1563517915309447,1.1270358306188923,1.1237785016286643,1.1416938110749184,1.1563517915309447,1.1465798045602604,1.1514657980456025,1.1514657980456025,1.1710097719869708,1.1824104234527688,1.1693811074918568,1.1693811074918568,1.1530944625407167,1.1449511400651464,1.1400651465798044,1.1596091205211727,1.1384364820846904,1.1498371335504884,1.1416938110749184,1.1368078175895764,1.1254071661237783,1.1270358306188923,1.1302931596091204,1.1270358306188923,1.1237785016286643,1.1384364820846904,1.1482084690553744,1.1416938110749184,1.1400651465798044,1.1286644951140063,1.1286644951140063,1.1302931596091204,1.1319218241042344,1.1302931596091204,1.1384364820846904,1.1400651465798044,1.1368078175895764,1.1368078175895764,1.1286644951140063,1.1188925081433225,1.1270358306188923,1.1188925081433225,1.1221498371335503,1.1302931596091204,1.1221498371335503,1.1140065146579805,1.1172638436482085,1.1026058631921825,1.1074918566775245,1.1140065146579805,1.1188925081433225,1.1172638436482085,1.1058631921824105,1.1449511400651464,1.1710097719869708,1.1530944625407167,1.1433224755700324,1.1416938110749184,1.1172638436482085,1.1156351791530945,1.1058631921824105,1.1205211726384363,1.1074918566775245,1.1302931596091204,1.1188925081433225,1.1172638436482085,1.1091205211726385,1.1140065146579805,1.0912052117263844,1.0895765472312704,1.1009771986970684,1.1042345276872965],\"yaxis\":\"y\",\"type\":\"scattergl\"},{\"hovertemplate\":\"Cripto_name=Ethereum<br>Data=%{x}<br>value=%{y}<extra></extra>\",\"legendgroup\":\"Ethereum\",\"line\":{\"color\":\"#19d3f3\",\"dash\":\"solid\",\"width\":3},\"marker\":{\"symbol\":\"circle\"},\"mode\":\"lines\",\"name\":\"Ethereum\",\"showlegend\":true,\"x\":[\"2022-04-25T00:00:00\",\"2022-04-25T01:00:00\",\"2022-04-25T02:00:00\",\"2022-04-25T03:00:00\",\"2022-04-25T04:00:00\",\"2022-04-25T05:00:00\",\"2022-04-25T06:00:00\",\"2022-04-25T07:00:00\",\"2022-04-25T08:00:00\",\"2022-04-25T09:00:00\",\"2022-04-25T10:00:00\",\"2022-04-25T11:00:00\",\"2022-04-25T12:00:00\",\"2022-04-25T13:00:00\",\"2022-04-25T14:00:00\",\"2022-04-25T15:00:00\",\"2022-04-25T16:00:00\",\"2022-04-25T17:00:00\",\"2022-04-25T18:00:00\",\"2022-04-25T19:00:00\",\"2022-04-25T20:00:00\",\"2022-04-25T21:00:00\",\"2022-04-25T22:00:00\",\"2022-04-25T23:00:00\",\"2022-04-26T00:00:00\",\"2022-04-26T01:00:00\",\"2022-04-26T02:00:00\",\"2022-04-26T03:00:00\",\"2022-04-26T04:00:00\",\"2022-04-26T05:00:00\",\"2022-04-26T06:00:00\",\"2022-04-26T07:00:00\",\"2022-04-26T08:00:00\",\"2022-04-26T09:00:00\",\"2022-04-26T10:00:00\",\"2022-04-26T11:00:00\",\"2022-04-26T12:00:00\",\"2022-04-26T13:00:00\",\"2022-04-26T14:00:00\",\"2022-04-26T15:00:00\",\"2022-04-26T16:00:00\",\"2022-04-26T17:00:00\",\"2022-04-26T18:00:00\",\"2022-04-26T19:00:00\",\"2022-04-26T20:00:00\",\"2022-04-26T21:00:00\",\"2022-04-26T22:00:00\",\"2022-04-26T23:00:00\",\"2022-04-27T00:00:00\",\"2022-04-27T01:00:00\",\"2022-04-27T02:00:00\",\"2022-04-27T03:00:00\",\"2022-04-27T04:00:00\",\"2022-04-27T05:00:00\",\"2022-04-27T06:00:00\",\"2022-04-27T07:00:00\",\"2022-04-27T08:00:00\",\"2022-04-27T09:00:00\",\"2022-04-27T10:00:00\",\"2022-04-27T11:00:00\",\"2022-04-27T12:00:00\",\"2022-04-27T13:00:00\",\"2022-04-27T14:00:00\",\"2022-04-27T15:00:00\",\"2022-04-27T16:00:00\",\"2022-04-27T17:00:00\",\"2022-04-27T18:00:00\",\"2022-04-27T19:00:00\",\"2022-04-27T20:00:00\",\"2022-04-27T21:00:00\",\"2022-04-27T22:00:00\",\"2022-04-27T23:00:00\",\"2022-04-28T00:00:00\",\"2022-04-28T01:00:00\",\"2022-04-28T02:00:00\",\"2022-04-28T03:00:00\",\"2022-04-28T04:00:00\",\"2022-04-28T05:00:00\",\"2022-04-28T06:00:00\",\"2022-04-28T07:00:00\",\"2022-04-28T08:00:00\",\"2022-04-28T09:00:00\",\"2022-04-28T10:00:00\",\"2022-04-28T11:00:00\",\"2022-04-28T12:00:00\",\"2022-04-28T13:00:00\",\"2022-04-28T14:00:00\",\"2022-04-28T15:00:00\",\"2022-04-28T16:00:00\",\"2022-04-28T17:00:00\",\"2022-04-28T18:00:00\",\"2022-04-28T19:00:00\",\"2022-04-28T20:00:00\",\"2022-04-28T21:00:00\",\"2022-04-28T22:00:00\",\"2022-04-28T23:00:00\",\"2022-04-29T00:00:00\",\"2022-04-29T01:00:00\",\"2022-04-29T02:00:00\",\"2022-04-29T03:00:00\",\"2022-04-29T04:00:00\",\"2022-04-29T05:00:00\",\"2022-04-29T06:00:00\",\"2022-04-29T07:00:00\",\"2022-04-29T08:00:00\",\"2022-04-29T09:00:00\",\"2022-04-29T10:00:00\",\"2022-04-29T11:00:00\",\"2022-04-29T12:00:00\",\"2022-04-29T13:00:00\",\"2022-04-29T14:00:00\",\"2022-04-29T15:00:00\",\"2022-04-29T16:00:00\",\"2022-04-29T17:00:00\",\"2022-04-29T18:00:00\",\"2022-04-29T19:00:00\",\"2022-04-29T20:00:00\",\"2022-04-29T21:00:00\"],\"xaxis\":\"x\",\"y\":[1.0,1.0021966008434542,1.0014277181487448,1.0066701659758548,1.0030769787688465,0.9985360821010335,0.988288656808268,0.9849655197379138,0.9844333834096545,0.9925761552245289,0.9922337055874314,1.0037256782928197,1.001906278846676,1.0095103983782512,1.0282090173577803,1.0304526778765226,1.043332549005412,1.041291607087911,1.048037068544227,1.0686166265452768,1.063394450578291,1.0656069793118428,1.0666531520932505,1.0653731289254105,1.0660232764393927,1.062969465510688,1.0608937718329743,1.0601893246936596,1.0632634074824883,1.0616148708573911,1.0552364748683234,1.0616655505077015,1.0611305181994244,1.0590273127115422,1.0603493275896396,1.062001484189759,1.0629904613658165,1.057483755362088,1.0478879255733136,1.035409147676881,1.0401708628210466,1.0332769823888215,1.0337388912016507,1.0307343119332477,1.0300638925591414,1.0344831580662095,1.0276211334141794,1.0229651215406614,1.0253470651052508,1.0330004162971276,1.0344549222610364,1.0323488207931364,1.0346170971420297,1.0360194754656193,1.0440999837101124,1.051301562019222,1.0485272131622292,1.0542272258321417,1.0541548263316982,1.0502763850929429,1.0445915763181235,1.056305815489873,1.0389733750837118,1.0461481655776574,1.0444612572173253,1.0358652645296746,1.0287208818259155,1.0316928813191188,1.0362526018570473,1.0428460243624318,1.038348567394885,1.0439102970189507,1.0439298448840704,1.0387214248221688,1.043601151152057,1.0398197252438959,1.042552806385636,1.0382841318394904,1.0390674944342884,1.0440000723995004,1.0552647106734963,1.057322304476099,1.0551285996126627,1.055699107676157,1.0550619920722548,1.0433629567955982,1.0484931853970207,1.0441948270556933,1.0579384242248728,1.0711202012706111,1.066572064652754,1.0608937718329743,1.0612622852902316,1.0578776086445003,1.0544219804883346,1.0570450143894008,1.059311842748285,1.0550815399373743,1.0476164274466506,1.0532592445112128,1.0518713460877118,1.0513819254647143,1.0518575901826277,1.0531397853354811,1.0459287950913139,1.037369002153885,1.0326282828648483,1.0257213705225434,1.017936976234864,1.0261782113703415,1.0290828793281326,1.0250980108237253,1.0133497438867671,1.0141388984416009,1.013086209705153,1.0074108128653914,1.0156201922206736,1.016587449546598],\"yaxis\":\"y\",\"type\":\"scattergl\"},{\"hovertemplate\":\"Cripto_name=Litecoin<br>Data=%{x}<br>value=%{y}<extra></extra>\",\"legendgroup\":\"Litecoin\",\"line\":{\"color\":\"#FF6692\",\"dash\":\"solid\",\"width\":3},\"marker\":{\"symbol\":\"circle\"},\"mode\":\"lines\",\"name\":\"Litecoin\",\"showlegend\":true,\"x\":[\"2022-04-25T00:00:00\",\"2022-04-25T01:00:00\",\"2022-04-25T02:00:00\",\"2022-04-25T03:00:00\",\"2022-04-25T04:00:00\",\"2022-04-25T05:00:00\",\"2022-04-25T06:00:00\",\"2022-04-25T07:00:00\",\"2022-04-25T08:00:00\",\"2022-04-25T09:00:00\",\"2022-04-25T10:00:00\",\"2022-04-25T11:00:00\",\"2022-04-25T12:00:00\",\"2022-04-25T13:00:00\",\"2022-04-25T14:00:00\",\"2022-04-25T15:00:00\",\"2022-04-25T16:00:00\",\"2022-04-25T17:00:00\",\"2022-04-25T18:00:00\",\"2022-04-25T19:00:00\",\"2022-04-25T20:00:00\",\"2022-04-25T21:00:00\",\"2022-04-25T22:00:00\",\"2022-04-25T23:00:00\",\"2022-04-26T00:00:00\",\"2022-04-26T01:00:00\",\"2022-04-26T02:00:00\",\"2022-04-26T03:00:00\",\"2022-04-26T04:00:00\",\"2022-04-26T05:00:00\",\"2022-04-26T06:00:00\",\"2022-04-26T07:00:00\",\"2022-04-26T08:00:00\",\"2022-04-26T09:00:00\",\"2022-04-26T10:00:00\",\"2022-04-26T11:00:00\",\"2022-04-26T12:00:00\",\"2022-04-26T13:00:00\",\"2022-04-26T14:00:00\",\"2022-04-26T15:00:00\",\"2022-04-26T16:00:00\",\"2022-04-26T17:00:00\",\"2022-04-26T18:00:00\",\"2022-04-26T19:00:00\",\"2022-04-26T20:00:00\",\"2022-04-26T21:00:00\",\"2022-04-26T22:00:00\",\"2022-04-26T23:00:00\",\"2022-04-27T00:00:00\",\"2022-04-27T01:00:00\",\"2022-04-27T02:00:00\",\"2022-04-27T03:00:00\",\"2022-04-27T04:00:00\",\"2022-04-27T05:00:00\",\"2022-04-27T06:00:00\",\"2022-04-27T07:00:00\",\"2022-04-27T08:00:00\",\"2022-04-27T09:00:00\",\"2022-04-27T10:00:00\",\"2022-04-27T11:00:00\",\"2022-04-27T12:00:00\",\"2022-04-27T13:00:00\",\"2022-04-27T14:00:00\",\"2022-04-27T15:00:00\",\"2022-04-27T16:00:00\",\"2022-04-27T17:00:00\",\"2022-04-27T18:00:00\",\"2022-04-27T19:00:00\",\"2022-04-27T20:00:00\",\"2022-04-27T21:00:00\",\"2022-04-27T22:00:00\",\"2022-04-27T23:00:00\",\"2022-04-28T00:00:00\",\"2022-04-28T01:00:00\",\"2022-04-28T02:00:00\",\"2022-04-28T03:00:00\",\"2022-04-28T04:00:00\",\"2022-04-28T05:00:00\",\"2022-04-28T06:00:00\",\"2022-04-28T07:00:00\",\"2022-04-28T08:00:00\",\"2022-04-28T09:00:00\",\"2022-04-28T10:00:00\",\"2022-04-28T11:00:00\",\"2022-04-28T12:00:00\",\"2022-04-28T13:00:00\",\"2022-04-28T14:00:00\",\"2022-04-28T15:00:00\",\"2022-04-28T16:00:00\",\"2022-04-28T17:00:00\",\"2022-04-28T18:00:00\",\"2022-04-28T19:00:00\",\"2022-04-28T20:00:00\",\"2022-04-28T21:00:00\",\"2022-04-28T22:00:00\",\"2022-04-28T23:00:00\",\"2022-04-29T00:00:00\",\"2022-04-29T01:00:00\",\"2022-04-29T02:00:00\",\"2022-04-29T03:00:00\",\"2022-04-29T04:00:00\",\"2022-04-29T05:00:00\",\"2022-04-29T06:00:00\",\"2022-04-29T07:00:00\",\"2022-04-29T08:00:00\",\"2022-04-29T09:00:00\",\"2022-04-29T10:00:00\",\"2022-04-29T11:00:00\",\"2022-04-29T12:00:00\",\"2022-04-29T13:00:00\",\"2022-04-29T14:00:00\",\"2022-04-29T15:00:00\",\"2022-04-29T16:00:00\",\"2022-04-29T17:00:00\",\"2022-04-29T18:00:00\",\"2022-04-29T19:00:00\",\"2022-04-29T20:00:00\",\"2022-04-29T21:00:00\"],\"xaxis\":\"x\",\"y\":[1.0,1.001822231220895,0.9939258959303503,0.9981777687791051,0.9953431868799353,0.9906863737598705,0.979145576027536,0.9730714719578863,0.978335695484916,0.9844097995545658,0.9819801579267059,0.9987851791860701,0.9971654181008301,1.0064790443409597,1.022474185057704,1.022271714922049,1.0301680502125936,1.024903826685564,1.0291556995343187,1.0330026321117636,1.0332051022474187,1.0364446244178984,1.0372545049605182,1.0368495646892084,1.0376594452318284,1.0356347438752784,1.0342174529256936,1.0311804008908687,1.0348248633326584,1.0336100425187285,1.0242964162785988,1.0295606398056287,1.0305729904839036,1.0313828710265236,1.0336100425187285,1.0315853411621787,1.0346223931970036,1.0269285280421139,1.021866774650739,1.0186272524802593,1.0184247823446042,1.0143753796315045,1.0141729094958494,1.0172099615306742,1.0076938651548897,1.0078963352905448,1.0062765742053048,1.0034419923061348,1.00202470135655,1.0060741040696497,1.0085037456975097,1.0123506782749545,1.0125531484106096,1.0153877303097794,1.0196396031585342,1.024701356549909,1.0216643045150842,1.025713707228184,1.0261186474994939,1.0216643045150842,1.0192346628872242,1.0295606398056287,1.021866774650739,1.0293581696699736,1.0184247823446042,1.0135654990888845,1.0050617533913748,1.0080988054261997,1.0111358574610245,1.0149827900384694,1.0129580886819194,1.0143753796315045,1.0133630289532294,1.0107309171897145,1.0125531484106096,1.0091111561044745,1.0097185665114397,1.0068839846122697,1.0078963352905448,1.0137679692245394,1.019437133022879,1.022879125329014,1.0285482891273539,1.0323952217047985,1.0366470945535533,1.0216643045150842,1.0321927515691436,1.024701356549909,1.0382668556387933,1.0494027130998178,1.044948370115408,1.0431261388945132,1.046973071471958,1.0419113180805832,1.0384693257744482,1.0388742660457584,1.0392792063170682,1.0496051832354727,1.0406964972666533,1.0358372140109335,1.0366470945535533,1.0338125126543836,1.0344199230613484,1.0330026321117636,1.0242964162785988,1.021056894108119,1.0078963352905448,1.0089086859688197,1.0010123506782749,1.0153877303097794,1.0131605588175745,1.0143753796315045,1.0060741040696497,1.0115407977323345,1.00323952217048,0.9965580076938652,1.0103259769184045,1.0097185665114397],\"yaxis\":\"y\",\"type\":\"scattergl\"},{\"hovertemplate\":\"Cripto_name=Shiba Inu<br>Data=%{x}<br>value=%{y}<extra></extra>\",\"legendgroup\":\"Shiba Inu\",\"line\":{\"color\":\"#B6E880\",\"dash\":\"solid\",\"width\":3},\"marker\":{\"symbol\":\"circle\"},\"mode\":\"lines\",\"name\":\"Shiba Inu\",\"showlegend\":true,\"x\":[\"2022-04-25T00:00:00\",\"2022-04-25T01:00:00\",\"2022-04-25T02:00:00\",\"2022-04-25T03:00:00\",\"2022-04-25T04:00:00\",\"2022-04-25T05:00:00\",\"2022-04-25T06:00:00\",\"2022-04-25T07:00:00\",\"2022-04-25T08:00:00\",\"2022-04-25T09:00:00\",\"2022-04-25T10:00:00\",\"2022-04-25T11:00:00\",\"2022-04-25T12:00:00\",\"2022-04-25T13:00:00\",\"2022-04-25T14:00:00\",\"2022-04-25T15:00:00\",\"2022-04-25T16:00:00\",\"2022-04-25T17:00:00\",\"2022-04-25T18:00:00\",\"2022-04-25T19:00:00\",\"2022-04-25T20:00:00\",\"2022-04-25T21:00:00\",\"2022-04-25T22:00:00\",\"2022-04-25T23:00:00\",\"2022-04-26T00:00:00\",\"2022-04-26T01:00:00\",\"2022-04-26T02:00:00\",\"2022-04-26T03:00:00\",\"2022-04-26T04:00:00\",\"2022-04-26T05:00:00\",\"2022-04-26T06:00:00\",\"2022-04-26T07:00:00\",\"2022-04-26T08:00:00\",\"2022-04-26T09:00:00\",\"2022-04-26T10:00:00\",\"2022-04-26T11:00:00\",\"2022-04-26T12:00:00\",\"2022-04-26T13:00:00\",\"2022-04-26T14:00:00\",\"2022-04-26T15:00:00\",\"2022-04-26T16:00:00\",\"2022-04-26T17:00:00\",\"2022-04-26T18:00:00\",\"2022-04-26T19:00:00\",\"2022-04-26T20:00:00\",\"2022-04-26T21:00:00\",\"2022-04-26T22:00:00\",\"2022-04-26T23:00:00\",\"2022-04-27T00:00:00\",\"2022-04-27T01:00:00\",\"2022-04-27T02:00:00\",\"2022-04-27T03:00:00\",\"2022-04-27T04:00:00\",\"2022-04-27T05:00:00\",\"2022-04-27T06:00:00\",\"2022-04-27T07:00:00\",\"2022-04-27T08:00:00\",\"2022-04-27T09:00:00\",\"2022-04-27T10:00:00\",\"2022-04-27T11:00:00\",\"2022-04-27T12:00:00\",\"2022-04-27T13:00:00\",\"2022-04-27T14:00:00\",\"2022-04-27T15:00:00\",\"2022-04-27T16:00:00\",\"2022-04-27T17:00:00\",\"2022-04-27T18:00:00\",\"2022-04-27T19:00:00\",\"2022-04-27T20:00:00\",\"2022-04-27T21:00:00\",\"2022-04-27T22:00:00\",\"2022-04-27T23:00:00\",\"2022-04-28T00:00:00\",\"2022-04-28T01:00:00\",\"2022-04-28T02:00:00\",\"2022-04-28T03:00:00\",\"2022-04-28T04:00:00\",\"2022-04-28T05:00:00\",\"2022-04-28T06:00:00\",\"2022-04-28T07:00:00\",\"2022-04-28T08:00:00\",\"2022-04-28T09:00:00\",\"2022-04-28T10:00:00\",\"2022-04-28T11:00:00\",\"2022-04-28T12:00:00\",\"2022-04-28T13:00:00\",\"2022-04-28T14:00:00\",\"2022-04-28T15:00:00\",\"2022-04-28T16:00:00\",\"2022-04-28T17:00:00\",\"2022-04-28T18:00:00\",\"2022-04-28T19:00:00\",\"2022-04-28T20:00:00\",\"2022-04-28T21:00:00\",\"2022-04-28T22:00:00\",\"2022-04-28T23:00:00\",\"2022-04-29T00:00:00\",\"2022-04-29T01:00:00\",\"2022-04-29T02:00:00\",\"2022-04-29T03:00:00\",\"2022-04-29T04:00:00\",\"2022-04-29T05:00:00\",\"2022-04-29T06:00:00\",\"2022-04-29T07:00:00\",\"2022-04-29T08:00:00\",\"2022-04-29T09:00:00\",\"2022-04-29T10:00:00\",\"2022-04-29T11:00:00\",\"2022-04-29T12:00:00\",\"2022-04-29T13:00:00\",\"2022-04-29T14:00:00\",\"2022-04-29T15:00:00\",\"2022-04-29T16:00:00\",\"2022-04-29T17:00:00\",\"2022-04-29T18:00:00\",\"2022-04-29T19:00:00\",\"2022-04-29T20:00:00\",\"2022-04-29T21:00:00\"],\"xaxis\":\"x\",\"y\":[1.0,1.011930391101543,1.0147111589522784,1.0186580552565483,1.0145317545748116,1.0053821313240043,0.9846609257265878,0.9817904556871189,0.9858270541801221,0.9983853606027987,0.9939002511661285,1.030767850735558,1.0258342303552206,1.0301399354144243,1.0436849659131682,1.0447613921779693,1.0602798708288483,1.060190168640115,1.0656620021528527,1.0939181916038752,1.094366702547542,1.0786688195191962,1.069967707212056,1.0692500897021888,1.0692500897021888,1.0607283817725153,1.0631503408683172,1.063329745245784,1.0796555435952637,1.0685324721923215,1.0585755292429135,1.0634194474345173,1.0690706853247218,1.0605489773950485,1.0627018299246502,1.0583064226767134,1.0525654825977755,1.0496950125583064,1.0461069250089703,1.0355220667384286,1.0432364549695012,1.0413527090060997,1.0426085396483675,1.040276282741299,1.0444922856117689,1.0504126300681738,1.0437746681019018,1.036329386437029,1.0418909221385002,1.0512199497667742,1.055794761392178,1.048259777538572,1.0539110154287765,1.05400071761751,1.062881234302117,1.0733763903839255,1.0592034445640472,1.0609974883387154,1.0552565482597775,1.0471833512737712,1.0418012199497668,1.055794761392178,1.0479906709723719,1.052027269465375,1.0389307499102978,1.034535342662361,1.029870828848224,1.0352529601722282,1.0375852170792967,1.0389307499102978,1.036329386437029,1.048259777538572,1.044312881234302,1.0359705776820953,1.0390204520990312,1.0351632579834948,1.0362396842482957,1.0338177251524938,1.0338177251524938,1.036060279870829,1.0419806243272336,1.040276282741299,1.0403659849300324,1.0404556871187658,1.0403659849300324,1.0383925367778974,1.0426085396483675,1.031664872622892,1.029422317904557,1.0381234302116973,1.0303193397918908,1.0272694653749552,1.025654825977754,1.0216182274847507,1.0234122712594187,1.0233225690706853,1.025475421600287,1.0244886975242198,1.0145317545748116,1.0244886975242198,1.0263724434876211,1.023501973448152,1.0210800143523502,1.0223358449946178,1.0153390742734123,1.0100466451381414,0.9965913168281306,1.0044851094366702,0.9970398277717977,1.007265877287406,1.0103157517043415,1.003318980983136,0.9951560818083962,0.9949766774309293,0.9879799067097237,0.9737172587011123,0.9921959095801938,0.9948869752421959],\"yaxis\":\"y\",\"type\":\"scattergl\"},{\"hovertemplate\":\"Cripto_name=Solana<br>Data=%{x}<br>value=%{y}<extra></extra>\",\"legendgroup\":\"Solana\",\"line\":{\"color\":\"#FF97FF\",\"dash\":\"solid\",\"width\":3},\"marker\":{\"symbol\":\"circle\"},\"mode\":\"lines\",\"name\":\"Solana\",\"showlegend\":true,\"x\":[\"2022-04-25T00:00:00\",\"2022-04-25T01:00:00\",\"2022-04-25T02:00:00\",\"2022-04-25T03:00:00\",\"2022-04-25T04:00:00\",\"2022-04-25T05:00:00\",\"2022-04-25T06:00:00\",\"2022-04-25T07:00:00\",\"2022-04-25T08:00:00\",\"2022-04-25T09:00:00\",\"2022-04-25T10:00:00\",\"2022-04-25T11:00:00\",\"2022-04-25T12:00:00\",\"2022-04-25T13:00:00\",\"2022-04-25T14:00:00\",\"2022-04-25T15:00:00\",\"2022-04-25T16:00:00\",\"2022-04-25T17:00:00\",\"2022-04-25T18:00:00\",\"2022-04-25T19:00:00\",\"2022-04-25T20:00:00\",\"2022-04-25T21:00:00\",\"2022-04-25T22:00:00\",\"2022-04-25T23:00:00\",\"2022-04-26T00:00:00\",\"2022-04-26T01:00:00\",\"2022-04-26T02:00:00\",\"2022-04-26T03:00:00\",\"2022-04-26T04:00:00\",\"2022-04-26T05:00:00\",\"2022-04-26T06:00:00\",\"2022-04-26T07:00:00\",\"2022-04-26T08:00:00\",\"2022-04-26T09:00:00\",\"2022-04-26T10:00:00\",\"2022-04-26T11:00:00\",\"2022-04-26T12:00:00\",\"2022-04-26T13:00:00\",\"2022-04-26T14:00:00\",\"2022-04-26T15:00:00\",\"2022-04-26T16:00:00\",\"2022-04-26T17:00:00\",\"2022-04-26T18:00:00\",\"2022-04-26T19:00:00\",\"2022-04-26T20:00:00\",\"2022-04-26T21:00:00\",\"2022-04-26T22:00:00\",\"2022-04-26T23:00:00\",\"2022-04-27T00:00:00\",\"2022-04-27T01:00:00\",\"2022-04-27T02:00:00\",\"2022-04-27T03:00:00\",\"2022-04-27T04:00:00\",\"2022-04-27T05:00:00\",\"2022-04-27T06:00:00\",\"2022-04-27T07:00:00\",\"2022-04-27T08:00:00\",\"2022-04-27T09:00:00\",\"2022-04-27T10:00:00\",\"2022-04-27T11:00:00\",\"2022-04-27T12:00:00\",\"2022-04-27T13:00:00\",\"2022-04-27T14:00:00\",\"2022-04-27T15:00:00\",\"2022-04-27T16:00:00\",\"2022-04-27T17:00:00\",\"2022-04-27T18:00:00\",\"2022-04-27T19:00:00\",\"2022-04-27T20:00:00\",\"2022-04-27T21:00:00\",\"2022-04-27T22:00:00\",\"2022-04-27T23:00:00\",\"2022-04-28T00:00:00\",\"2022-04-28T01:00:00\",\"2022-04-28T02:00:00\",\"2022-04-28T03:00:00\",\"2022-04-28T04:00:00\",\"2022-04-28T05:00:00\",\"2022-04-28T06:00:00\",\"2022-04-28T07:00:00\",\"2022-04-28T08:00:00\",\"2022-04-28T09:00:00\",\"2022-04-28T10:00:00\",\"2022-04-28T11:00:00\",\"2022-04-28T12:00:00\",\"2022-04-28T13:00:00\",\"2022-04-28T14:00:00\",\"2022-04-28T15:00:00\",\"2022-04-28T16:00:00\",\"2022-04-28T17:00:00\",\"2022-04-28T18:00:00\",\"2022-04-28T19:00:00\",\"2022-04-28T20:00:00\",\"2022-04-28T21:00:00\",\"2022-04-28T22:00:00\",\"2022-04-28T23:00:00\",\"2022-04-29T00:00:00\",\"2022-04-29T01:00:00\",\"2022-04-29T02:00:00\",\"2022-04-29T03:00:00\",\"2022-04-29T04:00:00\",\"2022-04-29T05:00:00\",\"2022-04-29T06:00:00\",\"2022-04-29T07:00:00\",\"2022-04-29T08:00:00\",\"2022-04-29T09:00:00\",\"2022-04-29T10:00:00\",\"2022-04-29T11:00:00\",\"2022-04-29T12:00:00\",\"2022-04-29T13:00:00\",\"2022-04-29T14:00:00\",\"2022-04-29T15:00:00\",\"2022-04-29T16:00:00\",\"2022-04-29T17:00:00\",\"2022-04-29T18:00:00\",\"2022-04-29T19:00:00\",\"2022-04-29T20:00:00\",\"2022-04-29T21:00:00\"],\"xaxis\":\"x\",\"y\":[1.0,1.0044766574291195,1.0029844382860797,1.010445534001279,1.0081006182050734,1.0019185674696227,0.9876358985290983,0.982306544446813,0.9778298870176934,0.9867832018759325,0.986996376039224,0.9993604775101258,0.9980814325303773,1.0051161799189938,1.0260072479215518,1.0257940737582605,1.0356000852696652,1.0341078661266254,1.040076742698785,1.0490300575570242,1.04540609678107,1.0456192709443615,1.0507354508633553,1.054785759965892,1.0558516307823491,1.0511617991899382,1.0479641867405671,1.0500959283734812,1.050522276700064,1.0535067149861437,1.0456192709443615,1.0507354508633553,1.0507354508633553,1.0460456192709442,1.0449797484544872,1.0464719675975271,1.0539330633127264,1.0377318269025795,1.0370923044127052,1.0298443828607973,1.0387976977190365,1.0358132594329565,1.0392240460456192,1.0330419953101684,1.0370923044127052,1.0437007034747388,1.0353869111063738,1.0260072479215518,1.0253677254316775,1.0319761244937113,1.0409294393519506,1.038584523555745,1.0392240460456192,1.0441270518013217,1.0549989341291834,1.065231293967171,1.0616073331912173,1.0662971647836281,1.0699211255595822,1.063099552334257,1.0549989341291834,1.068855254743125,1.0496695800468983,1.0549989341291834,1.0477510125772755,1.043274355148156,1.0366659560861224,1.0392240460456192,1.0437007034747388,1.0466851417608185,1.0426348326582817,1.0471114900874012,1.0513749733532296,1.0492432317203155,1.0549989341291834,1.0524408441696866,1.0588360690684289,1.049456405883607,1.0520144958431037,1.0543594116393094,1.0594755915583032,1.0633127264975484,1.0603282882114686,1.0594755915583032,1.0490300575570242,1.0394372202089106,1.0486037092304412,1.0373054785759965,1.0488168833937326,1.0620336815178,1.049456405883607,1.0439138776380301,1.043274355148156,1.0398635685354936,1.0381581752291622,1.0402899168620763,1.0437007034747388,1.042848006821573,1.0279258153911746,1.0300575570240886,1.033468343636751,1.0341078661266254,1.034960562779791,1.0358132594329565,1.0311234278405457,1.0215305904924323,1.017693455553187,1.017267107226604,1.0036239607759538,1.0157748880835642,1.0196120230228096,1.0149221914303987,1.0049030057557022,1.0046898315924109,0.9940311234278405,0.9882754210189725,0.9978682583670859,1.0042634832658281],\"yaxis\":\"y\",\"type\":\"scattergl\"},{\"hovertemplate\":\"Cripto_name=Terra<br>Data=%{x}<br>value=%{y}<extra></extra>\",\"legendgroup\":\"Terra\",\"line\":{\"color\":\"#FECB52\",\"dash\":\"solid\",\"width\":3},\"marker\":{\"symbol\":\"circle\"},\"mode\":\"lines\",\"name\":\"Terra\",\"showlegend\":true,\"x\":[\"2022-04-25T00:00:00\",\"2022-04-25T01:00:00\",\"2022-04-25T02:00:00\",\"2022-04-25T03:00:00\",\"2022-04-25T04:00:00\",\"2022-04-25T05:00:00\",\"2022-04-25T06:00:00\",\"2022-04-25T07:00:00\",\"2022-04-25T08:00:00\",\"2022-04-25T09:00:00\",\"2022-04-25T10:00:00\",\"2022-04-25T11:00:00\",\"2022-04-25T12:00:00\",\"2022-04-25T13:00:00\",\"2022-04-25T14:00:00\",\"2022-04-25T15:00:00\",\"2022-04-25T16:00:00\",\"2022-04-25T17:00:00\",\"2022-04-25T18:00:00\",\"2022-04-25T19:00:00\",\"2022-04-25T20:00:00\",\"2022-04-25T21:00:00\",\"2022-04-25T22:00:00\",\"2022-04-25T23:00:00\",\"2022-04-26T00:00:00\",\"2022-04-26T01:00:00\",\"2022-04-26T02:00:00\",\"2022-04-26T03:00:00\",\"2022-04-26T04:00:00\",\"2022-04-26T05:00:00\",\"2022-04-26T06:00:00\",\"2022-04-26T07:00:00\",\"2022-04-26T08:00:00\",\"2022-04-26T09:00:00\",\"2022-04-26T10:00:00\",\"2022-04-26T11:00:00\",\"2022-04-26T12:00:00\",\"2022-04-26T13:00:00\",\"2022-04-26T14:00:00\",\"2022-04-26T15:00:00\",\"2022-04-26T16:00:00\",\"2022-04-26T17:00:00\",\"2022-04-26T18:00:00\",\"2022-04-26T19:00:00\",\"2022-04-26T20:00:00\",\"2022-04-26T21:00:00\",\"2022-04-26T22:00:00\",\"2022-04-26T23:00:00\",\"2022-04-27T00:00:00\",\"2022-04-27T01:00:00\",\"2022-04-27T02:00:00\",\"2022-04-27T03:00:00\",\"2022-04-27T04:00:00\",\"2022-04-27T05:00:00\",\"2022-04-27T06:00:00\",\"2022-04-27T07:00:00\",\"2022-04-27T08:00:00\",\"2022-04-27T09:00:00\",\"2022-04-27T10:00:00\",\"2022-04-27T11:00:00\",\"2022-04-27T12:00:00\",\"2022-04-27T13:00:00\",\"2022-04-27T14:00:00\",\"2022-04-27T15:00:00\",\"2022-04-27T16:00:00\",\"2022-04-27T17:00:00\",\"2022-04-27T18:00:00\",\"2022-04-27T19:00:00\",\"2022-04-27T20:00:00\",\"2022-04-27T21:00:00\",\"2022-04-27T22:00:00\",\"2022-04-27T23:00:00\",\"2022-04-28T00:00:00\",\"2022-04-28T01:00:00\",\"2022-04-28T02:00:00\",\"2022-04-28T03:00:00\",\"2022-04-28T04:00:00\",\"2022-04-28T05:00:00\",\"2022-04-28T06:00:00\",\"2022-04-28T07:00:00\",\"2022-04-28T08:00:00\",\"2022-04-28T09:00:00\",\"2022-04-28T10:00:00\",\"2022-04-28T11:00:00\",\"2022-04-28T12:00:00\",\"2022-04-28T13:00:00\",\"2022-04-28T14:00:00\",\"2022-04-28T15:00:00\",\"2022-04-28T16:00:00\",\"2022-04-28T17:00:00\",\"2022-04-28T18:00:00\",\"2022-04-28T19:00:00\",\"2022-04-28T20:00:00\",\"2022-04-28T21:00:00\",\"2022-04-28T22:00:00\",\"2022-04-28T23:00:00\",\"2022-04-29T00:00:00\",\"2022-04-29T01:00:00\",\"2022-04-29T02:00:00\",\"2022-04-29T03:00:00\",\"2022-04-29T04:00:00\",\"2022-04-29T05:00:00\",\"2022-04-29T06:00:00\",\"2022-04-29T07:00:00\",\"2022-04-29T08:00:00\",\"2022-04-29T09:00:00\",\"2022-04-29T10:00:00\",\"2022-04-29T11:00:00\",\"2022-04-29T12:00:00\",\"2022-04-29T13:00:00\",\"2022-04-29T14:00:00\",\"2022-04-29T15:00:00\",\"2022-04-29T16:00:00\",\"2022-04-29T17:00:00\",\"2022-04-29T18:00:00\",\"2022-04-29T19:00:00\",\"2022-04-29T20:00:00\",\"2022-04-29T21:00:00\"],\"xaxis\":\"x\",\"y\":[1.0,1.0190947666195191,1.0165016501650166,1.037953795379538,1.0386610089580388,1.0273455917020273,1.0091937765205092,1.0082508250825082,1.0132013201320134,1.020980669495521,1.0091937765205092,1.0167373880245167,1.0146157472890145,1.0320603488920321,1.0707213578500707,1.0777934936350777,1.0966525223950967,1.0855728429985856,1.0968882602545968,1.1065535124941066,1.1023102310231023,1.1016030174446017,1.11008958038661,1.1192833569071194,1.1096181046676097,1.1067892503536068,1.1070249882131071,1.1027817067421029,1.100895803866101,1.098774163130599,1.1046676096181047,1.1084394153701085,1.107967939651108,1.1082036775106083,1.1086751532296086,1.105846298915606,1.1004243281471005,1.1122112211221122,1.0888731730315888,1.064120697784064,1.0530410183875532,1.0565770862800565,1.0523338048090523,1.0464403583215465,1.0525695426685526,1.0565770862800565,1.0594059405940595,1.0464403583215465,1.057048561999057,1.056812824139557,1.052098066949552,1.0396039603960396,1.0417256011315417,1.0457331447430458,1.0608203677510608,1.0726072607260726,1.0535124941065535,1.0561056105610562,1.0603488920320605,1.0516265912305518,1.0506836397925507,1.0676567656765676,1.051862329090052,1.0577557755775577,1.0575200377180576,1.0450259311645451,1.0426685525695427,1.0431400282885432,1.0478547854785478,1.054926921263555,1.0436115040075435,1.0450259311645451,1.0553983969825553,1.0513908533710514,1.0584629891560584,1.054926921263555,1.0537482319660538,1.0457331447430458,1.0476190476190477,1.0525695426685526,1.057048561999057,1.0754361150400755,1.0773220179160774,1.0702498821310702,1.0794436586515794,1.0556341348420557,1.0513908533710514,1.0355964167845357,1.033946251768034,1.0528052805280528,1.041961338991042,1.0374823196605376,1.0431400282885432,1.0391324846770391,1.0396039603960396,1.0447901933050447,1.0414898632720415,1.0452616690240453,1.023809523809524,1.0066006600660067,1.004950495049505,1.0073078736445074,1.0120226308345122,1.0195662423385197,1.0167373880245167,1.01013672795851,1.0047147571900048,1.0084865629420086,1.0025931164545026,1.0091937765205092,1.0306459217350306,1.0219236209335218,1.008958038661009,1.0023573785950024,0.9950495049504952,0.9962281942479964,1.0094295143800094,1.008958038661009],\"yaxis\":\"y\",\"type\":\"scattergl\"},{\"hovertemplate\":\"Cripto_name=Tether USD<br>Data=%{x}<br>value=%{y}<extra></extra>\",\"legendgroup\":\"Tether USD\",\"line\":{\"color\":\"#636efa\",\"dash\":\"solid\",\"width\":3},\"marker\":{\"symbol\":\"circle\"},\"mode\":\"lines\",\"name\":\"Tether USD\",\"showlegend\":true,\"x\":[\"2022-04-25T00:00:00\",\"2022-04-25T01:00:00\",\"2022-04-25T02:00:00\",\"2022-04-25T03:00:00\",\"2022-04-25T04:00:00\",\"2022-04-25T05:00:00\",\"2022-04-25T06:00:00\",\"2022-04-25T07:00:00\",\"2022-04-25T08:00:00\",\"2022-04-25T09:00:00\",\"2022-04-25T10:00:00\",\"2022-04-25T11:00:00\",\"2022-04-25T12:00:00\",\"2022-04-25T13:00:00\",\"2022-04-25T14:00:00\",\"2022-04-25T15:00:00\",\"2022-04-25T16:00:00\",\"2022-04-25T17:00:00\",\"2022-04-25T18:00:00\",\"2022-04-25T19:00:00\",\"2022-04-25T20:00:00\",\"2022-04-25T21:00:00\",\"2022-04-25T22:00:00\",\"2022-04-25T23:00:00\",\"2022-04-26T00:00:00\",\"2022-04-26T01:00:00\",\"2022-04-26T02:00:00\",\"2022-04-26T03:00:00\",\"2022-04-26T04:00:00\",\"2022-04-26T05:00:00\",\"2022-04-26T06:00:00\",\"2022-04-26T07:00:00\",\"2022-04-26T08:00:00\",\"2022-04-26T09:00:00\",\"2022-04-26T10:00:00\",\"2022-04-26T11:00:00\",\"2022-04-26T12:00:00\",\"2022-04-26T13:00:00\",\"2022-04-26T14:00:00\",\"2022-04-26T15:00:00\",\"2022-04-26T16:00:00\",\"2022-04-26T17:00:00\",\"2022-04-26T18:00:00\",\"2022-04-26T19:00:00\",\"2022-04-26T20:00:00\",\"2022-04-26T21:00:00\",\"2022-04-26T22:00:00\",\"2022-04-26T23:00:00\",\"2022-04-27T00:00:00\",\"2022-04-27T01:00:00\",\"2022-04-27T02:00:00\",\"2022-04-27T03:00:00\",\"2022-04-27T04:00:00\",\"2022-04-27T05:00:00\",\"2022-04-27T06:00:00\",\"2022-04-27T07:00:00\",\"2022-04-27T08:00:00\",\"2022-04-27T09:00:00\",\"2022-04-27T10:00:00\",\"2022-04-27T11:00:00\",\"2022-04-27T12:00:00\",\"2022-04-27T13:00:00\",\"2022-04-27T14:00:00\",\"2022-04-27T15:00:00\",\"2022-04-27T16:00:00\",\"2022-04-27T17:00:00\",\"2022-04-27T18:00:00\",\"2022-04-27T19:00:00\",\"2022-04-27T20:00:00\",\"2022-04-27T21:00:00\",\"2022-04-27T22:00:00\",\"2022-04-27T23:00:00\",\"2022-04-28T00:00:00\",\"2022-04-28T01:00:00\",\"2022-04-28T02:00:00\",\"2022-04-28T03:00:00\",\"2022-04-28T04:00:00\",\"2022-04-28T05:00:00\",\"2022-04-28T06:00:00\",\"2022-04-28T07:00:00\",\"2022-04-28T08:00:00\",\"2022-04-28T09:00:00\",\"2022-04-28T10:00:00\",\"2022-04-28T11:00:00\",\"2022-04-28T12:00:00\",\"2022-04-28T13:00:00\",\"2022-04-28T14:00:00\",\"2022-04-28T15:00:00\",\"2022-04-28T16:00:00\",\"2022-04-28T17:00:00\",\"2022-04-28T18:00:00\",\"2022-04-28T19:00:00\",\"2022-04-28T20:00:00\",\"2022-04-28T21:00:00\",\"2022-04-28T22:00:00\",\"2022-04-28T23:00:00\",\"2022-04-29T00:00:00\",\"2022-04-29T01:00:00\",\"2022-04-29T02:00:00\",\"2022-04-29T03:00:00\",\"2022-04-29T04:00:00\",\"2022-04-29T05:00:00\",\"2022-04-29T06:00:00\",\"2022-04-29T07:00:00\",\"2022-04-29T08:00:00\",\"2022-04-29T09:00:00\",\"2022-04-29T10:00:00\",\"2022-04-29T11:00:00\",\"2022-04-29T12:00:00\",\"2022-04-29T13:00:00\",\"2022-04-29T14:00:00\",\"2022-04-29T15:00:00\",\"2022-04-29T16:00:00\",\"2022-04-29T17:00:00\",\"2022-04-29T18:00:00\",\"2022-04-29T19:00:00\",\"2022-04-29T20:00:00\",\"2022-04-29T21:00:00\"],\"xaxis\":\"x\",\"y\":[1.0,0.9997931747673215,1.0,0.9997931747673215,0.9997931747673215,1.0002068252326786,1.001034126163392,1.0008273009307136,1.001034126163392,1.0031023784901758,1.0028955532574975,1.002688728024819,1.0008273009307136,1.0088934850051707,1.022957600827301,1.026266804550155,1.0196483971044468,1.0161323681489143,1.0109617373319544,1.0124095139607032,1.0134436401240952,1.0128231644260601,1.0126163391933816,1.0130299896587383,1.0115822130299896,1.011168562564633,1.0103412616339194,1.0091003102378489,1.009720785935884,1.0093071354705274,1.0070320579110652,1.010134436401241,1.0099276111685627,1.0103412616339194,1.0119958634953463,1.0103412616339194,1.0198552223371251,1.0268872802481903,1.0337125129265772,1.0345398138572905,1.031023784901758,1.0318510858324716,1.0337125129265772,1.0378490175801447,1.0399172699069286,1.0405377456049638,1.0405377456049638,1.0397104446742502,1.0403309203722855,1.0401240951396071,1.0409513960703207,1.0403309203722855,1.0397104446742502,1.0399172699069286,1.0395036194415719,1.0399172699069286,1.0380558428128233,1.0390899689762152,1.0392967942088935,1.0405377456049638,1.0407445708376422,1.0388831437435366,1.0436401240951396,1.0432264736297827,1.0353671147880041,1.0301964839710445,1.0316442605997933,1.0335056876938986,1.0335056876938986,1.0318510858324716,1.0322647362978283,1.03205791106515,1.0301964839710445,1.0316442605997933,1.0289555325749742,1.0297828335056878,1.029369183040331,1.0287487073422958,1.0287487073422958,1.0281282316442606,1.0287487073422958,1.0279214064115823,1.0287487073422958,1.0295760082730092,1.0341261633919339,1.0382626680455014,1.0395036194415719,1.0322647362978283,1.0299896587383661,1.0299896587383661,1.0283350568769392,1.0283350568769392,1.0283350568769392,1.0289555325749742,1.0287487073422958,1.0281282316442606,1.0283350568769392,1.0283350568769392,1.0281282316442606,1.0281282316442606,1.0281282316442606,1.0283350568769392,1.0283350568769392,1.0281282316442606,1.0279214064115823,1.0295760082730092,1.0306101344364011,1.0306101344364011,1.017580144777663,1.0179937952430196,1.0285418821096173,1.0254395036194417,1.0283350568769392,1.0260599793174767,1.0281282316442606,1.0301964839710445,1.0341261633919339,1.0339193381592553],\"yaxis\":\"y\",\"type\":\"scattergl\"},{\"hovertemplate\":\"Cripto_name=XRP<br>Data=%{x}<br>value=%{y}<extra></extra>\",\"legendgroup\":\"XRP\",\"line\":{\"color\":\"#EF553B\",\"dash\":\"solid\",\"width\":3},\"marker\":{\"symbol\":\"circle\"},\"mode\":\"lines\",\"name\":\"XRP\",\"showlegend\":true,\"x\":[\"2022-04-25T00:00:00\",\"2022-04-25T01:00:00\",\"2022-04-25T02:00:00\",\"2022-04-25T03:00:00\",\"2022-04-25T04:00:00\",\"2022-04-25T05:00:00\",\"2022-04-25T06:00:00\",\"2022-04-25T07:00:00\",\"2022-04-25T08:00:00\",\"2022-04-25T09:00:00\",\"2022-04-25T10:00:00\",\"2022-04-25T11:00:00\",\"2022-04-25T12:00:00\",\"2022-04-25T13:00:00\",\"2022-04-25T14:00:00\",\"2022-04-25T15:00:00\",\"2022-04-25T16:00:00\",\"2022-04-25T17:00:00\",\"2022-04-25T18:00:00\",\"2022-04-25T19:00:00\",\"2022-04-25T20:00:00\",\"2022-04-25T21:00:00\",\"2022-04-25T22:00:00\",\"2022-04-25T23:00:00\",\"2022-04-26T00:00:00\",\"2022-04-26T01:00:00\",\"2022-04-26T02:00:00\",\"2022-04-26T03:00:00\",\"2022-04-26T04:00:00\",\"2022-04-26T05:00:00\",\"2022-04-26T06:00:00\",\"2022-04-26T07:00:00\",\"2022-04-26T08:00:00\",\"2022-04-26T09:00:00\",\"2022-04-26T10:00:00\",\"2022-04-26T11:00:00\",\"2022-04-26T12:00:00\",\"2022-04-26T13:00:00\",\"2022-04-26T14:00:00\",\"2022-04-26T15:00:00\",\"2022-04-26T16:00:00\",\"2022-04-26T17:00:00\",\"2022-04-26T18:00:00\",\"2022-04-26T19:00:00\",\"2022-04-26T20:00:00\",\"2022-04-26T21:00:00\",\"2022-04-26T22:00:00\",\"2022-04-26T23:00:00\",\"2022-04-27T00:00:00\",\"2022-04-27T01:00:00\",\"2022-04-27T02:00:00\",\"2022-04-27T03:00:00\",\"2022-04-27T04:00:00\",\"2022-04-27T05:00:00\",\"2022-04-27T06:00:00\",\"2022-04-27T07:00:00\",\"2022-04-27T08:00:00\",\"2022-04-27T09:00:00\",\"2022-04-27T10:00:00\",\"2022-04-27T11:00:00\",\"2022-04-27T12:00:00\",\"2022-04-27T13:00:00\",\"2022-04-27T14:00:00\",\"2022-04-27T15:00:00\",\"2022-04-27T16:00:00\",\"2022-04-27T17:00:00\",\"2022-04-27T18:00:00\",\"2022-04-27T19:00:00\",\"2022-04-27T20:00:00\",\"2022-04-27T21:00:00\",\"2022-04-27T22:00:00\",\"2022-04-27T23:00:00\",\"2022-04-28T00:00:00\",\"2022-04-28T01:00:00\",\"2022-04-28T02:00:00\",\"2022-04-28T03:00:00\",\"2022-04-28T04:00:00\",\"2022-04-28T05:00:00\",\"2022-04-28T06:00:00\",\"2022-04-28T07:00:00\",\"2022-04-28T08:00:00\",\"2022-04-28T09:00:00\",\"2022-04-28T10:00:00\",\"2022-04-28T11:00:00\",\"2022-04-28T12:00:00\",\"2022-04-28T13:00:00\",\"2022-04-28T14:00:00\",\"2022-04-28T15:00:00\",\"2022-04-28T16:00:00\",\"2022-04-28T17:00:00\",\"2022-04-28T18:00:00\",\"2022-04-28T19:00:00\",\"2022-04-28T20:00:00\",\"2022-04-28T21:00:00\",\"2022-04-28T22:00:00\",\"2022-04-28T23:00:00\",\"2022-04-29T00:00:00\",\"2022-04-29T01:00:00\",\"2022-04-29T02:00:00\",\"2022-04-29T03:00:00\",\"2022-04-29T04:00:00\",\"2022-04-29T05:00:00\",\"2022-04-29T06:00:00\",\"2022-04-29T07:00:00\",\"2022-04-29T08:00:00\",\"2022-04-29T09:00:00\",\"2022-04-29T10:00:00\",\"2022-04-29T11:00:00\",\"2022-04-29T12:00:00\",\"2022-04-29T13:00:00\",\"2022-04-29T14:00:00\",\"2022-04-29T15:00:00\",\"2022-04-29T16:00:00\",\"2022-04-29T17:00:00\",\"2022-04-29T18:00:00\",\"2022-04-29T19:00:00\",\"2022-04-29T20:00:00\",\"2022-04-29T21:00:00\"],\"xaxis\":\"x\",\"y\":[1.0,1.0064357952804168,1.0055163959546431,1.0070487281642662,1.0045969966288693,0.9978547349065277,0.9714986209010114,0.969353355807539,0.9626110940851977,0.9727244866687098,0.9687404229236899,0.9877413423230156,0.9877413423230156,0.9929512718357341,1.0144039227704567,1.0150168556543058,1.019613852283175,1.0131780570027582,1.015629788538155,1.0303401777505363,1.0288078455409133,1.0389212381244255,1.0459699662886914,1.0404535703340485,1.0459699662886914,1.049341097149862,1.044744100520993,1.0404535703340485,1.0438247011952193,1.037695372356727,1.0193073858412505,1.0260496475635918,1.0245173153539688,1.019000919399326,1.018081520073552,1.0186944529574011,1.019613852283175,1.0131780570027582,1.0070487281642662,1.0021452650934723,1.0061293288384923,0.998467667790377,0.9987741342323015,0.9947900704872816,0.996935335580754,1.0055163959546431,0.9957094698130555,0.9908060067422618,0.9917254060680356,1.0003064664419246,1.0012258657676985,1.001532332209623,1.00398406374502,1.0067422617223414,1.016549187863929,1.0199203187250996,1.0003064664419246,1.0027581979773215,1.001532332209623,0.996935335580754,0.998467667790377,1.0064357952804168,0.996935335580754,1.000919399325774,0.9935642047195833,0.9892736745326388,0.9846766779037696,0.9901930738584125,0.9880478087649404,0.9932577382776586,0.9904995403003372,0.9975482684646031,0.9966288691388293,0.9926448053938094,0.9929512718357341,0.9883542752068649,0.9914189396261109,0.9880478087649404,0.9886607416487895,0.9895801409745634,0.9978547349065277,0.9911124731841864,0.9886607416487895,0.9901930738584125,0.988967208090714,0.9825314128102973,0.9877413423230156,0.977321483297579,0.9831443456941465,0.9914189396261109,0.984370211461845,0.9822249463683728,0.9837572785779958,0.9816120134845234,0.978853815507202,0.978853815507202,0.9831443456941465,0.9800796812749004,0.9754826846460313,0.9705792215752375,0.9736438859944836,0.9751762182041067,0.9770150168556544,0.9757891510879559,0.9702727551333129,0.9632240269690469,0.9423843089181736,0.945142506895495,0.9347226478700582,0.9411584431504751,0.9454489733374196,0.9426907753600982,0.9322709163346613,0.9288997854734907,0.9233833895188477,0.923996322402697,0.9377873122893043,0.9402390438247012],\"yaxis\":\"y\",\"type\":\"scattergl\"}],                        {\"template\":{\"data\":{\"barpolar\":[{\"marker\":{\"line\":{\"color\":\"white\",\"width\":0.5},\"pattern\":{\"fillmode\":\"overlay\",\"size\":10,\"solidity\":0.2}},\"type\":\"barpolar\"}],\"bar\":[{\"error_x\":{\"color\":\"rgb(36,36,36)\"},\"error_y\":{\"color\":\"rgb(36,36,36)\"},\"marker\":{\"line\":{\"color\":\"white\",\"width\":0.5},\"pattern\":{\"fillmode\":\"overlay\",\"size\":10,\"solidity\":0.2}},\"type\":\"bar\"}],\"carpet\":[{\"aaxis\":{\"endlinecolor\":\"rgb(36,36,36)\",\"gridcolor\":\"white\",\"linecolor\":\"white\",\"minorgridcolor\":\"white\",\"startlinecolor\":\"rgb(36,36,36)\"},\"baxis\":{\"endlinecolor\":\"rgb(36,36,36)\",\"gridcolor\":\"white\",\"linecolor\":\"white\",\"minorgridcolor\":\"white\",\"startlinecolor\":\"rgb(36,36,36)\"},\"type\":\"carpet\"}],\"choropleth\":[{\"colorbar\":{\"outlinewidth\":1,\"tickcolor\":\"rgb(36,36,36)\",\"ticks\":\"outside\"},\"type\":\"choropleth\"}],\"contourcarpet\":[{\"colorbar\":{\"outlinewidth\":1,\"tickcolor\":\"rgb(36,36,36)\",\"ticks\":\"outside\"},\"type\":\"contourcarpet\"}],\"contour\":[{\"colorbar\":{\"outlinewidth\":1,\"tickcolor\":\"rgb(36,36,36)\",\"ticks\":\"outside\"},\"colorscale\":[[0.0,\"#440154\"],[0.1111111111111111,\"#482878\"],[0.2222222222222222,\"#3e4989\"],[0.3333333333333333,\"#31688e\"],[0.4444444444444444,\"#26828e\"],[0.5555555555555556,\"#1f9e89\"],[0.6666666666666666,\"#35b779\"],[0.7777777777777778,\"#6ece58\"],[0.8888888888888888,\"#b5de2b\"],[1.0,\"#fde725\"]],\"type\":\"contour\"}],\"heatmapgl\":[{\"colorbar\":{\"outlinewidth\":1,\"tickcolor\":\"rgb(36,36,36)\",\"ticks\":\"outside\"},\"colorscale\":[[0.0,\"#440154\"],[0.1111111111111111,\"#482878\"],[0.2222222222222222,\"#3e4989\"],[0.3333333333333333,\"#31688e\"],[0.4444444444444444,\"#26828e\"],[0.5555555555555556,\"#1f9e89\"],[0.6666666666666666,\"#35b779\"],[0.7777777777777778,\"#6ece58\"],[0.8888888888888888,\"#b5de2b\"],[1.0,\"#fde725\"]],\"type\":\"heatmapgl\"}],\"heatmap\":[{\"colorbar\":{\"outlinewidth\":1,\"tickcolor\":\"rgb(36,36,36)\",\"ticks\":\"outside\"},\"colorscale\":[[0.0,\"#440154\"],[0.1111111111111111,\"#482878\"],[0.2222222222222222,\"#3e4989\"],[0.3333333333333333,\"#31688e\"],[0.4444444444444444,\"#26828e\"],[0.5555555555555556,\"#1f9e89\"],[0.6666666666666666,\"#35b779\"],[0.7777777777777778,\"#6ece58\"],[0.8888888888888888,\"#b5de2b\"],[1.0,\"#fde725\"]],\"type\":\"heatmap\"}],\"histogram2dcontour\":[{\"colorbar\":{\"outlinewidth\":1,\"tickcolor\":\"rgb(36,36,36)\",\"ticks\":\"outside\"},\"colorscale\":[[0.0,\"#440154\"],[0.1111111111111111,\"#482878\"],[0.2222222222222222,\"#3e4989\"],[0.3333333333333333,\"#31688e\"],[0.4444444444444444,\"#26828e\"],[0.5555555555555556,\"#1f9e89\"],[0.6666666666666666,\"#35b779\"],[0.7777777777777778,\"#6ece58\"],[0.8888888888888888,\"#b5de2b\"],[1.0,\"#fde725\"]],\"type\":\"histogram2dcontour\"}],\"histogram2d\":[{\"colorbar\":{\"outlinewidth\":1,\"tickcolor\":\"rgb(36,36,36)\",\"ticks\":\"outside\"},\"colorscale\":[[0.0,\"#440154\"],[0.1111111111111111,\"#482878\"],[0.2222222222222222,\"#3e4989\"],[0.3333333333333333,\"#31688e\"],[0.4444444444444444,\"#26828e\"],[0.5555555555555556,\"#1f9e89\"],[0.6666666666666666,\"#35b779\"],[0.7777777777777778,\"#6ece58\"],[0.8888888888888888,\"#b5de2b\"],[1.0,\"#fde725\"]],\"type\":\"histogram2d\"}],\"histogram\":[{\"marker\":{\"line\":{\"color\":\"white\",\"width\":0.6}},\"type\":\"histogram\"}],\"mesh3d\":[{\"colorbar\":{\"outlinewidth\":1,\"tickcolor\":\"rgb(36,36,36)\",\"ticks\":\"outside\"},\"type\":\"mesh3d\"}],\"parcoords\":[{\"line\":{\"colorbar\":{\"outlinewidth\":1,\"tickcolor\":\"rgb(36,36,36)\",\"ticks\":\"outside\"}},\"type\":\"parcoords\"}],\"pie\":[{\"automargin\":true,\"type\":\"pie\"}],\"scatter3d\":[{\"line\":{\"colorbar\":{\"outlinewidth\":1,\"tickcolor\":\"rgb(36,36,36)\",\"ticks\":\"outside\"}},\"marker\":{\"colorbar\":{\"outlinewidth\":1,\"tickcolor\":\"rgb(36,36,36)\",\"ticks\":\"outside\"}},\"type\":\"scatter3d\"}],\"scattercarpet\":[{\"marker\":{\"colorbar\":{\"outlinewidth\":1,\"tickcolor\":\"rgb(36,36,36)\",\"ticks\":\"outside\"}},\"type\":\"scattercarpet\"}],\"scattergeo\":[{\"marker\":{\"colorbar\":{\"outlinewidth\":1,\"tickcolor\":\"rgb(36,36,36)\",\"ticks\":\"outside\"}},\"type\":\"scattergeo\"}],\"scattergl\":[{\"marker\":{\"colorbar\":{\"outlinewidth\":1,\"tickcolor\":\"rgb(36,36,36)\",\"ticks\":\"outside\"}},\"type\":\"scattergl\"}],\"scattermapbox\":[{\"marker\":{\"colorbar\":{\"outlinewidth\":1,\"tickcolor\":\"rgb(36,36,36)\",\"ticks\":\"outside\"}},\"type\":\"scattermapbox\"}],\"scatterpolargl\":[{\"marker\":{\"colorbar\":{\"outlinewidth\":1,\"tickcolor\":\"rgb(36,36,36)\",\"ticks\":\"outside\"}},\"type\":\"scatterpolargl\"}],\"scatterpolar\":[{\"marker\":{\"colorbar\":{\"outlinewidth\":1,\"tickcolor\":\"rgb(36,36,36)\",\"ticks\":\"outside\"}},\"type\":\"scatterpolar\"}],\"scatter\":[{\"marker\":{\"colorbar\":{\"outlinewidth\":1,\"tickcolor\":\"rgb(36,36,36)\",\"ticks\":\"outside\"}},\"type\":\"scatter\"}],\"scatterternary\":[{\"marker\":{\"colorbar\":{\"outlinewidth\":1,\"tickcolor\":\"rgb(36,36,36)\",\"ticks\":\"outside\"}},\"type\":\"scatterternary\"}],\"surface\":[{\"colorbar\":{\"outlinewidth\":1,\"tickcolor\":\"rgb(36,36,36)\",\"ticks\":\"outside\"},\"colorscale\":[[0.0,\"#440154\"],[0.1111111111111111,\"#482878\"],[0.2222222222222222,\"#3e4989\"],[0.3333333333333333,\"#31688e\"],[0.4444444444444444,\"#26828e\"],[0.5555555555555556,\"#1f9e89\"],[0.6666666666666666,\"#35b779\"],[0.7777777777777778,\"#6ece58\"],[0.8888888888888888,\"#b5de2b\"],[1.0,\"#fde725\"]],\"type\":\"surface\"}],\"table\":[{\"cells\":{\"fill\":{\"color\":\"rgb(237,237,237)\"},\"line\":{\"color\":\"white\"}},\"header\":{\"fill\":{\"color\":\"rgb(217,217,217)\"},\"line\":{\"color\":\"white\"}},\"type\":\"table\"}]},\"layout\":{\"annotationdefaults\":{\"arrowhead\":0,\"arrowwidth\":1},\"autotypenumbers\":\"strict\",\"coloraxis\":{\"colorbar\":{\"outlinewidth\":1,\"tickcolor\":\"rgb(36,36,36)\",\"ticks\":\"outside\"}},\"colorscale\":{\"diverging\":[[0.0,\"rgb(103,0,31)\"],[0.1,\"rgb(178,24,43)\"],[0.2,\"rgb(214,96,77)\"],[0.3,\"rgb(244,165,130)\"],[0.4,\"rgb(253,219,199)\"],[0.5,\"rgb(247,247,247)\"],[0.6,\"rgb(209,229,240)\"],[0.7,\"rgb(146,197,222)\"],[0.8,\"rgb(67,147,195)\"],[0.9,\"rgb(33,102,172)\"],[1.0,\"rgb(5,48,97)\"]],\"sequential\":[[0.0,\"#440154\"],[0.1111111111111111,\"#482878\"],[0.2222222222222222,\"#3e4989\"],[0.3333333333333333,\"#31688e\"],[0.4444444444444444,\"#26828e\"],[0.5555555555555556,\"#1f9e89\"],[0.6666666666666666,\"#35b779\"],[0.7777777777777778,\"#6ece58\"],[0.8888888888888888,\"#b5de2b\"],[1.0,\"#fde725\"]],\"sequentialminus\":[[0.0,\"#440154\"],[0.1111111111111111,\"#482878\"],[0.2222222222222222,\"#3e4989\"],[0.3333333333333333,\"#31688e\"],[0.4444444444444444,\"#26828e\"],[0.5555555555555556,\"#1f9e89\"],[0.6666666666666666,\"#35b779\"],[0.7777777777777778,\"#6ece58\"],[0.8888888888888888,\"#b5de2b\"],[1.0,\"#fde725\"]]},\"colorway\":[\"#1F77B4\",\"#FF7F0E\",\"#2CA02C\",\"#D62728\",\"#9467BD\",\"#8C564B\",\"#E377C2\",\"#7F7F7F\",\"#BCBD22\",\"#17BECF\"],\"font\":{\"color\":\"rgb(36,36,36)\"},\"geo\":{\"bgcolor\":\"white\",\"lakecolor\":\"white\",\"landcolor\":\"white\",\"showlakes\":true,\"showland\":true,\"subunitcolor\":\"white\"},\"hoverlabel\":{\"align\":\"left\"},\"hovermode\":\"closest\",\"mapbox\":{\"style\":\"light\"},\"paper_bgcolor\":\"white\",\"plot_bgcolor\":\"white\",\"polar\":{\"angularaxis\":{\"gridcolor\":\"rgb(232,232,232)\",\"linecolor\":\"rgb(36,36,36)\",\"showgrid\":false,\"showline\":true,\"ticks\":\"outside\"},\"bgcolor\":\"white\",\"radialaxis\":{\"gridcolor\":\"rgb(232,232,232)\",\"linecolor\":\"rgb(36,36,36)\",\"showgrid\":false,\"showline\":true,\"ticks\":\"outside\"}},\"scene\":{\"xaxis\":{\"backgroundcolor\":\"white\",\"gridcolor\":\"rgb(232,232,232)\",\"gridwidth\":2,\"linecolor\":\"rgb(36,36,36)\",\"showbackground\":true,\"showgrid\":false,\"showline\":true,\"ticks\":\"outside\",\"zeroline\":false,\"zerolinecolor\":\"rgb(36,36,36)\"},\"yaxis\":{\"backgroundcolor\":\"white\",\"gridcolor\":\"rgb(232,232,232)\",\"gridwidth\":2,\"linecolor\":\"rgb(36,36,36)\",\"showbackground\":true,\"showgrid\":false,\"showline\":true,\"ticks\":\"outside\",\"zeroline\":false,\"zerolinecolor\":\"rgb(36,36,36)\"},\"zaxis\":{\"backgroundcolor\":\"white\",\"gridcolor\":\"rgb(232,232,232)\",\"gridwidth\":2,\"linecolor\":\"rgb(36,36,36)\",\"showbackground\":true,\"showgrid\":false,\"showline\":true,\"ticks\":\"outside\",\"zeroline\":false,\"zerolinecolor\":\"rgb(36,36,36)\"}},\"shapedefaults\":{\"fillcolor\":\"black\",\"line\":{\"width\":0},\"opacity\":0.3},\"ternary\":{\"aaxis\":{\"gridcolor\":\"rgb(232,232,232)\",\"linecolor\":\"rgb(36,36,36)\",\"showgrid\":false,\"showline\":true,\"ticks\":\"outside\"},\"baxis\":{\"gridcolor\":\"rgb(232,232,232)\",\"linecolor\":\"rgb(36,36,36)\",\"showgrid\":false,\"showline\":true,\"ticks\":\"outside\"},\"bgcolor\":\"white\",\"caxis\":{\"gridcolor\":\"rgb(232,232,232)\",\"linecolor\":\"rgb(36,36,36)\",\"showgrid\":false,\"showline\":true,\"ticks\":\"outside\"}},\"title\":{\"x\":0.05},\"xaxis\":{\"automargin\":true,\"gridcolor\":\"rgb(232,232,232)\",\"linecolor\":\"rgb(36,36,36)\",\"showgrid\":false,\"showline\":true,\"ticks\":\"outside\",\"title\":{\"standoff\":15},\"zeroline\":false,\"zerolinecolor\":\"rgb(36,36,36)\"},\"yaxis\":{\"automargin\":true,\"gridcolor\":\"rgb(232,232,232)\",\"linecolor\":\"rgb(36,36,36)\",\"showgrid\":false,\"showline\":true,\"ticks\":\"outside\",\"title\":{\"standoff\":15},\"zeroline\":false,\"zerolinecolor\":\"rgb(36,36,36)\"}}},\"xaxis\":{\"anchor\":\"y\",\"domain\":[0.0,1.0],\"title\":{\"text\":\"<b>Data\"},\"rangeslider\":{\"visible\":false}},\"yaxis\":{\"anchor\":\"x\",\"domain\":[0.0,1.0],\"title\":{\"text\":\"<b>Valor normalizado\"}},\"legend\":{\"title\":{\"text\":\"\"},\"tracegroupgap\":0,\"orientation\":\"h\",\"yanchor\":\"bottom\",\"y\":1.02,\"xanchor\":\"right\",\"x\":1},\"margin\":{\"t\":20,\"l\":120,\"r\":20,\"b\":20},\"font\":{\"family\":\"Arial, Arial, Arial\",\"size\":20,\"color\":\"black\"},\"title\":{\"text\":\"\"},\"width\":1200,\"height\":900},                        {\"responsive\": true}                    ).then(function(){\n",
       "                            \n",
       "var gd = document.getElementById('4a79e33e-53b2-4f57-96dc-7a6343153317');\n",
       "var x = new MutationObserver(function (mutations, observer) {{\n",
       "        var display = window.getComputedStyle(gd).display;\n",
       "        if (!display || display === 'none') {{\n",
       "            console.log([gd, 'removed!']);\n",
       "            Plotly.purge(gd);\n",
       "            observer.disconnect();\n",
       "        }}\n",
       "}});\n",
       "\n",
       "// Listen for the removal of the full notebook cells\n",
       "var notebookContainer = gd.closest('#notebook-container');\n",
       "if (notebookContainer) {{\n",
       "    x.observe(notebookContainer, {childList: true});\n",
       "}}\n",
       "\n",
       "// Listen for the clearing of the current output cell\n",
       "var outputEl = gd.closest('.output');\n",
       "if (outputEl) {{\n",
       "    x.observe(outputEl, {childList: true});\n",
       "}}\n",
       "\n",
       "                        })                };                });            </script>        </div>"
      ]
     },
     "metadata": {},
     "output_type": "display_data"
    }
   ],
   "source": [
    "fig = px.line(df_cripto_normaliz_long, x=\"Data\", y = 'value',color='Cripto_name')\n",
    "fig.update_traces(line_width=3)\n",
    "fig.update_layout(title='', xaxis_title=\"<b>Data\", yaxis_title=\"<b>Valor normalizado\", legend_title=\"\",font=dict(family=\"Arial, Arial, Arial\",size=20,color=\"black\"))\n",
    "fig.update_layout(xaxis_rangeslider_visible=False, margin=dict(l=120, r=20, t=20, b=20), template = 'simple_white', width=1200,height=900,\n",
    "                  legend=dict(orientation=\"h\",yanchor=\"bottom\",y=1.02,xanchor=\"right\",x=1))\n",
    "\n",
    "fig.show()"
   ]
  },
  {
   "cell_type": "markdown",
   "id": "ebaffb64",
   "metadata": {},
   "source": [
    "# **7. Maiores altas e baixas IBOV**"
   ]
  },
  {
   "cell_type": "markdown",
   "id": "8efd4e3f",
   "metadata": {},
   "source": [
    "#### **Web Scraping site B3  (não é necessário)**\n",
    "\n",
    "https://www.b3.com.br/pt_br/market-data-e-indices/indices/indices-amplos/indice-ibovespa-ibovespa-composicao-da-carteira.htm"
   ]
  },
  {
   "cell_type": "markdown",
   "id": "25134815",
   "metadata": {},
   "source": [
    "def composicao_carteira_B3(indice,espera=8):\n",
    "  url = f'https://sistemaswebb3-listados.b3.com.br/indexPage/day/{indice.upper()}?language=pt-br'\n",
    "  wd.get(url)\n",
    "  sleep(espera)\n",
    "\n",
    "  wd.find_element_by_id('segment').send_keys(\"Setor de Atuação\")\n",
    "  sleep(espera)\n",
    "\n",
    "  wd.find_element_by_link_text(\"Download\").click()\n",
    "  sleep(espera)\n",
    "\n",
    "  arquivos = !ls -1t *.csv\n",
    "  return pd.read_csv(arquivos[0],sep=';',encoding='ISO-8859-1',skipfooter=2,engine='python',thousands='.',decimal=',',header=1,index_col=False)"
   ]
  },
  {
   "cell_type": "markdown",
   "id": "751a90c0",
   "metadata": {},
   "source": [
    "Pode utilizar qualquer índice da B3 (IBrA, IBrX)"
   ]
  },
  {
   "cell_type": "markdown",
   "id": "252aa7d7",
   "metadata": {},
   "source": [
    "ativos_ibov = composicao_carteira_B3('ibov')\n",
    "ativos_ibov"
   ]
  },
  {
   "cell_type": "markdown",
   "id": "949df876",
   "metadata": {},
   "source": [
    "{'Setor': {'WEGE3': 'Bens Indls / Máqs e Equips',\n",
    "  'EMBR3': 'Bens Indls / Mat Transporte',\n",
    "  'AZUL4': 'Bens Indls/Transporte',\n",
    "  'CCRO3': 'Bens Indls/Transporte',\n",
    "  'ECOR3': 'Bens Indls/Transporte',\n",
    "  'GOLL4': 'Bens Indls/Transporte',\n",
    "  'RAIL3': 'Bens Indls/Transporte',\n",
    "  'POSI3': 'Comput e Equips',\n",
    "  'BRFS3': 'Cons N  Básico / Alimentos Processados',\n",
    "  'JBSS3': 'Cons N  Básico / Alimentos Processados',\n",
    "  'MRFG3': 'Cons N  Básico / Alimentos Processados',\n",
    "  'BEEF3': 'Cons N  Básico / Alimentos Processados',\n",
    "  'ABEV3': 'Cons N Cíclico / Bebidas',\n",
    "  'ASAI3': 'Cons N Cíclico / Comércio Distr.',\n",
    "  'CRFB3': 'Cons N Cíclico / Comércio Distr.',\n",
    "  'PCAR3': 'Cons N Cíclico / Comércio Distr.',\n",
    "  'NTCO3': 'Cons N Cíclico / Pr Pessoal Limp',\n",
    "  'AMER3': 'Consumo Cíclico / Comércio',\n",
    "  'SOMA3': 'Consumo Cíclico / Comércio',\n",
    "  'LREN3': 'Consumo Cíclico / Comércio',\n",
    "  'MGLU3': 'Consumo Cíclico / Comércio',\n",
    "  'PETZ3': 'Consumo Cíclico / Comércio',\n",
    "  'VIIA3': 'Consumo Cíclico / Comércio',\n",
    "  'ALPA4': 'Consumo Cíclico / Tecid Vest Calç',\n",
    "  'CYRE3': 'Consumo Cíclico/Constr Civil',\n",
    "  'EZTC3': 'Consumo Cíclico/Constr Civil',\n",
    "  'JHSF3': 'Consumo Cíclico/Constr Civil',\n",
    "  'MRVE3': 'Consumo Cíclico/Constr Civil',\n",
    "  'CVCB3': 'Consumo Cíclico/Viagens e Lazer',\n",
    "  'COGN3': 'Diversos',\n",
    "  'RENT3': 'Diversos',\n",
    "  'LCAM3': 'Diversos',\n",
    "  'YDUQ3': 'Diversos',\n",
    "  'BRML3': 'Financ e Outros / Explor Imóveis',\n",
    "  'IGTI11': 'Financ e Outros / Explor Imóveis',\n",
    "  'MULT3': 'Financ e Outros / Explor Imóveis',\n",
    "  'BIDI11': 'Financ e Outros / Interms Financs',\n",
    "  'BPAN4': 'Financ e Outros / Interms Financs',\n",
    "  'BBDC3': 'Financ e Outros / Interms Financs',\n",
    "  'BBDC4': 'Financ e Outros / Interms Financs',\n",
    "  'BBAS3': 'Financ e Outros / Interms Financs',\n",
    "  'BPAC11': 'Financ e Outros / Interms Financs',\n",
    "  'ITSA4': 'Financ e Outros / Interms Financs',\n",
    "  'ITUB4': 'Financ e Outros / Interms Financs',\n",
    "  'SANB11': 'Financ e Outros / Interms Financs',\n",
    "  'BBSE3': 'Financ e Outros / Previd  Seguros',\n",
    "  'IRBR3': 'Financ e Outros / Previd  Seguros',\n",
    "  'SULA11': 'Financ e Outros / Previd  Seguros',\n",
    "  'B3SA3': 'Financeiro e Outros/Serviços Financeiros Diversos',\n",
    "  'CIEL3': 'Financeiro e Outros/Serviços Financeiros Diversos',\n",
    "  'DXCO3': 'Mats Básicos / Madeira e Papel',\n",
    "  'KLBN11': 'Mats Básicos / Madeira e Papel',\n",
    "  'SUZB3': 'Mats Básicos / Madeira e Papel',\n",
    "  'BRAP4': 'Mats Básicos / Mineração',\n",
    "  'CMIN3': 'Mats Básicos / Mineração',\n",
    "  'VALE3': 'Mats Básicos / Mineração',\n",
    "  'BRKM5': 'Mats Básicos / Químicos',\n",
    "  'GGBR4': 'Mats Básicos / Sid Metalurgia',\n",
    "  'GOAU4': 'Mats Básicos / Sid Metalurgia',\n",
    "  'CSNA3': 'Mats Básicos / Sid Metalurgia',\n",
    "  'USIM5': 'Mats Básicos / Sid Metalurgia',\n",
    "  'RRRP3': 'Petróleo/ Gás e Biocombustíveis',\n",
    "  'CSAN3': 'Petróleo/ Gás e Biocombustíveis',\n",
    "  'PETR3': 'Petróleo/ Gás e Biocombustíveis',\n",
    "  'PETR4': 'Petróleo/ Gás e Biocombustíveis',\n",
    "  'PRIO3': 'Petróleo/ Gás e Biocombustíveis',\n",
    "  'UGPA3': 'Petróleo/ Gás e Biocombustíveis',\n",
    "  'VBBR3': 'Petróleo/ Gás e Biocombustíveis',\n",
    "  'HYPE3': 'Saúde/Comércio Distr.',\n",
    "  'RADL3': 'Saúde/Comércio Distr.',\n",
    "  'FLRY3': 'Saúde/SM Hosp An.Diag',\n",
    "  'HAPV3': 'Saúde/SM Hosp An.Diag',\n",
    "  'QUAL3': 'Saúde/SM Hosp An.Diag',\n",
    "  'RDOR3': 'Saúde/SM Hosp An.Diag',\n",
    "  'LWSA3': 'Tec.Informação/Programas Servs',\n",
    "  'CASH3': 'Tec.Informação/Programas Servs',\n",
    "  'TOTS3': 'Tec.Informação/Programas Servs',\n",
    "  'VIVT3': 'Telecomunicação',\n",
    "  'TIMS3': 'Telecomunicação',\n",
    "  'SBSP3': 'Utilidade Públ / Água Saneamento',\n",
    "  'CMIG4': 'Utilidade Públ / Energ Elétrica',\n",
    "  'CPLE6': 'Utilidade Públ / Energ Elétrica',\n",
    "  'CPFE3': 'Utilidade Públ / Energ Elétrica',\n",
    "  'ELET3': 'Utilidade Públ / Energ Elétrica',\n",
    "  'ELET6': 'Utilidade Públ / Energ Elétrica',\n",
    "  'ENBR3': 'Utilidade Públ / Energ Elétrica',\n",
    "  'ENGI11': 'Utilidade Públ / Energ Elétrica',\n",
    "  'ENEV3': 'Utilidade Públ / Energ Elétrica',\n",
    "  'EGIE3': 'Utilidade Públ / Energ Elétrica',\n",
    "  'EQTL3': 'Utilidade Públ / Energ Elétrica',\n",
    "  'TAEE11': 'Utilidade Públ / Energ Elétrica'}}"
   ]
  },
  {
   "cell_type": "markdown",
   "id": "f3fe96c6",
   "metadata": {},
   "source": [
    "## 7.1. - Buscando OHLC ativos IBOV no MT5"
   ]
  },
  {
   "cell_type": "code",
   "execution_count": 13,
   "id": "851097de",
   "metadata": {},
   "outputs": [
    {
     "data": {
      "text/plain": [
       "True"
      ]
     },
     "execution_count": 13,
     "metadata": {},
     "output_type": "execute_result"
    }
   ],
   "source": [
    "mt5.initialize()"
   ]
  },
  {
   "cell_type": "code",
   "execution_count": 14,
   "id": "505666f0",
   "metadata": {},
   "outputs": [
    {
     "data": {
      "text/plain": [
       "['ABEV3', 'ALPA4', 'AMER3', 'ASAI3', 'AZUL4']"
      ]
     },
     "execution_count": 14,
     "metadata": {},
     "output_type": "execute_result"
    }
   ],
   "source": [
    "tickers_IBOV = ['WEGE3', 'EMBR3', 'AZUL4', 'CCRO3', 'ECOR3', 'GOLL4', 'RAIL3', 'POSI3', 'BRFS3', 'JBSS3', 'MRFG3', 'BEEF3', 'ABEV3', 'ASAI3', 'CRFB3', 'PCAR3', 'NTCO3', 'AMER3', 'SOMA3', 'LREN3', 'MGLU3', 'PETZ3', 'VIIA3', 'ALPA4', 'CYRE3', 'EZTC3', 'JHSF3', 'MRVE3', 'CVCB3', 'COGN3', 'RENT3', 'LCAM3', 'YDUQ3', 'BRML3', 'IGTI11', 'MULT3', 'BIDI11', 'BPAN4', 'BBDC3', 'BBDC4', 'BBAS3', 'BPAC11', 'ITSA4', 'ITUB4', 'SANB11', 'BBSE3', 'IRBR3', 'SULA11', 'B3SA3', 'CIEL3', 'DXCO3', 'KLBN11', 'SUZB3', 'BRAP4', 'CMIN3', 'VALE3', 'BRKM5', 'GGBR4', 'GOAU4', 'CSNA3', 'USIM5', 'RRRP3', 'CSAN3', 'PETR3', 'PETR4', 'PRIO3', 'UGPA3', 'VBBR3', 'HYPE3', 'RADL3', 'FLRY3', 'HAPV3', 'QUAL3', 'RDOR3', 'LWSA3', 'CASH3', 'TOTS3', 'VIVT3', 'TIMS3', 'SBSP3', 'CMIG4', 'CPLE6', 'CPFE3', 'ELET3', 'ELET6', 'ENBR3', 'ENGI11', 'ENEV3', 'EGIE3', 'EQTL3', 'TAEE11']\n",
    "tickers_IBOV.sort()\n",
    "tickers_IBOV[0:5]"
   ]
  },
  {
   "cell_type": "code",
   "execution_count": 15,
   "id": "ffd1ded7",
   "metadata": {},
   "outputs": [
    {
     "name": "stdout",
     "output_type": "stream",
     "text": [
      "ABEV3 incluído\n",
      "ALPA4 incluído\n",
      "AMER3 incluído\n",
      "ASAI3 incluído\n",
      "AZUL4 incluído\n",
      "B3SA3 incluído\n",
      "BBAS3 incluído\n",
      "BBDC3 incluído\n",
      "BBDC4 incluído\n",
      "BBSE3 incluído\n",
      "BEEF3 incluído\n",
      "BIDI11 incluído\n",
      "BPAC11 incluído\n",
      "BPAN4 incluído\n",
      "BRAP4 incluído\n",
      "BRFS3 incluído\n",
      "BRKM5 incluído\n",
      "BRML3 incluído\n",
      "CASH3 incluído\n",
      "CCRO3 incluído\n",
      "CIEL3 incluído\n",
      "CMIG4 incluído\n",
      "CMIN3 incluído\n",
      "COGN3 incluído\n",
      "CPFE3 incluído\n",
      "CPLE6 incluído\n",
      "CRFB3 incluído\n",
      "CSAN3 incluído\n",
      "CSNA3 incluído\n",
      "CVCB3 incluído\n",
      "CYRE3 incluído\n",
      "DXCO3 incluído\n",
      "ECOR3 incluído\n",
      "EGIE3 incluído\n",
      "ELET3 incluído\n",
      "ELET6 incluído\n",
      "EMBR3 incluído\n",
      "ENBR3 incluído\n",
      "ENEV3 incluído\n",
      "ENGI11 incluído\n",
      "EQTL3 incluído\n",
      "EZTC3 incluído\n",
      "FLRY3 incluído\n",
      "GGBR4 incluído\n",
      "GOAU4 incluído\n",
      "GOLL4 incluído\n",
      "HAPV3 incluído\n",
      "HYPE3 incluído\n",
      "IGTI11 incluído\n",
      "IRBR3 incluído\n",
      "ITSA4 incluído\n",
      "ITUB4 incluído\n",
      "JBSS3 incluído\n",
      "JHSF3 incluído\n",
      "KLBN11 incluído\n",
      "LCAM3 incluído\n",
      "LREN3 incluído\n",
      "LWSA3 incluído\n",
      "MGLU3 incluído\n",
      "MRFG3 incluído\n",
      "MRVE3 incluído\n",
      "MULT3 incluído\n",
      "NTCO3 incluído\n",
      "PCAR3 incluído\n",
      "PETR3 incluído\n",
      "PETR4 incluído\n",
      "PETZ3 incluído\n",
      "POSI3 incluído\n",
      "PRIO3 incluído\n",
      "QUAL3 incluído\n",
      "RADL3 incluído\n",
      "RAIL3 incluído\n",
      "RDOR3 incluído\n",
      "RENT3 incluído\n",
      "RRRP3 incluído\n",
      "SANB11 incluído\n",
      "SBSP3 incluído\n",
      "SOMA3 incluído\n",
      "SULA11 incluído\n",
      "SUZB3 incluído\n",
      "TAEE11 incluído\n",
      "TIMS3 incluído\n",
      "TOTS3 incluído\n",
      "UGPA3 incluído\n",
      "USIM5 incluído\n",
      "VALE3 incluído\n",
      "VBBR3 incluído\n",
      "VIIA3 incluído\n",
      "VIVT3 incluído\n",
      "WEGE3 incluído\n",
      "YDUQ3 incluído\n"
     ]
    }
   ],
   "source": [
    "for ticker in tickers_IBOV:\n",
    "    selected=mt5.symbol_select(ticker,True)\n",
    "    if selected:\n",
    "        print(ticker,\"incluído\")\n",
    "    if not selected:\n",
    "        print(ticker,\"não localizado\")"
   ]
  },
  {
   "cell_type": "code",
   "execution_count": 52,
   "id": "a16a2548",
   "metadata": {},
   "outputs": [],
   "source": [
    "timezone = pytz.timezone(\"America/Sao_Paulo\")\n",
    "data_inicio = datetime(2022,4,24, tzinfo=timezone)\n",
    "data_fim = datetime(2022,4,30, tzinfo=timezone)"
   ]
  },
  {
   "cell_type": "code",
   "execution_count": 53,
   "id": "f32f6bd7",
   "metadata": {},
   "outputs": [],
   "source": [
    "cotacoes_mt5_all = pd.DataFrame()\n",
    "\n",
    "for ticker in tickers_IBOV:\n",
    "    cotacoes_mt5_ticker = mt5.copy_rates_range(ticker, mt5.TIMEFRAME_D1, data_inicio,data_fim)\n",
    "    cotacoes_mt5_ticker = pd.DataFrame(cotacoes_mt5_ticker)\n",
    "    cotacoes_mt5_ticker['ticker'] = str(ticker)\n",
    "    cotacoes_mt5_ticker['time']=pd.to_datetime(cotacoes_mt5_ticker['time'], unit='s')\n",
    "    cotacoes_mt5_all = pd.concat([cotacoes_mt5_all,cotacoes_mt5_ticker],axis=0)"
   ]
  },
  {
   "cell_type": "code",
   "execution_count": 54,
   "id": "27c33255",
   "metadata": {},
   "outputs": [
    {
     "data": {
      "text/html": [
       "<div>\n",
       "<style scoped>\n",
       "    .dataframe tbody tr th:only-of-type {\n",
       "        vertical-align: middle;\n",
       "    }\n",
       "\n",
       "    .dataframe tbody tr th {\n",
       "        vertical-align: top;\n",
       "    }\n",
       "\n",
       "    .dataframe thead th {\n",
       "        text-align: right;\n",
       "    }\n",
       "</style>\n",
       "<table border=\"1\" class=\"dataframe\">\n",
       "  <thead>\n",
       "    <tr style=\"text-align: right;\">\n",
       "      <th></th>\n",
       "      <th>time</th>\n",
       "      <th>open</th>\n",
       "      <th>high</th>\n",
       "      <th>low</th>\n",
       "      <th>close</th>\n",
       "      <th>tick_volume</th>\n",
       "      <th>spread</th>\n",
       "      <th>real_volume</th>\n",
       "      <th>ticker</th>\n",
       "    </tr>\n",
       "  </thead>\n",
       "  <tbody>\n",
       "    <tr>\n",
       "      <th>0</th>\n",
       "      <td>2022-04-25</td>\n",
       "      <td>14.76</td>\n",
       "      <td>15.19</td>\n",
       "      <td>14.63</td>\n",
       "      <td>15.12</td>\n",
       "      <td>45087</td>\n",
       "      <td>1</td>\n",
       "      <td>34243300</td>\n",
       "      <td>ABEV3</td>\n",
       "    </tr>\n",
       "    <tr>\n",
       "      <th>1</th>\n",
       "      <td>2022-04-26</td>\n",
       "      <td>15.04</td>\n",
       "      <td>15.15</td>\n",
       "      <td>14.74</td>\n",
       "      <td>14.75</td>\n",
       "      <td>37967</td>\n",
       "      <td>1</td>\n",
       "      <td>23506900</td>\n",
       "      <td>ABEV3</td>\n",
       "    </tr>\n",
       "    <tr>\n",
       "      <th>2</th>\n",
       "      <td>2022-04-27</td>\n",
       "      <td>14.89</td>\n",
       "      <td>14.91</td>\n",
       "      <td>14.64</td>\n",
       "      <td>14.68</td>\n",
       "      <td>20539</td>\n",
       "      <td>1</td>\n",
       "      <td>19236300</td>\n",
       "      <td>ABEV3</td>\n",
       "    </tr>\n",
       "    <tr>\n",
       "      <th>3</th>\n",
       "      <td>2022-04-28</td>\n",
       "      <td>14.71</td>\n",
       "      <td>14.87</td>\n",
       "      <td>14.62</td>\n",
       "      <td>14.71</td>\n",
       "      <td>23860</td>\n",
       "      <td>1</td>\n",
       "      <td>24779700</td>\n",
       "      <td>ABEV3</td>\n",
       "    </tr>\n",
       "    <tr>\n",
       "      <th>4</th>\n",
       "      <td>2022-04-29</td>\n",
       "      <td>14.85</td>\n",
       "      <td>15.00</td>\n",
       "      <td>14.45</td>\n",
       "      <td>14.45</td>\n",
       "      <td>15315</td>\n",
       "      <td>0</td>\n",
       "      <td>26145100</td>\n",
       "      <td>ABEV3</td>\n",
       "    </tr>\n",
       "    <tr>\n",
       "      <th>...</th>\n",
       "      <td>...</td>\n",
       "      <td>...</td>\n",
       "      <td>...</td>\n",
       "      <td>...</td>\n",
       "      <td>...</td>\n",
       "      <td>...</td>\n",
       "      <td>...</td>\n",
       "      <td>...</td>\n",
       "      <td>...</td>\n",
       "    </tr>\n",
       "    <tr>\n",
       "      <th>0</th>\n",
       "      <td>2022-04-25</td>\n",
       "      <td>16.10</td>\n",
       "      <td>16.87</td>\n",
       "      <td>15.81</td>\n",
       "      <td>16.70</td>\n",
       "      <td>13591</td>\n",
       "      <td>1</td>\n",
       "      <td>3075700</td>\n",
       "      <td>YDUQ3</td>\n",
       "    </tr>\n",
       "    <tr>\n",
       "      <th>1</th>\n",
       "      <td>2022-04-26</td>\n",
       "      <td>16.58</td>\n",
       "      <td>17.06</td>\n",
       "      <td>16.06</td>\n",
       "      <td>16.59</td>\n",
       "      <td>12364</td>\n",
       "      <td>1</td>\n",
       "      <td>2809800</td>\n",
       "      <td>YDUQ3</td>\n",
       "    </tr>\n",
       "    <tr>\n",
       "      <th>2</th>\n",
       "      <td>2022-04-27</td>\n",
       "      <td>16.85</td>\n",
       "      <td>17.26</td>\n",
       "      <td>16.57</td>\n",
       "      <td>16.76</td>\n",
       "      <td>9933</td>\n",
       "      <td>1</td>\n",
       "      <td>2197300</td>\n",
       "      <td>YDUQ3</td>\n",
       "    </tr>\n",
       "    <tr>\n",
       "      <th>3</th>\n",
       "      <td>2022-04-28</td>\n",
       "      <td>16.62</td>\n",
       "      <td>16.83</td>\n",
       "      <td>16.25</td>\n",
       "      <td>16.69</td>\n",
       "      <td>7798</td>\n",
       "      <td>1</td>\n",
       "      <td>1378100</td>\n",
       "      <td>YDUQ3</td>\n",
       "    </tr>\n",
       "    <tr>\n",
       "      <th>4</th>\n",
       "      <td>2022-04-29</td>\n",
       "      <td>16.90</td>\n",
       "      <td>17.11</td>\n",
       "      <td>16.12</td>\n",
       "      <td>16.12</td>\n",
       "      <td>8228</td>\n",
       "      <td>1</td>\n",
       "      <td>2427700</td>\n",
       "      <td>YDUQ3</td>\n",
       "    </tr>\n",
       "  </tbody>\n",
       "</table>\n",
       "<p>455 rows × 9 columns</p>\n",
       "</div>"
      ],
      "text/plain": [
       "         time   open   high    low  close  tick_volume  spread  real_volume  \\\n",
       "0  2022-04-25  14.76  15.19  14.63  15.12        45087       1     34243300   \n",
       "1  2022-04-26  15.04  15.15  14.74  14.75        37967       1     23506900   \n",
       "2  2022-04-27  14.89  14.91  14.64  14.68        20539       1     19236300   \n",
       "3  2022-04-28  14.71  14.87  14.62  14.71        23860       1     24779700   \n",
       "4  2022-04-29  14.85  15.00  14.45  14.45        15315       0     26145100   \n",
       "..        ...    ...    ...    ...    ...          ...     ...          ...   \n",
       "0  2022-04-25  16.10  16.87  15.81  16.70        13591       1      3075700   \n",
       "1  2022-04-26  16.58  17.06  16.06  16.59        12364       1      2809800   \n",
       "2  2022-04-27  16.85  17.26  16.57  16.76         9933       1      2197300   \n",
       "3  2022-04-28  16.62  16.83  16.25  16.69         7798       1      1378100   \n",
       "4  2022-04-29  16.90  17.11  16.12  16.12         8228       1      2427700   \n",
       "\n",
       "   ticker  \n",
       "0   ABEV3  \n",
       "1   ABEV3  \n",
       "2   ABEV3  \n",
       "3   ABEV3  \n",
       "4   ABEV3  \n",
       "..    ...  \n",
       "0   YDUQ3  \n",
       "1   YDUQ3  \n",
       "2   YDUQ3  \n",
       "3   YDUQ3  \n",
       "4   YDUQ3  \n",
       "\n",
       "[455 rows x 9 columns]"
      ]
     },
     "execution_count": 54,
     "metadata": {},
     "output_type": "execute_result"
    }
   ],
   "source": [
    "cotacoes_mt5_all"
   ]
  },
  {
   "cell_type": "code",
   "execution_count": 55,
   "id": "dfd7f6e0",
   "metadata": {},
   "outputs": [
    {
     "data": {
      "text/html": [
       "<div>\n",
       "<style scoped>\n",
       "    .dataframe tbody tr th:only-of-type {\n",
       "        vertical-align: middle;\n",
       "    }\n",
       "\n",
       "    .dataframe tbody tr th {\n",
       "        vertical-align: top;\n",
       "    }\n",
       "\n",
       "    .dataframe thead th {\n",
       "        text-align: right;\n",
       "    }\n",
       "</style>\n",
       "<table border=\"1\" class=\"dataframe\">\n",
       "  <thead>\n",
       "    <tr style=\"text-align: right;\">\n",
       "      <th></th>\n",
       "      <th>open</th>\n",
       "      <th>Ativo</th>\n",
       "      <th>close</th>\n",
       "      <th>Resultado_%</th>\n",
       "    </tr>\n",
       "  </thead>\n",
       "  <tbody>\n",
       "    <tr>\n",
       "      <th>0</th>\n",
       "      <td>14.76</td>\n",
       "      <td>ABEV3</td>\n",
       "      <td>14.45</td>\n",
       "      <td>-2.100271</td>\n",
       "    </tr>\n",
       "    <tr>\n",
       "      <th>1</th>\n",
       "      <td>20.90</td>\n",
       "      <td>ALPA4</td>\n",
       "      <td>19.51</td>\n",
       "      <td>-6.650718</td>\n",
       "    </tr>\n",
       "    <tr>\n",
       "      <th>2</th>\n",
       "      <td>26.50</td>\n",
       "      <td>AMER3</td>\n",
       "      <td>23.96</td>\n",
       "      <td>-9.584906</td>\n",
       "    </tr>\n",
       "    <tr>\n",
       "      <th>3</th>\n",
       "      <td>15.99</td>\n",
       "      <td>ASAI3</td>\n",
       "      <td>15.20</td>\n",
       "      <td>-4.940588</td>\n",
       "    </tr>\n",
       "    <tr>\n",
       "      <th>4</th>\n",
       "      <td>23.09</td>\n",
       "      <td>AZUL4</td>\n",
       "      <td>21.85</td>\n",
       "      <td>-5.370290</td>\n",
       "    </tr>\n",
       "    <tr>\n",
       "      <th>...</th>\n",
       "      <td>...</td>\n",
       "      <td>...</td>\n",
       "      <td>...</td>\n",
       "      <td>...</td>\n",
       "    </tr>\n",
       "    <tr>\n",
       "      <th>86</th>\n",
       "      <td>22.00</td>\n",
       "      <td>VBBR3</td>\n",
       "      <td>20.94</td>\n",
       "      <td>-4.818182</td>\n",
       "    </tr>\n",
       "    <tr>\n",
       "      <th>87</th>\n",
       "      <td>3.10</td>\n",
       "      <td>VIIA3</td>\n",
       "      <td>2.97</td>\n",
       "      <td>-4.193548</td>\n",
       "    </tr>\n",
       "    <tr>\n",
       "      <th>88</th>\n",
       "      <td>51.38</td>\n",
       "      <td>VIVT3</td>\n",
       "      <td>52.96</td>\n",
       "      <td>3.075127</td>\n",
       "    </tr>\n",
       "    <tr>\n",
       "      <th>89</th>\n",
       "      <td>31.03</td>\n",
       "      <td>WEGE3</td>\n",
       "      <td>30.15</td>\n",
       "      <td>-2.835965</td>\n",
       "    </tr>\n",
       "    <tr>\n",
       "      <th>90</th>\n",
       "      <td>16.10</td>\n",
       "      <td>YDUQ3</td>\n",
       "      <td>16.12</td>\n",
       "      <td>0.124224</td>\n",
       "    </tr>\n",
       "  </tbody>\n",
       "</table>\n",
       "<p>91 rows × 4 columns</p>\n",
       "</div>"
      ],
      "text/plain": [
       "     open  Ativo  close  Resultado_%\n",
       "0   14.76  ABEV3  14.45    -2.100271\n",
       "1   20.90  ALPA4  19.51    -6.650718\n",
       "2   26.50  AMER3  23.96    -9.584906\n",
       "3   15.99  ASAI3  15.20    -4.940588\n",
       "4   23.09  AZUL4  21.85    -5.370290\n",
       "..    ...    ...    ...          ...\n",
       "86  22.00  VBBR3  20.94    -4.818182\n",
       "87   3.10  VIIA3   2.97    -4.193548\n",
       "88  51.38  VIVT3  52.96     3.075127\n",
       "89  31.03  WEGE3  30.15    -2.835965\n",
       "90  16.10  YDUQ3  16.12     0.124224\n",
       "\n",
       "[91 rows x 4 columns]"
      ]
     },
     "execution_count": 55,
     "metadata": {},
     "output_type": "execute_result"
    }
   ],
   "source": [
    "df_cotacoes_open = cotacoes_mt5_all[cotacoes_mt5_all['time']=='2022-04-25'][['open','ticker']]\n",
    "df_cotacoes_close = cotacoes_mt5_all[cotacoes_mt5_all['time']=='2022-04-29'][['close','ticker']]\n",
    "df_cotacoes_final = pd.merge(df_cotacoes_open, df_cotacoes_close,on ='ticker',how ='inner')\n",
    "df_cotacoes_final['Resultado_%'] = (df_cotacoes_final['close']-df_cotacoes_final['open'])/df_cotacoes_final['open']*100\n",
    "df_cotacoes_final = df_cotacoes_final.rename({'ticker':'Ativo'},axis=1)\n",
    "df_cotacoes_final"
   ]
  },
  {
   "cell_type": "code",
   "execution_count": 56,
   "id": "d9766f4c",
   "metadata": {},
   "outputs": [
    {
     "data": {
      "text/html": [
       "<div>\n",
       "<style scoped>\n",
       "    .dataframe tbody tr th:only-of-type {\n",
       "        vertical-align: middle;\n",
       "    }\n",
       "\n",
       "    .dataframe tbody tr th {\n",
       "        vertical-align: top;\n",
       "    }\n",
       "\n",
       "    .dataframe thead th {\n",
       "        text-align: right;\n",
       "    }\n",
       "</style>\n",
       "<table border=\"1\" class=\"dataframe\">\n",
       "  <thead>\n",
       "    <tr style=\"text-align: right;\">\n",
       "      <th></th>\n",
       "      <th>open</th>\n",
       "      <th>Ativo</th>\n",
       "      <th>close</th>\n",
       "      <th>Resultado_%</th>\n",
       "    </tr>\n",
       "  </thead>\n",
       "  <tbody>\n",
       "    <tr>\n",
       "      <th>46</th>\n",
       "      <td>10.07</td>\n",
       "      <td>HAPV3</td>\n",
       "      <td>8.74</td>\n",
       "      <td>-13.207547</td>\n",
       "    </tr>\n",
       "    <tr>\n",
       "      <th>77</th>\n",
       "      <td>13.58</td>\n",
       "      <td>SOMA3</td>\n",
       "      <td>11.90</td>\n",
       "      <td>-12.371134</td>\n",
       "    </tr>\n",
       "    <tr>\n",
       "      <th>58</th>\n",
       "      <td>5.44</td>\n",
       "      <td>MGLU3</td>\n",
       "      <td>4.88</td>\n",
       "      <td>-10.294118</td>\n",
       "    </tr>\n",
       "    <tr>\n",
       "      <th>71</th>\n",
       "      <td>18.22</td>\n",
       "      <td>RAIL3</td>\n",
       "      <td>16.41</td>\n",
       "      <td>-9.934138</td>\n",
       "    </tr>\n",
       "    <tr>\n",
       "      <th>11</th>\n",
       "      <td>16.87</td>\n",
       "      <td>BIDI11</td>\n",
       "      <td>15.21</td>\n",
       "      <td>-9.839953</td>\n",
       "    </tr>\n",
       "    <tr>\n",
       "      <th>2</th>\n",
       "      <td>26.50</td>\n",
       "      <td>AMER3</td>\n",
       "      <td>23.96</td>\n",
       "      <td>-9.584906</td>\n",
       "    </tr>\n",
       "    <tr>\n",
       "      <th>83</th>\n",
       "      <td>14.16</td>\n",
       "      <td>UGPA3</td>\n",
       "      <td>12.94</td>\n",
       "      <td>-8.615819</td>\n",
       "    </tr>\n",
       "    <tr>\n",
       "      <th>72</th>\n",
       "      <td>39.80</td>\n",
       "      <td>RDOR3</td>\n",
       "      <td>36.61</td>\n",
       "      <td>-8.015075</td>\n",
       "    </tr>\n",
       "    <tr>\n",
       "      <th>62</th>\n",
       "      <td>20.18</td>\n",
       "      <td>NTCO3</td>\n",
       "      <td>18.61</td>\n",
       "      <td>-7.779980</td>\n",
       "    </tr>\n",
       "    <tr>\n",
       "      <th>12</th>\n",
       "      <td>24.99</td>\n",
       "      <td>BPAC11</td>\n",
       "      <td>23.05</td>\n",
       "      <td>-7.763105</td>\n",
       "    </tr>\n",
       "    <tr>\n",
       "      <th>17</th>\n",
       "      <td>9.21</td>\n",
       "      <td>BRML3</td>\n",
       "      <td>9.53</td>\n",
       "      <td>3.474484</td>\n",
       "    </tr>\n",
       "    <tr>\n",
       "      <th>10</th>\n",
       "      <td>12.66</td>\n",
       "      <td>BEEF3</td>\n",
       "      <td>13.15</td>\n",
       "      <td>3.870458</td>\n",
       "    </tr>\n",
       "    <tr>\n",
       "      <th>48</th>\n",
       "      <td>20.06</td>\n",
       "      <td>IGTI11</td>\n",
       "      <td>20.92</td>\n",
       "      <td>4.287139</td>\n",
       "    </tr>\n",
       "    <tr>\n",
       "      <th>24</th>\n",
       "      <td>34.60</td>\n",
       "      <td>CPFE3</td>\n",
       "      <td>36.22</td>\n",
       "      <td>4.682081</td>\n",
       "    </tr>\n",
       "    <tr>\n",
       "      <th>61</th>\n",
       "      <td>23.36</td>\n",
       "      <td>MULT3</td>\n",
       "      <td>24.49</td>\n",
       "      <td>4.837329</td>\n",
       "    </tr>\n",
       "    <tr>\n",
       "      <th>14</th>\n",
       "      <td>28.21</td>\n",
       "      <td>BRAP4</td>\n",
       "      <td>29.63</td>\n",
       "      <td>5.033676</td>\n",
       "    </tr>\n",
       "    <tr>\n",
       "      <th>36</th>\n",
       "      <td>13.54</td>\n",
       "      <td>EMBR3</td>\n",
       "      <td>14.25</td>\n",
       "      <td>5.243722</td>\n",
       "    </tr>\n",
       "    <tr>\n",
       "      <th>85</th>\n",
       "      <td>77.94</td>\n",
       "      <td>VALE3</td>\n",
       "      <td>82.95</td>\n",
       "      <td>6.428022</td>\n",
       "    </tr>\n",
       "    <tr>\n",
       "      <th>74</th>\n",
       "      <td>42.14</td>\n",
       "      <td>RRRP3</td>\n",
       "      <td>45.90</td>\n",
       "      <td>8.922639</td>\n",
       "    </tr>\n",
       "    <tr>\n",
       "      <th>68</th>\n",
       "      <td>23.60</td>\n",
       "      <td>PRIO3</td>\n",
       "      <td>26.69</td>\n",
       "      <td>13.093220</td>\n",
       "    </tr>\n",
       "  </tbody>\n",
       "</table>\n",
       "</div>"
      ],
      "text/plain": [
       "     open   Ativo  close  Resultado_%\n",
       "46  10.07   HAPV3   8.74   -13.207547\n",
       "77  13.58   SOMA3  11.90   -12.371134\n",
       "58   5.44   MGLU3   4.88   -10.294118\n",
       "71  18.22   RAIL3  16.41    -9.934138\n",
       "11  16.87  BIDI11  15.21    -9.839953\n",
       "2   26.50   AMER3  23.96    -9.584906\n",
       "83  14.16   UGPA3  12.94    -8.615819\n",
       "72  39.80   RDOR3  36.61    -8.015075\n",
       "62  20.18   NTCO3  18.61    -7.779980\n",
       "12  24.99  BPAC11  23.05    -7.763105\n",
       "17   9.21   BRML3   9.53     3.474484\n",
       "10  12.66   BEEF3  13.15     3.870458\n",
       "48  20.06  IGTI11  20.92     4.287139\n",
       "24  34.60   CPFE3  36.22     4.682081\n",
       "61  23.36   MULT3  24.49     4.837329\n",
       "14  28.21   BRAP4  29.63     5.033676\n",
       "36  13.54   EMBR3  14.25     5.243722\n",
       "85  77.94   VALE3  82.95     6.428022\n",
       "74  42.14   RRRP3  45.90     8.922639\n",
       "68  23.60   PRIO3  26.69    13.093220"
      ]
     },
     "execution_count": 56,
     "metadata": {},
     "output_type": "execute_result"
    }
   ],
   "source": [
    "maiores_altas_baixas_ibov = df_cotacoes_final.sort_values('Resultado_%')\n",
    "maiores_altas_baixas_ibov2 = pd.concat([maiores_altas_baixas_ibov.head(10),maiores_altas_baixas_ibov.tail(10)],axis=0)\n",
    "maiores_altas_baixas_ibov2"
   ]
  },
  {
   "cell_type": "code",
   "execution_count": 58,
   "id": "a8e19051",
   "metadata": {},
   "outputs": [
    {
     "data": {
      "application/vnd.plotly.v1+json": {
       "config": {
        "plotlyServerURL": "https://plot.ly"
       },
       "data": [
        {
         "marker": {
          "color": [
           "green",
           "green",
           "green",
           "green",
           "green",
           "green",
           "green",
           "green",
           "green",
           "green",
           "red",
           "red",
           "red",
           "red",
           "red",
           "red",
           "red",
           "red",
           "red",
           "red"
          ]
         },
         "name": "Net",
         "orientation": "h",
         "type": "bar",
         "x": [
          13.09322033898305,
          8.922638822971043,
          6.428021555042347,
          5.243722304283611,
          5.0336760014179305,
          4.837328767123283,
          4.682080924855484,
          4.287138584247273,
          3.870458135860981,
          3.4744842562431972,
          -7.763105242096831,
          -7.77998017839445,
          -8.015075376884418,
          -8.615819209039552,
          -9.584905660377355,
          -9.83995257854179,
          -9.934138309549938,
          -10.294117647058831,
          -12.371134020618554,
          -13.20754716981132
         ],
         "y": [
          "PRIO3",
          "RRRP3",
          "VALE3",
          "EMBR3",
          "BRAP4",
          "MULT3",
          "CPFE3",
          "IGTI11",
          "BEEF3",
          "BRML3",
          "BPAC11",
          "NTCO3",
          "RDOR3",
          "UGPA3",
          "AMER3",
          "BIDI11",
          "RAIL3",
          "MGLU3",
          "SOMA3",
          "HAPV3"
         ]
        }
       ],
       "layout": {
        "annotations": [
         {
          "font": {
           "color": "black",
           "family": "Verdana",
           "size": 27
          },
          "showarrow": false,
          "text": "13.09%",
          "x": 16.09,
          "xref": "x",
          "y": "PRIO3",
          "yref": "y"
         },
         {
          "font": {
           "color": "black",
           "family": "Verdana",
           "size": 27
          },
          "showarrow": false,
          "text": "8.92%",
          "x": 11.92,
          "xref": "x",
          "y": "RRRP3",
          "yref": "y"
         },
         {
          "font": {
           "color": "black",
           "family": "Verdana",
           "size": 27
          },
          "showarrow": false,
          "text": "6.43%",
          "x": 9.43,
          "xref": "x",
          "y": "VALE3",
          "yref": "y"
         },
         {
          "font": {
           "color": "black",
           "family": "Verdana",
           "size": 27
          },
          "showarrow": false,
          "text": "5.24%",
          "x": 8.24,
          "xref": "x",
          "y": "EMBR3",
          "yref": "y"
         },
         {
          "font": {
           "color": "black",
           "family": "Verdana",
           "size": 27
          },
          "showarrow": false,
          "text": "5.03%",
          "x": 8.030000000000001,
          "xref": "x",
          "y": "BRAP4",
          "yref": "y"
         },
         {
          "font": {
           "color": "black",
           "family": "Verdana",
           "size": 27
          },
          "showarrow": false,
          "text": "4.84%",
          "x": 7.84,
          "xref": "x",
          "y": "MULT3",
          "yref": "y"
         },
         {
          "font": {
           "color": "black",
           "family": "Verdana",
           "size": 27
          },
          "showarrow": false,
          "text": "4.68%",
          "x": 7.68,
          "xref": "x",
          "y": "CPFE3",
          "yref": "y"
         },
         {
          "font": {
           "color": "black",
           "family": "Verdana",
           "size": 27
          },
          "showarrow": false,
          "text": "4.29%",
          "x": 7.29,
          "xref": "x",
          "y": "IGTI11",
          "yref": "y"
         },
         {
          "font": {
           "color": "black",
           "family": "Verdana",
           "size": 27
          },
          "showarrow": false,
          "text": "3.87%",
          "x": 6.87,
          "xref": "x",
          "y": "BEEF3",
          "yref": "y"
         },
         {
          "font": {
           "color": "black",
           "family": "Verdana",
           "size": 27
          },
          "showarrow": false,
          "text": "3.47%",
          "x": 6.470000000000001,
          "xref": "x",
          "y": "BRML3",
          "yref": "y"
         },
         {
          "font": {
           "color": "black",
           "family": "Verdana",
           "size": 27
          },
          "showarrow": false,
          "text": "-7.76%",
          "x": -10.76,
          "xref": "x",
          "y": "BPAC11",
          "yref": "y"
         },
         {
          "font": {
           "color": "black",
           "family": "Verdana",
           "size": 27
          },
          "showarrow": false,
          "text": "-7.78%",
          "x": -10.780000000000001,
          "xref": "x",
          "y": "NTCO3",
          "yref": "y"
         },
         {
          "font": {
           "color": "black",
           "family": "Verdana",
           "size": 27
          },
          "showarrow": false,
          "text": "-8.02%",
          "x": -11.02,
          "xref": "x",
          "y": "RDOR3",
          "yref": "y"
         },
         {
          "font": {
           "color": "black",
           "family": "Verdana",
           "size": 27
          },
          "showarrow": false,
          "text": "-8.62%",
          "x": -11.62,
          "xref": "x",
          "y": "UGPA3",
          "yref": "y"
         },
         {
          "font": {
           "color": "black",
           "family": "Verdana",
           "size": 27
          },
          "showarrow": false,
          "text": "-9.58%",
          "x": -12.58,
          "xref": "x",
          "y": "AMER3",
          "yref": "y"
         },
         {
          "font": {
           "color": "black",
           "family": "Verdana",
           "size": 27
          },
          "showarrow": false,
          "text": "-9.84%",
          "x": -12.84,
          "xref": "x",
          "y": "BIDI11",
          "yref": "y"
         },
         {
          "font": {
           "color": "black",
           "family": "Verdana",
           "size": 27
          },
          "showarrow": false,
          "text": "-9.93%",
          "x": -12.93,
          "xref": "x",
          "y": "RAIL3",
          "yref": "y"
         },
         {
          "font": {
           "color": "black",
           "family": "Verdana",
           "size": 27
          },
          "showarrow": false,
          "text": "-10.29%",
          "x": -13.29,
          "xref": "x",
          "y": "MGLU3",
          "yref": "y"
         },
         {
          "font": {
           "color": "black",
           "family": "Verdana",
           "size": 27
          },
          "showarrow": false,
          "text": "-12.37%",
          "x": -15.37,
          "xref": "x",
          "y": "SOMA3",
          "yref": "y"
         },
         {
          "font": {
           "color": "black",
           "family": "Verdana",
           "size": 27
          },
          "showarrow": false,
          "text": "-13.21%",
          "x": -16.21,
          "xref": "x",
          "y": "HAPV3",
          "yref": "y"
         }
        ],
        "barmode": "stack",
        "font": {
         "color": "black",
         "family": "Verdana black",
         "size": 25
        },
        "height": 1100,
        "margin": {
         "b": 20,
         "l": 20,
         "r": 20,
         "t": 20
        },
        "paper_bgcolor": "#f7f8fa",
        "template": {
         "data": {
          "bar": [
           {
            "error_x": {
             "color": "rgb(36,36,36)"
            },
            "error_y": {
             "color": "rgb(36,36,36)"
            },
            "marker": {
             "line": {
              "color": "white",
              "width": 0.5
             },
             "pattern": {
              "fillmode": "overlay",
              "size": 10,
              "solidity": 0.2
             }
            },
            "type": "bar"
           }
          ],
          "barpolar": [
           {
            "marker": {
             "line": {
              "color": "white",
              "width": 0.5
             },
             "pattern": {
              "fillmode": "overlay",
              "size": 10,
              "solidity": 0.2
             }
            },
            "type": "barpolar"
           }
          ],
          "carpet": [
           {
            "aaxis": {
             "endlinecolor": "rgb(36,36,36)",
             "gridcolor": "white",
             "linecolor": "white",
             "minorgridcolor": "white",
             "startlinecolor": "rgb(36,36,36)"
            },
            "baxis": {
             "endlinecolor": "rgb(36,36,36)",
             "gridcolor": "white",
             "linecolor": "white",
             "minorgridcolor": "white",
             "startlinecolor": "rgb(36,36,36)"
            },
            "type": "carpet"
           }
          ],
          "choropleth": [
           {
            "colorbar": {
             "outlinewidth": 1,
             "tickcolor": "rgb(36,36,36)",
             "ticks": "outside"
            },
            "type": "choropleth"
           }
          ],
          "contour": [
           {
            "colorbar": {
             "outlinewidth": 1,
             "tickcolor": "rgb(36,36,36)",
             "ticks": "outside"
            },
            "colorscale": [
             [
              0,
              "#440154"
             ],
             [
              0.1111111111111111,
              "#482878"
             ],
             [
              0.2222222222222222,
              "#3e4989"
             ],
             [
              0.3333333333333333,
              "#31688e"
             ],
             [
              0.4444444444444444,
              "#26828e"
             ],
             [
              0.5555555555555556,
              "#1f9e89"
             ],
             [
              0.6666666666666666,
              "#35b779"
             ],
             [
              0.7777777777777778,
              "#6ece58"
             ],
             [
              0.8888888888888888,
              "#b5de2b"
             ],
             [
              1,
              "#fde725"
             ]
            ],
            "type": "contour"
           }
          ],
          "contourcarpet": [
           {
            "colorbar": {
             "outlinewidth": 1,
             "tickcolor": "rgb(36,36,36)",
             "ticks": "outside"
            },
            "type": "contourcarpet"
           }
          ],
          "heatmap": [
           {
            "colorbar": {
             "outlinewidth": 1,
             "tickcolor": "rgb(36,36,36)",
             "ticks": "outside"
            },
            "colorscale": [
             [
              0,
              "#440154"
             ],
             [
              0.1111111111111111,
              "#482878"
             ],
             [
              0.2222222222222222,
              "#3e4989"
             ],
             [
              0.3333333333333333,
              "#31688e"
             ],
             [
              0.4444444444444444,
              "#26828e"
             ],
             [
              0.5555555555555556,
              "#1f9e89"
             ],
             [
              0.6666666666666666,
              "#35b779"
             ],
             [
              0.7777777777777778,
              "#6ece58"
             ],
             [
              0.8888888888888888,
              "#b5de2b"
             ],
             [
              1,
              "#fde725"
             ]
            ],
            "type": "heatmap"
           }
          ],
          "heatmapgl": [
           {
            "colorbar": {
             "outlinewidth": 1,
             "tickcolor": "rgb(36,36,36)",
             "ticks": "outside"
            },
            "colorscale": [
             [
              0,
              "#440154"
             ],
             [
              0.1111111111111111,
              "#482878"
             ],
             [
              0.2222222222222222,
              "#3e4989"
             ],
             [
              0.3333333333333333,
              "#31688e"
             ],
             [
              0.4444444444444444,
              "#26828e"
             ],
             [
              0.5555555555555556,
              "#1f9e89"
             ],
             [
              0.6666666666666666,
              "#35b779"
             ],
             [
              0.7777777777777778,
              "#6ece58"
             ],
             [
              0.8888888888888888,
              "#b5de2b"
             ],
             [
              1,
              "#fde725"
             ]
            ],
            "type": "heatmapgl"
           }
          ],
          "histogram": [
           {
            "marker": {
             "line": {
              "color": "white",
              "width": 0.6
             }
            },
            "type": "histogram"
           }
          ],
          "histogram2d": [
           {
            "colorbar": {
             "outlinewidth": 1,
             "tickcolor": "rgb(36,36,36)",
             "ticks": "outside"
            },
            "colorscale": [
             [
              0,
              "#440154"
             ],
             [
              0.1111111111111111,
              "#482878"
             ],
             [
              0.2222222222222222,
              "#3e4989"
             ],
             [
              0.3333333333333333,
              "#31688e"
             ],
             [
              0.4444444444444444,
              "#26828e"
             ],
             [
              0.5555555555555556,
              "#1f9e89"
             ],
             [
              0.6666666666666666,
              "#35b779"
             ],
             [
              0.7777777777777778,
              "#6ece58"
             ],
             [
              0.8888888888888888,
              "#b5de2b"
             ],
             [
              1,
              "#fde725"
             ]
            ],
            "type": "histogram2d"
           }
          ],
          "histogram2dcontour": [
           {
            "colorbar": {
             "outlinewidth": 1,
             "tickcolor": "rgb(36,36,36)",
             "ticks": "outside"
            },
            "colorscale": [
             [
              0,
              "#440154"
             ],
             [
              0.1111111111111111,
              "#482878"
             ],
             [
              0.2222222222222222,
              "#3e4989"
             ],
             [
              0.3333333333333333,
              "#31688e"
             ],
             [
              0.4444444444444444,
              "#26828e"
             ],
             [
              0.5555555555555556,
              "#1f9e89"
             ],
             [
              0.6666666666666666,
              "#35b779"
             ],
             [
              0.7777777777777778,
              "#6ece58"
             ],
             [
              0.8888888888888888,
              "#b5de2b"
             ],
             [
              1,
              "#fde725"
             ]
            ],
            "type": "histogram2dcontour"
           }
          ],
          "mesh3d": [
           {
            "colorbar": {
             "outlinewidth": 1,
             "tickcolor": "rgb(36,36,36)",
             "ticks": "outside"
            },
            "type": "mesh3d"
           }
          ],
          "parcoords": [
           {
            "line": {
             "colorbar": {
              "outlinewidth": 1,
              "tickcolor": "rgb(36,36,36)",
              "ticks": "outside"
             }
            },
            "type": "parcoords"
           }
          ],
          "pie": [
           {
            "automargin": true,
            "type": "pie"
           }
          ],
          "scatter": [
           {
            "marker": {
             "colorbar": {
              "outlinewidth": 1,
              "tickcolor": "rgb(36,36,36)",
              "ticks": "outside"
             }
            },
            "type": "scatter"
           }
          ],
          "scatter3d": [
           {
            "line": {
             "colorbar": {
              "outlinewidth": 1,
              "tickcolor": "rgb(36,36,36)",
              "ticks": "outside"
             }
            },
            "marker": {
             "colorbar": {
              "outlinewidth": 1,
              "tickcolor": "rgb(36,36,36)",
              "ticks": "outside"
             }
            },
            "type": "scatter3d"
           }
          ],
          "scattercarpet": [
           {
            "marker": {
             "colorbar": {
              "outlinewidth": 1,
              "tickcolor": "rgb(36,36,36)",
              "ticks": "outside"
             }
            },
            "type": "scattercarpet"
           }
          ],
          "scattergeo": [
           {
            "marker": {
             "colorbar": {
              "outlinewidth": 1,
              "tickcolor": "rgb(36,36,36)",
              "ticks": "outside"
             }
            },
            "type": "scattergeo"
           }
          ],
          "scattergl": [
           {
            "marker": {
             "colorbar": {
              "outlinewidth": 1,
              "tickcolor": "rgb(36,36,36)",
              "ticks": "outside"
             }
            },
            "type": "scattergl"
           }
          ],
          "scattermapbox": [
           {
            "marker": {
             "colorbar": {
              "outlinewidth": 1,
              "tickcolor": "rgb(36,36,36)",
              "ticks": "outside"
             }
            },
            "type": "scattermapbox"
           }
          ],
          "scatterpolar": [
           {
            "marker": {
             "colorbar": {
              "outlinewidth": 1,
              "tickcolor": "rgb(36,36,36)",
              "ticks": "outside"
             }
            },
            "type": "scatterpolar"
           }
          ],
          "scatterpolargl": [
           {
            "marker": {
             "colorbar": {
              "outlinewidth": 1,
              "tickcolor": "rgb(36,36,36)",
              "ticks": "outside"
             }
            },
            "type": "scatterpolargl"
           }
          ],
          "scatterternary": [
           {
            "marker": {
             "colorbar": {
              "outlinewidth": 1,
              "tickcolor": "rgb(36,36,36)",
              "ticks": "outside"
             }
            },
            "type": "scatterternary"
           }
          ],
          "surface": [
           {
            "colorbar": {
             "outlinewidth": 1,
             "tickcolor": "rgb(36,36,36)",
             "ticks": "outside"
            },
            "colorscale": [
             [
              0,
              "#440154"
             ],
             [
              0.1111111111111111,
              "#482878"
             ],
             [
              0.2222222222222222,
              "#3e4989"
             ],
             [
              0.3333333333333333,
              "#31688e"
             ],
             [
              0.4444444444444444,
              "#26828e"
             ],
             [
              0.5555555555555556,
              "#1f9e89"
             ],
             [
              0.6666666666666666,
              "#35b779"
             ],
             [
              0.7777777777777778,
              "#6ece58"
             ],
             [
              0.8888888888888888,
              "#b5de2b"
             ],
             [
              1,
              "#fde725"
             ]
            ],
            "type": "surface"
           }
          ],
          "table": [
           {
            "cells": {
             "fill": {
              "color": "rgb(237,237,237)"
             },
             "line": {
              "color": "white"
             }
            },
            "header": {
             "fill": {
              "color": "rgb(217,217,217)"
             },
             "line": {
              "color": "white"
             }
            },
            "type": "table"
           }
          ]
         },
         "layout": {
          "annotationdefaults": {
           "arrowhead": 0,
           "arrowwidth": 1
          },
          "autotypenumbers": "strict",
          "coloraxis": {
           "colorbar": {
            "outlinewidth": 1,
            "tickcolor": "rgb(36,36,36)",
            "ticks": "outside"
           }
          },
          "colorscale": {
           "diverging": [
            [
             0,
             "rgb(103,0,31)"
            ],
            [
             0.1,
             "rgb(178,24,43)"
            ],
            [
             0.2,
             "rgb(214,96,77)"
            ],
            [
             0.3,
             "rgb(244,165,130)"
            ],
            [
             0.4,
             "rgb(253,219,199)"
            ],
            [
             0.5,
             "rgb(247,247,247)"
            ],
            [
             0.6,
             "rgb(209,229,240)"
            ],
            [
             0.7,
             "rgb(146,197,222)"
            ],
            [
             0.8,
             "rgb(67,147,195)"
            ],
            [
             0.9,
             "rgb(33,102,172)"
            ],
            [
             1,
             "rgb(5,48,97)"
            ]
           ],
           "sequential": [
            [
             0,
             "#440154"
            ],
            [
             0.1111111111111111,
             "#482878"
            ],
            [
             0.2222222222222222,
             "#3e4989"
            ],
            [
             0.3333333333333333,
             "#31688e"
            ],
            [
             0.4444444444444444,
             "#26828e"
            ],
            [
             0.5555555555555556,
             "#1f9e89"
            ],
            [
             0.6666666666666666,
             "#35b779"
            ],
            [
             0.7777777777777778,
             "#6ece58"
            ],
            [
             0.8888888888888888,
             "#b5de2b"
            ],
            [
             1,
             "#fde725"
            ]
           ],
           "sequentialminus": [
            [
             0,
             "#440154"
            ],
            [
             0.1111111111111111,
             "#482878"
            ],
            [
             0.2222222222222222,
             "#3e4989"
            ],
            [
             0.3333333333333333,
             "#31688e"
            ],
            [
             0.4444444444444444,
             "#26828e"
            ],
            [
             0.5555555555555556,
             "#1f9e89"
            ],
            [
             0.6666666666666666,
             "#35b779"
            ],
            [
             0.7777777777777778,
             "#6ece58"
            ],
            [
             0.8888888888888888,
             "#b5de2b"
            ],
            [
             1,
             "#fde725"
            ]
           ]
          },
          "colorway": [
           "#1F77B4",
           "#FF7F0E",
           "#2CA02C",
           "#D62728",
           "#9467BD",
           "#8C564B",
           "#E377C2",
           "#7F7F7F",
           "#BCBD22",
           "#17BECF"
          ],
          "font": {
           "color": "rgb(36,36,36)"
          },
          "geo": {
           "bgcolor": "white",
           "lakecolor": "white",
           "landcolor": "white",
           "showlakes": true,
           "showland": true,
           "subunitcolor": "white"
          },
          "hoverlabel": {
           "align": "left"
          },
          "hovermode": "closest",
          "mapbox": {
           "style": "light"
          },
          "paper_bgcolor": "white",
          "plot_bgcolor": "white",
          "polar": {
           "angularaxis": {
            "gridcolor": "rgb(232,232,232)",
            "linecolor": "rgb(36,36,36)",
            "showgrid": false,
            "showline": true,
            "ticks": "outside"
           },
           "bgcolor": "white",
           "radialaxis": {
            "gridcolor": "rgb(232,232,232)",
            "linecolor": "rgb(36,36,36)",
            "showgrid": false,
            "showline": true,
            "ticks": "outside"
           }
          },
          "scene": {
           "xaxis": {
            "backgroundcolor": "white",
            "gridcolor": "rgb(232,232,232)",
            "gridwidth": 2,
            "linecolor": "rgb(36,36,36)",
            "showbackground": true,
            "showgrid": false,
            "showline": true,
            "ticks": "outside",
            "zeroline": false,
            "zerolinecolor": "rgb(36,36,36)"
           },
           "yaxis": {
            "backgroundcolor": "white",
            "gridcolor": "rgb(232,232,232)",
            "gridwidth": 2,
            "linecolor": "rgb(36,36,36)",
            "showbackground": true,
            "showgrid": false,
            "showline": true,
            "ticks": "outside",
            "zeroline": false,
            "zerolinecolor": "rgb(36,36,36)"
           },
           "zaxis": {
            "backgroundcolor": "white",
            "gridcolor": "rgb(232,232,232)",
            "gridwidth": 2,
            "linecolor": "rgb(36,36,36)",
            "showbackground": true,
            "showgrid": false,
            "showline": true,
            "ticks": "outside",
            "zeroline": false,
            "zerolinecolor": "rgb(36,36,36)"
           }
          },
          "shapedefaults": {
           "fillcolor": "black",
           "line": {
            "width": 0
           },
           "opacity": 0.3
          },
          "ternary": {
           "aaxis": {
            "gridcolor": "rgb(232,232,232)",
            "linecolor": "rgb(36,36,36)",
            "showgrid": false,
            "showline": true,
            "ticks": "outside"
           },
           "baxis": {
            "gridcolor": "rgb(232,232,232)",
            "linecolor": "rgb(36,36,36)",
            "showgrid": false,
            "showline": true,
            "ticks": "outside"
           },
           "bgcolor": "white",
           "caxis": {
            "gridcolor": "rgb(232,232,232)",
            "linecolor": "rgb(36,36,36)",
            "showgrid": false,
            "showline": true,
            "ticks": "outside"
           }
          },
          "title": {
           "x": 0.05
          },
          "xaxis": {
           "automargin": true,
           "gridcolor": "rgb(232,232,232)",
           "linecolor": "rgb(36,36,36)",
           "showgrid": false,
           "showline": true,
           "ticks": "outside",
           "title": {
            "standoff": 15
           },
           "zeroline": false,
           "zerolinecolor": "rgb(36,36,36)"
          },
          "yaxis": {
           "automargin": true,
           "gridcolor": "rgb(232,232,232)",
           "linecolor": "rgb(36,36,36)",
           "showgrid": false,
           "showline": true,
           "ticks": "outside",
           "title": {
            "standoff": 15
           },
           "zeroline": false,
           "zerolinecolor": "rgb(36,36,36)"
          }
         }
        },
        "title": {
         "text": ""
        },
        "width": 1200,
        "xaxis": {
         "range": [
          -20,
          20
         ],
         "showticklabels": true,
         "visible": true
        }
       }
      },
      "text/html": [
       "<div>                            <div id=\"d318ed42-1374-4815-9cd1-616e3f183b10\" class=\"plotly-graph-div\" style=\"height:1100px; width:1200px;\"></div>            <script type=\"text/javascript\">                require([\"plotly\"], function(Plotly) {                    window.PLOTLYENV=window.PLOTLYENV || {};                                    if (document.getElementById(\"d318ed42-1374-4815-9cd1-616e3f183b10\")) {                    Plotly.newPlot(                        \"d318ed42-1374-4815-9cd1-616e3f183b10\",                        [{\"marker\":{\"color\":[\"green\",\"green\",\"green\",\"green\",\"green\",\"green\",\"green\",\"green\",\"green\",\"green\",\"red\",\"red\",\"red\",\"red\",\"red\",\"red\",\"red\",\"red\",\"red\",\"red\"]},\"name\":\"Net\",\"orientation\":\"h\",\"x\":[13.09322033898305,8.922638822971043,6.428021555042347,5.243722304283611,5.0336760014179305,4.837328767123283,4.682080924855484,4.287138584247273,3.870458135860981,3.4744842562431972,-7.763105242096831,-7.77998017839445,-8.015075376884418,-8.615819209039552,-9.584905660377355,-9.83995257854179,-9.934138309549938,-10.294117647058831,-12.371134020618554,-13.20754716981132],\"y\":[\"PRIO3\",\"RRRP3\",\"VALE3\",\"EMBR3\",\"BRAP4\",\"MULT3\",\"CPFE3\",\"IGTI11\",\"BEEF3\",\"BRML3\",\"BPAC11\",\"NTCO3\",\"RDOR3\",\"UGPA3\",\"AMER3\",\"BIDI11\",\"RAIL3\",\"MGLU3\",\"SOMA3\",\"HAPV3\"],\"type\":\"bar\"}],                        {\"template\":{\"data\":{\"barpolar\":[{\"marker\":{\"line\":{\"color\":\"white\",\"width\":0.5},\"pattern\":{\"fillmode\":\"overlay\",\"size\":10,\"solidity\":0.2}},\"type\":\"barpolar\"}],\"bar\":[{\"error_x\":{\"color\":\"rgb(36,36,36)\"},\"error_y\":{\"color\":\"rgb(36,36,36)\"},\"marker\":{\"line\":{\"color\":\"white\",\"width\":0.5},\"pattern\":{\"fillmode\":\"overlay\",\"size\":10,\"solidity\":0.2}},\"type\":\"bar\"}],\"carpet\":[{\"aaxis\":{\"endlinecolor\":\"rgb(36,36,36)\",\"gridcolor\":\"white\",\"linecolor\":\"white\",\"minorgridcolor\":\"white\",\"startlinecolor\":\"rgb(36,36,36)\"},\"baxis\":{\"endlinecolor\":\"rgb(36,36,36)\",\"gridcolor\":\"white\",\"linecolor\":\"white\",\"minorgridcolor\":\"white\",\"startlinecolor\":\"rgb(36,36,36)\"},\"type\":\"carpet\"}],\"choropleth\":[{\"colorbar\":{\"outlinewidth\":1,\"tickcolor\":\"rgb(36,36,36)\",\"ticks\":\"outside\"},\"type\":\"choropleth\"}],\"contourcarpet\":[{\"colorbar\":{\"outlinewidth\":1,\"tickcolor\":\"rgb(36,36,36)\",\"ticks\":\"outside\"},\"type\":\"contourcarpet\"}],\"contour\":[{\"colorbar\":{\"outlinewidth\":1,\"tickcolor\":\"rgb(36,36,36)\",\"ticks\":\"outside\"},\"colorscale\":[[0.0,\"#440154\"],[0.1111111111111111,\"#482878\"],[0.2222222222222222,\"#3e4989\"],[0.3333333333333333,\"#31688e\"],[0.4444444444444444,\"#26828e\"],[0.5555555555555556,\"#1f9e89\"],[0.6666666666666666,\"#35b779\"],[0.7777777777777778,\"#6ece58\"],[0.8888888888888888,\"#b5de2b\"],[1.0,\"#fde725\"]],\"type\":\"contour\"}],\"heatmapgl\":[{\"colorbar\":{\"outlinewidth\":1,\"tickcolor\":\"rgb(36,36,36)\",\"ticks\":\"outside\"},\"colorscale\":[[0.0,\"#440154\"],[0.1111111111111111,\"#482878\"],[0.2222222222222222,\"#3e4989\"],[0.3333333333333333,\"#31688e\"],[0.4444444444444444,\"#26828e\"],[0.5555555555555556,\"#1f9e89\"],[0.6666666666666666,\"#35b779\"],[0.7777777777777778,\"#6ece58\"],[0.8888888888888888,\"#b5de2b\"],[1.0,\"#fde725\"]],\"type\":\"heatmapgl\"}],\"heatmap\":[{\"colorbar\":{\"outlinewidth\":1,\"tickcolor\":\"rgb(36,36,36)\",\"ticks\":\"outside\"},\"colorscale\":[[0.0,\"#440154\"],[0.1111111111111111,\"#482878\"],[0.2222222222222222,\"#3e4989\"],[0.3333333333333333,\"#31688e\"],[0.4444444444444444,\"#26828e\"],[0.5555555555555556,\"#1f9e89\"],[0.6666666666666666,\"#35b779\"],[0.7777777777777778,\"#6ece58\"],[0.8888888888888888,\"#b5de2b\"],[1.0,\"#fde725\"]],\"type\":\"heatmap\"}],\"histogram2dcontour\":[{\"colorbar\":{\"outlinewidth\":1,\"tickcolor\":\"rgb(36,36,36)\",\"ticks\":\"outside\"},\"colorscale\":[[0.0,\"#440154\"],[0.1111111111111111,\"#482878\"],[0.2222222222222222,\"#3e4989\"],[0.3333333333333333,\"#31688e\"],[0.4444444444444444,\"#26828e\"],[0.5555555555555556,\"#1f9e89\"],[0.6666666666666666,\"#35b779\"],[0.7777777777777778,\"#6ece58\"],[0.8888888888888888,\"#b5de2b\"],[1.0,\"#fde725\"]],\"type\":\"histogram2dcontour\"}],\"histogram2d\":[{\"colorbar\":{\"outlinewidth\":1,\"tickcolor\":\"rgb(36,36,36)\",\"ticks\":\"outside\"},\"colorscale\":[[0.0,\"#440154\"],[0.1111111111111111,\"#482878\"],[0.2222222222222222,\"#3e4989\"],[0.3333333333333333,\"#31688e\"],[0.4444444444444444,\"#26828e\"],[0.5555555555555556,\"#1f9e89\"],[0.6666666666666666,\"#35b779\"],[0.7777777777777778,\"#6ece58\"],[0.8888888888888888,\"#b5de2b\"],[1.0,\"#fde725\"]],\"type\":\"histogram2d\"}],\"histogram\":[{\"marker\":{\"line\":{\"color\":\"white\",\"width\":0.6}},\"type\":\"histogram\"}],\"mesh3d\":[{\"colorbar\":{\"outlinewidth\":1,\"tickcolor\":\"rgb(36,36,36)\",\"ticks\":\"outside\"},\"type\":\"mesh3d\"}],\"parcoords\":[{\"line\":{\"colorbar\":{\"outlinewidth\":1,\"tickcolor\":\"rgb(36,36,36)\",\"ticks\":\"outside\"}},\"type\":\"parcoords\"}],\"pie\":[{\"automargin\":true,\"type\":\"pie\"}],\"scatter3d\":[{\"line\":{\"colorbar\":{\"outlinewidth\":1,\"tickcolor\":\"rgb(36,36,36)\",\"ticks\":\"outside\"}},\"marker\":{\"colorbar\":{\"outlinewidth\":1,\"tickcolor\":\"rgb(36,36,36)\",\"ticks\":\"outside\"}},\"type\":\"scatter3d\"}],\"scattercarpet\":[{\"marker\":{\"colorbar\":{\"outlinewidth\":1,\"tickcolor\":\"rgb(36,36,36)\",\"ticks\":\"outside\"}},\"type\":\"scattercarpet\"}],\"scattergeo\":[{\"marker\":{\"colorbar\":{\"outlinewidth\":1,\"tickcolor\":\"rgb(36,36,36)\",\"ticks\":\"outside\"}},\"type\":\"scattergeo\"}],\"scattergl\":[{\"marker\":{\"colorbar\":{\"outlinewidth\":1,\"tickcolor\":\"rgb(36,36,36)\",\"ticks\":\"outside\"}},\"type\":\"scattergl\"}],\"scattermapbox\":[{\"marker\":{\"colorbar\":{\"outlinewidth\":1,\"tickcolor\":\"rgb(36,36,36)\",\"ticks\":\"outside\"}},\"type\":\"scattermapbox\"}],\"scatterpolargl\":[{\"marker\":{\"colorbar\":{\"outlinewidth\":1,\"tickcolor\":\"rgb(36,36,36)\",\"ticks\":\"outside\"}},\"type\":\"scatterpolargl\"}],\"scatterpolar\":[{\"marker\":{\"colorbar\":{\"outlinewidth\":1,\"tickcolor\":\"rgb(36,36,36)\",\"ticks\":\"outside\"}},\"type\":\"scatterpolar\"}],\"scatter\":[{\"marker\":{\"colorbar\":{\"outlinewidth\":1,\"tickcolor\":\"rgb(36,36,36)\",\"ticks\":\"outside\"}},\"type\":\"scatter\"}],\"scatterternary\":[{\"marker\":{\"colorbar\":{\"outlinewidth\":1,\"tickcolor\":\"rgb(36,36,36)\",\"ticks\":\"outside\"}},\"type\":\"scatterternary\"}],\"surface\":[{\"colorbar\":{\"outlinewidth\":1,\"tickcolor\":\"rgb(36,36,36)\",\"ticks\":\"outside\"},\"colorscale\":[[0.0,\"#440154\"],[0.1111111111111111,\"#482878\"],[0.2222222222222222,\"#3e4989\"],[0.3333333333333333,\"#31688e\"],[0.4444444444444444,\"#26828e\"],[0.5555555555555556,\"#1f9e89\"],[0.6666666666666666,\"#35b779\"],[0.7777777777777778,\"#6ece58\"],[0.8888888888888888,\"#b5de2b\"],[1.0,\"#fde725\"]],\"type\":\"surface\"}],\"table\":[{\"cells\":{\"fill\":{\"color\":\"rgb(237,237,237)\"},\"line\":{\"color\":\"white\"}},\"header\":{\"fill\":{\"color\":\"rgb(217,217,217)\"},\"line\":{\"color\":\"white\"}},\"type\":\"table\"}]},\"layout\":{\"annotationdefaults\":{\"arrowhead\":0,\"arrowwidth\":1},\"autotypenumbers\":\"strict\",\"coloraxis\":{\"colorbar\":{\"outlinewidth\":1,\"tickcolor\":\"rgb(36,36,36)\",\"ticks\":\"outside\"}},\"colorscale\":{\"diverging\":[[0.0,\"rgb(103,0,31)\"],[0.1,\"rgb(178,24,43)\"],[0.2,\"rgb(214,96,77)\"],[0.3,\"rgb(244,165,130)\"],[0.4,\"rgb(253,219,199)\"],[0.5,\"rgb(247,247,247)\"],[0.6,\"rgb(209,229,240)\"],[0.7,\"rgb(146,197,222)\"],[0.8,\"rgb(67,147,195)\"],[0.9,\"rgb(33,102,172)\"],[1.0,\"rgb(5,48,97)\"]],\"sequential\":[[0.0,\"#440154\"],[0.1111111111111111,\"#482878\"],[0.2222222222222222,\"#3e4989\"],[0.3333333333333333,\"#31688e\"],[0.4444444444444444,\"#26828e\"],[0.5555555555555556,\"#1f9e89\"],[0.6666666666666666,\"#35b779\"],[0.7777777777777778,\"#6ece58\"],[0.8888888888888888,\"#b5de2b\"],[1.0,\"#fde725\"]],\"sequentialminus\":[[0.0,\"#440154\"],[0.1111111111111111,\"#482878\"],[0.2222222222222222,\"#3e4989\"],[0.3333333333333333,\"#31688e\"],[0.4444444444444444,\"#26828e\"],[0.5555555555555556,\"#1f9e89\"],[0.6666666666666666,\"#35b779\"],[0.7777777777777778,\"#6ece58\"],[0.8888888888888888,\"#b5de2b\"],[1.0,\"#fde725\"]]},\"colorway\":[\"#1F77B4\",\"#FF7F0E\",\"#2CA02C\",\"#D62728\",\"#9467BD\",\"#8C564B\",\"#E377C2\",\"#7F7F7F\",\"#BCBD22\",\"#17BECF\"],\"font\":{\"color\":\"rgb(36,36,36)\"},\"geo\":{\"bgcolor\":\"white\",\"lakecolor\":\"white\",\"landcolor\":\"white\",\"showlakes\":true,\"showland\":true,\"subunitcolor\":\"white\"},\"hoverlabel\":{\"align\":\"left\"},\"hovermode\":\"closest\",\"mapbox\":{\"style\":\"light\"},\"paper_bgcolor\":\"white\",\"plot_bgcolor\":\"white\",\"polar\":{\"angularaxis\":{\"gridcolor\":\"rgb(232,232,232)\",\"linecolor\":\"rgb(36,36,36)\",\"showgrid\":false,\"showline\":true,\"ticks\":\"outside\"},\"bgcolor\":\"white\",\"radialaxis\":{\"gridcolor\":\"rgb(232,232,232)\",\"linecolor\":\"rgb(36,36,36)\",\"showgrid\":false,\"showline\":true,\"ticks\":\"outside\"}},\"scene\":{\"xaxis\":{\"backgroundcolor\":\"white\",\"gridcolor\":\"rgb(232,232,232)\",\"gridwidth\":2,\"linecolor\":\"rgb(36,36,36)\",\"showbackground\":true,\"showgrid\":false,\"showline\":true,\"ticks\":\"outside\",\"zeroline\":false,\"zerolinecolor\":\"rgb(36,36,36)\"},\"yaxis\":{\"backgroundcolor\":\"white\",\"gridcolor\":\"rgb(232,232,232)\",\"gridwidth\":2,\"linecolor\":\"rgb(36,36,36)\",\"showbackground\":true,\"showgrid\":false,\"showline\":true,\"ticks\":\"outside\",\"zeroline\":false,\"zerolinecolor\":\"rgb(36,36,36)\"},\"zaxis\":{\"backgroundcolor\":\"white\",\"gridcolor\":\"rgb(232,232,232)\",\"gridwidth\":2,\"linecolor\":\"rgb(36,36,36)\",\"showbackground\":true,\"showgrid\":false,\"showline\":true,\"ticks\":\"outside\",\"zeroline\":false,\"zerolinecolor\":\"rgb(36,36,36)\"}},\"shapedefaults\":{\"fillcolor\":\"black\",\"line\":{\"width\":0},\"opacity\":0.3},\"ternary\":{\"aaxis\":{\"gridcolor\":\"rgb(232,232,232)\",\"linecolor\":\"rgb(36,36,36)\",\"showgrid\":false,\"showline\":true,\"ticks\":\"outside\"},\"baxis\":{\"gridcolor\":\"rgb(232,232,232)\",\"linecolor\":\"rgb(36,36,36)\",\"showgrid\":false,\"showline\":true,\"ticks\":\"outside\"},\"bgcolor\":\"white\",\"caxis\":{\"gridcolor\":\"rgb(232,232,232)\",\"linecolor\":\"rgb(36,36,36)\",\"showgrid\":false,\"showline\":true,\"ticks\":\"outside\"}},\"title\":{\"x\":0.05},\"xaxis\":{\"automargin\":true,\"gridcolor\":\"rgb(232,232,232)\",\"linecolor\":\"rgb(36,36,36)\",\"showgrid\":false,\"showline\":true,\"ticks\":\"outside\",\"title\":{\"standoff\":15},\"zeroline\":false,\"zerolinecolor\":\"rgb(36,36,36)\"},\"yaxis\":{\"automargin\":true,\"gridcolor\":\"rgb(232,232,232)\",\"linecolor\":\"rgb(36,36,36)\",\"showgrid\":false,\"showline\":true,\"ticks\":\"outside\",\"title\":{\"standoff\":15},\"zeroline\":false,\"zerolinecolor\":\"rgb(36,36,36)\"}}},\"xaxis\":{\"visible\":true,\"showticklabels\":true,\"range\":[-20,20]},\"title\":{\"text\":\"\"},\"margin\":{\"l\":20,\"r\":20,\"t\":20,\"b\":20},\"font\":{\"family\":\"Verdana black\",\"size\":25,\"color\":\"black\"},\"barmode\":\"stack\",\"paper_bgcolor\":\"#f7f8fa\",\"width\":1200,\"height\":1100,\"annotations\":[{\"font\":{\"color\":\"black\",\"family\":\"Verdana\",\"size\":27},\"showarrow\":false,\"text\":\"13.09%\",\"x\":16.09,\"xref\":\"x\",\"y\":\"PRIO3\",\"yref\":\"y\"},{\"font\":{\"color\":\"black\",\"family\":\"Verdana\",\"size\":27},\"showarrow\":false,\"text\":\"8.92%\",\"x\":11.92,\"xref\":\"x\",\"y\":\"RRRP3\",\"yref\":\"y\"},{\"font\":{\"color\":\"black\",\"family\":\"Verdana\",\"size\":27},\"showarrow\":false,\"text\":\"6.43%\",\"x\":9.43,\"xref\":\"x\",\"y\":\"VALE3\",\"yref\":\"y\"},{\"font\":{\"color\":\"black\",\"family\":\"Verdana\",\"size\":27},\"showarrow\":false,\"text\":\"5.24%\",\"x\":8.24,\"xref\":\"x\",\"y\":\"EMBR3\",\"yref\":\"y\"},{\"font\":{\"color\":\"black\",\"family\":\"Verdana\",\"size\":27},\"showarrow\":false,\"text\":\"5.03%\",\"x\":8.030000000000001,\"xref\":\"x\",\"y\":\"BRAP4\",\"yref\":\"y\"},{\"font\":{\"color\":\"black\",\"family\":\"Verdana\",\"size\":27},\"showarrow\":false,\"text\":\"4.84%\",\"x\":7.84,\"xref\":\"x\",\"y\":\"MULT3\",\"yref\":\"y\"},{\"font\":{\"color\":\"black\",\"family\":\"Verdana\",\"size\":27},\"showarrow\":false,\"text\":\"4.68%\",\"x\":7.68,\"xref\":\"x\",\"y\":\"CPFE3\",\"yref\":\"y\"},{\"font\":{\"color\":\"black\",\"family\":\"Verdana\",\"size\":27},\"showarrow\":false,\"text\":\"4.29%\",\"x\":7.29,\"xref\":\"x\",\"y\":\"IGTI11\",\"yref\":\"y\"},{\"font\":{\"color\":\"black\",\"family\":\"Verdana\",\"size\":27},\"showarrow\":false,\"text\":\"3.87%\",\"x\":6.87,\"xref\":\"x\",\"y\":\"BEEF3\",\"yref\":\"y\"},{\"font\":{\"color\":\"black\",\"family\":\"Verdana\",\"size\":27},\"showarrow\":false,\"text\":\"3.47%\",\"x\":6.470000000000001,\"xref\":\"x\",\"y\":\"BRML3\",\"yref\":\"y\"},{\"font\":{\"color\":\"black\",\"family\":\"Verdana\",\"size\":27},\"showarrow\":false,\"text\":\"-7.76%\",\"x\":-10.76,\"xref\":\"x\",\"y\":\"BPAC11\",\"yref\":\"y\"},{\"font\":{\"color\":\"black\",\"family\":\"Verdana\",\"size\":27},\"showarrow\":false,\"text\":\"-7.78%\",\"x\":-10.780000000000001,\"xref\":\"x\",\"y\":\"NTCO3\",\"yref\":\"y\"},{\"font\":{\"color\":\"black\",\"family\":\"Verdana\",\"size\":27},\"showarrow\":false,\"text\":\"-8.02%\",\"x\":-11.02,\"xref\":\"x\",\"y\":\"RDOR3\",\"yref\":\"y\"},{\"font\":{\"color\":\"black\",\"family\":\"Verdana\",\"size\":27},\"showarrow\":false,\"text\":\"-8.62%\",\"x\":-11.62,\"xref\":\"x\",\"y\":\"UGPA3\",\"yref\":\"y\"},{\"font\":{\"color\":\"black\",\"family\":\"Verdana\",\"size\":27},\"showarrow\":false,\"text\":\"-9.58%\",\"x\":-12.58,\"xref\":\"x\",\"y\":\"AMER3\",\"yref\":\"y\"},{\"font\":{\"color\":\"black\",\"family\":\"Verdana\",\"size\":27},\"showarrow\":false,\"text\":\"-9.84%\",\"x\":-12.84,\"xref\":\"x\",\"y\":\"BIDI11\",\"yref\":\"y\"},{\"font\":{\"color\":\"black\",\"family\":\"Verdana\",\"size\":27},\"showarrow\":false,\"text\":\"-9.93%\",\"x\":-12.93,\"xref\":\"x\",\"y\":\"RAIL3\",\"yref\":\"y\"},{\"font\":{\"color\":\"black\",\"family\":\"Verdana\",\"size\":27},\"showarrow\":false,\"text\":\"-10.29%\",\"x\":-13.29,\"xref\":\"x\",\"y\":\"MGLU3\",\"yref\":\"y\"},{\"font\":{\"color\":\"black\",\"family\":\"Verdana\",\"size\":27},\"showarrow\":false,\"text\":\"-12.37%\",\"x\":-15.37,\"xref\":\"x\",\"y\":\"SOMA3\",\"yref\":\"y\"},{\"font\":{\"color\":\"black\",\"family\":\"Verdana\",\"size\":27},\"showarrow\":false,\"text\":\"-13.21%\",\"x\":-16.21,\"xref\":\"x\",\"y\":\"HAPV3\",\"yref\":\"y\"}]},                        {\"responsive\": true}                    ).then(function(){\n",
       "                            \n",
       "var gd = document.getElementById('d318ed42-1374-4815-9cd1-616e3f183b10');\n",
       "var x = new MutationObserver(function (mutations, observer) {{\n",
       "        var display = window.getComputedStyle(gd).display;\n",
       "        if (!display || display === 'none') {{\n",
       "            console.log([gd, 'removed!']);\n",
       "            Plotly.purge(gd);\n",
       "            observer.disconnect();\n",
       "        }}\n",
       "}});\n",
       "\n",
       "// Listen for the removal of the full notebook cells\n",
       "var notebookContainer = gd.closest('#notebook-container');\n",
       "if (notebookContainer) {{\n",
       "    x.observe(notebookContainer, {childList: true});\n",
       "}}\n",
       "\n",
       "// Listen for the clearing of the current output cell\n",
       "var outputEl = gd.closest('.output');\n",
       "if (outputEl) {{\n",
       "    x.observe(outputEl, {childList: true});\n",
       "}}\n",
       "\n",
       "                        })                };                });            </script>        </div>"
      ]
     },
     "metadata": {},
     "output_type": "display_data"
    }
   ],
   "source": [
    "maiores_altas_baixas_ibov2 = maiores_altas_baixas_ibov2.sort_values(by='Resultado_%',ascending=False)\n",
    "maiores_altas_baixas_ibov2[\"Color\"] = np.where(maiores_altas_baixas_ibov2[\"Resultado_%\"] < 0, 'red', 'green')\n",
    "\n",
    "fig = go.Figure()\n",
    "\n",
    "fig.add_trace(go.Bar(name='Net', x=maiores_altas_baixas_ibov2['Resultado_%'], y=maiores_altas_baixas_ibov2['Ativo'], marker_color=maiores_altas_baixas_ibov2['Color'],orientation='h'))\n",
    "\n",
    "annotations = []\n",
    "\n",
    "x_pos = maiores_altas_baixas_ibov2[\"Ativo\"][0:10]\n",
    "y_pos = np.round(maiores_altas_baixas_ibov2[\"Resultado_%\"][0:10], decimals=2)\n",
    "\n",
    "x_neg = maiores_altas_baixas_ibov2[\"Ativo\"][10:20]\n",
    "y_neg = np.round(maiores_altas_baixas_ibov2[\"Resultado_%\"][10:20], decimals=2)\n",
    "\n",
    "for yd, xd in zip(y_pos, x_pos):\n",
    "  annotations.append(dict(xref='x1', yref='y1', y=xd, x=yd + 3, text= str(yd)+'%', \n",
    "                            font=dict(family='Verdana', size=27, color='black'), showarrow=False))\n",
    "\n",
    "for yd, xd in zip(y_neg, x_neg):\n",
    "  annotations.append(dict(xref='x1', yref='y1', y=xd, x=yd - 3, text= str(yd)+'%', \n",
    "                            font=dict(family='Verdana', size=27, color='black'), showarrow=False))\n",
    "\n",
    "fig.update_xaxes(visible=True, showticklabels=True,range=[-20, 20])\n",
    "fig.update_layout(barmode='stack',title_text='',template = 'simple_white',margin=dict(l=20, r=20, t=20, b=20), \n",
    "                  paper_bgcolor=\"#f7f8fa\",width=1200,height=1100,annotations=annotations,\n",
    "                  font=dict(family=\"Verdana black\",size=25,color=\"black\"))\n",
    "\n",
    "fig.show()"
   ]
  },
  {
   "cell_type": "markdown",
   "id": "48682100",
   "metadata": {},
   "source": [
    "# 8. Resultados por setor IBOV"
   ]
  },
  {
   "cell_type": "code",
   "execution_count": 59,
   "id": "9ee9dbde",
   "metadata": {},
   "outputs": [],
   "source": [
    "setores_IBOV = {'Setor': {'WEGE3': 'Bens Indls / Máqs e Equips',\n",
    "  'EMBR3': 'Bens Indls / Mat Transporte',\n",
    "  'AZUL4': 'Bens Indls/Transporte',\n",
    "  'CCRO3': 'Bens Indls/Transporte',\n",
    "  'ECOR3': 'Bens Indls/Transporte',\n",
    "  'GOLL4': 'Bens Indls/Transporte',\n",
    "  'RAIL3': 'Bens Indls/Transporte',\n",
    "  'POSI3': 'Comput e Equips',\n",
    "  'BRFS3': 'Cons N  Básico / Alimentos Processados',\n",
    "  'JBSS3': 'Cons N  Básico / Alimentos Processados',\n",
    "  'MRFG3': 'Cons N  Básico / Alimentos Processados',\n",
    "  'BEEF3': 'Cons N  Básico / Alimentos Processados',\n",
    "  'ABEV3': 'Cons N Cíclico / Bebidas',\n",
    "  'ASAI3': 'Cons N Cíclico / Comércio Distr.',\n",
    "  'CRFB3': 'Cons N Cíclico / Comércio Distr.',\n",
    "  'PCAR3': 'Cons N Cíclico / Comércio Distr.',\n",
    "  'NTCO3': 'Cons N Cíclico / Pr Pessoal Limp',\n",
    "  'AMER3': 'Consumo Cíclico / Comércio',\n",
    "  'SOMA3': 'Consumo Cíclico / Comércio',\n",
    "  'LREN3': 'Consumo Cíclico / Comércio',\n",
    "  'MGLU3': 'Consumo Cíclico / Comércio',\n",
    "  'PETZ3': 'Consumo Cíclico / Comércio',\n",
    "  'VIIA3': 'Consumo Cíclico / Comércio',\n",
    "  'ALPA4': 'Consumo Cíclico / Tecid Vest Calç',\n",
    "  'CYRE3': 'Consumo Cíclico/Constr Civil',\n",
    "  'EZTC3': 'Consumo Cíclico/Constr Civil',\n",
    "  'JHSF3': 'Consumo Cíclico/Constr Civil',\n",
    "  'MRVE3': 'Consumo Cíclico/Constr Civil',\n",
    "  'CVCB3': 'Consumo Cíclico/Viagens e Lazer',\n",
    "  'COGN3': 'Diversos',\n",
    "  'RENT3': 'Diversos',\n",
    "  'LCAM3': 'Diversos',\n",
    "  'YDUQ3': 'Diversos',\n",
    "  'BRML3': 'Financ e Outros / Explor Imóveis',\n",
    "  'IGTI11': 'Financ e Outros / Explor Imóveis',\n",
    "  'MULT3': 'Financ e Outros / Explor Imóveis',\n",
    "  'BIDI11': 'Financ e Outros / Interms Financs',\n",
    "  'BPAN4': 'Financ e Outros / Interms Financs',\n",
    "  'BBDC3': 'Financ e Outros / Interms Financs',\n",
    "  'BBDC4': 'Financ e Outros / Interms Financs',\n",
    "  'BBAS3': 'Financ e Outros / Interms Financs',\n",
    "  'BPAC11': 'Financ e Outros / Interms Financs',\n",
    "  'ITSA4': 'Financ e Outros / Interms Financs',\n",
    "  'ITUB4': 'Financ e Outros / Interms Financs',\n",
    "  'SANB11': 'Financ e Outros / Interms Financs',\n",
    "  'BBSE3': 'Financ e Outros / Previd  Seguros',\n",
    "  'IRBR3': 'Financ e Outros / Previd  Seguros',\n",
    "  'SULA11': 'Financ e Outros / Previd  Seguros',\n",
    "  'B3SA3': 'Financeiro e Outros/Serviços Financeiros Diversos',\n",
    "  'CIEL3': 'Financeiro e Outros/Serviços Financeiros Diversos',\n",
    "  'DXCO3': 'Mats Básicos / Madeira e Papel',\n",
    "  'KLBN11': 'Mats Básicos / Madeira e Papel',\n",
    "  'SUZB3': 'Mats Básicos / Madeira e Papel',\n",
    "  'BRAP4': 'Mats Básicos / Mineração',\n",
    "  'CMIN3': 'Mats Básicos / Mineração',\n",
    "  'VALE3': 'Mats Básicos / Mineração',\n",
    "  'BRKM5': 'Mats Básicos / Químicos',\n",
    "  'GGBR4': 'Mats Básicos / Sid Metalurgia',\n",
    "  'GOAU4': 'Mats Básicos / Sid Metalurgia',\n",
    "  'CSNA3': 'Mats Básicos / Sid Metalurgia',\n",
    "  'USIM5': 'Mats Básicos / Sid Metalurgia',\n",
    "  'RRRP3': 'Petróleo/ Gás e Biocombustíveis',\n",
    "  'CSAN3': 'Petróleo/ Gás e Biocombustíveis',\n",
    "  'PETR3': 'Petróleo/ Gás e Biocombustíveis',\n",
    "  'PETR4': 'Petróleo/ Gás e Biocombustíveis',\n",
    "  'PRIO3': 'Petróleo/ Gás e Biocombustíveis',\n",
    "  'UGPA3': 'Petróleo/ Gás e Biocombustíveis',\n",
    "  'VBBR3': 'Petróleo/ Gás e Biocombustíveis',\n",
    "  'HYPE3': 'Saúde/Comércio Distr.',\n",
    "  'RADL3': 'Saúde/Comércio Distr.',\n",
    "  'FLRY3': 'Saúde/SM Hosp An.Diag',\n",
    "  'HAPV3': 'Saúde/SM Hosp An.Diag',\n",
    "  'QUAL3': 'Saúde/SM Hosp An.Diag',\n",
    "  'RDOR3': 'Saúde/SM Hosp An.Diag',\n",
    "  'LWSA3': 'Tec.Informação/Programas Servs',\n",
    "  'CASH3': 'Tec.Informação/Programas Servs',\n",
    "  'TOTS3': 'Tec.Informação/Programas Servs',\n",
    "  'VIVT3': 'Telecomunicação',\n",
    "  'TIMS3': 'Telecomunicação',\n",
    "  'SBSP3': 'Utilidade Públ / Água Saneamento',\n",
    "  'CMIG4': 'Utilidade Públ / Energ Elétrica',\n",
    "  'CPLE6': 'Utilidade Públ / Energ Elétrica',\n",
    "  'CPFE3': 'Utilidade Públ / Energ Elétrica',\n",
    "  'ELET3': 'Utilidade Públ / Energ Elétrica',\n",
    "  'ELET6': 'Utilidade Públ / Energ Elétrica',\n",
    "  'ENBR3': 'Utilidade Públ / Energ Elétrica',\n",
    "  'ENGI11': 'Utilidade Públ / Energ Elétrica',\n",
    "  'ENEV3': 'Utilidade Públ / Energ Elétrica',\n",
    "  'EGIE3': 'Utilidade Públ / Energ Elétrica',\n",
    "  'EQTL3': 'Utilidade Públ / Energ Elétrica',\n",
    "  'TAEE11': 'Utilidade Públ / Energ Elétrica'}}"
   ]
  },
  {
   "cell_type": "code",
   "execution_count": 60,
   "id": "88eeb0bd",
   "metadata": {},
   "outputs": [
    {
     "data": {
      "text/html": [
       "<div>\n",
       "<style scoped>\n",
       "    .dataframe tbody tr th:only-of-type {\n",
       "        vertical-align: middle;\n",
       "    }\n",
       "\n",
       "    .dataframe tbody tr th {\n",
       "        vertical-align: top;\n",
       "    }\n",
       "\n",
       "    .dataframe thead th {\n",
       "        text-align: right;\n",
       "    }\n",
       "</style>\n",
       "<table border=\"1\" class=\"dataframe\">\n",
       "  <thead>\n",
       "    <tr style=\"text-align: right;\">\n",
       "      <th></th>\n",
       "      <th>Setor</th>\n",
       "    </tr>\n",
       "  </thead>\n",
       "  <tbody>\n",
       "    <tr>\n",
       "      <th>ABEV3</th>\n",
       "      <td>Cons N Cíclico / Bebidas</td>\n",
       "    </tr>\n",
       "    <tr>\n",
       "      <th>ALPA4</th>\n",
       "      <td>Consumo Cíclico / Tecid Vest Calç</td>\n",
       "    </tr>\n",
       "    <tr>\n",
       "      <th>AMER3</th>\n",
       "      <td>Consumo Cíclico / Comércio</td>\n",
       "    </tr>\n",
       "    <tr>\n",
       "      <th>ASAI3</th>\n",
       "      <td>Cons N Cíclico / Comércio Distr.</td>\n",
       "    </tr>\n",
       "    <tr>\n",
       "      <th>AZUL4</th>\n",
       "      <td>Bens Indls/Transporte</td>\n",
       "    </tr>\n",
       "    <tr>\n",
       "      <th>...</th>\n",
       "      <td>...</td>\n",
       "    </tr>\n",
       "    <tr>\n",
       "      <th>VBBR3</th>\n",
       "      <td>Petróleo/ Gás e Biocombustíveis</td>\n",
       "    </tr>\n",
       "    <tr>\n",
       "      <th>VIIA3</th>\n",
       "      <td>Consumo Cíclico / Comércio</td>\n",
       "    </tr>\n",
       "    <tr>\n",
       "      <th>VIVT3</th>\n",
       "      <td>Telecomunicação</td>\n",
       "    </tr>\n",
       "    <tr>\n",
       "      <th>WEGE3</th>\n",
       "      <td>Bens Indls / Máqs e Equips</td>\n",
       "    </tr>\n",
       "    <tr>\n",
       "      <th>YDUQ3</th>\n",
       "      <td>Diversos</td>\n",
       "    </tr>\n",
       "  </tbody>\n",
       "</table>\n",
       "<p>91 rows × 1 columns</p>\n",
       "</div>"
      ],
      "text/plain": [
       "                                   Setor\n",
       "ABEV3           Cons N Cíclico / Bebidas\n",
       "ALPA4  Consumo Cíclico / Tecid Vest Calç\n",
       "AMER3         Consumo Cíclico / Comércio\n",
       "ASAI3   Cons N Cíclico / Comércio Distr.\n",
       "AZUL4              Bens Indls/Transporte\n",
       "...                                  ...\n",
       "VBBR3    Petróleo/ Gás e Biocombustíveis\n",
       "VIIA3         Consumo Cíclico / Comércio\n",
       "VIVT3                    Telecomunicação\n",
       "WEGE3         Bens Indls / Máqs e Equips\n",
       "YDUQ3                           Diversos\n",
       "\n",
       "[91 rows x 1 columns]"
      ]
     },
     "execution_count": 60,
     "metadata": {},
     "output_type": "execute_result"
    }
   ],
   "source": [
    "data_setorial = pd.DataFrame.from_dict(setores_IBOV)\n",
    "data_setorial"
   ]
  },
  {
   "cell_type": "code",
   "execution_count": 61,
   "id": "1b17ffba",
   "metadata": {},
   "outputs": [
    {
     "data": {
      "text/html": [
       "<div>\n",
       "<style scoped>\n",
       "    .dataframe tbody tr th:only-of-type {\n",
       "        vertical-align: middle;\n",
       "    }\n",
       "\n",
       "    .dataframe tbody tr th {\n",
       "        vertical-align: top;\n",
       "    }\n",
       "\n",
       "    .dataframe thead th {\n",
       "        text-align: right;\n",
       "    }\n",
       "</style>\n",
       "<table border=\"1\" class=\"dataframe\">\n",
       "  <thead>\n",
       "    <tr style=\"text-align: right;\">\n",
       "      <th></th>\n",
       "      <th>Setor</th>\n",
       "      <th>Ativo</th>\n",
       "    </tr>\n",
       "  </thead>\n",
       "  <tbody>\n",
       "    <tr>\n",
       "      <th>ABEV3</th>\n",
       "      <td>Cons N Cíclico / Bebidas</td>\n",
       "      <td>ABEV3</td>\n",
       "    </tr>\n",
       "    <tr>\n",
       "      <th>ALPA4</th>\n",
       "      <td>Consumo Cíclico / Tecid Vest Calç</td>\n",
       "      <td>ALPA4</td>\n",
       "    </tr>\n",
       "    <tr>\n",
       "      <th>AMER3</th>\n",
       "      <td>Consumo Cíclico / Comércio</td>\n",
       "      <td>AMER3</td>\n",
       "    </tr>\n",
       "    <tr>\n",
       "      <th>ASAI3</th>\n",
       "      <td>Cons N Cíclico / Comércio Distr.</td>\n",
       "      <td>ASAI3</td>\n",
       "    </tr>\n",
       "    <tr>\n",
       "      <th>AZUL4</th>\n",
       "      <td>Bens Indls/Transporte</td>\n",
       "      <td>AZUL4</td>\n",
       "    </tr>\n",
       "    <tr>\n",
       "      <th>...</th>\n",
       "      <td>...</td>\n",
       "      <td>...</td>\n",
       "    </tr>\n",
       "    <tr>\n",
       "      <th>VBBR3</th>\n",
       "      <td>Petróleo/ Gás e Biocombustíveis</td>\n",
       "      <td>VBBR3</td>\n",
       "    </tr>\n",
       "    <tr>\n",
       "      <th>VIIA3</th>\n",
       "      <td>Consumo Cíclico / Comércio</td>\n",
       "      <td>VIIA3</td>\n",
       "    </tr>\n",
       "    <tr>\n",
       "      <th>VIVT3</th>\n",
       "      <td>Telecomunicação</td>\n",
       "      <td>VIVT3</td>\n",
       "    </tr>\n",
       "    <tr>\n",
       "      <th>WEGE3</th>\n",
       "      <td>Bens Indls / Máqs e Equips</td>\n",
       "      <td>WEGE3</td>\n",
       "    </tr>\n",
       "    <tr>\n",
       "      <th>YDUQ3</th>\n",
       "      <td>Diversos</td>\n",
       "      <td>YDUQ3</td>\n",
       "    </tr>\n",
       "  </tbody>\n",
       "</table>\n",
       "<p>91 rows × 2 columns</p>\n",
       "</div>"
      ],
      "text/plain": [
       "                                   Setor  Ativo\n",
       "ABEV3           Cons N Cíclico / Bebidas  ABEV3\n",
       "ALPA4  Consumo Cíclico / Tecid Vest Calç  ALPA4\n",
       "AMER3         Consumo Cíclico / Comércio  AMER3\n",
       "ASAI3   Cons N Cíclico / Comércio Distr.  ASAI3\n",
       "AZUL4              Bens Indls/Transporte  AZUL4\n",
       "...                                  ...    ...\n",
       "VBBR3    Petróleo/ Gás e Biocombustíveis  VBBR3\n",
       "VIIA3         Consumo Cíclico / Comércio  VIIA3\n",
       "VIVT3                    Telecomunicação  VIVT3\n",
       "WEGE3         Bens Indls / Máqs e Equips  WEGE3\n",
       "YDUQ3                           Diversos  YDUQ3\n",
       "\n",
       "[91 rows x 2 columns]"
      ]
     },
     "execution_count": 61,
     "metadata": {},
     "output_type": "execute_result"
    }
   ],
   "source": [
    "data_setorial['Ativo'] = data_setorial.index\n",
    "data_setorial"
   ]
  },
  {
   "cell_type": "code",
   "execution_count": 62,
   "id": "823053f8",
   "metadata": {},
   "outputs": [
    {
     "data": {
      "text/html": [
       "<div>\n",
       "<style scoped>\n",
       "    .dataframe tbody tr th:only-of-type {\n",
       "        vertical-align: middle;\n",
       "    }\n",
       "\n",
       "    .dataframe tbody tr th {\n",
       "        vertical-align: top;\n",
       "    }\n",
       "\n",
       "    .dataframe thead th {\n",
       "        text-align: right;\n",
       "    }\n",
       "</style>\n",
       "<table border=\"1\" class=\"dataframe\">\n",
       "  <thead>\n",
       "    <tr style=\"text-align: right;\">\n",
       "      <th></th>\n",
       "      <th>Setor</th>\n",
       "      <th>Ativo</th>\n",
       "      <th>open</th>\n",
       "      <th>close</th>\n",
       "      <th>Resultado_%</th>\n",
       "    </tr>\n",
       "  </thead>\n",
       "  <tbody>\n",
       "    <tr>\n",
       "      <th>0</th>\n",
       "      <td>Cons N Cíclico / Bebidas</td>\n",
       "      <td>ABEV3</td>\n",
       "      <td>14.76</td>\n",
       "      <td>14.45</td>\n",
       "      <td>-2.100271</td>\n",
       "    </tr>\n",
       "    <tr>\n",
       "      <th>1</th>\n",
       "      <td>Consumo Cíclico / Tecid Vest Calç</td>\n",
       "      <td>ALPA4</td>\n",
       "      <td>20.90</td>\n",
       "      <td>19.51</td>\n",
       "      <td>-6.650718</td>\n",
       "    </tr>\n",
       "    <tr>\n",
       "      <th>2</th>\n",
       "      <td>Consumo Cíclico / Comércio</td>\n",
       "      <td>AMER3</td>\n",
       "      <td>26.50</td>\n",
       "      <td>23.96</td>\n",
       "      <td>-9.584906</td>\n",
       "    </tr>\n",
       "    <tr>\n",
       "      <th>3</th>\n",
       "      <td>Cons N Cíclico / Comércio Distr.</td>\n",
       "      <td>ASAI3</td>\n",
       "      <td>15.99</td>\n",
       "      <td>15.20</td>\n",
       "      <td>-4.940588</td>\n",
       "    </tr>\n",
       "    <tr>\n",
       "      <th>4</th>\n",
       "      <td>Bens Indls/Transporte</td>\n",
       "      <td>AZUL4</td>\n",
       "      <td>23.09</td>\n",
       "      <td>21.85</td>\n",
       "      <td>-5.370290</td>\n",
       "    </tr>\n",
       "    <tr>\n",
       "      <th>...</th>\n",
       "      <td>...</td>\n",
       "      <td>...</td>\n",
       "      <td>...</td>\n",
       "      <td>...</td>\n",
       "      <td>...</td>\n",
       "    </tr>\n",
       "    <tr>\n",
       "      <th>86</th>\n",
       "      <td>Petróleo/ Gás e Biocombustíveis</td>\n",
       "      <td>VBBR3</td>\n",
       "      <td>22.00</td>\n",
       "      <td>20.94</td>\n",
       "      <td>-4.818182</td>\n",
       "    </tr>\n",
       "    <tr>\n",
       "      <th>87</th>\n",
       "      <td>Consumo Cíclico / Comércio</td>\n",
       "      <td>VIIA3</td>\n",
       "      <td>3.10</td>\n",
       "      <td>2.97</td>\n",
       "      <td>-4.193548</td>\n",
       "    </tr>\n",
       "    <tr>\n",
       "      <th>88</th>\n",
       "      <td>Telecomunicação</td>\n",
       "      <td>VIVT3</td>\n",
       "      <td>51.38</td>\n",
       "      <td>52.96</td>\n",
       "      <td>3.075127</td>\n",
       "    </tr>\n",
       "    <tr>\n",
       "      <th>89</th>\n",
       "      <td>Bens Indls / Máqs e Equips</td>\n",
       "      <td>WEGE3</td>\n",
       "      <td>31.03</td>\n",
       "      <td>30.15</td>\n",
       "      <td>-2.835965</td>\n",
       "    </tr>\n",
       "    <tr>\n",
       "      <th>90</th>\n",
       "      <td>Diversos</td>\n",
       "      <td>YDUQ3</td>\n",
       "      <td>16.10</td>\n",
       "      <td>16.12</td>\n",
       "      <td>0.124224</td>\n",
       "    </tr>\n",
       "  </tbody>\n",
       "</table>\n",
       "<p>91 rows × 5 columns</p>\n",
       "</div>"
      ],
      "text/plain": [
       "                                Setor  Ativo   open  close  Resultado_%\n",
       "0            Cons N Cíclico / Bebidas  ABEV3  14.76  14.45    -2.100271\n",
       "1   Consumo Cíclico / Tecid Vest Calç  ALPA4  20.90  19.51    -6.650718\n",
       "2          Consumo Cíclico / Comércio  AMER3  26.50  23.96    -9.584906\n",
       "3    Cons N Cíclico / Comércio Distr.  ASAI3  15.99  15.20    -4.940588\n",
       "4               Bens Indls/Transporte  AZUL4  23.09  21.85    -5.370290\n",
       "..                                ...    ...    ...    ...          ...\n",
       "86    Petróleo/ Gás e Biocombustíveis  VBBR3  22.00  20.94    -4.818182\n",
       "87         Consumo Cíclico / Comércio  VIIA3   3.10   2.97    -4.193548\n",
       "88                    Telecomunicação  VIVT3  51.38  52.96     3.075127\n",
       "89         Bens Indls / Máqs e Equips  WEGE3  31.03  30.15    -2.835965\n",
       "90                           Diversos  YDUQ3  16.10  16.12     0.124224\n",
       "\n",
       "[91 rows x 5 columns]"
      ]
     },
     "execution_count": 62,
     "metadata": {},
     "output_type": "execute_result"
    }
   ],
   "source": [
    "resultados_setor_01 = pd.merge(data_setorial, df_cotacoes_final,on ='Ativo',how ='inner')\n",
    "resultados_setor_01"
   ]
  },
  {
   "cell_type": "code",
   "execution_count": 63,
   "id": "66ac1901",
   "metadata": {},
   "outputs": [
    {
     "data": {
      "text/html": [
       "<div>\n",
       "<style scoped>\n",
       "    .dataframe tbody tr th:only-of-type {\n",
       "        vertical-align: middle;\n",
       "    }\n",
       "\n",
       "    .dataframe tbody tr th {\n",
       "        vertical-align: top;\n",
       "    }\n",
       "\n",
       "    .dataframe thead th {\n",
       "        text-align: right;\n",
       "    }\n",
       "</style>\n",
       "<table border=\"1\" class=\"dataframe\">\n",
       "  <thead>\n",
       "    <tr style=\"text-align: right;\">\n",
       "      <th></th>\n",
       "      <th>Resultado_%</th>\n",
       "    </tr>\n",
       "    <tr>\n",
       "      <th>Setor</th>\n",
       "      <th></th>\n",
       "    </tr>\n",
       "  </thead>\n",
       "  <tbody>\n",
       "    <tr>\n",
       "      <th>Saúde/SM Hosp An.Diag</th>\n",
       "      <td>-8.159566</td>\n",
       "    </tr>\n",
       "    <tr>\n",
       "      <th>Cons N Cíclico / Pr Pessoal Limp</th>\n",
       "      <td>-7.779980</td>\n",
       "    </tr>\n",
       "    <tr>\n",
       "      <th>Tec.Informação/Programas Servs</th>\n",
       "      <td>-6.709919</td>\n",
       "    </tr>\n",
       "    <tr>\n",
       "      <th>Comput e Equips</th>\n",
       "      <td>-6.682578</td>\n",
       "    </tr>\n",
       "    <tr>\n",
       "      <th>Consumo Cíclico / Tecid Vest Calç</th>\n",
       "      <td>-6.650718</td>\n",
       "    </tr>\n",
       "    <tr>\n",
       "      <th>Consumo Cíclico / Comércio</th>\n",
       "      <td>-6.551845</td>\n",
       "    </tr>\n",
       "    <tr>\n",
       "      <th>Financ e Outros / Interms Financs</th>\n",
       "      <td>-5.781193</td>\n",
       "    </tr>\n",
       "    <tr>\n",
       "      <th>Bens Indls/Transporte</th>\n",
       "      <td>-5.779081</td>\n",
       "    </tr>\n",
       "    <tr>\n",
       "      <th>Cons N Cíclico / Comércio Distr.</th>\n",
       "      <td>-5.250600</td>\n",
       "    </tr>\n",
       "    <tr>\n",
       "      <th>Utilidade Públ / Água Saneamento</th>\n",
       "      <td>-4.467578</td>\n",
       "    </tr>\n",
       "    <tr>\n",
       "      <th>Saúde/Comércio Distr.</th>\n",
       "      <td>-4.153605</td>\n",
       "    </tr>\n",
       "    <tr>\n",
       "      <th>Financ e Outros / Previd  Seguros</th>\n",
       "      <td>-3.722190</td>\n",
       "    </tr>\n",
       "    <tr>\n",
       "      <th>Financeiro e Outros/Serviços Financeiros Diversos</th>\n",
       "      <td>-3.581461</td>\n",
       "    </tr>\n",
       "    <tr>\n",
       "      <th>Bens Indls / Máqs e Equips</th>\n",
       "      <td>-2.835965</td>\n",
       "    </tr>\n",
       "    <tr>\n",
       "      <th>Mats Básicos / Madeira e Papel</th>\n",
       "      <td>-2.556751</td>\n",
       "    </tr>\n",
       "    <tr>\n",
       "      <th>Diversos</th>\n",
       "      <td>-2.518677</td>\n",
       "    </tr>\n",
       "    <tr>\n",
       "      <th>Cons N Cíclico / Bebidas</th>\n",
       "      <td>-2.100271</td>\n",
       "    </tr>\n",
       "    <tr>\n",
       "      <th>Consumo Cíclico/Viagens e Lazer</th>\n",
       "      <td>-1.340283</td>\n",
       "    </tr>\n",
       "    <tr>\n",
       "      <th>Consumo Cíclico/Constr Civil</th>\n",
       "      <td>-0.899546</td>\n",
       "    </tr>\n",
       "    <tr>\n",
       "      <th>Mats Básicos / Sid Metalurgia</th>\n",
       "      <td>-0.536610</td>\n",
       "    </tr>\n",
       "    <tr>\n",
       "      <th>Cons N  Básico / Alimentos Processados</th>\n",
       "      <td>-0.120345</td>\n",
       "    </tr>\n",
       "    <tr>\n",
       "      <th>Telecomunicação</th>\n",
       "      <td>0.442673</td>\n",
       "    </tr>\n",
       "    <tr>\n",
       "      <th>Utilidade Públ / Energ Elétrica</th>\n",
       "      <td>0.616259</td>\n",
       "    </tr>\n",
       "    <tr>\n",
       "      <th>Mats Básicos / Químicos</th>\n",
       "      <td>0.725726</td>\n",
       "    </tr>\n",
       "    <tr>\n",
       "      <th>Petróleo/ Gás e Biocombustíveis</th>\n",
       "      <td>0.825442</td>\n",
       "    </tr>\n",
       "    <tr>\n",
       "      <th>Mats Básicos / Mineração</th>\n",
       "      <td>3.694064</td>\n",
       "    </tr>\n",
       "    <tr>\n",
       "      <th>Financ e Outros / Explor Imóveis</th>\n",
       "      <td>4.199651</td>\n",
       "    </tr>\n",
       "    <tr>\n",
       "      <th>Bens Indls / Mat Transporte</th>\n",
       "      <td>5.243722</td>\n",
       "    </tr>\n",
       "  </tbody>\n",
       "</table>\n",
       "</div>"
      ],
      "text/plain": [
       "                                                   Resultado_%\n",
       "Setor                                                         \n",
       "Saúde/SM Hosp An.Diag                                -8.159566\n",
       "Cons N Cíclico / Pr Pessoal Limp                     -7.779980\n",
       "Tec.Informação/Programas Servs                       -6.709919\n",
       "Comput e Equips                                      -6.682578\n",
       "Consumo Cíclico / Tecid Vest Calç                    -6.650718\n",
       "Consumo Cíclico / Comércio                           -6.551845\n",
       "Financ e Outros / Interms Financs                    -5.781193\n",
       "Bens Indls/Transporte                                -5.779081\n",
       "Cons N Cíclico / Comércio Distr.                     -5.250600\n",
       "Utilidade Públ / Água Saneamento                     -4.467578\n",
       "Saúde/Comércio Distr.                                -4.153605\n",
       "Financ e Outros / Previd  Seguros                    -3.722190\n",
       "Financeiro e Outros/Serviços Financeiros Diversos    -3.581461\n",
       "Bens Indls / Máqs e Equips                           -2.835965\n",
       "Mats Básicos / Madeira e Papel                       -2.556751\n",
       "Diversos                                             -2.518677\n",
       "Cons N Cíclico / Bebidas                             -2.100271\n",
       "Consumo Cíclico/Viagens e Lazer                      -1.340283\n",
       "Consumo Cíclico/Constr Civil                         -0.899546\n",
       "Mats Básicos / Sid Metalurgia                        -0.536610\n",
       "Cons N  Básico / Alimentos Processados               -0.120345\n",
       "Telecomunicação                                       0.442673\n",
       "Utilidade Públ / Energ Elétrica                       0.616259\n",
       "Mats Básicos / Químicos                               0.725726\n",
       "Petróleo/ Gás e Biocombustíveis                       0.825442\n",
       "Mats Básicos / Mineração                              3.694064\n",
       "Financ e Outros / Explor Imóveis                      4.199651\n",
       "Bens Indls / Mat Transporte                           5.243722"
      ]
     },
     "execution_count": 63,
     "metadata": {},
     "output_type": "execute_result"
    }
   ],
   "source": [
    "pivot_table_result_setor = pd.pivot_table(resultados_setor_01, values=\"Resultado_%\",index=[\"Setor\"], columns=[],aggfunc=np.mean)\n",
    "pivot_table_result_setor.sort_values('Resultado_%',ascending=True)"
   ]
  },
  {
   "cell_type": "code",
   "execution_count": 64,
   "id": "044486ea",
   "metadata": {},
   "outputs": [
    {
     "data": {
      "text/html": [
       "<div>\n",
       "<style scoped>\n",
       "    .dataframe tbody tr th:only-of-type {\n",
       "        vertical-align: middle;\n",
       "    }\n",
       "\n",
       "    .dataframe tbody tr th {\n",
       "        vertical-align: top;\n",
       "    }\n",
       "\n",
       "    .dataframe thead th {\n",
       "        text-align: right;\n",
       "    }\n",
       "</style>\n",
       "<table border=\"1\" class=\"dataframe\">\n",
       "  <thead>\n",
       "    <tr style=\"text-align: right;\">\n",
       "      <th></th>\n",
       "      <th>Setor</th>\n",
       "      <th>Ativo</th>\n",
       "      <th>open</th>\n",
       "      <th>close</th>\n",
       "      <th>Resultado_%</th>\n",
       "      <th>Setor_geral</th>\n",
       "    </tr>\n",
       "  </thead>\n",
       "  <tbody>\n",
       "    <tr>\n",
       "      <th>0</th>\n",
       "      <td>Cons N Cíclico / Bebidas</td>\n",
       "      <td>ABEV3</td>\n",
       "      <td>14.76</td>\n",
       "      <td>14.45</td>\n",
       "      <td>-2.100271</td>\n",
       "      <td>Cons N Cíclico</td>\n",
       "    </tr>\n",
       "    <tr>\n",
       "      <th>1</th>\n",
       "      <td>Consumo Cíclico / Tecid Vest Calç</td>\n",
       "      <td>ALPA4</td>\n",
       "      <td>20.90</td>\n",
       "      <td>19.51</td>\n",
       "      <td>-6.650718</td>\n",
       "      <td>Consumo Cíclico</td>\n",
       "    </tr>\n",
       "    <tr>\n",
       "      <th>2</th>\n",
       "      <td>Consumo Cíclico / Comércio</td>\n",
       "      <td>AMER3</td>\n",
       "      <td>26.50</td>\n",
       "      <td>23.96</td>\n",
       "      <td>-9.584906</td>\n",
       "      <td>Consumo Cíclico</td>\n",
       "    </tr>\n",
       "    <tr>\n",
       "      <th>3</th>\n",
       "      <td>Cons N Cíclico / Comércio Distr.</td>\n",
       "      <td>ASAI3</td>\n",
       "      <td>15.99</td>\n",
       "      <td>15.20</td>\n",
       "      <td>-4.940588</td>\n",
       "      <td>Cons N Cíclico</td>\n",
       "    </tr>\n",
       "    <tr>\n",
       "      <th>4</th>\n",
       "      <td>Bens Indls/Transporte</td>\n",
       "      <td>AZUL4</td>\n",
       "      <td>23.09</td>\n",
       "      <td>21.85</td>\n",
       "      <td>-5.370290</td>\n",
       "      <td>Bens Indls</td>\n",
       "    </tr>\n",
       "    <tr>\n",
       "      <th>...</th>\n",
       "      <td>...</td>\n",
       "      <td>...</td>\n",
       "      <td>...</td>\n",
       "      <td>...</td>\n",
       "      <td>...</td>\n",
       "      <td>...</td>\n",
       "    </tr>\n",
       "    <tr>\n",
       "      <th>86</th>\n",
       "      <td>Petróleo/ Gás e Biocombustíveis</td>\n",
       "      <td>VBBR3</td>\n",
       "      <td>22.00</td>\n",
       "      <td>20.94</td>\n",
       "      <td>-4.818182</td>\n",
       "      <td>Petróleo</td>\n",
       "    </tr>\n",
       "    <tr>\n",
       "      <th>87</th>\n",
       "      <td>Consumo Cíclico / Comércio</td>\n",
       "      <td>VIIA3</td>\n",
       "      <td>3.10</td>\n",
       "      <td>2.97</td>\n",
       "      <td>-4.193548</td>\n",
       "      <td>Consumo Cíclico</td>\n",
       "    </tr>\n",
       "    <tr>\n",
       "      <th>88</th>\n",
       "      <td>Telecomunicação</td>\n",
       "      <td>VIVT3</td>\n",
       "      <td>51.38</td>\n",
       "      <td>52.96</td>\n",
       "      <td>3.075127</td>\n",
       "      <td>Telecomunicação</td>\n",
       "    </tr>\n",
       "    <tr>\n",
       "      <th>89</th>\n",
       "      <td>Bens Indls / Máqs e Equips</td>\n",
       "      <td>WEGE3</td>\n",
       "      <td>31.03</td>\n",
       "      <td>30.15</td>\n",
       "      <td>-2.835965</td>\n",
       "      <td>Bens Indls</td>\n",
       "    </tr>\n",
       "    <tr>\n",
       "      <th>90</th>\n",
       "      <td>Diversos</td>\n",
       "      <td>YDUQ3</td>\n",
       "      <td>16.10</td>\n",
       "      <td>16.12</td>\n",
       "      <td>0.124224</td>\n",
       "      <td>Diversos</td>\n",
       "    </tr>\n",
       "  </tbody>\n",
       "</table>\n",
       "<p>91 rows × 6 columns</p>\n",
       "</div>"
      ],
      "text/plain": [
       "                                Setor  Ativo   open  close  Resultado_%  \\\n",
       "0            Cons N Cíclico / Bebidas  ABEV3  14.76  14.45    -2.100271   \n",
       "1   Consumo Cíclico / Tecid Vest Calç  ALPA4  20.90  19.51    -6.650718   \n",
       "2          Consumo Cíclico / Comércio  AMER3  26.50  23.96    -9.584906   \n",
       "3    Cons N Cíclico / Comércio Distr.  ASAI3  15.99  15.20    -4.940588   \n",
       "4               Bens Indls/Transporte  AZUL4  23.09  21.85    -5.370290   \n",
       "..                                ...    ...    ...    ...          ...   \n",
       "86    Petróleo/ Gás e Biocombustíveis  VBBR3  22.00  20.94    -4.818182   \n",
       "87         Consumo Cíclico / Comércio  VIIA3   3.10   2.97    -4.193548   \n",
       "88                    Telecomunicação  VIVT3  51.38  52.96     3.075127   \n",
       "89         Bens Indls / Máqs e Equips  WEGE3  31.03  30.15    -2.835965   \n",
       "90                           Diversos  YDUQ3  16.10  16.12     0.124224   \n",
       "\n",
       "         Setor_geral  \n",
       "0    Cons N Cíclico   \n",
       "1   Consumo Cíclico   \n",
       "2   Consumo Cíclico   \n",
       "3    Cons N Cíclico   \n",
       "4         Bens Indls  \n",
       "..               ...  \n",
       "86          Petróleo  \n",
       "87  Consumo Cíclico   \n",
       "88   Telecomunicação  \n",
       "89       Bens Indls   \n",
       "90          Diversos  \n",
       "\n",
       "[91 rows x 6 columns]"
      ]
     },
     "execution_count": 64,
     "metadata": {},
     "output_type": "execute_result"
    }
   ],
   "source": [
    "setor_geral = resultados_setor_01['Setor'].str.split('/')\n",
    "resultados_setor_01['Setor_geral'] = setor_geral.str.get(0)\n",
    "resultados_setor_01"
   ]
  },
  {
   "cell_type": "code",
   "execution_count": 65,
   "id": "9b1bcf20",
   "metadata": {},
   "outputs": [
    {
     "data": {
      "text/html": [
       "<div>\n",
       "<style scoped>\n",
       "    .dataframe tbody tr th:only-of-type {\n",
       "        vertical-align: middle;\n",
       "    }\n",
       "\n",
       "    .dataframe tbody tr th {\n",
       "        vertical-align: top;\n",
       "    }\n",
       "\n",
       "    .dataframe thead tr th {\n",
       "        text-align: left;\n",
       "    }\n",
       "\n",
       "    .dataframe thead tr:last-of-type th {\n",
       "        text-align: right;\n",
       "    }\n",
       "</style>\n",
       "<table border=\"1\" class=\"dataframe\">\n",
       "  <thead>\n",
       "    <tr>\n",
       "      <th></th>\n",
       "      <th>count</th>\n",
       "      <th>mean</th>\n",
       "    </tr>\n",
       "    <tr>\n",
       "      <th></th>\n",
       "      <th>Resultado_%</th>\n",
       "      <th>Resultado_%</th>\n",
       "    </tr>\n",
       "    <tr>\n",
       "      <th>Setor_geral</th>\n",
       "      <th></th>\n",
       "      <th></th>\n",
       "    </tr>\n",
       "  </thead>\n",
       "  <tbody>\n",
       "    <tr>\n",
       "      <th>Bens Indls</th>\n",
       "      <td>5</td>\n",
       "      <td>-5.779081</td>\n",
       "    </tr>\n",
       "    <tr>\n",
       "      <th>Bens Indls</th>\n",
       "      <td>2</td>\n",
       "      <td>1.203879</td>\n",
       "    </tr>\n",
       "    <tr>\n",
       "      <th>Comput e Equips</th>\n",
       "      <td>1</td>\n",
       "      <td>-6.682578</td>\n",
       "    </tr>\n",
       "    <tr>\n",
       "      <th>Cons N  Básico</th>\n",
       "      <td>4</td>\n",
       "      <td>-0.120345</td>\n",
       "    </tr>\n",
       "    <tr>\n",
       "      <th>Cons N Cíclico</th>\n",
       "      <td>5</td>\n",
       "      <td>-5.126410</td>\n",
       "    </tr>\n",
       "    <tr>\n",
       "      <th>Consumo Cíclico</th>\n",
       "      <td>5</td>\n",
       "      <td>-0.987694</td>\n",
       "    </tr>\n",
       "    <tr>\n",
       "      <th>Consumo Cíclico</th>\n",
       "      <td>7</td>\n",
       "      <td>-6.565970</td>\n",
       "    </tr>\n",
       "    <tr>\n",
       "      <th>Diversos</th>\n",
       "      <td>4</td>\n",
       "      <td>-2.518677</td>\n",
       "    </tr>\n",
       "    <tr>\n",
       "      <th>Financ e Outros</th>\n",
       "      <td>15</td>\n",
       "      <td>-3.373224</td>\n",
       "    </tr>\n",
       "    <tr>\n",
       "      <th>Financeiro e Outros</th>\n",
       "      <td>2</td>\n",
       "      <td>-3.581461</td>\n",
       "    </tr>\n",
       "    <tr>\n",
       "      <th>Mats Básicos</th>\n",
       "      <td>11</td>\n",
       "      <td>0.181020</td>\n",
       "    </tr>\n",
       "    <tr>\n",
       "      <th>Petróleo</th>\n",
       "      <td>7</td>\n",
       "      <td>0.825442</td>\n",
       "    </tr>\n",
       "    <tr>\n",
       "      <th>Saúde</th>\n",
       "      <td>6</td>\n",
       "      <td>-6.824246</td>\n",
       "    </tr>\n",
       "    <tr>\n",
       "      <th>Tec.Informação</th>\n",
       "      <td>3</td>\n",
       "      <td>-6.709919</td>\n",
       "    </tr>\n",
       "    <tr>\n",
       "      <th>Telecomunicação</th>\n",
       "      <td>2</td>\n",
       "      <td>0.442673</td>\n",
       "    </tr>\n",
       "    <tr>\n",
       "      <th>Utilidade Públ</th>\n",
       "      <td>12</td>\n",
       "      <td>0.192606</td>\n",
       "    </tr>\n",
       "  </tbody>\n",
       "</table>\n",
       "</div>"
      ],
      "text/plain": [
       "                          count        mean\n",
       "                    Resultado_% Resultado_%\n",
       "Setor_geral                                \n",
       "Bens Indls                    5   -5.779081\n",
       "Bens Indls                    2    1.203879\n",
       "Comput e Equips               1   -6.682578\n",
       "Cons N  Básico                4   -0.120345\n",
       "Cons N Cíclico                5   -5.126410\n",
       "Consumo Cíclico               5   -0.987694\n",
       "Consumo Cíclico               7   -6.565970\n",
       "Diversos                      4   -2.518677\n",
       "Financ e Outros              15   -3.373224\n",
       "Financeiro e Outros           2   -3.581461\n",
       "Mats Básicos                 11    0.181020\n",
       "Petróleo                      7    0.825442\n",
       "Saúde                         6   -6.824246\n",
       "Tec.Informação                3   -6.709919\n",
       "Telecomunicação               2    0.442673\n",
       "Utilidade Públ               12    0.192606"
      ]
     },
     "execution_count": 65,
     "metadata": {},
     "output_type": "execute_result"
    }
   ],
   "source": [
    "pivot_table_result_setor_geral = pd.pivot_table(resultados_setor_01, values=\"Resultado_%\",index=[\"Setor_geral\"], columns=[],aggfunc=['count',np.mean])\n",
    "pivot_table_result_setor_geral"
   ]
  },
  {
   "cell_type": "code",
   "execution_count": 66,
   "id": "6fd0ba47",
   "metadata": {},
   "outputs": [
    {
     "data": {
      "text/html": [
       "<div>\n",
       "<style scoped>\n",
       "    .dataframe tbody tr th:only-of-type {\n",
       "        vertical-align: middle;\n",
       "    }\n",
       "\n",
       "    .dataframe tbody tr th {\n",
       "        vertical-align: top;\n",
       "    }\n",
       "\n",
       "    .dataframe thead tr th {\n",
       "        text-align: left;\n",
       "    }\n",
       "\n",
       "    .dataframe thead tr:last-of-type th {\n",
       "        text-align: right;\n",
       "    }\n",
       "</style>\n",
       "<table border=\"1\" class=\"dataframe\">\n",
       "  <thead>\n",
       "    <tr>\n",
       "      <th></th>\n",
       "      <th>count</th>\n",
       "      <th>mean</th>\n",
       "    </tr>\n",
       "    <tr>\n",
       "      <th></th>\n",
       "      <th>Resultado_%</th>\n",
       "      <th>Resultado_%</th>\n",
       "    </tr>\n",
       "    <tr>\n",
       "      <th>Setor_geral</th>\n",
       "      <th></th>\n",
       "      <th></th>\n",
       "    </tr>\n",
       "  </thead>\n",
       "  <tbody>\n",
       "    <tr>\n",
       "      <th>Bens Indls</th>\n",
       "      <td>7</td>\n",
       "      <td>-3.783950</td>\n",
       "    </tr>\n",
       "    <tr>\n",
       "      <th>Comput e Equips</th>\n",
       "      <td>1</td>\n",
       "      <td>-6.682578</td>\n",
       "    </tr>\n",
       "    <tr>\n",
       "      <th>Cons N  Básico</th>\n",
       "      <td>4</td>\n",
       "      <td>-0.120345</td>\n",
       "    </tr>\n",
       "    <tr>\n",
       "      <th>Cons N Cíclico</th>\n",
       "      <td>5</td>\n",
       "      <td>-5.126410</td>\n",
       "    </tr>\n",
       "    <tr>\n",
       "      <th>Consumo Cíclico</th>\n",
       "      <td>12</td>\n",
       "      <td>-4.241688</td>\n",
       "    </tr>\n",
       "    <tr>\n",
       "      <th>Diversos</th>\n",
       "      <td>4</td>\n",
       "      <td>-2.518677</td>\n",
       "    </tr>\n",
       "    <tr>\n",
       "      <th>Financeiro e Outros</th>\n",
       "      <td>17</td>\n",
       "      <td>-3.397722</td>\n",
       "    </tr>\n",
       "    <tr>\n",
       "      <th>Mats Básicos</th>\n",
       "      <td>11</td>\n",
       "      <td>0.181020</td>\n",
       "    </tr>\n",
       "    <tr>\n",
       "      <th>Petróleo</th>\n",
       "      <td>7</td>\n",
       "      <td>0.825442</td>\n",
       "    </tr>\n",
       "    <tr>\n",
       "      <th>Saúde</th>\n",
       "      <td>6</td>\n",
       "      <td>-6.824246</td>\n",
       "    </tr>\n",
       "    <tr>\n",
       "      <th>Tec. Informação</th>\n",
       "      <td>3</td>\n",
       "      <td>-6.709919</td>\n",
       "    </tr>\n",
       "    <tr>\n",
       "      <th>Telecomunicação</th>\n",
       "      <td>2</td>\n",
       "      <td>0.442673</td>\n",
       "    </tr>\n",
       "    <tr>\n",
       "      <th>Utilidade Públ</th>\n",
       "      <td>12</td>\n",
       "      <td>0.192606</td>\n",
       "    </tr>\n",
       "  </tbody>\n",
       "</table>\n",
       "</div>"
      ],
      "text/plain": [
       "                          count        mean\n",
       "                    Resultado_% Resultado_%\n",
       "Setor_geral                                \n",
       "Bens Indls                    7   -3.783950\n",
       "Comput e Equips               1   -6.682578\n",
       "Cons N  Básico                4   -0.120345\n",
       "Cons N Cíclico                5   -5.126410\n",
       "Consumo Cíclico              12   -4.241688\n",
       "Diversos                      4   -2.518677\n",
       "Financeiro e Outros          17   -3.397722\n",
       "Mats Básicos                 11    0.181020\n",
       "Petróleo                      7    0.825442\n",
       "Saúde                         6   -6.824246\n",
       "Tec. Informação               3   -6.709919\n",
       "Telecomunicação               2    0.442673\n",
       "Utilidade Públ               12    0.192606"
      ]
     },
     "execution_count": 66,
     "metadata": {},
     "output_type": "execute_result"
    }
   ],
   "source": [
    "resultados_setor_02 = resultados_setor_01.replace(to_replace=r' $', value='',regex=True)\n",
    "resultados_setor_03 = resultados_setor_02.replace('Financ e Outros','Financeiro e Outros')\n",
    "resultados_setor_04 = resultados_setor_03.replace('Tec.Informação','Tec. Informação')\n",
    "pivot_table_result_setor_geral = pd.pivot_table(resultados_setor_04, values=\"Resultado_%\",index=[\"Setor_geral\"], columns=[],aggfunc=['count',np.mean])\n",
    "pivot_table_result_setor_geral"
   ]
  },
  {
   "cell_type": "code",
   "execution_count": 67,
   "id": "bc55dd3c",
   "metadata": {},
   "outputs": [
    {
     "data": {
      "text/html": [
       "<div>\n",
       "<style scoped>\n",
       "    .dataframe tbody tr th:only-of-type {\n",
       "        vertical-align: middle;\n",
       "    }\n",
       "\n",
       "    .dataframe tbody tr th {\n",
       "        vertical-align: top;\n",
       "    }\n",
       "\n",
       "    .dataframe thead th {\n",
       "        text-align: right;\n",
       "    }\n",
       "</style>\n",
       "<table border=\"1\" class=\"dataframe\">\n",
       "  <thead>\n",
       "    <tr style=\"text-align: right;\">\n",
       "      <th></th>\n",
       "      <th>count</th>\n",
       "      <th>mean</th>\n",
       "    </tr>\n",
       "    <tr>\n",
       "      <th>Setor_geral</th>\n",
       "      <th></th>\n",
       "      <th></th>\n",
       "    </tr>\n",
       "  </thead>\n",
       "  <tbody>\n",
       "    <tr>\n",
       "      <th>Bens Indls</th>\n",
       "      <td>7</td>\n",
       "      <td>-3.783950</td>\n",
       "    </tr>\n",
       "    <tr>\n",
       "      <th>Cons N  Básico</th>\n",
       "      <td>4</td>\n",
       "      <td>-0.120345</td>\n",
       "    </tr>\n",
       "    <tr>\n",
       "      <th>Cons N Cíclico</th>\n",
       "      <td>5</td>\n",
       "      <td>-5.126410</td>\n",
       "    </tr>\n",
       "    <tr>\n",
       "      <th>Consumo Cíclico</th>\n",
       "      <td>12</td>\n",
       "      <td>-4.241688</td>\n",
       "    </tr>\n",
       "    <tr>\n",
       "      <th>Diversos</th>\n",
       "      <td>4</td>\n",
       "      <td>-2.518677</td>\n",
       "    </tr>\n",
       "    <tr>\n",
       "      <th>Financeiro e Outros</th>\n",
       "      <td>17</td>\n",
       "      <td>-3.397722</td>\n",
       "    </tr>\n",
       "    <tr>\n",
       "      <th>Mats Básicos</th>\n",
       "      <td>11</td>\n",
       "      <td>0.181020</td>\n",
       "    </tr>\n",
       "    <tr>\n",
       "      <th>Petróleo</th>\n",
       "      <td>7</td>\n",
       "      <td>0.825442</td>\n",
       "    </tr>\n",
       "    <tr>\n",
       "      <th>Saúde</th>\n",
       "      <td>6</td>\n",
       "      <td>-6.824246</td>\n",
       "    </tr>\n",
       "    <tr>\n",
       "      <th>Tec. Informação</th>\n",
       "      <td>3</td>\n",
       "      <td>-6.709919</td>\n",
       "    </tr>\n",
       "    <tr>\n",
       "      <th>Telecomunicação</th>\n",
       "      <td>2</td>\n",
       "      <td>0.442673</td>\n",
       "    </tr>\n",
       "    <tr>\n",
       "      <th>Utilidade Públ</th>\n",
       "      <td>12</td>\n",
       "      <td>0.192606</td>\n",
       "    </tr>\n",
       "  </tbody>\n",
       "</table>\n",
       "</div>"
      ],
      "text/plain": [
       "                     count      mean\n",
       "Setor_geral                         \n",
       "Bens Indls               7 -3.783950\n",
       "Cons N  Básico           4 -0.120345\n",
       "Cons N Cíclico           5 -5.126410\n",
       "Consumo Cíclico         12 -4.241688\n",
       "Diversos                 4 -2.518677\n",
       "Financeiro e Outros     17 -3.397722\n",
       "Mats Básicos            11  0.181020\n",
       "Petróleo                 7  0.825442\n",
       "Saúde                    6 -6.824246\n",
       "Tec. Informação          3 -6.709919\n",
       "Telecomunicação          2  0.442673\n",
       "Utilidade Públ          12  0.192606"
      ]
     },
     "execution_count": 67,
     "metadata": {},
     "output_type": "execute_result"
    }
   ],
   "source": [
    "pivot_table_result_setor_geral = pivot_table_result_setor_geral[pivot_table_result_setor_geral.index!=\"Comput e Equips\"]\n",
    "pivot_table_result_setor_geral.columns = pivot_table_result_setor_geral.columns.droplevel(1)\n",
    "pivot_table_result_setor_geral"
   ]
  },
  {
   "cell_type": "code",
   "execution_count": 68,
   "id": "5bca8042",
   "metadata": {},
   "outputs": [],
   "source": [
    "pivot_table_result_setor_geral2 = pivot_table_result_setor_geral.sort_values(by='mean',ascending=False)\n",
    "pivot_table_result_setor_geral2[\"Color\"] = np.where(pivot_table_result_setor_geral2[\"mean\"] < 0, 'red', 'green')"
   ]
  },
  {
   "cell_type": "code",
   "execution_count": 74,
   "id": "180cf171",
   "metadata": {},
   "outputs": [
    {
     "data": {
      "application/vnd.plotly.v1+json": {
       "config": {
        "plotlyServerURL": "https://plot.ly"
       },
       "data": [
        {
         "marker": {
          "color": [
           "green",
           "green",
           "green",
           "green",
           "red",
           "red",
           "red",
           "red",
           "red",
           "red",
           "red",
           "red"
          ]
         },
         "name": "Net",
         "orientation": "h",
         "type": "bar",
         "x": [
          0.8254421041897873,
          0.44267274323560457,
          0.19260628618634235,
          0.18102034002164447,
          -0.12034530867762544,
          -2.5186769163011493,
          -3.39772206517976,
          -3.7839497391838934,
          -4.241687963057646,
          -5.126410432836743,
          -6.709918540015024,
          -6.824245709707988
         ],
         "y": [
          "Petróleo",
          "Telecomunicação",
          "Utilidade Públ",
          "Mats Básicos",
          "Cons N  Básico",
          "Diversos",
          "Financeiro e Outros",
          "Bens Indls",
          "Consumo Cíclico",
          "Cons N Cíclico",
          "Tec. Informação",
          "Saúde"
         ]
        }
       ],
       "layout": {
        "annotations": [
         {
          "font": {
           "color": "black",
           "family": "Arial",
           "size": 25
          },
          "showarrow": false,
          "text": "0.83%",
          "x": 1.83,
          "xref": "x",
          "y": "Petróleo",
          "yref": "y"
         },
         {
          "font": {
           "color": "black",
           "family": "Arial",
           "size": 25
          },
          "showarrow": false,
          "text": "0.44%",
          "x": 1.44,
          "xref": "x",
          "y": "Telecomunicação",
          "yref": "y"
         },
         {
          "font": {
           "color": "black",
           "family": "Arial",
           "size": 25
          },
          "showarrow": false,
          "text": "0.19%",
          "x": 1.19,
          "xref": "x",
          "y": "Utilidade Públ",
          "yref": "y"
         },
         {
          "font": {
           "color": "black",
           "family": "Arial",
           "size": 25
          },
          "showarrow": false,
          "text": "0.18%",
          "x": 1.18,
          "xref": "x",
          "y": "Mats Básicos",
          "yref": "y"
         },
         {
          "font": {
           "color": "black",
           "family": "Arial",
           "size": 25
          },
          "showarrow": false,
          "text": "-0.12%",
          "x": -1.62,
          "xref": "x",
          "y": "Cons N  Básico",
          "yref": "y"
         },
         {
          "font": {
           "color": "black",
           "family": "Arial",
           "size": 25
          },
          "showarrow": false,
          "text": "-2.52%",
          "x": -4.02,
          "xref": "x",
          "y": "Diversos",
          "yref": "y"
         },
         {
          "font": {
           "color": "black",
           "family": "Arial",
           "size": 25
          },
          "showarrow": false,
          "text": "-3.4%",
          "x": -4.9,
          "xref": "x",
          "y": "Financeiro e Outros",
          "yref": "y"
         },
         {
          "font": {
           "color": "black",
           "family": "Arial",
           "size": 25
          },
          "showarrow": false,
          "text": "-3.78%",
          "x": -5.279999999999999,
          "xref": "x",
          "y": "Bens Indls",
          "yref": "y"
         },
         {
          "font": {
           "color": "black",
           "family": "Arial",
           "size": 25
          },
          "showarrow": false,
          "text": "-4.24%",
          "x": -5.74,
          "xref": "x",
          "y": "Consumo Cíclico",
          "yref": "y"
         },
         {
          "font": {
           "color": "black",
           "family": "Arial",
           "size": 25
          },
          "showarrow": false,
          "text": "-5.13%",
          "x": -6.63,
          "xref": "x",
          "y": "Cons N Cíclico",
          "yref": "y"
         },
         {
          "font": {
           "color": "black",
           "family": "Arial",
           "size": 25
          },
          "showarrow": false,
          "text": "-6.71%",
          "x": -8.21,
          "xref": "x",
          "y": "Tec. Informação",
          "yref": "y"
         },
         {
          "font": {
           "color": "black",
           "family": "Arial",
           "size": 25
          },
          "showarrow": false,
          "text": "-6.82%",
          "x": -8.32,
          "xref": "x",
          "y": "Saúde",
          "yref": "y"
         }
        ],
        "barmode": "stack",
        "font": {
         "color": "black",
         "family": "Arial black",
         "size": 30
        },
        "height": 1100,
        "margin": {
         "b": 20,
         "l": 20,
         "r": 20,
         "t": 20
        },
        "paper_bgcolor": "#f7f8fa",
        "template": {
         "data": {
          "bar": [
           {
            "error_x": {
             "color": "rgb(36,36,36)"
            },
            "error_y": {
             "color": "rgb(36,36,36)"
            },
            "marker": {
             "line": {
              "color": "white",
              "width": 0.5
             },
             "pattern": {
              "fillmode": "overlay",
              "size": 10,
              "solidity": 0.2
             }
            },
            "type": "bar"
           }
          ],
          "barpolar": [
           {
            "marker": {
             "line": {
              "color": "white",
              "width": 0.5
             },
             "pattern": {
              "fillmode": "overlay",
              "size": 10,
              "solidity": 0.2
             }
            },
            "type": "barpolar"
           }
          ],
          "carpet": [
           {
            "aaxis": {
             "endlinecolor": "rgb(36,36,36)",
             "gridcolor": "white",
             "linecolor": "white",
             "minorgridcolor": "white",
             "startlinecolor": "rgb(36,36,36)"
            },
            "baxis": {
             "endlinecolor": "rgb(36,36,36)",
             "gridcolor": "white",
             "linecolor": "white",
             "minorgridcolor": "white",
             "startlinecolor": "rgb(36,36,36)"
            },
            "type": "carpet"
           }
          ],
          "choropleth": [
           {
            "colorbar": {
             "outlinewidth": 1,
             "tickcolor": "rgb(36,36,36)",
             "ticks": "outside"
            },
            "type": "choropleth"
           }
          ],
          "contour": [
           {
            "colorbar": {
             "outlinewidth": 1,
             "tickcolor": "rgb(36,36,36)",
             "ticks": "outside"
            },
            "colorscale": [
             [
              0,
              "#440154"
             ],
             [
              0.1111111111111111,
              "#482878"
             ],
             [
              0.2222222222222222,
              "#3e4989"
             ],
             [
              0.3333333333333333,
              "#31688e"
             ],
             [
              0.4444444444444444,
              "#26828e"
             ],
             [
              0.5555555555555556,
              "#1f9e89"
             ],
             [
              0.6666666666666666,
              "#35b779"
             ],
             [
              0.7777777777777778,
              "#6ece58"
             ],
             [
              0.8888888888888888,
              "#b5de2b"
             ],
             [
              1,
              "#fde725"
             ]
            ],
            "type": "contour"
           }
          ],
          "contourcarpet": [
           {
            "colorbar": {
             "outlinewidth": 1,
             "tickcolor": "rgb(36,36,36)",
             "ticks": "outside"
            },
            "type": "contourcarpet"
           }
          ],
          "heatmap": [
           {
            "colorbar": {
             "outlinewidth": 1,
             "tickcolor": "rgb(36,36,36)",
             "ticks": "outside"
            },
            "colorscale": [
             [
              0,
              "#440154"
             ],
             [
              0.1111111111111111,
              "#482878"
             ],
             [
              0.2222222222222222,
              "#3e4989"
             ],
             [
              0.3333333333333333,
              "#31688e"
             ],
             [
              0.4444444444444444,
              "#26828e"
             ],
             [
              0.5555555555555556,
              "#1f9e89"
             ],
             [
              0.6666666666666666,
              "#35b779"
             ],
             [
              0.7777777777777778,
              "#6ece58"
             ],
             [
              0.8888888888888888,
              "#b5de2b"
             ],
             [
              1,
              "#fde725"
             ]
            ],
            "type": "heatmap"
           }
          ],
          "heatmapgl": [
           {
            "colorbar": {
             "outlinewidth": 1,
             "tickcolor": "rgb(36,36,36)",
             "ticks": "outside"
            },
            "colorscale": [
             [
              0,
              "#440154"
             ],
             [
              0.1111111111111111,
              "#482878"
             ],
             [
              0.2222222222222222,
              "#3e4989"
             ],
             [
              0.3333333333333333,
              "#31688e"
             ],
             [
              0.4444444444444444,
              "#26828e"
             ],
             [
              0.5555555555555556,
              "#1f9e89"
             ],
             [
              0.6666666666666666,
              "#35b779"
             ],
             [
              0.7777777777777778,
              "#6ece58"
             ],
             [
              0.8888888888888888,
              "#b5de2b"
             ],
             [
              1,
              "#fde725"
             ]
            ],
            "type": "heatmapgl"
           }
          ],
          "histogram": [
           {
            "marker": {
             "line": {
              "color": "white",
              "width": 0.6
             }
            },
            "type": "histogram"
           }
          ],
          "histogram2d": [
           {
            "colorbar": {
             "outlinewidth": 1,
             "tickcolor": "rgb(36,36,36)",
             "ticks": "outside"
            },
            "colorscale": [
             [
              0,
              "#440154"
             ],
             [
              0.1111111111111111,
              "#482878"
             ],
             [
              0.2222222222222222,
              "#3e4989"
             ],
             [
              0.3333333333333333,
              "#31688e"
             ],
             [
              0.4444444444444444,
              "#26828e"
             ],
             [
              0.5555555555555556,
              "#1f9e89"
             ],
             [
              0.6666666666666666,
              "#35b779"
             ],
             [
              0.7777777777777778,
              "#6ece58"
             ],
             [
              0.8888888888888888,
              "#b5de2b"
             ],
             [
              1,
              "#fde725"
             ]
            ],
            "type": "histogram2d"
           }
          ],
          "histogram2dcontour": [
           {
            "colorbar": {
             "outlinewidth": 1,
             "tickcolor": "rgb(36,36,36)",
             "ticks": "outside"
            },
            "colorscale": [
             [
              0,
              "#440154"
             ],
             [
              0.1111111111111111,
              "#482878"
             ],
             [
              0.2222222222222222,
              "#3e4989"
             ],
             [
              0.3333333333333333,
              "#31688e"
             ],
             [
              0.4444444444444444,
              "#26828e"
             ],
             [
              0.5555555555555556,
              "#1f9e89"
             ],
             [
              0.6666666666666666,
              "#35b779"
             ],
             [
              0.7777777777777778,
              "#6ece58"
             ],
             [
              0.8888888888888888,
              "#b5de2b"
             ],
             [
              1,
              "#fde725"
             ]
            ],
            "type": "histogram2dcontour"
           }
          ],
          "mesh3d": [
           {
            "colorbar": {
             "outlinewidth": 1,
             "tickcolor": "rgb(36,36,36)",
             "ticks": "outside"
            },
            "type": "mesh3d"
           }
          ],
          "parcoords": [
           {
            "line": {
             "colorbar": {
              "outlinewidth": 1,
              "tickcolor": "rgb(36,36,36)",
              "ticks": "outside"
             }
            },
            "type": "parcoords"
           }
          ],
          "pie": [
           {
            "automargin": true,
            "type": "pie"
           }
          ],
          "scatter": [
           {
            "marker": {
             "colorbar": {
              "outlinewidth": 1,
              "tickcolor": "rgb(36,36,36)",
              "ticks": "outside"
             }
            },
            "type": "scatter"
           }
          ],
          "scatter3d": [
           {
            "line": {
             "colorbar": {
              "outlinewidth": 1,
              "tickcolor": "rgb(36,36,36)",
              "ticks": "outside"
             }
            },
            "marker": {
             "colorbar": {
              "outlinewidth": 1,
              "tickcolor": "rgb(36,36,36)",
              "ticks": "outside"
             }
            },
            "type": "scatter3d"
           }
          ],
          "scattercarpet": [
           {
            "marker": {
             "colorbar": {
              "outlinewidth": 1,
              "tickcolor": "rgb(36,36,36)",
              "ticks": "outside"
             }
            },
            "type": "scattercarpet"
           }
          ],
          "scattergeo": [
           {
            "marker": {
             "colorbar": {
              "outlinewidth": 1,
              "tickcolor": "rgb(36,36,36)",
              "ticks": "outside"
             }
            },
            "type": "scattergeo"
           }
          ],
          "scattergl": [
           {
            "marker": {
             "colorbar": {
              "outlinewidth": 1,
              "tickcolor": "rgb(36,36,36)",
              "ticks": "outside"
             }
            },
            "type": "scattergl"
           }
          ],
          "scattermapbox": [
           {
            "marker": {
             "colorbar": {
              "outlinewidth": 1,
              "tickcolor": "rgb(36,36,36)",
              "ticks": "outside"
             }
            },
            "type": "scattermapbox"
           }
          ],
          "scatterpolar": [
           {
            "marker": {
             "colorbar": {
              "outlinewidth": 1,
              "tickcolor": "rgb(36,36,36)",
              "ticks": "outside"
             }
            },
            "type": "scatterpolar"
           }
          ],
          "scatterpolargl": [
           {
            "marker": {
             "colorbar": {
              "outlinewidth": 1,
              "tickcolor": "rgb(36,36,36)",
              "ticks": "outside"
             }
            },
            "type": "scatterpolargl"
           }
          ],
          "scatterternary": [
           {
            "marker": {
             "colorbar": {
              "outlinewidth": 1,
              "tickcolor": "rgb(36,36,36)",
              "ticks": "outside"
             }
            },
            "type": "scatterternary"
           }
          ],
          "surface": [
           {
            "colorbar": {
             "outlinewidth": 1,
             "tickcolor": "rgb(36,36,36)",
             "ticks": "outside"
            },
            "colorscale": [
             [
              0,
              "#440154"
             ],
             [
              0.1111111111111111,
              "#482878"
             ],
             [
              0.2222222222222222,
              "#3e4989"
             ],
             [
              0.3333333333333333,
              "#31688e"
             ],
             [
              0.4444444444444444,
              "#26828e"
             ],
             [
              0.5555555555555556,
              "#1f9e89"
             ],
             [
              0.6666666666666666,
              "#35b779"
             ],
             [
              0.7777777777777778,
              "#6ece58"
             ],
             [
              0.8888888888888888,
              "#b5de2b"
             ],
             [
              1,
              "#fde725"
             ]
            ],
            "type": "surface"
           }
          ],
          "table": [
           {
            "cells": {
             "fill": {
              "color": "rgb(237,237,237)"
             },
             "line": {
              "color": "white"
             }
            },
            "header": {
             "fill": {
              "color": "rgb(217,217,217)"
             },
             "line": {
              "color": "white"
             }
            },
            "type": "table"
           }
          ]
         },
         "layout": {
          "annotationdefaults": {
           "arrowhead": 0,
           "arrowwidth": 1
          },
          "autotypenumbers": "strict",
          "coloraxis": {
           "colorbar": {
            "outlinewidth": 1,
            "tickcolor": "rgb(36,36,36)",
            "ticks": "outside"
           }
          },
          "colorscale": {
           "diverging": [
            [
             0,
             "rgb(103,0,31)"
            ],
            [
             0.1,
             "rgb(178,24,43)"
            ],
            [
             0.2,
             "rgb(214,96,77)"
            ],
            [
             0.3,
             "rgb(244,165,130)"
            ],
            [
             0.4,
             "rgb(253,219,199)"
            ],
            [
             0.5,
             "rgb(247,247,247)"
            ],
            [
             0.6,
             "rgb(209,229,240)"
            ],
            [
             0.7,
             "rgb(146,197,222)"
            ],
            [
             0.8,
             "rgb(67,147,195)"
            ],
            [
             0.9,
             "rgb(33,102,172)"
            ],
            [
             1,
             "rgb(5,48,97)"
            ]
           ],
           "sequential": [
            [
             0,
             "#440154"
            ],
            [
             0.1111111111111111,
             "#482878"
            ],
            [
             0.2222222222222222,
             "#3e4989"
            ],
            [
             0.3333333333333333,
             "#31688e"
            ],
            [
             0.4444444444444444,
             "#26828e"
            ],
            [
             0.5555555555555556,
             "#1f9e89"
            ],
            [
             0.6666666666666666,
             "#35b779"
            ],
            [
             0.7777777777777778,
             "#6ece58"
            ],
            [
             0.8888888888888888,
             "#b5de2b"
            ],
            [
             1,
             "#fde725"
            ]
           ],
           "sequentialminus": [
            [
             0,
             "#440154"
            ],
            [
             0.1111111111111111,
             "#482878"
            ],
            [
             0.2222222222222222,
             "#3e4989"
            ],
            [
             0.3333333333333333,
             "#31688e"
            ],
            [
             0.4444444444444444,
             "#26828e"
            ],
            [
             0.5555555555555556,
             "#1f9e89"
            ],
            [
             0.6666666666666666,
             "#35b779"
            ],
            [
             0.7777777777777778,
             "#6ece58"
            ],
            [
             0.8888888888888888,
             "#b5de2b"
            ],
            [
             1,
             "#fde725"
            ]
           ]
          },
          "colorway": [
           "#1F77B4",
           "#FF7F0E",
           "#2CA02C",
           "#D62728",
           "#9467BD",
           "#8C564B",
           "#E377C2",
           "#7F7F7F",
           "#BCBD22",
           "#17BECF"
          ],
          "font": {
           "color": "rgb(36,36,36)"
          },
          "geo": {
           "bgcolor": "white",
           "lakecolor": "white",
           "landcolor": "white",
           "showlakes": true,
           "showland": true,
           "subunitcolor": "white"
          },
          "hoverlabel": {
           "align": "left"
          },
          "hovermode": "closest",
          "mapbox": {
           "style": "light"
          },
          "paper_bgcolor": "white",
          "plot_bgcolor": "white",
          "polar": {
           "angularaxis": {
            "gridcolor": "rgb(232,232,232)",
            "linecolor": "rgb(36,36,36)",
            "showgrid": false,
            "showline": true,
            "ticks": "outside"
           },
           "bgcolor": "white",
           "radialaxis": {
            "gridcolor": "rgb(232,232,232)",
            "linecolor": "rgb(36,36,36)",
            "showgrid": false,
            "showline": true,
            "ticks": "outside"
           }
          },
          "scene": {
           "xaxis": {
            "backgroundcolor": "white",
            "gridcolor": "rgb(232,232,232)",
            "gridwidth": 2,
            "linecolor": "rgb(36,36,36)",
            "showbackground": true,
            "showgrid": false,
            "showline": true,
            "ticks": "outside",
            "zeroline": false,
            "zerolinecolor": "rgb(36,36,36)"
           },
           "yaxis": {
            "backgroundcolor": "white",
            "gridcolor": "rgb(232,232,232)",
            "gridwidth": 2,
            "linecolor": "rgb(36,36,36)",
            "showbackground": true,
            "showgrid": false,
            "showline": true,
            "ticks": "outside",
            "zeroline": false,
            "zerolinecolor": "rgb(36,36,36)"
           },
           "zaxis": {
            "backgroundcolor": "white",
            "gridcolor": "rgb(232,232,232)",
            "gridwidth": 2,
            "linecolor": "rgb(36,36,36)",
            "showbackground": true,
            "showgrid": false,
            "showline": true,
            "ticks": "outside",
            "zeroline": false,
            "zerolinecolor": "rgb(36,36,36)"
           }
          },
          "shapedefaults": {
           "fillcolor": "black",
           "line": {
            "width": 0
           },
           "opacity": 0.3
          },
          "ternary": {
           "aaxis": {
            "gridcolor": "rgb(232,232,232)",
            "linecolor": "rgb(36,36,36)",
            "showgrid": false,
            "showline": true,
            "ticks": "outside"
           },
           "baxis": {
            "gridcolor": "rgb(232,232,232)",
            "linecolor": "rgb(36,36,36)",
            "showgrid": false,
            "showline": true,
            "ticks": "outside"
           },
           "bgcolor": "white",
           "caxis": {
            "gridcolor": "rgb(232,232,232)",
            "linecolor": "rgb(36,36,36)",
            "showgrid": false,
            "showline": true,
            "ticks": "outside"
           }
          },
          "title": {
           "x": 0.05
          },
          "xaxis": {
           "automargin": true,
           "gridcolor": "rgb(232,232,232)",
           "linecolor": "rgb(36,36,36)",
           "showgrid": false,
           "showline": true,
           "ticks": "outside",
           "title": {
            "standoff": 15
           },
           "zeroline": false,
           "zerolinecolor": "rgb(36,36,36)"
          },
          "yaxis": {
           "automargin": true,
           "gridcolor": "rgb(232,232,232)",
           "linecolor": "rgb(36,36,36)",
           "showgrid": false,
           "showline": true,
           "ticks": "outside",
           "title": {
            "standoff": 15
           },
           "zeroline": false,
           "zerolinecolor": "rgb(36,36,36)"
          }
         }
        },
        "title": {
         "text": ""
        },
        "width": 1200,
        "xaxis": {
         "range": [
          -10,
          10
         ],
         "showticklabels": true,
         "visible": true
        }
       }
      },
      "text/html": [
       "<div>                            <div id=\"40b3d056-8063-4053-ac2b-d9f4ed42ecc4\" class=\"plotly-graph-div\" style=\"height:1100px; width:1200px;\"></div>            <script type=\"text/javascript\">                require([\"plotly\"], function(Plotly) {                    window.PLOTLYENV=window.PLOTLYENV || {};                                    if (document.getElementById(\"40b3d056-8063-4053-ac2b-d9f4ed42ecc4\")) {                    Plotly.newPlot(                        \"40b3d056-8063-4053-ac2b-d9f4ed42ecc4\",                        [{\"marker\":{\"color\":[\"green\",\"green\",\"green\",\"green\",\"red\",\"red\",\"red\",\"red\",\"red\",\"red\",\"red\",\"red\"]},\"name\":\"Net\",\"orientation\":\"h\",\"x\":[0.8254421041897873,0.44267274323560457,0.19260628618634235,0.18102034002164447,-0.12034530867762544,-2.5186769163011493,-3.39772206517976,-3.7839497391838934,-4.241687963057646,-5.126410432836743,-6.709918540015024,-6.824245709707988],\"y\":[\"Petr\\u00f3leo\",\"Telecomunica\\u00e7\\u00e3o\",\"Utilidade P\\u00fabl\",\"Mats B\\u00e1sicos\",\"Cons N  B\\u00e1sico\",\"Diversos\",\"Financeiro e Outros\",\"Bens Indls\",\"Consumo C\\u00edclico\",\"Cons N C\\u00edclico\",\"Tec. Informa\\u00e7\\u00e3o\",\"Sa\\u00fade\"],\"type\":\"bar\"}],                        {\"template\":{\"data\":{\"barpolar\":[{\"marker\":{\"line\":{\"color\":\"white\",\"width\":0.5},\"pattern\":{\"fillmode\":\"overlay\",\"size\":10,\"solidity\":0.2}},\"type\":\"barpolar\"}],\"bar\":[{\"error_x\":{\"color\":\"rgb(36,36,36)\"},\"error_y\":{\"color\":\"rgb(36,36,36)\"},\"marker\":{\"line\":{\"color\":\"white\",\"width\":0.5},\"pattern\":{\"fillmode\":\"overlay\",\"size\":10,\"solidity\":0.2}},\"type\":\"bar\"}],\"carpet\":[{\"aaxis\":{\"endlinecolor\":\"rgb(36,36,36)\",\"gridcolor\":\"white\",\"linecolor\":\"white\",\"minorgridcolor\":\"white\",\"startlinecolor\":\"rgb(36,36,36)\"},\"baxis\":{\"endlinecolor\":\"rgb(36,36,36)\",\"gridcolor\":\"white\",\"linecolor\":\"white\",\"minorgridcolor\":\"white\",\"startlinecolor\":\"rgb(36,36,36)\"},\"type\":\"carpet\"}],\"choropleth\":[{\"colorbar\":{\"outlinewidth\":1,\"tickcolor\":\"rgb(36,36,36)\",\"ticks\":\"outside\"},\"type\":\"choropleth\"}],\"contourcarpet\":[{\"colorbar\":{\"outlinewidth\":1,\"tickcolor\":\"rgb(36,36,36)\",\"ticks\":\"outside\"},\"type\":\"contourcarpet\"}],\"contour\":[{\"colorbar\":{\"outlinewidth\":1,\"tickcolor\":\"rgb(36,36,36)\",\"ticks\":\"outside\"},\"colorscale\":[[0.0,\"#440154\"],[0.1111111111111111,\"#482878\"],[0.2222222222222222,\"#3e4989\"],[0.3333333333333333,\"#31688e\"],[0.4444444444444444,\"#26828e\"],[0.5555555555555556,\"#1f9e89\"],[0.6666666666666666,\"#35b779\"],[0.7777777777777778,\"#6ece58\"],[0.8888888888888888,\"#b5de2b\"],[1.0,\"#fde725\"]],\"type\":\"contour\"}],\"heatmapgl\":[{\"colorbar\":{\"outlinewidth\":1,\"tickcolor\":\"rgb(36,36,36)\",\"ticks\":\"outside\"},\"colorscale\":[[0.0,\"#440154\"],[0.1111111111111111,\"#482878\"],[0.2222222222222222,\"#3e4989\"],[0.3333333333333333,\"#31688e\"],[0.4444444444444444,\"#26828e\"],[0.5555555555555556,\"#1f9e89\"],[0.6666666666666666,\"#35b779\"],[0.7777777777777778,\"#6ece58\"],[0.8888888888888888,\"#b5de2b\"],[1.0,\"#fde725\"]],\"type\":\"heatmapgl\"}],\"heatmap\":[{\"colorbar\":{\"outlinewidth\":1,\"tickcolor\":\"rgb(36,36,36)\",\"ticks\":\"outside\"},\"colorscale\":[[0.0,\"#440154\"],[0.1111111111111111,\"#482878\"],[0.2222222222222222,\"#3e4989\"],[0.3333333333333333,\"#31688e\"],[0.4444444444444444,\"#26828e\"],[0.5555555555555556,\"#1f9e89\"],[0.6666666666666666,\"#35b779\"],[0.7777777777777778,\"#6ece58\"],[0.8888888888888888,\"#b5de2b\"],[1.0,\"#fde725\"]],\"type\":\"heatmap\"}],\"histogram2dcontour\":[{\"colorbar\":{\"outlinewidth\":1,\"tickcolor\":\"rgb(36,36,36)\",\"ticks\":\"outside\"},\"colorscale\":[[0.0,\"#440154\"],[0.1111111111111111,\"#482878\"],[0.2222222222222222,\"#3e4989\"],[0.3333333333333333,\"#31688e\"],[0.4444444444444444,\"#26828e\"],[0.5555555555555556,\"#1f9e89\"],[0.6666666666666666,\"#35b779\"],[0.7777777777777778,\"#6ece58\"],[0.8888888888888888,\"#b5de2b\"],[1.0,\"#fde725\"]],\"type\":\"histogram2dcontour\"}],\"histogram2d\":[{\"colorbar\":{\"outlinewidth\":1,\"tickcolor\":\"rgb(36,36,36)\",\"ticks\":\"outside\"},\"colorscale\":[[0.0,\"#440154\"],[0.1111111111111111,\"#482878\"],[0.2222222222222222,\"#3e4989\"],[0.3333333333333333,\"#31688e\"],[0.4444444444444444,\"#26828e\"],[0.5555555555555556,\"#1f9e89\"],[0.6666666666666666,\"#35b779\"],[0.7777777777777778,\"#6ece58\"],[0.8888888888888888,\"#b5de2b\"],[1.0,\"#fde725\"]],\"type\":\"histogram2d\"}],\"histogram\":[{\"marker\":{\"line\":{\"color\":\"white\",\"width\":0.6}},\"type\":\"histogram\"}],\"mesh3d\":[{\"colorbar\":{\"outlinewidth\":1,\"tickcolor\":\"rgb(36,36,36)\",\"ticks\":\"outside\"},\"type\":\"mesh3d\"}],\"parcoords\":[{\"line\":{\"colorbar\":{\"outlinewidth\":1,\"tickcolor\":\"rgb(36,36,36)\",\"ticks\":\"outside\"}},\"type\":\"parcoords\"}],\"pie\":[{\"automargin\":true,\"type\":\"pie\"}],\"scatter3d\":[{\"line\":{\"colorbar\":{\"outlinewidth\":1,\"tickcolor\":\"rgb(36,36,36)\",\"ticks\":\"outside\"}},\"marker\":{\"colorbar\":{\"outlinewidth\":1,\"tickcolor\":\"rgb(36,36,36)\",\"ticks\":\"outside\"}},\"type\":\"scatter3d\"}],\"scattercarpet\":[{\"marker\":{\"colorbar\":{\"outlinewidth\":1,\"tickcolor\":\"rgb(36,36,36)\",\"ticks\":\"outside\"}},\"type\":\"scattercarpet\"}],\"scattergeo\":[{\"marker\":{\"colorbar\":{\"outlinewidth\":1,\"tickcolor\":\"rgb(36,36,36)\",\"ticks\":\"outside\"}},\"type\":\"scattergeo\"}],\"scattergl\":[{\"marker\":{\"colorbar\":{\"outlinewidth\":1,\"tickcolor\":\"rgb(36,36,36)\",\"ticks\":\"outside\"}},\"type\":\"scattergl\"}],\"scattermapbox\":[{\"marker\":{\"colorbar\":{\"outlinewidth\":1,\"tickcolor\":\"rgb(36,36,36)\",\"ticks\":\"outside\"}},\"type\":\"scattermapbox\"}],\"scatterpolargl\":[{\"marker\":{\"colorbar\":{\"outlinewidth\":1,\"tickcolor\":\"rgb(36,36,36)\",\"ticks\":\"outside\"}},\"type\":\"scatterpolargl\"}],\"scatterpolar\":[{\"marker\":{\"colorbar\":{\"outlinewidth\":1,\"tickcolor\":\"rgb(36,36,36)\",\"ticks\":\"outside\"}},\"type\":\"scatterpolar\"}],\"scatter\":[{\"marker\":{\"colorbar\":{\"outlinewidth\":1,\"tickcolor\":\"rgb(36,36,36)\",\"ticks\":\"outside\"}},\"type\":\"scatter\"}],\"scatterternary\":[{\"marker\":{\"colorbar\":{\"outlinewidth\":1,\"tickcolor\":\"rgb(36,36,36)\",\"ticks\":\"outside\"}},\"type\":\"scatterternary\"}],\"surface\":[{\"colorbar\":{\"outlinewidth\":1,\"tickcolor\":\"rgb(36,36,36)\",\"ticks\":\"outside\"},\"colorscale\":[[0.0,\"#440154\"],[0.1111111111111111,\"#482878\"],[0.2222222222222222,\"#3e4989\"],[0.3333333333333333,\"#31688e\"],[0.4444444444444444,\"#26828e\"],[0.5555555555555556,\"#1f9e89\"],[0.6666666666666666,\"#35b779\"],[0.7777777777777778,\"#6ece58\"],[0.8888888888888888,\"#b5de2b\"],[1.0,\"#fde725\"]],\"type\":\"surface\"}],\"table\":[{\"cells\":{\"fill\":{\"color\":\"rgb(237,237,237)\"},\"line\":{\"color\":\"white\"}},\"header\":{\"fill\":{\"color\":\"rgb(217,217,217)\"},\"line\":{\"color\":\"white\"}},\"type\":\"table\"}]},\"layout\":{\"annotationdefaults\":{\"arrowhead\":0,\"arrowwidth\":1},\"autotypenumbers\":\"strict\",\"coloraxis\":{\"colorbar\":{\"outlinewidth\":1,\"tickcolor\":\"rgb(36,36,36)\",\"ticks\":\"outside\"}},\"colorscale\":{\"diverging\":[[0.0,\"rgb(103,0,31)\"],[0.1,\"rgb(178,24,43)\"],[0.2,\"rgb(214,96,77)\"],[0.3,\"rgb(244,165,130)\"],[0.4,\"rgb(253,219,199)\"],[0.5,\"rgb(247,247,247)\"],[0.6,\"rgb(209,229,240)\"],[0.7,\"rgb(146,197,222)\"],[0.8,\"rgb(67,147,195)\"],[0.9,\"rgb(33,102,172)\"],[1.0,\"rgb(5,48,97)\"]],\"sequential\":[[0.0,\"#440154\"],[0.1111111111111111,\"#482878\"],[0.2222222222222222,\"#3e4989\"],[0.3333333333333333,\"#31688e\"],[0.4444444444444444,\"#26828e\"],[0.5555555555555556,\"#1f9e89\"],[0.6666666666666666,\"#35b779\"],[0.7777777777777778,\"#6ece58\"],[0.8888888888888888,\"#b5de2b\"],[1.0,\"#fde725\"]],\"sequentialminus\":[[0.0,\"#440154\"],[0.1111111111111111,\"#482878\"],[0.2222222222222222,\"#3e4989\"],[0.3333333333333333,\"#31688e\"],[0.4444444444444444,\"#26828e\"],[0.5555555555555556,\"#1f9e89\"],[0.6666666666666666,\"#35b779\"],[0.7777777777777778,\"#6ece58\"],[0.8888888888888888,\"#b5de2b\"],[1.0,\"#fde725\"]]},\"colorway\":[\"#1F77B4\",\"#FF7F0E\",\"#2CA02C\",\"#D62728\",\"#9467BD\",\"#8C564B\",\"#E377C2\",\"#7F7F7F\",\"#BCBD22\",\"#17BECF\"],\"font\":{\"color\":\"rgb(36,36,36)\"},\"geo\":{\"bgcolor\":\"white\",\"lakecolor\":\"white\",\"landcolor\":\"white\",\"showlakes\":true,\"showland\":true,\"subunitcolor\":\"white\"},\"hoverlabel\":{\"align\":\"left\"},\"hovermode\":\"closest\",\"mapbox\":{\"style\":\"light\"},\"paper_bgcolor\":\"white\",\"plot_bgcolor\":\"white\",\"polar\":{\"angularaxis\":{\"gridcolor\":\"rgb(232,232,232)\",\"linecolor\":\"rgb(36,36,36)\",\"showgrid\":false,\"showline\":true,\"ticks\":\"outside\"},\"bgcolor\":\"white\",\"radialaxis\":{\"gridcolor\":\"rgb(232,232,232)\",\"linecolor\":\"rgb(36,36,36)\",\"showgrid\":false,\"showline\":true,\"ticks\":\"outside\"}},\"scene\":{\"xaxis\":{\"backgroundcolor\":\"white\",\"gridcolor\":\"rgb(232,232,232)\",\"gridwidth\":2,\"linecolor\":\"rgb(36,36,36)\",\"showbackground\":true,\"showgrid\":false,\"showline\":true,\"ticks\":\"outside\",\"zeroline\":false,\"zerolinecolor\":\"rgb(36,36,36)\"},\"yaxis\":{\"backgroundcolor\":\"white\",\"gridcolor\":\"rgb(232,232,232)\",\"gridwidth\":2,\"linecolor\":\"rgb(36,36,36)\",\"showbackground\":true,\"showgrid\":false,\"showline\":true,\"ticks\":\"outside\",\"zeroline\":false,\"zerolinecolor\":\"rgb(36,36,36)\"},\"zaxis\":{\"backgroundcolor\":\"white\",\"gridcolor\":\"rgb(232,232,232)\",\"gridwidth\":2,\"linecolor\":\"rgb(36,36,36)\",\"showbackground\":true,\"showgrid\":false,\"showline\":true,\"ticks\":\"outside\",\"zeroline\":false,\"zerolinecolor\":\"rgb(36,36,36)\"}},\"shapedefaults\":{\"fillcolor\":\"black\",\"line\":{\"width\":0},\"opacity\":0.3},\"ternary\":{\"aaxis\":{\"gridcolor\":\"rgb(232,232,232)\",\"linecolor\":\"rgb(36,36,36)\",\"showgrid\":false,\"showline\":true,\"ticks\":\"outside\"},\"baxis\":{\"gridcolor\":\"rgb(232,232,232)\",\"linecolor\":\"rgb(36,36,36)\",\"showgrid\":false,\"showline\":true,\"ticks\":\"outside\"},\"bgcolor\":\"white\",\"caxis\":{\"gridcolor\":\"rgb(232,232,232)\",\"linecolor\":\"rgb(36,36,36)\",\"showgrid\":false,\"showline\":true,\"ticks\":\"outside\"}},\"title\":{\"x\":0.05},\"xaxis\":{\"automargin\":true,\"gridcolor\":\"rgb(232,232,232)\",\"linecolor\":\"rgb(36,36,36)\",\"showgrid\":false,\"showline\":true,\"ticks\":\"outside\",\"title\":{\"standoff\":15},\"zeroline\":false,\"zerolinecolor\":\"rgb(36,36,36)\"},\"yaxis\":{\"automargin\":true,\"gridcolor\":\"rgb(232,232,232)\",\"linecolor\":\"rgb(36,36,36)\",\"showgrid\":false,\"showline\":true,\"ticks\":\"outside\",\"title\":{\"standoff\":15},\"zeroline\":false,\"zerolinecolor\":\"rgb(36,36,36)\"}}},\"xaxis\":{\"visible\":true,\"showticklabels\":true,\"range\":[-10,10]},\"title\":{\"text\":\"\"},\"margin\":{\"l\":20,\"r\":20,\"t\":20,\"b\":20},\"font\":{\"family\":\"Arial black\",\"size\":30,\"color\":\"black\"},\"barmode\":\"stack\",\"paper_bgcolor\":\"#f7f8fa\",\"width\":1200,\"height\":1100,\"annotations\":[{\"font\":{\"color\":\"black\",\"family\":\"Arial\",\"size\":25},\"showarrow\":false,\"text\":\"0.83%\",\"x\":1.83,\"xref\":\"x\",\"y\":\"Petr\\u00f3leo\",\"yref\":\"y\"},{\"font\":{\"color\":\"black\",\"family\":\"Arial\",\"size\":25},\"showarrow\":false,\"text\":\"0.44%\",\"x\":1.44,\"xref\":\"x\",\"y\":\"Telecomunica\\u00e7\\u00e3o\",\"yref\":\"y\"},{\"font\":{\"color\":\"black\",\"family\":\"Arial\",\"size\":25},\"showarrow\":false,\"text\":\"0.19%\",\"x\":1.19,\"xref\":\"x\",\"y\":\"Utilidade P\\u00fabl\",\"yref\":\"y\"},{\"font\":{\"color\":\"black\",\"family\":\"Arial\",\"size\":25},\"showarrow\":false,\"text\":\"0.18%\",\"x\":1.18,\"xref\":\"x\",\"y\":\"Mats B\\u00e1sicos\",\"yref\":\"y\"},{\"font\":{\"color\":\"black\",\"family\":\"Arial\",\"size\":25},\"showarrow\":false,\"text\":\"-0.12%\",\"x\":-1.62,\"xref\":\"x\",\"y\":\"Cons N  B\\u00e1sico\",\"yref\":\"y\"},{\"font\":{\"color\":\"black\",\"family\":\"Arial\",\"size\":25},\"showarrow\":false,\"text\":\"-2.52%\",\"x\":-4.02,\"xref\":\"x\",\"y\":\"Diversos\",\"yref\":\"y\"},{\"font\":{\"color\":\"black\",\"family\":\"Arial\",\"size\":25},\"showarrow\":false,\"text\":\"-3.4%\",\"x\":-4.9,\"xref\":\"x\",\"y\":\"Financeiro e Outros\",\"yref\":\"y\"},{\"font\":{\"color\":\"black\",\"family\":\"Arial\",\"size\":25},\"showarrow\":false,\"text\":\"-3.78%\",\"x\":-5.279999999999999,\"xref\":\"x\",\"y\":\"Bens Indls\",\"yref\":\"y\"},{\"font\":{\"color\":\"black\",\"family\":\"Arial\",\"size\":25},\"showarrow\":false,\"text\":\"-4.24%\",\"x\":-5.74,\"xref\":\"x\",\"y\":\"Consumo C\\u00edclico\",\"yref\":\"y\"},{\"font\":{\"color\":\"black\",\"family\":\"Arial\",\"size\":25},\"showarrow\":false,\"text\":\"-5.13%\",\"x\":-6.63,\"xref\":\"x\",\"y\":\"Cons N C\\u00edclico\",\"yref\":\"y\"},{\"font\":{\"color\":\"black\",\"family\":\"Arial\",\"size\":25},\"showarrow\":false,\"text\":\"-6.71%\",\"x\":-8.21,\"xref\":\"x\",\"y\":\"Tec. Informa\\u00e7\\u00e3o\",\"yref\":\"y\"},{\"font\":{\"color\":\"black\",\"family\":\"Arial\",\"size\":25},\"showarrow\":false,\"text\":\"-6.82%\",\"x\":-8.32,\"xref\":\"x\",\"y\":\"Sa\\u00fade\",\"yref\":\"y\"}]},                        {\"responsive\": true}                    ).then(function(){\n",
       "                            \n",
       "var gd = document.getElementById('40b3d056-8063-4053-ac2b-d9f4ed42ecc4');\n",
       "var x = new MutationObserver(function (mutations, observer) {{\n",
       "        var display = window.getComputedStyle(gd).display;\n",
       "        if (!display || display === 'none') {{\n",
       "            console.log([gd, 'removed!']);\n",
       "            Plotly.purge(gd);\n",
       "            observer.disconnect();\n",
       "        }}\n",
       "}});\n",
       "\n",
       "// Listen for the removal of the full notebook cells\n",
       "var notebookContainer = gd.closest('#notebook-container');\n",
       "if (notebookContainer) {{\n",
       "    x.observe(notebookContainer, {childList: true});\n",
       "}}\n",
       "\n",
       "// Listen for the clearing of the current output cell\n",
       "var outputEl = gd.closest('.output');\n",
       "if (outputEl) {{\n",
       "    x.observe(outputEl, {childList: true});\n",
       "}}\n",
       "\n",
       "                        })                };                });            </script>        </div>"
      ]
     },
     "metadata": {},
     "output_type": "display_data"
    }
   ],
   "source": [
    "pivot_table_result_setor_geral2 = pivot_table_result_setor_geral.sort_values(by='mean',ascending=False)\n",
    "pivot_table_result_setor_geral2[\"Color\"] = np.where(pivot_table_result_setor_geral2[\"mean\"] < 0, 'red', 'green')\n",
    "\n",
    "fig = go.Figure()\n",
    "\n",
    "fig.add_trace(go.Bar(name='Net', x=pivot_table_result_setor_geral2['mean'], y=pivot_table_result_setor_geral2.index, marker_color=pivot_table_result_setor_geral2['Color'],orientation='h'))\n",
    "\n",
    "annotations = []\n",
    "\n",
    "x_pos = pivot_table_result_setor_geral2[pivot_table_result_setor_geral2['mean']>0].index\n",
    "y_pos = np.round(pivot_table_result_setor_geral2[pivot_table_result_setor_geral2[\"mean\"]>0]['mean'], decimals=2)\n",
    "\n",
    "x_neg = pivot_table_result_setor_geral2[pivot_table_result_setor_geral2['mean']<0].index\n",
    "y_neg = np.round(pivot_table_result_setor_geral2[pivot_table_result_setor_geral2[\"mean\"]<0]['mean'], decimals=2)\n",
    "\n",
    "for yd, xd in zip(y_pos, x_pos):\n",
    "  annotations.append(dict(xref='x1', yref='y1', y=xd, x=yd + 1, text= str(yd)+'%', \n",
    "                            font=dict(family='Arial', size=25, color='black'), showarrow=False))\n",
    "\n",
    "for yd, xd in zip(y_neg, x_neg):\n",
    "  annotations.append(dict(xref='x1', yref='y1', y=xd, x=yd - 1.5, text= str(yd)+'%', \n",
    "                            font=dict(family='Arial', size=25, color='black'), showarrow=False))\n",
    "\n",
    "fig.update_xaxes(visible=True, showticklabels=True,range=[-10, 10])\n",
    "fig.update_layout(barmode='stack',title_text='',template = 'simple_white',margin=dict(l=20, r=20, t=20, b=20), \n",
    "                  paper_bgcolor=\"#f7f8fa\",width=1200,height=1100,annotations=annotations,\n",
    "                  font=dict(family=\"Arial black\",size=30,color=\"black\"))\n",
    "\n",
    "fig.show()"
   ]
  },
  {
   "cell_type": "code",
   "execution_count": null,
   "id": "a9362816",
   "metadata": {},
   "outputs": [],
   "source": []
  }
 ],
 "metadata": {
  "kernelspec": {
   "display_name": "Python 3 (ipykernel)",
   "language": "python",
   "name": "python3"
  },
  "language_info": {
   "codemirror_mode": {
    "name": "ipython",
    "version": 3
   },
   "file_extension": ".py",
   "mimetype": "text/x-python",
   "name": "python",
   "nbconvert_exporter": "python",
   "pygments_lexer": "ipython3",
   "version": "3.9.7"
  }
 },
 "nbformat": 4,
 "nbformat_minor": 5
}
