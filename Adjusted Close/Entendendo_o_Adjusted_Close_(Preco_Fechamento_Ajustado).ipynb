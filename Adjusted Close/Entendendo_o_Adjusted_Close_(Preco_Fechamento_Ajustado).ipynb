{
  "cells": [
    {
      "cell_type": "markdown",
      "metadata": {
        "colab_type": "text",
        "id": "view-in-github"
      },
      "source": [
        "<a href=\"https://colab.research.google.com/github/Trading-com-Dados/desenvolvimento_interno/blob/main/Entendendo_o_Adjusted_Close_(Preco_Fechamento_ajustado).ipynb\" target=\"_parent\"><img src=\"https://colab.research.google.com/assets/colab-badge.svg\" alt=\"Open In Colab\"/></a>"
      ]
    },
    {
      "cell_type": "markdown",
      "metadata": {
        "id": "jFrSGaU8fwKs"
      },
      "source": [
        "---\n",
        "# ***Adjusted Close*: o que é, quando usar e como calcular?**\n",
        "---\n"
      ]
    },
    {
      "cell_type": "markdown",
      "metadata": {
        "id": "mvpygFFAfzFv"
      },
      "source": [
        "Retirado do site do Economática:\n",
        "\n",
        "Ajustar por proventos: Existem acontecimentos envolvendo a base acionária da empresa que provocam descontinuidade no preço de suas ações.\n",
        "\n",
        "Exemplo 1: Se as ações da empresa sofrem um desdobramento (split) onde cada ação antiga é substituída por dez ações novas, a cotação de suas ações vai se reduzir a um décimo de seu valor antes do desdobramento.\n",
        "\n",
        "Exemplo 2: Se uma ação paga um dividendo de $0,50, sua cotação decrescerá $0,50 imediatamente após o pagamento do dividendo (data EX)\n",
        "\n",
        "É necessário então que as cotações anteriores a um provento (desde o início do histórico até o dia antes da data EX) sejam ajustadas de maneira a serem comparáveis às cotações pós-provento e a refletir somente valorizações e desvalorizações genuínas\n",
        "\n",
        "As opções desta função são:\n",
        "\n",
        "Não : As cotações serão apresentadas em seu valor original, sem estarem ajustadas pelos proventos\n",
        "\n",
        "Sim, inclusive dividendos: As cotações estarão ajustadas por todos os tipos proventos\n",
        "\n",
        "Sim, exceto dividendos: As cotações não estarão ajustadas por pagamento de dividendos, mas estarão ajustados por todos os outros tipos de proventos\n",
        "\n",
        "Por default, o sistema apresenta as cotações sempre na segunda alternativa (Sim, inclusive dividendos). Portanto, se você quiser as cotações originais, você deverá alterar este parâmetro para sua primeira alternativa (Não)\n",
        "\n",
        "As fórmulas abaixo apresentam o cálculo do fator de ajuste para cada tipo de provento. O fator de ajuste é o numero pelo qual são multiplicadas todas as cotações anteriores ao provento (desde o início da série até o dia anterior ao provento) de maneira que as cotações anteriores ao provento sejam comparáveis às cotações posteriores ao provento\n",
        "\n",
        "Dividendo: F = 1 – D / Pu\n",
        "\n",
        "Bonificação: F = 1 / (1 + b)\n",
        "\n",
        "Desdobramento: F = 1 / d\n",
        "\n",
        "Redução de Capital: F = 1 / (1 – r)\n",
        "\n",
        "Grupamento: F = g\n",
        "\n",
        "Subscrição: F = (Pu + s * S) / ((1 + s) * Pu)\n",
        "\n",
        "Cisão: F = (1 – c / 100)\n",
        "\n",
        "Outros tipos de proventos: Os outros tipos de proventos (Colocação de ações, Conversão de títulos em ações, etc) não criam descontinuidade na cotação e portanto não requerem ajustes nas cotações anteriores\n",
        "\n",
        "Legenda:\n",
        "\n",
        "F = fator de ajuste\n",
        "\n",
        "D = Valor do dividendo\n",
        "\n",
        "Pu = Preço original na última data “com” (data imediatamente anterior à data EX)\n",
        "\n",
        "b = Quantidade de ações novas recebidas por cada ação possuída\n",
        "\n",
        "d = Quantidade de ações novas que substituirão cada ação antiga\n",
        "\n",
        "r = Quantidade de ações canceladas para cada ação possuída\n",
        "\n",
        "g = Quantidade de ações antigas que serão substituídas por cada ação nova\n",
        "\n",
        "S = Preço da subscrição\n",
        "\n",
        "s = Quantidade de ações novas ofertadas por cada ação possuída\n",
        "\n",
        "c = porcentagem que a parte cindida representava do valor de mercado da empresa antes da cisão"
      ]
    },
    {
      "cell_type": "markdown",
      "id": "b866b7e6",
      "metadata": {},
      "source": [
        "---\n",
        "# **INTRODUÇÃO AO PYTHON: <u> escrever algo qd tiver inspirado</u>** \n",
        "---\n",
        "#### *Apresentação:*\n",
        "#### SCRIPT INICIAL DE PYTHON, ABORDANDO AS COISAS MAIS BASICAS PRA SE COMEÇAR A USAR PYTHON. sEGUIR MODELO DA USP\n",
        "---\n"
      ]
    },
    {
      "cell_type": "markdown",
      "id": "46fcfedc",
      "metadata": {
        "id": "-n83EmYfoQw_"
      },
      "source": [
        "# **1. Bibliotecas utilizadas**"
      ]
    },
    {
      "cell_type": "code",
      "execution_count": null,
      "id": "0b19efe2",
      "metadata": {
        "colab": {
          "base_uri": "https://localhost:8080/"
        },
        "id": "wZ4nJnGpoQxA",
        "outputId": "a2c508a5-007f-40f4-dca7-50a2cfed2837"
      },
      "outputs": [
        {
          "name": "stdout",
          "output_type": "stream",
          "text": [
            "Requirement already satisfied: numpy in /usr/local/lib/python3.7/dist-packages (1.19.5)\n",
            "Requirement already satisfied: pandas in /usr/local/lib/python3.7/dist-packages (1.3.5)\n",
            "Requirement already satisfied: pytz>=2017.3 in /usr/local/lib/python3.7/dist-packages (from pandas) (2018.9)\n",
            "Requirement already satisfied: python-dateutil>=2.7.3 in /usr/local/lib/python3.7/dist-packages (from pandas) (2.8.2)\n",
            "Requirement already satisfied: six>=1.5 in /usr/local/lib/python3.7/dist-packages (from python-dateutil>=2.7.3->pandas) (1.15.0)\n",
            "Requirement already satisfied: matplotlib in /usr/local/lib/python3.7/dist-packages (3.2.2)\n",
            "Requirement already satisfied: plotly in /usr/local/lib/python3.7/dist-packages (5.5.0)\n",
            "Requirement already satisfied: cycler>=0.10 in /usr/local/lib/python3.7/dist-packages (from matplotlib) (0.11.0)\n",
            "Requirement already satisfied: python-dateutil>=2.1 in /usr/local/lib/python3.7/dist-packages (from matplotlib) (2.8.2)\n",
            "Requirement already satisfied: numpy>=1.11 in /usr/local/lib/python3.7/dist-packages (from matplotlib) (1.19.5)\n",
            "Requirement already satisfied: kiwisolver>=1.0.1 in /usr/local/lib/python3.7/dist-packages (from matplotlib) (1.3.2)\n",
            "Requirement already satisfied: pyparsing!=2.0.4,!=2.1.2,!=2.1.6,>=2.0.1 in /usr/local/lib/python3.7/dist-packages (from matplotlib) (3.0.7)\n",
            "Requirement already satisfied: six>=1.5 in /usr/local/lib/python3.7/dist-packages (from python-dateutil>=2.1->matplotlib) (1.15.0)\n",
            "Requirement already satisfied: tenacity>=6.2.0 in /usr/local/lib/python3.7/dist-packages (from plotly) (8.0.1)\n",
            "Collecting yfinance\n",
            "  Downloading yfinance-0.1.70-py2.py3-none-any.whl (26 kB)\n",
            "Requirement already satisfied: multitasking>=0.0.7 in /usr/local/lib/python3.7/dist-packages (from yfinance) (0.0.10)\n",
            "Collecting lxml>=4.5.1\n",
            "  Downloading lxml-4.7.1-cp37-cp37m-manylinux_2_17_x86_64.manylinux2014_x86_64.manylinux_2_24_x86_64.whl (6.4 MB)\n",
            "\u001b[K     |████████████████████████████████| 6.4 MB 7.3 MB/s \n",
            "\u001b[?25hCollecting requests>=2.26\n",
            "  Downloading requests-2.27.1-py2.py3-none-any.whl (63 kB)\n",
            "\u001b[K     |████████████████████████████████| 63 kB 1.3 MB/s \n",
            "\u001b[?25hRequirement already satisfied: numpy>=1.15 in /usr/local/lib/python3.7/dist-packages (from yfinance) (1.19.5)\n",
            "Requirement already satisfied: pandas>=0.24.0 in /usr/local/lib/python3.7/dist-packages (from yfinance) (1.3.5)\n",
            "Requirement already satisfied: pytz>=2017.3 in /usr/local/lib/python3.7/dist-packages (from pandas>=0.24.0->yfinance) (2018.9)\n",
            "Requirement already satisfied: python-dateutil>=2.7.3 in /usr/local/lib/python3.7/dist-packages (from pandas>=0.24.0->yfinance) (2.8.2)\n",
            "Requirement already satisfied: six>=1.5 in /usr/local/lib/python3.7/dist-packages (from python-dateutil>=2.7.3->pandas>=0.24.0->yfinance) (1.15.0)\n",
            "Requirement already satisfied: certifi>=2017.4.17 in /usr/local/lib/python3.7/dist-packages (from requests>=2.26->yfinance) (2021.10.8)\n",
            "Requirement already satisfied: urllib3<1.27,>=1.21.1 in /usr/local/lib/python3.7/dist-packages (from requests>=2.26->yfinance) (1.24.3)\n",
            "Requirement already satisfied: charset-normalizer~=2.0.0 in /usr/local/lib/python3.7/dist-packages (from requests>=2.26->yfinance) (2.0.11)\n",
            "Requirement already satisfied: idna<4,>=2.5 in /usr/local/lib/python3.7/dist-packages (from requests>=2.26->yfinance) (2.10)\n",
            "Installing collected packages: requests, lxml, yfinance\n",
            "  Attempting uninstall: requests\n",
            "    Found existing installation: requests 2.23.0\n",
            "    Uninstalling requests-2.23.0:\n",
            "      Successfully uninstalled requests-2.23.0\n",
            "  Attempting uninstall: lxml\n",
            "    Found existing installation: lxml 4.2.6\n",
            "    Uninstalling lxml-4.2.6:\n",
            "      Successfully uninstalled lxml-4.2.6\n",
            "\u001b[31mERROR: pip's dependency resolver does not currently take into account all the packages that are installed. This behaviour is the source of the following dependency conflicts.\n",
            "google-colab 1.0.0 requires requests~=2.23.0, but you have requests 2.27.1 which is incompatible.\n",
            "datascience 0.10.6 requires folium==0.2.1, but you have folium 0.8.3 which is incompatible.\u001b[0m\n",
            "Successfully installed lxml-4.7.1 requests-2.27.1 yfinance-0.1.70\n",
            "Collecting ta\n",
            "  Downloading ta-0.9.0.tar.gz (25 kB)\n",
            "Requirement already satisfied: numpy in /usr/local/lib/python3.7/dist-packages (from ta) (1.19.5)\n",
            "Requirement already satisfied: pandas in /usr/local/lib/python3.7/dist-packages (from ta) (1.3.5)\n",
            "Requirement already satisfied: pytz>=2017.3 in /usr/local/lib/python3.7/dist-packages (from pandas->ta) (2018.9)\n",
            "Requirement already satisfied: python-dateutil>=2.7.3 in /usr/local/lib/python3.7/dist-packages (from pandas->ta) (2.8.2)\n",
            "Requirement already satisfied: six>=1.5 in /usr/local/lib/python3.7/dist-packages (from python-dateutil>=2.7.3->pandas->ta) (1.15.0)\n",
            "Building wheels for collected packages: ta\n",
            "  Building wheel for ta (setup.py) ... \u001b[?25l\u001b[?25hdone\n",
            "  Created wheel for ta: filename=ta-0.9.0-py3-none-any.whl size=28908 sha256=8565c996b36102718f3dbbac51ed4ab81975dfa8d5ba2001c7f18123c7362d47\n",
            "  Stored in directory: /root/.cache/pip/wheels/72/78/64/cc1c01506a1010a9845e9bd7c69333730f7174661228ea4f98\n",
            "Successfully built ta\n",
            "Installing collected packages: ta\n",
            "Successfully installed ta-0.9.0\n",
            "Collecting backtrader\n",
            "  Downloading backtrader-1.9.76.123-py2.py3-none-any.whl (410 kB)\n",
            "\u001b[K     |████████████████████████████████| 410 kB 5.4 MB/s \n",
            "\u001b[?25hInstalling collected packages: backtrader\n",
            "Successfully installed backtrader-1.9.76.123\n"
          ]
        }
      ],
      "source": [
        "!pip install numpy pandas\n",
        "!pip install matplotlib plotly\n",
        "!pip install yfinance\n",
        "!pip install ta\n",
        "!pip install backtrader"
      ]
    },
    {
      "cell_type": "code",
      "execution_count": null,
      "id": "6fd3c4a5",
      "metadata": {
        "id": "J6VrLf9UoQxC"
      },
      "outputs": [],
      "source": [
        "import numpy as np\n",
        "import pandas as pd\n",
        "from datetime import datetime\n",
        "import time\n",
        "import matplotlib.pyplot as plt\n",
        "import plotly.graph_objects as go\n",
        "import matplotlib\n",
        "from plotly.subplots import make_subplots\n",
        "import yfinance as yf\n",
        "import ta\n",
        "import backtrader as bt\n",
        "%matplotlib inline"
      ]
    }
  ],
  "metadata": {
    "colab": {
      "authorship_tag": "ABX9TyMaip2STruFO4A6P0zRbnCw",
      "include_colab_link": true,
      "name": "Entendendo_o_Adjusted_Close_(Preco_Fechamento_ajustado).ipynb",
      "provenance": []
    },
    "kernelspec": {
      "display_name": "Python 3",
      "name": "python3"
    },
    "language_info": {
      "name": "python"
    }
  },
  "nbformat": 4,
  "nbformat_minor": 0
}
