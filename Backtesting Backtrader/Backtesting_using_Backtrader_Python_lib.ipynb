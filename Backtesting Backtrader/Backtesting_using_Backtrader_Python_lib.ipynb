{
 "cells": [
  {
   "cell_type": "markdown",
   "metadata": {
    "colab_type": "text",
    "id": "view-in-github"
   },
   "source": [
    "<a href=\"https://colab.research.google.com/github/Trading-com-Dados/desenvolvimento_interno/blob/main/UPDATE_20220125_Introducao_Backtesting_Trading_Strategies_Python.ipynb\" target=\"_parent\"><img src=\"https://colab.research.google.com/assets/colab-badge.svg\" alt=\"Open In Colab\"/></a>"
   ]
  },
  {
   "cell_type": "markdown",
   "metadata": {
    "id": "2Kcc-PFkoriJ"
   },
   "source": [
    "---\n",
    "# **BACKTESTING: Definindo estratégias de trading com Python** \n",
    "---\n",
    "#### *Disclaimer:*\n",
    "#### Este código foi elaborado para fins exclusivamente educacionais. O conteúdo aqui apresentado visa fornecer informações complementares para auxiliar o investidor na tomada de suas próprias decisões de investimento. Reforçando, nenhum tópico aqui abordado constitui qualquer tipo de indicação/oferta/solicitação de compra/venda de qualquer produto.\n",
    "---\n",
    "\n"
   ]
  },
  {
   "cell_type": "markdown",
   "metadata": {
    "id": "-n83EmYfoQw_"
   },
   "source": [
    "# **1. Bibliotecas utilizadas**"
   ]
  },
  {
   "cell_type": "code",
   "execution_count": null,
   "metadata": {
    "colab": {
     "base_uri": "https://localhost:8080/"
    },
    "id": "wZ4nJnGpoQxA",
    "outputId": "4d2b03aa-6546-4ba7-f647-5bf723e11b21"
   },
   "outputs": [
    {
     "name": "stdout",
     "output_type": "stream",
     "text": [
      "Requirement already satisfied: numpy in /usr/local/lib/python3.7/dist-packages (1.19.5)\n",
      "Requirement already satisfied: pandas in /usr/local/lib/python3.7/dist-packages (1.3.5)\n",
      "Requirement already satisfied: pytz>=2017.3 in /usr/local/lib/python3.7/dist-packages (from pandas) (2018.9)\n",
      "Requirement already satisfied: python-dateutil>=2.7.3 in /usr/local/lib/python3.7/dist-packages (from pandas) (2.8.2)\n",
      "Requirement already satisfied: six>=1.5 in /usr/local/lib/python3.7/dist-packages (from python-dateutil>=2.7.3->pandas) (1.15.0)\n",
      "Requirement already satisfied: matplotlib in /usr/local/lib/python3.7/dist-packages (3.2.2)\n",
      "Requirement already satisfied: plotly in /usr/local/lib/python3.7/dist-packages (5.5.0)\n",
      "Requirement already satisfied: python-dateutil>=2.1 in /usr/local/lib/python3.7/dist-packages (from matplotlib) (2.8.2)\n",
      "Requirement already satisfied: cycler>=0.10 in /usr/local/lib/python3.7/dist-packages (from matplotlib) (0.11.0)\n",
      "Requirement already satisfied: pyparsing!=2.0.4,!=2.1.2,!=2.1.6,>=2.0.1 in /usr/local/lib/python3.7/dist-packages (from matplotlib) (3.0.7)\n",
      "Requirement already satisfied: numpy>=1.11 in /usr/local/lib/python3.7/dist-packages (from matplotlib) (1.19.5)\n",
      "Requirement already satisfied: kiwisolver>=1.0.1 in /usr/local/lib/python3.7/dist-packages (from matplotlib) (1.3.2)\n",
      "Requirement already satisfied: six>=1.5 in /usr/local/lib/python3.7/dist-packages (from python-dateutil>=2.1->matplotlib) (1.15.0)\n",
      "Requirement already satisfied: tenacity>=6.2.0 in /usr/local/lib/python3.7/dist-packages (from plotly) (8.0.1)\n",
      "Collecting yfinance\n",
      "  Downloading yfinance-0.1.70-py2.py3-none-any.whl (26 kB)\n",
      "Collecting requests>=2.26\n",
      "  Downloading requests-2.27.1-py2.py3-none-any.whl (63 kB)\n",
      "\u001b[K     |████████████████████████████████| 63 kB 1.2 MB/s \n",
      "\u001b[?25hRequirement already satisfied: numpy>=1.15 in /usr/local/lib/python3.7/dist-packages (from yfinance) (1.19.5)\n",
      "Collecting lxml>=4.5.1\n",
      "  Downloading lxml-4.7.1-cp37-cp37m-manylinux_2_17_x86_64.manylinux2014_x86_64.manylinux_2_24_x86_64.whl (6.4 MB)\n",
      "\u001b[K     |████████████████████████████████| 6.4 MB 11.4 MB/s \n",
      "\u001b[?25hRequirement already satisfied: pandas>=0.24.0 in /usr/local/lib/python3.7/dist-packages (from yfinance) (1.3.5)\n",
      "Requirement already satisfied: multitasking>=0.0.7 in /usr/local/lib/python3.7/dist-packages (from yfinance) (0.0.10)\n",
      "Requirement already satisfied: python-dateutil>=2.7.3 in /usr/local/lib/python3.7/dist-packages (from pandas>=0.24.0->yfinance) (2.8.2)\n",
      "Requirement already satisfied: pytz>=2017.3 in /usr/local/lib/python3.7/dist-packages (from pandas>=0.24.0->yfinance) (2018.9)\n",
      "Requirement already satisfied: six>=1.5 in /usr/local/lib/python3.7/dist-packages (from python-dateutil>=2.7.3->pandas>=0.24.0->yfinance) (1.15.0)\n",
      "Requirement already satisfied: idna<4,>=2.5 in /usr/local/lib/python3.7/dist-packages (from requests>=2.26->yfinance) (2.10)\n",
      "Requirement already satisfied: urllib3<1.27,>=1.21.1 in /usr/local/lib/python3.7/dist-packages (from requests>=2.26->yfinance) (1.24.3)\n",
      "Requirement already satisfied: certifi>=2017.4.17 in /usr/local/lib/python3.7/dist-packages (from requests>=2.26->yfinance) (2021.10.8)\n",
      "Requirement already satisfied: charset-normalizer~=2.0.0 in /usr/local/lib/python3.7/dist-packages (from requests>=2.26->yfinance) (2.0.11)\n",
      "Installing collected packages: requests, lxml, yfinance\n",
      "  Attempting uninstall: requests\n",
      "    Found existing installation: requests 2.23.0\n",
      "    Uninstalling requests-2.23.0:\n",
      "      Successfully uninstalled requests-2.23.0\n",
      "  Attempting uninstall: lxml\n",
      "    Found existing installation: lxml 4.2.6\n",
      "    Uninstalling lxml-4.2.6:\n",
      "      Successfully uninstalled lxml-4.2.6\n",
      "\u001b[31mERROR: pip's dependency resolver does not currently take into account all the packages that are installed. This behaviour is the source of the following dependency conflicts.\n",
      "google-colab 1.0.0 requires requests~=2.23.0, but you have requests 2.27.1 which is incompatible.\n",
      "datascience 0.10.6 requires folium==0.2.1, but you have folium 0.8.3 which is incompatible.\u001b[0m\n",
      "Successfully installed lxml-4.7.1 requests-2.27.1 yfinance-0.1.70\n",
      "Collecting ta\n",
      "  Downloading ta-0.9.0.tar.gz (25 kB)\n",
      "Requirement already satisfied: numpy in /usr/local/lib/python3.7/dist-packages (from ta) (1.19.5)\n",
      "Requirement already satisfied: pandas in /usr/local/lib/python3.7/dist-packages (from ta) (1.3.5)\n",
      "Requirement already satisfied: pytz>=2017.3 in /usr/local/lib/python3.7/dist-packages (from pandas->ta) (2018.9)\n",
      "Requirement already satisfied: python-dateutil>=2.7.3 in /usr/local/lib/python3.7/dist-packages (from pandas->ta) (2.8.2)\n",
      "Requirement already satisfied: six>=1.5 in /usr/local/lib/python3.7/dist-packages (from python-dateutil>=2.7.3->pandas->ta) (1.15.0)\n",
      "Building wheels for collected packages: ta\n",
      "  Building wheel for ta (setup.py) ... \u001b[?25l\u001b[?25hdone\n",
      "  Created wheel for ta: filename=ta-0.9.0-py3-none-any.whl size=28908 sha256=e6eed132206f24f35e456fe6615fc831a1545a611dd1dc937374d2b33b8ff388\n",
      "  Stored in directory: /root/.cache/pip/wheels/72/78/64/cc1c01506a1010a9845e9bd7c69333730f7174661228ea4f98\n",
      "Successfully built ta\n",
      "Installing collected packages: ta\n",
      "Successfully installed ta-0.9.0\n",
      "Collecting backtrader\n",
      "  Downloading backtrader-1.9.76.123-py2.py3-none-any.whl (410 kB)\n",
      "\u001b[K     |████████████████████████████████| 410 kB 5.5 MB/s \n",
      "\u001b[?25hInstalling collected packages: backtrader\n",
      "Successfully installed backtrader-1.9.76.123\n"
     ]
    }
   ],
   "source": [
    "!pip install numpy pandas\n",
    "!pip install matplotlib plotly\n",
    "!pip install yfinance\n",
    "!pip install ta\n",
    "!pip install backtrader"
   ]
  },
  {
   "cell_type": "code",
   "execution_count": null,
   "metadata": {
    "id": "J6VrLf9UoQxC"
   },
   "outputs": [],
   "source": [
    "import numpy as np\n",
    "import pandas as pd\n",
    "from datetime import datetime\n",
    "import time\n",
    "import matplotlib.pyplot as plt\n",
    "import plotly.graph_objects as go\n",
    "import matplotlib\n",
    "from plotly.subplots import make_subplots\n",
    "import yfinance as yf\n",
    "import ta\n",
    "import backtrader as bt\n",
    "%matplotlib inline"
   ]
  },
  {
   "cell_type": "markdown",
   "metadata": {
    "id": "YoTlXvEeoQxD"
   },
   "source": [
    "# **2. Revisando o conceito de *Classes* e *Métodos***"
   ]
  },
  {
   "cell_type": "markdown",
   "metadata": {
    "id": "_J1HH70HoQxE"
   },
   "source": [
    "## 2.1. Python: orientação à objetos\n",
    "\n",
    "##### Variáveis e funções mais básicas"
   ]
  },
  {
   "cell_type": "code",
   "execution_count": null,
   "metadata": {
    "colab": {
     "base_uri": "https://localhost:8080/"
    },
    "id": "Uv34Cb5koQxE",
    "outputId": "380783a5-49ff-4e52-bde5-59deb05db71e"
   },
   "outputs": [
    {
     "name": "stdout",
     "output_type": "stream",
     "text": [
      "PETR4 pertence ao setor de Combustíveis\n",
      "<class 'list'>\n"
     ]
    },
    {
     "data": {
      "text/plain": [
       "32.25"
      ]
     },
     "execution_count": 5,
     "metadata": {},
     "output_type": "execute_result"
    }
   ],
   "source": [
    "ativo = 'PETR4'\n",
    "setor = 'Combustíveis'\n",
    "ohlc = [32.35,33.17,31.55,31.93]\n",
    "\n",
    "print(ativo,\"pertence ao setor de\",setor)\n",
    "print(type(ohlc))\n",
    "media = sum(ohlc)/len(ohlc)\n",
    "media"
   ]
  },
  {
   "cell_type": "markdown",
   "metadata": {
    "id": "LWE1CaZBoQxF"
   },
   "source": [
    "## 2.2. Classes: armazenar dados, funções e até coleções de métodos em um único objeto"
   ]
  },
  {
   "cell_type": "markdown",
   "metadata": {
    "id": "QwpQMi5yoQxG"
   },
   "source": [
    "### 2.2.1. Criar uma classe que define um ativo\n",
    "\\__init__  ->  permite criar a funcionalidade inicial da classe <p>\n",
    "self -> definir as propriedades e métodos de uma instância"
   ]
  },
  {
   "cell_type": "code",
   "execution_count": null,
   "metadata": {
    "id": "VWEDKl7ooQxG"
   },
   "outputs": [],
   "source": [
    "class Ativo:\n",
    "    def __init__(self,ticker,setor,ohlc):\n",
    "        self.ticker = str(ticker)\n",
    "        self.setor = str(setor)\n",
    "        self.ohlc = list(ohlc)\n",
    "    pass"
   ]
  },
  {
   "cell_type": "code",
   "execution_count": null,
   "metadata": {
    "colab": {
     "base_uri": "https://localhost:8080/"
    },
    "id": "G30NgeAToQxH",
    "outputId": "e9be81a6-4b38-4d89-a0f4-1401fc24ec29"
   },
   "outputs": [
    {
     "data": {
      "text/plain": [
       "<__main__.Ativo at 0x7fad49e9d090>"
      ]
     },
     "execution_count": 7,
     "metadata": {},
     "output_type": "execute_result"
    }
   ],
   "source": [
    "ativo1 = Ativo('PETR4','Combustíveis',[32.35,33.17,31.55,31.93])\n",
    "ativo1"
   ]
  },
  {
   "cell_type": "code",
   "execution_count": null,
   "metadata": {
    "colab": {
     "base_uri": "https://localhost:8080/"
    },
    "id": "Ggsbp495oQxI",
    "outputId": "e9cb52e0-80b4-4266-e750-e4ab8c6261cc"
   },
   "outputs": [
    {
     "data": {
      "application/vnd.google.colaboratory.intrinsic+json": {
       "type": "string"
      },
      "text/plain": [
       "'PETR4'"
      ]
     },
     "execution_count": 8,
     "metadata": {},
     "output_type": "execute_result"
    }
   ],
   "source": [
    "ativo1.ticker"
   ]
  },
  {
   "cell_type": "code",
   "execution_count": null,
   "metadata": {
    "colab": {
     "base_uri": "https://localhost:8080/"
    },
    "id": "Wej1hQuloQxJ",
    "outputId": "f6927a5d-cf13-4a95-ba4a-55cbc8bb1ca8"
   },
   "outputs": [
    {
     "data": {
      "text/plain": [
       "31.93"
      ]
     },
     "execution_count": 9,
     "metadata": {},
     "output_type": "execute_result"
    }
   ],
   "source": [
    "ativo1.ohlc[3]"
   ]
  },
  {
   "cell_type": "code",
   "execution_count": null,
   "metadata": {
    "colab": {
     "base_uri": "https://localhost:8080/"
    },
    "id": "mVQkn665oQxJ",
    "outputId": "942fddcd-1d4c-4ad4-b801-ab02b6cdd45a"
   },
   "outputs": [
    {
     "data": {
      "text/plain": [
       "False"
      ]
     },
     "execution_count": 10,
     "metadata": {},
     "output_type": "execute_result"
    }
   ],
   "source": [
    "ativo2 = Ativo('ITUB4','Financeiro',[25.32,27.01,25.18,26.77])\n",
    "ativo3 = Ativo('VALE3','Mineração',[80.87,82.55,80.76,82.40])\n",
    "ativo2.setor == ativo3.setor"
   ]
  },
  {
   "cell_type": "markdown",
   "metadata": {
    "id": "P_VKj4XDoQxK"
   },
   "source": [
    "### 2.2.2. Criar uma classe com métodos\n",
    "Dica: Ao trabalhar com classes, as 'cores no código' ajudam muito"
   ]
  },
  {
   "cell_type": "code",
   "execution_count": null,
   "metadata": {
    "id": "QM3ZXfjToQxK"
   },
   "outputs": [],
   "source": [
    "class Ativo:\n",
    "    def __init__(self,ticker,setor,ohlc):\n",
    "        self.ticker = str(ticker)\n",
    "        self.setor = str(setor)\n",
    "        self.ohlc = list(ohlc)\n",
    "    \n",
    "    def Amplitude(self):\n",
    "        print(round((self.ohlc[1]-self.ohlc[2]),2))\n",
    "    \n",
    "    def Tipo(self):\n",
    "        if self.ticker[-1] == '3':\n",
    "            print(self.ticker,'é uma ação é do tipo ORDINÁRIA')\n",
    "        elif self.ticker[-1] == '4':\n",
    "            print(self.ticker,'é uma ação é do tipo PREFERENCIAL')\n",
    "        elif self.ticker[-1] == '1':\n",
    "            print(self.ticker,'é uma ação é do tipo UNIT')\n",
    "        else:\n",
    "            print('Não tenho certeza, melhor consultar o site da B3')\n",
    "    \n",
    "    def Resultado(self):\n",
    "        resultado = (self.ohlc[3]-self.ohlc[0])\n",
    "        if resultado == 0:\n",
    "          print(self.ticker,'fechou estável')\n",
    "        elif resultado > 0:\n",
    "          print(self.ticker,'fechou em alta')\n",
    "        elif resultado < 0:\n",
    "          print(self.ticker,'fechou em baixa')\n",
    "\n",
    "    def Fech_prox_max_min(self):\n",
    "        media_max_min = np.mean([self.ohlc[1],self.ohlc[2]])\n",
    "        if self.ohlc[3] > media_max_min:\n",
    "            print(self.ticker,'parece estar em tendencia de alta')\n",
    "        else:\n",
    "            print(self.ticker,'parece estar em tendencia de baixa')\n",
    "\n",
    "    pass"
   ]
  },
  {
   "cell_type": "code",
   "execution_count": null,
   "metadata": {
    "id": "ASxA3xBuoQxL"
   },
   "outputs": [],
   "source": [
    "ativo1 = Ativo('PETR4','Combustíveis',[32.35,33.17,31.55,31.93])\n",
    "ativo2 = Ativo('ITUB4','Financeiro',[25.32,27.01,25.18,26.77])\n",
    "ativo3 = Ativo('VALE3','Mineração',[80.87,82.55,80.76,82.40])\n",
    "ativo4 = Ativo('BPAC11','Financeiro',[24.17,24.77,23.70,23.89])"
   ]
  },
  {
   "cell_type": "code",
   "execution_count": null,
   "metadata": {
    "colab": {
     "base_uri": "https://localhost:8080/"
    },
    "id": "bqPOKduyoQxM",
    "outputId": "44f7890a-5c0d-41c8-c6ee-5f712ca15514"
   },
   "outputs": [
    {
     "name": "stdout",
     "output_type": "stream",
     "text": [
      "1.62\n"
     ]
    }
   ],
   "source": [
    "ativo1.Amplitude()\n"
   ]
  },
  {
   "cell_type": "code",
   "execution_count": null,
   "metadata": {
    "colab": {
     "base_uri": "https://localhost:8080/"
    },
    "id": "B7xycia1t4gV",
    "outputId": "7a454323-7f86-4476-dabb-6b103be675d2"
   },
   "outputs": [
    {
     "name": "stdout",
     "output_type": "stream",
     "text": [
      "1.79\n"
     ]
    }
   ],
   "source": [
    "Ativo.Amplitude(ativo3)"
   ]
  },
  {
   "cell_type": "code",
   "execution_count": null,
   "metadata": {
    "colab": {
     "base_uri": "https://localhost:8080/"
    },
    "id": "qFWfUF4moQxN",
    "outputId": "f9c4c158-350a-49e5-d67b-72165b41a22a"
   },
   "outputs": [
    {
     "name": "stdout",
     "output_type": "stream",
     "text": [
      "BPAC11 é uma ação é do tipo UNIT\n"
     ]
    }
   ],
   "source": [
    "ativo4.Tipo()"
   ]
  },
  {
   "cell_type": "code",
   "execution_count": null,
   "metadata": {
    "colab": {
     "base_uri": "https://localhost:8080/"
    },
    "id": "XpfaUn2PoQxP",
    "outputId": "b185782a-e339-413e-d0b1-e386fe28ef9b"
   },
   "outputs": [
    {
     "data": {
      "text/plain": [
       "True"
      ]
     },
     "execution_count": 16,
     "metadata": {},
     "output_type": "execute_result"
    }
   ],
   "source": [
    "ativo2.setor == ativo4.setor"
   ]
  },
  {
   "cell_type": "code",
   "execution_count": null,
   "metadata": {
    "colab": {
     "base_uri": "https://localhost:8080/"
    },
    "id": "6jBaoV2UoQxP",
    "outputId": "5902f36a-298f-4c60-8daf-45e4516b2f9f"
   },
   "outputs": [
    {
     "name": "stdout",
     "output_type": "stream",
     "text": [
      "ITUB4 fechou em alta\n"
     ]
    }
   ],
   "source": [
    "ativo2.Resultado()"
   ]
  },
  {
   "cell_type": "code",
   "execution_count": null,
   "metadata": {
    "colab": {
     "base_uri": "https://localhost:8080/"
    },
    "id": "TWg_qW6YoQxQ",
    "outputId": "bc271381-9bd5-4a1f-b0fc-7688b73d9cce"
   },
   "outputs": [
    {
     "name": "stdout",
     "output_type": "stream",
     "text": [
      "VALE3 parece estar em tendencia de alta\n"
     ]
    }
   ],
   "source": [
    "Ativo.Fech_prox_max_min(ativo3)"
   ]
  },
  {
   "cell_type": "code",
   "execution_count": null,
   "metadata": {
    "colab": {
     "base_uri": "https://localhost:8080/"
    },
    "id": "ZaOJRYdroQxQ",
    "outputId": "e4b62506-8f48-46a2-97a1-7fe3780e5fb2"
   },
   "outputs": [
    {
     "name": "stdout",
     "output_type": "stream",
     "text": [
      "WEGE3 fechou em baixa\n"
     ]
    }
   ],
   "source": [
    "ativo5 = Ativo('WEGE3','Bens_Industriais',[32.46,33.84,31.18,32.12])\n",
    "Ativo.Resultado(ativo5)"
   ]
  },
  {
   "cell_type": "markdown",
   "metadata": {
    "id": "99VO9kmtoQxR"
   },
   "source": [
    "# **3. Entendendo o funcionamento do \"*Cérebro Backtrader*\"**"
   ]
  },
  {
   "cell_type": "markdown",
   "metadata": {
    "id": "XDUgjhQQoQxR"
   },
   "source": [
    "## 3.1. Um pouco mais de Python:"
   ]
  },
  {
   "cell_type": "markdown",
   "metadata": {
    "id": "JsbHp87woQxR"
   },
   "source": [
    "### 3.1.1. *Expressions, quotations ...*"
   ]
  },
  {
   "cell_type": "code",
   "execution_count": null,
   "metadata": {
    "colab": {
     "base_uri": "https://localhost:8080/"
    },
    "id": "re2GOMnGoQxS",
    "outputId": "9364cd6f-33ae-48a1-f2ea-7e3ca21975d9"
   },
   "outputs": [
    {
     "name": "stdout",
     "output_type": "stream",
     "text": [
      "2.580645161290323\n",
      "Com uma ação de VALE3 consigo comprar 2.580645161290323 ações de PETR4\n"
     ]
    }
   ],
   "source": [
    "razao_ativos = ativo3.ohlc[3]/ativo1.ohlc[3]\n",
    "print(razao_ativos)\n",
    "print('Com uma ação de',ativo3.ticker,'consigo comprar',razao_ativos,'ações de',ativo1.ticker)"
   ]
  },
  {
   "cell_type": "code",
   "execution_count": null,
   "metadata": {
    "colab": {
     "base_uri": "https://localhost:8080/"
    },
    "id": "5jk6zve_oQxS",
    "outputId": "90669ae2-8add-41cb-8f82-064833ba3f1c"
   },
   "outputs": [
    {
     "name": "stdout",
     "output_type": "stream",
     "text": [
      "Com uma ação de VALE3 consigo comprar 2.6 ações de PETR4\n"
     ]
    }
   ],
   "source": [
    "print('Com uma ação de',ativo3.ticker,'consigo comprar %.1f ações de' % razao_ativos, ativo1.ticker)"
   ]
  },
  {
   "cell_type": "code",
   "execution_count": null,
   "metadata": {
    "colab": {
     "base_uri": "https://localhost:8080/"
    },
    "id": "6HY5M2D7oQxS",
    "outputId": "5b900e05-5fce-490d-9a28-1142ab72e718"
   },
   "outputs": [
    {
     "name": "stdout",
     "output_type": "stream",
     "text": [
      "Com uma ação de vale3 consigo comprar 2.6 ações de PETR4\n"
     ]
    }
   ],
   "source": [
    "print('Com uma ação de',f'{ativo3.ticker.lower()}','consigo comprar %.1f ações de' % razao_ativos,ativo1.ticker)"
   ]
  },
  {
   "cell_type": "code",
   "execution_count": null,
   "metadata": {
    "colab": {
     "base_uri": "https://localhost:8080/"
    },
    "id": "_WNYlnzgoQxT",
    "outputId": "d3f4d8d9-19b9-4a13-98a0-776a25184cca"
   },
   "outputs": [
    {
     "name": "stdout",
     "output_type": "stream",
     "text": [
      "Na data de 03/01/2022 \b, uma ação de VALE3 equivale a aproximadamente 2.6 ações de PETR4\n"
     ]
    }
   ],
   "source": [
    "data_cotacao = '2022-01-03'\n",
    "print('Na data de',f'{pd.to_datetime(data_cotacao).strftime(\"%d/%m/%Y\")}','\\b, uma ação de', \n",
    "f'{ativo3.ticker}','equivale a aproximadamente %.1f ações de' % razao_ativos,ativo1.ticker)"
   ]
  },
  {
   "cell_type": "code",
   "execution_count": null,
   "metadata": {
    "colab": {
     "base_uri": "https://localhost:8080/"
    },
    "id": "OjPTesMUSbAr",
    "outputId": "6c8f248e-82e5-4864-db1a-513c2f34375c"
   },
   "outputs": [
    {
     "data": {
      "text/plain": [
       "float"
      ]
     },
     "execution_count": 24,
     "metadata": {},
     "output_type": "execute_result"
    }
   ],
   "source": [
    "type(ativo5.ohlc[3])"
   ]
  },
  {
   "cell_type": "markdown",
   "metadata": {
    "id": "s-mwdxEnoQxT"
   },
   "source": [
    "### 3.1.2. Herança entre classes"
   ]
  },
  {
   "cell_type": "code",
   "execution_count": null,
   "metadata": {
    "id": "NSai0z5NoQxT"
   },
   "outputs": [],
   "source": [
    "class Ativo_num:\n",
    "    def __init__(self,ticker,setor,ohlc):\n",
    "        self.ticker = str(ticker)\n",
    "        self.setor = str(setor)\n",
    "        self.ohlc = list(ohlc)\n",
    "    \n",
    "    def Amplitude(self):\n",
    "        print(round((self.ohlc[1]-self.ohlc[2]),2))\n",
    "    \n",
    "    def Tipo(self):\n",
    "        if self.ticker[-1] == '3':\n",
    "            print(self.ticker,'é uma ação é do tipo ORDINÁRIA')\n",
    "        elif self.ticker[-1] == '4':\n",
    "            print(self.ticker,'é uma ação é do tipo PREFERENCIAL')\n",
    "        elif self.ticker[-1] == '1':\n",
    "            print(self.ticker,'é uma ação é do tipo UNIT')\n",
    "        else:\n",
    "            print('Não tenho certeza, melhor consultar o site da B3')\n",
    "\n",
    "    def Resultado(self):\n",
    "        resultado = (self.ohlc[3]-self.ohlc[0])\n",
    "        if resultado == 0:\n",
    "          print(self.ticker,'fechou estável')\n",
    "        elif resultado > 0:\n",
    "          print(self.ticker,'fechou em alta')\n",
    "        elif resultado < 0:\n",
    "          print(self.ticker,'fechou em baixa')\n",
    "\n",
    "    def Fech_prox_max_min(self):\n",
    "        media_max_min = np.mean([self.ohlc[1],self.ohlc[2]])\n",
    "        if self.ohlc[3] > media_max_min:\n",
    "            print(self.ticker,'parece estar em tendencia de alta')\n",
    "        else:\n",
    "            print(self.ticker,'parece estar em tendencia de baixa')\n",
    "            \n",
    "    def Amplitude_num(self):\n",
    "        return (round((self.ohlc[1]-self.ohlc[2]),2))\n",
    "    \n",
    "    def Resultado_num(self):\n",
    "        self.resultado_num = (self.ohlc[3]-self.ohlc[0])\n",
    "        return round(self.resultado_num,2)\n",
    "        \n",
    "pass"
   ]
  },
  {
   "cell_type": "code",
   "execution_count": null,
   "metadata": {
    "colab": {
     "base_uri": "https://localhost:8080/"
    },
    "id": "cYWjBXDGoQxU",
    "outputId": "e438c37d-5d82-48cf-a5ec-927db7ca7947"
   },
   "outputs": [
    {
     "name": "stdout",
     "output_type": "stream",
     "text": [
      "2.66\n"
     ]
    },
    {
     "data": {
      "text/plain": [
       "NoneType"
      ]
     },
     "execution_count": 26,
     "metadata": {},
     "output_type": "execute_result"
    }
   ],
   "source": [
    "x = ativo5.Amplitude()\n",
    "type(x)"
   ]
  },
  {
   "cell_type": "code",
   "execution_count": null,
   "metadata": {
    "id": "xrVZ38QpoQxU"
   },
   "outputs": [],
   "source": [
    "## Obs.: Output daria erro já que ativo5 foi criado usando classe Ativo ao invés de Ativo_num\n",
    "## ativo5.Amplitude_num()"
   ]
  },
  {
   "cell_type": "code",
   "execution_count": null,
   "metadata": {
    "id": "61GZciEpoQxV"
   },
   "outputs": [],
   "source": [
    "ativo1 = Ativo_num('PETR4','Combustíveis',[32.35,33.17,31.55,31.93])\n",
    "ativo2 = Ativo_num('ITUB4','Financeiro',[25.32,27.01,25.18,26.77])\n",
    "ativo3 = Ativo_num('VALE3','Mineração',[80.87,82.55,80.76,82.40])\n",
    "ativo4 = Ativo_num('BPAC11','Financeiro',[24.17,24.77,23.70,23.89])\n",
    "ativo5 = Ativo_num('WEGE3','Bens_Industriais',[32.46,33.84,31.18,32.12])"
   ]
  },
  {
   "cell_type": "code",
   "execution_count": null,
   "metadata": {
    "colab": {
     "base_uri": "https://localhost:8080/"
    },
    "id": "NbrtD2TAoQxV",
    "outputId": "fa22abaf-08d5-4a38-90ab-b0354839fef5"
   },
   "outputs": [
    {
     "data": {
      "text/plain": [
       "float"
      ]
     },
     "execution_count": 29,
     "metadata": {},
     "output_type": "execute_result"
    }
   ],
   "source": [
    "y = ativo5.Amplitude_num()\n",
    "type(y)"
   ]
  },
  {
   "cell_type": "code",
   "execution_count": null,
   "metadata": {
    "id": "jerNH_ZIoQxV"
   },
   "outputs": [],
   "source": [
    "class ETFs(Ativo_num):\n",
    "    def __init__(self,ticker,ohlc):\n",
    "        self.ticker = str(ticker)\n",
    "        self.ohlc = list(ohlc)"
   ]
  },
  {
   "cell_type": "code",
   "execution_count": null,
   "metadata": {
    "colab": {
     "base_uri": "https://localhost:8080/"
    },
    "id": "L3c-sRCaoQxW",
    "outputId": "106959f6-0d35-4f11-9416-c21e02118fd6"
   },
   "outputs": [
    {
     "data": {
      "application/vnd.google.colaboratory.intrinsic+json": {
       "type": "string"
      },
      "text/plain": [
       "'^BVSP'"
      ]
     },
     "execution_count": 31,
     "metadata": {},
     "output_type": "execute_result"
    }
   ],
   "source": [
    "IBOV = ETFs('^BVSP',[113428,114269,112815,113879])\n",
    "IBOV.ticker"
   ]
  },
  {
   "cell_type": "code",
   "execution_count": null,
   "metadata": {
    "colab": {
     "base_uri": "https://localhost:8080/"
    },
    "id": "3jGYIM7ZoQxW",
    "outputId": "d78003c7-3102-4f4a-f80a-ad613e41d80b"
   },
   "outputs": [
    {
     "data": {
      "text/plain": [
       "451"
      ]
     },
     "execution_count": 32,
     "metadata": {},
     "output_type": "execute_result"
    }
   ],
   "source": [
    "IBOV.ohlc[3]-IBOV.ohlc[0]"
   ]
  },
  {
   "cell_type": "code",
   "execution_count": null,
   "metadata": {
    "colab": {
     "base_uri": "https://localhost:8080/"
    },
    "id": "gg_SMvMLoQxW",
    "outputId": "8f6312bd-d8b7-4597-b7d4-b68d94fa1bb8"
   },
   "outputs": [
    {
     "data": {
      "text/plain": [
       "-0.42"
      ]
     },
     "execution_count": 33,
     "metadata": {},
     "output_type": "execute_result"
    }
   ],
   "source": [
    "ativo1.Resultado_num()"
   ]
  },
  {
   "cell_type": "code",
   "execution_count": null,
   "metadata": {
    "colab": {
     "base_uri": "https://localhost:8080/"
    },
    "id": "fD7AmI6ZoQxX",
    "outputId": "21b44f76-071e-4538-df1e-a3c0e77a813c"
   },
   "outputs": [
    {
     "name": "stdout",
     "output_type": "stream",
     "text": [
      "^BVSP fechou em alta\n"
     ]
    }
   ],
   "source": [
    "IBOV.Resultado()"
   ]
  },
  {
   "cell_type": "code",
   "execution_count": null,
   "metadata": {
    "colab": {
     "base_uri": "https://localhost:8080/"
    },
    "id": "k7nI-424oQxX",
    "outputId": "6f5d0aa2-dc7d-4c2e-948e-cc31579c74ab"
   },
   "outputs": [
    {
     "name": "stdout",
     "output_type": "stream",
     "text": [
      "Não tenho certeza, melhor consultar o site da B3\n"
     ]
    }
   ],
   "source": [
    "IBOV.Tipo()"
   ]
  },
  {
   "cell_type": "markdown",
   "metadata": {
    "id": "UGRC7vS_oQxX"
   },
   "source": [
    "## 3.2. Estrutura básica do \"Cérebro\""
   ]
  },
  {
   "cell_type": "code",
   "execution_count": null,
   "metadata": {
    "colab": {
     "base_uri": "https://localhost:8080/"
    },
    "id": "rRAT-cBGoQxX",
    "outputId": "25278655-f6b8-4d0f-d2f6-e71a52ee30aa"
   },
   "outputs": [
    {
     "name": "stdout",
     "output_type": "stream",
     "text": [
      "Valor inicial da carteira: 10000.00\n",
      "Valor final da carteira: 10000.00\n"
     ]
    }
   ],
   "source": [
    "## Instanciar o cérebro\n",
    "cerebro = bt.Cerebro()\n",
    "\n",
    "print('Valor inicial da carteira: %.2f' % cerebro.broker.getvalue())\n",
    "\n",
    "## Executar o backtesting\n",
    "cerebro.run()\n",
    "\n",
    "print('Valor final da carteira: %.2f' % cerebro.broker.getvalue())"
   ]
  },
  {
   "cell_type": "code",
   "execution_count": null,
   "metadata": {
    "colab": {
     "base_uri": "https://localhost:8080/"
    },
    "id": "mNsxcR3ioQxY",
    "outputId": "9167b2c1-a338-4385-a356-967e9582e9c9"
   },
   "outputs": [
    {
     "name": "stdout",
     "output_type": "stream",
     "text": [
      "Valor inicial da carteira: 20000.00\n",
      "Valor final da carteira: 20000.00\n"
     ]
    }
   ],
   "source": [
    "## Instanciar o cérebro\n",
    "cerebro = bt.Cerebro()\n",
    "\n",
    "## Carregar dados de cotações ohlc\n",
    "# cerebro.adddata()\n",
    "\n",
    "## Determinar a estratégia de trading\n",
    "# cerebro.addstrategy()\n",
    "\n",
    "## Estabelecer parâmetros do broker\n",
    "cerebro.broker.setcash(20000)\n",
    "cerebro.addsizer(bt.sizers.SizerFix, stake=10)\n",
    "\n",
    "print('Valor inicial da carteira: %.2f' % cerebro.broker.getvalue())\n",
    "\n",
    "## Executar o backtesting\n",
    "cerebro.run()\n",
    "\n",
    "print('Valor final da carteira: %.2f' % cerebro.broker.getvalue())"
   ]
  },
  {
   "cell_type": "markdown",
   "metadata": {
    "id": "80LgJRlXoQxY"
   },
   "source": [
    "## 3.3. Importar dados cotações"
   ]
  },
  {
   "cell_type": "markdown",
   "metadata": {
    "id": "U0NkxbeMAwjg"
   },
   "source": [
    "OBSERVAÇÃO: A estrutura de um Data Feeds (nos exemplos abaixo = data) é diferente de um dataframe Pandas. Ex., se tentar rodar algo como `data.head()` ou `data.iloc[-1]['Close']` , você obterá erros.\n",
    "\n",
    "No tópico 3.6. <u>*Estrutura de acesso aos dados no Backtrader (valores de cotacoes, indicadores e estrategias*</u>, após incluir uma estratégia de trading do código, trabalharemos o background por trás dos diferentes objetos no backtrader"
   ]
  },
  {
   "cell_type": "markdown",
   "metadata": {
    "id": "3J2FFixBPz1F"
   },
   "source": [
    "### 3.3.1. Código usando Yahoo Finance para Data Feeds"
   ]
  },
  {
   "cell_type": "code",
   "execution_count": null,
   "metadata": {
    "colab": {
     "base_uri": "https://localhost:8080/"
    },
    "id": "3XBxv8lMoQxY",
    "outputId": "a7610a5f-b95c-4e25-ccc4-c01a3525be9d"
   },
   "outputs": [
    {
     "name": "stdout",
     "output_type": "stream",
     "text": [
      "\r",
      "[*********************100%***********************]  1 of 1 completed\n",
      "Valor inicial da carteira: 10000.00\n",
      "Valor final da carteira: 10000.00\n"
     ]
    }
   ],
   "source": [
    "## Instanciar o cérebro\n",
    "cerebro = bt.Cerebro()\n",
    "\n",
    "## Importar os dados de cotações do Yahoo Finance\n",
    "df_yf = yf.download('PETR4.SA', start='2021-01-01', end='2021-03-31', period = \"1d\")\n",
    "data = bt.feeds.PandasData(dataname=df_yf, name='PETR4.SA')\n",
    "\n",
    "## Estabelecer parâmetros do broker\n",
    "cerebro.broker.setcash(10000)\n",
    "\n",
    "print('Valor inicial da carteira: %.2f' % cerebro.broker.getvalue())\n",
    "\n",
    "## Executar o backtesting\n",
    "cerebro.run()\n",
    "\n",
    "print('Valor final da carteira: %.2f' % cerebro.broker.getvalue())"
   ]
  },
  {
   "cell_type": "markdown",
   "metadata": {
    "id": "wMlzXnXnDtjZ"
   },
   "source": [
    "### 3.3.2. Código usando MetaTrader 5 ***(UNDER CONSTRUCTION)***"
   ]
  },
  {
   "cell_type": "code",
   "execution_count": null,
   "metadata": {
    "colab": {
     "base_uri": "https://localhost:8080/",
     "height": 263
    },
    "id": "ensq6cRnIetr",
    "outputId": "bff22d51-f867-4884-ee0e-14ddb6431df4"
   },
   "outputs": [
    {
     "data": {
      "image/png": "[encoded data removed]",
      "text/plain": [
       "<IPython.core.display.Image object>"
      ]
     },
     "execution_count": 39,
     "metadata": {
      "image/png": {
       "width": 300
      }
     },
     "output_type": "execute_result"
    }
   ],
   "source": [
    "import IPython\n",
    "url = 'https://upload.wikimedia.org/wikipedia/commons/thumb/a/af/Under_construction_icon-yellow.svg/587px-Under_construction_icon-yellow.svg.png'\n",
    "IPython.display.Image(url, width = 300)"
   ]
  },
  {
   "cell_type": "markdown",
   "metadata": {
    "id": "sOLjhjoFoQxZ"
   },
   "source": [
    "## 3.4. Definir uma estratégia de execução"
   ]
  },
  {
   "cell_type": "markdown",
   "metadata": {
    "id": "r4XtH2dfoQxZ"
   },
   "source": [
    "### 3.4.1. Estratégia de Execução 1: Imprimir o preço de fechamento do ativo"
   ]
  },
  {
   "cell_type": "markdown",
   "metadata": {
    "id": "bhAeGgK2LHZj"
   },
   "source": [
    "OBSERVAÇÃO: **Por enquanto**, não se preocupe muito em entender alguns objetos como `datas[0]` `datas[0].datetime.date(0)` (você verá que representam preço de fechamento e data do momento atual, respectivamente). Eles só serão criados ao rodar executar o cérebro Backtrader `cerebro.run()`\n",
    "\n",
    "No tópico 3.6. <u>*Estrutura de acesso aos dados no Backtrader (valores de cotacoes, indicadores e estrategias*</u>, após incluir uma estratégia de trading no código, você provavelmente encontrará suas respostas.\n",
    "\n",
    "(Nesse momento...) <p>\n",
    "Leitor: Por que você não explica isso logo? <p>\n",
    "Resposta: Por que é um paradoxo! 🙄"
   ]
  },
  {
   "cell_type": "code",
   "execution_count": null,
   "metadata": {
    "id": "RhEUv6bcoQxZ"
   },
   "outputs": [],
   "source": [
    "class PrintFechamento(bt.Strategy):\n",
    "\n",
    "  ## Criar __init__ com todas as variáveis que pretende usar na estratégia. Neste exemplo, o preço de fechamento do período atual (indexação dinâmica)\n",
    "  def __init__(self):\n",
    "    self.dataclose = self.datas[0]\n",
    "  \n",
    "  ## Criar uma função de registro (caso queira imprimir na tela algum parâmetro)\n",
    "  def registro(self, txt, dt=None):\n",
    "    dt = self.datas[0].datetime.date(0)\n",
    "    print(f'Na data {dt}, {txt}')\n",
    "  \n",
    "  ## Criar uma \"função de execução\" que seguirá a série temporal dos dados. Nesse caso, ele representa o \"txt\" da função registro\n",
    "  def next(self):\n",
    "    self.registro('o preço de fechamento foi: %.2f' % self.dataclose[0])"
   ]
  },
  {
   "cell_type": "code",
   "execution_count": null,
   "metadata": {
    "colab": {
     "base_uri": "https://localhost:8080/"
    },
    "id": "dI4-Il54oQxa",
    "outputId": "61a94dd0-fc1e-4703-a9f1-e8b612cf8b49"
   },
   "outputs": [
    {
     "name": "stdout",
     "output_type": "stream",
     "text": [
      "Valor inicial da carteira: 10000.00\n",
      "Na data 2021-01-04, o preço de fechamento foi: 28.91\n",
      "Na data 2021-01-05, o preço de fechamento foi: 30.04\n",
      "Na data 2021-01-06, o preço de fechamento foi: 30.10\n",
      "Na data 2021-01-07, o preço de fechamento foi: 31.00\n",
      "Na data 2021-01-08, o preço de fechamento foi: 31.12\n",
      "Na data 2021-01-11, o preço de fechamento foi: 30.86\n",
      "Na data 2021-01-12, o preço de fechamento foi: 30.63\n",
      "Na data 2021-01-13, o preço de fechamento foi: 29.15\n",
      "Na data 2021-01-14, o preço de fechamento foi: 29.45\n",
      "Na data 2021-01-15, o preço de fechamento foi: 28.12\n",
      "Na data 2021-01-18, o preço de fechamento foi: 28.07\n",
      "Na data 2021-01-19, o preço de fechamento foi: 28.69\n",
      "Na data 2021-01-20, o preço de fechamento foi: 28.21\n",
      "Na data 2021-01-21, o preço de fechamento foi: 27.55\n",
      "Na data 2021-01-22, o preço de fechamento foi: 27.09\n",
      "Na data 2021-01-26, o preço de fechamento foi: 27.00\n",
      "Na data 2021-01-27, o preço de fechamento foi: 27.40\n",
      "Na data 2021-01-28, o preço de fechamento foi: 27.76\n",
      "Na data 2021-01-29, o preço de fechamento foi: 26.69\n",
      "Na data 2021-02-01, o preço de fechamento foi: 27.53\n",
      "Na data 2021-02-02, o preço de fechamento foi: 28.66\n",
      "Na data 2021-02-03, o preço de fechamento foi: 28.94\n",
      "Na data 2021-02-04, o preço de fechamento foi: 28.82\n",
      "Na data 2021-02-05, o preço de fechamento foi: 28.84\n",
      "Na data 2021-02-08, o preço de fechamento foi: 28.11\n",
      "Na data 2021-02-09, o preço de fechamento foi: 27.54\n",
      "Na data 2021-02-10, o preço de fechamento foi: 27.80\n",
      "Na data 2021-02-11, o preço de fechamento foi: 28.08\n",
      "Na data 2021-02-12, o preço de fechamento foi: 28.44\n",
      "Na data 2021-02-17, o preço de fechamento foi: 29.59\n",
      "Na data 2021-02-18, o preço de fechamento foi: 29.27\n",
      "Na data 2021-02-19, o preço de fechamento foi: 27.33\n",
      "Na data 2021-02-22, o preço de fechamento foi: 21.67\n",
      "Na data 2021-02-23, o preço de fechamento foi: 24.06\n",
      "Na data 2021-02-24, o preço de fechamento foi: 24.40\n",
      "Na data 2021-02-25, o preço de fechamento foi: 23.19\n",
      "Na data 2021-02-26, o preço de fechamento foi: 22.24\n",
      "Na data 2021-03-01, o preço de fechamento foi: 22.00\n",
      "Na data 2021-03-02, o preço de fechamento foi: 21.99\n",
      "Na data 2021-03-03, o preço de fechamento foi: 21.19\n",
      "Na data 2021-03-04, o preço de fechamento foi: 22.22\n",
      "Na data 2021-03-05, o preço de fechamento foi: 22.39\n",
      "Na data 2021-03-08, o preço de fechamento foi: 21.10\n",
      "Na data 2021-03-09, o preço de fechamento foi: 21.59\n",
      "Na data 2021-03-10, o preço de fechamento foi: 22.34\n",
      "Na data 2021-03-11, o preço de fechamento foi: 23.29\n",
      "Na data 2021-03-12, o preço de fechamento foi: 23.17\n",
      "Na data 2021-03-15, o preço de fechamento foi: 23.65\n",
      "Na data 2021-03-16, o preço de fechamento foi: 23.28\n",
      "Na data 2021-03-17, o preço de fechamento foi: 24.08\n",
      "Na data 2021-03-18, o preço de fechamento foi: 23.24\n",
      "Na data 2021-03-19, o preço de fechamento foi: 24.00\n",
      "Na data 2021-03-22, o preço de fechamento foi: 23.52\n",
      "Na data 2021-03-23, o preço de fechamento foi: 22.80\n",
      "Na data 2021-03-24, o preço de fechamento foi: 22.82\n",
      "Na data 2021-03-25, o preço de fechamento foi: 23.20\n",
      "Na data 2021-03-26, o preço de fechamento foi: 23.46\n",
      "Na data 2021-03-29, o preço de fechamento foi: 23.83\n",
      "Na data 2021-03-30, o preço de fechamento foi: 23.83\n",
      "Valor final da carteira: 10000.00\n"
     ]
    }
   ],
   "source": [
    "## Instanciar o cérebro\n",
    "cerebro = bt.Cerebro()\n",
    "\n",
    "## Importar os dados de cotações\n",
    "cerebro.adddata(data)\n",
    "\n",
    "## Determinar a estratégia de execução\n",
    "cerebro.addstrategy(PrintFechamento)\n",
    "\n",
    "## Estabelecer parâmetros do broker\n",
    "cerebro.broker.setcash(10000)\n",
    "print('Valor inicial da carteira: %.2f' % cerebro.broker.getvalue())\n",
    "\n",
    "## Executar o backtesting\n",
    "cerebro.run()\n",
    "print('Valor final da carteira: %.2f' % cerebro.broker.getvalue())"
   ]
  },
  {
   "cell_type": "code",
   "execution_count": null,
   "metadata": {
    "colab": {
     "base_uri": "https://localhost:8080/",
     "height": 237
    },
    "id": "UwyvmIZtZUl9",
    "outputId": "5985103c-c878-4d59-cd2a-df8720d4d803"
   },
   "outputs": [
    {
     "data": {
      "text/html": [
       "\n",
       "  <div id=\"df-6aa15312-1511-41b4-acf9-940589e072c6\">\n",
       "    <div class=\"colab-df-container\">\n",
       "      <div>\n",
       "<style scoped>\n",
       "    .dataframe tbody tr th:only-of-type {\n",
       "        vertical-align: middle;\n",
       "    }\n",
       "\n",
       "    .dataframe tbody tr th {\n",
       "        vertical-align: top;\n",
       "    }\n",
       "\n",
       "    .dataframe thead th {\n",
       "        text-align: right;\n",
       "    }\n",
       "</style>\n",
       "<table border=\"1\" class=\"dataframe\">\n",
       "  <thead>\n",
       "    <tr style=\"text-align: right;\">\n",
       "      <th></th>\n",
       "      <th>Open</th>\n",
       "      <th>High</th>\n",
       "      <th>Low</th>\n",
       "      <th>Close</th>\n",
       "      <th>Adj Close</th>\n",
       "      <th>Volume</th>\n",
       "    </tr>\n",
       "    <tr>\n",
       "      <th>Date</th>\n",
       "      <th></th>\n",
       "      <th></th>\n",
       "      <th></th>\n",
       "      <th></th>\n",
       "      <th></th>\n",
       "      <th></th>\n",
       "    </tr>\n",
       "  </thead>\n",
       "  <tbody>\n",
       "    <tr>\n",
       "      <th>2021-03-24</th>\n",
       "      <td>23.190001</td>\n",
       "      <td>23.540001</td>\n",
       "      <td>22.820000</td>\n",
       "      <td>22.820000</td>\n",
       "      <td>18.547915</td>\n",
       "      <td>63338300</td>\n",
       "    </tr>\n",
       "    <tr>\n",
       "      <th>2021-03-25</th>\n",
       "      <td>22.700001</td>\n",
       "      <td>23.299999</td>\n",
       "      <td>22.160000</td>\n",
       "      <td>23.200001</td>\n",
       "      <td>18.856775</td>\n",
       "      <td>79214500</td>\n",
       "    </tr>\n",
       "    <tr>\n",
       "      <th>2021-03-26</th>\n",
       "      <td>23.480000</td>\n",
       "      <td>23.879999</td>\n",
       "      <td>23.110001</td>\n",
       "      <td>23.459999</td>\n",
       "      <td>19.068100</td>\n",
       "      <td>60918600</td>\n",
       "    </tr>\n",
       "    <tr>\n",
       "      <th>2021-03-29</th>\n",
       "      <td>23.340000</td>\n",
       "      <td>23.830000</td>\n",
       "      <td>23.280001</td>\n",
       "      <td>23.830000</td>\n",
       "      <td>19.368834</td>\n",
       "      <td>50099700</td>\n",
       "    </tr>\n",
       "    <tr>\n",
       "      <th>2021-03-30</th>\n",
       "      <td>23.639999</td>\n",
       "      <td>23.990000</td>\n",
       "      <td>23.570000</td>\n",
       "      <td>23.830000</td>\n",
       "      <td>19.368834</td>\n",
       "      <td>41959100</td>\n",
       "    </tr>\n",
       "  </tbody>\n",
       "</table>\n",
       "</div>\n",
       "      <button class=\"colab-df-convert\" onclick=\"convertToInteractive('df-6aa15312-1511-41b4-acf9-940589e072c6')\"\n",
       "              title=\"Convert this dataframe to an interactive table.\"\n",
       "              style=\"display:none;\">\n",
       "        \n",
       "  <svg xmlns=\"http://www.w3.org/2000/svg\" height=\"24px\"viewBox=\"0 0 24 24\"\n",
       "       width=\"24px\">\n",
       "    <path d=\"M0 0h24v24H0V0z\" fill=\"none\"/>\n",
       "    <path d=\"M18.56 5.44l.94 2.06.94-2.06 2.06-.94-2.06-.94-.94-2.06-.94 2.06-2.06.94zm-11 1L8.5 8.5l.94-2.06 2.06-.94-2.06-.94L8.5 2.5l-.94 2.06-2.06.94zm10 10l.94 2.06.94-2.06 2.06-.94-2.06-.94-.94-2.06-.94 2.06-2.06.94z\"/><path d=\"M17.41 7.96l-1.37-1.37c-.4-.4-.92-.59-1.43-.59-.52 0-1.04.2-1.43.59L10.3 9.45l-7.72 7.72c-.78.78-.78 2.05 0 2.83L4 21.41c.39.39.9.59 1.41.59.51 0 1.02-.2 1.41-.59l7.78-7.78 2.81-2.81c.8-.78.8-2.07 0-2.86zM5.41 20L4 18.59l7.72-7.72 1.47 1.35L5.41 20z\"/>\n",
       "  </svg>\n",
       "      </button>\n",
       "      \n",
       "  <style>\n",
       "    .colab-df-container {\n",
       "      display:flex;\n",
       "      flex-wrap:wrap;\n",
       "      gap: 12px;\n",
       "    }\n",
       "\n",
       "    .colab-df-convert {\n",
       "      background-color: #E8F0FE;\n",
       "      border: none;\n",
       "      border-radius: 50%;\n",
       "      cursor: pointer;\n",
       "      display: none;\n",
       "      fill: #1967D2;\n",
       "      height: 32px;\n",
       "      padding: 0 0 0 0;\n",
       "      width: 32px;\n",
       "    }\n",
       "\n",
       "    .colab-df-convert:hover {\n",
       "      background-color: #E2EBFA;\n",
       "      box-shadow: 0px 1px 2px rgba(60, 64, 67, 0.3), 0px 1px 3px 1px rgba(60, 64, 67, 0.15);\n",
       "      fill: #174EA6;\n",
       "    }\n",
       "\n",
       "    [theme=dark] .colab-df-convert {\n",
       "      background-color: #3B4455;\n",
       "      fill: #D2E3FC;\n",
       "    }\n",
       "\n",
       "    [theme=dark] .colab-df-convert:hover {\n",
       "      background-color: #434B5C;\n",
       "      box-shadow: 0px 1px 3px 1px rgba(0, 0, 0, 0.15);\n",
       "      filter: drop-shadow(0px 1px 2px rgba(0, 0, 0, 0.3));\n",
       "      fill: #FFFFFF;\n",
       "    }\n",
       "  </style>\n",
       "\n",
       "      <script>\n",
       "        const buttonEl =\n",
       "          document.querySelector('#df-6aa15312-1511-41b4-acf9-940589e072c6 button.colab-df-convert');\n",
       "        buttonEl.style.display =\n",
       "          google.colab.kernel.accessAllowed ? 'block' : 'none';\n",
       "\n",
       "        async function convertToInteractive(key) {\n",
       "          const element = document.querySelector('#df-6aa15312-1511-41b4-acf9-940589e072c6');\n",
       "          const dataTable =\n",
       "            await google.colab.kernel.invokeFunction('convertToInteractive',\n",
       "                                                     [key], {});\n",
       "          if (!dataTable) return;\n",
       "\n",
       "          const docLinkHtml = 'Like what you see? Visit the ' +\n",
       "            '<a target=\"_blank\" href=https://colab.research.google.com/notebooks/data_table.ipynb>data table notebook</a>'\n",
       "            + ' to learn more about interactive tables.';\n",
       "          element.innerHTML = '';\n",
       "          dataTable['output_type'] = 'display_data';\n",
       "          await google.colab.output.renderOutput(dataTable, element);\n",
       "          const docLink = document.createElement('div');\n",
       "          docLink.innerHTML = docLinkHtml;\n",
       "          element.appendChild(docLink);\n",
       "        }\n",
       "      </script>\n",
       "    </div>\n",
       "  </div>\n",
       "  "
      ],
      "text/plain": [
       "                 Open       High        Low      Close  Adj Close    Volume\n",
       "Date                                                                       \n",
       "2021-03-24  23.190001  23.540001  22.820000  22.820000  18.547915  63338300\n",
       "2021-03-25  22.700001  23.299999  22.160000  23.200001  18.856775  79214500\n",
       "2021-03-26  23.480000  23.879999  23.110001  23.459999  19.068100  60918600\n",
       "2021-03-29  23.340000  23.830000  23.280001  23.830000  19.368834  50099700\n",
       "2021-03-30  23.639999  23.990000  23.570000  23.830000  19.368834  41959100"
      ]
     },
     "execution_count": 42,
     "metadata": {},
     "output_type": "execute_result"
    }
   ],
   "source": [
    "## Para conferirmos se o cérebro está funcionando bem\n",
    "df_yf.tail()"
   ]
  },
  {
   "cell_type": "markdown",
   "metadata": {
    "id": "w32QZ-HToQxa"
   },
   "source": [
    "### 3.4.2. Estratégia de Execução 2: Imprimir duas médias móveis e avaliar qual delas é maior"
   ]
  },
  {
   "cell_type": "code",
   "execution_count": null,
   "metadata": {
    "id": "p01t3HCpoQxa"
   },
   "outputs": [],
   "source": [
    "class Medias_Moveis(bt.Strategy):\n",
    "\n",
    "  params = (('short',8), ('long',20))\n",
    "\n",
    "  ## Criar __init__ com todas os parâmetros que pretende usar. A ordem é importante.\n",
    "  def __init__(self):\n",
    "    sma_short = bt.indicators.MovingAverageSimple(self.datas[0],period=self.params.short)\n",
    "    sma_long = bt.indicators.MovingAverageSimple(self.datas[0],period=self.params.long)\n",
    "    self.crossover = bt.indicators.CrossOver(sma_short,sma_long)\n",
    "    self.sma_short = bt.indicators.MovingAverageSimple(self.datas[0],period=self.params.short)\n",
    "    self.sma_long = bt.indicators.MovingAverageSimple(self.datas[0],period=self.params.long)\n",
    "    self.Diff_MM = (sma_short-sma_long)\n",
    "\n",
    "  def log(self, txt, dt=None):\n",
    "    dt = self.datas[0].datetime.date(0)\n",
    "    print(f'{dt}: {txt}')\n",
    "\n",
    "  ## Criar uma \"função de execução\" que seguirá a série temporal dos dados\n",
    "  def next(self):\n",
    "    self.log('MM curta (%.0fp) = R$ %.2f || MM longa (%.0fp) = R$ %.2f || Posição crossover =  %.0f || Diff MM = %.2f'  % ((self.params.short),(self.sma_short[0]),(self.params.long),(self.sma_long[0]),(self.crossover[0]),(self.Diff_MM[0])))"
   ]
  },
  {
   "cell_type": "code",
   "execution_count": null,
   "metadata": {
    "colab": {
     "base_uri": "https://localhost:8080/"
    },
    "id": "2Eth2TsyoQxb",
    "outputId": "5740ceb0-ba28-44af-f304-695f33aa6219"
   },
   "outputs": [
    {
     "name": "stdout",
     "output_type": "stream",
     "text": [
      "Valor inicial da carteira: 10000.00\n",
      "2021-02-02: MM curta (8p) = R$ 27.46 || MM longa (20p) = R$ 28.76 || Posição crossover =  0 || Diff MM = -1.30\n",
      "2021-02-03: MM curta (8p) = R$ 27.63 || MM longa (20p) = R$ 28.70 || Posição crossover =  0 || Diff MM = -1.07\n",
      "2021-02-04: MM curta (8p) = R$ 27.85 || MM longa (20p) = R$ 28.64 || Posição crossover =  0 || Diff MM = -0.79\n",
      "2021-02-05: MM curta (8p) = R$ 28.08 || MM longa (20p) = R$ 28.53 || Posição crossover =  0 || Diff MM = -0.45\n",
      "2021-02-08: MM curta (8p) = R$ 28.17 || MM longa (20p) = R$ 28.38 || Posição crossover =  0 || Diff MM = -0.21\n",
      "2021-02-09: MM curta (8p) = R$ 28.14 || MM longa (20p) = R$ 28.21 || Posição crossover =  0 || Diff MM = -0.07\n",
      "2021-02-10: MM curta (8p) = R$ 28.28 || MM longa (20p) = R$ 28.07 || Posição crossover =  1 || Diff MM = 0.21\n",
      "2021-02-11: MM curta (8p) = R$ 28.35 || MM longa (20p) = R$ 28.02 || Posição crossover =  0 || Diff MM = 0.33\n",
      "2021-02-12: MM curta (8p) = R$ 28.32 || MM longa (20p) = R$ 27.97 || Posição crossover =  0 || Diff MM = 0.35\n",
      "2021-02-17: MM curta (8p) = R$ 28.40 || MM longa (20p) = R$ 28.04 || Posição crossover =  0 || Diff MM = 0.36\n",
      "2021-02-18: MM curta (8p) = R$ 28.46 || MM longa (20p) = R$ 28.10 || Posição crossover =  0 || Diff MM = 0.36\n",
      "2021-02-19: MM curta (8p) = R$ 28.27 || MM longa (20p) = R$ 28.03 || Posição crossover =  0 || Diff MM = 0.24\n",
      "2021-02-22: MM curta (8p) = R$ 27.47 || MM longa (20p) = R$ 27.71 || Posição crossover =  -1 || Diff MM = -0.24\n",
      "2021-02-23: MM curta (8p) = R$ 27.03 || MM longa (20p) = R$ 27.53 || Posição crossover =  0 || Diff MM = -0.50\n",
      "2021-02-24: MM curta (8p) = R$ 26.61 || MM longa (20p) = R$ 27.40 || Posição crossover =  0 || Diff MM = -0.79\n",
      "2021-02-25: MM curta (8p) = R$ 25.99 || MM longa (20p) = R$ 27.21 || Posição crossover =  0 || Diff MM = -1.21\n",
      "2021-02-26: MM curta (8p) = R$ 25.22 || MM longa (20p) = R$ 26.95 || Posição crossover =  0 || Diff MM = -1.73\n",
      "2021-03-01: MM curta (8p) = R$ 24.27 || MM longa (20p) = R$ 26.66 || Posição crossover =  0 || Diff MM = -2.39\n",
      "2021-03-02: MM curta (8p) = R$ 23.36 || MM longa (20p) = R$ 26.43 || Posição crossover =  0 || Diff MM = -3.07\n",
      "2021-03-03: MM curta (8p) = R$ 22.59 || MM longa (20p) = R$ 26.11 || Posição crossover =  0 || Diff MM = -3.52\n",
      "2021-03-04: MM curta (8p) = R$ 22.66 || MM longa (20p) = R$ 25.79 || Posição crossover =  0 || Diff MM = -3.12\n",
      "2021-03-05: MM curta (8p) = R$ 22.45 || MM longa (20p) = R$ 25.46 || Posição crossover =  0 || Diff MM = -3.01\n",
      "2021-03-08: MM curta (8p) = R$ 22.04 || MM longa (20p) = R$ 25.07 || Posição crossover =  0 || Diff MM = -3.03\n",
      "2021-03-09: MM curta (8p) = R$ 21.84 || MM longa (20p) = R$ 24.71 || Posição crossover =  0 || Diff MM = -2.87\n",
      "2021-03-10: MM curta (8p) = R$ 21.85 || MM longa (20p) = R$ 24.42 || Posição crossover =  0 || Diff MM = -2.57\n",
      "2021-03-11: MM curta (8p) = R$ 22.01 || MM longa (20p) = R$ 24.21 || Posição crossover =  0 || Diff MM = -2.20\n",
      "2021-03-12: MM curta (8p) = R$ 22.16 || MM longa (20p) = R$ 23.98 || Posição crossover =  0 || Diff MM = -1.82\n",
      "2021-03-15: MM curta (8p) = R$ 22.47 || MM longa (20p) = R$ 23.76 || Posição crossover =  0 || Diff MM = -1.29\n",
      "2021-03-16: MM curta (8p) = R$ 22.60 || MM longa (20p) = R$ 23.50 || Posição crossover =  0 || Diff MM = -0.90\n",
      "2021-03-17: MM curta (8p) = R$ 22.81 || MM longa (20p) = R$ 23.22 || Posição crossover =  0 || Diff MM = -0.41\n",
      "2021-03-18: MM curta (8p) = R$ 23.08 || MM longa (20p) = R$ 22.92 || Posição crossover =  1 || Diff MM = 0.16\n",
      "2021-03-19: MM curta (8p) = R$ 23.38 || MM longa (20p) = R$ 22.75 || Posição crossover =  0 || Diff MM = 0.63\n",
      "2021-03-22: MM curta (8p) = R$ 23.53 || MM longa (20p) = R$ 22.85 || Posição crossover =  0 || Diff MM = 0.68\n",
      "2021-03-23: MM curta (8p) = R$ 23.47 || MM longa (20p) = R$ 22.78 || Posição crossover =  0 || Diff MM = 0.68\n",
      "2021-03-24: MM curta (8p) = R$ 23.42 || MM longa (20p) = R$ 22.71 || Posição crossover =  0 || Diff MM = 0.72\n",
      "2021-03-25: MM curta (8p) = R$ 23.37 || MM longa (20p) = R$ 22.71 || Posição crossover =  0 || Diff MM = 0.66\n",
      "2021-03-26: MM curta (8p) = R$ 23.39 || MM longa (20p) = R$ 22.77 || Posição crossover =  0 || Diff MM = 0.62\n",
      "2021-03-29: MM curta (8p) = R$ 23.36 || MM longa (20p) = R$ 22.86 || Posição crossover =  0 || Diff MM = 0.50\n",
      "2021-03-30: MM curta (8p) = R$ 23.43 || MM longa (20p) = R$ 22.95 || Posição crossover =  0 || Diff MM = 0.48\n",
      "Valor final da carteira: 10000.00\n"
     ]
    }
   ],
   "source": [
    "## Instanciar o cérebro\n",
    "cerebro = bt.Cerebro()\n",
    "\n",
    "## Importar os dados de cotações\n",
    "cerebro.adddata(data)\n",
    "\n",
    "## Determinar a estratégia de execução\n",
    "cerebro.addstrategy(Medias_Moveis)\n",
    "\n",
    "## Estabelecer parâmetros do broker\n",
    "cerebro.broker.setcash(10000)\n",
    "print('Valor inicial da carteira: %.2f' % cerebro.broker.getvalue())\n",
    "\n",
    "## Executar o backtesting\n",
    "cerebro.run()\n",
    "\n",
    "print('Valor final da carteira: %.2f' % cerebro.broker.getvalue())"
   ]
  },
  {
   "cell_type": "code",
   "execution_count": null,
   "metadata": {
    "colab": {
     "base_uri": "https://localhost:8080/",
     "height": 237
    },
    "id": "Tr98SzEmbI_u",
    "outputId": "755c5bed-93ce-40ee-92bb-4f860293dfe6"
   },
   "outputs": [
    {
     "data": {
      "text/html": [
       "\n",
       "  <div id=\"df-974adc4c-be35-4ff5-8332-de7ef983c304\">\n",
       "    <div class=\"colab-df-container\">\n",
       "      <div>\n",
       "<style scoped>\n",
       "    .dataframe tbody tr th:only-of-type {\n",
       "        vertical-align: middle;\n",
       "    }\n",
       "\n",
       "    .dataframe tbody tr th {\n",
       "        vertical-align: top;\n",
       "    }\n",
       "\n",
       "    .dataframe thead th {\n",
       "        text-align: right;\n",
       "    }\n",
       "</style>\n",
       "<table border=\"1\" class=\"dataframe\">\n",
       "  <thead>\n",
       "    <tr style=\"text-align: right;\">\n",
       "      <th></th>\n",
       "      <th>Open</th>\n",
       "      <th>High</th>\n",
       "      <th>Low</th>\n",
       "      <th>Close</th>\n",
       "      <th>Adj Close</th>\n",
       "      <th>Volume</th>\n",
       "      <th>SMA_long</th>\n",
       "      <th>SMA_short</th>\n",
       "      <th>Diff_MM_short_long</th>\n",
       "    </tr>\n",
       "    <tr>\n",
       "      <th>Date</th>\n",
       "      <th></th>\n",
       "      <th></th>\n",
       "      <th></th>\n",
       "      <th></th>\n",
       "      <th></th>\n",
       "      <th></th>\n",
       "      <th></th>\n",
       "      <th></th>\n",
       "      <th></th>\n",
       "    </tr>\n",
       "  </thead>\n",
       "  <tbody>\n",
       "    <tr>\n",
       "      <th>2021-03-24</th>\n",
       "      <td>23.190001</td>\n",
       "      <td>23.540001</td>\n",
       "      <td>22.820000</td>\n",
       "      <td>22.820000</td>\n",
       "      <td>18.547915</td>\n",
       "      <td>63338300</td>\n",
       "      <td>22.7050</td>\n",
       "      <td>23.42375</td>\n",
       "      <td>0.71875</td>\n",
       "    </tr>\n",
       "    <tr>\n",
       "      <th>2021-03-25</th>\n",
       "      <td>22.700001</td>\n",
       "      <td>23.299999</td>\n",
       "      <td>22.160000</td>\n",
       "      <td>23.200001</td>\n",
       "      <td>18.856775</td>\n",
       "      <td>79214500</td>\n",
       "      <td>22.7055</td>\n",
       "      <td>23.36750</td>\n",
       "      <td>0.66200</td>\n",
       "    </tr>\n",
       "    <tr>\n",
       "      <th>2021-03-26</th>\n",
       "      <td>23.480000</td>\n",
       "      <td>23.879999</td>\n",
       "      <td>23.110001</td>\n",
       "      <td>23.459999</td>\n",
       "      <td>19.068100</td>\n",
       "      <td>60918600</td>\n",
       "      <td>22.7665</td>\n",
       "      <td>23.39000</td>\n",
       "      <td>0.62350</td>\n",
       "    </tr>\n",
       "    <tr>\n",
       "      <th>2021-03-29</th>\n",
       "      <td>23.340000</td>\n",
       "      <td>23.830000</td>\n",
       "      <td>23.280001</td>\n",
       "      <td>23.830000</td>\n",
       "      <td>19.368834</td>\n",
       "      <td>50099700</td>\n",
       "      <td>22.8580</td>\n",
       "      <td>23.35875</td>\n",
       "      <td>0.50075</td>\n",
       "    </tr>\n",
       "    <tr>\n",
       "      <th>2021-03-30</th>\n",
       "      <td>23.639999</td>\n",
       "      <td>23.990000</td>\n",
       "      <td>23.570000</td>\n",
       "      <td>23.830000</td>\n",
       "      <td>19.368834</td>\n",
       "      <td>41959100</td>\n",
       "      <td>22.9500</td>\n",
       "      <td>23.43250</td>\n",
       "      <td>0.48250</td>\n",
       "    </tr>\n",
       "  </tbody>\n",
       "</table>\n",
       "</div>\n",
       "      <button class=\"colab-df-convert\" onclick=\"convertToInteractive('df-974adc4c-be35-4ff5-8332-de7ef983c304')\"\n",
       "              title=\"Convert this dataframe to an interactive table.\"\n",
       "              style=\"display:none;\">\n",
       "        \n",
       "  <svg xmlns=\"http://www.w3.org/2000/svg\" height=\"24px\"viewBox=\"0 0 24 24\"\n",
       "       width=\"24px\">\n",
       "    <path d=\"M0 0h24v24H0V0z\" fill=\"none\"/>\n",
       "    <path d=\"M18.56 5.44l.94 2.06.94-2.06 2.06-.94-2.06-.94-.94-2.06-.94 2.06-2.06.94zm-11 1L8.5 8.5l.94-2.06 2.06-.94-2.06-.94L8.5 2.5l-.94 2.06-2.06.94zm10 10l.94 2.06.94-2.06 2.06-.94-2.06-.94-.94-2.06-.94 2.06-2.06.94z\"/><path d=\"M17.41 7.96l-1.37-1.37c-.4-.4-.92-.59-1.43-.59-.52 0-1.04.2-1.43.59L10.3 9.45l-7.72 7.72c-.78.78-.78 2.05 0 2.83L4 21.41c.39.39.9.59 1.41.59.51 0 1.02-.2 1.41-.59l7.78-7.78 2.81-2.81c.8-.78.8-2.07 0-2.86zM5.41 20L4 18.59l7.72-7.72 1.47 1.35L5.41 20z\"/>\n",
       "  </svg>\n",
       "      </button>\n",
       "      \n",
       "  <style>\n",
       "    .colab-df-container {\n",
       "      display:flex;\n",
       "      flex-wrap:wrap;\n",
       "      gap: 12px;\n",
       "    }\n",
       "\n",
       "    .colab-df-convert {\n",
       "      background-color: #E8F0FE;\n",
       "      border: none;\n",
       "      border-radius: 50%;\n",
       "      cursor: pointer;\n",
       "      display: none;\n",
       "      fill: #1967D2;\n",
       "      height: 32px;\n",
       "      padding: 0 0 0 0;\n",
       "      width: 32px;\n",
       "    }\n",
       "\n",
       "    .colab-df-convert:hover {\n",
       "      background-color: #E2EBFA;\n",
       "      box-shadow: 0px 1px 2px rgba(60, 64, 67, 0.3), 0px 1px 3px 1px rgba(60, 64, 67, 0.15);\n",
       "      fill: #174EA6;\n",
       "    }\n",
       "\n",
       "    [theme=dark] .colab-df-convert {\n",
       "      background-color: #3B4455;\n",
       "      fill: #D2E3FC;\n",
       "    }\n",
       "\n",
       "    [theme=dark] .colab-df-convert:hover {\n",
       "      background-color: #434B5C;\n",
       "      box-shadow: 0px 1px 3px 1px rgba(0, 0, 0, 0.15);\n",
       "      filter: drop-shadow(0px 1px 2px rgba(0, 0, 0, 0.3));\n",
       "      fill: #FFFFFF;\n",
       "    }\n",
       "  </style>\n",
       "\n",
       "      <script>\n",
       "        const buttonEl =\n",
       "          document.querySelector('#df-974adc4c-be35-4ff5-8332-de7ef983c304 button.colab-df-convert');\n",
       "        buttonEl.style.display =\n",
       "          google.colab.kernel.accessAllowed ? 'block' : 'none';\n",
       "\n",
       "        async function convertToInteractive(key) {\n",
       "          const element = document.querySelector('#df-974adc4c-be35-4ff5-8332-de7ef983c304');\n",
       "          const dataTable =\n",
       "            await google.colab.kernel.invokeFunction('convertToInteractive',\n",
       "                                                     [key], {});\n",
       "          if (!dataTable) return;\n",
       "\n",
       "          const docLinkHtml = 'Like what you see? Visit the ' +\n",
       "            '<a target=\"_blank\" href=https://colab.research.google.com/notebooks/data_table.ipynb>data table notebook</a>'\n",
       "            + ' to learn more about interactive tables.';\n",
       "          element.innerHTML = '';\n",
       "          dataTable['output_type'] = 'display_data';\n",
       "          await google.colab.output.renderOutput(dataTable, element);\n",
       "          const docLink = document.createElement('div');\n",
       "          docLink.innerHTML = docLinkHtml;\n",
       "          element.appendChild(docLink);\n",
       "        }\n",
       "      </script>\n",
       "    </div>\n",
       "  </div>\n",
       "  "
      ],
      "text/plain": [
       "                 Open       High  ...  SMA_short  Diff_MM_short_long\n",
       "Date                              ...                               \n",
       "2021-03-24  23.190001  23.540001  ...   23.42375             0.71875\n",
       "2021-03-25  22.700001  23.299999  ...   23.36750             0.66200\n",
       "2021-03-26  23.480000  23.879999  ...   23.39000             0.62350\n",
       "2021-03-29  23.340000  23.830000  ...   23.35875             0.50075\n",
       "2021-03-30  23.639999  23.990000  ...   23.43250             0.48250\n",
       "\n",
       "[5 rows x 9 columns]"
      ]
     },
     "execution_count": 45,
     "metadata": {},
     "output_type": "execute_result"
    }
   ],
   "source": [
    "## Mais uma vez, fazendo o backtest do Backtrader...\n",
    "sma_long = ta.trend.SMAIndicator(df_yf['Close'], window=20)\n",
    "sma_short = ta.trend.SMAIndicator(df_yf['Close'], window=8)\n",
    "df_yf['SMA_long'] = sma_long.sma_indicator()\n",
    "df_yf['SMA_short'] = sma_short.sma_indicator()\n",
    "df_yf['Diff_MM_short_long'] = df_yf['SMA_short'] - df_yf['SMA_long']\n",
    "df_yf.tail()"
   ]
  },
  {
   "cell_type": "markdown",
   "metadata": {
    "id": "5gVr-I72oQxb"
   },
   "source": [
    "## 3.5. Definir uma estratégia de trading"
   ]
  },
  {
   "cell_type": "markdown",
   "metadata": {
    "id": "0UZ586UezT8F"
   },
   "source": [
    "### 3.5.1. Incorporando ordens de compra/venda e visualização gráfica do resultado"
   ]
  },
  {
   "cell_type": "code",
   "execution_count": null,
   "metadata": {
    "id": "yyJcwZMXoQxc"
   },
   "outputs": [],
   "source": [
    "class Cruzamento_Medias_Moveis(bt.Strategy):\n",
    "\n",
    "    params = {'short':8,'long':20}\n",
    "\n",
    "    def __init__(self):\n",
    "        sma_short = bt.indicators.MovingAverageSimple(self.datas[0],period=self.params.short)\n",
    "        sma_long = bt.indicators.MovingAverageSimple(self.datas[0],period=self.params.long)\n",
    "        \n",
    "        self.crossover = bt.indicators.CrossOver(sma_short,sma_long)\n",
    "    \n",
    "    def next(self):\n",
    "        ## Quando houver um cruzamento MM curta > MM longa: comprar. Qd for cruzam. para baixo: venda\n",
    "        if self.crossover > 0:\n",
    "          self.buy()\n",
    "        elif self.crossover < 0:\n",
    "          self.sell()\n"
   ]
  },
  {
   "cell_type": "code",
   "execution_count": null,
   "metadata": {
    "colab": {
     "base_uri": "https://localhost:8080/"
    },
    "id": "05YMqIJIoQxd",
    "outputId": "c8c66a83-4ab1-4c74-829a-dccbb28051df"
   },
   "outputs": [
    {
     "name": "stdout",
     "output_type": "stream",
     "text": [
      "Valor inicial da carteira: 10000.00\n",
      "Valor final da carteira: 9995.47\n"
     ]
    }
   ],
   "source": [
    "## Instanciar o cérebro\n",
    "cerebro = bt.Cerebro()\n",
    "\n",
    "## Importar os dados de cotações\n",
    "cerebro.adddata(data)\n",
    "\n",
    "## Determinar a estratégia de execução\n",
    "cerebro.addstrategy(Cruzamento_Medias_Moveis)\n",
    "\n",
    "## Estabelecer parâmetros do broker\n",
    "cerebro.broker.setcash(10000)\n",
    "\n",
    "print('Valor inicial da carteira: %.2f' % cerebro.broker.getvalue())\n",
    "\n",
    "## Executar o backtesting\n",
    "cerebro.run()\n",
    "\n",
    "print('Valor final da carteira: %.2f' % cerebro.broker.getvalue())"
   ]
  },
  {
   "cell_type": "code",
   "execution_count": null,
   "metadata": {
    "colab": {
     "base_uri": "https://localhost:8080/",
     "height": 842
    },
    "id": "dCqk720UsmZC",
    "outputId": "d7192163-c750-4253-f336-d142a132471e"
   },
   "outputs": [
    {
     "data": {
      "image/png": "[encoded data removed]",
      "text/plain": [
       "<Figure size 1080x864 with 4 Axes>"
      ]
     },
     "metadata": {
      "needs_background": "light"
     },
     "output_type": "display_data"
    }
   ],
   "source": [
    "plt.rcParams['figure.figsize'] = [15, 12]\n",
    "plt.rcParams.update({'font.size': 12})\n",
    "cerebro.plot(iplot = False);"
   ]
  },
  {
   "cell_type": "code",
   "execution_count": null,
   "metadata": {
    "colab": {
     "base_uri": "https://localhost:8080/"
    },
    "id": "yzZ8JCKMeQse",
    "outputId": "14d16ab0-3568-42f6-9e9f-18178ad17e64"
   },
   "outputs": [
    {
     "name": "stdout",
     "output_type": "stream",
     "text": [
      "Valor inicial da carteira: 10000.00\n",
      "Valor final da carteira: 9547.00\n"
     ]
    }
   ],
   "source": [
    "cerebro = bt.Cerebro()\n",
    "cerebro.adddata(data)\n",
    "cerebro.addstrategy(Cruzamento_Medias_Moveis)\n",
    "\n",
    "## Estabelecer parâmetros do broker\n",
    "cerebro.broker.setcash(10000)\n",
    "cerebro.addsizer(bt.sizers.SizerFix, stake=100)\n",
    "\n",
    "print('Valor inicial da carteira: %.2f' % cerebro.broker.getvalue())\n",
    "cerebro.run()\n",
    "print('Valor final da carteira: %.2f' % cerebro.broker.getvalue())"
   ]
  },
  {
   "cell_type": "code",
   "execution_count": null,
   "metadata": {
    "colab": {
     "base_uri": "https://localhost:8080/",
     "height": 842
    },
    "id": "DWvq4PG-Kh0m",
    "outputId": "2b7e96c1-e088-46da-9e02-04e4c32703b2"
   },
   "outputs": [
    {
     "data": {
      "image/png": "[encoded data removed]",
      "text/plain": [
       "<Figure size 1080x864 with 4 Axes>"
      ]
     },
     "metadata": {
      "needs_background": "light"
     },
     "output_type": "display_data"
    }
   ],
   "source": [
    "plt.rcParams['figure.figsize'] = [15, 12]\n",
    "plt.rcParams.update({'font.size': 12})\n",
    "cerebro.plot(iplot = False);"
   ]
  },
  {
   "cell_type": "markdown",
   "metadata": {
    "id": "S6MT2HgrL0kk"
   },
   "source": [
    "Até agora tudo parece OK, mas e se eu aumento a mão de entrada 5000 ações? E quando o número de operações aumentarem?"
   ]
  },
  {
   "cell_type": "code",
   "execution_count": null,
   "metadata": {
    "colab": {
     "base_uri": "https://localhost:8080/"
    },
    "id": "vgTbjwfqOxkH",
    "outputId": "adf3b030-3878-4e6b-86a4-03acb0de7e17"
   },
   "outputs": [
    {
     "name": "stdout",
     "output_type": "stream",
     "text": [
      "Valor inicial da carteira: 10000.00\n",
      "Valor final da carteira: 8899.99\n"
     ]
    }
   ],
   "source": [
    "cerebro = bt.Cerebro()\n",
    "cerebro.adddata(data)\n",
    "cerebro.addstrategy(Cruzamento_Medias_Moveis)\n",
    "\n",
    "## Estabelecer parâmetros do broker\n",
    "cerebro.broker.setcash(10000)\n",
    "cerebro.addsizer(bt.sizers.SizerFix, stake=5000)\n",
    "\n",
    "print('Valor inicial da carteira: %.2f' % cerebro.broker.getvalue())\n",
    "cerebro.run()\n",
    "print('Valor final da carteira: %.2f' % cerebro.broker.getvalue())"
   ]
  },
  {
   "cell_type": "code",
   "execution_count": null,
   "metadata": {
    "colab": {
     "base_uri": "https://localhost:8080/",
     "height": 858
    },
    "id": "8U7pAD6-OxkI",
    "outputId": "99fe572d-0c98-4e6d-f8ae-4c8a07440eb4"
   },
   "outputs": [
    {
     "data": {
      "image/png": "[encoded data removed]",
      "text/plain": [
       "<Figure size 1080x864 with 4 Axes>"
      ]
     },
     "metadata": {
      "needs_background": "light"
     },
     "output_type": "display_data"
    },
    {
     "data": {
      "text/plain": [
       "[[<Figure size 1080x864 with 4 Axes>]]"
      ]
     },
     "execution_count": 68,
     "metadata": {},
     "output_type": "execute_result"
    }
   ],
   "source": [
    "plt.rcParams['figure.figsize'] = [15, 12]\n",
    "plt.rcParams.update({'font.size': 12})\n",
    "cerebro.plot(iplot = False)"
   ]
  },
  {
   "cell_type": "markdown",
   "metadata": {
    "id": "IcC_S_vAJUWd"
   },
   "source": [
    "### 3.5.2. Verificação de parâmetros importantes como status de ordem, position, custos operações (corretagem, emolumentos...)"
   ]
  },
  {
   "cell_type": "markdown",
   "metadata": {
    "id": "kbXIvMdxMaEc"
   },
   "source": [
    "Vamos aumentar a cobertura temporal para possibilitar mais trades"
   ]
  },
  {
   "cell_type": "code",
   "execution_count": null,
   "metadata": {
    "colab": {
     "base_uri": "https://localhost:8080/"
    },
    "id": "wfxVVR27MbBM",
    "outputId": "be60ff14-cb4a-406d-f34a-a089c243c8bf"
   },
   "outputs": [
    {
     "name": "stdout",
     "output_type": "stream",
     "text": [
      "\r",
      "[*********************100%***********************]  1 of 1 completed\n"
     ]
    }
   ],
   "source": [
    "## Importar os dados de cotações do Yahoo Finance\n",
    "df_yf = yf.download('PETR4.SA', start='2021-01-05', end='2021-06-30', period = \"1d\")\n",
    "data = bt.feeds.PandasData(dataname=df_yf, name='PETR4.SA')"
   ]
  },
  {
   "cell_type": "code",
   "execution_count": null,
   "metadata": {
    "id": "jMOiPT91mp_7"
   },
   "outputs": [],
   "source": [
    "class Cruzamento_Preco_MMA(bt.Strategy):\n",
    "  \n",
    "  params = (('MMA',9),)\n",
    "  \n",
    "  def __init__(self):\n",
    "    sma = bt.indicators.MovingAverageSimple(self.datas[0],period=self.params.MMA)\n",
    "    price = self.datas[0]\n",
    "    self.crossover = bt.indicators.CrossOver(price,sma)\n",
    "    self.sma = sma\n",
    "    self.price = price\n",
    "  \n",
    "  def log(self, txt, dt=None):\n",
    "    dt = self.datas[0].datetime.date(0)\n",
    "    print(f'{dt}: {txt}')\n",
    "\n",
    "  def next(self):\n",
    "    if self.crossover > 0:\n",
    "      self.log('|| MMMA %.0fp = R$ %.2f || Close = R$ %.2f || Posição crossover = %.0f || Hoje, o ativo fechou ACIMA da MMA, assim, comprar a mercado (BuyAtMarket) na abertura de amanha' % ((self.params.MMA),(self.sma[0]),(self.price[0]),(self.crossover[0])))\n",
    "      self.buy()\n",
    "    elif self.crossover < 0:\n",
    "      self.log('|| MMMA %.0fp = R$ %.2f || Close = R$ %.2f || Posição crossover = %.0f || Hoje, o ativo fechou ABAIXO da MMA, assim, vender a mercado (SellAtMarket) na abertura de amanha' % ((self.params.MMA),(self.sma[0]),(self.price[0]),(self.crossover[0])))\n",
    "      self.sell()\n",
    "    else:\n",
    "      self.log('|| MMMA %.0fp = R$ %.2f || Close = R$ %.2f || Posição crossover = %.0f || Hoje não operei' % ((self.params.MMA),(self.sma[0]),(self.price[0]),(self.crossover[0])))"
   ]
  },
  {
   "cell_type": "code",
   "execution_count": null,
   "metadata": {
    "colab": {
     "base_uri": "https://localhost:8080/"
    },
    "id": "p-OqVCRP3Ghl",
    "outputId": "d2eb40ac-757c-480e-d8fa-5f92f05624fa"
   },
   "outputs": [
    {
     "name": "stdout",
     "output_type": "stream",
     "text": [
      "Valor inicial da carteira: 10000.00\n",
      "2021-01-18: || MMMA 9p = R$ 29.83 || Close = R$ 28.07 || Posição crossover = 0 || Hoje não operei\n",
      "2021-01-19: || MMMA 9p = R$ 29.68 || Close = R$ 28.69 || Posição crossover = 0 || Hoje não operei\n",
      "2021-01-20: || MMMA 9p = R$ 29.37 || Close = R$ 28.21 || Posição crossover = 0 || Hoje não operei\n",
      "2021-01-21: || MMMA 9p = R$ 28.97 || Close = R$ 27.55 || Posição crossover = 0 || Hoje não operei\n",
      "2021-01-22: || MMMA 9p = R$ 28.55 || Close = R$ 27.09 || Posição crossover = 0 || Hoje não operei\n",
      "2021-01-26: || MMMA 9p = R$ 28.15 || Close = R$ 27.00 || Posição crossover = 0 || Hoje não operei\n",
      "2021-01-27: || MMMA 9p = R$ 27.95 || Close = R$ 27.40 || Posição crossover = 0 || Hoje não operei\n",
      "2021-01-28: || MMMA 9p = R$ 27.77 || Close = R$ 27.76 || Posição crossover = 0 || Hoje não operei\n",
      "2021-01-29: || MMMA 9p = R$ 27.61 || Close = R$ 26.69 || Posição crossover = 0 || Hoje não operei\n",
      "2021-02-01: || MMMA 9p = R$ 27.55 || Close = R$ 27.53 || Posição crossover = 0 || Hoje não operei\n",
      "2021-02-02: || MMMA 9p = R$ 27.54 || Close = R$ 28.66 || Posição crossover = 1 || Hoje, o ativo fechou ACIMA da MMA, assim, comprar a mercado (BuyAtMarket) na abertura de amanha\n",
      "2021-02-03: || MMMA 9p = R$ 27.62 || Close = R$ 28.94 || Posição crossover = 0 || Hoje não operei\n",
      "2021-02-04: || MMMA 9p = R$ 27.77 || Close = R$ 28.82 || Posição crossover = 0 || Hoje não operei\n",
      "2021-02-05: || MMMA 9p = R$ 27.96 || Close = R$ 28.84 || Posição crossover = 0 || Hoje não operei\n",
      "2021-02-08: || MMMA 9p = R$ 28.08 || Close = R$ 28.11 || Posição crossover = 0 || Hoje não operei\n",
      "2021-02-09: || MMMA 9p = R$ 28.10 || Close = R$ 27.54 || Posição crossover = -1 || Hoje, o ativo fechou ABAIXO da MMA, assim, vender a mercado (SellAtMarket) na abertura de amanha\n",
      "2021-02-10: || MMMA 9p = R$ 28.10 || Close = R$ 27.80 || Posição crossover = 0 || Hoje não operei\n",
      "2021-02-11: || MMMA 9p = R$ 28.26 || Close = R$ 28.08 || Posição crossover = 0 || Hoje não operei\n",
      "2021-02-12: || MMMA 9p = R$ 28.36 || Close = R$ 28.44 || Posição crossover = 1 || Hoje, o ativo fechou ACIMA da MMA, assim, comprar a mercado (BuyAtMarket) na abertura de amanha\n",
      "2021-02-17: || MMMA 9p = R$ 28.46 || Close = R$ 29.59 || Posição crossover = 0 || Hoje não operei\n",
      "2021-02-18: || MMMA 9p = R$ 28.50 || Close = R$ 29.27 || Posição crossover = 0 || Hoje não operei\n",
      "2021-02-19: || MMMA 9p = R$ 28.33 || Close = R$ 27.33 || Posição crossover = -1 || Hoje, o ativo fechou ABAIXO da MMA, assim, vender a mercado (SellAtMarket) na abertura de amanha\n",
      "2021-02-22: || MMMA 9p = R$ 27.54 || Close = R$ 21.67 || Posição crossover = 0 || Hoje não operei\n",
      "2021-02-23: || MMMA 9p = R$ 27.09 || Close = R$ 24.06 || Posição crossover = 0 || Hoje não operei\n",
      "2021-02-24: || MMMA 9p = R$ 26.74 || Close = R$ 24.40 || Posição crossover = 0 || Hoje não operei\n",
      "2021-02-25: || MMMA 9p = R$ 26.23 || Close = R$ 23.19 || Posição crossover = 0 || Hoje não operei\n",
      "2021-02-26: || MMMA 9p = R$ 25.58 || Close = R$ 22.24 || Posição crossover = 0 || Hoje não operei\n",
      "2021-03-01: || MMMA 9p = R$ 24.86 || Close = R$ 22.00 || Posição crossover = 0 || Hoje não operei\n",
      "2021-03-02: || MMMA 9p = R$ 24.02 || Close = R$ 21.99 || Posição crossover = 0 || Hoje não operei\n",
      "2021-03-03: || MMMA 9p = R$ 23.12 || Close = R$ 21.19 || Posição crossover = 0 || Hoje não operei\n",
      "2021-03-04: || MMMA 9p = R$ 22.55 || Close = R$ 22.22 || Posição crossover = 0 || Hoje não operei\n",
      "2021-03-05: || MMMA 9p = R$ 22.63 || Close = R$ 22.39 || Posição crossover = 0 || Hoje não operei\n",
      "2021-03-08: || MMMA 9p = R$ 22.30 || Close = R$ 21.10 || Posição crossover = 0 || Hoje não operei\n",
      "2021-03-09: || MMMA 9p = R$ 21.99 || Close = R$ 21.59 || Posição crossover = 0 || Hoje não operei\n",
      "2021-03-10: || MMMA 9p = R$ 21.90 || Close = R$ 22.34 || Posição crossover = 1 || Hoje, o ativo fechou ACIMA da MMA, assim, comprar a mercado (BuyAtMarket) na abertura de amanha\n",
      "2021-03-11: || MMMA 9p = R$ 22.01 || Close = R$ 23.29 || Posição crossover = 0 || Hoje não operei\n",
      "2021-03-12: || MMMA 9p = R$ 22.14 || Close = R$ 23.17 || Posição crossover = 0 || Hoje não operei\n",
      "2021-03-15: || MMMA 9p = R$ 22.33 || Close = R$ 23.65 || Posição crossover = 0 || Hoje não operei\n",
      "2021-03-16: || MMMA 9p = R$ 22.56 || Close = R$ 23.28 || Posição crossover = 0 || Hoje não operei\n",
      "2021-03-17: || MMMA 9p = R$ 22.77 || Close = R$ 24.08 || Posição crossover = 0 || Hoje não operei\n",
      "2021-03-18: || MMMA 9p = R$ 22.86 || Close = R$ 23.24 || Posição crossover = 0 || Hoje não operei\n",
      "2021-03-19: || MMMA 9p = R$ 23.18 || Close = R$ 24.00 || Posição crossover = 0 || Hoje não operei\n",
      "2021-03-22: || MMMA 9p = R$ 23.40 || Close = R$ 23.52 || Posição crossover = 0 || Hoje não operei\n",
      "2021-03-23: || MMMA 9p = R$ 23.45 || Close = R$ 22.80 || Posição crossover = -1 || Hoje, o ativo fechou ABAIXO da MMA, assim, vender a mercado (SellAtMarket) na abertura de amanha\n",
      "2021-03-24: || MMMA 9p = R$ 23.40 || Close = R$ 22.82 || Posição crossover = 0 || Hoje não operei\n",
      "2021-03-25: || MMMA 9p = R$ 23.40 || Close = R$ 23.20 || Posição crossover = 0 || Hoje não operei\n",
      "2021-03-26: || MMMA 9p = R$ 23.38 || Close = R$ 23.46 || Posição crossover = 1 || Hoje, o ativo fechou ACIMA da MMA, assim, comprar a mercado (BuyAtMarket) na abertura de amanha\n",
      "2021-03-29: || MMMA 9p = R$ 23.44 || Close = R$ 23.83 || Posição crossover = 0 || Hoje não operei\n",
      "2021-03-30: || MMMA 9p = R$ 23.41 || Close = R$ 23.83 || Posição crossover = 0 || Hoje não operei\n",
      "2021-03-31: || MMMA 9p = R$ 23.51 || Close = R$ 24.10 || Posição crossover = 0 || Hoje não operei\n",
      "2021-04-01: || MMMA 9p = R$ 23.49 || Close = R$ 23.89 || Posição crossover = 0 || Hoje não operei\n",
      "2021-04-05: || MMMA 9p = R$ 23.55 || Close = R$ 24.04 || Posição crossover = 0 || Hoje não operei\n",
      "2021-04-06: || MMMA 9p = R$ 23.69 || Close = R$ 24.02 || Posição crossover = 0 || Hoje não operei\n",
      "2021-04-07: || MMMA 9p = R$ 23.82 || Close = R$ 24.00 || Posição crossover = 0 || Hoje não operei\n",
      "2021-04-08: || MMMA 9p = R$ 23.87 || Close = R$ 23.70 || Posição crossover = -1 || Hoje, o ativo fechou ABAIXO da MMA, assim, vender a mercado (SellAtMarket) na abertura de amanha\n",
      "2021-04-09: || MMMA 9p = R$ 23.90 || Close = R$ 23.65 || Posição crossover = 0 || Hoje não operei\n",
      "2021-04-12: || MMMA 9p = R$ 23.90 || Close = R$ 23.89 || Posição crossover = 0 || Hoje não operei\n",
      "2021-04-13: || MMMA 9p = R$ 23.92 || Close = R$ 23.97 || Posição crossover = 1 || Hoje, o ativo fechou ACIMA da MMA, assim, comprar a mercado (BuyAtMarket) na abertura de amanha\n",
      "2021-04-14: || MMMA 9p = R$ 23.95 || Close = R$ 24.35 || Posição crossover = 0 || Hoje não operei\n",
      "2021-04-15: || MMMA 9p = R$ 23.86 || Close = R$ 23.09 || Posição crossover = -1 || Hoje, o ativo fechou ABAIXO da MMA, assim, vender a mercado (SellAtMarket) na abertura de amanha\n",
      "2021-04-16: || MMMA 9p = R$ 23.74 || Close = R$ 22.95 || Posição crossover = 0 || Hoje não operei\n",
      "2021-04-19: || MMMA 9p = R$ 23.76 || Close = R$ 24.28 || Posição crossover = 1 || Hoje, o ativo fechou ACIMA da MMA, assim, comprar a mercado (BuyAtMarket) na abertura de amanha\n",
      "2021-04-20: || MMMA 9p = R$ 23.74 || Close = R$ 23.82 || Posição crossover = 0 || Hoje não operei\n",
      "2021-04-22: || MMMA 9p = R$ 23.75 || Close = R$ 23.71 || Posição crossover = -1 || Hoje, o ativo fechou ABAIXO da MMA, assim, vender a mercado (SellAtMarket) na abertura de amanha\n",
      "2021-04-23: || MMMA 9p = R$ 23.75 || Close = R$ 23.69 || Posição crossover = 0 || Hoje não operei\n",
      "2021-04-26: || MMMA 9p = R$ 23.74 || Close = R$ 23.78 || Posição crossover = 1 || Hoje, o ativo fechou ACIMA da MMA, assim, comprar a mercado (BuyAtMarket) na abertura de amanha\n",
      "2021-04-27: || MMMA 9p = R$ 23.64 || Close = R$ 23.10 || Posição crossover = -1 || Hoje, o ativo fechou ABAIXO da MMA, assim, vender a mercado (SellAtMarket) na abertura de amanha\n",
      "2021-04-28: || MMMA 9p = R$ 23.60 || Close = R$ 23.94 || Posição crossover = 1 || Hoje, o ativo fechou ACIMA da MMA, assim, comprar a mercado (BuyAtMarket) na abertura de amanha\n",
      "2021-04-29: || MMMA 9p = R$ 23.65 || Close = R$ 23.62 || Posição crossover = -1 || Hoje, o ativo fechou ABAIXO da MMA, assim, vender a mercado (SellAtMarket) na abertura de amanha\n",
      "2021-04-30: || MMMA 9p = R$ 23.73 || Close = R$ 23.62 || Posição crossover = 0 || Hoje não operei\n",
      "2021-05-03: || MMMA 9p = R$ 23.63 || Close = R$ 23.43 || Posição crossover = 0 || Hoje não operei\n",
      "2021-05-04: || MMMA 9p = R$ 23.53 || Close = R$ 22.89 || Posição crossover = 0 || Hoje não operei\n",
      "2021-05-05: || MMMA 9p = R$ 23.54 || Close = R$ 23.83 || Posição crossover = 1 || Hoje, o ativo fechou ACIMA da MMA, assim, comprar a mercado (BuyAtMarket) na abertura de amanha\n",
      "2021-05-06: || MMMA 9p = R$ 23.52 || Close = R$ 23.50 || Posição crossover = -1 || Hoje, o ativo fechou ABAIXO da MMA, assim, vender a mercado (SellAtMarket) na abertura de amanha\n",
      "2021-05-07: || MMMA 9p = R$ 23.59 || Close = R$ 24.38 || Posição crossover = 1 || Hoje, o ativo fechou ACIMA da MMA, assim, comprar a mercado (BuyAtMarket) na abertura de amanha\n",
      "2021-05-10: || MMMA 9p = R$ 23.77 || Close = R$ 24.70 || Posição crossover = 0 || Hoje não operei\n",
      "2021-05-11: || MMMA 9p = R$ 23.90 || Close = R$ 25.15 || Posição crossover = 0 || Hoje não operei\n",
      "2021-05-12: || MMMA 9p = R$ 24.03 || Close = R$ 24.78 || Posição crossover = 0 || Hoje não operei\n",
      "2021-05-13: || MMMA 9p = R$ 24.18 || Close = R$ 24.99 || Posição crossover = 0 || Hoje não operei\n",
      "2021-05-14: || MMMA 9p = R$ 24.50 || Close = R$ 26.30 || Posição crossover = 0 || Hoje não operei\n",
      "2021-05-17: || MMMA 9p = R$ 24.92 || Close = R$ 26.66 || Posição crossover = 0 || Hoje não operei\n",
      "2021-05-18: || MMMA 9p = R$ 25.20 || Close = R$ 26.35 || Posição crossover = 0 || Hoje não operei\n",
      "2021-05-19: || MMMA 9p = R$ 25.50 || Close = R$ 26.15 || Posição crossover = 0 || Hoje não operei\n",
      "2021-05-20: || MMMA 9p = R$ 25.67 || Close = R$ 25.93 || Posição crossover = 0 || Hoje não operei\n",
      "2021-05-21: || MMMA 9p = R$ 25.81 || Close = R$ 25.95 || Posição crossover = 0 || Hoje não operei\n",
      "2021-05-24: || MMMA 9p = R$ 25.94 || Close = R$ 26.39 || Posição crossover = 0 || Hoje não operei\n",
      "2021-05-25: || MMMA 9p = R$ 26.06 || Close = R$ 25.84 || Posição crossover = -1 || Hoje, o ativo fechou ABAIXO da MMA, assim, vender a mercado (SellAtMarket) na abertura de amanha\n",
      "2021-05-26: || MMMA 9p = R$ 26.18 || Close = R$ 26.09 || Posição crossover = 0 || Hoje não operei\n",
      "2021-05-27: || MMMA 9p = R$ 26.14 || Close = R$ 25.91 || Posição crossover = 0 || Hoje não operei\n",
      "2021-05-28: || MMMA 9p = R$ 26.18 || Close = R$ 26.99 || Posição crossover = 1 || Hoje, o ativo fechou ACIMA da MMA, assim, comprar a mercado (BuyAtMarket) na abertura de amanha\n",
      "2021-05-31: || MMMA 9p = R$ 26.24 || Close = R$ 26.87 || Posição crossover = 0 || Hoje não operei\n",
      "2021-06-01: || MMMA 9p = R$ 26.36 || Close = R$ 27.29 || Posição crossover = 0 || Hoje não operei\n",
      "2021-06-02: || MMMA 9p = R$ 26.58 || Close = R$ 27.87 || Posição crossover = 0 || Hoje não operei\n",
      "2021-06-04: || MMMA 9p = R$ 26.86 || Close = R$ 28.50 || Posição crossover = 0 || Hoje não operei\n",
      "2021-06-07: || MMMA 9p = R$ 27.07 || Close = R$ 28.29 || Posição crossover = 0 || Hoje não operei\n",
      "2021-06-08: || MMMA 9p = R$ 27.39 || Close = R$ 28.66 || Posição crossover = 0 || Hoje não operei\n",
      "2021-06-09: || MMMA 9p = R$ 27.67 || Close = R$ 28.66 || Posição crossover = 0 || Hoje não operei\n",
      "2021-06-10: || MMMA 9p = R$ 27.98 || Close = R$ 28.68 || Posição crossover = 0 || Hoje não operei\n",
      "2021-06-11: || MMMA 9p = R$ 28.15 || Close = R$ 28.57 || Posição crossover = 0 || Hoje não operei\n",
      "2021-06-14: || MMMA 9p = R$ 28.36 || Close = R$ 28.75 || Posição crossover = 0 || Hoje não operei\n",
      "2021-06-15: || MMMA 9p = R$ 28.56 || Close = R$ 29.03 || Posição crossover = 0 || Hoje não operei\n",
      "2021-06-16: || MMMA 9p = R$ 28.70 || Close = R$ 29.14 || Posição crossover = 0 || Hoje não operei\n",
      "2021-06-17: || MMMA 9p = R$ 28.66 || Close = R$ 28.13 || Posição crossover = -1 || Hoje, o ativo fechou ABAIXO da MMA, assim, vender a mercado (SellAtMarket) na abertura de amanha\n",
      "2021-06-18: || MMMA 9p = R$ 28.66 || Close = R$ 28.32 || Posição crossover = 0 || Hoje não operei\n",
      "2021-06-21: || MMMA 9p = R$ 28.69 || Close = R$ 28.95 || Posição crossover = 1 || Hoje, o ativo fechou ACIMA da MMA, assim, comprar a mercado (BuyAtMarket) na abertura de amanha\n",
      "2021-06-22: || MMMA 9p = R$ 28.74 || Close = R$ 29.10 || Posição crossover = 0 || Hoje não operei\n",
      "2021-06-23: || MMMA 9p = R$ 28.81 || Close = R$ 29.30 || Posição crossover = 0 || Hoje não operei\n",
      "2021-06-24: || MMMA 9p = R$ 28.93 || Close = R$ 29.65 || Posição crossover = 0 || Hoje não operei\n",
      "2021-06-25: || MMMA 9p = R$ 28.97 || Close = R$ 29.10 || Posição crossover = 0 || Hoje não operei\n",
      "2021-06-28: || MMMA 9p = R$ 28.97 || Close = R$ 29.05 || Posição crossover = 0 || Hoje não operei\n",
      "2021-06-29: || MMMA 9p = R$ 28.98 || Close = R$ 29.18 || Posição crossover = 0 || Hoje não operei\n",
      "Valor final da carteira: 9337.00\n"
     ]
    }
   ],
   "source": [
    "cerebro = bt.Cerebro()\n",
    "cerebro.adddata(data)\n",
    "cerebro.addstrategy(Cruzamento_Preco_MMA)\n",
    "\n",
    "## Estabelecer parâmetros do broker\n",
    "cerebro.broker.setcash(10000)\n",
    "cerebro.addsizer(bt.sizers.SizerFix, stake=100)\n",
    "\n",
    "print('Valor inicial da carteira: %.2f' % cerebro.broker.getvalue())\n",
    "cerebro.run()\n",
    "print('Valor final da carteira: %.2f' % cerebro.broker.getvalue())"
   ]
  },
  {
   "cell_type": "code",
   "execution_count": null,
   "metadata": {
    "colab": {
     "base_uri": "https://localhost:8080/",
     "height": 865
    },
    "id": "lxsJyLW6-Q0d",
    "outputId": "80646d2a-dc59-42c9-a99c-ae2c366d6284"
   },
   "outputs": [
    {
     "data": {
      "text/html": [
       "\n",
       "  <div id=\"df-40225816-2343-4fd9-9c36-d58866d14c4c\">\n",
       "    <div class=\"colab-df-container\">\n",
       "      <div>\n",
       "<style scoped>\n",
       "    .dataframe tbody tr th:only-of-type {\n",
       "        vertical-align: middle;\n",
       "    }\n",
       "\n",
       "    .dataframe tbody tr th {\n",
       "        vertical-align: top;\n",
       "    }\n",
       "\n",
       "    .dataframe thead th {\n",
       "        text-align: right;\n",
       "    }\n",
       "</style>\n",
       "<table border=\"1\" class=\"dataframe\">\n",
       "  <thead>\n",
       "    <tr style=\"text-align: right;\">\n",
       "      <th></th>\n",
       "      <th>Open</th>\n",
       "      <th>High</th>\n",
       "      <th>Low</th>\n",
       "      <th>Close</th>\n",
       "      <th>Adj Close</th>\n",
       "      <th>Volume</th>\n",
       "      <th>MMA9p</th>\n",
       "      <th>Cl&gt;MMA9</th>\n",
       "    </tr>\n",
       "    <tr>\n",
       "      <th>Date</th>\n",
       "      <th></th>\n",
       "      <th></th>\n",
       "      <th></th>\n",
       "      <th></th>\n",
       "      <th></th>\n",
       "      <th></th>\n",
       "      <th></th>\n",
       "      <th></th>\n",
       "    </tr>\n",
       "  </thead>\n",
       "  <tbody>\n",
       "    <tr>\n",
       "      <th>2021-01-05</th>\n",
       "      <td>28.900000</td>\n",
       "      <td>30.180000</td>\n",
       "      <td>28.240000</td>\n",
       "      <td>30.040001</td>\n",
       "      <td>24.416273</td>\n",
       "      <td>95181100</td>\n",
       "      <td>NaN</td>\n",
       "      <td>False</td>\n",
       "    </tr>\n",
       "    <tr>\n",
       "      <th>2021-01-06</th>\n",
       "      <td>30.160000</td>\n",
       "      <td>30.900000</td>\n",
       "      <td>30.049999</td>\n",
       "      <td>30.100000</td>\n",
       "      <td>24.465040</td>\n",
       "      <td>96562500</td>\n",
       "      <td>NaN</td>\n",
       "      <td>False</td>\n",
       "    </tr>\n",
       "    <tr>\n",
       "      <th>2021-01-07</th>\n",
       "      <td>30.340000</td>\n",
       "      <td>31.150000</td>\n",
       "      <td>30.340000</td>\n",
       "      <td>31.000000</td>\n",
       "      <td>25.196552</td>\n",
       "      <td>56171300</td>\n",
       "      <td>NaN</td>\n",
       "      <td>False</td>\n",
       "    </tr>\n",
       "    <tr>\n",
       "      <th>2021-01-08</th>\n",
       "      <td>31.459999</td>\n",
       "      <td>31.760000</td>\n",
       "      <td>30.350000</td>\n",
       "      <td>31.120001</td>\n",
       "      <td>25.294088</td>\n",
       "      <td>67136300</td>\n",
       "      <td>NaN</td>\n",
       "      <td>False</td>\n",
       "    </tr>\n",
       "    <tr>\n",
       "      <th>2021-01-11</th>\n",
       "      <td>30.610001</td>\n",
       "      <td>31.059999</td>\n",
       "      <td>30.400000</td>\n",
       "      <td>30.860001</td>\n",
       "      <td>25.082762</td>\n",
       "      <td>48744700</td>\n",
       "      <td>NaN</td>\n",
       "      <td>False</td>\n",
       "    </tr>\n",
       "    <tr>\n",
       "      <th>2021-01-12</th>\n",
       "      <td>31.120001</td>\n",
       "      <td>31.559999</td>\n",
       "      <td>30.629999</td>\n",
       "      <td>30.629999</td>\n",
       "      <td>24.895821</td>\n",
       "      <td>65691900</td>\n",
       "      <td>NaN</td>\n",
       "      <td>False</td>\n",
       "    </tr>\n",
       "    <tr>\n",
       "      <th>2021-01-13</th>\n",
       "      <td>30.680000</td>\n",
       "      <td>30.860001</td>\n",
       "      <td>29.000000</td>\n",
       "      <td>29.150000</td>\n",
       "      <td>23.692888</td>\n",
       "      <td>93826600</td>\n",
       "      <td>NaN</td>\n",
       "      <td>False</td>\n",
       "    </tr>\n",
       "    <tr>\n",
       "      <th>2021-01-14</th>\n",
       "      <td>29.170000</td>\n",
       "      <td>29.670000</td>\n",
       "      <td>28.719999</td>\n",
       "      <td>29.450001</td>\n",
       "      <td>23.936726</td>\n",
       "      <td>50745400</td>\n",
       "      <td>NaN</td>\n",
       "      <td>False</td>\n",
       "    </tr>\n",
       "    <tr>\n",
       "      <th>2021-01-15</th>\n",
       "      <td>29.049999</td>\n",
       "      <td>29.080000</td>\n",
       "      <td>28.030001</td>\n",
       "      <td>28.120001</td>\n",
       "      <td>22.855711</td>\n",
       "      <td>80673300</td>\n",
       "      <td>30.052223</td>\n",
       "      <td>False</td>\n",
       "    </tr>\n",
       "    <tr>\n",
       "      <th>2021-01-18</th>\n",
       "      <td>28.309999</td>\n",
       "      <td>28.850000</td>\n",
       "      <td>28.010000</td>\n",
       "      <td>28.070000</td>\n",
       "      <td>22.815071</td>\n",
       "      <td>68855700</td>\n",
       "      <td>29.833334</td>\n",
       "      <td>False</td>\n",
       "    </tr>\n",
       "    <tr>\n",
       "      <th>2021-01-19</th>\n",
       "      <td>28.480000</td>\n",
       "      <td>28.860001</td>\n",
       "      <td>27.639999</td>\n",
       "      <td>28.690001</td>\n",
       "      <td>23.319004</td>\n",
       "      <td>61656000</td>\n",
       "      <td>29.676667</td>\n",
       "      <td>False</td>\n",
       "    </tr>\n",
       "    <tr>\n",
       "      <th>2021-01-20</th>\n",
       "      <td>28.950001</td>\n",
       "      <td>29.120001</td>\n",
       "      <td>28.110001</td>\n",
       "      <td>28.209999</td>\n",
       "      <td>22.928862</td>\n",
       "      <td>60306200</td>\n",
       "      <td>29.366667</td>\n",
       "      <td>False</td>\n",
       "    </tr>\n",
       "    <tr>\n",
       "      <th>2021-01-21</th>\n",
       "      <td>28.020000</td>\n",
       "      <td>28.400000</td>\n",
       "      <td>27.510000</td>\n",
       "      <td>27.549999</td>\n",
       "      <td>22.392420</td>\n",
       "      <td>41284900</td>\n",
       "      <td>28.970000</td>\n",
       "      <td>False</td>\n",
       "    </tr>\n",
       "    <tr>\n",
       "      <th>2021-01-22</th>\n",
       "      <td>26.930000</td>\n",
       "      <td>27.240000</td>\n",
       "      <td>26.559999</td>\n",
       "      <td>27.090000</td>\n",
       "      <td>22.018536</td>\n",
       "      <td>51181900</td>\n",
       "      <td>28.551111</td>\n",
       "      <td>False</td>\n",
       "    </tr>\n",
       "    <tr>\n",
       "      <th>2021-01-26</th>\n",
       "      <td>27.250000</td>\n",
       "      <td>27.969999</td>\n",
       "      <td>26.820000</td>\n",
       "      <td>27.000000</td>\n",
       "      <td>21.945385</td>\n",
       "      <td>64514600</td>\n",
       "      <td>28.147778</td>\n",
       "      <td>False</td>\n",
       "    </tr>\n",
       "    <tr>\n",
       "      <th>2021-01-27</th>\n",
       "      <td>26.809999</td>\n",
       "      <td>28.170000</td>\n",
       "      <td>26.530001</td>\n",
       "      <td>27.400000</td>\n",
       "      <td>22.270500</td>\n",
       "      <td>68337800</td>\n",
       "      <td>27.953333</td>\n",
       "      <td>False</td>\n",
       "    </tr>\n",
       "    <tr>\n",
       "      <th>2021-01-28</th>\n",
       "      <td>27.320000</td>\n",
       "      <td>28.450001</td>\n",
       "      <td>27.309999</td>\n",
       "      <td>27.760000</td>\n",
       "      <td>22.563107</td>\n",
       "      <td>67827000</td>\n",
       "      <td>27.765555</td>\n",
       "      <td>False</td>\n",
       "    </tr>\n",
       "    <tr>\n",
       "      <th>2021-01-29</th>\n",
       "      <td>27.520000</td>\n",
       "      <td>27.680000</td>\n",
       "      <td>26.690001</td>\n",
       "      <td>26.690001</td>\n",
       "      <td>21.693419</td>\n",
       "      <td>67555300</td>\n",
       "      <td>27.606667</td>\n",
       "      <td>False</td>\n",
       "    </tr>\n",
       "    <tr>\n",
       "      <th>2021-02-01</th>\n",
       "      <td>27.260000</td>\n",
       "      <td>27.680000</td>\n",
       "      <td>26.830000</td>\n",
       "      <td>27.530001</td>\n",
       "      <td>22.376165</td>\n",
       "      <td>44449500</td>\n",
       "      <td>27.546667</td>\n",
       "      <td>False</td>\n",
       "    </tr>\n",
       "    <tr>\n",
       "      <th>2021-02-02</th>\n",
       "      <td>28.400000</td>\n",
       "      <td>29.139999</td>\n",
       "      <td>28.200001</td>\n",
       "      <td>28.660000</td>\n",
       "      <td>23.294619</td>\n",
       "      <td>91663000</td>\n",
       "      <td>27.543333</td>\n",
       "      <td>True</td>\n",
       "    </tr>\n",
       "    <tr>\n",
       "      <th>2021-02-03</th>\n",
       "      <td>28.980000</td>\n",
       "      <td>29.139999</td>\n",
       "      <td>28.660000</td>\n",
       "      <td>28.940001</td>\n",
       "      <td>23.522200</td>\n",
       "      <td>47486800</td>\n",
       "      <td>27.624445</td>\n",
       "      <td>True</td>\n",
       "    </tr>\n",
       "    <tr>\n",
       "      <th>2021-02-04</th>\n",
       "      <td>28.830000</td>\n",
       "      <td>28.990000</td>\n",
       "      <td>28.209999</td>\n",
       "      <td>28.820000</td>\n",
       "      <td>23.424665</td>\n",
       "      <td>41444100</td>\n",
       "      <td>27.765556</td>\n",
       "      <td>True</td>\n",
       "    </tr>\n",
       "    <tr>\n",
       "      <th>2021-02-05</th>\n",
       "      <td>28.980000</td>\n",
       "      <td>30.090000</td>\n",
       "      <td>28.320000</td>\n",
       "      <td>28.840000</td>\n",
       "      <td>23.440922</td>\n",
       "      <td>121098700</td>\n",
       "      <td>27.960000</td>\n",
       "      <td>True</td>\n",
       "    </tr>\n",
       "    <tr>\n",
       "      <th>2021-02-08</th>\n",
       "      <td>28.510000</td>\n",
       "      <td>29.299999</td>\n",
       "      <td>27.799999</td>\n",
       "      <td>28.110001</td>\n",
       "      <td>22.847584</td>\n",
       "      <td>98821700</td>\n",
       "      <td>28.083334</td>\n",
       "      <td>True</td>\n",
       "    </tr>\n",
       "    <tr>\n",
       "      <th>2021-02-09</th>\n",
       "      <td>28.049999</td>\n",
       "      <td>28.370001</td>\n",
       "      <td>27.379999</td>\n",
       "      <td>27.540001</td>\n",
       "      <td>22.384293</td>\n",
       "      <td>63662200</td>\n",
       "      <td>28.098889</td>\n",
       "      <td>False</td>\n",
       "    </tr>\n",
       "  </tbody>\n",
       "</table>\n",
       "</div>\n",
       "      <button class=\"colab-df-convert\" onclick=\"convertToInteractive('df-40225816-2343-4fd9-9c36-d58866d14c4c')\"\n",
       "              title=\"Convert this dataframe to an interactive table.\"\n",
       "              style=\"display:none;\">\n",
       "        \n",
       "  <svg xmlns=\"http://www.w3.org/2000/svg\" height=\"24px\"viewBox=\"0 0 24 24\"\n",
       "       width=\"24px\">\n",
       "    <path d=\"M0 0h24v24H0V0z\" fill=\"none\"/>\n",
       "    <path d=\"M18.56 5.44l.94 2.06.94-2.06 2.06-.94-2.06-.94-.94-2.06-.94 2.06-2.06.94zm-11 1L8.5 8.5l.94-2.06 2.06-.94-2.06-.94L8.5 2.5l-.94 2.06-2.06.94zm10 10l.94 2.06.94-2.06 2.06-.94-2.06-.94-.94-2.06-.94 2.06-2.06.94z\"/><path d=\"M17.41 7.96l-1.37-1.37c-.4-.4-.92-.59-1.43-.59-.52 0-1.04.2-1.43.59L10.3 9.45l-7.72 7.72c-.78.78-.78 2.05 0 2.83L4 21.41c.39.39.9.59 1.41.59.51 0 1.02-.2 1.41-.59l7.78-7.78 2.81-2.81c.8-.78.8-2.07 0-2.86zM5.41 20L4 18.59l7.72-7.72 1.47 1.35L5.41 20z\"/>\n",
       "  </svg>\n",
       "      </button>\n",
       "      \n",
       "  <style>\n",
       "    .colab-df-container {\n",
       "      display:flex;\n",
       "      flex-wrap:wrap;\n",
       "      gap: 12px;\n",
       "    }\n",
       "\n",
       "    .colab-df-convert {\n",
       "      background-color: #E8F0FE;\n",
       "      border: none;\n",
       "      border-radius: 50%;\n",
       "      cursor: pointer;\n",
       "      display: none;\n",
       "      fill: #1967D2;\n",
       "      height: 32px;\n",
       "      padding: 0 0 0 0;\n",
       "      width: 32px;\n",
       "    }\n",
       "\n",
       "    .colab-df-convert:hover {\n",
       "      background-color: #E2EBFA;\n",
       "      box-shadow: 0px 1px 2px rgba(60, 64, 67, 0.3), 0px 1px 3px 1px rgba(60, 64, 67, 0.15);\n",
       "      fill: #174EA6;\n",
       "    }\n",
       "\n",
       "    [theme=dark] .colab-df-convert {\n",
       "      background-color: #3B4455;\n",
       "      fill: #D2E3FC;\n",
       "    }\n",
       "\n",
       "    [theme=dark] .colab-df-convert:hover {\n",
       "      background-color: #434B5C;\n",
       "      box-shadow: 0px 1px 3px 1px rgba(0, 0, 0, 0.15);\n",
       "      filter: drop-shadow(0px 1px 2px rgba(0, 0, 0, 0.3));\n",
       "      fill: #FFFFFF;\n",
       "    }\n",
       "  </style>\n",
       "\n",
       "      <script>\n",
       "        const buttonEl =\n",
       "          document.querySelector('#df-40225816-2343-4fd9-9c36-d58866d14c4c button.colab-df-convert');\n",
       "        buttonEl.style.display =\n",
       "          google.colab.kernel.accessAllowed ? 'block' : 'none';\n",
       "\n",
       "        async function convertToInteractive(key) {\n",
       "          const element = document.querySelector('#df-40225816-2343-4fd9-9c36-d58866d14c4c');\n",
       "          const dataTable =\n",
       "            await google.colab.kernel.invokeFunction('convertToInteractive',\n",
       "                                                     [key], {});\n",
       "          if (!dataTable) return;\n",
       "\n",
       "          const docLinkHtml = 'Like what you see? Visit the ' +\n",
       "            '<a target=\"_blank\" href=https://colab.research.google.com/notebooks/data_table.ipynb>data table notebook</a>'\n",
       "            + ' to learn more about interactive tables.';\n",
       "          element.innerHTML = '';\n",
       "          dataTable['output_type'] = 'display_data';\n",
       "          await google.colab.output.renderOutput(dataTable, element);\n",
       "          const docLink = document.createElement('div');\n",
       "          docLink.innerHTML = docLinkHtml;\n",
       "          element.appendChild(docLink);\n",
       "        }\n",
       "      </script>\n",
       "    </div>\n",
       "  </div>\n",
       "  "
      ],
      "text/plain": [
       "                 Open       High        Low  ...     Volume      MMA9p  Cl>MMA9\n",
       "Date                                         ...                               \n",
       "2021-01-05  28.900000  30.180000  28.240000  ...   95181100        NaN    False\n",
       "2021-01-06  30.160000  30.900000  30.049999  ...   96562500        NaN    False\n",
       "2021-01-07  30.340000  31.150000  30.340000  ...   56171300        NaN    False\n",
       "2021-01-08  31.459999  31.760000  30.350000  ...   67136300        NaN    False\n",
       "2021-01-11  30.610001  31.059999  30.400000  ...   48744700        NaN    False\n",
       "2021-01-12  31.120001  31.559999  30.629999  ...   65691900        NaN    False\n",
       "2021-01-13  30.680000  30.860001  29.000000  ...   93826600        NaN    False\n",
       "2021-01-14  29.170000  29.670000  28.719999  ...   50745400        NaN    False\n",
       "2021-01-15  29.049999  29.080000  28.030001  ...   80673300  30.052223    False\n",
       "2021-01-18  28.309999  28.850000  28.010000  ...   68855700  29.833334    False\n",
       "2021-01-19  28.480000  28.860001  27.639999  ...   61656000  29.676667    False\n",
       "2021-01-20  28.950001  29.120001  28.110001  ...   60306200  29.366667    False\n",
       "2021-01-21  28.020000  28.400000  27.510000  ...   41284900  28.970000    False\n",
       "2021-01-22  26.930000  27.240000  26.559999  ...   51181900  28.551111    False\n",
       "2021-01-26  27.250000  27.969999  26.820000  ...   64514600  28.147778    False\n",
       "2021-01-27  26.809999  28.170000  26.530001  ...   68337800  27.953333    False\n",
       "2021-01-28  27.320000  28.450001  27.309999  ...   67827000  27.765555    False\n",
       "2021-01-29  27.520000  27.680000  26.690001  ...   67555300  27.606667    False\n",
       "2021-02-01  27.260000  27.680000  26.830000  ...   44449500  27.546667    False\n",
       "2021-02-02  28.400000  29.139999  28.200001  ...   91663000  27.543333     True\n",
       "2021-02-03  28.980000  29.139999  28.660000  ...   47486800  27.624445     True\n",
       "2021-02-04  28.830000  28.990000  28.209999  ...   41444100  27.765556     True\n",
       "2021-02-05  28.980000  30.090000  28.320000  ...  121098700  27.960000     True\n",
       "2021-02-08  28.510000  29.299999  27.799999  ...   98821700  28.083334     True\n",
       "2021-02-09  28.049999  28.370001  27.379999  ...   63662200  28.098889    False\n",
       "\n",
       "[25 rows x 8 columns]"
      ]
     },
     "execution_count": 56,
     "metadata": {},
     "output_type": "execute_result"
    }
   ],
   "source": [
    "MMA9p = ta.trend.SMAIndicator(df_yf['Close'], window=9)\n",
    "df_yf['MMA9p'] = MMA9p.sma_indicator()\n",
    "df_yf['Cl>MMA9'] = df_yf['Close'] > df_yf['MMA9p']\n",
    "df_yf.head(25)"
   ]
  },
  {
   "cell_type": "code",
   "execution_count": null,
   "metadata": {
    "colab": {
     "base_uri": "https://localhost:8080/",
     "height": 842
    },
    "id": "3zRNx2za8Pd7",
    "outputId": "568e9c63-f045-407d-d690-34fa55c4c9db"
   },
   "outputs": [
    {
     "data": {
      "image/png": "[encoded data removed]",
      "text/plain": [
       "<Figure size 1080x864 with 4 Axes>"
      ]
     },
     "metadata": {
      "needs_background": "light"
     },
     "output_type": "display_data"
    }
   ],
   "source": [
    "plt.rcParams['figure.figsize'] = [15, 12]\n",
    "plt.rcParams.update({'font.size': 12})\n",
    "cerebro.plot(iplot = False);"
   ]
  },
  {
   "cell_type": "markdown",
   "metadata": {
    "id": "bTqMl6d1WUzV"
   },
   "source": [
    "Setups com muitas entradas podem ser complicados dependendo das taxas. Incluindo as taxas na avaliação"
   ]
  },
  {
   "cell_type": "code",
   "execution_count": null,
   "metadata": {
    "colab": {
     "base_uri": "https://localhost:8080/"
    },
    "id": "W0Tz1h0FUPX-",
    "outputId": "cf57eb43-361b-4246-d103-7f1091a18e11"
   },
   "outputs": [
    {
     "name": "stdout",
     "output_type": "stream",
     "text": [
      "Valor inicial da carteira: 10000.00\n",
      "2021-01-18: || MMMA 9p = R$ 29.83 || Close = R$ 28.07 || Posição crossover = 0 || Hoje não operei\n",
      "2021-01-19: || MMMA 9p = R$ 29.68 || Close = R$ 28.69 || Posição crossover = 0 || Hoje não operei\n",
      "2021-01-20: || MMMA 9p = R$ 29.37 || Close = R$ 28.21 || Posição crossover = 0 || Hoje não operei\n",
      "2021-01-21: || MMMA 9p = R$ 28.97 || Close = R$ 27.55 || Posição crossover = 0 || Hoje não operei\n",
      "2021-01-22: || MMMA 9p = R$ 28.55 || Close = R$ 27.09 || Posição crossover = 0 || Hoje não operei\n",
      "2021-01-26: || MMMA 9p = R$ 28.15 || Close = R$ 27.00 || Posição crossover = 0 || Hoje não operei\n",
      "2021-01-27: || MMMA 9p = R$ 27.95 || Close = R$ 27.40 || Posição crossover = 0 || Hoje não operei\n",
      "2021-01-28: || MMMA 9p = R$ 27.77 || Close = R$ 27.76 || Posição crossover = 0 || Hoje não operei\n",
      "2021-01-29: || MMMA 9p = R$ 27.61 || Close = R$ 26.69 || Posição crossover = 0 || Hoje não operei\n",
      "2021-02-01: || MMMA 9p = R$ 27.55 || Close = R$ 27.53 || Posição crossover = 0 || Hoje não operei\n",
      "2021-02-02: || MMMA 9p = R$ 27.54 || Close = R$ 28.66 || Posição crossover = 1 || Hoje, o ativo fechou ACIMA da MMA, assim, comprar a mercado (BuyAtMarket) na abertura de amanha\n",
      "2021-02-03: || MMMA 9p = R$ 27.62 || Close = R$ 28.94 || Posição crossover = 0 || Hoje não operei\n",
      "2021-02-04: || MMMA 9p = R$ 27.77 || Close = R$ 28.82 || Posição crossover = 0 || Hoje não operei\n",
      "2021-02-05: || MMMA 9p = R$ 27.96 || Close = R$ 28.84 || Posição crossover = 0 || Hoje não operei\n",
      "2021-02-08: || MMMA 9p = R$ 28.08 || Close = R$ 28.11 || Posição crossover = 0 || Hoje não operei\n",
      "2021-02-09: || MMMA 9p = R$ 28.10 || Close = R$ 27.54 || Posição crossover = -1 || Hoje, o ativo fechou ABAIXO da MMA, assim, vender a mercado (SellAtMarket) na abertura de amanha\n",
      "2021-02-10: || MMMA 9p = R$ 28.10 || Close = R$ 27.80 || Posição crossover = 0 || Hoje não operei\n",
      "2021-02-11: || MMMA 9p = R$ 28.26 || Close = R$ 28.08 || Posição crossover = 0 || Hoje não operei\n",
      "2021-02-12: || MMMA 9p = R$ 28.36 || Close = R$ 28.44 || Posição crossover = 1 || Hoje, o ativo fechou ACIMA da MMA, assim, comprar a mercado (BuyAtMarket) na abertura de amanha\n",
      "2021-02-17: || MMMA 9p = R$ 28.46 || Close = R$ 29.59 || Posição crossover = 0 || Hoje não operei\n",
      "2021-02-18: || MMMA 9p = R$ 28.50 || Close = R$ 29.27 || Posição crossover = 0 || Hoje não operei\n",
      "2021-02-19: || MMMA 9p = R$ 28.33 || Close = R$ 27.33 || Posição crossover = -1 || Hoje, o ativo fechou ABAIXO da MMA, assim, vender a mercado (SellAtMarket) na abertura de amanha\n",
      "2021-02-22: || MMMA 9p = R$ 27.54 || Close = R$ 21.67 || Posição crossover = 0 || Hoje não operei\n",
      "2021-02-23: || MMMA 9p = R$ 27.09 || Close = R$ 24.06 || Posição crossover = 0 || Hoje não operei\n",
      "2021-02-24: || MMMA 9p = R$ 26.74 || Close = R$ 24.40 || Posição crossover = 0 || Hoje não operei\n",
      "2021-02-25: || MMMA 9p = R$ 26.23 || Close = R$ 23.19 || Posição crossover = 0 || Hoje não operei\n",
      "2021-02-26: || MMMA 9p = R$ 25.58 || Close = R$ 22.24 || Posição crossover = 0 || Hoje não operei\n",
      "2021-03-01: || MMMA 9p = R$ 24.86 || Close = R$ 22.00 || Posição crossover = 0 || Hoje não operei\n",
      "2021-03-02: || MMMA 9p = R$ 24.02 || Close = R$ 21.99 || Posição crossover = 0 || Hoje não operei\n",
      "2021-03-03: || MMMA 9p = R$ 23.12 || Close = R$ 21.19 || Posição crossover = 0 || Hoje não operei\n",
      "2021-03-04: || MMMA 9p = R$ 22.55 || Close = R$ 22.22 || Posição crossover = 0 || Hoje não operei\n",
      "2021-03-05: || MMMA 9p = R$ 22.63 || Close = R$ 22.39 || Posição crossover = 0 || Hoje não operei\n",
      "2021-03-08: || MMMA 9p = R$ 22.30 || Close = R$ 21.10 || Posição crossover = 0 || Hoje não operei\n",
      "2021-03-09: || MMMA 9p = R$ 21.99 || Close = R$ 21.59 || Posição crossover = 0 || Hoje não operei\n",
      "2021-03-10: || MMMA 9p = R$ 21.90 || Close = R$ 22.34 || Posição crossover = 1 || Hoje, o ativo fechou ACIMA da MMA, assim, comprar a mercado (BuyAtMarket) na abertura de amanha\n",
      "2021-03-11: || MMMA 9p = R$ 22.01 || Close = R$ 23.29 || Posição crossover = 0 || Hoje não operei\n",
      "2021-03-12: || MMMA 9p = R$ 22.14 || Close = R$ 23.17 || Posição crossover = 0 || Hoje não operei\n",
      "2021-03-15: || MMMA 9p = R$ 22.33 || Close = R$ 23.65 || Posição crossover = 0 || Hoje não operei\n",
      "2021-03-16: || MMMA 9p = R$ 22.56 || Close = R$ 23.28 || Posição crossover = 0 || Hoje não operei\n",
      "2021-03-17: || MMMA 9p = R$ 22.77 || Close = R$ 24.08 || Posição crossover = 0 || Hoje não operei\n",
      "2021-03-18: || MMMA 9p = R$ 22.86 || Close = R$ 23.24 || Posição crossover = 0 || Hoje não operei\n",
      "2021-03-19: || MMMA 9p = R$ 23.18 || Close = R$ 24.00 || Posição crossover = 0 || Hoje não operei\n",
      "2021-03-22: || MMMA 9p = R$ 23.40 || Close = R$ 23.52 || Posição crossover = 0 || Hoje não operei\n",
      "2021-03-23: || MMMA 9p = R$ 23.45 || Close = R$ 22.80 || Posição crossover = -1 || Hoje, o ativo fechou ABAIXO da MMA, assim, vender a mercado (SellAtMarket) na abertura de amanha\n",
      "2021-03-24: || MMMA 9p = R$ 23.40 || Close = R$ 22.82 || Posição crossover = 0 || Hoje não operei\n",
      "2021-03-25: || MMMA 9p = R$ 23.40 || Close = R$ 23.20 || Posição crossover = 0 || Hoje não operei\n",
      "2021-03-26: || MMMA 9p = R$ 23.38 || Close = R$ 23.46 || Posição crossover = 1 || Hoje, o ativo fechou ACIMA da MMA, assim, comprar a mercado (BuyAtMarket) na abertura de amanha\n",
      "2021-03-29: || MMMA 9p = R$ 23.44 || Close = R$ 23.83 || Posição crossover = 0 || Hoje não operei\n",
      "2021-03-30: || MMMA 9p = R$ 23.41 || Close = R$ 23.83 || Posição crossover = 0 || Hoje não operei\n",
      "2021-03-31: || MMMA 9p = R$ 23.51 || Close = R$ 24.10 || Posição crossover = 0 || Hoje não operei\n",
      "2021-04-01: || MMMA 9p = R$ 23.49 || Close = R$ 23.89 || Posição crossover = 0 || Hoje não operei\n",
      "2021-04-05: || MMMA 9p = R$ 23.55 || Close = R$ 24.04 || Posição crossover = 0 || Hoje não operei\n",
      "2021-04-06: || MMMA 9p = R$ 23.69 || Close = R$ 24.02 || Posição crossover = 0 || Hoje não operei\n",
      "2021-04-07: || MMMA 9p = R$ 23.82 || Close = R$ 24.00 || Posição crossover = 0 || Hoje não operei\n",
      "2021-04-08: || MMMA 9p = R$ 23.87 || Close = R$ 23.70 || Posição crossover = -1 || Hoje, o ativo fechou ABAIXO da MMA, assim, vender a mercado (SellAtMarket) na abertura de amanha\n",
      "2021-04-09: || MMMA 9p = R$ 23.90 || Close = R$ 23.65 || Posição crossover = 0 || Hoje não operei\n",
      "2021-04-12: || MMMA 9p = R$ 23.90 || Close = R$ 23.89 || Posição crossover = 0 || Hoje não operei\n",
      "2021-04-13: || MMMA 9p = R$ 23.92 || Close = R$ 23.97 || Posição crossover = 1 || Hoje, o ativo fechou ACIMA da MMA, assim, comprar a mercado (BuyAtMarket) na abertura de amanha\n",
      "2021-04-14: || MMMA 9p = R$ 23.95 || Close = R$ 24.35 || Posição crossover = 0 || Hoje não operei\n",
      "2021-04-15: || MMMA 9p = R$ 23.86 || Close = R$ 23.09 || Posição crossover = -1 || Hoje, o ativo fechou ABAIXO da MMA, assim, vender a mercado (SellAtMarket) na abertura de amanha\n",
      "2021-04-16: || MMMA 9p = R$ 23.74 || Close = R$ 22.95 || Posição crossover = 0 || Hoje não operei\n",
      "2021-04-19: || MMMA 9p = R$ 23.76 || Close = R$ 24.28 || Posição crossover = 1 || Hoje, o ativo fechou ACIMA da MMA, assim, comprar a mercado (BuyAtMarket) na abertura de amanha\n",
      "2021-04-20: || MMMA 9p = R$ 23.74 || Close = R$ 23.82 || Posição crossover = 0 || Hoje não operei\n",
      "2021-04-22: || MMMA 9p = R$ 23.75 || Close = R$ 23.71 || Posição crossover = -1 || Hoje, o ativo fechou ABAIXO da MMA, assim, vender a mercado (SellAtMarket) na abertura de amanha\n",
      "2021-04-23: || MMMA 9p = R$ 23.75 || Close = R$ 23.69 || Posição crossover = 0 || Hoje não operei\n",
      "2021-04-26: || MMMA 9p = R$ 23.74 || Close = R$ 23.78 || Posição crossover = 1 || Hoje, o ativo fechou ACIMA da MMA, assim, comprar a mercado (BuyAtMarket) na abertura de amanha\n",
      "2021-04-27: || MMMA 9p = R$ 23.64 || Close = R$ 23.10 || Posição crossover = -1 || Hoje, o ativo fechou ABAIXO da MMA, assim, vender a mercado (SellAtMarket) na abertura de amanha\n",
      "2021-04-28: || MMMA 9p = R$ 23.60 || Close = R$ 23.94 || Posição crossover = 1 || Hoje, o ativo fechou ACIMA da MMA, assim, comprar a mercado (BuyAtMarket) na abertura de amanha\n",
      "2021-04-29: || MMMA 9p = R$ 23.65 || Close = R$ 23.62 || Posição crossover = -1 || Hoje, o ativo fechou ABAIXO da MMA, assim, vender a mercado (SellAtMarket) na abertura de amanha\n",
      "2021-04-30: || MMMA 9p = R$ 23.73 || Close = R$ 23.62 || Posição crossover = 0 || Hoje não operei\n",
      "2021-05-03: || MMMA 9p = R$ 23.63 || Close = R$ 23.43 || Posição crossover = 0 || Hoje não operei\n",
      "2021-05-04: || MMMA 9p = R$ 23.53 || Close = R$ 22.89 || Posição crossover = 0 || Hoje não operei\n",
      "2021-05-05: || MMMA 9p = R$ 23.54 || Close = R$ 23.83 || Posição crossover = 1 || Hoje, o ativo fechou ACIMA da MMA, assim, comprar a mercado (BuyAtMarket) na abertura de amanha\n",
      "2021-05-06: || MMMA 9p = R$ 23.52 || Close = R$ 23.50 || Posição crossover = -1 || Hoje, o ativo fechou ABAIXO da MMA, assim, vender a mercado (SellAtMarket) na abertura de amanha\n",
      "2021-05-07: || MMMA 9p = R$ 23.59 || Close = R$ 24.38 || Posição crossover = 1 || Hoje, o ativo fechou ACIMA da MMA, assim, comprar a mercado (BuyAtMarket) na abertura de amanha\n",
      "2021-05-10: || MMMA 9p = R$ 23.77 || Close = R$ 24.70 || Posição crossover = 0 || Hoje não operei\n",
      "2021-05-11: || MMMA 9p = R$ 23.90 || Close = R$ 25.15 || Posição crossover = 0 || Hoje não operei\n",
      "2021-05-12: || MMMA 9p = R$ 24.03 || Close = R$ 24.78 || Posição crossover = 0 || Hoje não operei\n",
      "2021-05-13: || MMMA 9p = R$ 24.18 || Close = R$ 24.99 || Posição crossover = 0 || Hoje não operei\n",
      "2021-05-14: || MMMA 9p = R$ 24.50 || Close = R$ 26.30 || Posição crossover = 0 || Hoje não operei\n",
      "2021-05-17: || MMMA 9p = R$ 24.92 || Close = R$ 26.66 || Posição crossover = 0 || Hoje não operei\n",
      "2021-05-18: || MMMA 9p = R$ 25.20 || Close = R$ 26.35 || Posição crossover = 0 || Hoje não operei\n",
      "2021-05-19: || MMMA 9p = R$ 25.50 || Close = R$ 26.15 || Posição crossover = 0 || Hoje não operei\n",
      "2021-05-20: || MMMA 9p = R$ 25.67 || Close = R$ 25.93 || Posição crossover = 0 || Hoje não operei\n",
      "2021-05-21: || MMMA 9p = R$ 25.81 || Close = R$ 25.95 || Posição crossover = 0 || Hoje não operei\n",
      "2021-05-24: || MMMA 9p = R$ 25.94 || Close = R$ 26.39 || Posição crossover = 0 || Hoje não operei\n",
      "2021-05-25: || MMMA 9p = R$ 26.06 || Close = R$ 25.84 || Posição crossover = -1 || Hoje, o ativo fechou ABAIXO da MMA, assim, vender a mercado (SellAtMarket) na abertura de amanha\n",
      "2021-05-26: || MMMA 9p = R$ 26.18 || Close = R$ 26.09 || Posição crossover = 0 || Hoje não operei\n",
      "2021-05-27: || MMMA 9p = R$ 26.14 || Close = R$ 25.91 || Posição crossover = 0 || Hoje não operei\n",
      "2021-05-28: || MMMA 9p = R$ 26.18 || Close = R$ 26.99 || Posição crossover = 1 || Hoje, o ativo fechou ACIMA da MMA, assim, comprar a mercado (BuyAtMarket) na abertura de amanha\n",
      "2021-05-31: || MMMA 9p = R$ 26.24 || Close = R$ 26.87 || Posição crossover = 0 || Hoje não operei\n",
      "2021-06-01: || MMMA 9p = R$ 26.36 || Close = R$ 27.29 || Posição crossover = 0 || Hoje não operei\n",
      "2021-06-02: || MMMA 9p = R$ 26.58 || Close = R$ 27.87 || Posição crossover = 0 || Hoje não operei\n",
      "2021-06-04: || MMMA 9p = R$ 26.86 || Close = R$ 28.50 || Posição crossover = 0 || Hoje não operei\n",
      "2021-06-07: || MMMA 9p = R$ 27.07 || Close = R$ 28.29 || Posição crossover = 0 || Hoje não operei\n",
      "2021-06-08: || MMMA 9p = R$ 27.39 || Close = R$ 28.66 || Posição crossover = 0 || Hoje não operei\n",
      "2021-06-09: || MMMA 9p = R$ 27.67 || Close = R$ 28.66 || Posição crossover = 0 || Hoje não operei\n",
      "2021-06-10: || MMMA 9p = R$ 27.98 || Close = R$ 28.68 || Posição crossover = 0 || Hoje não operei\n",
      "2021-06-11: || MMMA 9p = R$ 28.15 || Close = R$ 28.57 || Posição crossover = 0 || Hoje não operei\n",
      "2021-06-14: || MMMA 9p = R$ 28.36 || Close = R$ 28.75 || Posição crossover = 0 || Hoje não operei\n",
      "2021-06-15: || MMMA 9p = R$ 28.56 || Close = R$ 29.03 || Posição crossover = 0 || Hoje não operei\n",
      "2021-06-16: || MMMA 9p = R$ 28.70 || Close = R$ 29.14 || Posição crossover = 0 || Hoje não operei\n",
      "2021-06-17: || MMMA 9p = R$ 28.66 || Close = R$ 28.13 || Posição crossover = -1 || Hoje, o ativo fechou ABAIXO da MMA, assim, vender a mercado (SellAtMarket) na abertura de amanha\n",
      "2021-06-18: || MMMA 9p = R$ 28.66 || Close = R$ 28.32 || Posição crossover = 0 || Hoje não operei\n",
      "2021-06-21: || MMMA 9p = R$ 28.69 || Close = R$ 28.95 || Posição crossover = 1 || Hoje, o ativo fechou ACIMA da MMA, assim, comprar a mercado (BuyAtMarket) na abertura de amanha\n",
      "2021-06-22: || MMMA 9p = R$ 28.74 || Close = R$ 29.10 || Posição crossover = 0 || Hoje não operei\n",
      "2021-06-23: || MMMA 9p = R$ 28.81 || Close = R$ 29.30 || Posição crossover = 0 || Hoje não operei\n",
      "2021-06-24: || MMMA 9p = R$ 28.93 || Close = R$ 29.65 || Posição crossover = 0 || Hoje não operei\n",
      "2021-06-25: || MMMA 9p = R$ 28.97 || Close = R$ 29.10 || Posição crossover = 0 || Hoje não operei\n",
      "2021-06-28: || MMMA 9p = R$ 28.97 || Close = R$ 29.05 || Posição crossover = 0 || Hoje não operei\n",
      "2021-06-29: || MMMA 9p = R$ 28.98 || Close = R$ 29.18 || Posição crossover = 0 || Hoje não operei\n",
      "Valor final da carteira: 9322.67\n"
     ]
    }
   ],
   "source": [
    "cerebro = bt.Cerebro()\n",
    "cerebro.adddata(data)\n",
    "cerebro.addstrategy(Cruzamento_Preco_MMA)\n",
    "\n",
    "## Estabelecer parâmetros do broker\n",
    "cerebro.broker.setcash(10000)\n",
    "cerebro.addsizer(bt.sizers.SizerFix, stake=100)\n",
    "\n",
    "'''\n",
    "Taxas:\n",
    "MARGIN (default None)= cash necessário para operações envolvendo mercado futuro\n",
    "COMISSION (default 0.0): \n",
    "Se MARGIN = FALSE: *commission* representa uma porcentagem do volume financeiro de negociação (price * size) (ex., emolumentos de ações e taxas de liquidação)\n",
    "Se MARGIN = qq valor ou None: *commission* é fixa por contrato (ex. corretagem). Lembrar q é compra/venda em cada operação fechada) \n",
    "MULT (default 1)= Fator de multiplicação aos lucros e perdas envolvendo mercados futuros (alavancagem)\n",
    "'''\n",
    "cerebro.broker.setcommission(commission=0.00025,margin=False,mult=1)\n",
    "\n",
    "print('Valor inicial da carteira: %.2f' % cerebro.broker.getvalue())\n",
    "cerebro.run()\n",
    "print('Valor final da carteira: %.2f' % cerebro.broker.getvalue())"
   ]
  },
  {
   "cell_type": "code",
   "execution_count": null,
   "metadata": {
    "id": "AV6iV-cfeQin"
   },
   "outputs": [],
   "source": [
    "class Tres_Corvos_Pretos(bt.Strategy):\n",
    "\n",
    "    def __init__(self):\n",
    "      self.dataclose = self.datas[0].close\n",
    "      \n",
    "    def log(self, txt, dt=None):\n",
    "      dt = self.datas[0].datetime.date(0)\n",
    "      print('%s, %s' % (dt.isoformat(), txt))\n",
    "\n",
    "    def next(self):\n",
    "      self.log('Close, %.2f' % (self.dataclose[0]))\n",
    "        \n",
    "      if self.dataclose[0] < self.dataclose[-1]:\n",
    "        if self.dataclose[-1] < self.dataclose[-2]:\n",
    "          self.buy()\n",
    "          self.log('Hoje, vc observou um Three Black Crow, assim, fara uma compra do tipo \"BuyAtMarket\", nesse caso, na abertura do pregão de amanha')\n"
   ]
  },
  {
   "cell_type": "code",
   "execution_count": null,
   "metadata": {
    "id": "koDJZjFYeQH0"
   },
   "outputs": [],
   "source": [
    "class TestStrategy(bt.Strategy):\n",
    "\n",
    "    def log(self, txt, dt=None):\n",
    "        dt = self.datas[0].datetime.date(0)\n",
    "        print('%s, %s' % (dt.isoformat(), txt))\n",
    "\n",
    "    def __init__(self):\n",
    "        self.dataclose = self.datas[0].close\n",
    "\n",
    "        # Acompanhar as ordens pendentes\n",
    "        self.order = None\n",
    "\n",
    "    def notify_order(self, order):\n",
    "        if order.status in [order.Submitted, order.Accepted]:\n",
    "            # Buy/Sell order submitted/accepted to/by broker - Nothing to do\n",
    "            return\n",
    "\n",
    "        # Check if an order has been completed\n",
    "        # Attention: broker could reject order if not enough cash\n",
    "        if order.status in [order.Completed]:\n",
    "            if order.isbuy():\n",
    "                self.log('BUY EXECUTED, %.2f' % order.executed.price)\n",
    "            elif order.issell():\n",
    "                self.log('SELL EXECUTED, %.2f' % order.executed.price)\n",
    "\n",
    "            self.bar_executed = len(self)\n",
    "\n",
    "        elif order.status in [order.Canceled, order.Margin, order.Rejected]:\n",
    "            self.log('Order Canceled/Margin/Rejected')\n",
    "\n",
    "        # Write down: no pending order\n",
    "        self.order = None\n",
    "\n",
    "    def next(self):\n",
    "        \n",
    "        #Registrar o valor de fechamento\n",
    "        self.log('Close, %.2f' % self.dataclose[0])\n",
    "\n",
    "        # Checar se alguma ordem está pendente. Se sim, não é possível enviar uma segunda ordem\n",
    "        if self.order:\n",
    "            return\n",
    "\n",
    "        # Checar se estamos posicionados no ativo\n",
    "        if not self.position:\n",
    "\n",
    "            # Not yet ... we MIGHT BUY if ...\n",
    "            if self.dataclose[0] < self.dataclose[-1]:\n",
    "                    # current close less than previous close\n",
    "\n",
    "                    if self.dataclose[-1] < self.dataclose[-2]:\n",
    "                        # previous close less than the previous close\n",
    "\n",
    "                        # BUY, BUY, BUY!!! (with default parameters)\n",
    "                        self.log('BUY CREATE, %.2f' % self.dataclose[0])\n",
    "\n",
    "                        # Keep track of the created order to avoid a 2nd order\n",
    "                        self.order = self.buy()\n",
    "\n",
    "        else:\n",
    "\n",
    "            # Already in the market ... we might sell\n",
    "            if len(self) >= (self.bar_executed + 5):\n",
    "                # SELL, SELL, SELL!!! (with all possible default parameters)\n",
    "                self.log('SELL CREATE, %.2f' % self.dataclose[0])\n",
    "\n",
    "                # Keep track of the created order to avoid a 2nd order\n",
    "                self.order = self.sell()"
   ]
  },
  {
   "cell_type": "code",
   "execution_count": null,
   "metadata": {
    "colab": {
     "base_uri": "https://localhost:8080/"
    },
    "id": "wa8-PYdJeP99",
    "outputId": "f49df358-752e-4656-c8c3-c7348996dbe8"
   },
   "outputs": [
    {
     "name": "stdout",
     "output_type": "stream",
     "text": [
      "Valor inicial da carteira: 10000.00\n",
      "2021-01-05, Close, 30.04\n",
      "2021-01-06, Close, 30.10\n",
      "2021-01-07, Close, 31.00\n",
      "2021-01-08, Close, 31.12\n",
      "2021-01-11, Close, 30.86\n",
      "2021-01-12, Close, 30.63\n",
      "2021-01-12, BUY CREATE, 30.63\n",
      "2021-01-13, BUY EXECUTED, 30.68\n",
      "2021-01-13, Close, 29.15\n",
      "2021-01-14, Close, 29.45\n",
      "2021-01-15, Close, 28.12\n",
      "2021-01-18, Close, 28.07\n",
      "2021-01-19, Close, 28.69\n",
      "2021-01-20, Close, 28.21\n",
      "2021-01-20, SELL CREATE, 28.21\n",
      "2021-01-21, SELL EXECUTED, 28.02\n",
      "2021-01-21, Close, 27.55\n",
      "2021-01-21, BUY CREATE, 27.55\n",
      "2021-01-22, BUY EXECUTED, 26.93\n",
      "2021-01-22, Close, 27.09\n",
      "2021-01-26, Close, 27.00\n",
      "2021-01-27, Close, 27.40\n",
      "2021-01-28, Close, 27.76\n",
      "2021-01-29, Close, 26.69\n",
      "2021-02-01, Close, 27.53\n",
      "2021-02-01, SELL CREATE, 27.53\n",
      "2021-02-02, SELL EXECUTED, 28.40\n",
      "2021-02-02, Close, 28.66\n",
      "2021-02-03, Close, 28.94\n",
      "2021-02-04, Close, 28.82\n",
      "2021-02-05, Close, 28.84\n",
      "2021-02-08, Close, 28.11\n",
      "2021-02-09, Close, 27.54\n",
      "2021-02-09, BUY CREATE, 27.54\n",
      "2021-02-10, BUY EXECUTED, 27.74\n",
      "2021-02-10, Close, 27.80\n",
      "2021-02-11, Close, 28.08\n",
      "2021-02-12, Close, 28.44\n",
      "2021-02-17, Close, 29.59\n",
      "2021-02-18, Close, 29.27\n",
      "2021-02-19, Close, 27.33\n",
      "2021-02-19, SELL CREATE, 27.33\n",
      "2021-02-22, SELL EXECUTED, 22.80\n",
      "2021-02-22, Close, 21.67\n",
      "2021-02-22, BUY CREATE, 21.67\n",
      "2021-02-23, BUY EXECUTED, 23.05\n",
      "2021-02-23, Close, 24.06\n",
      "2021-02-24, Close, 24.40\n",
      "2021-02-25, Close, 23.19\n",
      "2021-02-26, Close, 22.24\n",
      "2021-03-01, Close, 22.00\n",
      "2021-03-02, Close, 21.99\n",
      "2021-03-02, SELL CREATE, 21.99\n",
      "2021-03-03, SELL EXECUTED, 21.80\n",
      "2021-03-03, Close, 21.19\n",
      "2021-03-03, BUY CREATE, 21.19\n",
      "2021-03-04, BUY EXECUTED, 21.30\n",
      "2021-03-04, Close, 22.22\n",
      "2021-03-05, Close, 22.39\n",
      "2021-03-08, Close, 21.10\n",
      "2021-03-09, Close, 21.59\n",
      "2021-03-10, Close, 22.34\n",
      "2021-03-11, Close, 23.29\n",
      "2021-03-11, SELL CREATE, 23.29\n",
      "2021-03-12, SELL EXECUTED, 23.15\n",
      "2021-03-12, Close, 23.17\n",
      "2021-03-15, Close, 23.65\n",
      "2021-03-16, Close, 23.28\n",
      "2021-03-17, Close, 24.08\n",
      "2021-03-18, Close, 23.24\n",
      "2021-03-19, Close, 24.00\n",
      "2021-03-22, Close, 23.52\n",
      "2021-03-23, Close, 22.80\n",
      "2021-03-23, BUY CREATE, 22.80\n",
      "2021-03-24, BUY EXECUTED, 23.19\n",
      "2021-03-24, Close, 22.82\n",
      "2021-03-25, Close, 23.20\n",
      "2021-03-26, Close, 23.46\n",
      "2021-03-29, Close, 23.83\n",
      "2021-03-30, Close, 23.83\n",
      "2021-03-31, Close, 24.10\n",
      "2021-03-31, SELL CREATE, 24.10\n",
      "2021-04-01, SELL EXECUTED, 24.29\n",
      "2021-04-01, Close, 23.89\n",
      "2021-04-05, Close, 24.04\n",
      "2021-04-06, Close, 24.02\n",
      "2021-04-07, Close, 24.00\n",
      "2021-04-07, BUY CREATE, 24.00\n",
      "2021-04-08, BUY EXECUTED, 23.98\n",
      "2021-04-08, Close, 23.70\n",
      "2021-04-09, Close, 23.65\n",
      "2021-04-12, Close, 23.89\n",
      "2021-04-13, Close, 23.97\n",
      "2021-04-14, Close, 24.35\n",
      "2021-04-15, Close, 23.09\n",
      "2021-04-15, SELL CREATE, 23.09\n",
      "2021-04-16, SELL EXECUTED, 23.13\n",
      "2021-04-16, Close, 22.95\n",
      "2021-04-16, BUY CREATE, 22.95\n",
      "2021-04-19, BUY EXECUTED, 22.95\n",
      "2021-04-19, Close, 24.28\n",
      "2021-04-20, Close, 23.82\n",
      "2021-04-22, Close, 23.71\n",
      "2021-04-23, Close, 23.69\n",
      "2021-04-26, Close, 23.78\n",
      "2021-04-27, Close, 23.10\n",
      "2021-04-27, SELL CREATE, 23.10\n",
      "2021-04-28, SELL EXECUTED, 23.40\n",
      "2021-04-28, Close, 23.94\n",
      "2021-04-29, Close, 23.62\n",
      "2021-04-30, Close, 23.62\n",
      "2021-05-03, Close, 23.43\n",
      "2021-05-04, Close, 22.89\n",
      "2021-05-04, BUY CREATE, 22.89\n",
      "2021-05-05, BUY EXECUTED, 23.17\n",
      "2021-05-05, Close, 23.83\n",
      "2021-05-06, Close, 23.50\n",
      "2021-05-07, Close, 24.38\n",
      "2021-05-10, Close, 24.70\n",
      "2021-05-11, Close, 25.15\n",
      "2021-05-12, Close, 24.78\n",
      "2021-05-12, SELL CREATE, 24.78\n",
      "2021-05-13, SELL EXECUTED, 24.76\n",
      "2021-05-13, Close, 24.99\n",
      "2021-05-14, Close, 26.30\n",
      "2021-05-17, Close, 26.66\n",
      "2021-05-18, Close, 26.35\n",
      "2021-05-19, Close, 26.15\n",
      "2021-05-19, BUY CREATE, 26.15\n",
      "2021-05-20, BUY EXECUTED, 26.15\n",
      "2021-05-20, Close, 25.93\n",
      "2021-05-21, Close, 25.95\n",
      "2021-05-24, Close, 26.39\n",
      "2021-05-25, Close, 25.84\n",
      "2021-05-26, Close, 26.09\n",
      "2021-05-27, Close, 25.91\n",
      "2021-05-27, SELL CREATE, 25.91\n",
      "2021-05-28, SELL EXECUTED, 26.20\n",
      "2021-05-28, Close, 26.99\n",
      "2021-05-31, Close, 26.87\n",
      "2021-06-01, Close, 27.29\n",
      "2021-06-02, Close, 27.87\n",
      "2021-06-04, Close, 28.50\n",
      "2021-06-07, Close, 28.29\n",
      "2021-06-08, Close, 28.66\n",
      "2021-06-09, Close, 28.66\n",
      "2021-06-10, Close, 28.68\n",
      "2021-06-11, Close, 28.57\n",
      "2021-06-14, Close, 28.75\n",
      "2021-06-15, Close, 29.03\n",
      "2021-06-16, Close, 29.14\n",
      "2021-06-17, Close, 28.13\n",
      "2021-06-18, Close, 28.32\n",
      "2021-06-21, Close, 28.95\n",
      "2021-06-22, Close, 29.10\n",
      "2021-06-23, Close, 29.30\n",
      "2021-06-24, Close, 29.65\n",
      "2021-06-25, Close, 29.10\n",
      "2021-06-28, Close, 29.05\n",
      "2021-06-28, BUY CREATE, 29.05\n",
      "2021-06-29, BUY EXECUTED, 29.09\n",
      "2021-06-29, Close, 29.18\n",
      "Valor final da carteira: 9690.00\n"
     ]
    }
   ],
   "source": [
    "cerebro = bt.Cerebro()\n",
    "cerebro.adddata(data)\n",
    "cerebro.addstrategy(TestStrategy)\n",
    "cerebro.broker.setcash(10000)\n",
    "cerebro.addsizer(bt.sizers.SizerFix, stake=100)\n",
    "\n",
    "print('Valor inicial da carteira: %.2f' % cerebro.broker.getvalue())\n",
    "cerebro.run()\n",
    "print('Valor final da carteira: %.2f' % cerebro.broker.getvalue())"
   ]
  },
  {
   "cell_type": "code",
   "execution_count": null,
   "metadata": {
    "colab": {
     "base_uri": "https://localhost:8080/",
     "height": 707
    },
    "id": "rzxma-roYQim",
    "outputId": "a9822428-7ffe-4e17-f0e2-9590fda411cb"
   },
   "outputs": [
    {
     "data": {
      "text/html": [
       "\n",
       "  <div id=\"df-9170d675-79f0-4964-bea5-1f830ce72f16\">\n",
       "    <div class=\"colab-df-container\">\n",
       "      <div>\n",
       "<style scoped>\n",
       "    .dataframe tbody tr th:only-of-type {\n",
       "        vertical-align: middle;\n",
       "    }\n",
       "\n",
       "    .dataframe tbody tr th {\n",
       "        vertical-align: top;\n",
       "    }\n",
       "\n",
       "    .dataframe thead th {\n",
       "        text-align: right;\n",
       "    }\n",
       "</style>\n",
       "<table border=\"1\" class=\"dataframe\">\n",
       "  <thead>\n",
       "    <tr style=\"text-align: right;\">\n",
       "      <th></th>\n",
       "      <th>Open</th>\n",
       "      <th>High</th>\n",
       "      <th>Low</th>\n",
       "      <th>Close</th>\n",
       "      <th>Adj Close</th>\n",
       "      <th>Volume</th>\n",
       "      <th>MMA9p</th>\n",
       "      <th>Cl&gt;MMA9</th>\n",
       "    </tr>\n",
       "    <tr>\n",
       "      <th>Date</th>\n",
       "      <th></th>\n",
       "      <th></th>\n",
       "      <th></th>\n",
       "      <th></th>\n",
       "      <th></th>\n",
       "      <th></th>\n",
       "      <th></th>\n",
       "      <th></th>\n",
       "    </tr>\n",
       "  </thead>\n",
       "  <tbody>\n",
       "    <tr>\n",
       "      <th>2021-01-05</th>\n",
       "      <td>28.900000</td>\n",
       "      <td>30.180000</td>\n",
       "      <td>28.240000</td>\n",
       "      <td>30.040001</td>\n",
       "      <td>24.416273</td>\n",
       "      <td>95181100</td>\n",
       "      <td>NaN</td>\n",
       "      <td>False</td>\n",
       "    </tr>\n",
       "    <tr>\n",
       "      <th>2021-01-06</th>\n",
       "      <td>30.160000</td>\n",
       "      <td>30.900000</td>\n",
       "      <td>30.049999</td>\n",
       "      <td>30.100000</td>\n",
       "      <td>24.465040</td>\n",
       "      <td>96562500</td>\n",
       "      <td>NaN</td>\n",
       "      <td>False</td>\n",
       "    </tr>\n",
       "    <tr>\n",
       "      <th>2021-01-07</th>\n",
       "      <td>30.340000</td>\n",
       "      <td>31.150000</td>\n",
       "      <td>30.340000</td>\n",
       "      <td>31.000000</td>\n",
       "      <td>25.196552</td>\n",
       "      <td>56171300</td>\n",
       "      <td>NaN</td>\n",
       "      <td>False</td>\n",
       "    </tr>\n",
       "    <tr>\n",
       "      <th>2021-01-08</th>\n",
       "      <td>31.459999</td>\n",
       "      <td>31.760000</td>\n",
       "      <td>30.350000</td>\n",
       "      <td>31.120001</td>\n",
       "      <td>25.294088</td>\n",
       "      <td>67136300</td>\n",
       "      <td>NaN</td>\n",
       "      <td>False</td>\n",
       "    </tr>\n",
       "    <tr>\n",
       "      <th>2021-01-11</th>\n",
       "      <td>30.610001</td>\n",
       "      <td>31.059999</td>\n",
       "      <td>30.400000</td>\n",
       "      <td>30.860001</td>\n",
       "      <td>25.082762</td>\n",
       "      <td>48744700</td>\n",
       "      <td>NaN</td>\n",
       "      <td>False</td>\n",
       "    </tr>\n",
       "    <tr>\n",
       "      <th>2021-01-12</th>\n",
       "      <td>31.120001</td>\n",
       "      <td>31.559999</td>\n",
       "      <td>30.629999</td>\n",
       "      <td>30.629999</td>\n",
       "      <td>24.895821</td>\n",
       "      <td>65691900</td>\n",
       "      <td>NaN</td>\n",
       "      <td>False</td>\n",
       "    </tr>\n",
       "    <tr>\n",
       "      <th>2021-01-13</th>\n",
       "      <td>30.680000</td>\n",
       "      <td>30.860001</td>\n",
       "      <td>29.000000</td>\n",
       "      <td>29.150000</td>\n",
       "      <td>23.692888</td>\n",
       "      <td>93826600</td>\n",
       "      <td>NaN</td>\n",
       "      <td>False</td>\n",
       "    </tr>\n",
       "    <tr>\n",
       "      <th>2021-01-14</th>\n",
       "      <td>29.170000</td>\n",
       "      <td>29.670000</td>\n",
       "      <td>28.719999</td>\n",
       "      <td>29.450001</td>\n",
       "      <td>23.936726</td>\n",
       "      <td>50745400</td>\n",
       "      <td>NaN</td>\n",
       "      <td>False</td>\n",
       "    </tr>\n",
       "    <tr>\n",
       "      <th>2021-01-15</th>\n",
       "      <td>29.049999</td>\n",
       "      <td>29.080000</td>\n",
       "      <td>28.030001</td>\n",
       "      <td>28.120001</td>\n",
       "      <td>22.855711</td>\n",
       "      <td>80673300</td>\n",
       "      <td>30.052223</td>\n",
       "      <td>False</td>\n",
       "    </tr>\n",
       "    <tr>\n",
       "      <th>2021-01-18</th>\n",
       "      <td>28.309999</td>\n",
       "      <td>28.850000</td>\n",
       "      <td>28.010000</td>\n",
       "      <td>28.070000</td>\n",
       "      <td>22.815071</td>\n",
       "      <td>68855700</td>\n",
       "      <td>29.833334</td>\n",
       "      <td>False</td>\n",
       "    </tr>\n",
       "    <tr>\n",
       "      <th>2021-01-19</th>\n",
       "      <td>28.480000</td>\n",
       "      <td>28.860001</td>\n",
       "      <td>27.639999</td>\n",
       "      <td>28.690001</td>\n",
       "      <td>23.319004</td>\n",
       "      <td>61656000</td>\n",
       "      <td>29.676667</td>\n",
       "      <td>False</td>\n",
       "    </tr>\n",
       "    <tr>\n",
       "      <th>2021-01-20</th>\n",
       "      <td>28.950001</td>\n",
       "      <td>29.120001</td>\n",
       "      <td>28.110001</td>\n",
       "      <td>28.209999</td>\n",
       "      <td>22.928862</td>\n",
       "      <td>60306200</td>\n",
       "      <td>29.366667</td>\n",
       "      <td>False</td>\n",
       "    </tr>\n",
       "    <tr>\n",
       "      <th>2021-01-21</th>\n",
       "      <td>28.020000</td>\n",
       "      <td>28.400000</td>\n",
       "      <td>27.510000</td>\n",
       "      <td>27.549999</td>\n",
       "      <td>22.392420</td>\n",
       "      <td>41284900</td>\n",
       "      <td>28.970000</td>\n",
       "      <td>False</td>\n",
       "    </tr>\n",
       "    <tr>\n",
       "      <th>2021-01-22</th>\n",
       "      <td>26.930000</td>\n",
       "      <td>27.240000</td>\n",
       "      <td>26.559999</td>\n",
       "      <td>27.090000</td>\n",
       "      <td>22.018536</td>\n",
       "      <td>51181900</td>\n",
       "      <td>28.551111</td>\n",
       "      <td>False</td>\n",
       "    </tr>\n",
       "    <tr>\n",
       "      <th>2021-01-26</th>\n",
       "      <td>27.250000</td>\n",
       "      <td>27.969999</td>\n",
       "      <td>26.820000</td>\n",
       "      <td>27.000000</td>\n",
       "      <td>21.945385</td>\n",
       "      <td>64514600</td>\n",
       "      <td>28.147778</td>\n",
       "      <td>False</td>\n",
       "    </tr>\n",
       "    <tr>\n",
       "      <th>2021-01-27</th>\n",
       "      <td>26.809999</td>\n",
       "      <td>28.170000</td>\n",
       "      <td>26.530001</td>\n",
       "      <td>27.400000</td>\n",
       "      <td>22.270500</td>\n",
       "      <td>68337800</td>\n",
       "      <td>27.953333</td>\n",
       "      <td>False</td>\n",
       "    </tr>\n",
       "    <tr>\n",
       "      <th>2021-01-28</th>\n",
       "      <td>27.320000</td>\n",
       "      <td>28.450001</td>\n",
       "      <td>27.309999</td>\n",
       "      <td>27.760000</td>\n",
       "      <td>22.563107</td>\n",
       "      <td>67827000</td>\n",
       "      <td>27.765555</td>\n",
       "      <td>False</td>\n",
       "    </tr>\n",
       "    <tr>\n",
       "      <th>2021-01-29</th>\n",
       "      <td>27.520000</td>\n",
       "      <td>27.680000</td>\n",
       "      <td>26.690001</td>\n",
       "      <td>26.690001</td>\n",
       "      <td>21.693419</td>\n",
       "      <td>67555300</td>\n",
       "      <td>27.606667</td>\n",
       "      <td>False</td>\n",
       "    </tr>\n",
       "    <tr>\n",
       "      <th>2021-02-01</th>\n",
       "      <td>27.260000</td>\n",
       "      <td>27.680000</td>\n",
       "      <td>26.830000</td>\n",
       "      <td>27.530001</td>\n",
       "      <td>22.376165</td>\n",
       "      <td>44449500</td>\n",
       "      <td>27.546667</td>\n",
       "      <td>False</td>\n",
       "    </tr>\n",
       "    <tr>\n",
       "      <th>2021-02-02</th>\n",
       "      <td>28.400000</td>\n",
       "      <td>29.139999</td>\n",
       "      <td>28.200001</td>\n",
       "      <td>28.660000</td>\n",
       "      <td>23.294619</td>\n",
       "      <td>91663000</td>\n",
       "      <td>27.543333</td>\n",
       "      <td>True</td>\n",
       "    </tr>\n",
       "  </tbody>\n",
       "</table>\n",
       "</div>\n",
       "      <button class=\"colab-df-convert\" onclick=\"convertToInteractive('df-9170d675-79f0-4964-bea5-1f830ce72f16')\"\n",
       "              title=\"Convert this dataframe to an interactive table.\"\n",
       "              style=\"display:none;\">\n",
       "        \n",
       "  <svg xmlns=\"http://www.w3.org/2000/svg\" height=\"24px\"viewBox=\"0 0 24 24\"\n",
       "       width=\"24px\">\n",
       "    <path d=\"M0 0h24v24H0V0z\" fill=\"none\"/>\n",
       "    <path d=\"M18.56 5.44l.94 2.06.94-2.06 2.06-.94-2.06-.94-.94-2.06-.94 2.06-2.06.94zm-11 1L8.5 8.5l.94-2.06 2.06-.94-2.06-.94L8.5 2.5l-.94 2.06-2.06.94zm10 10l.94 2.06.94-2.06 2.06-.94-2.06-.94-.94-2.06-.94 2.06-2.06.94z\"/><path d=\"M17.41 7.96l-1.37-1.37c-.4-.4-.92-.59-1.43-.59-.52 0-1.04.2-1.43.59L10.3 9.45l-7.72 7.72c-.78.78-.78 2.05 0 2.83L4 21.41c.39.39.9.59 1.41.59.51 0 1.02-.2 1.41-.59l7.78-7.78 2.81-2.81c.8-.78.8-2.07 0-2.86zM5.41 20L4 18.59l7.72-7.72 1.47 1.35L5.41 20z\"/>\n",
       "  </svg>\n",
       "      </button>\n",
       "      \n",
       "  <style>\n",
       "    .colab-df-container {\n",
       "      display:flex;\n",
       "      flex-wrap:wrap;\n",
       "      gap: 12px;\n",
       "    }\n",
       "\n",
       "    .colab-df-convert {\n",
       "      background-color: #E8F0FE;\n",
       "      border: none;\n",
       "      border-radius: 50%;\n",
       "      cursor: pointer;\n",
       "      display: none;\n",
       "      fill: #1967D2;\n",
       "      height: 32px;\n",
       "      padding: 0 0 0 0;\n",
       "      width: 32px;\n",
       "    }\n",
       "\n",
       "    .colab-df-convert:hover {\n",
       "      background-color: #E2EBFA;\n",
       "      box-shadow: 0px 1px 2px rgba(60, 64, 67, 0.3), 0px 1px 3px 1px rgba(60, 64, 67, 0.15);\n",
       "      fill: #174EA6;\n",
       "    }\n",
       "\n",
       "    [theme=dark] .colab-df-convert {\n",
       "      background-color: #3B4455;\n",
       "      fill: #D2E3FC;\n",
       "    }\n",
       "\n",
       "    [theme=dark] .colab-df-convert:hover {\n",
       "      background-color: #434B5C;\n",
       "      box-shadow: 0px 1px 3px 1px rgba(0, 0, 0, 0.15);\n",
       "      filter: drop-shadow(0px 1px 2px rgba(0, 0, 0, 0.3));\n",
       "      fill: #FFFFFF;\n",
       "    }\n",
       "  </style>\n",
       "\n",
       "      <script>\n",
       "        const buttonEl =\n",
       "          document.querySelector('#df-9170d675-79f0-4964-bea5-1f830ce72f16 button.colab-df-convert');\n",
       "        buttonEl.style.display =\n",
       "          google.colab.kernel.accessAllowed ? 'block' : 'none';\n",
       "\n",
       "        async function convertToInteractive(key) {\n",
       "          const element = document.querySelector('#df-9170d675-79f0-4964-bea5-1f830ce72f16');\n",
       "          const dataTable =\n",
       "            await google.colab.kernel.invokeFunction('convertToInteractive',\n",
       "                                                     [key], {});\n",
       "          if (!dataTable) return;\n",
       "\n",
       "          const docLinkHtml = 'Like what you see? Visit the ' +\n",
       "            '<a target=\"_blank\" href=https://colab.research.google.com/notebooks/data_table.ipynb>data table notebook</a>'\n",
       "            + ' to learn more about interactive tables.';\n",
       "          element.innerHTML = '';\n",
       "          dataTable['output_type'] = 'display_data';\n",
       "          await google.colab.output.renderOutput(dataTable, element);\n",
       "          const docLink = document.createElement('div');\n",
       "          docLink.innerHTML = docLinkHtml;\n",
       "          element.appendChild(docLink);\n",
       "        }\n",
       "      </script>\n",
       "    </div>\n",
       "  </div>\n",
       "  "
      ],
      "text/plain": [
       "                 Open       High        Low  ...    Volume      MMA9p  Cl>MMA9\n",
       "Date                                         ...                              \n",
       "2021-01-05  28.900000  30.180000  28.240000  ...  95181100        NaN    False\n",
       "2021-01-06  30.160000  30.900000  30.049999  ...  96562500        NaN    False\n",
       "2021-01-07  30.340000  31.150000  30.340000  ...  56171300        NaN    False\n",
       "2021-01-08  31.459999  31.760000  30.350000  ...  67136300        NaN    False\n",
       "2021-01-11  30.610001  31.059999  30.400000  ...  48744700        NaN    False\n",
       "2021-01-12  31.120001  31.559999  30.629999  ...  65691900        NaN    False\n",
       "2021-01-13  30.680000  30.860001  29.000000  ...  93826600        NaN    False\n",
       "2021-01-14  29.170000  29.670000  28.719999  ...  50745400        NaN    False\n",
       "2021-01-15  29.049999  29.080000  28.030001  ...  80673300  30.052223    False\n",
       "2021-01-18  28.309999  28.850000  28.010000  ...  68855700  29.833334    False\n",
       "2021-01-19  28.480000  28.860001  27.639999  ...  61656000  29.676667    False\n",
       "2021-01-20  28.950001  29.120001  28.110001  ...  60306200  29.366667    False\n",
       "2021-01-21  28.020000  28.400000  27.510000  ...  41284900  28.970000    False\n",
       "2021-01-22  26.930000  27.240000  26.559999  ...  51181900  28.551111    False\n",
       "2021-01-26  27.250000  27.969999  26.820000  ...  64514600  28.147778    False\n",
       "2021-01-27  26.809999  28.170000  26.530001  ...  68337800  27.953333    False\n",
       "2021-01-28  27.320000  28.450001  27.309999  ...  67827000  27.765555    False\n",
       "2021-01-29  27.520000  27.680000  26.690001  ...  67555300  27.606667    False\n",
       "2021-02-01  27.260000  27.680000  26.830000  ...  44449500  27.546667    False\n",
       "2021-02-02  28.400000  29.139999  28.200001  ...  91663000  27.543333     True\n",
       "\n",
       "[20 rows x 8 columns]"
      ]
     },
     "execution_count": 62,
     "metadata": {},
     "output_type": "execute_result"
    }
   ],
   "source": [
    "df_yf.head(20)"
   ]
  },
  {
   "cell_type": "code",
   "execution_count": null,
   "metadata": {
    "colab": {
     "base_uri": "https://localhost:8080/",
     "height": 858
    },
    "id": "0r61B2NieP0s",
    "outputId": "444c7415-b5b6-4e89-c684-2eb77eddce4b"
   },
   "outputs": [
    {
     "data": {
      "image/png": "[encoded data removed]",
      "text/plain": [
       "<Figure size 1080x864 with 4 Axes>"
      ]
     },
     "metadata": {
      "needs_background": "light"
     },
     "output_type": "display_data"
    },
    {
     "data": {
      "text/plain": [
       "[[<Figure size 1080x864 with 4 Axes>]]"
      ]
     },
     "execution_count": 63,
     "metadata": {},
     "output_type": "execute_result"
    }
   ],
   "source": [
    "plt.rcParams['figure.figsize'] = [15, 12]\n",
    "plt.rcParams.update({'font.size': 12})\n",
    "cerebro.plot(iplot = False)"
   ]
  },
  {
   "cell_type": "code",
   "execution_count": null,
   "metadata": {
    "id": "OMYp2siNePqx"
   },
   "outputs": [],
   "source": [
    "### COMISSÃO BROKER\n",
    "# 0.1% ... divide by 100 to remove the %\n",
    "cerebro.broker.setcommission(commission=0.001)"
   ]
  },
  {
   "cell_type": "code",
   "execution_count": null,
   "metadata": {
    "id": "43twtntfa1E3"
   },
   "outputs": [],
   "source": []
  },
  {
   "cell_type": "code",
   "execution_count": null,
   "metadata": {
    "id": "uHj6RlvEa1O_"
   },
   "outputs": [],
   "source": [
    "class TestStrategy(bt.Strategy):\n",
    "\n",
    "    def log(self, txt, dt=None):\n",
    "        ''' Logging function fot this strategy'''\n",
    "        dt = dt or self.datas[0].datetime.date(0)\n",
    "        print('%s, %s' % (dt.isoformat(), txt))\n",
    "\n",
    "    def __init__(self):\n",
    "        # Keep a reference to the \"close\" line in the data[0] dataseries\n",
    "        self.dataclose = self.datas[0].close\n",
    "\n",
    "        # To keep track of pending orders and buy price/commission\n",
    "        self.order = None\n",
    "        self.buyprice = None\n",
    "        self.buycomm = None\n",
    "\n",
    "    def notify_order(self, order):\n",
    "        if order.status in [order.Submitted, order.Accepted]:\n",
    "            # Buy/Sell order submitted/accepted to/by broker - Nothing to do\n",
    "            return\n",
    "\n",
    "        # Check if an order has been completed\n",
    "        # Attention: broker could reject order if not enough cash\n",
    "        if order.status in [order.Completed]:\n",
    "            if order.isbuy():\n",
    "                self.log(\n",
    "                    'BUY EXECUTED, Price: %.2f, Cost: %.2f, Comm %.2f' %\n",
    "                    (order.executed.price,\n",
    "                     order.executed.value,\n",
    "                     order.executed.comm))\n",
    "\n",
    "                self.buyprice = order.executed.price\n",
    "                self.buycomm = order.executed.comm\n",
    "            else:  # Sell\n",
    "                self.log('SELL EXECUTED, Price: %.2f, Cost: %.2f, Comm %.2f' %\n",
    "                         (order.executed.price,\n",
    "                          order.executed.value,\n",
    "                          order.executed.comm))\n",
    "\n",
    "            self.bar_executed = len(self)\n",
    "\n",
    "        elif order.status in [order.Canceled, order.Margin, order.Rejected]:\n",
    "            self.log('Order Canceled/Margin/Rejected')\n",
    "\n",
    "        self.order = None\n",
    "\n",
    "    def notify_trade(self, trade):\n",
    "        if not trade.isclosed:\n",
    "            return\n",
    "\n",
    "        self.log('OPERATION PROFIT, GROSS %.2f, NET %.2f' %\n",
    "                 (trade.pnl, trade.pnlcomm))\n",
    "\n",
    "    def next(self):\n",
    "        # Simply log the closing price of the series from the reference\n",
    "        self.log('Close, %.2f' % self.dataclose[0])\n",
    "\n",
    "        # Check if an order is pending ... if yes, we cannot send a 2nd one\n",
    "        if self.order:\n",
    "            return\n",
    "\n",
    "        # Check if we are in the market\n",
    "        if not self.position:\n",
    "\n",
    "            # Not yet ... we MIGHT BUY if ...\n",
    "            if self.dataclose[0] < self.dataclose[-1]:\n",
    "                    # current close less than previous close\n",
    "\n",
    "                    if self.dataclose[-1] < self.dataclose[-2]:\n",
    "                        # previous close less than the previous close\n",
    "\n",
    "                        # BUY, BUY, BUY!!! (with default parameters)\n",
    "                        self.log('BUY CREATE, %.2f' % self.dataclose[0])\n",
    "\n",
    "                        # Keep track of the created order to avoid a 2nd order\n",
    "                        self.order = self.buy()\n",
    "\n",
    "        else:\n",
    "\n",
    "            # Already in the market ... we might sell\n",
    "            if len(self) >= (self.bar_executed + 5):\n",
    "                # SELL, SELL, SELL!!! (with all possible default parameters)\n",
    "                self.log('SELL CREATE, %.2f' % self.dataclose[0])\n",
    "\n",
    "                # Keep track of the created order to avoid a 2nd order\n",
    "                self.order = self.sell()"
   ]
  },
  {
   "cell_type": "code",
   "execution_count": null,
   "metadata": {
    "id": "90t3rCC4a2al"
   },
   "outputs": [],
   "source": []
  },
  {
   "cell_type": "code",
   "execution_count": null,
   "metadata": {
    "colab": {
     "base_uri": "https://localhost:8080/",
     "height": 131
    },
    "id": "Afr6R820a2ol",
    "outputId": "71a202fe-775e-472c-a362-f0d1da136a82"
   },
   "outputs": [
    {
     "ename": "SyntaxError",
     "evalue": "ignored",
     "output_type": "error",
     "traceback": [
      "\u001b[0;36m  File \u001b[0;32m\"<ipython-input-66-9504e9345743>\"\u001b[0;36m, line \u001b[0;32m3\u001b[0m\n\u001b[0;31m    Before moving on, let’s notice something by filtering the “OPERATION PROFIT” lines:\u001b[0m\n\u001b[0m                ^\u001b[0m\n\u001b[0;31mSyntaxError\u001b[0m\u001b[0;31m:\u001b[0m invalid syntax\n"
     ]
    }
   ],
   "source": [
    "## God Save the Queen!!! The system still made money.\n",
    "\n",
    "Before moving on, let’s notice something by filtering the “OPERATION PROFIT” lines:"
   ]
  },
  {
   "cell_type": "code",
   "execution_count": null,
   "metadata": {
    "id": "iyOqVMt8bFl-"
   },
   "outputs": [],
   "source": [
    "Adding up the “NET” profits the final figure is:\n",
    "\n",
    "\n",
    "15.83\n",
    "But the system said the following at the end:\n",
    "\n",
    "\n",
    "2000-12-29T00:00:00, SELL CREATE, 27.41\n",
    "Final Portfolio Value: 100016.98\n",
    "And obviously 15.83 is not 16.98. There is no error whatsoever. The “NET” profit of 15.83 is already cash in the bag."
   ]
  },
  {
   "cell_type": "code",
   "execution_count": null,
   "metadata": {
    "id": "6bS5jhA1bFxV"
   },
   "outputs": [],
   "source": []
  },
  {
   "cell_type": "markdown",
   "metadata": {
    "id": "pOsfvXhvQJ7k"
   },
   "source": [
    "## 3.6. Estrutura de acesso aos dados no Backtrader (valores de cotações, indicadores e estratégias)\n",
    "\n",
    "#### *PS: Esta parte poderá auxiliar quando estiver configurando estratégias mais complexas, que envolvam seus próprios indicadores*"
   ]
  },
  {
   "cell_type": "markdown",
   "metadata": {
    "id": "8kuOJZ1BIGED"
   },
   "source": [
    "A estrutura do Data Feeds é diferente de um dataframe pandas"
   ]
  },
  {
   "cell_type": "code",
   "execution_count": null,
   "metadata": {
    "id": "xbhleWfs8a2b"
   },
   "outputs": [],
   "source": [
    "## Se rodarmos o output da erro\n",
    "# data.head()"
   ]
  },
  {
   "cell_type": "markdown",
   "metadata": {
    "id": "Vp1tqJFb82_z"
   },
   "source": [
    "Trecho importante da documentação Backtrader [*adaptado para ser mais abrangente e aplicado ao mercado financeiro*]:\n",
    "\n",
    "* 1) Estrutura de '*Lines' <p>\n",
    "    \"<u>**Data Feeds, Indicators e Strategies**</u>\" são compostos por linhas.\n",
    "    Uma linha é composta por 'pontos'. Em analogia a um dataframe Pandas, as linhas de um Data Feeds seriam as colunas de um df Pandas. Os 'pontos' Data Feeds seriam as células (e os 'valores' dentro delas). Ex.: datasets de cotações de ativos usualmente irão conter as linhas OHLC, cada uma por com seu respectivo número de pontos de acordo com a amplitude temporal acessada. No caso dos dados importados do YF, o Data Feed terá as linhas:\n",
    "$$ Open, High, Low, Close, Volume, OpenInterest $$ <p>\n",
    "\n",
    "    Se considerarmos ainda o 'DateTime', cada cotação de um determinado período (ex., timeframe diário) seria composto por 7 linhas.\n",
    "\n",
    "\n",
    "* 2) 'Indexação por 0'<p>\n",
    "    Acesso aos dados usa a mesma abordagem de indexação do python (Index 0) <p>\n",
    "    Cada linha (ex., Close, que é a linha padrão, indice 0) representa uma série de dados temporais. Por sua vez, cada valor também é acessado com indexação, sendo que o 'valor atual' é indicado por [0]. Ex., para acessar o preço de fechamento '<u>naquele momento de execução da estratégia, lembrando que o dataset é acessado linha após linha durante o backtest</u>': data.linha0[0]. Para referência ao 'valor anterior', [-1].\n",
    "\n",
    "  **Nas linhas de código abaixo há uma série de exemplos para entender a estrutura de linhas e indexação dos objetos no Backtrader**"
   ]
  },
  {
   "cell_type": "code",
   "execution_count": null,
   "metadata": {
    "id": "7erKAJNb8Ubz"
   },
   "outputs": [],
   "source": [
    "df_yf.tail()"
   ]
  },
  {
   "cell_type": "code",
   "execution_count": null,
   "metadata": {
    "id": "6VRtqBfw9Jo0"
   },
   "outputs": [],
   "source": [
    "data.datafields"
   ]
  },
  {
   "cell_type": "code",
   "execution_count": null,
   "metadata": {
    "id": "sA4puEi59sbC"
   },
   "outputs": [],
   "source": [
    "df_yf.iloc[-1]['Close']"
   ]
  },
  {
   "cell_type": "markdown",
   "metadata": {
    "id": "856ptNHK-HXw"
   },
   "source": [
    "Reforçando a estrutura diferente do Data Feeds. Obs.: Output dá erro"
   ]
  },
  {
   "cell_type": "code",
   "execution_count": null,
   "metadata": {
    "id": "5wFiFxIR8z4i"
   },
   "outputs": [],
   "source": [
    "print(data.iloc[-1]['Close'])"
   ]
  },
  {
   "cell_type": "code",
   "execution_count": null,
   "metadata": {
    "id": "znA9BU_RNgku"
   },
   "outputs": [],
   "source": [
    "data.Close"
   ]
  },
  {
   "cell_type": "code",
   "execution_count": null,
   "metadata": {
    "id": "2HLmDr-VJzug"
   },
   "outputs": [],
   "source": [
    "data.Open"
   ]
  },
  {
   "cell_type": "code",
   "execution_count": null,
   "metadata": {
    "id": "jVmyrFG4KDIo"
   },
   "outputs": [],
   "source": [
    "data.Low"
   ]
  },
  {
   "cell_type": "code",
   "execution_count": null,
   "metadata": {
    "id": "Iy1w_OGsJ6iQ"
   },
   "outputs": [],
   "source": [
    "data.High"
   ]
  },
  {
   "cell_type": "code",
   "execution_count": null,
   "metadata": {
    "id": "uwLad3D5J_DJ"
   },
   "outputs": [],
   "source": [
    "data.Volume"
   ]
  },
  {
   "cell_type": "code",
   "execution_count": null,
   "metadata": {
    "id": "Z5c61z1cOG-b"
   },
   "outputs": [],
   "source": [
    "data.DateTime"
   ]
  },
  {
   "cell_type": "code",
   "execution_count": null,
   "metadata": {
    "id": "XRT4Y2xNOOgy"
   },
   "outputs": [],
   "source": [
    "data.OpenInterest"
   ]
  },
  {
   "cell_type": "code",
   "execution_count": null,
   "metadata": {
    "id": "smrH77GeLFjU"
   },
   "outputs": [],
   "source": [
    "data"
   ]
  },
  {
   "cell_type": "code",
   "execution_count": null,
   "metadata": {
    "id": "E7gmEZsILR4g"
   },
   "outputs": [],
   "source": [
    "data.line_0[0]"
   ]
  },
  {
   "cell_type": "code",
   "execution_count": null,
   "metadata": {
    "id": "__LPebMwLXYY"
   },
   "outputs": [],
   "source": [
    "data.array"
   ]
  },
  {
   "cell_type": "code",
   "execution_count": null,
   "metadata": {
    "id": "AEHB7-ARLplI"
   },
   "outputs": [],
   "source": [
    "data.line4[-2]"
   ]
  },
  {
   "cell_type": "code",
   "execution_count": null,
   "metadata": {
    "id": "KwxAtkn9LtDA"
   },
   "outputs": [],
   "source": [
    "data.line5[-2]"
   ]
  },
  {
   "cell_type": "code",
   "execution_count": null,
   "metadata": {
    "id": "d-FzvQ6YOlIi"
   },
   "outputs": [],
   "source": [
    "data.line6[0]"
   ]
  },
  {
   "cell_type": "code",
   "execution_count": null,
   "metadata": {
    "id": "gCC_wQlmNz6x"
   },
   "outputs": [],
   "source": [
    "pd.to_datetime(data.line6[0])"
   ]
  },
  {
   "cell_type": "code",
   "execution_count": null,
   "metadata": {
    "id": "LOKB4Ho7Ovr4"
   },
   "outputs": [],
   "source": [
    "data.line6[-1]"
   ]
  },
  {
   "cell_type": "code",
   "execution_count": null,
   "metadata": {
    "id": "q0qNABeHQ-xo"
   },
   "outputs": [],
   "source": [
    "segundos = int(data.line6[0])\n",
    "\n",
    "dias = segundos // (60*60*24)\n",
    "segundos_rest = segundos % (60*60*24)\n",
    "horas = segundos_rest // (60*60)\n",
    "segundos_rest = segundos_rest % (60*60)\n",
    "minutos = segundos_rest // 60\n",
    "segundos_rest = segundos_rest % 60\n",
    "\n",
    "print(dias,\"dias,\",horas,\"horas,\",minutos,\"minutos e\",segundos_rest,\"segundos\")"
   ]
  },
  {
   "cell_type": "code",
   "execution_count": null,
   "metadata": {
    "id": "C31eYU-WTnwg"
   },
   "outputs": [],
   "source": [
    "dias = int(data.line6[-1])\n",
    "\n",
    "anos = dias // 365\n",
    "dias_rest = dias % 365\n",
    "meses = dias_rest // 30\n",
    "dias_rest = dias_rest % 30\n",
    "\n",
    "print(anos,\"anos,\",meses,\"meses,\",dias_rest,\"dias\")"
   ]
  },
  {
   "cell_type": "markdown",
   "metadata": {
    "id": "iPiL8hgAVOOA"
   },
   "source": [
    "Ainda não consegui chegar na data correta. Bora pesquisar?"
   ]
  },
  {
   "cell_type": "code",
   "execution_count": null,
   "metadata": {
    "id": "ww6tWPCNKGNA"
   },
   "outputs": [],
   "source": []
  },
  {
   "cell_type": "code",
   "execution_count": null,
   "metadata": {
    "id": "yYUTCHnRTRoX"
   },
   "outputs": [],
   "source": [
    "len(data.array)"
   ]
  },
  {
   "cell_type": "code",
   "execution_count": null,
   "metadata": {
    "id": "HosPIfSJTXGu"
   },
   "outputs": [],
   "source": [
    "data.line6.array"
   ]
  },
  {
   "cell_type": "code",
   "execution_count": null,
   "metadata": {
    "id": "mq1IXDGrXbqm"
   },
   "outputs": [],
   "source": [
    "lista_listas = [data.line6.array,data.line3.array,data.line2.array,data.line1.array,data.line0.array,data.line4.array,data.line5.array]\n",
    "lista_listas"
   ]
  },
  {
   "cell_type": "code",
   "execution_count": null,
   "metadata": {
    "id": "f9rqNzWQZ7bI"
   },
   "outputs": [],
   "source": [
    "df_data_Backtrader = np.transpose(pd.DataFrame(lista_listas))\n",
    "print(df_data_Backtrader.head())\n",
    "print('\\nEmbora o \\'NOME\\' da segunda coluna seja',df_data_Backtrader.columns[1],'o seu \\'type()\\' é',type(df_data_Backtrader.columns[1]))\n"
   ]
  },
  {
   "cell_type": "code",
   "execution_count": null,
   "metadata": {
    "id": "LB7BRcBRK7_I"
   },
   "outputs": [],
   "source": [
    "df_data_Backtrader = np.transpose(pd.DataFrame(lista_listas))\n",
    "df_data_Backtrader = df_data_Backtrader.rename({df_data_Backtrader.columns[0]:'Date', df_data_Backtrader.columns[1]:'Open', df_data_Backtrader.columns[2]:'High', df_data_Backtrader.columns[3]:'Low',\n",
    "                                                df_data_Backtrader.columns[4]:'Close', df_data_Backtrader.columns[5]:'Volume', df_data_Backtrader.columns[6]:'Open_Interest'}, axis=1)\n",
    "df_data_Backtrader"
   ]
  },
  {
   "cell_type": "code",
   "execution_count": null,
   "metadata": {
    "id": "OaXsUn8yePgt"
   },
   "outputs": [],
   "source": []
  },
  {
   "cell_type": "code",
   "execution_count": null,
   "metadata": {
    "id": "npBC5z7_ePU7"
   },
   "outputs": [],
   "source": []
  },
  {
   "cell_type": "code",
   "execution_count": null,
   "metadata": {
    "id": "qruI7zRB3nN8"
   },
   "outputs": [],
   "source": [
    "sma_long = ta.trend.SMAIndicator(dataframe['Close'], window=20)\n",
    "sma_short = ta.trend.SMAIndicator(dataframe['Close'], window=8)\n",
    "dataframe['SMA_long'] = sma_long.sma_indicator()\n",
    "dataframe['SMA_short'] = sma_short.sma_indicator()\n",
    "dataframe['Diff_MM_s-l'] = dataframe['SMA_short'] - dataframe['SMA_long']\n",
    "dataframe"
   ]
  },
  {
   "cell_type": "markdown",
   "metadata": {
    "id": "-OnL56VfoQxc"
   },
   "source": [
    "Welcome to the backtrader documentation!\n",
    "\n",
    "The platform has 2 main objectives:\n",
    "\n",
    "Ease of use\n",
    "\n",
    "Go back to 1\n",
    "\n",
    "Note\n",
    "\n",
    "Loosely based on the Karate (Kid) rules by Mr. Miyagi.\n",
    "\n",
    "The basics of running this platform:\n",
    "\n",
    "Create a Strategy\n",
    "\n",
    "Decide on potential adjustable parameters\n",
    "\n",
    "Instantiate the Indicators you need in the Strategy\n",
    "\n",
    "Write down the logic for entering/exiting the market\n",
    "\n",
    "Tip\n",
    "\n",
    "Or alternatively:\n",
    "\n",
    "Prepare some indicators to work as long/short signals\n",
    "And then\n",
    "\n",
    "Create a Cerebro Engine\n",
    "\n",
    "First: Inject the Strategy (or signal-based strategy)\n",
    "And then:\n",
    "\n",
    "Load and Inject a Data Feed (once created use cerebro.adddata)\n",
    "\n",
    "And execute cerebro.run()\n",
    "\n",
    "For visual feedback use: cerebro.plot()\n",
    "\n",
    "The platform is highly configurable\n",
    "\n",
    "Let’s hope you, the user, find the platform useful and fun to work with."
   ]
  },
  {
   "cell_type": "code",
   "execution_count": null,
   "metadata": {
    "id": "bs3U3Pu8oQxd"
   },
   "outputs": [],
   "source": [
    "#para fazer o matplotlib rodar\n",
    "\n",
    "%matplotlib inline \n",
    "\n",
    "#Teste 2\n",
    "\n",
    "class MMACruzamento(bt.SignalStrategy):\n",
    "  def __init__(self): #cria uma função que roda imediatamente quando um objeto é criado a partir dessa classe\n",
    "    sma = bt.ind.SMA(period=50) #aqui você define o indicador\n",
    "    price = self.data #aqui é apontador do indicador\n",
    "    crossover = bt.ind.CrossOver(price,sma) #aqui é onde você define o sinal, aqui no caso é sinal de cruzamento\n",
    "    self.signal_add(bt.SIGNAL_LONG, crossover) \n",
    "\n",
    "cerebro = bt.Cerebro()\n",
    "cerebro.addstrategy(MMACruzamento)\n",
    "cerebro.adddata(data)\n",
    "cerebro.run()\n",
    "plt.rcParams['figure.figsize'] = [15, 12]\n",
    "plt.rcParams.update({'font.size': 12}) \n",
    "cerebro.plot(iplot = False)"
   ]
  },
  {
   "cell_type": "code",
   "execution_count": null,
   "metadata": {
    "id": "Iv68JooPoQxf"
   },
   "outputs": [],
   "source": [
    "fig = make_subplots(rows=1, cols=1)\n",
    "\n",
    "fig.add_trace(go.Candlestick(name='petr4', x=dataframe_teste.index, open=data_reduzido[('Open','ITUB4')], high = data_reduzido[('High','ITUB4')], low=data_reduzido[('Low','ITUB4')], close=data_reduzido[('Close','ITUB4')]), row=1,col=1)\n",
    "fig.add_trace(go.Scatter(name='EMA_long', x=dataframe_teste.index, y=data_reduzido[('MM','EMA_long')],marker_color='blue'), row=1, col=1)\n",
    "fig.add_trace(go.Scatter(name='EMA_short', x=dataframe_teste.index, y=data_reduzido[('MM','EMA_short')],marker_color='red'), row=1, col=1)\n",
    "fig.add_trace(go.Scatter(name='MACD_line', x=data_reduzido.index, y=data_reduzido[('Trend_Ind','MACD_line')],marker_color='red'), row=2, col=1)\n",
    "fig.add_trace(go.Scatter(name='MACD_sinal', x=data_reduzido.index, y=data_reduzido[('Trend_Ind','MACD_signal')],marker_color='blue'), row=2, col=1)\n",
    "fig.add_trace(go.Bar(name='MACD_hist', x=data_reduzido.index, y=data_reduzido[('Trend_Ind','MACD_hist')],marker_color='orange'), row=2, col=1)\n",
    "\n",
    "fig.update_layout(xaxis_rangeslider_visible=False, title_text='MACD',width=2000,height=2000)\n",
    "fig.show()\n",
    "Teste_crossover_TA.diff_MM.plot()"
   ]
  },
  {
   "cell_type": "markdown",
   "metadata": {
    "id": "Z9Y-oGyKoQxf"
   },
   "source": [
    "## 4. Backtesting como um verdadeiro **PROGRAMADOR RAIZ**\n",
    "#### OBS: No código abaixo ainda nao cheguei lá!"
   ]
  },
  {
   "cell_type": "markdown",
   "metadata": {
    "id": "CCzO3vTzoQxm"
   },
   "source": [
    "# **4. Testando algumas Estratégia de Trading bem conhecidas**"
   ]
  }
 ],
 "metadata": {
  "colab": {
   "authorship_tag": "ABX9TyN+EnZdjae2rBNuyRz3P5CZ",
   "collapsed_sections": [
    "-n83EmYfoQw_",
    "_J1HH70HoQxE",
    "LWE1CaZBoQxF",
    "QwpQMi5yoQxG",
    "P_VKj4XDoQxK",
    "XDUgjhQQoQxR",
    "UGRC7vS_oQxX",
    "3J2FFixBPz1F",
    "r4XtH2dfoQxZ",
    "pOsfvXhvQJ7k"
   ],
   "include_colab_link": true,
   "name": "Cópia de UPDATE_20220125_Introducao_Backtesting_Trading_Strategies_Python.ipynb",
   "provenance": []
  },
  "kernelspec": {
   "display_name": "Python 3",
   "language": "python",
   "name": "python3"
  },
  "language_info": {
   "codemirror_mode": {
    "name": "ipython",
    "version": 3
   },
   "file_extension": ".py",
   "mimetype": "text/x-python",
   "name": "python",
   "nbconvert_exporter": "python",
   "pygments_lexer": "ipython3",
   "version": "3.8.5"
  }
 },
 "nbformat": 4,
 "nbformat_minor": 1
}
