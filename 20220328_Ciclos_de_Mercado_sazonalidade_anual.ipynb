{
  "cells": [
    {
      "cell_type": "markdown",
      "metadata": {
        "id": "view-in-github",
        "colab_type": "text"
      },
      "source": [
        "<a href=\"https://colab.research.google.com/github/jamirpradojunior/JPJ/blob/main/20220328_Ciclos_de_Mercado_sazonalidade_anual.ipynb\" target=\"_parent\"><img src=\"https://colab.research.google.com/assets/colab-badge.svg\" alt=\"Open In Colab\"/></a>"
      ]
    },
    {
      "cell_type": "markdown",
      "metadata": {
        "id": "xEGXWNa-_rcq"
      },
      "source": [
        "<img src=\"https://tradingcomdados.com/images/logotipo/logotipo-trading-com-dados.svg\" width=\"300\">"
      ]
    },
    {
      "cell_type": "markdown",
      "metadata": {
        "id": "H7j0UCOJ0EMX"
      },
      "source": [
        "---\n",
        "# **Ciclos de Mercado: avaliando a sazonalidade anual do IBOV**\n",
        "---"
      ]
    },
    {
      "cell_type": "markdown",
      "source": [
        "## **Contexto:**\n",
        "\n",
        "Você provavelmente já ouviu a expressão \"*Sell in May and go away!*\", que em uma tradução literal seria algo como \"*Venda em maio e vá embora!*\". O fato é que além de uma rima legal, essa expressão traz um contexto de sazonalidade de mercado muito interessante e que, sem dúvida, merece nossa atenção.<p>\n",
        "Estudos mostram que a expressão original é ainda mais curiosa: \"*Sell in May, go away, and come back on St. Leger’s Day*\" = Venda em maio, vá embora e volte no dia de 'Saint Leger' (15 de setembro). A estratégia envolve o lucro a partir na sazonalindade anual do mercado. Basicamente, você venderia todas as suas ações em maio, quando o mercado historicamente apresenta um desempenho abaixo do esperado. No mesmo ano, entre outubro e novembro, você os compra novamente, quando o mercado de ações começa a subir novamente.<p>\n",
        "Em um artigo intitulado \"*The Halloween Indicator, 'Sell in May and Go Away': Another Puzzle*\", publicado na American Economic Review (2002), os autores Jacobsen and Bouman avaliam e documentam esse padrão para 36 de 37 mercados avaliados (incluindo países desenvolvidos e emergentes). Eles reportam que esse \"indicador Halloween\" é particularmente forte na Europa, e surpreendentemente pode ser observado desde 1694 no mercado do UK:<p>\n",
        ">[...] we find this inherited wisdom to be true in 36 of the 37 developed and emerging markets studied in our sample. The Sell in May effect tends to be particularly strong in European countries and is robust over time. Sample evidence, for instance, shows that in the UK the effect has been noticeable since 1694.\n",
        "\n",
        "Por fim, embora tenham testado diversos preditores que pudessem explicar esse padrão, não chegaram a nenhuma conclusão sobre o que poderia de fato explicar esse \"quebra-cabeça\":\n",
        ">[...] While we have examined a number of possible explanations, none of these appears to convincingly explain the puzzle.\n",
        "\n",
        "Nós, da Trading com Dados, apresentamos aqui um código exemplificando o padrão no IBOV e S&P 500. E em seus ativos preferidos, quer testar?"
      ],
      "metadata": {
        "id": "G9fkXOgOnaWx"
      }
    },
    {
      "cell_type": "markdown",
      "metadata": {
        "id": "5LYsJ_x8_waa"
      },
      "source": [
        "# 1. Bibliotecas utilizadas"
      ]
    },
    {
      "cell_type": "code",
      "execution_count": null,
      "metadata": {
        "colab": {
          "base_uri": "https://localhost:8080/"
        },
        "id": "Y-i3d71e0EMY",
        "outputId": "1af4d083-a798-4c16-8604-c3c9dec42e2e"
      },
      "outputs": [
        {
          "name": "stdout",
          "output_type": "stream",
          "text": [
            "Requirement already satisfied: requests in /usr/local/lib/python3.7/dist-packages (2.23.0)\n",
            "Requirement already satisfied: certifi>=2017.4.17 in /usr/local/lib/python3.7/dist-packages (from requests) (2021.10.8)\n",
            "Requirement already satisfied: urllib3!=1.25.0,!=1.25.1,<1.26,>=1.21.1 in /usr/local/lib/python3.7/dist-packages (from requests) (1.24.3)\n",
            "Requirement already satisfied: idna<3,>=2.5 in /usr/local/lib/python3.7/dist-packages (from requests) (2.10)\n",
            "Requirement already satisfied: chardet<4,>=3.0.2 in /usr/local/lib/python3.7/dist-packages (from requests) (3.0.4)\n",
            "Requirement already satisfied: bs4 in /usr/local/lib/python3.7/dist-packages (0.0.1)\n",
            "Requirement already satisfied: beautifulsoup4 in /usr/local/lib/python3.7/dist-packages (from bs4) (4.6.3)\n"
          ]
        }
      ],
      "source": [
        ""
      ]
    },
    {
      "cell_type": "code",
      "execution_count": null,
      "metadata": {
        "id": "wRVARobC6jIH"
      },
      "outputs": [],
      "source": [
        "import requests\n",
        "from bs4 import BeautifulSoup\n",
        "import pandas as pd"
      ]
    },
    {
      "cell_type": "markdown",
      "metadata": {
        "id": "LzlBKluaAKi7"
      },
      "source": [
        "# 2. Entendendo um código HTML"
      ]
    },
    {
      "cell_type": "markdown",
      "metadata": {
        "id": "XHTnJaU6BowJ"
      },
      "source": [
        "## 2.1. Código HTML bruto *vs* Aparência HTML"
      ]
    },
    {
      "cell_type": "markdown",
      "metadata": {
        "id": "RBrntUNc0EMb"
      },
      "source": [
        "HTML é basicamente uma linguagem de marcação, onde cada **tag** (ex., \\<html>...<\\\\html>) representa algo dentro da hierarquia da página. Neste caso, **\\<html>** indica o início de um conteúdo html e **<\\\\html>** indica o fim deste conteúdo. Dentro desta tag temos outras tags, cada uma referente a determinada estrutura do HTML. Veja abaixo um código HTML bruto e logo abaixo como está sua \"aparência\""
      ]
    },
    {
      "cell_type": "markdown",
      "metadata": {
        "id": "4NsGWw7c0EMb"
      },
      "source": [
        "    ------------------------------------------------------------------------------------------\n",
        "    <!DOCTYPE html>\n",
        "    <html>\n",
        "        <head>\n",
        "            <title>Page Title</title>\n",
        "            <meta http-equiv=\"Content-Type\" content=\"text/html; charset=utf-8\">\n",
        "        </head>\n",
        "\n",
        "        <body>\n",
        "    \n",
        "            <div>\n",
        "                <h1>Isto é um título</h1>\n",
        "                <p>Isto é um parágrafo</p>\n",
        "                <a href='https://www.google.com.br'>Link do google</a>\n",
        "            </div>\n",
        "\n",
        "            <div>\n",
        "                <h2>Lista não ordenada</h2>\n",
        "\n",
        "                <ul>\n",
        "                    <li>Café</li>\n",
        "                    <li>Chá</li>\n",
        "                    <li>Leite</li>\n",
        "                </ul>  \n",
        "\n",
        "                <h2>Lista ordenada</h2>\n",
        "\n",
        "                <ol>\n",
        "                    <li>Café</li>\n",
        "                    <li>Chá</li>\n",
        "                    <li>Leite</li>\n",
        "                </ol>  \n",
        "            </div>\n",
        "\n",
        "            <div>\n",
        "                <h2>Exemplo de uma tabela</h2>\n",
        "\n",
        "                <table>\n",
        "                    <tr>\n",
        "                        <th>Nome</th>\n",
        "                        <th>Sobrenome</th>\n",
        "                        <th>Idade</th>\n",
        "                    </tr>\n",
        "                    <tr>\n",
        "                        <td>Jill</td>\n",
        "                        <td>Smith</td>\n",
        "                        <td>50</td>\n",
        "                    </tr>\n",
        "                    <tr>\n",
        "                        <td>Eve</td>\n",
        "                        <td>Jackson</td>\n",
        "                        <td>94</td>\n",
        "                    </tr>\n",
        "                </table> \n",
        "            </div>\n",
        "        \n",
        "        </body>\n",
        "    </html>\n",
        "    ------------------------------------------------------------------------------------------"
      ]
    },
    {
      "cell_type": "markdown",
      "metadata": {
        "id": "_QZon7l90EMc"
      },
      "source": [
        "Para visualizar o HTML estruturado deverá exportar o código como HTML\n",
        "Alguns sites permitem essa visualização. Ex: https://pt.infobyip.com/htmlandjavascripteditor.php"
      ]
    },
    {
      "cell_type": "raw",
      "metadata": {
        "id": "wZqbQUsc6opb",
        "outputId": "8f1db432-ad87-4c01-d144-98edddafdfcc"
      },
      "source": [
        "    <!DOCTYPE html>\n",
        "    <html>\n",
        "        <head>\n",
        "            <title>Page Title</title>\n",
        "            <meta http-equiv=\"Content-Type\" content=\"text/html; charset=utf-8\">\n",
        "        </head>\n",
        "\n",
        "        <body>\n",
        "    \n",
        "            <div>\n",
        "                <h1>Isto é um título</h1>\n",
        "                <p>Isto é um parágrafo</p>\n",
        "                <a href='https://www.google.com.br'>Link do google</a>\n",
        "            </div>\n",
        "\n",
        "            <div>\n",
        "                <h2>Lista não ordenada</h2>\n",
        "\n",
        "                <ul>\n",
        "                    <li>Café</li>\n",
        "                    <li>Chá</li>\n",
        "                    <li>Leite</li>\n",
        "                </ul>  \n",
        "\n",
        "                <h2>Lista ordenada</h2>\n",
        "\n",
        "                <ol>\n",
        "                    <li>Café</li>\n",
        "                    <li>Chá</li>\n",
        "                    <li>Leite</li>\n",
        "                </ol>  \n",
        "            </div>\n",
        "\n",
        "            <div>\n",
        "                <h2>Exemplo de uma tabela</h2>\n",
        "\n",
        "                <table>\n",
        "                    <tr>\n",
        "                        <th>Nome</th>\n",
        "                        <th>Sobrenome</th>\n",
        "                        <th>Idade</th>\n",
        "                    </tr>\n",
        "                    <tr>\n",
        "                        <td>Jill</td>\n",
        "                        <td>Smith</td>\n",
        "                        <td>50</td>\n",
        "                    </tr>\n",
        "                    <tr>\n",
        "                        <td>Eve</td>\n",
        "                        <td>Jackson</td>\n",
        "                        <td>94</td>\n",
        "                    </tr>\n",
        "                </table> \n",
        "            </div>\n",
        "        \n",
        "        </body>\n",
        "    </html>"
      ]
    },
    {
      "cell_type": "markdown",
      "metadata": {
        "id": "SEHpC18e6rET",
        "outputId": "392bc8d1-c8cf-4108-b709-169e63829355"
      },
      "source": [
        "Principais **tags** e suas descrições simplificadas\n",
        "* h1: Indica o título da página ou da sessão em que ela está contida. Podemos também usar h2, h3... para indicar subtítulos.\n",
        "* div: Serve para organizar e dividir partes do código\n",
        "* span: Serve para organizar os elementos de uma mesma linha\n",
        "* p: Indica um parágrafo\n",
        "* a: Indica um link, onde o link vem representado por 'href' dentro da tag\n",
        "* ul: Indica listas não ordenadas\n",
        "* ol: Indica listas ordenadas\n",
        "* li: Indica os elementos da lista 'ul' ou 'ol'\n",
        "* table: Indica uma tabela\n",
        "* tr: Indica o começo de uma linha em 'table'\n",
        "* th: Indica o head em 'table'\n",
        "* td: Indica uma linha em 'table'\n"
      ]
    },
    {
      "cell_type": "markdown",
      "metadata": {
        "id": "HiNwR9Ih0EMe",
        "tags": []
      },
      "source": [
        "## 2.2. Inspecionando o código desenvolvido em cada site"
      ]
    },
    {
      "cell_type": "markdown",
      "metadata": {
        "id": "2P0addjA0EMe"
      },
      "source": [
        "Por mais que os desenvolvedores web em HTML tentem seguir regras de estruturação na criação das páginas, é impossível que todas estejam no mesmo padrão. Por exemplo, uma notícia no **InfoMoney** pode ser formatada em um padrão diferente de uma notícia no **Bloomberg** ou no **Investing**. Por isso, devemos entender como cada página está estruturada antes de começar a extrair qualquer informação dela. Nessas etapas recomendamos o uso do Google Chrome, devido à sua facilidade em mostrar de forma intuitiva o código fonte no ***Ambiente de desenvolvedor - DevTools***"
      ]
    },
    {
      "cell_type": "markdown",
      "metadata": {
        "id": "SZV_vCb26wVz",
        "outputId": "a619e320-acdf-4a3e-a714-17474bab0c1d"
      },
      "source": [
        "Para navegar no Ambiente de Desenvolvedor entre em um site e aperte F12. Depois selecione o botão 'Inspect' (canto esquerdo superior, Ctrl+Shift+C)<p>\n",
        "https://www.infomoney.com.br/"
      ]
    },
    {
      "cell_type": "markdown",
      "metadata": {
        "id": "QY4KTCqH0EMe"
      },
      "source": [
        "Após explorar o botão Inspect no código HTML do site, clique com o botão direito e vá em \"Salvar como...\" > \"Salvar\" (Nome: exemplo_html | Tipo: Página da web completa)"
      ]
    },
    {
      "cell_type": "code",
      "execution_count": null,
      "metadata": {
        "id": "MaOg5w8I0EMf",
        "outputId": "c73e4a37-df3b-4b29-b40b-c940a687457b"
      },
      "outputs": [
        {
          "data": {
            "text/plain": [
              "'C:\\\\Users\\\\jamir\\\\Documents\\\\GitHub\\\\desenvolvimento_interno'"
            ]
          },
          "execution_count": 1,
          "metadata": {},
          "output_type": "execute_result"
        }
      ],
      "source": [
        "# Para carregarmos o html salvo, primeiro vamos verificar em qual diretório a IDE está trabalhando (varia entre elas, por ex., Jupyter e Colab)\n",
        "\n",
        "import os\n",
        "os.getcwd()"
      ]
    },
    {
      "cell_type": "code",
      "execution_count": null,
      "metadata": {
        "colab": {
          "base_uri": "https://localhost:8080/"
        },
        "id": "E0bZW_6L7BUa",
        "outputId": "e02e018b-898e-4a50-feee-7aaa2218c475"
      },
      "outputs": [
        {
          "name": "stdout",
          "output_type": "stream",
          "text": [
            "O número de caracteres do código html importado é 438454\n"
          ]
        },
        {
          "data": {
            "text/plain": [
              "'<!DOCTYPE html>\\n<!-- saved from url=(0029)https://www.infomoney.com.br/ -->\\n<html lang=\"pt-BR\" class=\"jetpack-lazy-images-js-enabled hydrated\"><head><meta http-equiv=\"Content-Type\" content=\"text/html; charset=UTF-8\">\\n    <style data-styles=\"\">{visibility:hidden}.hydrated{visibility:inherit}</style><style data-styles=\"\">{visibility:hidden}.hydrated{visibility:inherit}</style><style data-styles=\"\">terms-policy,terms-policy-checkbox,terms-policy-modal{visibility:hidden}.hydrated{visibility:inherit}</style><style data-styles=\"\">cookies-policy,cookies-policy-disclaimer,cookies-policy-list,cookies-policy-modal-footer,cookies-policy-modal-tabs,cookies-policy-modal{visibility:hidden}.hydrated{visibility:inherit}</style><style data-styles=\"\">soma-link,soma-time-picker,soma-token,soma-datepicker,soma-popover,soma-accordion-item,soma-menu,soma-quantity,soma-alert,soma-avatar,soma-button-link,soma-card-header,soma-chip,soma-dialog-warning,soma-icon-button,soma-input-bank-password,soma-modal,soma-pagination,soma-rating,soma-search,soma-select,soma-shortcut,soma-accordion,soma-autocomplete,soma-autocomplete-item,soma-badge,soma-card-actions,soma-card-content,soma-card-media,soma-card-media-description,soma-checkbox,soma-container,soma-grid,soma-grid-col,soma-grid-row,soma-hide,soma-list,soma-list-item,soma-list-item-action,soma-menu-anchor,soma-menu-item,soma-option,soma-popover-content,soma-radio,soma-radio-group,soma-skeleton,soma-snackbar,soma-spinner,soma-switch,soma-tab,soma-table,soma-table-body,soma-table-cell,soma-table-head,soma-table-row,soma-tabs,soma-tooltip,soma-typography,soma-button,soma-calendar,soma-card,soma-context,soma-progress,soma-text-field,soma-caption,soma-heading,soma-popper,soma-popper-content,soma-subtitle,soma-paragraph,soma-description,soma-icon{visibility:hidden}.hydrated{visibility:inherit}</style>\\n    <meta name=\"viewport\" content=\"width=device-width, initial-scale=1, shrink-to-fit=no\">\\n    \\n    <style>\\n        @charset \"UTF-8\";:root{--sapphire:#0091FF;--apatite:#32C5FF;--ruby:#FF5252;--xpamber:#F7B500;--gray:#6c757d;--amazonite:#44D7B6;--lightgray:#F5F7F8;--darkgray:#212121;--gray:#6C757D;--gray24:rgba(108, 117, 125, 0.24);--blue:#0091FF;--lightblue:#32C5FF;--yellow:#ffc709;--red:#FF5252;--emerald:#1eb980;--white:#ffffff}*{letter-spacing:normal!important}html{scroll-behavior:smooth}body{font-family:\"Helvetica Neue\",\"Helvetica Neue LT Pro\",Helvetica,Arial,sans-serif;color:#000}a{color:var(--sapphire)}h1{letter-spacing:-.02em!important}p{font-weight:400!important}.hl-hat{display:block;font-size:.875rem;font-weight:400!important;line-height:16px;margin-bottom:4px;color:#666;width:100%}.hl-title{display:block}.hl-title a{color:#000}.hl-title-2{font-size:24px;line-height:28px;letter-spacing:-.01em!important;font-weight:700}.hl-title-2 a{color:#000;letter-spacing:-.01em!important}.hl-title-4{font-size:20px;line-height:24px;letter-spacing:-.5px;font-weight:700}.hl-title-4 a{color:#111}.hl-title-8{font-size:14px;line-height:16px;font-weight:600;letter-spacing:-.1px;color:#111;display:flex}.hl-title-8 i{font-size:16px;color:#0091ff;margin:0 4px 0 0}.info-spotlight{position:absolute;width:100%;height:100%;display:flex;flex-direction:column;justify-content:flex-end;padding:0 32px 32px 32px;background:linear-gradient(to top,rgba(0,0,0,.7) 20%,rgba(0,0,0,0) 60%);top:0;z-index:1}.info-spotlight span,.info-spotlight span a{color:#fff}.cover-link{display:block;position:absolute;top:0;right:0;bottom:0;left:0;background-color:transparent;z-index:100}.border-t{border-top:1px solid #ddd}.fill-lightgray{background:var(--lightgray)}.border-t-mobile{border-top:0}.img-container{width:100%;align-self:flex-start}.img-container figure{position:relative;overflow:hidden;padding-top:56.25%;margin:0}.img-container figure img{position:absolute;top:50%;left:50%;transform:translate(-50%,-50%);min-height:100%}@supports (-ms-ime-align:auto){.material-icons{font-feature-settings:\\'liga\\' 1}}@media screen and (max-width:991px){body.is-padded-mobile{padding-top:48px}.hl-title-2{font-size:20px;line-height:24px;letter-spacing:-.6px}.info-spotlight{position:relative;background:0 0;padding:0 16px 16px 16px}.info-spotlight .hl-hat{color:#6c757d}.info-spotlight .hl-title a{color:#000}.border-t-mobile{border-top:1px solid rgba(0,0,0,.12)}}h1{scroll-margin-top:70px}.header{position:fixed;top:0;left:0;width:100%;height:48px;z-index:1000;background:#212121}.header .logo-link{margin:13px 0 7px 16px}.header .logo-link .logo{max-height:28px}.header .menu-open{color:rgba(255,255,255,.6)}.header .nav-topics i{color:#0091ff}.header .nav-topics a{color:rgba(255,255,255,.9)}.header .nav-topics span{color:#fff}.header .header-action{color:rgba(255,255,255,.6)}.header-full{display:none}.header-full .logo-link{padding:15px 0 5px 0}.header-full .logo-link .logo{max-height:48px}.header-full .nav-topics i{color:var(--blue)}.header-full .nav-topics a{color:#111}.header-full .header-action{color:var(--gray)}.header-action{display:flex;align-items:center'"
            ]
          },
          "execution_count": 2,
          "metadata": {},
          "output_type": "execute_result"
        }
      ],
      "source": [
        "# Comando para abrir o html. O output será gigante pois contem todo o código da página\n",
        "# A variável criada \"html_fonte\" é uma string. Para evitar sobrecarregar o output, vamos imprimir apenas alguns caracteres\n",
        "# Basta retirar o indexador caso queira visualizar todo o código\n",
        "# Por curiosidade, vamos imprimir antes de tudo o número de caracteres do html importado\n",
        "\n",
        "html_fonte = open(\"C:\\\\Users\\\\jamir\\\\Desktop\\\\exemplo_html.html\", \"r\", encoding='utf8').read()\n",
        "print(\"O número de caracteres do código html importado é\",len(html_fonte))\n",
        "html_fonte[0:5000]"
      ]
    },
    {
      "cell_type": "markdown",
      "metadata": {
        "id": "i_ZBGmq70EMf"
      },
      "source": [
        "Da forma como está carregado (como uma grande string) é praticamente impossível trabalhar com o código (muito diferente de quando inspecionamos no Google Chrome através do DevTools. Nesse ponto, o uso da biblioteca ***bs4 (BeautifulSoup)*** vem auxiliar na organização e abstração de toda a string criada a partir do código HTML, de forma a facilitar o uso no python"
      ]
    },
    {
      "cell_type": "code",
      "execution_count": null,
      "metadata": {
        "id": "8NeGxpyD0EMf"
      },
      "outputs": [],
      "source": [
        "\n"
      ]
    },
    {
      "cell_type": "code",
      "execution_count": null,
      "metadata": {
        "id": "cM3ueo050EMg",
        "outputId": "46e8a2e4-6324-4b3e-bb58-dc6e5b45cc6a"
      },
      "outputs": [
        {
          "ename": "NameError",
          "evalue": "name 'BeautifulSoup' is not defined",
          "output_type": "error",
          "traceback": [
            "\u001b[1;31m---------------------------------------------------------------------------\u001b[0m",
            "\u001b[1;31mNameError\u001b[0m                                 Traceback (most recent call last)",
            "Input \u001b[1;32mIn [3]\u001b[0m, in \u001b[0;36m<module>\u001b[1;34m\u001b[0m\n\u001b[0;32m      1\u001b[0m \u001b[38;5;66;03m# Organizar o html_fonte html.parser\"</b> como parâmetros da função <b>BeautifulSoup</b>, conseguimos organizar nosso código HTML:</p>\u001b[39;00m\n\u001b[1;32m----> 3\u001b[0m html \u001b[38;5;241m=\u001b[39m \u001b[43mBeautifulSoup\u001b[49m(html_fonte, \u001b[38;5;124m\"\u001b[39m\u001b[38;5;124mhtml.parser\u001b[39m\u001b[38;5;124m\"\u001b[39m)\n\u001b[0;32m      5\u001b[0m html\n",
            "\u001b[1;31mNameError\u001b[0m: name 'BeautifulSoup' is not defined"
          ]
        }
      ],
      "source": [
        "# Organizar o html_fonte html.parser\"</b> como parâmetros da função <b>BeautifulSoup</b>, conseguimos organizar nosso código HTML:</p>\n",
        "\n",
        "html = BeautifulSoup(html_fonte, \"html.parser\")\n",
        "\n",
        "html"
      ]
    },
    {
      "cell_type": "code",
      "execution_count": null,
      "metadata": {
        "id": "eJ8GQu-40EMg"
      },
      "outputs": [],
      "source": [
        "<p>Percebemos que o output é bem mais amigável dessa vez, mas o mais importante está nos métodos de filtro e busca que podemos fazer com ele. Apesar do <b>'bs4'</b> apresentar muitos métodos úteis, inicialmente podemos começar com apenas 3 deles:</p>"
      ]
    },
    {
      "cell_type": "code",
      "execution_count": null,
      "metadata": {
        "id": "rN0ocsv00EMg"
      },
      "outputs": [],
      "source": [
        ""
      ]
    },
    {
      "cell_type": "markdown",
      "metadata": {
        "id": "bW8SS7QW0EMg"
      },
      "source": [
        "# 3. Caso 1 - Webscraping com Rendimentos de Fundos Imobiliários (FIIs)"
      ]
    },
    {
      "cell_type": "markdown",
      "metadata": {
        "id": "O_Pn8urH0EMg"
      },
      "source": [
        "Funds Explorer - muito legal para obtenção de dados de FIIs <p>\n",
        "Dados de mais @ FIIs, distribuídos em 9 setores e 24 colunas de atributos <p>\n",
        "https://www.fundsexplorer.com.br/ranking"
      ]
    },
    {
      "cell_type": "code",
      "execution_count": null,
      "metadata": {
        "colab": {
          "base_uri": "https://localhost:8080/"
        },
        "id": "7pRuJww30EMh",
        "outputId": "5e3633cb-f5a5-4606-f8a3-c88ce8ed5651"
      },
      "outputs": [
        {
          "data": {
            "text/plain": [
              "<Response [200]>"
            ]
          },
          "execution_count": 3,
          "metadata": {},
          "output_type": "execute_result"
        }
      ],
      "source": [
        "# Importamos nossa url objeto de webscraping usando a biblioteca requests\n",
        "\n",
        "FII_url = requests.get(\"https://www.fundsexplorer.com.br/ranking\")\n",
        "FII_url"
      ]
    },
    {
      "cell_type": "code",
      "execution_count": null,
      "metadata": {
        "colab": {
          "base_uri": "https://localhost:8080/",
          "height": 105
        },
        "id": "A_jxcbu60EMh",
        "outputId": "c2a55e5b-01a5-439a-b1cc-9eaf9f83e5b2"
      },
      "outputs": [
        {
          "data": {
            "application/vnd.google.colaboratory.intrinsic+json": {
              "type": "string"
            },
            "text/plain": [
              "'<!DOCTYPE html>\\n<html lang=\"pt-br\">\\n\\n<head>\\n<script type=\"text/javascript\">window.NREUM||(NREUM={});NREUM.info={\"beacon\":\"bam.nr-data.net\",\"errorBeacon\":\"bam.nr-data.net\",\"licenseKey\":\"7ae9c6eb2d\",\"applicationID\":\"1576126089\",\"transactionName\":\"IAkLQhFbWVUBQhdKVwcDFl8EWhpLBV5TUVwESQxYB1FN\",\"queueTime\":3,\"applicationTime\":15,\"agent\":\"\"}</script>\\n<script type=\"text/javascript\">(window.NREUM||(NREUM={})).init={ajax:{deny_list:[\"bam.nr-data.net\"]}};(window.NREUM||(NREUM={})).loader_config={licenseKey:\"7ae9c6eb2d\",applicationID:\"1576126089\"};window.NREUM||(NREUM={}),__nr_require=function(t,e,n){function r(n){if(!e[n]){var i=e[n]={exports:{}};t[n][0].call(i.exports,function(e){var i=t[n][1][e];return r(i||e)},i,i.exports)}return e[n].exports}if(\"function\"==typeof __nr_require)return __nr_require;for(var i=0;i<n.length;i++)r(n[i]);return r}({1:[function(t,e,n){function r(){}function i(t,e,n,r){return function(){return s.recordSupportability(\"API/\"+e+\"/called\"),o(t+e,[u.now()].concat(c(argumen'"
            ]
          },
          "execution_count": 4,
          "metadata": {},
          "output_type": "execute_result"
        }
      ],
      "source": [
        "# Transformar o código em texto\n",
        "# Output reduzido\n",
        "\n",
        "FII_url.text[0:1000]"
      ]
    },
    {
      "cell_type": "code",
      "execution_count": null,
      "metadata": {
        "colab": {
          "base_uri": "https://localhost:8080/"
        },
        "id": "gg9K7ZCx0EMh",
        "outputId": "64b80636-badb-481b-8bfd-24dacf369d91"
      },
      "outputs": [
        {
          "data": {
            "text/plain": [
              "[<script type=\"text/javascript\">window.NREUM||(NREUM={});NREUM.info={\"beacon\":\"bam.nr-data.net\",\"errorBeacon\":\"bam.nr-data.net\",\"licenseKey\":\"7ae9c6eb2d\",\"applicationID\":\"1576126089\",\"transactionName\":\"IAkLQhFbWVUBQhdKVwcDFl8EWhpLBV5TUVwESQxYB1FN\",\"queueTime\":3,\"applicationTime\":15,\"agent\":\"\"}</script>,\n",
              " <script type=\"text/javascript\">(window.NREUM||(NREUM={})).init={ajax:{deny_list:[\"bam.nr-data.net\"]}};(window.NREUM||(NREUM={})).loader_config={licenseKey:\"7ae9c6eb2d\",applicationID:\"1576126089\"};window.NREUM||(NREUM={}),__nr_require=function(t,e,n){function r(n){if(!e[n]){var i=e[n]={exports:{}};t[n][0].call(i.exports,function(e){var i=t[n][1][e];return r(i||e)},i,i.exports)}return e[n].exports}if(\"function\"==typeof __nr_require)return __nr_require;for(var i=0;i<n.length;i++)r(n[i]);return r}({1:[function(t,e,n){function r(){}function i(t,e,n,r){return function(){return s.recordSupportability(\"API/\"+e+\"/called\"),o(t+e,[u.now()].concat(c(arguments)),n?null:this,r),n?void 0:this}}var o=t(\"handle\"),a=t(10),c=t(11),f=t(\"ee\").get(\"tracer\"),u=t(\"loader\"),s=t(4),d=NREUM;\"undefined\"==typeof window.newrelic&&(newrelic=d);var p=[\"setPageViewName\",\"setCustomAttribute\",\"setErrorHandler\",\"finished\",\"addToTrace\",\"inlineHit\",\"addRelease\"],l=\"api-\",v=l+\"ixn-\";a(p,function(t,e){d[e]=i(l,e,!0,\"api\")}),d.addPageAction=i(l,\"addPageAction\",!0),d.setCurrentRouteName=i(l,\"routeName\",!0),e.exports=newrelic,d.interaction=function(){return(new r).get()};var m=r.prototype={createTracer:function(t,e){var n={},r=this,i=\"function\"==typeof e;return o(v+\"tracer\",[u.now(),t,n],r),function(){if(f.emit((i?\"\":\"no-\")+\"fn-start\",[u.now(),r,i],n),i)try{return e.apply(this,arguments)}catch(t){throw f.emit(\"fn-err\",[arguments,this,t],n),t}finally{f.emit(\"fn-end\",[u.now()],n)}}}};a(\"actionText,setName,setAttribute,save,ignore,onEnd,getContext,end,get\".split(\",\"),function(t,e){m[e]=i(v,e)}),newrelic.noticeError=function(t,e){\"string\"==typeof t&&(t=new Error(t)),s.recordSupportability(\"API/noticeError/called\"),o(\"err\",[t,u.now(),!1,e])}},{}],2:[function(t,e,n){function r(t){if(NREUM.init){for(var e=NREUM.init,n=t.split(\".\"),r=0;r<n.length-1;r++)if(e=e[n[r]],\"object\"!=typeof e)return;return e=e[n[n.length-1]]}}e.exports={getConfiguration:r}},{}],3:[function(t,e,n){var r=!1;try{var i=Object.defineProperty({},\"passive\",{get:function(){r=!0}});window.addEventListener(\"testPassive\",null,i),window.removeEventListener(\"testPassive\",null,i)}catch(o){}e.exports=function(t){return r?{passive:!0,capture:!!t}:!!t}},{}],4:[function(t,e,n){function r(t,e){var n=[a,t,{name:t},e];return o(\"storeMetric\",n,null,\"api\"),n}function i(t,e){var n=[c,t,{name:t},e];return o(\"storeEventMetrics\",n,null,\"api\"),n}var o=t(\"handle\"),a=\"sm\",c=\"cm\";e.exports={constants:{SUPPORTABILITY_METRIC:a,CUSTOM_METRIC:c},recordSupportability:r,recordCustom:i}},{}],5:[function(t,e,n){function r(){return c.exists&&performance.now?Math.round(performance.now()):(o=Math.max((new Date).getTime(),o))-a}function i(){return o}var o=(new Date).getTime(),a=o,c=t(12);e.exports=r,e.exports.offset=a,e.exports.getLastTimestamp=i},{}],6:[function(t,e,n){function r(t){return!(!t||!t.protocol||\"file:\"===t.protocol)}e.exports=r},{}],7:[function(t,e,n){function r(t,e){var n=t.getEntries();n.forEach(function(t){\"first-paint\"===t.name?l(\"timing\",[\"fp\",Math.floor(t.startTime)]):\"first-contentful-paint\"===t.name&&l(\"timing\",[\"fcp\",Math.floor(t.startTime)])})}function i(t,e){var n=t.getEntries();if(n.length>0){var r=n[n.length-1];if(u&&u<r.startTime)return;var i=[r],o=a({});o&&i.push(o),l(\"lcp\",i)}}function o(t){t.getEntries().forEach(function(t){t.hadRecentInput||l(\"cls\",[t])})}function a(t){var e=navigator.connection||navigator.mozConnection||navigator.webkitConnection;if(e)return e.type&&(t[\"net-type\"]=e.type),e.effectiveType&&(t[\"net-etype\"]=e.effectiveType),e.rtt&&(t[\"net-rtt\"]=e.rtt),e.downlink&&(t[\"net-dlink\"]=e.downlink),t}function c(t){if(t instanceof y&&!w){var e=Math.round(t.timeStamp),n={type:t.type};a(n),e<=v.now()?n.fid=v.now()-e:e>v.offset&&e<=Date.now()?(e-=v.offset,n.fid=v.now()-e):e=v.now(),w=!0,l(\"timing\",[\"fi\",e,n])}}function f(t){\"hidden\"===t&&(u=v.now(),l(\"pageHide\",[u]))}if(!(\"init\"in NREUM&&\"page_view_timing\"in NREUM.init&&\"enabled\"in NREUM.init.page_view_timing&&NREUM.init.page_view_timing.enabled===!1)){var u,s,d,p,l=t(\"handle\"),v=t(\"loader\"),m=t(9),g=t(3),y=NREUM.o.EV;if(\"PerformanceObserver\"in window&&\"function\"==typeof window.PerformanceObserver){s=new PerformanceObserver(r);try{s.observe({entryTypes:[\"paint\"]})}catch(h){}d=new PerformanceObserver(i);try{d.observe({entryTypes:[\"largest-contentful-paint\"]})}catch(h){}p=new PerformanceObserver(o);try{p.observe({type:\"layout-shift\",buffered:!0})}catch(h){}}if(\"addEventListener\"in document){var w=!1,b=[\"click\",\"keydown\",\"mousedown\",\"pointerdown\",\"touchstart\"];b.forEach(function(t){document.addEventListener(t,c,g(!1))})}m(f)}},{}],8:[function(t,e,n){function r(t,e){if(!i)return!1;if(t!==i)return!1;if(!e)return!0;if(!o)return!1;for(var n=o.split(\".\"),r=e.split(\".\"),a=0;a<r.length;a++)if(r[a]!==n[a])return!1;return!0}var i=null,o=null,a=/Version\\/(\\S+)\\s+Safari/;if(navigator.userAgent){var c=navigator.userAgent,f=c.match(a);f&&c.indexOf(\"Chrome\")===-1&&c.indexOf(\"Chromium\")===-1&&(i=\"Safari\",o=f[1])}e.exports={agent:i,version:o,match:r}},{}],9:[function(t,e,n){function r(t){function e(){t(c&&document[c]?document[c]:document[o]?\"hidden\":\"visible\")}\"addEventListener\"in document&&a&&document.addEventListener(a,e,i(!1))}var i=t(3);e.exports=r;var o,a,c;\"undefined\"!=typeof document.hidden?(o=\"hidden\",a=\"visibilitychange\",c=\"visibilityState\"):\"undefined\"!=typeof document.msHidden?(o=\"msHidden\",a=\"msvisibilitychange\"):\"undefined\"!=typeof document.webkitHidden&&(o=\"webkitHidden\",a=\"webkitvisibilitychange\",c=\"webkitVisibilityState\")},{}],10:[function(t,e,n){function r(t,e){var n=[],r=\"\",o=0;for(r in t)i.call(t,r)&&(n[o]=e(r,t[r]),o+=1);return n}var i=Object.prototype.hasOwnProperty;e.exports=r},{}],11:[function(t,e,n){function r(t,e,n){e||(e=0),\"undefined\"==typeof n&&(n=t?t.length:0);for(var r=-1,i=n-e||0,o=Array(i<0?0:i);++r<i;)o[r]=t[e+r];return o}e.exports=r},{}],12:[function(t,e,n){e.exports={exists:\"undefined\"!=typeof window.performance&&window.performance.timing&&\"undefined\"!=typeof window.performance.timing.navigationStart}},{}],ee:[function(t,e,n){function r(){}function i(t){function e(t){return t&&t instanceof r?t:t?u(t,f,a):a()}function n(n,r,i,o,a){if(a!==!1&&(a=!0),!l.aborted||o){t&&a&&t(n,r,i);for(var c=e(i),f=m(n),u=f.length,s=0;s<u;s++)f[s].apply(c,r);var p=d[w[n]];return p&&p.push([b,n,r,c]),c}}function o(t,e){h[t]=m(t).concat(e)}function v(t,e){var n=h[t];if(n)for(var r=0;r<n.length;r++)n[r]===e&&n.splice(r,1)}function m(t){return h[t]||[]}function g(t){return p[t]=p[t]||i(n)}function y(t,e){l.aborted||s(t,function(t,n){e=e||\"feature\",w[n]=e,e in d||(d[e]=[])})}var h={},w={},b={on:o,addEventListener:o,removeEventListener:v,emit:n,get:g,listeners:m,context:e,buffer:y,abort:c,aborted:!1};return b}function o(t){return u(t,f,a)}function a(){return new r}function c(){(d.api||d.feature)&&(l.aborted=!0,d=l.backlog={})}var f=\"nr@context\",u=t(\"gos\"),s=t(10),d={},p={},l=e.exports=i();e.exports.getOrSetContext=o,l.backlog=d},{}],gos:[function(t,e,n){function r(t,e,n){if(i.call(t,e))return t[e];var r=n();if(Object.defineProperty&&Object.keys)try{return Object.defineProperty(t,e,{value:r,writable:!0,enumerable:!1}),r}catch(o){}return t[e]=r,r}var i=Object.prototype.hasOwnProperty;e.exports=r},{}],handle:[function(t,e,n){function r(t,e,n,r){i.buffer([t],r),i.emit(t,e,n)}var i=t(\"ee\").get(\"handle\");e.exports=r,r.ee=i},{}],id:[function(t,e,n){function r(t){var e=typeof t;return!t||\"object\"!==e&&\"function\"!==e?-1:t===window?0:a(t,o,function(){return i++})}var i=1,o=\"nr@id\",a=t(\"gos\");e.exports=r},{}],loader:[function(t,e,n){function r(){if(!P++){var t=M.info=NREUM.info,e=g.getElementsByTagName(\"script\")[0];if(setTimeout(u.abort,3e4),!(t&&t.licenseKey&&t.applicationID&&e))return u.abort();f(O,function(e,n){t[e]||(t[e]=n)});var n=a();c(\"mark\",[\"onload\",n+M.offset],null,\"api\"),c(\"timing\",[\"load\",n]);var r=g.createElement(\"script\");0===t.agent.indexOf(\"http://\")||0===t.agent.indexOf(\"https://\")?r.src=t.agent:r.src=v+\"://\"+t.agent,e.parentNode.insertBefore(r,e)}}function i(){\"complete\"===g.readyState&&o()}function o(){c(\"mark\",[\"domContent\",a()+M.offset],null,\"api\")}var a=t(5),c=t(\"handle\"),f=t(10),u=t(\"ee\"),s=t(8),d=t(6),p=t(2),l=t(3),v=p.getConfiguration(\"ssl\")===!1?\"http\":\"https\",m=window,g=m.document,y=\"addEventListener\",h=\"attachEvent\",w=m.XMLHttpRequest,b=w&&w.prototype,E=!d(m.location);NREUM.o={ST:setTimeout,SI:m.setImmediate,CT:clearTimeout,XHR:w,REQ:m.Request,EV:m.Event,PR:m.Promise,MO:m.MutationObserver};var x=\"\"+location,O={beacon:\"bam.nr-data.net\",errorBeacon:\"bam.nr-data.net\",agent:\"js-agent.newrelic.com/nr-1215.min.js\"},T=w&&b&&b[y]&&!/CriOS/.test(navigator.userAgent),M=e.exports={offset:a.getLastTimestamp(),now:a,origin:x,features:{},xhrWrappable:T,userAgent:s,disabled:E};if(!E){t(1),t(7),g[y]?(g[y](\"DOMContentLoaded\",o,l(!1)),m[y](\"load\",r,l(!1))):(g[h](\"onreadystatechange\",i),m[h](\"onload\",r)),c(\"mark\",[\"firstbyte\",a.getLastTimestamp()],null,\"api\");var P=0}},{}],\"wrap-function\":[function(t,e,n){function r(t,e){function n(e,n,r,f,u){function nrWrapper(){var o,a,s,p;try{a=this,o=d(arguments),s=\"function\"==typeof r?r(o,a):r||{}}catch(l){i([l,\"\",[o,a,f],s],t)}c(n+\"start\",[o,a,f],s,u);try{return p=e.apply(a,o)}catch(v){throw c(n+\"err\",[o,a,v],s,u),v}finally{c(n+\"end\",[o,a,p],s,u)}}return a(e)?e:(n||(n=\"\"),nrWrapper[p]=e,o(e,nrWrapper,t),nrWrapper)}function r(t,e,r,i,o){r||(r=\"\");var c,f,u,s=\"-\"===r.charAt(0);for(u=0;u<e.length;u++)f=e[u],c=t[f],a(c)||(t[f]=n(c,s?f+r:r,i,f,o))}function c(n,r,o,a){if(!v||e){var c=v;v=!0;try{t.emit(n,r,o,e,a)}catch(f){i([f,n,r,o],t)}v=c}}return t||(t=s),n.inPlace=r,n.flag=p,n}function i(t,e){e||(e=s);try{e.emit(\"internal-error\",t)}catch(n){}}function o(t,e,n){if(Object.defineProperty&&Object.keys)try{var r=Object.keys(t);return r.forEach(function(n){Object.defineProperty(e,n,{get:function(){return t[n]},set:function(e){return t[n]=e,e}})}),e}catch(o){i([o],n)}for(var a in t)l.call(t,a)&&(e[a]=t[a]);return e}function a(t){return!(t&&t instanceof Function&&t.apply&&!t[p])}function c(t,e){var n=e(t);return n[p]=t,o(t,n,s),n}function f(t,e,n){var r=t[e];t[e]=c(r,n)}function u(){for(var t=arguments.length,e=new Array(t),n=0;n<t;++n)e[n]=arguments[n];return e}var s=t(\"ee\"),d=t(11),p=\"nr@original\",l=Object.prototype.hasOwnProperty,v=!1;e.exports=r,e.exports.wrapFunction=c,e.exports.wrapInPlace=f,e.exports.argsToArray=u},{}]},{},[\"loader\"]);</script>,\n",
              " <title>Ranking de Fundos Imobiliários - Funds Explorer</title>,\n",
              " <script>\n",
              "         ! function(f, b, e, v, n, t, s) {\n",
              "             if (f.fbq) return;\n",
              "             n = f.fbq = function() {\n",
              "                 n.callMethod ?\n",
              "                     n.callMethod.apply(n, arguments) : n.queue.push(arguments)\n",
              "             };\n",
              "             if (!f._fbq) f._fbq = n;\n",
              "             n.push = n;\n",
              "             n.loaded = !0;\n",
              "             n.version = '2.0';\n",
              "             n.queue = [];\n",
              "             t = b.createElement(e);\n",
              "             t.async = !0;\n",
              "             t.src = v;\n",
              "             s = b.getElementsByTagName(e)[0];\n",
              "             s.parentNode.insertBefore(t, s)\n",
              "         }(window,\n",
              "             document, 'script', 'https://connect.facebook.net/en_US/fbevents.js');\n",
              "         fbq('init', '116146375533905'); // Insert your pixel ID here.\n",
              "         fbq('track', 'PageView');\n",
              "     </script>,\n",
              " <noscript><img height=\"1\" src=\"https://www.facebook.com/tr?id=116146375533905&amp;ev=PageView&amp;noscript=1\" style=\"display:none\" width=\"1\"/></noscript>,\n",
              " <img height=\"1\" src=\"https://www.facebook.com/tr?id=116146375533905&amp;ev=PageView&amp;noscript=1\" style=\"display:none\" width=\"1\"/>,\n",
              " <script>\n",
              "         (function(w, d, s, l, i) {\n",
              "             w[l] = w[l] || [];\n",
              "             w[l].push({\n",
              "                 'gtm.start': new Date().getTime(),\n",
              "                 event: 'gtm.js'\n",
              "             });\n",
              "             var f = d.getElementsByTagName(s)[0],\n",
              "                 j = d.createElement(s),\n",
              "                 dl = l != 'dataLayer' ? '&l=' + l : '';\n",
              "             j.async = true;\n",
              "             j.src =\n",
              "                 'https://www.googletagmanager.com/gtm.js?id=' + i + dl;\n",
              "             f.parentNode.insertBefore(j, f);\n",
              "         })(window, document, 'script', 'dataLayer', 'GTM-PRZL8BR');\n",
              "     </script>,\n",
              " <meta content=\"pt_BR\" property=\"og:locale\"/>,\n",
              " <meta content=\"website\" property=\"og:type\"/>,\n",
              " <meta content=\"https://www.fundsexplorer.com.br/ranking\" property=\"og:url\"/>,\n",
              " <meta content=\"Funds Explorer\" property=\"og:site_name\"/>,\n",
              " <meta content=\"https://www.fundsexplorer.com.br/assets/og-image-0816da80381841e4393b12135f6f570531125da8618d8fda87c2da7c88700073.jpg\" property=\"og:image\"/>,\n",
              " <meta content=\"https://www.fundsexplorer.com.br/assets/og-image-0816da80381841e4393b12135f6f570531125da8618d8fda87c2da7c88700073.jpg\" property=\"og:image:secure_url\"/>,\n",
              " <meta content=\"1200\" property=\"og:image:width\"/>,\n",
              " <meta content=\"630\" property=\"og:image:height\"/>,\n",
              " <meta content=\"summary_large_image\" name=\"twitter:card\"/>,\n",
              " <meta content=\"@FundsExplorer\" name=\"twitter:site\"/>,\n",
              " <meta content=\"https://www.fundsexplorer.com.br/assets/og-image-0816da80381841e4393b12135f6f570531125da8618d8fda87c2da7c88700073.jpg\" name=\"twitter:image\"/>,\n",
              " <meta content=\"@FundsExplorer\" name=\"twitter:creator\"/>,\n",
              " <meta content=\"index, follow\" name=\"robots\"/>,\n",
              " <meta content=\"fundsexplorer.com.br\" name=\"publisher\"/>,\n",
              " <meta content=\"user-scalable=no, initial-scale=1, maximum-scale=1, minimum-scale=1, width=device-width, height=device-height, target-densitydpi=device-dpi\" name=\"viewport\">\n",
              " <link href=\"https://fonts.googleapis.com\" rel=\"preconnect\"/>\n",
              " <link crossorigin=\"\" href=\"https://fonts.gstatic.com\" rel=\"preconnect\"/>\n",
              " <link href=\"https://fonts.googleapis.com/css2?family=Montserrat:wght@400;700;800&amp;display=swap\" rel=\"stylesheet\"/>\n",
              " <link as=\"font\" crossorigin=\"\" href=\"https://www.fundsexplorer.com.br/assets/roboto-regular-2cd6b07b7855716761250290ce3cf447ccc98e793e484294d3fa8ccbb55b016a.woff\" rel=\"preload\" type=\"font/woff\"/><link href=\"https://fonts.gstatic.com\" rel=\"preconnect\"/>\n",
              " <link as=\"font\" crossorigin=\"\" href=\"https://www.fundsexplorer.com.br/assets/roboto-bold-e7cbaf29c3812b80577cb845b5d359486242338f25620ba65260e265464fe359.woff\" rel=\"preload\" type=\"font/woff\"/>\n",
              " <link as=\"font\" crossorigin=\"\" href=\"https://www.fundsexplorer.com.br/assets/poppins-regular-ad5fb58ad11730ef707d4f28db7a83ec4804bb3e8373dc69bedd94cd7a872efc.woff\" rel=\"preload\" type=\"font/woff\"/>\n",
              " <link as=\"font\" crossorigin=\"\" href=\"https://www.fundsexplorer.com.br/assets/poppins-light-bacb75313cbb300794cdc48e6a65ec670548d466e5da3b14e42d1f245d222b96.woff\" rel=\"preload\" type=\"font/woff\"/>\n",
              " <link as=\"font\" crossorigin=\"\" href=\"https://www.fundsexplorer.com.br/assets/poppins-medium-6dfdf411a70ae4d26942efdf1034e66976435758d29f2a7d556d77e08b9e2412.woff\" rel=\"preload\" type=\"font/woff\"/>\n",
              " <link as=\"font\" crossorigin=\"\" href=\"https://www.fundsexplorer.com.br/assets/poppins-semibold-90751a7ac26ffaed4f9f9a282b3176010ea979f9df4038d33a74e02645f8a12f.woff\" rel=\"preload\" type=\"font/woff\"/>\n",
              " <link as=\"font\" crossorigin=\"\" href=\"https://www.fundsexplorer.com.br/assets/poppins-bold-28bf02b4bfe810f92b75ec4a857b9ccece7a75392663a5140d45776170a407c9.woff\" rel=\"preload\" type=\"font/woff\"/>\n",
              " <meta content=\"O ranking do Funds Explorer auxilia o investidor a pesquisar e tomar decisões mais assertivas. Conheça os melhores FIIs de acordo com cada indicador.\" name=\"description\">\n",
              " <meta content=\"O ranking do Funds Explorer auxilia o investidor a pesquisar e tomar decisões mais assertivas. Conheça os melhores FIIs de acordo com cada indicador.\" property=\"og:description\"/>\n",
              " <meta content=\"Ranking de Fundos Imobiliários - Funds Explorer\" property=\"og:title\"/>\n",
              " <meta content=\"Ranking de Fundos Imobiliários - Funds Explorer\" name=\"twitter:title\"/>\n",
              " <link href=\"https://www.fundsexplorer.com.br/ranking\" rel=\"canonical\">\n",
              " <!-- Hotjar Tracking Code for https://www.fundsexplorer.com.br/ -->\n",
              " <script>\n",
              "         (function(h,o,t,j,a,r){\n",
              "             h.hj=h.hj||function(){(h.hj.q=h.hj.q||[]).push(arguments)};\n",
              "             h._hjSettings={hjid:1183503,hjsv:6};\n",
              "             a=o.getElementsByTagName('head')[0];\n",
              "             r=o.createElement('script');r.async=1;\n",
              "             r.src=t+h._hjSettings.hjid+j+h._hjSettings.hjsv;\n",
              "             a.appendChild(r);\n",
              "         })(window,document,'https://static.hotjar.com/c/hotjar-','.js?sv=');\n",
              "     </script>\n",
              " <link href=\"/assets/favicon/apple-touch-icon-44ef885b225b78ca364401a65eb92e8e1a32447e44e4cc450c0d0af3d82c5c31.png\" rel=\"apple-touch-icon\" sizes=\"180x180\"/>\n",
              " <link href=\"/assets/favicon/favicon-32x32-62f6aacd7a6c99219e86b4a6c140f7a8acfc6053f8d98a5655e536ca6d8fa675.png\" rel=\"icon\" sizes=\"32x32\" type=\"image/png\"/>\n",
              " <link href=\"/assets/favicon/favicon-16x16-20d8ccbcf748d21abeda416d0972cee05a5a0f85e718d55f16191e762ab97cd7.png\" rel=\"icon\" sizes=\"16x16\" type=\"image/png\"/>\n",
              " <link href=\"/assets/favicon/site-865960af7b2e68f85fff7a4bc84e9d9209c01649f303579749b0f19c3d46b168.webmanifest\" rel=\"manifest\"/>\n",
              " <link color=\"#09aac8\" href=\"/assets/favicon/safari-pinned-tab-43a00e43cf209aa71bb4e37ea4d86708c6cfa9e50877ed4ad6668dbed64a394a.svg\" rel=\"mask-icon\"/>\n",
              " <link href=\"/assets/favicon/favicon-42a2d8bc26ccaf8666f9f0a22559e1c144f1bd2b7a73008674b6e5ee9eb21bd2.ico\" rel=\"shortcut icon\"/>\n",
              " <meta content=\"#2b5797\" name=\"msapplication-TileColor\"/>\n",
              " <meta content=\"/assets/favicon/mstile-144x144-b57ec78adf4959903834172ecf9e783789dc2a54552a84adf4e2529e1af3c19e.png\" name=\"msapplication-TileImage\"/>\n",
              " <meta content=\"/assets/favicon/browserconfig-b277ccf9dd97fd937ead695a86ffb5e5b734d5aa624e225a6d4685424880f674.xml\" name=\"msapplication-config\"/>\n",
              " <meta content=\"#ffffff\" name=\"theme-color\"/>\n",
              " <link data-turbolinks-track=\"false\" href=\"/assets/redesign/application-f854be09416b62a328af4af6f8ad3c01b71d2204a5085d2aced46b689cddf6fa.css\" media=\"all\" rel=\"stylesheet\">\n",
              " <meta content=\"authenticity_token\" name=\"csrf-param\">\n",
              " <meta content=\"oZ7zbwFEOF8YQD/2HcsIdeJRNCqjrebmHeo1E5/0Vj6SfMMuzeXmw+8TvjjBGggesmiMkWaU6DzohpFQ9LxIyg==\" name=\"csrf-token\">\n",
              " </meta></meta></link></link></meta></meta>,\n",
              " <link href=\"https://fonts.googleapis.com\" rel=\"preconnect\"/>,\n",
              " <link crossorigin=\"\" href=\"https://fonts.gstatic.com\" rel=\"preconnect\"/>,\n",
              " <link href=\"https://fonts.googleapis.com/css2?family=Montserrat:wght@400;700;800&amp;display=swap\" rel=\"stylesheet\"/>,\n",
              " <link as=\"font\" crossorigin=\"\" href=\"https://www.fundsexplorer.com.br/assets/roboto-regular-2cd6b07b7855716761250290ce3cf447ccc98e793e484294d3fa8ccbb55b016a.woff\" rel=\"preload\" type=\"font/woff\"/>,\n",
              " <link href=\"https://fonts.gstatic.com\" rel=\"preconnect\"/>,\n",
              " <link as=\"font\" crossorigin=\"\" href=\"https://www.fundsexplorer.com.br/assets/roboto-bold-e7cbaf29c3812b80577cb845b5d359486242338f25620ba65260e265464fe359.woff\" rel=\"preload\" type=\"font/woff\"/>,\n",
              " <link as=\"font\" crossorigin=\"\" href=\"https://www.fundsexplorer.com.br/assets/poppins-regular-ad5fb58ad11730ef707d4f28db7a83ec4804bb3e8373dc69bedd94cd7a872efc.woff\" rel=\"preload\" type=\"font/woff\"/>,\n",
              " <link as=\"font\" crossorigin=\"\" href=\"https://www.fundsexplorer.com.br/assets/poppins-light-bacb75313cbb300794cdc48e6a65ec670548d466e5da3b14e42d1f245d222b96.woff\" rel=\"preload\" type=\"font/woff\"/>,\n",
              " <link as=\"font\" crossorigin=\"\" href=\"https://www.fundsexplorer.com.br/assets/poppins-medium-6dfdf411a70ae4d26942efdf1034e66976435758d29f2a7d556d77e08b9e2412.woff\" rel=\"preload\" type=\"font/woff\"/>,\n",
              " <link as=\"font\" crossorigin=\"\" href=\"https://www.fundsexplorer.com.br/assets/poppins-semibold-90751a7ac26ffaed4f9f9a282b3176010ea979f9df4038d33a74e02645f8a12f.woff\" rel=\"preload\" type=\"font/woff\"/>,\n",
              " <link as=\"font\" crossorigin=\"\" href=\"https://www.fundsexplorer.com.br/assets/poppins-bold-28bf02b4bfe810f92b75ec4a857b9ccece7a75392663a5140d45776170a407c9.woff\" rel=\"preload\" type=\"font/woff\"/>,\n",
              " <meta content=\"O ranking do Funds Explorer auxilia o investidor a pesquisar e tomar decisões mais assertivas. Conheça os melhores FIIs de acordo com cada indicador.\" name=\"description\">\n",
              " <meta content=\"O ranking do Funds Explorer auxilia o investidor a pesquisar e tomar decisões mais assertivas. Conheça os melhores FIIs de acordo com cada indicador.\" property=\"og:description\"/>\n",
              " <meta content=\"Ranking de Fundos Imobiliários - Funds Explorer\" property=\"og:title\"/>\n",
              " <meta content=\"Ranking de Fundos Imobiliários - Funds Explorer\" name=\"twitter:title\"/>\n",
              " <link href=\"https://www.fundsexplorer.com.br/ranking\" rel=\"canonical\">\n",
              " <!-- Hotjar Tracking Code for https://www.fundsexplorer.com.br/ -->\n",
              " <script>\n",
              "         (function(h,o,t,j,a,r){\n",
              "             h.hj=h.hj||function(){(h.hj.q=h.hj.q||[]).push(arguments)};\n",
              "             h._hjSettings={hjid:1183503,hjsv:6};\n",
              "             a=o.getElementsByTagName('head')[0];\n",
              "             r=o.createElement('script');r.async=1;\n",
              "             r.src=t+h._hjSettings.hjid+j+h._hjSettings.hjsv;\n",
              "             a.appendChild(r);\n",
              "         })(window,document,'https://static.hotjar.com/c/hotjar-','.js?sv=');\n",
              "     </script>\n",
              " <link href=\"/assets/favicon/apple-touch-icon-44ef885b225b78ca364401a65eb92e8e1a32447e44e4cc450c0d0af3d82c5c31.png\" rel=\"apple-touch-icon\" sizes=\"180x180\"/>\n",
              " <link href=\"/assets/favicon/favicon-32x32-62f6aacd7a6c99219e86b4a6c140f7a8acfc6053f8d98a5655e536ca6d8fa675.png\" rel=\"icon\" sizes=\"32x32\" type=\"image/png\"/>\n",
              " <link href=\"/assets/favicon/favicon-16x16-20d8ccbcf748d21abeda416d0972cee05a5a0f85e718d55f16191e762ab97cd7.png\" rel=\"icon\" sizes=\"16x16\" type=\"image/png\"/>\n",
              " <link href=\"/assets/favicon/site-865960af7b2e68f85fff7a4bc84e9d9209c01649f303579749b0f19c3d46b168.webmanifest\" rel=\"manifest\"/>\n",
              " <link color=\"#09aac8\" href=\"/assets/favicon/safari-pinned-tab-43a00e43cf209aa71bb4e37ea4d86708c6cfa9e50877ed4ad6668dbed64a394a.svg\" rel=\"mask-icon\"/>\n",
              " <link href=\"/assets/favicon/favicon-42a2d8bc26ccaf8666f9f0a22559e1c144f1bd2b7a73008674b6e5ee9eb21bd2.ico\" rel=\"shortcut icon\"/>\n",
              " <meta content=\"#2b5797\" name=\"msapplication-TileColor\"/>\n",
              " <meta content=\"/assets/favicon/mstile-144x144-b57ec78adf4959903834172ecf9e783789dc2a54552a84adf4e2529e1af3c19e.png\" name=\"msapplication-TileImage\"/>\n",
              " <meta content=\"/assets/favicon/browserconfig-b277ccf9dd97fd937ead695a86ffb5e5b734d5aa624e225a6d4685424880f674.xml\" name=\"msapplication-config\"/>\n",
              " <meta content=\"#ffffff\" name=\"theme-color\"/>\n",
              " <link data-turbolinks-track=\"false\" href=\"/assets/redesign/application-f854be09416b62a328af4af6f8ad3c01b71d2204a5085d2aced46b689cddf6fa.css\" media=\"all\" rel=\"stylesheet\">\n",
              " <meta content=\"authenticity_token\" name=\"csrf-param\">\n",
              " <meta content=\"oZ7zbwFEOF8YQD/2HcsIdeJRNCqjrebmHeo1E5/0Vj6SfMMuzeXmw+8TvjjBGggesmiMkWaU6DzohpFQ9LxIyg==\" name=\"csrf-token\">\n",
              " </meta></meta></link></link></meta>,\n",
              " <meta content=\"O ranking do Funds Explorer auxilia o investidor a pesquisar e tomar decisões mais assertivas. Conheça os melhores FIIs de acordo com cada indicador.\" property=\"og:description\"/>,\n",
              " <meta content=\"Ranking de Fundos Imobiliários - Funds Explorer\" property=\"og:title\"/>,\n",
              " <meta content=\"Ranking de Fundos Imobiliários - Funds Explorer\" name=\"twitter:title\"/>,\n",
              " <link href=\"https://www.fundsexplorer.com.br/ranking\" rel=\"canonical\">\n",
              " <!-- Hotjar Tracking Code for https://www.fundsexplorer.com.br/ -->\n",
              " <script>\n",
              "         (function(h,o,t,j,a,r){\n",
              "             h.hj=h.hj||function(){(h.hj.q=h.hj.q||[]).push(arguments)};\n",
              "             h._hjSettings={hjid:1183503,hjsv:6};\n",
              "             a=o.getElementsByTagName('head')[0];\n",
              "             r=o.createElement('script');r.async=1;\n",
              "             r.src=t+h._hjSettings.hjid+j+h._hjSettings.hjsv;\n",
              "             a.appendChild(r);\n",
              "         })(window,document,'https://static.hotjar.com/c/hotjar-','.js?sv=');\n",
              "     </script>\n",
              " <link href=\"/assets/favicon/apple-touch-icon-44ef885b225b78ca364401a65eb92e8e1a32447e44e4cc450c0d0af3d82c5c31.png\" rel=\"apple-touch-icon\" sizes=\"180x180\"/>\n",
              " <link href=\"/assets/favicon/favicon-32x32-62f6aacd7a6c99219e86b4a6c140f7a8acfc6053f8d98a5655e536ca6d8fa675.png\" rel=\"icon\" sizes=\"32x32\" type=\"image/png\"/>\n",
              " <link href=\"/assets/favicon/favicon-16x16-20d8ccbcf748d21abeda416d0972cee05a5a0f85e718d55f16191e762ab97cd7.png\" rel=\"icon\" sizes=\"16x16\" type=\"image/png\"/>\n",
              " <link href=\"/assets/favicon/site-865960af7b2e68f85fff7a4bc84e9d9209c01649f303579749b0f19c3d46b168.webmanifest\" rel=\"manifest\"/>\n",
              " <link color=\"#09aac8\" href=\"/assets/favicon/safari-pinned-tab-43a00e43cf209aa71bb4e37ea4d86708c6cfa9e50877ed4ad6668dbed64a394a.svg\" rel=\"mask-icon\"/>\n",
              " <link href=\"/assets/favicon/favicon-42a2d8bc26ccaf8666f9f0a22559e1c144f1bd2b7a73008674b6e5ee9eb21bd2.ico\" rel=\"shortcut icon\"/>\n",
              " <meta content=\"#2b5797\" name=\"msapplication-TileColor\"/>\n",
              " <meta content=\"/assets/favicon/mstile-144x144-b57ec78adf4959903834172ecf9e783789dc2a54552a84adf4e2529e1af3c19e.png\" name=\"msapplication-TileImage\"/>\n",
              " <meta content=\"/assets/favicon/browserconfig-b277ccf9dd97fd937ead695a86ffb5e5b734d5aa624e225a6d4685424880f674.xml\" name=\"msapplication-config\"/>\n",
              " <meta content=\"#ffffff\" name=\"theme-color\"/>\n",
              " <link data-turbolinks-track=\"false\" href=\"/assets/redesign/application-f854be09416b62a328af4af6f8ad3c01b71d2204a5085d2aced46b689cddf6fa.css\" media=\"all\" rel=\"stylesheet\">\n",
              " <meta content=\"authenticity_token\" name=\"csrf-param\">\n",
              " <meta content=\"oZ7zbwFEOF8YQD/2HcsIdeJRNCqjrebmHeo1E5/0Vj6SfMMuzeXmw+8TvjjBGggesmiMkWaU6DzohpFQ9LxIyg==\" name=\"csrf-token\">\n",
              " </meta></meta></link></link>,\n",
              " <script>\n",
              "         (function(h,o,t,j,a,r){\n",
              "             h.hj=h.hj||function(){(h.hj.q=h.hj.q||[]).push(arguments)};\n",
              "             h._hjSettings={hjid:1183503,hjsv:6};\n",
              "             a=o.getElementsByTagName('head')[0];\n",
              "             r=o.createElement('script');r.async=1;\n",
              "             r.src=t+h._hjSettings.hjid+j+h._hjSettings.hjsv;\n",
              "             a.appendChild(r);\n",
              "         })(window,document,'https://static.hotjar.com/c/hotjar-','.js?sv=');\n",
              "     </script>,\n",
              " <link href=\"/assets/favicon/apple-touch-icon-44ef885b225b78ca364401a65eb92e8e1a32447e44e4cc450c0d0af3d82c5c31.png\" rel=\"apple-touch-icon\" sizes=\"180x180\"/>,\n",
              " <link href=\"/assets/favicon/favicon-32x32-62f6aacd7a6c99219e86b4a6c140f7a8acfc6053f8d98a5655e536ca6d8fa675.png\" rel=\"icon\" sizes=\"32x32\" type=\"image/png\"/>,\n",
              " <link href=\"/assets/favicon/favicon-16x16-20d8ccbcf748d21abeda416d0972cee05a5a0f85e718d55f16191e762ab97cd7.png\" rel=\"icon\" sizes=\"16x16\" type=\"image/png\"/>,\n",
              " <link href=\"/assets/favicon/site-865960af7b2e68f85fff7a4bc84e9d9209c01649f303579749b0f19c3d46b168.webmanifest\" rel=\"manifest\"/>,\n",
              " <link color=\"#09aac8\" href=\"/assets/favicon/safari-pinned-tab-43a00e43cf209aa71bb4e37ea4d86708c6cfa9e50877ed4ad6668dbed64a394a.svg\" rel=\"mask-icon\"/>,\n",
              " <link href=\"/assets/favicon/favicon-42a2d8bc26ccaf8666f9f0a22559e1c144f1bd2b7a73008674b6e5ee9eb21bd2.ico\" rel=\"shortcut icon\"/>,\n",
              " <meta content=\"#2b5797\" name=\"msapplication-TileColor\"/>,\n",
              " <meta content=\"/assets/favicon/mstile-144x144-b57ec78adf4959903834172ecf9e783789dc2a54552a84adf4e2529e1af3c19e.png\" name=\"msapplication-TileImage\"/>,\n",
              " <meta content=\"/assets/favicon/browserconfig-b277ccf9dd97fd937ead695a86ffb5e5b734d5aa624e225a6d4685424880f674.xml\" name=\"msapplication-config\"/>,\n",
              " <meta content=\"#ffffff\" name=\"theme-color\"/>,\n",
              " <link data-turbolinks-track=\"false\" href=\"/assets/redesign/application-f854be09416b62a328af4af6f8ad3c01b71d2204a5085d2aced46b689cddf6fa.css\" media=\"all\" rel=\"stylesheet\">\n",
              " <meta content=\"authenticity_token\" name=\"csrf-param\">\n",
              " <meta content=\"oZ7zbwFEOF8YQD/2HcsIdeJRNCqjrebmHeo1E5/0Vj6SfMMuzeXmw+8TvjjBGggesmiMkWaU6DzohpFQ9LxIyg==\" name=\"csrf-token\">\n",
              " </meta></meta></link>,\n",
              " <meta content=\"authenticity_token\" name=\"csrf-param\">\n",
              " <meta content=\"oZ7zbwFEOF8YQD/2HcsIdeJRNCqjrebmHeo1E5/0Vj6SfMMuzeXmw+8TvjjBGggesmiMkWaU6DzohpFQ9LxIyg==\" name=\"csrf-token\">\n",
              " </meta></meta>,\n",
              " <meta content=\"oZ7zbwFEOF8YQD/2HcsIdeJRNCqjrebmHeo1E5/0Vj6SfMMuzeXmw+8TvjjBGggesmiMkWaU6DzohpFQ9LxIyg==\" name=\"csrf-token\">\n",
              " </meta>]"
            ]
          },
          "execution_count": 5,
          "metadata": {},
          "output_type": "execute_result"
        }
      ],
      "source": [
        "# Analisar o arquivo com a BeutifulSoup (HTML parsing)\n",
        "\n",
        "FII_bs4 = BeautifulSoup(FII_url.text, \"html.parser\")\n",
        "FII_bs4.head()"
      ]
    },
    {
      "cell_type": "code",
      "execution_count": null,
      "metadata": {
        "id": "fp5uE4Ek0EMh"
      },
      "outputs": [],
      "source": [
        "# Extração da tabela. Antes devemos inspecionar o Ambiente de Desenvolvedor no próprio site (F12)\n",
        "\n",
        "FII_table = FII_bs4.findAll(attrs = {'id': 'scroll-wrapper'})\n",
        "table = FII_table[0].findAll('table')"
      ]
    },
    {
      "cell_type": "code",
      "execution_count": null,
      "metadata": {
        "colab": {
          "base_uri": "https://localhost:8080/"
        },
        "id": "yJURxBtS0EMh",
        "outputId": "b29dcfc8-8e67-4427-94c8-da4d2b9164b6"
      },
      "outputs": [
        {
          "data": {
            "text/plain": [
              "bs4.element.ResultSet"
            ]
          },
          "execution_count": 7,
          "metadata": {},
          "output_type": "execute_result"
        }
      ],
      "source": [
        "# Output gigante, mas vemos que é um objeto Result Set de bs4\n",
        "\n",
        "type(table)"
      ]
    },
    {
      "cell_type": "code",
      "execution_count": null,
      "metadata": {
        "id": "XsOzFoEX0EMh"
      },
      "outputs": [],
      "source": [
        "# Transformar o <table>...</table> em um Pandas DataFrame\n",
        "# Vamos substituir o separador de casas decimais (na página estão como vírgula) por '.' \n",
        "\n",
        "FII_df = pd.read_html(str(FII_table[0]))[0]"
      ]
    },
    {
      "cell_type": "code",
      "execution_count": null,
      "metadata": {
        "colab": {
          "base_uri": "https://localhost:8080/",
          "height": 696
        },
        "id": "rA9iwZOX0EMi",
        "outputId": "dae05028-c1c4-46cd-c433-99fbc948f034"
      },
      "outputs": [
        {
          "data": {
            "text/html": [
              "\n",
              "  <div id=\"df-49c74cb3-b822-40b0-95ec-4360c88bca1e\">\n",
              "    <div class=\"colab-df-container\">\n",
              "      <div>\n",
              "<style scoped>\n",
              "    .dataframe tbody tr th:only-of-type {\n",
              "        vertical-align: middle;\n",
              "    }\n",
              "\n",
              "    .dataframe tbody tr th {\n",
              "        vertical-align: top;\n",
              "    }\n",
              "\n",
              "    .dataframe thead th {\n",
              "        text-align: right;\n",
              "    }\n",
              "</style>\n",
              "<table border=\"1\" class=\"dataframe\">\n",
              "  <thead>\n",
              "    <tr style=\"text-align: right;\">\n",
              "      <th></th>\n",
              "      <th>Códigodo fundo</th>\n",
              "      <th>Setor</th>\n",
              "      <th>Preço Atual</th>\n",
              "      <th>Liquidez Diária</th>\n",
              "      <th>Dividendo</th>\n",
              "      <th>DividendYield</th>\n",
              "      <th>DY (3M)Acumulado</th>\n",
              "      <th>DY (6M)Acumulado</th>\n",
              "      <th>DY (12M)Acumulado</th>\n",
              "      <th>DY (3M)Média</th>\n",
              "      <th>...</th>\n",
              "      <th>PatrimônioLíq.</th>\n",
              "      <th>VPA</th>\n",
              "      <th>P/VPA</th>\n",
              "      <th>DYPatrimonial</th>\n",
              "      <th>VariaçãoPatrimonial</th>\n",
              "      <th>Rentab. Patr.no Período</th>\n",
              "      <th>Rentab. Patr.Acumulada</th>\n",
              "      <th>VacânciaFísica</th>\n",
              "      <th>VacânciaFinanceira</th>\n",
              "      <th>QuantidadeAtivos</th>\n",
              "    </tr>\n",
              "  </thead>\n",
              "  <tbody>\n",
              "    <tr>\n",
              "      <th>0</th>\n",
              "      <td>FIVN11</td>\n",
              "      <td>Shoppings</td>\n",
              "      <td>R$ 2,31</td>\n",
              "      <td>15952.0</td>\n",
              "      <td>R$ 0,00</td>\n",
              "      <td>0,00%</td>\n",
              "      <td>0,00%</td>\n",
              "      <td>0,00%</td>\n",
              "      <td>0,00%</td>\n",
              "      <td>0,00%</td>\n",
              "      <td>...</td>\n",
              "      <td>R$ 65.746.443,59</td>\n",
              "      <td>R$ 6,98</td>\n",
              "      <td>33.0</td>\n",
              "      <td>NaN</td>\n",
              "      <td>NaN</td>\n",
              "      <td>NaN</td>\n",
              "      <td>NaN</td>\n",
              "      <td>56,00%</td>\n",
              "      <td>NaN</td>\n",
              "      <td>1</td>\n",
              "    </tr>\n",
              "    <tr>\n",
              "      <th>1</th>\n",
              "      <td>BZLI11</td>\n",
              "      <td>Títulos e Val. Mob.</td>\n",
              "      <td>R$ 14,70</td>\n",
              "      <td>44041.0</td>\n",
              "      <td>R$ 0,00</td>\n",
              "      <td>0,00%</td>\n",
              "      <td>0,00%</td>\n",
              "      <td>0,00%</td>\n",
              "      <td>0,00%</td>\n",
              "      <td>0,00%</td>\n",
              "      <td>...</td>\n",
              "      <td>R$ 432.739.853,66</td>\n",
              "      <td>R$ 10,89</td>\n",
              "      <td>135.0</td>\n",
              "      <td>NaN</td>\n",
              "      <td>NaN</td>\n",
              "      <td>NaN</td>\n",
              "      <td>NaN</td>\n",
              "      <td>NaN</td>\n",
              "      <td>NaN</td>\n",
              "      <td>0</td>\n",
              "    </tr>\n",
              "    <tr>\n",
              "      <th>2</th>\n",
              "      <td>XTED11</td>\n",
              "      <td>Lajes Corporativas</td>\n",
              "      <td>R$ 6,23</td>\n",
              "      <td>93.0</td>\n",
              "      <td>R$ 0,00</td>\n",
              "      <td>0,00%</td>\n",
              "      <td>0,00%</td>\n",
              "      <td>0,00%</td>\n",
              "      <td>0,00%</td>\n",
              "      <td>0,00%</td>\n",
              "      <td>...</td>\n",
              "      <td>R$ 27.391.929,40</td>\n",
              "      <td>R$ 13,94</td>\n",
              "      <td>45.0</td>\n",
              "      <td>NaN</td>\n",
              "      <td>NaN</td>\n",
              "      <td>NaN</td>\n",
              "      <td>NaN</td>\n",
              "      <td>0,00%</td>\n",
              "      <td>100,00%</td>\n",
              "      <td>1</td>\n",
              "    </tr>\n",
              "    <tr>\n",
              "      <th>3</th>\n",
              "      <td>ALMI11</td>\n",
              "      <td>Lajes Corporativas</td>\n",
              "      <td>R$ 945,00</td>\n",
              "      <td>39.0</td>\n",
              "      <td>R$ 0,00</td>\n",
              "      <td>0,00%</td>\n",
              "      <td>0,00%</td>\n",
              "      <td>0,00%</td>\n",
              "      <td>0,00%</td>\n",
              "      <td>0,00%</td>\n",
              "      <td>...</td>\n",
              "      <td>R$ 250.487.663,18</td>\n",
              "      <td>R$ 2.253,05</td>\n",
              "      <td>42.0</td>\n",
              "      <td>NaN</td>\n",
              "      <td>NaN</td>\n",
              "      <td>NaN</td>\n",
              "      <td>NaN</td>\n",
              "      <td>64,05%</td>\n",
              "      <td>NaN</td>\n",
              "      <td>1</td>\n",
              "    </tr>\n",
              "    <tr>\n",
              "      <th>4</th>\n",
              "      <td>PABY11</td>\n",
              "      <td>Híbrido</td>\n",
              "      <td>R$ 8,34</td>\n",
              "      <td>1.0</td>\n",
              "      <td>R$ 0,00</td>\n",
              "      <td>0,00%</td>\n",
              "      <td>0,00%</td>\n",
              "      <td>0,00%</td>\n",
              "      <td>0,00%</td>\n",
              "      <td>0,00%</td>\n",
              "      <td>...</td>\n",
              "      <td>R$ -8.707.885,16</td>\n",
              "      <td>R$ -11,48</td>\n",
              "      <td>-73.0</td>\n",
              "      <td>NaN</td>\n",
              "      <td>NaN</td>\n",
              "      <td>NaN</td>\n",
              "      <td>NaN</td>\n",
              "      <td>NaN</td>\n",
              "      <td>NaN</td>\n",
              "      <td>1</td>\n",
              "    </tr>\n",
              "    <tr>\n",
              "      <th>...</th>\n",
              "      <td>...</td>\n",
              "      <td>...</td>\n",
              "      <td>...</td>\n",
              "      <td>...</td>\n",
              "      <td>...</td>\n",
              "      <td>...</td>\n",
              "      <td>...</td>\n",
              "      <td>...</td>\n",
              "      <td>...</td>\n",
              "      <td>...</td>\n",
              "      <td>...</td>\n",
              "      <td>...</td>\n",
              "      <td>...</td>\n",
              "      <td>...</td>\n",
              "      <td>...</td>\n",
              "      <td>...</td>\n",
              "      <td>...</td>\n",
              "      <td>...</td>\n",
              "      <td>...</td>\n",
              "      <td>...</td>\n",
              "      <td>...</td>\n",
              "    </tr>\n",
              "    <tr>\n",
              "      <th>272</th>\n",
              "      <td>VJFD11</td>\n",
              "      <td>Híbrido</td>\n",
              "      <td>NaN</td>\n",
              "      <td>NaN</td>\n",
              "      <td>R$ 0,86</td>\n",
              "      <td>0,00%</td>\n",
              "      <td>0,00%</td>\n",
              "      <td>0,00%</td>\n",
              "      <td>0,00%</td>\n",
              "      <td>0,00%</td>\n",
              "      <td>...</td>\n",
              "      <td>R$ 650.064.545,92</td>\n",
              "      <td>R$ 133,32</td>\n",
              "      <td>NaN</td>\n",
              "      <td>NaN</td>\n",
              "      <td>NaN</td>\n",
              "      <td>NaN</td>\n",
              "      <td>NaN</td>\n",
              "      <td>NaN</td>\n",
              "      <td>NaN</td>\n",
              "      <td>0</td>\n",
              "    </tr>\n",
              "    <tr>\n",
              "      <th>273</th>\n",
              "      <td>WTSP11B</td>\n",
              "      <td>Híbrido</td>\n",
              "      <td>R$ 40,10</td>\n",
              "      <td>12.0</td>\n",
              "      <td>R$ 0,48</td>\n",
              "      <td>1,01%</td>\n",
              "      <td>2,53%</td>\n",
              "      <td>4,46%</td>\n",
              "      <td>6,33%</td>\n",
              "      <td>0,84%</td>\n",
              "      <td>...</td>\n",
              "      <td>R$ 77.799.824,27</td>\n",
              "      <td>R$ 78,38</td>\n",
              "      <td>51.0</td>\n",
              "      <td>0,40%</td>\n",
              "      <td>3,55%</td>\n",
              "      <td>3,97%</td>\n",
              "      <td>3,97%</td>\n",
              "      <td>NaN</td>\n",
              "      <td>NaN</td>\n",
              "      <td>0</td>\n",
              "    </tr>\n",
              "    <tr>\n",
              "      <th>274</th>\n",
              "      <td>BTRA11</td>\n",
              "      <td>Outros</td>\n",
              "      <td>R$ 99,46</td>\n",
              "      <td>8311.0</td>\n",
              "      <td>R$ 0,90</td>\n",
              "      <td>0,92%</td>\n",
              "      <td>2,81%</td>\n",
              "      <td>4,99%</td>\n",
              "      <td>0,00%</td>\n",
              "      <td>0,94%</td>\n",
              "      <td>...</td>\n",
              "      <td>R$ 347.617.328,85</td>\n",
              "      <td>R$ 103,32</td>\n",
              "      <td>96.0</td>\n",
              "      <td>NaN</td>\n",
              "      <td>NaN</td>\n",
              "      <td>NaN</td>\n",
              "      <td>NaN</td>\n",
              "      <td>NaN</td>\n",
              "      <td>NaN</td>\n",
              "      <td>0</td>\n",
              "    </tr>\n",
              "    <tr>\n",
              "      <th>275</th>\n",
              "      <td>EDGA11</td>\n",
              "      <td>Lajes Corporativas</td>\n",
              "      <td>R$ 19,66</td>\n",
              "      <td>7731.0</td>\n",
              "      <td>R$ 0,11</td>\n",
              "      <td>0,49%</td>\n",
              "      <td>1,29%</td>\n",
              "      <td>2,71%</td>\n",
              "      <td>6,04%</td>\n",
              "      <td>0,43%</td>\n",
              "      <td>...</td>\n",
              "      <td>R$ 252.515.454,02</td>\n",
              "      <td>R$ 66,24</td>\n",
              "      <td>30.0</td>\n",
              "      <td>0,16%</td>\n",
              "      <td>0,00%</td>\n",
              "      <td>0,16%</td>\n",
              "      <td>0,16%</td>\n",
              "      <td>48,81%</td>\n",
              "      <td>NaN</td>\n",
              "      <td>1</td>\n",
              "    </tr>\n",
              "    <tr>\n",
              "      <th>276</th>\n",
              "      <td>RBGS11</td>\n",
              "      <td>Shoppings</td>\n",
              "      <td>R$ 28,45</td>\n",
              "      <td>5157.0</td>\n",
              "      <td>R$ 0,18</td>\n",
              "      <td>0,62%</td>\n",
              "      <td>1,59%</td>\n",
              "      <td>2,73%</td>\n",
              "      <td>5,12%</td>\n",
              "      <td>0,53%</td>\n",
              "      <td>...</td>\n",
              "      <td>R$ 97.865.283,71</td>\n",
              "      <td>R$ 90,78</td>\n",
              "      <td>31.0</td>\n",
              "      <td>0,18%</td>\n",
              "      <td>0,00%</td>\n",
              "      <td>0,18%</td>\n",
              "      <td>1,17%</td>\n",
              "      <td>13,00%</td>\n",
              "      <td>NaN</td>\n",
              "      <td>1</td>\n",
              "    </tr>\n",
              "  </tbody>\n",
              "</table>\n",
              "<p>277 rows × 26 columns</p>\n",
              "</div>\n",
              "      <button class=\"colab-df-convert\" onclick=\"convertToInteractive('df-49c74cb3-b822-40b0-95ec-4360c88bca1e')\"\n",
              "              title=\"Convert this dataframe to an interactive table.\"\n",
              "              style=\"display:none;\">\n",
              "        \n",
              "  <svg xmlns=\"http://www.w3.org/2000/svg\" height=\"24px\"viewBox=\"0 0 24 24\"\n",
              "       width=\"24px\">\n",
              "    <path d=\"M0 0h24v24H0V0z\" fill=\"none\"/>\n",
              "    <path d=\"M18.56 5.44l.94 2.06.94-2.06 2.06-.94-2.06-.94-.94-2.06-.94 2.06-2.06.94zm-11 1L8.5 8.5l.94-2.06 2.06-.94-2.06-.94L8.5 2.5l-.94 2.06-2.06.94zm10 10l.94 2.06.94-2.06 2.06-.94-2.06-.94-.94-2.06-.94 2.06-2.06.94z\"/><path d=\"M17.41 7.96l-1.37-1.37c-.4-.4-.92-.59-1.43-.59-.52 0-1.04.2-1.43.59L10.3 9.45l-7.72 7.72c-.78.78-.78 2.05 0 2.83L4 21.41c.39.39.9.59 1.41.59.51 0 1.02-.2 1.41-.59l7.78-7.78 2.81-2.81c.8-.78.8-2.07 0-2.86zM5.41 20L4 18.59l7.72-7.72 1.47 1.35L5.41 20z\"/>\n",
              "  </svg>\n",
              "      </button>\n",
              "      \n",
              "  <style>\n",
              "    .colab-df-container {\n",
              "      display:flex;\n",
              "      flex-wrap:wrap;\n",
              "      gap: 12px;\n",
              "    }\n",
              "\n",
              "    .colab-df-convert {\n",
              "      background-color: #E8F0FE;\n",
              "      border: none;\n",
              "      border-radius: 50%;\n",
              "      cursor: pointer;\n",
              "      display: none;\n",
              "      fill: #1967D2;\n",
              "      height: 32px;\n",
              "      padding: 0 0 0 0;\n",
              "      width: 32px;\n",
              "    }\n",
              "\n",
              "    .colab-df-convert:hover {\n",
              "      background-color: #E2EBFA;\n",
              "      box-shadow: 0px 1px 2px rgba(60, 64, 67, 0.3), 0px 1px 3px 1px rgba(60, 64, 67, 0.15);\n",
              "      fill: #174EA6;\n",
              "    }\n",
              "\n",
              "    [theme=dark] .colab-df-convert {\n",
              "      background-color: #3B4455;\n",
              "      fill: #D2E3FC;\n",
              "    }\n",
              "\n",
              "    [theme=dark] .colab-df-convert:hover {\n",
              "      background-color: #434B5C;\n",
              "      box-shadow: 0px 1px 3px 1px rgba(0, 0, 0, 0.15);\n",
              "      filter: drop-shadow(0px 1px 2px rgba(0, 0, 0, 0.3));\n",
              "      fill: #FFFFFF;\n",
              "    }\n",
              "  </style>\n",
              "\n",
              "      <script>\n",
              "        const buttonEl =\n",
              "          document.querySelector('#df-49c74cb3-b822-40b0-95ec-4360c88bca1e button.colab-df-convert');\n",
              "        buttonEl.style.display =\n",
              "          google.colab.kernel.accessAllowed ? 'block' : 'none';\n",
              "\n",
              "        async function convertToInteractive(key) {\n",
              "          const element = document.querySelector('#df-49c74cb3-b822-40b0-95ec-4360c88bca1e');\n",
              "          const dataTable =\n",
              "            await google.colab.kernel.invokeFunction('convertToInteractive',\n",
              "                                                     [key], {});\n",
              "          if (!dataTable) return;\n",
              "\n",
              "          const docLinkHtml = 'Like what you see? Visit the ' +\n",
              "            '<a target=\"_blank\" href=https://colab.research.google.com/notebooks/data_table.ipynb>data table notebook</a>'\n",
              "            + ' to learn more about interactive tables.';\n",
              "          element.innerHTML = '';\n",
              "          dataTable['output_type'] = 'display_data';\n",
              "          await google.colab.output.renderOutput(dataTable, element);\n",
              "          const docLink = document.createElement('div');\n",
              "          docLink.innerHTML = docLinkHtml;\n",
              "          element.appendChild(docLink);\n",
              "        }\n",
              "      </script>\n",
              "    </div>\n",
              "  </div>\n",
              "  "
            ],
            "text/plain": [
              "    Códigodo fundo                Setor Preço Atual  Liquidez Diária  \\\n",
              "0           FIVN11            Shoppings     R$ 2,31          15952.0   \n",
              "1           BZLI11  Títulos e Val. Mob.    R$ 14,70          44041.0   \n",
              "2           XTED11   Lajes Corporativas     R$ 6,23             93.0   \n",
              "3           ALMI11   Lajes Corporativas   R$ 945,00             39.0   \n",
              "4           PABY11              Híbrido     R$ 8,34              1.0   \n",
              "..             ...                  ...         ...              ...   \n",
              "272         VJFD11              Híbrido         NaN              NaN   \n",
              "273        WTSP11B              Híbrido    R$ 40,10             12.0   \n",
              "274         BTRA11               Outros    R$ 99,46           8311.0   \n",
              "275         EDGA11   Lajes Corporativas    R$ 19,66           7731.0   \n",
              "276         RBGS11            Shoppings    R$ 28,45           5157.0   \n",
              "\n",
              "    Dividendo DividendYield DY (3M)Acumulado DY (6M)Acumulado  \\\n",
              "0     R$ 0,00         0,00%            0,00%            0,00%   \n",
              "1     R$ 0,00         0,00%            0,00%            0,00%   \n",
              "2     R$ 0,00         0,00%            0,00%            0,00%   \n",
              "3     R$ 0,00         0,00%            0,00%            0,00%   \n",
              "4     R$ 0,00         0,00%            0,00%            0,00%   \n",
              "..        ...           ...              ...              ...   \n",
              "272   R$ 0,86         0,00%            0,00%            0,00%   \n",
              "273   R$ 0,48         1,01%            2,53%            4,46%   \n",
              "274   R$ 0,90         0,92%            2,81%            4,99%   \n",
              "275   R$ 0,11         0,49%            1,29%            2,71%   \n",
              "276   R$ 0,18         0,62%            1,59%            2,73%   \n",
              "\n",
              "    DY (12M)Acumulado DY (3M)Média  ...     PatrimônioLíq.          VPA  \\\n",
              "0               0,00%        0,00%  ...   R$ 65.746.443,59      R$ 6,98   \n",
              "1               0,00%        0,00%  ...  R$ 432.739.853,66     R$ 10,89   \n",
              "2               0,00%        0,00%  ...   R$ 27.391.929,40     R$ 13,94   \n",
              "3               0,00%        0,00%  ...  R$ 250.487.663,18  R$ 2.253,05   \n",
              "4               0,00%        0,00%  ...   R$ -8.707.885,16    R$ -11,48   \n",
              "..                ...          ...  ...                ...          ...   \n",
              "272             0,00%        0,00%  ...  R$ 650.064.545,92    R$ 133,32   \n",
              "273             6,33%        0,84%  ...   R$ 77.799.824,27     R$ 78,38   \n",
              "274             0,00%        0,94%  ...  R$ 347.617.328,85    R$ 103,32   \n",
              "275             6,04%        0,43%  ...  R$ 252.515.454,02     R$ 66,24   \n",
              "276             5,12%        0,53%  ...   R$ 97.865.283,71     R$ 90,78   \n",
              "\n",
              "     P/VPA DYPatrimonial VariaçãoPatrimonial Rentab. Patr.no Período  \\\n",
              "0     33.0           NaN                 NaN                     NaN   \n",
              "1    135.0           NaN                 NaN                     NaN   \n",
              "2     45.0           NaN                 NaN                     NaN   \n",
              "3     42.0           NaN                 NaN                     NaN   \n",
              "4    -73.0           NaN                 NaN                     NaN   \n",
              "..     ...           ...                 ...                     ...   \n",
              "272    NaN           NaN                 NaN                     NaN   \n",
              "273   51.0         0,40%               3,55%                   3,97%   \n",
              "274   96.0           NaN                 NaN                     NaN   \n",
              "275   30.0         0,16%               0,00%                   0,16%   \n",
              "276   31.0         0,18%               0,00%                   0,18%   \n",
              "\n",
              "    Rentab. Patr.Acumulada VacânciaFísica  VacânciaFinanceira QuantidadeAtivos  \n",
              "0                      NaN         56,00%                 NaN                1  \n",
              "1                      NaN            NaN                 NaN                0  \n",
              "2                      NaN          0,00%             100,00%                1  \n",
              "3                      NaN         64,05%                 NaN                1  \n",
              "4                      NaN            NaN                 NaN                1  \n",
              "..                     ...            ...                 ...              ...  \n",
              "272                    NaN            NaN                 NaN                0  \n",
              "273                  3,97%            NaN                 NaN                0  \n",
              "274                    NaN            NaN                 NaN                0  \n",
              "275                  0,16%         48,81%                 NaN                1  \n",
              "276                  1,17%         13,00%                 NaN                1  \n",
              "\n",
              "[277 rows x 26 columns]"
            ]
          },
          "execution_count": 25,
          "metadata": {},
          "output_type": "execute_result"
        }
      ],
      "source": [
        "FII_df"
      ]
    },
    {
      "cell_type": "code",
      "execution_count": null,
      "metadata": {
        "colab": {
          "base_uri": "https://localhost:8080/"
        },
        "id": "piOVF1Up0EMi",
        "outputId": "642f00b1-939c-4285-c173-b68d20a14f35"
      },
      "outputs": [
        {
          "data": {
            "text/plain": [
              "Index(['Códigodo fundo', 'Setor', 'Preço Atual', 'Liquidez Diária',\n",
              "       'Dividendo', 'DividendYield', 'DY (3M)Acumulado', 'DY (6M)Acumulado',\n",
              "       'DY (12M)Acumulado', 'DY (3M)Média', 'DY (6M)Média', 'DY (12M)Média',\n",
              "       'DY Ano', 'Variação Preço', 'Rentab.Período', 'Rentab.Acumulada',\n",
              "       'PatrimônioLíq.', 'VPA', 'P/VPA', 'DYPatrimonial',\n",
              "       'VariaçãoPatrimonial', 'Rentab. Patr.no Período',\n",
              "       'Rentab. Patr.Acumulada', 'VacânciaFísica', 'VacânciaFinanceira',\n",
              "       'QuantidadeAtivos'],\n",
              "      dtype='object')"
            ]
          },
          "execution_count": 10,
          "metadata": {},
          "output_type": "execute_result"
        }
      ],
      "source": [
        "FII_df.columns"
      ]
    },
    {
      "cell_type": "code",
      "execution_count": null,
      "metadata": {
        "colab": {
          "base_uri": "https://localhost:8080/"
        },
        "id": "WYL92yV90EMi",
        "outputId": "58a0042b-c08c-4b75-eb84-b9c76d8f52fc"
      },
      "outputs": [
        {
          "data": {
            "text/plain": [
              "0        R$ 2,31\n",
              "1       R$ 14,70\n",
              "2        R$ 6,23\n",
              "3      R$ 945,00\n",
              "4        R$ 8,34\n",
              "         ...    \n",
              "272          NaN\n",
              "273     R$ 40,10\n",
              "274     R$ 99,46\n",
              "275     R$ 19,66\n",
              "276     R$ 28,45\n",
              "Name: Preço Atual, Length: 277, dtype: object"
            ]
          },
          "execution_count": 26,
          "metadata": {},
          "output_type": "execute_result"
        }
      ],
      "source": [
        "# Note que temos problemas para reconhecer os valores de algumas colunas (ex., preço atual) como números\n",
        "\n",
        "FII_df['Preço Atual']"
      ]
    },
    {
      "cell_type": "code",
      "execution_count": null,
      "metadata": {
        "id": "tqc6Rxej0EMi"
      },
      "outputs": [],
      "source": [
        "# Vamos substituir o \"R$ \" por \"vazio\"\n",
        "\n",
        "FII_df['Preço Atual'] = FII_df['Preço Atual'].replace(to_replace=r'^R\\$ ', value='',regex=True)"
      ]
    },
    {
      "cell_type": "code",
      "execution_count": null,
      "metadata": {
        "colab": {
          "base_uri": "https://localhost:8080/"
        },
        "id": "mXX94u--0EMi",
        "outputId": "d6cb4df2-63df-4177-97a6-da842d347ea1"
      },
      "outputs": [
        {
          "data": {
            "text/plain": [
              "0        2,31\n",
              "1       14,70\n",
              "2        6,23\n",
              "3      945,00\n",
              "4        8,34\n",
              "        ...  \n",
              "272       NaN\n",
              "273     40,10\n",
              "274     99,46\n",
              "275     19,66\n",
              "276     28,45\n",
              "Name: Preço Atual, Length: 277, dtype: object"
            ]
          },
          "execution_count": 28,
          "metadata": {},
          "output_type": "execute_result"
        }
      ],
      "source": [
        "# Outro problema é o separador decimal (atualmente como vírgula). Entretanto, não podemos simplesmente substituir por '.' diretamente pois podem existir valores com '.' como separador de milhar\n",
        "# Nessa caso, melhor fazer em duas etapas\n",
        "\n",
        "FII_df['Preço Atual']"
      ]
    },
    {
      "cell_type": "code",
      "execution_count": null,
      "metadata": {
        "colab": {
          "base_uri": "https://localhost:8080/"
        },
        "id": "rCdOjTk00EMj",
        "outputId": "8e4923ec-1bae-4b39-e979-1d9703d4fb8a"
      },
      "outputs": [
        {
          "name": "stderr",
          "output_type": "stream",
          "text": [
            "/usr/local/lib/python3.7/dist-packages/ipykernel_launcher.py:3: FutureWarning: The default value of regex will change from True to False in a future version. In addition, single character regular expressions will *not* be treated as literal strings when regex=True.\n",
            "  This is separate from the ipykernel package so we can avoid doing imports until\n"
          ]
        }
      ],
      "source": [
        "# Primeira etapa: substituir qq '.' por 'vazio'\n",
        "\n",
        "FII_df['Preço Atual'] = FII_df['Preço Atual'].str.replace('.','')"
      ]
    },
    {
      "cell_type": "code",
      "execution_count": null,
      "metadata": {
        "colab": {
          "base_uri": "https://localhost:8080/"
        },
        "id": "sPy7p4cJ1dPO",
        "outputId": "12aaa7f1-845f-46fc-b6ad-b07a2411aaa2"
      },
      "outputs": [
        {
          "data": {
            "text/plain": [
              "0        2.31\n",
              "1       14.70\n",
              "2        6.23\n",
              "3      945.00\n",
              "4        8.34\n",
              "        ...  \n",
              "272       NaN\n",
              "273     40.10\n",
              "274     99.46\n",
              "275     19.66\n",
              "276     28.45\n",
              "Name: Preço Atual, Length: 277, dtype: float64"
            ]
          },
          "execution_count": 34,
          "metadata": {},
          "output_type": "execute_result"
        }
      ],
      "source": [
        "# Segunda etapa: substituir as ',' por '.' (separador decimal padrão para executarmos alguma análise de dados)\n",
        "# Agora é possível converter os dados em float\n",
        "\n",
        "FII_df['Preço Atual'] = FII_df['Preço Atual'].str.replace(',','.').astype(float)\n",
        "FII_df['Preço Atual']"
      ]
    },
    {
      "cell_type": "code",
      "execution_count": null,
      "metadata": {
        "colab": {
          "base_uri": "https://localhost:8080/"
        },
        "id": "h1g3f5eZ2V0_",
        "outputId": "ad154458-02ad-4f00-f8f3-a94009a2c00e"
      },
      "outputs": [
        {
          "data": {
            "text/plain": [
              "76000.0"
            ]
          },
          "execution_count": 35,
          "metadata": {},
          "output_type": "execute_result"
        }
      ],
      "source": [
        "# Análises simples como valor máximo são possíveis agora nesta coluna\n",
        "\n",
        "max(FII_df['Preço Atual'])"
      ]
    },
    {
      "cell_type": "code",
      "execution_count": null,
      "metadata": {
        "colab": {
          "base_uri": "https://localhost:8080/"
        },
        "id": "ZFB32fQ73cPe",
        "outputId": "a2be1069-ba18-4a9a-ba6f-2679add51deb"
      },
      "outputs": [
        {
          "data": {
            "text/plain": [
              "0      0,00%\n",
              "1      0,00%\n",
              "2      0,00%\n",
              "3      0,00%\n",
              "4      0,00%\n",
              "       ...  \n",
              "272    0,00%\n",
              "273    6,33%\n",
              "274    0,00%\n",
              "275    6,04%\n",
              "276    5,12%\n",
              "Name: DY (12M)Acumulado, Length: 277, dtype: object"
            ]
          },
          "execution_count": 36,
          "metadata": {},
          "output_type": "execute_result"
        }
      ],
      "source": [
        "# Agora faremos o mesmo para a coluna \"DY (12M)Acumulado\" (dividend yield acumulado nos últimos 12 meses)\n",
        "\n",
        "FII_df['DY (12M)Acumulado']"
      ]
    },
    {
      "cell_type": "code",
      "execution_count": null,
      "metadata": {
        "colab": {
          "base_uri": "https://localhost:8080/"
        },
        "id": "DcXOCYmj34eN",
        "outputId": "4e762a22-5f85-4a98-d25e-e4bfb3093bdb"
      },
      "outputs": [
        {
          "data": {
            "text/plain": [
              "21.8"
            ]
          },
          "execution_count": 39,
          "metadata": {},
          "output_type": "execute_result"
        }
      ],
      "source": [
        "# Substituir '%' por 'vazio' e ',' por '.'\n",
        "\n",
        "FII_df['DY (12M)Acumulado'] = FII_df['DY (12M)Acumulado'].str.replace('%','')\n",
        "FII_df['DY (12M)Acumulado'] = FII_df['DY (12M)Acumulado'].str.replace(',','.').astype(float)\n",
        "max(FII_df['DY (12M)Acumulado'])"
      ]
    },
    {
      "cell_type": "code",
      "execution_count": null,
      "metadata": {
        "colab": {
          "base_uri": "https://localhost:8080/",
          "height": 696
        },
        "id": "0ccO-PLI5MJ1",
        "outputId": "630016ec-13a1-4475-8063-026d03ff3f92"
      },
      "outputs": [
        {
          "data": {
            "text/html": [
              "\n",
              "  <div id=\"df-6b7d75cc-e104-47ea-b859-924867922e24\">\n",
              "    <div class=\"colab-df-container\">\n",
              "      <div>\n",
              "<style scoped>\n",
              "    .dataframe tbody tr th:only-of-type {\n",
              "        vertical-align: middle;\n",
              "    }\n",
              "\n",
              "    .dataframe tbody tr th {\n",
              "        vertical-align: top;\n",
              "    }\n",
              "\n",
              "    .dataframe thead th {\n",
              "        text-align: right;\n",
              "    }\n",
              "</style>\n",
              "<table border=\"1\" class=\"dataframe\">\n",
              "  <thead>\n",
              "    <tr style=\"text-align: right;\">\n",
              "      <th></th>\n",
              "      <th>Códigodo fundo</th>\n",
              "      <th>Setor</th>\n",
              "      <th>Preço Atual</th>\n",
              "      <th>Liquidez Diária</th>\n",
              "      <th>Dividendo</th>\n",
              "      <th>DividendYield</th>\n",
              "      <th>DY (3M)Acumulado</th>\n",
              "      <th>DY (6M)Acumulado</th>\n",
              "      <th>DY (12M)Acumulado</th>\n",
              "      <th>DY (3M)Média</th>\n",
              "      <th>...</th>\n",
              "      <th>PatrimônioLíq.</th>\n",
              "      <th>VPA</th>\n",
              "      <th>P/VPA</th>\n",
              "      <th>DYPatrimonial</th>\n",
              "      <th>VariaçãoPatrimonial</th>\n",
              "      <th>Rentab. Patr.no Período</th>\n",
              "      <th>Rentab. Patr.Acumulada</th>\n",
              "      <th>VacânciaFísica</th>\n",
              "      <th>VacânciaFinanceira</th>\n",
              "      <th>QuantidadeAtivos</th>\n",
              "    </tr>\n",
              "  </thead>\n",
              "  <tbody>\n",
              "    <tr>\n",
              "      <th>0</th>\n",
              "      <td>FIVN11</td>\n",
              "      <td>Shoppings</td>\n",
              "      <td>2.31</td>\n",
              "      <td>15952.0</td>\n",
              "      <td>R$ 0,00</td>\n",
              "      <td>0,00%</td>\n",
              "      <td>0,00%</td>\n",
              "      <td>0,00%</td>\n",
              "      <td>0.00</td>\n",
              "      <td>0,00%</td>\n",
              "      <td>...</td>\n",
              "      <td>R$ 65.746.443,59</td>\n",
              "      <td>R$ 6,98</td>\n",
              "      <td>33.0</td>\n",
              "      <td>NaN</td>\n",
              "      <td>NaN</td>\n",
              "      <td>NaN</td>\n",
              "      <td>NaN</td>\n",
              "      <td>56,00%</td>\n",
              "      <td>NaN</td>\n",
              "      <td>1</td>\n",
              "    </tr>\n",
              "    <tr>\n",
              "      <th>1</th>\n",
              "      <td>BZLI11</td>\n",
              "      <td>Títulos e Val. Mob.</td>\n",
              "      <td>14.70</td>\n",
              "      <td>44041.0</td>\n",
              "      <td>R$ 0,00</td>\n",
              "      <td>0,00%</td>\n",
              "      <td>0,00%</td>\n",
              "      <td>0,00%</td>\n",
              "      <td>0.00</td>\n",
              "      <td>0,00%</td>\n",
              "      <td>...</td>\n",
              "      <td>R$ 432.739.853,66</td>\n",
              "      <td>R$ 10,89</td>\n",
              "      <td>135.0</td>\n",
              "      <td>NaN</td>\n",
              "      <td>NaN</td>\n",
              "      <td>NaN</td>\n",
              "      <td>NaN</td>\n",
              "      <td>NaN</td>\n",
              "      <td>NaN</td>\n",
              "      <td>0</td>\n",
              "    </tr>\n",
              "    <tr>\n",
              "      <th>2</th>\n",
              "      <td>XTED11</td>\n",
              "      <td>Lajes Corporativas</td>\n",
              "      <td>6.23</td>\n",
              "      <td>93.0</td>\n",
              "      <td>R$ 0,00</td>\n",
              "      <td>0,00%</td>\n",
              "      <td>0,00%</td>\n",
              "      <td>0,00%</td>\n",
              "      <td>0.00</td>\n",
              "      <td>0,00%</td>\n",
              "      <td>...</td>\n",
              "      <td>R$ 27.391.929,40</td>\n",
              "      <td>R$ 13,94</td>\n",
              "      <td>45.0</td>\n",
              "      <td>NaN</td>\n",
              "      <td>NaN</td>\n",
              "      <td>NaN</td>\n",
              "      <td>NaN</td>\n",
              "      <td>0,00%</td>\n",
              "      <td>100,00%</td>\n",
              "      <td>1</td>\n",
              "    </tr>\n",
              "    <tr>\n",
              "      <th>3</th>\n",
              "      <td>ALMI11</td>\n",
              "      <td>Lajes Corporativas</td>\n",
              "      <td>945.00</td>\n",
              "      <td>39.0</td>\n",
              "      <td>R$ 0,00</td>\n",
              "      <td>0,00%</td>\n",
              "      <td>0,00%</td>\n",
              "      <td>0,00%</td>\n",
              "      <td>0.00</td>\n",
              "      <td>0,00%</td>\n",
              "      <td>...</td>\n",
              "      <td>R$ 250.487.663,18</td>\n",
              "      <td>R$ 2.253,05</td>\n",
              "      <td>42.0</td>\n",
              "      <td>NaN</td>\n",
              "      <td>NaN</td>\n",
              "      <td>NaN</td>\n",
              "      <td>NaN</td>\n",
              "      <td>64,05%</td>\n",
              "      <td>NaN</td>\n",
              "      <td>1</td>\n",
              "    </tr>\n",
              "    <tr>\n",
              "      <th>4</th>\n",
              "      <td>PABY11</td>\n",
              "      <td>Híbrido</td>\n",
              "      <td>8.34</td>\n",
              "      <td>1.0</td>\n",
              "      <td>R$ 0,00</td>\n",
              "      <td>0,00%</td>\n",
              "      <td>0,00%</td>\n",
              "      <td>0,00%</td>\n",
              "      <td>0.00</td>\n",
              "      <td>0,00%</td>\n",
              "      <td>...</td>\n",
              "      <td>R$ -8.707.885,16</td>\n",
              "      <td>R$ -11,48</td>\n",
              "      <td>-73.0</td>\n",
              "      <td>NaN</td>\n",
              "      <td>NaN</td>\n",
              "      <td>NaN</td>\n",
              "      <td>NaN</td>\n",
              "      <td>NaN</td>\n",
              "      <td>NaN</td>\n",
              "      <td>1</td>\n",
              "    </tr>\n",
              "    <tr>\n",
              "      <th>...</th>\n",
              "      <td>...</td>\n",
              "      <td>...</td>\n",
              "      <td>...</td>\n",
              "      <td>...</td>\n",
              "      <td>...</td>\n",
              "      <td>...</td>\n",
              "      <td>...</td>\n",
              "      <td>...</td>\n",
              "      <td>...</td>\n",
              "      <td>...</td>\n",
              "      <td>...</td>\n",
              "      <td>...</td>\n",
              "      <td>...</td>\n",
              "      <td>...</td>\n",
              "      <td>...</td>\n",
              "      <td>...</td>\n",
              "      <td>...</td>\n",
              "      <td>...</td>\n",
              "      <td>...</td>\n",
              "      <td>...</td>\n",
              "      <td>...</td>\n",
              "    </tr>\n",
              "    <tr>\n",
              "      <th>271</th>\n",
              "      <td>CNES11</td>\n",
              "      <td>Lajes Corporativas</td>\n",
              "      <td>34.67</td>\n",
              "      <td>365.0</td>\n",
              "      <td>R$ 0,13</td>\n",
              "      <td>0,39%</td>\n",
              "      <td>1,19%</td>\n",
              "      <td>2,14%</td>\n",
              "      <td>3.39</td>\n",
              "      <td>0,40%</td>\n",
              "      <td>...</td>\n",
              "      <td>R$ 255.388.232,33</td>\n",
              "      <td>R$ 86,59</td>\n",
              "      <td>40.0</td>\n",
              "      <td>0,15%</td>\n",
              "      <td>0,00%</td>\n",
              "      <td>0,15%</td>\n",
              "      <td>0,15%</td>\n",
              "      <td>56,70%</td>\n",
              "      <td>NaN</td>\n",
              "      <td>1</td>\n",
              "    </tr>\n",
              "    <tr>\n",
              "      <th>273</th>\n",
              "      <td>WTSP11B</td>\n",
              "      <td>Híbrido</td>\n",
              "      <td>40.10</td>\n",
              "      <td>12.0</td>\n",
              "      <td>R$ 0,48</td>\n",
              "      <td>1,01%</td>\n",
              "      <td>2,53%</td>\n",
              "      <td>4,46%</td>\n",
              "      <td>6.33</td>\n",
              "      <td>0,84%</td>\n",
              "      <td>...</td>\n",
              "      <td>R$ 77.799.824,27</td>\n",
              "      <td>R$ 78,38</td>\n",
              "      <td>51.0</td>\n",
              "      <td>0,40%</td>\n",
              "      <td>3,55%</td>\n",
              "      <td>3,97%</td>\n",
              "      <td>3,97%</td>\n",
              "      <td>NaN</td>\n",
              "      <td>NaN</td>\n",
              "      <td>0</td>\n",
              "    </tr>\n",
              "    <tr>\n",
              "      <th>274</th>\n",
              "      <td>BTRA11</td>\n",
              "      <td>Outros</td>\n",
              "      <td>99.46</td>\n",
              "      <td>8311.0</td>\n",
              "      <td>R$ 0,90</td>\n",
              "      <td>0,92%</td>\n",
              "      <td>2,81%</td>\n",
              "      <td>4,99%</td>\n",
              "      <td>0.00</td>\n",
              "      <td>0,94%</td>\n",
              "      <td>...</td>\n",
              "      <td>R$ 347.617.328,85</td>\n",
              "      <td>R$ 103,32</td>\n",
              "      <td>96.0</td>\n",
              "      <td>NaN</td>\n",
              "      <td>NaN</td>\n",
              "      <td>NaN</td>\n",
              "      <td>NaN</td>\n",
              "      <td>NaN</td>\n",
              "      <td>NaN</td>\n",
              "      <td>0</td>\n",
              "    </tr>\n",
              "    <tr>\n",
              "      <th>275</th>\n",
              "      <td>EDGA11</td>\n",
              "      <td>Lajes Corporativas</td>\n",
              "      <td>19.66</td>\n",
              "      <td>7731.0</td>\n",
              "      <td>R$ 0,11</td>\n",
              "      <td>0,49%</td>\n",
              "      <td>1,29%</td>\n",
              "      <td>2,71%</td>\n",
              "      <td>6.04</td>\n",
              "      <td>0,43%</td>\n",
              "      <td>...</td>\n",
              "      <td>R$ 252.515.454,02</td>\n",
              "      <td>R$ 66,24</td>\n",
              "      <td>30.0</td>\n",
              "      <td>0,16%</td>\n",
              "      <td>0,00%</td>\n",
              "      <td>0,16%</td>\n",
              "      <td>0,16%</td>\n",
              "      <td>48,81%</td>\n",
              "      <td>NaN</td>\n",
              "      <td>1</td>\n",
              "    </tr>\n",
              "    <tr>\n",
              "      <th>276</th>\n",
              "      <td>RBGS11</td>\n",
              "      <td>Shoppings</td>\n",
              "      <td>28.45</td>\n",
              "      <td>5157.0</td>\n",
              "      <td>R$ 0,18</td>\n",
              "      <td>0,62%</td>\n",
              "      <td>1,59%</td>\n",
              "      <td>2,73%</td>\n",
              "      <td>5.12</td>\n",
              "      <td>0,53%</td>\n",
              "      <td>...</td>\n",
              "      <td>R$ 97.865.283,71</td>\n",
              "      <td>R$ 90,78</td>\n",
              "      <td>31.0</td>\n",
              "      <td>0,18%</td>\n",
              "      <td>0,00%</td>\n",
              "      <td>0,18%</td>\n",
              "      <td>1,17%</td>\n",
              "      <td>13,00%</td>\n",
              "      <td>NaN</td>\n",
              "      <td>1</td>\n",
              "    </tr>\n",
              "  </tbody>\n",
              "</table>\n",
              "<p>259 rows × 26 columns</p>\n",
              "</div>\n",
              "      <button class=\"colab-df-convert\" onclick=\"convertToInteractive('df-6b7d75cc-e104-47ea-b859-924867922e24')\"\n",
              "              title=\"Convert this dataframe to an interactive table.\"\n",
              "              style=\"display:none;\">\n",
              "        \n",
              "  <svg xmlns=\"http://www.w3.org/2000/svg\" height=\"24px\"viewBox=\"0 0 24 24\"\n",
              "       width=\"24px\">\n",
              "    <path d=\"M0 0h24v24H0V0z\" fill=\"none\"/>\n",
              "    <path d=\"M18.56 5.44l.94 2.06.94-2.06 2.06-.94-2.06-.94-.94-2.06-.94 2.06-2.06.94zm-11 1L8.5 8.5l.94-2.06 2.06-.94-2.06-.94L8.5 2.5l-.94 2.06-2.06.94zm10 10l.94 2.06.94-2.06 2.06-.94-2.06-.94-.94-2.06-.94 2.06-2.06.94z\"/><path d=\"M17.41 7.96l-1.37-1.37c-.4-.4-.92-.59-1.43-.59-.52 0-1.04.2-1.43.59L10.3 9.45l-7.72 7.72c-.78.78-.78 2.05 0 2.83L4 21.41c.39.39.9.59 1.41.59.51 0 1.02-.2 1.41-.59l7.78-7.78 2.81-2.81c.8-.78.8-2.07 0-2.86zM5.41 20L4 18.59l7.72-7.72 1.47 1.35L5.41 20z\"/>\n",
              "  </svg>\n",
              "      </button>\n",
              "      \n",
              "  <style>\n",
              "    .colab-df-container {\n",
              "      display:flex;\n",
              "      flex-wrap:wrap;\n",
              "      gap: 12px;\n",
              "    }\n",
              "\n",
              "    .colab-df-convert {\n",
              "      background-color: #E8F0FE;\n",
              "      border: none;\n",
              "      border-radius: 50%;\n",
              "      cursor: pointer;\n",
              "      display: none;\n",
              "      fill: #1967D2;\n",
              "      height: 32px;\n",
              "      padding: 0 0 0 0;\n",
              "      width: 32px;\n",
              "    }\n",
              "\n",
              "    .colab-df-convert:hover {\n",
              "      background-color: #E2EBFA;\n",
              "      box-shadow: 0px 1px 2px rgba(60, 64, 67, 0.3), 0px 1px 3px 1px rgba(60, 64, 67, 0.15);\n",
              "      fill: #174EA6;\n",
              "    }\n",
              "\n",
              "    [theme=dark] .colab-df-convert {\n",
              "      background-color: #3B4455;\n",
              "      fill: #D2E3FC;\n",
              "    }\n",
              "\n",
              "    [theme=dark] .colab-df-convert:hover {\n",
              "      background-color: #434B5C;\n",
              "      box-shadow: 0px 1px 3px 1px rgba(0, 0, 0, 0.15);\n",
              "      filter: drop-shadow(0px 1px 2px rgba(0, 0, 0, 0.3));\n",
              "      fill: #FFFFFF;\n",
              "    }\n",
              "  </style>\n",
              "\n",
              "      <script>\n",
              "        const buttonEl =\n",
              "          document.querySelector('#df-6b7d75cc-e104-47ea-b859-924867922e24 button.colab-df-convert');\n",
              "        buttonEl.style.display =\n",
              "          google.colab.kernel.accessAllowed ? 'block' : 'none';\n",
              "\n",
              "        async function convertToInteractive(key) {\n",
              "          const element = document.querySelector('#df-6b7d75cc-e104-47ea-b859-924867922e24');\n",
              "          const dataTable =\n",
              "            await google.colab.kernel.invokeFunction('convertToInteractive',\n",
              "                                                     [key], {});\n",
              "          if (!dataTable) return;\n",
              "\n",
              "          const docLinkHtml = 'Like what you see? Visit the ' +\n",
              "            '<a target=\"_blank\" href=https://colab.research.google.com/notebooks/data_table.ipynb>data table notebook</a>'\n",
              "            + ' to learn more about interactive tables.';\n",
              "          element.innerHTML = '';\n",
              "          dataTable['output_type'] = 'display_data';\n",
              "          await google.colab.output.renderOutput(dataTable, element);\n",
              "          const docLink = document.createElement('div');\n",
              "          docLink.innerHTML = docLinkHtml;\n",
              "          element.appendChild(docLink);\n",
              "        }\n",
              "      </script>\n",
              "    </div>\n",
              "  </div>\n",
              "  "
            ],
            "text/plain": [
              "    Códigodo fundo                Setor  Preço Atual  Liquidez Diária  \\\n",
              "0           FIVN11            Shoppings         2.31          15952.0   \n",
              "1           BZLI11  Títulos e Val. Mob.        14.70          44041.0   \n",
              "2           XTED11   Lajes Corporativas         6.23             93.0   \n",
              "3           ALMI11   Lajes Corporativas       945.00             39.0   \n",
              "4           PABY11              Híbrido         8.34              1.0   \n",
              "..             ...                  ...          ...              ...   \n",
              "271         CNES11   Lajes Corporativas        34.67            365.0   \n",
              "273        WTSP11B              Híbrido        40.10             12.0   \n",
              "274         BTRA11               Outros        99.46           8311.0   \n",
              "275         EDGA11   Lajes Corporativas        19.66           7731.0   \n",
              "276         RBGS11            Shoppings        28.45           5157.0   \n",
              "\n",
              "    Dividendo DividendYield DY (3M)Acumulado DY (6M)Acumulado  \\\n",
              "0     R$ 0,00         0,00%            0,00%            0,00%   \n",
              "1     R$ 0,00         0,00%            0,00%            0,00%   \n",
              "2     R$ 0,00         0,00%            0,00%            0,00%   \n",
              "3     R$ 0,00         0,00%            0,00%            0,00%   \n",
              "4     R$ 0,00         0,00%            0,00%            0,00%   \n",
              "..        ...           ...              ...              ...   \n",
              "271   R$ 0,13         0,39%            1,19%            2,14%   \n",
              "273   R$ 0,48         1,01%            2,53%            4,46%   \n",
              "274   R$ 0,90         0,92%            2,81%            4,99%   \n",
              "275   R$ 0,11         0,49%            1,29%            2,71%   \n",
              "276   R$ 0,18         0,62%            1,59%            2,73%   \n",
              "\n",
              "     DY (12M)Acumulado DY (3M)Média  ...     PatrimônioLíq.          VPA  \\\n",
              "0                 0.00        0,00%  ...   R$ 65.746.443,59      R$ 6,98   \n",
              "1                 0.00        0,00%  ...  R$ 432.739.853,66     R$ 10,89   \n",
              "2                 0.00        0,00%  ...   R$ 27.391.929,40     R$ 13,94   \n",
              "3                 0.00        0,00%  ...  R$ 250.487.663,18  R$ 2.253,05   \n",
              "4                 0.00        0,00%  ...   R$ -8.707.885,16    R$ -11,48   \n",
              "..                 ...          ...  ...                ...          ...   \n",
              "271               3.39        0,40%  ...  R$ 255.388.232,33     R$ 86,59   \n",
              "273               6.33        0,84%  ...   R$ 77.799.824,27     R$ 78,38   \n",
              "274               0.00        0,94%  ...  R$ 347.617.328,85    R$ 103,32   \n",
              "275               6.04        0,43%  ...  R$ 252.515.454,02     R$ 66,24   \n",
              "276               5.12        0,53%  ...   R$ 97.865.283,71     R$ 90,78   \n",
              "\n",
              "     P/VPA DYPatrimonial VariaçãoPatrimonial Rentab. Patr.no Período  \\\n",
              "0     33.0           NaN                 NaN                     NaN   \n",
              "1    135.0           NaN                 NaN                     NaN   \n",
              "2     45.0           NaN                 NaN                     NaN   \n",
              "3     42.0           NaN                 NaN                     NaN   \n",
              "4    -73.0           NaN                 NaN                     NaN   \n",
              "..     ...           ...                 ...                     ...   \n",
              "271   40.0         0,15%               0,00%                   0,15%   \n",
              "273   51.0         0,40%               3,55%                   3,97%   \n",
              "274   96.0           NaN                 NaN                     NaN   \n",
              "275   30.0         0,16%               0,00%                   0,16%   \n",
              "276   31.0         0,18%               0,00%                   0,18%   \n",
              "\n",
              "    Rentab. Patr.Acumulada VacânciaFísica  VacânciaFinanceira QuantidadeAtivos  \n",
              "0                      NaN         56,00%                 NaN                1  \n",
              "1                      NaN            NaN                 NaN                0  \n",
              "2                      NaN          0,00%             100,00%                1  \n",
              "3                      NaN         64,05%                 NaN                1  \n",
              "4                      NaN            NaN                 NaN                1  \n",
              "..                     ...            ...                 ...              ...  \n",
              "271                  0,15%         56,70%                 NaN                1  \n",
              "273                  3,97%            NaN                 NaN                0  \n",
              "274                    NaN            NaN                 NaN                0  \n",
              "275                  0,16%         48,81%                 NaN                1  \n",
              "276                  1,17%         13,00%                 NaN                1  \n",
              "\n",
              "[259 rows x 26 columns]"
            ]
          },
          "execution_count": 45,
          "metadata": {},
          "output_type": "execute_result"
        }
      ],
      "source": [
        "# Remover os NAs antes de análises exploratórias\n",
        "\n",
        "FII_df.dropna(subset = ['Preço Atual','DY (12M)Acumulado','Setor'], inplace=True)\n",
        "FII_df"
      ]
    },
    {
      "cell_type": "code",
      "execution_count": null,
      "metadata": {
        "colab": {
          "base_uri": "https://localhost:8080/",
          "height": 542
        },
        "id": "M0WdsTQF4tCG",
        "outputId": "97be65a7-d7cb-4702-e003-c9e7e900f34d"
      },
      "outputs": [
        {
          "data": {
            "text/html": [
              "<html>\n",
              "<head><meta charset=\"utf-8\" /></head>\n",
              "<body>\n",
              "    <div>            <script src=\"https://cdnjs.cloudflare.com/ajax/libs/mathjax/2.7.5/MathJax.js?config=TeX-AMS-MML_SVG\"></script><script type=\"text/javascript\">if (window.MathJax) {MathJax.Hub.Config({SVG: {font: \"STIX-Web\"}});}</script>                <script type=\"text/javascript\">window.PlotlyConfig = {MathJaxConfig: 'local'};</script>\n",
              "        <script src=\"https://cdn.plot.ly/plotly-2.8.3.min.js\"></script>                <div id=\"26319d3d-3e2b-4825-95eb-b16832baf180\" class=\"plotly-graph-div\" style=\"height:525px; width:100%;\"></div>            <script type=\"text/javascript\">                                    window.PLOTLYENV=window.PLOTLYENV || {};                                    if (document.getElementById(\"26319d3d-3e2b-4825-95eb-b16832baf180\")) {                    Plotly.newPlot(                        \"26319d3d-3e2b-4825-95eb-b16832baf180\",                        [{\"hovertemplate\":\"Setor=Shoppings<br>Pre\\u00e7o Atual=%{x}<br>DY (12M)Acumulado=%{y}<extra></extra>\",\"legendgroup\":\"Shoppings\",\"marker\":{\"color\":\"#636efa\",\"symbol\":\"circle\"},\"mode\":\"markers\",\"name\":\"Shoppings\",\"orientation\":\"v\",\"showlegend\":true,\"x\":[2.31,74.12,84.09,162.0,99.92,51.52,73.2,116.74,89.0,2022.24,73.4,818.2,96.0,97.1,78.59,7.5,4.33,74.0,64.77,90.6,1210.0,28.45],\"xaxis\":\"x\",\"y\":[0.0,0.0,4.49,5.12,7.11,5.7,6.66,6.51,6.16,5.94,7.28,4.75,2.97,6.05,7.43,2.98,0.03,6.39,0.0,6.37,6.01,5.12],\"yaxis\":\"y\",\"type\":\"scatter\"},{\"hovertemplate\":\"Setor=T\\u00edtulos e Val. Mob.<br>Pre\\u00e7o Atual=%{x}<br>DY (12M)Acumulado=%{y}<extra></extra>\",\"legendgroup\":\"T\\u00edtulos e Val. Mob.\",\"marker\":{\"color\":\"#EF553B\",\"symbol\":\"circle\"},\"mode\":\"markers\",\"name\":\"T\\u00edtulos e Val. Mob.\",\"orientation\":\"v\",\"showlegend\":true,\"x\":[14.7,94.94,99.35,63.83,109.0,104.2,102.92,9.95,72.49,76.2,7.56,70.5,50.9,73.87,82.5,589.69,94.0,87.58,95.97,101.94,99.0,100.0,10.05,104.98,69.96,73.33,90.64,9.84,97.99,102.4,74.0,98.0,110.5,88.75,42.44,93.0,93.0,81.21,86.0,55.0,87.5,100.05,71.5,67.9,64.5,7.2,93.5,94.49,86.73,67.6,97.28,62.51,97.18,99.07,100.22,76.73,84.25,101.5,101.3,105.48,56.89,96.14,68.0,94.5,10.01,100.61,99.71,10.54,97.22,72.99,85.39,71.15,72.0,9.02,81.66,101.8,100.0,63.9,80.62,93.77,93.54,98.0,113.8,97.9,100.89,99.08],\"xaxis\":\"x\",\"y\":[0.0,13.52,15.11,9.71,9.48,15.58,12.17,0.0,0.0,9.36,8.53,0.0,9.57,7.93,8.56,7.22,12.85,12.52,12.87,13.66,13.71,6.76,0.0,10.63,8.24,8.7,11.26,0.0,10.58,12.81,8.18,13.71,13.35,6.73,10.66,12.15,5.78,0.0,9.55,9.46,12.26,11.24,9.31,9.76,7.5,10.21,12.59,10.51,11.32,8.14,14.94,9.16,0.0,13.32,12.16,10.29,0.0,12.05,10.74,10.99,9.09,0.0,9.16,12.46,0.0,9.1,11.09,0.0,0.0,10.94,11.52,9.77,0.0,0.0,0.0,0.0,0.0,10.82,12.42,0.0,11.97,0.0,0.0,0.0,0.0,0.0],\"yaxis\":\"y\",\"type\":\"scatter\"},{\"hovertemplate\":\"Setor=Lajes Corporativas<br>Pre\\u00e7o Atual=%{x}<br>DY (12M)Acumulado=%{y}<extra></extra>\",\"legendgroup\":\"Lajes Corporativas\",\"marker\":{\"color\":\"#00cc96\",\"symbol\":\"circle\"},\"mode\":\"markers\",\"name\":\"Lajes Corporativas\",\"orientation\":\"v\",\"showlegend\":true,\"x\":[6.23,945.0,165.0,87.15,123.4,60.49,77.8,47.22,2000.0,47.39,87.9,94.94,108.0,33.84,260.0,25993.81,95.85,16.8,43.91,66.2,77.96,49.0,216.0,68.47,77.7,219.0,148.4,123.28,56.0,32.0,116.0,830.0,91.0,98.0,112.0,87.0,22.24,34.67,19.66],\"xaxis\":\"x\",\"y\":[0.0,0.0,0.0,7.21,8.28,11.96,0.0,7.54,13.83,9.93,11.07,5.79,0.0,1.74,6.6,0.0,6.52,9.93,21.8,7.28,9.05,8.42,6.68,5.57,9.01,7.18,6.29,6.52,8.78,16.63,5.95,10.43,8.16,0.0,3.9,0.0,5.53,3.39,6.04],\"yaxis\":\"y\",\"type\":\"scatter\"},{\"hovertemplate\":\"Setor=H\\u00edbrido<br>Pre\\u00e7o Atual=%{x}<br>DY (12M)Acumulado=%{y}<extra></extra>\",\"legendgroup\":\"H\\u00edbrido\",\"marker\":{\"color\":\"#ab63fa\",\"symbol\":\"circle\"},\"mode\":\"markers\",\"name\":\"H\\u00edbrido\",\"orientation\":\"v\",\"showlegend\":true,\"x\":[8.34,96.75,109.21,143.0,86.99,71.97,102.46,92.0,443.86,107.97,10.28,102.5,94.5,9.08,73.83,49.03,95.3,73.82,69.0,100.76,62.01,102.0,100.0,94.51,73.15,85.0,65.59,95.5,117.8,95.45,66.33,77.09,72.0,63.92,68.11,11.35,111.9,149.0,2.8,95.0,111.9,76000.0,40.1],\"xaxis\":\"x\",\"y\":[0.0,0.0,7.6,6.43,12.16,7.59,11.46,8.27,8.41,14.28,0.0,11.84,8.75,9.71,7.67,5.15,0.0,8.84,9.17,10.31,7.05,0.0,5.4,9.59,11.22,9.97,7.67,6.42,5.27,8.47,7.63,0.0,10.52,8.75,10.72,0.0,0.0,3.34,1.6,0.0,14.61,0.0,6.33],\"yaxis\":\"y\",\"type\":\"scatter\"},{\"hovertemplate\":\"Setor=Log\\u00edstica<br>Pre\\u00e7o Atual=%{x}<br>DY (12M)Acumulado=%{y}<extra></extra>\",\"legendgroup\":\"Log\\u00edstica\",\"marker\":{\"color\":\"#FFA15A\",\"symbol\":\"circle\"},\"mode\":\"markers\",\"name\":\"Log\\u00edstica\",\"orientation\":\"v\",\"showlegend\":true,\"x\":[98.01,161.0,99.97,85.97,98.92,86.92,91.71,210.05,95.97,56.51,87.7,74.5,79.62,162.7,283.0,87.0,101.48,78.97,49.0,85.5,103.3,110.15],\"xaxis\":\"x\",\"y\":[7.49,8.46,7.25,8.94,6.96,7.43,9.2,8.92,6.86,7.22,7.28,0.0,7.77,8.36,0.0,7.8,8.21,10.76,0.0,8.67,7.92,6.98],\"yaxis\":\"y\",\"type\":\"scatter\"},{\"hovertemplate\":\"Setor=Outros<br>Pre\\u00e7o Atual=%{x}<br>DY (12M)Acumulado=%{y}<extra></extra>\",\"legendgroup\":\"Outros\",\"marker\":{\"color\":\"#19d3f3\",\"symbol\":\"circle\"},\"mode\":\"markers\",\"name\":\"Outros\",\"orientation\":\"v\",\"showlegend\":true,\"x\":[120.5,87.5,116.39,110.2,40.25,98.36,55.02,95.4,92.85,93.99,120.0,94.29,11.99,69.53,49.04,694.0,79.46,9.42,8.75,68.99,116.75,131.95,64.73,76.99,99.7,84.0,1520.0,44.22,86.09,98.48,82.79,96.9,112.0,99.46],\"xaxis\":\"x\",\"y\":[9.46,0.0,18.35,11.14,12.54,8.78,9.36,11.96,10.43,6.64,11.25,10.02,3.68,10.12,8.99,12.52,8.92,15.7,10.56,9.92,15.36,9.28,6.6,0.0,13.89,6.73,0.0,8.69,0.0,9.98,7.94,8.65,8.03,0.0],\"yaxis\":\"y\",\"type\":\"scatter\"},{\"hovertemplate\":\"Setor=Residencial<br>Pre\\u00e7o Atual=%{x}<br>DY (12M)Acumulado=%{y}<extra></extra>\",\"legendgroup\":\"Residencial\",\"marker\":{\"color\":\"#FF6692\",\"symbol\":\"circle\"},\"mode\":\"markers\",\"name\":\"Residencial\",\"orientation\":\"v\",\"showlegend\":true,\"x\":[12.9,81.0,72.3,70.0,0.95,4.44,70.0],\"xaxis\":\"x\",\"y\":[0.0,6.9,9.1,0.0,0.0,0.0,0.0],\"yaxis\":\"y\",\"type\":\"scatter\"},{\"hovertemplate\":\"Setor=Hospital<br>Pre\\u00e7o Atual=%{x}<br>DY (12M)Acumulado=%{y}<extra></extra>\",\"legendgroup\":\"Hospital\",\"marker\":{\"color\":\"#B6E880\",\"symbol\":\"circle\"},\"mode\":\"markers\",\"name\":\"Hospital\",\"orientation\":\"v\",\"showlegend\":true,\"x\":[11.95,144.0,270.0],\"xaxis\":\"x\",\"y\":[6.49,9.49,9.33],\"yaxis\":\"y\",\"type\":\"scatter\"},{\"hovertemplate\":\"Setor=Hotel<br>Pre\\u00e7o Atual=%{x}<br>DY (12M)Acumulado=%{y}<extra></extra>\",\"legendgroup\":\"Hotel\",\"marker\":{\"color\":\"#FF97FF\",\"symbol\":\"circle\"},\"mode\":\"markers\",\"name\":\"Hotel\",\"orientation\":\"v\",\"showlegend\":true,\"x\":[93.99,74.29,85.12],\"xaxis\":\"x\",\"y\":[0.0,5.41,9.35],\"yaxis\":\"y\",\"type\":\"scatter\"}],                        {\"template\":{\"data\":{\"bar\":[{\"error_x\":{\"color\":\"#2a3f5f\"},\"error_y\":{\"color\":\"#2a3f5f\"},\"marker\":{\"line\":{\"color\":\"#E5ECF6\",\"width\":0.5},\"pattern\":{\"fillmode\":\"overlay\",\"size\":10,\"solidity\":0.2}},\"type\":\"bar\"}],\"barpolar\":[{\"marker\":{\"line\":{\"color\":\"#E5ECF6\",\"width\":0.5},\"pattern\":{\"fillmode\":\"overlay\",\"size\":10,\"solidity\":0.2}},\"type\":\"barpolar\"}],\"carpet\":[{\"aaxis\":{\"endlinecolor\":\"#2a3f5f\",\"gridcolor\":\"white\",\"linecolor\":\"white\",\"minorgridcolor\":\"white\",\"startlinecolor\":\"#2a3f5f\"},\"baxis\":{\"endlinecolor\":\"#2a3f5f\",\"gridcolor\":\"white\",\"linecolor\":\"white\",\"minorgridcolor\":\"white\",\"startlinecolor\":\"#2a3f5f\"},\"type\":\"carpet\"}],\"choropleth\":[{\"colorbar\":{\"outlinewidth\":0,\"ticks\":\"\"},\"type\":\"choropleth\"}],\"contour\":[{\"colorbar\":{\"outlinewidth\":0,\"ticks\":\"\"},\"colorscale\":[[0.0,\"#0d0887\"],[0.1111111111111111,\"#46039f\"],[0.2222222222222222,\"#7201a8\"],[0.3333333333333333,\"#9c179e\"],[0.4444444444444444,\"#bd3786\"],[0.5555555555555556,\"#d8576b\"],[0.6666666666666666,\"#ed7953\"],[0.7777777777777778,\"#fb9f3a\"],[0.8888888888888888,\"#fdca26\"],[1.0,\"#f0f921\"]],\"type\":\"contour\"}],\"contourcarpet\":[{\"colorbar\":{\"outlinewidth\":0,\"ticks\":\"\"},\"type\":\"contourcarpet\"}],\"heatmap\":[{\"colorbar\":{\"outlinewidth\":0,\"ticks\":\"\"},\"colorscale\":[[0.0,\"#0d0887\"],[0.1111111111111111,\"#46039f\"],[0.2222222222222222,\"#7201a8\"],[0.3333333333333333,\"#9c179e\"],[0.4444444444444444,\"#bd3786\"],[0.5555555555555556,\"#d8576b\"],[0.6666666666666666,\"#ed7953\"],[0.7777777777777778,\"#fb9f3a\"],[0.8888888888888888,\"#fdca26\"],[1.0,\"#f0f921\"]],\"type\":\"heatmap\"}],\"heatmapgl\":[{\"colorbar\":{\"outlinewidth\":0,\"ticks\":\"\"},\"colorscale\":[[0.0,\"#0d0887\"],[0.1111111111111111,\"#46039f\"],[0.2222222222222222,\"#7201a8\"],[0.3333333333333333,\"#9c179e\"],[0.4444444444444444,\"#bd3786\"],[0.5555555555555556,\"#d8576b\"],[0.6666666666666666,\"#ed7953\"],[0.7777777777777778,\"#fb9f3a\"],[0.8888888888888888,\"#fdca26\"],[1.0,\"#f0f921\"]],\"type\":\"heatmapgl\"}],\"histogram\":[{\"marker\":{\"pattern\":{\"fillmode\":\"overlay\",\"size\":10,\"solidity\":0.2}},\"type\":\"histogram\"}],\"histogram2d\":[{\"colorbar\":{\"outlinewidth\":0,\"ticks\":\"\"},\"colorscale\":[[0.0,\"#0d0887\"],[0.1111111111111111,\"#46039f\"],[0.2222222222222222,\"#7201a8\"],[0.3333333333333333,\"#9c179e\"],[0.4444444444444444,\"#bd3786\"],[0.5555555555555556,\"#d8576b\"],[0.6666666666666666,\"#ed7953\"],[0.7777777777777778,\"#fb9f3a\"],[0.8888888888888888,\"#fdca26\"],[1.0,\"#f0f921\"]],\"type\":\"histogram2d\"}],\"histogram2dcontour\":[{\"colorbar\":{\"outlinewidth\":0,\"ticks\":\"\"},\"colorscale\":[[0.0,\"#0d0887\"],[0.1111111111111111,\"#46039f\"],[0.2222222222222222,\"#7201a8\"],[0.3333333333333333,\"#9c179e\"],[0.4444444444444444,\"#bd3786\"],[0.5555555555555556,\"#d8576b\"],[0.6666666666666666,\"#ed7953\"],[0.7777777777777778,\"#fb9f3a\"],[0.8888888888888888,\"#fdca26\"],[1.0,\"#f0f921\"]],\"type\":\"histogram2dcontour\"}],\"mesh3d\":[{\"colorbar\":{\"outlinewidth\":0,\"ticks\":\"\"},\"type\":\"mesh3d\"}],\"parcoords\":[{\"line\":{\"colorbar\":{\"outlinewidth\":0,\"ticks\":\"\"}},\"type\":\"parcoords\"}],\"pie\":[{\"automargin\":true,\"type\":\"pie\"}],\"scatter\":[{\"marker\":{\"colorbar\":{\"outlinewidth\":0,\"ticks\":\"\"}},\"type\":\"scatter\"}],\"scatter3d\":[{\"line\":{\"colorbar\":{\"outlinewidth\":0,\"ticks\":\"\"}},\"marker\":{\"colorbar\":{\"outlinewidth\":0,\"ticks\":\"\"}},\"type\":\"scatter3d\"}],\"scattercarpet\":[{\"marker\":{\"colorbar\":{\"outlinewidth\":0,\"ticks\":\"\"}},\"type\":\"scattercarpet\"}],\"scattergeo\":[{\"marker\":{\"colorbar\":{\"outlinewidth\":0,\"ticks\":\"\"}},\"type\":\"scattergeo\"}],\"scattergl\":[{\"marker\":{\"colorbar\":{\"outlinewidth\":0,\"ticks\":\"\"}},\"type\":\"scattergl\"}],\"scattermapbox\":[{\"marker\":{\"colorbar\":{\"outlinewidth\":0,\"ticks\":\"\"}},\"type\":\"scattermapbox\"}],\"scatterpolar\":[{\"marker\":{\"colorbar\":{\"outlinewidth\":0,\"ticks\":\"\"}},\"type\":\"scatterpolar\"}],\"scatterpolargl\":[{\"marker\":{\"colorbar\":{\"outlinewidth\":0,\"ticks\":\"\"}},\"type\":\"scatterpolargl\"}],\"scatterternary\":[{\"marker\":{\"colorbar\":{\"outlinewidth\":0,\"ticks\":\"\"}},\"type\":\"scatterternary\"}],\"surface\":[{\"colorbar\":{\"outlinewidth\":0,\"ticks\":\"\"},\"colorscale\":[[0.0,\"#0d0887\"],[0.1111111111111111,\"#46039f\"],[0.2222222222222222,\"#7201a8\"],[0.3333333333333333,\"#9c179e\"],[0.4444444444444444,\"#bd3786\"],[0.5555555555555556,\"#d8576b\"],[0.6666666666666666,\"#ed7953\"],[0.7777777777777778,\"#fb9f3a\"],[0.8888888888888888,\"#fdca26\"],[1.0,\"#f0f921\"]],\"type\":\"surface\"}],\"table\":[{\"cells\":{\"fill\":{\"color\":\"#EBF0F8\"},\"line\":{\"color\":\"white\"}},\"header\":{\"fill\":{\"color\":\"#C8D4E3\"},\"line\":{\"color\":\"white\"}},\"type\":\"table\"}]},\"layout\":{\"annotationdefaults\":{\"arrowcolor\":\"#2a3f5f\",\"arrowhead\":0,\"arrowwidth\":1},\"autotypenumbers\":\"strict\",\"coloraxis\":{\"colorbar\":{\"outlinewidth\":0,\"ticks\":\"\"}},\"colorscale\":{\"diverging\":[[0,\"#8e0152\"],[0.1,\"#c51b7d\"],[0.2,\"#de77ae\"],[0.3,\"#f1b6da\"],[0.4,\"#fde0ef\"],[0.5,\"#f7f7f7\"],[0.6,\"#e6f5d0\"],[0.7,\"#b8e186\"],[0.8,\"#7fbc41\"],[0.9,\"#4d9221\"],[1,\"#276419\"]],\"sequential\":[[0.0,\"#0d0887\"],[0.1111111111111111,\"#46039f\"],[0.2222222222222222,\"#7201a8\"],[0.3333333333333333,\"#9c179e\"],[0.4444444444444444,\"#bd3786\"],[0.5555555555555556,\"#d8576b\"],[0.6666666666666666,\"#ed7953\"],[0.7777777777777778,\"#fb9f3a\"],[0.8888888888888888,\"#fdca26\"],[1.0,\"#f0f921\"]],\"sequentialminus\":[[0.0,\"#0d0887\"],[0.1111111111111111,\"#46039f\"],[0.2222222222222222,\"#7201a8\"],[0.3333333333333333,\"#9c179e\"],[0.4444444444444444,\"#bd3786\"],[0.5555555555555556,\"#d8576b\"],[0.6666666666666666,\"#ed7953\"],[0.7777777777777778,\"#fb9f3a\"],[0.8888888888888888,\"#fdca26\"],[1.0,\"#f0f921\"]]},\"colorway\":[\"#636efa\",\"#EF553B\",\"#00cc96\",\"#ab63fa\",\"#FFA15A\",\"#19d3f3\",\"#FF6692\",\"#B6E880\",\"#FF97FF\",\"#FECB52\"],\"font\":{\"color\":\"#2a3f5f\"},\"geo\":{\"bgcolor\":\"white\",\"lakecolor\":\"white\",\"landcolor\":\"#E5ECF6\",\"showlakes\":true,\"showland\":true,\"subunitcolor\":\"white\"},\"hoverlabel\":{\"align\":\"left\"},\"hovermode\":\"closest\",\"mapbox\":{\"style\":\"light\"},\"paper_bgcolor\":\"white\",\"plot_bgcolor\":\"#E5ECF6\",\"polar\":{\"angularaxis\":{\"gridcolor\":\"white\",\"linecolor\":\"white\",\"ticks\":\"\"},\"bgcolor\":\"#E5ECF6\",\"radialaxis\":{\"gridcolor\":\"white\",\"linecolor\":\"white\",\"ticks\":\"\"}},\"scene\":{\"xaxis\":{\"backgroundcolor\":\"#E5ECF6\",\"gridcolor\":\"white\",\"gridwidth\":2,\"linecolor\":\"white\",\"showbackground\":true,\"ticks\":\"\",\"zerolinecolor\":\"white\"},\"yaxis\":{\"backgroundcolor\":\"#E5ECF6\",\"gridcolor\":\"white\",\"gridwidth\":2,\"linecolor\":\"white\",\"showbackground\":true,\"ticks\":\"\",\"zerolinecolor\":\"white\"},\"zaxis\":{\"backgroundcolor\":\"#E5ECF6\",\"gridcolor\":\"white\",\"gridwidth\":2,\"linecolor\":\"white\",\"showbackground\":true,\"ticks\":\"\",\"zerolinecolor\":\"white\"}},\"shapedefaults\":{\"line\":{\"color\":\"#2a3f5f\"}},\"ternary\":{\"aaxis\":{\"gridcolor\":\"white\",\"linecolor\":\"white\",\"ticks\":\"\"},\"baxis\":{\"gridcolor\":\"white\",\"linecolor\":\"white\",\"ticks\":\"\"},\"bgcolor\":\"#E5ECF6\",\"caxis\":{\"gridcolor\":\"white\",\"linecolor\":\"white\",\"ticks\":\"\"}},\"title\":{\"x\":0.05},\"xaxis\":{\"automargin\":true,\"gridcolor\":\"white\",\"linecolor\":\"white\",\"ticks\":\"\",\"title\":{\"standoff\":15},\"zerolinecolor\":\"white\",\"zerolinewidth\":2},\"yaxis\":{\"automargin\":true,\"gridcolor\":\"white\",\"linecolor\":\"white\",\"ticks\":\"\",\"title\":{\"standoff\":15},\"zerolinecolor\":\"white\",\"zerolinewidth\":2}}},\"xaxis\":{\"anchor\":\"y\",\"domain\":[0.0,1.0],\"title\":{\"text\":\"Pre\\u00e7o Atual\"}},\"yaxis\":{\"anchor\":\"x\",\"domain\":[0.0,1.0],\"title\":{\"text\":\"DY (12M)Acumulado\"}},\"legend\":{\"title\":{\"text\":\"Setor\"},\"tracegroupgap\":0},\"margin\":{\"t\":60}},                        {\"responsive\": true}                    ).then(function(){\n",
              "                            \n",
              "var gd = document.getElementById('26319d3d-3e2b-4825-95eb-b16832baf180');\n",
              "var x = new MutationObserver(function (mutations, observer) {{\n",
              "        var display = window.getComputedStyle(gd).display;\n",
              "        if (!display || display === 'none') {{\n",
              "            console.log([gd, 'removed!']);\n",
              "            Plotly.purge(gd);\n",
              "            observer.disconnect();\n",
              "        }}\n",
              "}});\n",
              "\n",
              "// Listen for the removal of the full notebook cells\n",
              "var notebookContainer = gd.closest('#notebook-container');\n",
              "if (notebookContainer) {{\n",
              "    x.observe(notebookContainer, {childList: true});\n",
              "}}\n",
              "\n",
              "// Listen for the clearing of the current output cell\n",
              "var outputEl = gd.closest('.output');\n",
              "if (outputEl) {{\n",
              "    x.observe(outputEl, {childList: true});\n",
              "}}\n",
              "\n",
              "                        })                };                            </script>        </div>\n",
              "</body>\n",
              "</html>"
            ]
          },
          "metadata": {},
          "output_type": "display_data"
        }
      ],
      "source": [
        "import plotly.express as px\n",
        "\n",
        "fig = px.scatter(FII_df, x=\"Preço Atual\", y=\"DY (12M)Acumulado\",color='Setor')\n",
        "fig.show()"
      ]
    },
    {
      "cell_type": "code",
      "execution_count": null,
      "metadata": {
        "colab": {
          "base_uri": "https://localhost:8080/",
          "height": 542
        },
        "id": "c4QcoMxe6faF",
        "outputId": "3a43c86d-86cb-484c-cc4e-72ba0a4c0e2c"
      },
      "outputs": [
        {
          "data": {
            "text/html": [
              "<html>\n",
              "<head><meta charset=\"utf-8\" /></head>\n",
              "<body>\n",
              "    <div>            <script src=\"https://cdnjs.cloudflare.com/ajax/libs/mathjax/2.7.5/MathJax.js?config=TeX-AMS-MML_SVG\"></script><script type=\"text/javascript\">if (window.MathJax) {MathJax.Hub.Config({SVG: {font: \"STIX-Web\"}});}</script>                <script type=\"text/javascript\">window.PlotlyConfig = {MathJaxConfig: 'local'};</script>\n",
              "        <script src=\"https://cdn.plot.ly/plotly-2.8.3.min.js\"></script>                <div id=\"dbe6fdeb-4a6b-40d0-9d6e-427f4a15f790\" class=\"plotly-graph-div\" style=\"height:525px; width:100%;\"></div>            <script type=\"text/javascript\">                                    window.PLOTLYENV=window.PLOTLYENV || {};                                    if (document.getElementById(\"dbe6fdeb-4a6b-40d0-9d6e-427f4a15f790\")) {                    Plotly.newPlot(                        \"dbe6fdeb-4a6b-40d0-9d6e-427f4a15f790\",                        [{\"hovertemplate\":\"Setor=Shoppings<br>log Pre\\u00e7o Atual=%{x}<br>DY (12M)Acumulado=%{y}<extra></extra>\",\"legendgroup\":\"Shoppings\",\"marker\":{\"color\":\"#636efa\",\"symbol\":\"circle\"},\"mode\":\"markers\",\"name\":\"Shoppings\",\"orientation\":\"v\",\"showlegend\":true,\"x\":[1.1969481893889715,4.319086834900007,4.443709519861466,5.093750200806762,4.614328123772857,3.9611940494345954,4.3067641501733345,4.768478803600115,4.499809670330265,7.612455465820658,4.309455941839047,6.708328254285243,4.574710978503383,4.585987366571318,4.376888456817758,2.1400661634962708,1.673351238177753,4.31748811353631,4.186163807313259,4.517431271680085,7.099201743553092,3.3826939100975957],\"xaxis\":\"x\",\"y\":[0.0,0.0,4.49,5.12,7.11,5.7,6.66,6.51,6.16,5.94,7.28,4.75,2.97,6.05,7.43,2.98,0.03,6.39,0.0,6.37,6.01,5.12],\"yaxis\":\"y\",\"type\":\"scatter\"},{\"hovertemplate\":\"Setor=T\\u00edtulos e Val. Mob.<br>log Pre\\u00e7o Atual=%{x}<br>DY (12M)Acumulado=%{y}<extra></extra>\",\"legendgroup\":\"T\\u00edtulos e Val. Mob.\",\"marker\":{\"color\":\"#EF553B\",\"symbol\":\"circle\"},\"mode\":\"markers\",\"name\":\"T\\u00edtulos e Val. Mob.\",\"orientation\":\"v\",\"showlegend\":true,\"x\":[2.7536607123542622,4.563722996073918,4.608664075242347,4.171768459186905,4.700480365792417,4.65586330030361,4.643621372362344,2.3933394562625097,4.29714934254078,4.3463994570307305,2.1471001901536506,4.269697449699962,3.949318790171843,4.315753276242594,4.42484663185681,6.381291345102683,4.553876891600541,4.483906098495052,4.574401652316455,4.6341462942246086,4.605170185988092,4.61512051684126,2.402430427963762,4.663250397064616,4.262116338001324,4.308514638737202,4.517867857585295,2.3832429960115,4.595018834931716,4.638604962074329,4.31748811353631,4.59511985013459,4.7140245909001735,4.497028027368389,3.77138067562568,4.543294782270004,4.543294782270004,4.409276949164042,4.465908118654584,4.02535169073515,4.483002552013883,4.61561544384963,4.283586561860629,4.232656178019613,4.182050142641207,2.1041341542702074,4.548599834499697,4.559021529962111,4.474263916140292,4.22829253473184,4.587820547652979,4.151197373814884,4.586802528629907,4.605869941102364,4.617296365785932,4.353241283242128,4.445588116163626,4.629862798578463,4.627909672957581,4.667957174086856,4.058544658090914,4.576153236917599,4.23410650459726,4.5591262474866845,2.3988039507345884,4.62114195549779,4.612245099660053,2.4458192610799534,4.5872098606110985,4.303929948937459,4.458871928370793,4.27874728521988,4.290459441148391,2.3045830956567186,4.414735809083586,4.632785353021065,4.61512051684126,4.1728476237100445,4.402074329977659,4.551452903482104,4.5490230253650905,4.59511985013459,4.743191483885466,4.594109238628667,4.6238937999861935,4.605969866158656],\"xaxis\":\"x\",\"y\":[0.0,13.52,15.11,9.71,9.48,15.58,12.17,0.0,0.0,9.36,8.53,0.0,9.57,7.93,8.56,7.22,12.85,12.52,12.87,13.66,13.71,6.76,0.0,10.63,8.24,8.7,11.26,0.0,10.58,12.81,8.18,13.71,13.35,6.73,10.66,12.15,5.78,0.0,9.55,9.46,12.26,11.24,9.31,9.76,7.5,10.21,12.59,10.51,11.32,8.14,14.94,9.16,0.0,13.32,12.16,10.29,0.0,12.05,10.74,10.99,9.09,0.0,9.16,12.46,0.0,9.1,11.09,0.0,0.0,10.94,11.52,9.77,0.0,0.0,0.0,0.0,0.0,10.82,12.42,0.0,11.97,0.0,0.0,0.0,0.0,0.0],\"yaxis\":\"y\",\"type\":\"scatter\"},{\"hovertemplate\":\"Setor=Lajes Corporativas<br>log Pre\\u00e7o Atual=%{x}<br>DY (12M)Acumulado=%{y}<extra></extra>\",\"legendgroup\":\"Lajes Corporativas\",\"marker\":{\"color\":\"#00cc96\",\"symbol\":\"circle\"},\"mode\":\"markers\",\"name\":\"Lajes Corporativas\",\"orientation\":\"v\",\"showlegend\":true,\"x\":[1.9782390361706734,6.852242569051878,5.111987788356544,4.4790399088438795,4.823502180305079,4.118874559965378,4.366912996863833,3.875773872753025,7.601402334583733,3.8792931808052273,4.487512142519859,4.563722996073918,4.6913478822291435,3.5507661519843023,5.564520407322694,10.1656521816932,4.573163389853005,2.8791984572980396,3.8046604870996465,4.207673247529104,4.368941395125226,3.912023005428146,5.37989735354046,4.2408950047047895,4.365643155423357,5.393627546352362,5.006627272698717,4.822537084524846,4.04305126783455,3.4965075614664802,4.762173934797756,6.7226297948554485,4.5217885770490405,4.59511985013459,4.727387818712341,4.477336814478207,3.1458749319837103,3.5743099993708003,3.0281994636914926],\"xaxis\":\"x\",\"y\":[0.0,0.0,0.0,7.21,8.28,11.96,0.0,7.54,13.83,9.93,11.07,5.79,0.0,1.74,6.6,0.0,6.52,9.93,21.8,7.28,9.05,8.42,6.68,5.57,9.01,7.18,6.29,6.52,8.78,16.63,5.95,10.43,8.16,0.0,3.9,0.0,5.53,3.39,6.04],\"yaxis\":\"y\",\"type\":\"scatter\"},{\"hovertemplate\":\"Setor=H\\u00edbrido<br>log Pre\\u00e7o Atual=%{x}<br>DY (12M)Acumulado=%{y}<extra></extra>\",\"legendgroup\":\"H\\u00edbrido\",\"marker\":{\"color\":\"#ab63fa\",\"symbol\":\"circle\"},\"mode\":\"markers\",\"name\":\"H\\u00edbrido\",\"orientation\":\"v\",\"showlegend\":true,\"x\":[2.234306252240751,4.582413198865475,4.702387636703451,4.969813299576001,4.477223171657469,4.290048397777529,4.639185064575369,4.532599493153256,6.097759625925584,4.691072614988795,2.423031246069913,4.639571612705423,4.5591262474866845,2.3105532626432224,4.315218874092267,3.912622825500114,4.56746831880408,4.31508522892,4.248495242049359,4.622617099591812,4.143293443953964,4.634728988229636,4.61512051684126,4.5592309540466465,4.306090068583941,4.454347296253507,4.198554416122531,4.56954300834494,4.777441406928545,4.569024739351738,4.20960590255719,4.3578620076745835,4.290459441148391,4.17315574264639,4.235699438103303,2.513656063073986,4.726502471155617,5.0106352940962555,1.33500106673234,4.564348191467836,4.726502471155617,11.23850177707664,3.716008121502189],\"xaxis\":\"x\",\"y\":[0.0,0.0,7.6,6.43,12.16,7.59,11.46,8.27,8.41,14.28,0.0,11.84,8.75,9.71,7.67,5.15,0.0,8.84,9.17,10.31,7.05,0.0,5.4,9.59,11.22,9.97,7.67,6.42,5.27,8.47,7.63,0.0,10.52,8.75,10.72,0.0,0.0,3.34,1.6,0.0,14.61,0.0,6.33],\"yaxis\":\"y\",\"type\":\"scatter\"},{\"hovertemplate\":\"Setor=Log\\u00edstica<br>log Pre\\u00e7o Atual=%{x}<br>DY (12M)Acumulado=%{y}<extra></extra>\",\"legendgroup\":\"Log\\u00edstica\",\"marker\":{\"color\":\"#FFA15A\",\"symbol\":\"circle\"},\"mode\":\"markers\",\"name\":\"Log\\u00edstica\",\"orientation\":\"v\",\"showlegend\":true,\"x\":[4.595220855134423,5.087596335232384,4.614823443016229,4.465563231601674,4.604369865817322,4.4764273100953655,4.529476341618891,5.352095072228508,4.574401652316455,4.051958845725663,4.485259889315534,4.324132656254979,4.38974675768902,5.098035484377089,5.648974238161206,4.477336814478207,4.629667657588479,4.381651564343798,3.912023005428146,4.460144413937834,4.647271362006727,4.710880640410205],\"xaxis\":\"x\",\"y\":[7.49,8.46,7.25,8.94,6.96,7.43,9.2,8.92,6.86,7.22,7.28,0.0,7.77,8.36,0.0,7.8,8.21,10.76,0.0,8.67,7.92,6.98],\"yaxis\":\"y\",\"type\":\"scatter\"},{\"hovertemplate\":\"Setor=Outros<br>log Pre\\u00e7o Atual=%{x}<br>DY (12M)Acumulado=%{y}<extra></extra>\",\"legendgroup\":\"Outros\",\"marker\":{\"color\":\"#19d3f3\",\"symbol\":\"circle\"},\"mode\":\"markers\",\"name\":\"Outros\",\"orientation\":\"v\",\"showlegend\":true,\"x\":[4.799914262780603,4.483002552013883,4.765501724890431,4.711330381816482,3.71965111278069,4.598749618185169,4.0257087698319625,4.5685062016165,4.541697763032518,4.553771622902091,4.795790545596741,4.556924873360097,2.5641798306825083,4.256038151220088,3.9128226855987105,6.543911845564792,4.387760166521642,2.343727036325221,2.277267285009756,4.248352374701448,4.768563732896527,4.889973117689029,4.185555442275485,4.356580613342406,4.612145799724517,4.442651256490317,7.327123292259293,3.811539466849824,4.466942066704648,4.599956618935204,4.428313668625195,4.583946549536464,4.727387818712341,4.609759638321899],\"xaxis\":\"x\",\"y\":[9.46,0.0,18.35,11.14,12.54,8.78,9.36,11.96,10.43,6.64,11.25,10.02,3.68,10.12,8.99,12.52,8.92,15.7,10.56,9.92,15.36,9.28,6.6,0.0,13.89,6.73,0.0,8.69,0.0,9.98,7.94,8.65,8.03,0.0],\"yaxis\":\"y\",\"type\":\"scatter\"},{\"hovertemplate\":\"Setor=Residencial<br>log Pre\\u00e7o Atual=%{x}<br>DY (12M)Acumulado=%{y}<extra></extra>\",\"legendgroup\":\"Residencial\",\"marker\":{\"color\":\"#FF6692\",\"symbol\":\"circle\"},\"mode\":\"markers\",\"name\":\"Residencial\",\"orientation\":\"v\",\"showlegend\":true,\"x\":[2.631888840136646,4.406719247264253,4.294560608892605,4.2626798770413155,0.6678293725756554,1.6937790608678513,4.2626798770413155],\"xaxis\":\"x\",\"y\":[0.0,6.9,9.1,0.0,0.0,0.0,0.0],\"yaxis\":\"y\",\"type\":\"scatter\"},{\"hovertemplate\":\"Setor=Hospital<br>log Pre\\u00e7o Atual=%{x}<br>DY (12M)Acumulado=%{y}<extra></extra>\",\"legendgroup\":\"Hospital\",\"marker\":{\"color\":\"#B6E880\",\"symbol\":\"circle\"},\"mode\":\"markers\",\"name\":\"Hospital\",\"orientation\":\"v\",\"showlegend\":true,\"x\":[2.5610957881455465,4.976733742420574,5.602118820879701],\"xaxis\":\"x\",\"y\":[6.49,9.49,9.33],\"yaxis\":\"y\",\"type\":\"scatter\"},{\"hovertemplate\":\"Setor=Hotel<br>log Pre\\u00e7o Atual=%{x}<br>DY (12M)Acumulado=%{y}<extra></extra>\",\"legendgroup\":\"Hotel\",\"marker\":{\"color\":\"#FF97FF\",\"symbol\":\"circle\"},\"mode\":\"markers\",\"name\":\"Hotel\",\"orientation\":\"v\",\"showlegend\":true,\"x\":[4.553771622902091,4.321347323862031,4.4557416724961625],\"xaxis\":\"x\",\"y\":[0.0,5.41,9.35],\"yaxis\":\"y\",\"type\":\"scatter\"}],                        {\"template\":{\"data\":{\"bar\":[{\"error_x\":{\"color\":\"#2a3f5f\"},\"error_y\":{\"color\":\"#2a3f5f\"},\"marker\":{\"line\":{\"color\":\"#E5ECF6\",\"width\":0.5},\"pattern\":{\"fillmode\":\"overlay\",\"size\":10,\"solidity\":0.2}},\"type\":\"bar\"}],\"barpolar\":[{\"marker\":{\"line\":{\"color\":\"#E5ECF6\",\"width\":0.5},\"pattern\":{\"fillmode\":\"overlay\",\"size\":10,\"solidity\":0.2}},\"type\":\"barpolar\"}],\"carpet\":[{\"aaxis\":{\"endlinecolor\":\"#2a3f5f\",\"gridcolor\":\"white\",\"linecolor\":\"white\",\"minorgridcolor\":\"white\",\"startlinecolor\":\"#2a3f5f\"},\"baxis\":{\"endlinecolor\":\"#2a3f5f\",\"gridcolor\":\"white\",\"linecolor\":\"white\",\"minorgridcolor\":\"white\",\"startlinecolor\":\"#2a3f5f\"},\"type\":\"carpet\"}],\"choropleth\":[{\"colorbar\":{\"outlinewidth\":0,\"ticks\":\"\"},\"type\":\"choropleth\"}],\"contour\":[{\"colorbar\":{\"outlinewidth\":0,\"ticks\":\"\"},\"colorscale\":[[0.0,\"#0d0887\"],[0.1111111111111111,\"#46039f\"],[0.2222222222222222,\"#7201a8\"],[0.3333333333333333,\"#9c179e\"],[0.4444444444444444,\"#bd3786\"],[0.5555555555555556,\"#d8576b\"],[0.6666666666666666,\"#ed7953\"],[0.7777777777777778,\"#fb9f3a\"],[0.8888888888888888,\"#fdca26\"],[1.0,\"#f0f921\"]],\"type\":\"contour\"}],\"contourcarpet\":[{\"colorbar\":{\"outlinewidth\":0,\"ticks\":\"\"},\"type\":\"contourcarpet\"}],\"heatmap\":[{\"colorbar\":{\"outlinewidth\":0,\"ticks\":\"\"},\"colorscale\":[[0.0,\"#0d0887\"],[0.1111111111111111,\"#46039f\"],[0.2222222222222222,\"#7201a8\"],[0.3333333333333333,\"#9c179e\"],[0.4444444444444444,\"#bd3786\"],[0.5555555555555556,\"#d8576b\"],[0.6666666666666666,\"#ed7953\"],[0.7777777777777778,\"#fb9f3a\"],[0.8888888888888888,\"#fdca26\"],[1.0,\"#f0f921\"]],\"type\":\"heatmap\"}],\"heatmapgl\":[{\"colorbar\":{\"outlinewidth\":0,\"ticks\":\"\"},\"colorscale\":[[0.0,\"#0d0887\"],[0.1111111111111111,\"#46039f\"],[0.2222222222222222,\"#7201a8\"],[0.3333333333333333,\"#9c179e\"],[0.4444444444444444,\"#bd3786\"],[0.5555555555555556,\"#d8576b\"],[0.6666666666666666,\"#ed7953\"],[0.7777777777777778,\"#fb9f3a\"],[0.8888888888888888,\"#fdca26\"],[1.0,\"#f0f921\"]],\"type\":\"heatmapgl\"}],\"histogram\":[{\"marker\":{\"pattern\":{\"fillmode\":\"overlay\",\"size\":10,\"solidity\":0.2}},\"type\":\"histogram\"}],\"histogram2d\":[{\"colorbar\":{\"outlinewidth\":0,\"ticks\":\"\"},\"colorscale\":[[0.0,\"#0d0887\"],[0.1111111111111111,\"#46039f\"],[0.2222222222222222,\"#7201a8\"],[0.3333333333333333,\"#9c179e\"],[0.4444444444444444,\"#bd3786\"],[0.5555555555555556,\"#d8576b\"],[0.6666666666666666,\"#ed7953\"],[0.7777777777777778,\"#fb9f3a\"],[0.8888888888888888,\"#fdca26\"],[1.0,\"#f0f921\"]],\"type\":\"histogram2d\"}],\"histogram2dcontour\":[{\"colorbar\":{\"outlinewidth\":0,\"ticks\":\"\"},\"colorscale\":[[0.0,\"#0d0887\"],[0.1111111111111111,\"#46039f\"],[0.2222222222222222,\"#7201a8\"],[0.3333333333333333,\"#9c179e\"],[0.4444444444444444,\"#bd3786\"],[0.5555555555555556,\"#d8576b\"],[0.6666666666666666,\"#ed7953\"],[0.7777777777777778,\"#fb9f3a\"],[0.8888888888888888,\"#fdca26\"],[1.0,\"#f0f921\"]],\"type\":\"histogram2dcontour\"}],\"mesh3d\":[{\"colorbar\":{\"outlinewidth\":0,\"ticks\":\"\"},\"type\":\"mesh3d\"}],\"parcoords\":[{\"line\":{\"colorbar\":{\"outlinewidth\":0,\"ticks\":\"\"}},\"type\":\"parcoords\"}],\"pie\":[{\"automargin\":true,\"type\":\"pie\"}],\"scatter\":[{\"marker\":{\"colorbar\":{\"outlinewidth\":0,\"ticks\":\"\"}},\"type\":\"scatter\"}],\"scatter3d\":[{\"line\":{\"colorbar\":{\"outlinewidth\":0,\"ticks\":\"\"}},\"marker\":{\"colorbar\":{\"outlinewidth\":0,\"ticks\":\"\"}},\"type\":\"scatter3d\"}],\"scattercarpet\":[{\"marker\":{\"colorbar\":{\"outlinewidth\":0,\"ticks\":\"\"}},\"type\":\"scattercarpet\"}],\"scattergeo\":[{\"marker\":{\"colorbar\":{\"outlinewidth\":0,\"ticks\":\"\"}},\"type\":\"scattergeo\"}],\"scattergl\":[{\"marker\":{\"colorbar\":{\"outlinewidth\":0,\"ticks\":\"\"}},\"type\":\"scattergl\"}],\"scattermapbox\":[{\"marker\":{\"colorbar\":{\"outlinewidth\":0,\"ticks\":\"\"}},\"type\":\"scattermapbox\"}],\"scatterpolar\":[{\"marker\":{\"colorbar\":{\"outlinewidth\":0,\"ticks\":\"\"}},\"type\":\"scatterpolar\"}],\"scatterpolargl\":[{\"marker\":{\"colorbar\":{\"outlinewidth\":0,\"ticks\":\"\"}},\"type\":\"scatterpolargl\"}],\"scatterternary\":[{\"marker\":{\"colorbar\":{\"outlinewidth\":0,\"ticks\":\"\"}},\"type\":\"scatterternary\"}],\"surface\":[{\"colorbar\":{\"outlinewidth\":0,\"ticks\":\"\"},\"colorscale\":[[0.0,\"#0d0887\"],[0.1111111111111111,\"#46039f\"],[0.2222222222222222,\"#7201a8\"],[0.3333333333333333,\"#9c179e\"],[0.4444444444444444,\"#bd3786\"],[0.5555555555555556,\"#d8576b\"],[0.6666666666666666,\"#ed7953\"],[0.7777777777777778,\"#fb9f3a\"],[0.8888888888888888,\"#fdca26\"],[1.0,\"#f0f921\"]],\"type\":\"surface\"}],\"table\":[{\"cells\":{\"fill\":{\"color\":\"#EBF0F8\"},\"line\":{\"color\":\"white\"}},\"header\":{\"fill\":{\"color\":\"#C8D4E3\"},\"line\":{\"color\":\"white\"}},\"type\":\"table\"}]},\"layout\":{\"annotationdefaults\":{\"arrowcolor\":\"#2a3f5f\",\"arrowhead\":0,\"arrowwidth\":1},\"autotypenumbers\":\"strict\",\"coloraxis\":{\"colorbar\":{\"outlinewidth\":0,\"ticks\":\"\"}},\"colorscale\":{\"diverging\":[[0,\"#8e0152\"],[0.1,\"#c51b7d\"],[0.2,\"#de77ae\"],[0.3,\"#f1b6da\"],[0.4,\"#fde0ef\"],[0.5,\"#f7f7f7\"],[0.6,\"#e6f5d0\"],[0.7,\"#b8e186\"],[0.8,\"#7fbc41\"],[0.9,\"#4d9221\"],[1,\"#276419\"]],\"sequential\":[[0.0,\"#0d0887\"],[0.1111111111111111,\"#46039f\"],[0.2222222222222222,\"#7201a8\"],[0.3333333333333333,\"#9c179e\"],[0.4444444444444444,\"#bd3786\"],[0.5555555555555556,\"#d8576b\"],[0.6666666666666666,\"#ed7953\"],[0.7777777777777778,\"#fb9f3a\"],[0.8888888888888888,\"#fdca26\"],[1.0,\"#f0f921\"]],\"sequentialminus\":[[0.0,\"#0d0887\"],[0.1111111111111111,\"#46039f\"],[0.2222222222222222,\"#7201a8\"],[0.3333333333333333,\"#9c179e\"],[0.4444444444444444,\"#bd3786\"],[0.5555555555555556,\"#d8576b\"],[0.6666666666666666,\"#ed7953\"],[0.7777777777777778,\"#fb9f3a\"],[0.8888888888888888,\"#fdca26\"],[1.0,\"#f0f921\"]]},\"colorway\":[\"#636efa\",\"#EF553B\",\"#00cc96\",\"#ab63fa\",\"#FFA15A\",\"#19d3f3\",\"#FF6692\",\"#B6E880\",\"#FF97FF\",\"#FECB52\"],\"font\":{\"color\":\"#2a3f5f\"},\"geo\":{\"bgcolor\":\"white\",\"lakecolor\":\"white\",\"landcolor\":\"#E5ECF6\",\"showlakes\":true,\"showland\":true,\"subunitcolor\":\"white\"},\"hoverlabel\":{\"align\":\"left\"},\"hovermode\":\"closest\",\"mapbox\":{\"style\":\"light\"},\"paper_bgcolor\":\"white\",\"plot_bgcolor\":\"#E5ECF6\",\"polar\":{\"angularaxis\":{\"gridcolor\":\"white\",\"linecolor\":\"white\",\"ticks\":\"\"},\"bgcolor\":\"#E5ECF6\",\"radialaxis\":{\"gridcolor\":\"white\",\"linecolor\":\"white\",\"ticks\":\"\"}},\"scene\":{\"xaxis\":{\"backgroundcolor\":\"#E5ECF6\",\"gridcolor\":\"white\",\"gridwidth\":2,\"linecolor\":\"white\",\"showbackground\":true,\"ticks\":\"\",\"zerolinecolor\":\"white\"},\"yaxis\":{\"backgroundcolor\":\"#E5ECF6\",\"gridcolor\":\"white\",\"gridwidth\":2,\"linecolor\":\"white\",\"showbackground\":true,\"ticks\":\"\",\"zerolinecolor\":\"white\"},\"zaxis\":{\"backgroundcolor\":\"#E5ECF6\",\"gridcolor\":\"white\",\"gridwidth\":2,\"linecolor\":\"white\",\"showbackground\":true,\"ticks\":\"\",\"zerolinecolor\":\"white\"}},\"shapedefaults\":{\"line\":{\"color\":\"#2a3f5f\"}},\"ternary\":{\"aaxis\":{\"gridcolor\":\"white\",\"linecolor\":\"white\",\"ticks\":\"\"},\"baxis\":{\"gridcolor\":\"white\",\"linecolor\":\"white\",\"ticks\":\"\"},\"bgcolor\":\"#E5ECF6\",\"caxis\":{\"gridcolor\":\"white\",\"linecolor\":\"white\",\"ticks\":\"\"}},\"title\":{\"x\":0.05},\"xaxis\":{\"automargin\":true,\"gridcolor\":\"white\",\"linecolor\":\"white\",\"ticks\":\"\",\"title\":{\"standoff\":15},\"zerolinecolor\":\"white\",\"zerolinewidth\":2},\"yaxis\":{\"automargin\":true,\"gridcolor\":\"white\",\"linecolor\":\"white\",\"ticks\":\"\",\"title\":{\"standoff\":15},\"zerolinecolor\":\"white\",\"zerolinewidth\":2}}},\"xaxis\":{\"anchor\":\"y\",\"domain\":[0.0,1.0],\"title\":{\"text\":\"log Pre\\u00e7o Atual\"}},\"yaxis\":{\"anchor\":\"x\",\"domain\":[0.0,1.0],\"title\":{\"text\":\"DY (12M)Acumulado\"}},\"legend\":{\"title\":{\"text\":\"Setor\"},\"tracegroupgap\":0},\"margin\":{\"t\":60}},                        {\"responsive\": true}                    ).then(function(){\n",
              "                            \n",
              "var gd = document.getElementById('dbe6fdeb-4a6b-40d0-9d6e-427f4a15f790');\n",
              "var x = new MutationObserver(function (mutations, observer) {{\n",
              "        var display = window.getComputedStyle(gd).display;\n",
              "        if (!display || display === 'none') {{\n",
              "            console.log([gd, 'removed!']);\n",
              "            Plotly.purge(gd);\n",
              "            observer.disconnect();\n",
              "        }}\n",
              "}});\n",
              "\n",
              "// Listen for the removal of the full notebook cells\n",
              "var notebookContainer = gd.closest('#notebook-container');\n",
              "if (notebookContainer) {{\n",
              "    x.observe(notebookContainer, {childList: true});\n",
              "}}\n",
              "\n",
              "// Listen for the clearing of the current output cell\n",
              "var outputEl = gd.closest('.output');\n",
              "if (outputEl) {{\n",
              "    x.observe(outputEl, {childList: true});\n",
              "}}\n",
              "\n",
              "                        })                };                            </script>        </div>\n",
              "</body>\n",
              "</html>"
            ]
          },
          "metadata": {},
          "output_type": "display_data"
        }
      ],
      "source": [
        "import numpy as np\n",
        "\n",
        "FII_df['log Preço Atual'] = np.log(FII_df[\"Preço Atual\"]+1)\n",
        "\n",
        "fig = px.scatter(FII_df, x=\"log Preço Atual\", y=\"DY (12M)Acumulado\",color='Setor')\n",
        "fig.show()"
      ]
    },
    {
      "cell_type": "code",
      "execution_count": null,
      "metadata": {
        "colab": {
          "base_uri": "https://localhost:8080/",
          "height": 363
        },
        "id": "RoMHxxMv76zN",
        "outputId": "0636b54b-75a5-4a24-d8b9-cd637cb0fdd2"
      },
      "outputs": [
        {
          "data": {
            "text/html": [
              "\n",
              "  <div id=\"df-4146c8fc-00a5-4f6c-9b6f-42371a35711c\">\n",
              "    <div class=\"colab-df-container\">\n",
              "      <div>\n",
              "<style scoped>\n",
              "    .dataframe tbody tr th:only-of-type {\n",
              "        vertical-align: middle;\n",
              "    }\n",
              "\n",
              "    .dataframe tbody tr th {\n",
              "        vertical-align: top;\n",
              "    }\n",
              "\n",
              "    .dataframe thead th {\n",
              "        text-align: right;\n",
              "    }\n",
              "</style>\n",
              "<table border=\"1\" class=\"dataframe\">\n",
              "  <thead>\n",
              "    <tr style=\"text-align: right;\">\n",
              "      <th></th>\n",
              "      <th>mean</th>\n",
              "      <th>median</th>\n",
              "    </tr>\n",
              "    <tr>\n",
              "      <th>Setor</th>\n",
              "      <th></th>\n",
              "      <th></th>\n",
              "    </tr>\n",
              "  </thead>\n",
              "  <tbody>\n",
              "    <tr>\n",
              "      <th>Outros</th>\n",
              "      <td>8.690882</td>\n",
              "      <td>9.32</td>\n",
              "    </tr>\n",
              "    <tr>\n",
              "      <th>Hospital</th>\n",
              "      <td>8.436667</td>\n",
              "      <td>9.33</td>\n",
              "    </tr>\n",
              "    <tr>\n",
              "      <th>Títulos e Val. Mob.</th>\n",
              "      <td>7.741047</td>\n",
              "      <td>9.47</td>\n",
              "    </tr>\n",
              "    <tr>\n",
              "      <th>Logística</th>\n",
              "      <td>6.930909</td>\n",
              "      <td>7.63</td>\n",
              "    </tr>\n",
              "    <tr>\n",
              "      <th>Lajes Corporativas</th>\n",
              "      <td>6.590000</td>\n",
              "      <td>6.60</td>\n",
              "    </tr>\n",
              "    <tr>\n",
              "      <th>Híbrido</th>\n",
              "      <td>6.562791</td>\n",
              "      <td>7.63</td>\n",
              "    </tr>\n",
              "    <tr>\n",
              "      <th>Hotel</th>\n",
              "      <td>4.920000</td>\n",
              "      <td>5.41</td>\n",
              "    </tr>\n",
              "    <tr>\n",
              "      <th>Shoppings</th>\n",
              "      <td>4.685000</td>\n",
              "      <td>5.82</td>\n",
              "    </tr>\n",
              "    <tr>\n",
              "      <th>Residencial</th>\n",
              "      <td>2.285714</td>\n",
              "      <td>0.00</td>\n",
              "    </tr>\n",
              "  </tbody>\n",
              "</table>\n",
              "</div>\n",
              "      <button class=\"colab-df-convert\" onclick=\"convertToInteractive('df-4146c8fc-00a5-4f6c-9b6f-42371a35711c')\"\n",
              "              title=\"Convert this dataframe to an interactive table.\"\n",
              "              style=\"display:none;\">\n",
              "        \n",
              "  <svg xmlns=\"http://www.w3.org/2000/svg\" height=\"24px\"viewBox=\"0 0 24 24\"\n",
              "       width=\"24px\">\n",
              "    <path d=\"M0 0h24v24H0V0z\" fill=\"none\"/>\n",
              "    <path d=\"M18.56 5.44l.94 2.06.94-2.06 2.06-.94-2.06-.94-.94-2.06-.94 2.06-2.06.94zm-11 1L8.5 8.5l.94-2.06 2.06-.94-2.06-.94L8.5 2.5l-.94 2.06-2.06.94zm10 10l.94 2.06.94-2.06 2.06-.94-2.06-.94-.94-2.06-.94 2.06-2.06.94z\"/><path d=\"M17.41 7.96l-1.37-1.37c-.4-.4-.92-.59-1.43-.59-.52 0-1.04.2-1.43.59L10.3 9.45l-7.72 7.72c-.78.78-.78 2.05 0 2.83L4 21.41c.39.39.9.59 1.41.59.51 0 1.02-.2 1.41-.59l7.78-7.78 2.81-2.81c.8-.78.8-2.07 0-2.86zM5.41 20L4 18.59l7.72-7.72 1.47 1.35L5.41 20z\"/>\n",
              "  </svg>\n",
              "      </button>\n",
              "      \n",
              "  <style>\n",
              "    .colab-df-container {\n",
              "      display:flex;\n",
              "      flex-wrap:wrap;\n",
              "      gap: 12px;\n",
              "    }\n",
              "\n",
              "    .colab-df-convert {\n",
              "      background-color: #E8F0FE;\n",
              "      border: none;\n",
              "      border-radius: 50%;\n",
              "      cursor: pointer;\n",
              "      display: none;\n",
              "      fill: #1967D2;\n",
              "      height: 32px;\n",
              "      padding: 0 0 0 0;\n",
              "      width: 32px;\n",
              "    }\n",
              "\n",
              "    .colab-df-convert:hover {\n",
              "      background-color: #E2EBFA;\n",
              "      box-shadow: 0px 1px 2px rgba(60, 64, 67, 0.3), 0px 1px 3px 1px rgba(60, 64, 67, 0.15);\n",
              "      fill: #174EA6;\n",
              "    }\n",
              "\n",
              "    [theme=dark] .colab-df-convert {\n",
              "      background-color: #3B4455;\n",
              "      fill: #D2E3FC;\n",
              "    }\n",
              "\n",
              "    [theme=dark] .colab-df-convert:hover {\n",
              "      background-color: #434B5C;\n",
              "      box-shadow: 0px 1px 3px 1px rgba(0, 0, 0, 0.15);\n",
              "      filter: drop-shadow(0px 1px 2px rgba(0, 0, 0, 0.3));\n",
              "      fill: #FFFFFF;\n",
              "    }\n",
              "  </style>\n",
              "\n",
              "      <script>\n",
              "        const buttonEl =\n",
              "          document.querySelector('#df-4146c8fc-00a5-4f6c-9b6f-42371a35711c button.colab-df-convert');\n",
              "        buttonEl.style.display =\n",
              "          google.colab.kernel.accessAllowed ? 'block' : 'none';\n",
              "\n",
              "        async function convertToInteractive(key) {\n",
              "          const element = document.querySelector('#df-4146c8fc-00a5-4f6c-9b6f-42371a35711c');\n",
              "          const dataTable =\n",
              "            await google.colab.kernel.invokeFunction('convertToInteractive',\n",
              "                                                     [key], {});\n",
              "          if (!dataTable) return;\n",
              "\n",
              "          const docLinkHtml = 'Like what you see? Visit the ' +\n",
              "            '<a target=\"_blank\" href=https://colab.research.google.com/notebooks/data_table.ipynb>data table notebook</a>'\n",
              "            + ' to learn more about interactive tables.';\n",
              "          element.innerHTML = '';\n",
              "          dataTable['output_type'] = 'display_data';\n",
              "          await google.colab.output.renderOutput(dataTable, element);\n",
              "          const docLink = document.createElement('div');\n",
              "          docLink.innerHTML = docLinkHtml;\n",
              "          element.appendChild(docLink);\n",
              "        }\n",
              "      </script>\n",
              "    </div>\n",
              "  </div>\n",
              "  "
            ],
            "text/plain": [
              "                         mean  median\n",
              "Setor                                \n",
              "Outros               8.690882    9.32\n",
              "Hospital             8.436667    9.33\n",
              "Títulos e Val. Mob.  7.741047    9.47\n",
              "Logística            6.930909    7.63\n",
              "Lajes Corporativas   6.590000    6.60\n",
              "Híbrido              6.562791    7.63\n",
              "Hotel                4.920000    5.41\n",
              "Shoppings            4.685000    5.82\n",
              "Residencial          2.285714    0.00"
            ]
          },
          "execution_count": 71,
          "metadata": {},
          "output_type": "execute_result"
        }
      ],
      "source": [
        "# Nesta análise, os FIIs dos setores \"Outros\" e \"Hospitais\" e \"Títulos e Val. Mob.\" parecem ser melhores em relação ao retorno de dividendos\n",
        "\n",
        "pivot_table_FIIs = pd.pivot_table(FII_df, values=\"DY (12M)Acumulado\", index=[\"Setor\"], columns=[],aggfunc=('mean','median'))\n",
        "pivot_table_FIIs.sort_values('mean',ascending=False)"
      ]
    },
    {
      "cell_type": "code",
      "execution_count": null,
      "metadata": {
        "colab": {
          "base_uri": "https://localhost:8080/",
          "height": 542
        },
        "id": "15jzofbP7c-F",
        "outputId": "fc19c803-bac0-4904-ba16-83578786ec73"
      },
      "outputs": [
        {
          "data": {
            "text/html": [
              "<html>\n",
              "<head><meta charset=\"utf-8\" /></head>\n",
              "<body>\n",
              "    <div>            <script src=\"https://cdnjs.cloudflare.com/ajax/libs/mathjax/2.7.5/MathJax.js?config=TeX-AMS-MML_SVG\"></script><script type=\"text/javascript\">if (window.MathJax) {MathJax.Hub.Config({SVG: {font: \"STIX-Web\"}});}</script>                <script type=\"text/javascript\">window.PlotlyConfig = {MathJaxConfig: 'local'};</script>\n",
              "        <script src=\"https://cdn.plot.ly/plotly-2.8.3.min.js\"></script>                <div id=\"64ed8d4d-0bbf-43f6-a4e8-9bd06f4a7e46\" class=\"plotly-graph-div\" style=\"height:525px; width:100%;\"></div>            <script type=\"text/javascript\">                                    window.PLOTLYENV=window.PLOTLYENV || {};                                    if (document.getElementById(\"64ed8d4d-0bbf-43f6-a4e8-9bd06f4a7e46\")) {                    Plotly.newPlot(                        \"64ed8d4d-0bbf-43f6-a4e8-9bd06f4a7e46\",                        [{\"alignmentgroup\":\"True\",\"hovertemplate\":\"Setor=%{x}<br>DY (12M)Acumulado=%{y}<extra></extra>\",\"legendgroup\":\"\",\"marker\":{\"color\":\"#636efa\"},\"name\":\"\",\"notched\":false,\"offsetgroup\":\"\",\"orientation\":\"v\",\"showlegend\":false,\"x\":[\"Shoppings\",\"T\\u00edtulos e Val. Mob.\",\"Lajes Corporativas\",\"Lajes Corporativas\",\"H\\u00edbrido\",\"Lajes Corporativas\",\"Lajes Corporativas\",\"Log\\u00edstica\",\"Outros\",\"T\\u00edtulos e Val. Mob.\",\"H\\u00edbrido\",\"Residencial\",\"H\\u00edbrido\",\"Lajes Corporativas\",\"Log\\u00edstica\",\"Lajes Corporativas\",\"H\\u00edbrido\",\"Shoppings\",\"T\\u00edtulos e Val. Mob.\",\"T\\u00edtulos e Val. Mob.\",\"Shoppings\",\"H\\u00edbrido\",\"Shoppings\",\"Shoppings\",\"T\\u00edtulos e Val. Mob.\",\"H\\u00edbrido\",\"Outros\",\"T\\u00edtulos e Val. Mob.\",\"Shoppings\",\"Lajes Corporativas\",\"Log\\u00edstica\",\"Shoppings\",\"Outros\",\"T\\u00edtulos e Val. Mob.\",\"Lajes Corporativas\",\"Outros\",\"Shoppings\",\"H\\u00edbrido\",\"Log\\u00edstica\",\"Hospital\",\"T\\u00edtulos e Val. Mob.\",\"Shoppings\",\"Hospital\",\"H\\u00edbrido\",\"Shoppings\",\"H\\u00edbrido\",\"H\\u00edbrido\",\"Lajes Corporativas\",\"T\\u00edtulos e Val. Mob.\",\"Lajes Corporativas\",\"Log\\u00edstica\",\"T\\u00edtulos e Val. Mob.\",\"Outros\",\"Log\\u00edstica\",\"Residencial\",\"Lajes Corporativas\",\"T\\u00edtulos e Val. Mob.\",\"T\\u00edtulos e Val. Mob.\",\"T\\u00edtulos e Val. Mob.\",\"T\\u00edtulos e Val. Mob.\",\"Log\\u00edstica\",\"Lajes Corporativas\",\"T\\u00edtulos e Val. Mob.\",\"T\\u00edtulos e Val. Mob.\",\"Lajes Corporativas\",\"Outros\",\"H\\u00edbrido\",\"T\\u00edtulos e Val. Mob.\",\"T\\u00edtulos e Val. Mob.\",\"Log\\u00edstica\",\"H\\u00edbrido\",\"Lajes Corporativas\",\"H\\u00edbrido\",\"T\\u00edtulos e Val. Mob.\",\"T\\u00edtulos e Val. Mob.\",\"T\\u00edtulos e Val. Mob.\",\"T\\u00edtulos e Val. Mob.\",\"T\\u00edtulos e Val. Mob.\",\"T\\u00edtulos e Val. Mob.\",\"Lajes Corporativas\",\"T\\u00edtulos e Val. Mob.\",\"T\\u00edtulos e Val. Mob.\",\"T\\u00edtulos e Val. Mob.\",\"T\\u00edtulos e Val. Mob.\",\"Log\\u00edstica\",\"Log\\u00edstica\",\"T\\u00edtulos e Val. Mob.\",\"T\\u00edtulos e Val. Mob.\",\"Log\\u00edstica\",\"Lajes Corporativas\",\"H\\u00edbrido\",\"H\\u00edbrido\",\"T\\u00edtulos e Val. Mob.\",\"H\\u00edbrido\",\"H\\u00edbrido\",\"T\\u00edtulos e Val. Mob.\",\"Lajes Corporativas\",\"H\\u00edbrido\",\"Residencial\",\"Outros\",\"Log\\u00edstica\",\"Outros\",\"Outros\",\"H\\u00edbrido\",\"Shoppings\",\"H\\u00edbrido\",\"T\\u00edtulos e Val. Mob.\",\"Lajes Corporativas\",\"T\\u00edtulos e Val. Mob.\",\"Shoppings\",\"H\\u00edbrido\",\"Shoppings\",\"Lajes Corporativas\",\"Outros\",\"Shoppings\",\"Outros\",\"T\\u00edtulos e Val. Mob.\",\"H\\u00edbrido\",\"Lajes Corporativas\",\"T\\u00edtulos e Val. Mob.\",\"H\\u00edbrido\",\"Log\\u00edstica\",\"T\\u00edtulos e Val. Mob.\",\"Outros\",\"T\\u00edtulos e Val. Mob.\",\"Log\\u00edstica\",\"Shoppings\",\"Residencial\",\"Lajes Corporativas\",\"H\\u00edbrido\",\"T\\u00edtulos e Val. Mob.\",\"T\\u00edtulos e Val. Mob.\",\"Outros\",\"Outros\",\"Lajes Corporativas\",\"T\\u00edtulos e Val. Mob.\",\"Log\\u00edstica\",\"T\\u00edtulos e Val. Mob.\",\"Lajes Corporativas\",\"T\\u00edtulos e Val. Mob.\",\"Lajes Corporativas\",\"Lajes Corporativas\",\"Lajes Corporativas\",\"H\\u00edbrido\",\"H\\u00edbrido\",\"T\\u00edtulos e Val. Mob.\",\"Outros\",\"Log\\u00edstica\",\"Log\\u00edstica\",\"T\\u00edtulos e Val. Mob.\",\"H\\u00edbrido\",\"Hotel\",\"H\\u00edbrido\",\"Shoppings\",\"H\\u00edbrido\",\"H\\u00edbrido\",\"T\\u00edtulos e Val. Mob.\",\"Lajes Corporativas\",\"Lajes Corporativas\",\"Outros\",\"Hotel\",\"T\\u00edtulos e Val. Mob.\",\"Shoppings\",\"Lajes Corporativas\",\"Lajes Corporativas\",\"Lajes Corporativas\",\"Lajes Corporativas\",\"Residencial\",\"H\\u00edbrido\",\"Shoppings\",\"Outros\",\"H\\u00edbrido\",\"Outros\",\"Outros\",\"Outros\",\"T\\u00edtulos e Val. Mob.\",\"T\\u00edtulos e Val. Mob.\",\"Outros\",\"T\\u00edtulos e Val. Mob.\",\"Log\\u00edstica\",\"T\\u00edtulos e Val. Mob.\",\"T\\u00edtulos e Val. Mob.\",\"Outros\",\"Lajes Corporativas\",\"Log\\u00edstica\",\"Outros\",\"Log\\u00edstica\",\"T\\u00edtulos e Val. Mob.\",\"H\\u00edbrido\",\"T\\u00edtulos e Val. Mob.\",\"H\\u00edbrido\",\"Residencial\",\"Lajes Corporativas\",\"T\\u00edtulos e Val. Mob.\",\"T\\u00edtulos e Val. Mob.\",\"H\\u00edbrido\",\"T\\u00edtulos e Val. Mob.\",\"T\\u00edtulos e Val. Mob.\",\"Outros\",\"H\\u00edbrido\",\"T\\u00edtulos e Val. Mob.\",\"T\\u00edtulos e Val. Mob.\",\"T\\u00edtulos e Val. Mob.\",\"T\\u00edtulos e Val. Mob.\",\"T\\u00edtulos e Val. Mob.\",\"H\\u00edbrido\",\"T\\u00edtulos e Val. Mob.\",\"Hotel\",\"T\\u00edtulos e Val. Mob.\",\"T\\u00edtulos e Val. Mob.\",\"Outros\",\"T\\u00edtulos e Val. Mob.\",\"T\\u00edtulos e Val. Mob.\",\"Lajes Corporativas\",\"Hospital\",\"H\\u00edbrido\",\"T\\u00edtulos e Val. Mob.\",\"T\\u00edtulos e Val. Mob.\",\"T\\u00edtulos e Val. Mob.\",\"T\\u00edtulos e Val. Mob.\",\"Outros\",\"T\\u00edtulos e Val. Mob.\",\"Lajes Corporativas\",\"Lajes Corporativas\",\"Outros\",\"T\\u00edtulos e Val. Mob.\",\"T\\u00edtulos e Val. Mob.\",\"T\\u00edtulos e Val. Mob.\",\"T\\u00edtulos e Val. Mob.\",\"Outros\",\"T\\u00edtulos e Val. Mob.\",\"T\\u00edtulos e Val. Mob.\",\"Residencial\",\"H\\u00edbrido\",\"T\\u00edtulos e Val. Mob.\",\"Outros\",\"Log\\u00edstica\",\"Outros\",\"H\\u00edbrido\",\"H\\u00edbrido\",\"T\\u00edtulos e Val. Mob.\",\"T\\u00edtulos e Val. Mob.\",\"T\\u00edtulos e Val. Mob.\",\"H\\u00edbrido\",\"T\\u00edtulos e Val. Mob.\",\"T\\u00edtulos e Val. Mob.\",\"T\\u00edtulos e Val. Mob.\",\"Shoppings\",\"Shoppings\",\"Outros\",\"Outros\",\"Outros\",\"Log\\u00edstica\",\"Shoppings\",\"Lajes Corporativas\",\"H\\u00edbrido\",\"Outros\",\"Lajes Corporativas\",\"Shoppings\"],\"x0\":\" \",\"xaxis\":\"x\",\"y\":[0.0,0.0,0.0,0.0,0.0,0.0,7.21,7.49,9.46,13.52,0.0,0.0,7.6,8.28,8.46,11.96,6.43,0.0,15.11,9.71,4.49,12.16,5.12,7.11,9.48,7.59,0.0,15.58,5.7,0.0,7.25,6.66,18.35,12.17,7.54,11.14,6.51,11.46,8.94,6.49,0.0,6.16,9.49,8.27,5.94,8.41,14.28,13.83,0.0,9.93,6.96,9.36,12.54,7.43,6.9,11.07,8.53,0.0,9.57,7.93,9.2,5.79,8.56,7.22,0.0,8.78,0.0,12.85,12.52,8.92,11.84,1.74,8.75,12.87,13.66,13.71,6.76,0.0,10.63,6.6,8.24,8.7,11.26,0.0,6.86,7.22,10.58,12.81,7.28,0.0,9.71,7.67,8.18,5.15,0.0,13.71,6.52,8.84,9.1,9.36,0.0,11.96,10.43,9.17,7.28,10.31,13.35,9.93,6.73,4.75,7.05,2.97,21.8,6.64,6.05,11.25,10.66,0.0,7.28,12.15,5.4,7.77,5.78,10.02,0.0,8.36,7.43,0.0,9.05,9.59,9.55,9.46,3.68,10.12,8.42,12.26,0.0,11.24,6.68,9.31,5.57,9.01,7.18,11.22,9.97,9.76,8.99,7.8,8.21,7.5,7.67,0.0,6.42,2.98,5.27,8.47,10.21,6.29,6.52,12.52,5.41,12.59,0.03,8.78,16.63,5.95,10.43,0.0,7.63,6.39,8.92,0.0,15.7,10.56,9.92,10.51,11.32,15.36,8.14,10.76,14.94,9.16,9.28,8.16,0.0,6.6,8.67,0.0,10.52,13.32,8.75,0.0,0.0,12.16,10.29,10.72,0.0,12.05,0.0,0.0,10.74,10.99,9.09,0.0,9.16,0.0,12.46,9.35,0.0,9.1,13.89,11.09,0.0,3.9,9.33,3.34,0.0,10.94,11.52,9.77,6.73,0.0,0.0,5.53,0.0,0.0,0.0,0.0,0.0,8.69,10.82,12.42,0.0,1.6,0.0,0.0,7.92,9.98,0.0,14.61,11.97,0.0,0.0,0.0,0.0,0.0,0.0,0.0,6.37,7.94,8.65,8.03,6.98,6.01,3.39,6.33,0.0,6.04,5.12],\"y0\":\" \",\"yaxis\":\"y\",\"type\":\"box\"}],                        {\"template\":{\"data\":{\"bar\":[{\"error_x\":{\"color\":\"#2a3f5f\"},\"error_y\":{\"color\":\"#2a3f5f\"},\"marker\":{\"line\":{\"color\":\"#E5ECF6\",\"width\":0.5},\"pattern\":{\"fillmode\":\"overlay\",\"size\":10,\"solidity\":0.2}},\"type\":\"bar\"}],\"barpolar\":[{\"marker\":{\"line\":{\"color\":\"#E5ECF6\",\"width\":0.5},\"pattern\":{\"fillmode\":\"overlay\",\"size\":10,\"solidity\":0.2}},\"type\":\"barpolar\"}],\"carpet\":[{\"aaxis\":{\"endlinecolor\":\"#2a3f5f\",\"gridcolor\":\"white\",\"linecolor\":\"white\",\"minorgridcolor\":\"white\",\"startlinecolor\":\"#2a3f5f\"},\"baxis\":{\"endlinecolor\":\"#2a3f5f\",\"gridcolor\":\"white\",\"linecolor\":\"white\",\"minorgridcolor\":\"white\",\"startlinecolor\":\"#2a3f5f\"},\"type\":\"carpet\"}],\"choropleth\":[{\"colorbar\":{\"outlinewidth\":0,\"ticks\":\"\"},\"type\":\"choropleth\"}],\"contour\":[{\"colorbar\":{\"outlinewidth\":0,\"ticks\":\"\"},\"colorscale\":[[0.0,\"#0d0887\"],[0.1111111111111111,\"#46039f\"],[0.2222222222222222,\"#7201a8\"],[0.3333333333333333,\"#9c179e\"],[0.4444444444444444,\"#bd3786\"],[0.5555555555555556,\"#d8576b\"],[0.6666666666666666,\"#ed7953\"],[0.7777777777777778,\"#fb9f3a\"],[0.8888888888888888,\"#fdca26\"],[1.0,\"#f0f921\"]],\"type\":\"contour\"}],\"contourcarpet\":[{\"colorbar\":{\"outlinewidth\":0,\"ticks\":\"\"},\"type\":\"contourcarpet\"}],\"heatmap\":[{\"colorbar\":{\"outlinewidth\":0,\"ticks\":\"\"},\"colorscale\":[[0.0,\"#0d0887\"],[0.1111111111111111,\"#46039f\"],[0.2222222222222222,\"#7201a8\"],[0.3333333333333333,\"#9c179e\"],[0.4444444444444444,\"#bd3786\"],[0.5555555555555556,\"#d8576b\"],[0.6666666666666666,\"#ed7953\"],[0.7777777777777778,\"#fb9f3a\"],[0.8888888888888888,\"#fdca26\"],[1.0,\"#f0f921\"]],\"type\":\"heatmap\"}],\"heatmapgl\":[{\"colorbar\":{\"outlinewidth\":0,\"ticks\":\"\"},\"colorscale\":[[0.0,\"#0d0887\"],[0.1111111111111111,\"#46039f\"],[0.2222222222222222,\"#7201a8\"],[0.3333333333333333,\"#9c179e\"],[0.4444444444444444,\"#bd3786\"],[0.5555555555555556,\"#d8576b\"],[0.6666666666666666,\"#ed7953\"],[0.7777777777777778,\"#fb9f3a\"],[0.8888888888888888,\"#fdca26\"],[1.0,\"#f0f921\"]],\"type\":\"heatmapgl\"}],\"histogram\":[{\"marker\":{\"pattern\":{\"fillmode\":\"overlay\",\"size\":10,\"solidity\":0.2}},\"type\":\"histogram\"}],\"histogram2d\":[{\"colorbar\":{\"outlinewidth\":0,\"ticks\":\"\"},\"colorscale\":[[0.0,\"#0d0887\"],[0.1111111111111111,\"#46039f\"],[0.2222222222222222,\"#7201a8\"],[0.3333333333333333,\"#9c179e\"],[0.4444444444444444,\"#bd3786\"],[0.5555555555555556,\"#d8576b\"],[0.6666666666666666,\"#ed7953\"],[0.7777777777777778,\"#fb9f3a\"],[0.8888888888888888,\"#fdca26\"],[1.0,\"#f0f921\"]],\"type\":\"histogram2d\"}],\"histogram2dcontour\":[{\"colorbar\":{\"outlinewidth\":0,\"ticks\":\"\"},\"colorscale\":[[0.0,\"#0d0887\"],[0.1111111111111111,\"#46039f\"],[0.2222222222222222,\"#7201a8\"],[0.3333333333333333,\"#9c179e\"],[0.4444444444444444,\"#bd3786\"],[0.5555555555555556,\"#d8576b\"],[0.6666666666666666,\"#ed7953\"],[0.7777777777777778,\"#fb9f3a\"],[0.8888888888888888,\"#fdca26\"],[1.0,\"#f0f921\"]],\"type\":\"histogram2dcontour\"}],\"mesh3d\":[{\"colorbar\":{\"outlinewidth\":0,\"ticks\":\"\"},\"type\":\"mesh3d\"}],\"parcoords\":[{\"line\":{\"colorbar\":{\"outlinewidth\":0,\"ticks\":\"\"}},\"type\":\"parcoords\"}],\"pie\":[{\"automargin\":true,\"type\":\"pie\"}],\"scatter\":[{\"marker\":{\"colorbar\":{\"outlinewidth\":0,\"ticks\":\"\"}},\"type\":\"scatter\"}],\"scatter3d\":[{\"line\":{\"colorbar\":{\"outlinewidth\":0,\"ticks\":\"\"}},\"marker\":{\"colorbar\":{\"outlinewidth\":0,\"ticks\":\"\"}},\"type\":\"scatter3d\"}],\"scattercarpet\":[{\"marker\":{\"colorbar\":{\"outlinewidth\":0,\"ticks\":\"\"}},\"type\":\"scattercarpet\"}],\"scattergeo\":[{\"marker\":{\"colorbar\":{\"outlinewidth\":0,\"ticks\":\"\"}},\"type\":\"scattergeo\"}],\"scattergl\":[{\"marker\":{\"colorbar\":{\"outlinewidth\":0,\"ticks\":\"\"}},\"type\":\"scattergl\"}],\"scattermapbox\":[{\"marker\":{\"colorbar\":{\"outlinewidth\":0,\"ticks\":\"\"}},\"type\":\"scattermapbox\"}],\"scatterpolar\":[{\"marker\":{\"colorbar\":{\"outlinewidth\":0,\"ticks\":\"\"}},\"type\":\"scatterpolar\"}],\"scatterpolargl\":[{\"marker\":{\"colorbar\":{\"outlinewidth\":0,\"ticks\":\"\"}},\"type\":\"scatterpolargl\"}],\"scatterternary\":[{\"marker\":{\"colorbar\":{\"outlinewidth\":0,\"ticks\":\"\"}},\"type\":\"scatterternary\"}],\"surface\":[{\"colorbar\":{\"outlinewidth\":0,\"ticks\":\"\"},\"colorscale\":[[0.0,\"#0d0887\"],[0.1111111111111111,\"#46039f\"],[0.2222222222222222,\"#7201a8\"],[0.3333333333333333,\"#9c179e\"],[0.4444444444444444,\"#bd3786\"],[0.5555555555555556,\"#d8576b\"],[0.6666666666666666,\"#ed7953\"],[0.7777777777777778,\"#fb9f3a\"],[0.8888888888888888,\"#fdca26\"],[1.0,\"#f0f921\"]],\"type\":\"surface\"}],\"table\":[{\"cells\":{\"fill\":{\"color\":\"#EBF0F8\"},\"line\":{\"color\":\"white\"}},\"header\":{\"fill\":{\"color\":\"#C8D4E3\"},\"line\":{\"color\":\"white\"}},\"type\":\"table\"}]},\"layout\":{\"annotationdefaults\":{\"arrowcolor\":\"#2a3f5f\",\"arrowhead\":0,\"arrowwidth\":1},\"autotypenumbers\":\"strict\",\"coloraxis\":{\"colorbar\":{\"outlinewidth\":0,\"ticks\":\"\"}},\"colorscale\":{\"diverging\":[[0,\"#8e0152\"],[0.1,\"#c51b7d\"],[0.2,\"#de77ae\"],[0.3,\"#f1b6da\"],[0.4,\"#fde0ef\"],[0.5,\"#f7f7f7\"],[0.6,\"#e6f5d0\"],[0.7,\"#b8e186\"],[0.8,\"#7fbc41\"],[0.9,\"#4d9221\"],[1,\"#276419\"]],\"sequential\":[[0.0,\"#0d0887\"],[0.1111111111111111,\"#46039f\"],[0.2222222222222222,\"#7201a8\"],[0.3333333333333333,\"#9c179e\"],[0.4444444444444444,\"#bd3786\"],[0.5555555555555556,\"#d8576b\"],[0.6666666666666666,\"#ed7953\"],[0.7777777777777778,\"#fb9f3a\"],[0.8888888888888888,\"#fdca26\"],[1.0,\"#f0f921\"]],\"sequentialminus\":[[0.0,\"#0d0887\"],[0.1111111111111111,\"#46039f\"],[0.2222222222222222,\"#7201a8\"],[0.3333333333333333,\"#9c179e\"],[0.4444444444444444,\"#bd3786\"],[0.5555555555555556,\"#d8576b\"],[0.6666666666666666,\"#ed7953\"],[0.7777777777777778,\"#fb9f3a\"],[0.8888888888888888,\"#fdca26\"],[1.0,\"#f0f921\"]]},\"colorway\":[\"#636efa\",\"#EF553B\",\"#00cc96\",\"#ab63fa\",\"#FFA15A\",\"#19d3f3\",\"#FF6692\",\"#B6E880\",\"#FF97FF\",\"#FECB52\"],\"font\":{\"color\":\"#2a3f5f\"},\"geo\":{\"bgcolor\":\"white\",\"lakecolor\":\"white\",\"landcolor\":\"#E5ECF6\",\"showlakes\":true,\"showland\":true,\"subunitcolor\":\"white\"},\"hoverlabel\":{\"align\":\"left\"},\"hovermode\":\"closest\",\"mapbox\":{\"style\":\"light\"},\"paper_bgcolor\":\"white\",\"plot_bgcolor\":\"#E5ECF6\",\"polar\":{\"angularaxis\":{\"gridcolor\":\"white\",\"linecolor\":\"white\",\"ticks\":\"\"},\"bgcolor\":\"#E5ECF6\",\"radialaxis\":{\"gridcolor\":\"white\",\"linecolor\":\"white\",\"ticks\":\"\"}},\"scene\":{\"xaxis\":{\"backgroundcolor\":\"#E5ECF6\",\"gridcolor\":\"white\",\"gridwidth\":2,\"linecolor\":\"white\",\"showbackground\":true,\"ticks\":\"\",\"zerolinecolor\":\"white\"},\"yaxis\":{\"backgroundcolor\":\"#E5ECF6\",\"gridcolor\":\"white\",\"gridwidth\":2,\"linecolor\":\"white\",\"showbackground\":true,\"ticks\":\"\",\"zerolinecolor\":\"white\"},\"zaxis\":{\"backgroundcolor\":\"#E5ECF6\",\"gridcolor\":\"white\",\"gridwidth\":2,\"linecolor\":\"white\",\"showbackground\":true,\"ticks\":\"\",\"zerolinecolor\":\"white\"}},\"shapedefaults\":{\"line\":{\"color\":\"#2a3f5f\"}},\"ternary\":{\"aaxis\":{\"gridcolor\":\"white\",\"linecolor\":\"white\",\"ticks\":\"\"},\"baxis\":{\"gridcolor\":\"white\",\"linecolor\":\"white\",\"ticks\":\"\"},\"bgcolor\":\"#E5ECF6\",\"caxis\":{\"gridcolor\":\"white\",\"linecolor\":\"white\",\"ticks\":\"\"}},\"title\":{\"x\":0.05},\"xaxis\":{\"automargin\":true,\"gridcolor\":\"white\",\"linecolor\":\"white\",\"ticks\":\"\",\"title\":{\"standoff\":15},\"zerolinecolor\":\"white\",\"zerolinewidth\":2},\"yaxis\":{\"automargin\":true,\"gridcolor\":\"white\",\"linecolor\":\"white\",\"ticks\":\"\",\"title\":{\"standoff\":15},\"zerolinecolor\":\"white\",\"zerolinewidth\":2}}},\"xaxis\":{\"anchor\":\"y\",\"domain\":[0.0,1.0],\"title\":{\"text\":\"Setor\"}},\"yaxis\":{\"anchor\":\"x\",\"domain\":[0.0,1.0],\"title\":{\"text\":\"DY (12M)Acumulado\"}},\"legend\":{\"tracegroupgap\":0},\"margin\":{\"t\":60},\"boxmode\":\"group\"},                        {\"responsive\": true}                    ).then(function(){\n",
              "                            \n",
              "var gd = document.getElementById('64ed8d4d-0bbf-43f6-a4e8-9bd06f4a7e46');\n",
              "var x = new MutationObserver(function (mutations, observer) {{\n",
              "        var display = window.getComputedStyle(gd).display;\n",
              "        if (!display || display === 'none') {{\n",
              "            console.log([gd, 'removed!']);\n",
              "            Plotly.purge(gd);\n",
              "            observer.disconnect();\n",
              "        }}\n",
              "}});\n",
              "\n",
              "// Listen for the removal of the full notebook cells\n",
              "var notebookContainer = gd.closest('#notebook-container');\n",
              "if (notebookContainer) {{\n",
              "    x.observe(notebookContainer, {childList: true});\n",
              "}}\n",
              "\n",
              "// Listen for the clearing of the current output cell\n",
              "var outputEl = gd.closest('.output');\n",
              "if (outputEl) {{\n",
              "    x.observe(outputEl, {childList: true});\n",
              "}}\n",
              "\n",
              "                        })                };                            </script>        </div>\n",
              "</body>\n",
              "</html>"
            ]
          },
          "metadata": {},
          "output_type": "display_data"
        }
      ],
      "source": [
        "# Visualização gráfica por boxplots\n",
        "\n",
        "fig = px.box(FII_df, x=\"Setor\", y=\"DY (12M)Acumulado\")\n",
        "fig.show()"
      ]
    },
    {
      "cell_type": "markdown",
      "metadata": {
        "id": "1Bv0zYNZ_hmd"
      },
      "source": [
        "# 4. Caso 2 - Webscraping em Promoção diárias no Mercado Livre\n"
      ]
    },
    {
      "cell_type": "code",
      "execution_count": null,
      "metadata": {
        "id": "Xq5MJEo2BHH8"
      },
      "outputs": [],
      "source": [
        ""
      ]
    }
  ],
  "metadata": {
    "colab": {
      "collapsed_sections": [],
      "name": "20220328_Ciclos_de_Mercado_sazonalidade_anual.ipynb",
      "provenance": [],
      "include_colab_link": true
    },
    "kernelspec": {
      "display_name": "Python 3 (ipykernel)",
      "language": "python",
      "name": "python3"
    },
    "language_info": {
      "codemirror_mode": {
        "name": "ipython",
        "version": 3
      },
      "file_extension": ".py",
      "mimetype": "text/x-python",
      "name": "python",
      "nbconvert_exporter": "python",
      "pygments_lexer": "ipython3",
      "version": "3.9.7"
    },
    "toc-autonumbering": false,
    "toc-showcode": true,
    "toc-showmarkdowntxt": false
  },
  "nbformat": 4,
  "nbformat_minor": 0
}