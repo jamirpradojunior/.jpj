{
 "cells": [
  {
   "cell_type": "markdown",
   "id": "0d54c0ad-601e-4d23-969e-8b9e2dfe9ef8",
   "metadata": {},
   "source": [
    "# Bibliotecas"
   ]
  },
  {
   "cell_type": "markdown",
   "id": "ed775803",
   "metadata": {
    "id": "2Kcc-PFkoriJ"
   },
   "source": [
    "---\n",
    "# **BACKTESTING: Definindo estratégias de trading com Python** \n",
    "---\n",
    "#### *Disclaimer:*\n",
    "#### Este código foi elaborado para fins exclusivamente educacionais. O conteúdo aqui apresentado visa fornecer informações complementares para auxiliar o investidor na tomada de suas próprias decisões de investimento. Reforçando, nenhum tópico aqui abordado constitui qualquer tipo de indicação/oferta/solicitação de compra/venda de qualquer produto.\n",
    "---\n",
    "\n"
   ]
  },
  {
   "cell_type": "code",
   "execution_count": null,
   "id": "df3f637d-ea40-49e6-adfa-d2a0402459a1",
   "metadata": {},
   "outputs": [],
   "source": [
    "!pip install pandas numpy\n",
    "!pip install matplotlib plotly\n",
    "!pip install datetime\n",
    "!pip install yfinance\n",
    "!pip install ta"
   ]
  },
  {
   "cell_type": "code",
   "execution_count": null,
   "id": "1efb872c-63ae-493a-9825-39bb854c993d",
   "metadata": {},
   "outputs": [],
   "source": [
    "!pip install -q kora"
   ]
  },
  {
   "cell_type": "code",
   "execution_count": null,
   "id": "b647dd7e-fbdb-465f-bf0c-4b40a0b809eb",
   "metadata": {},
   "outputs": [],
   "source": [
    "!pip install google-colab"
   ]
  },
  {
   "cell_type": "code",
   "execution_count": null,
   "id": "3f5889cc-e830-4b5a-b6c8-f31d01501b6d",
   "metadata": {},
   "outputs": [],
   "source": [
    "!pip install time"
   ]
  },
  {
   "cell_type": "code",
   "execution_count": null,
   "id": "0b079cd9-b694-490e-a165-fde9d61c478c",
   "metadata": {
    "tags": []
   },
   "outputs": [],
   "source": [
    "import pandas as pd\n",
    "import numpy as np\n",
    "from datetime import datetime \n",
    "import matplotlib.pyplot as plt\n",
    "import plotly.graph_objects as go\n",
    "import yfinance as yf\n",
    "import ta as ta"
   ]
  },
  {
   "cell_type": "code",
   "execution_count": 85,
   "id": "7e863b8d-56a5-4b00-a392-986b364369f3",
   "metadata": {},
   "outputs": [
    {
     "ename": "WebDriverException",
     "evalue": "Message: 'chromedriver' executable needs to be in PATH. Please see https://chromedriver.chromium.org/home\n",
     "output_type": "error",
     "traceback": [
      "\u001b[1;31m---------------------------------------------------------------------------\u001b[0m",
      "\u001b[1;31mFileNotFoundError\u001b[0m                         Traceback (most recent call last)",
      "\u001b[1;32m~\\anaconda3\\lib\\site-packages\\selenium\\webdriver\\common\\service.py\u001b[0m in \u001b[0;36mstart\u001b[1;34m(self)\u001b[0m\n\u001b[0;32m     70\u001b[0m             \u001b[0mcmd\u001b[0m\u001b[1;33m.\u001b[0m\u001b[0mextend\u001b[0m\u001b[1;33m(\u001b[0m\u001b[0mself\u001b[0m\u001b[1;33m.\u001b[0m\u001b[0mcommand_line_args\u001b[0m\u001b[1;33m(\u001b[0m\u001b[1;33m)\u001b[0m\u001b[1;33m)\u001b[0m\u001b[1;33m\u001b[0m\u001b[1;33m\u001b[0m\u001b[0m\n\u001b[1;32m---> 71\u001b[1;33m             self.process = subprocess.Popen(cmd, env=self.env,\n\u001b[0m\u001b[0;32m     72\u001b[0m                                             \u001b[0mclose_fds\u001b[0m\u001b[1;33m=\u001b[0m\u001b[0msystem\u001b[0m\u001b[1;33m(\u001b[0m\u001b[1;33m)\u001b[0m \u001b[1;33m!=\u001b[0m \u001b[1;34m'Windows'\u001b[0m\u001b[1;33m,\u001b[0m\u001b[1;33m\u001b[0m\u001b[1;33m\u001b[0m\u001b[0m\n",
      "\u001b[1;32m~\\anaconda3\\lib\\subprocess.py\u001b[0m in \u001b[0;36m__init__\u001b[1;34m(self, args, bufsize, executable, stdin, stdout, stderr, preexec_fn, close_fds, shell, cwd, env, universal_newlines, startupinfo, creationflags, restore_signals, start_new_session, pass_fds, encoding, errors, text)\u001b[0m\n\u001b[0;32m    857\u001b[0m \u001b[1;33m\u001b[0m\u001b[0m\n\u001b[1;32m--> 858\u001b[1;33m             self._execute_child(args, executable, preexec_fn, close_fds,\n\u001b[0m\u001b[0;32m    859\u001b[0m                                 \u001b[0mpass_fds\u001b[0m\u001b[1;33m,\u001b[0m \u001b[0mcwd\u001b[0m\u001b[1;33m,\u001b[0m \u001b[0menv\u001b[0m\u001b[1;33m,\u001b[0m\u001b[1;33m\u001b[0m\u001b[1;33m\u001b[0m\u001b[0m\n",
      "\u001b[1;32m~\\anaconda3\\lib\\subprocess.py\u001b[0m in \u001b[0;36m_execute_child\u001b[1;34m(self, args, executable, preexec_fn, close_fds, pass_fds, cwd, env, startupinfo, creationflags, shell, p2cread, p2cwrite, c2pread, c2pwrite, errread, errwrite, unused_restore_signals, unused_start_new_session)\u001b[0m\n\u001b[0;32m   1310\u001b[0m             \u001b[1;32mtry\u001b[0m\u001b[1;33m:\u001b[0m\u001b[1;33m\u001b[0m\u001b[1;33m\u001b[0m\u001b[0m\n\u001b[1;32m-> 1311\u001b[1;33m                 hp, ht, pid, tid = _winapi.CreateProcess(executable, args,\n\u001b[0m\u001b[0;32m   1312\u001b[0m                                          \u001b[1;31m# no special security\u001b[0m\u001b[1;33m\u001b[0m\u001b[1;33m\u001b[0m\u001b[1;33m\u001b[0m\u001b[0m\n",
      "\u001b[1;31mFileNotFoundError\u001b[0m: [WinError 2] O sistema não pode encontrar o arquivo especificado",
      "\nDuring handling of the above exception, another exception occurred:\n",
      "\u001b[1;31mWebDriverException\u001b[0m                        Traceback (most recent call last)",
      "\u001b[1;32m<ipython-input-85-b509eb813a01>\u001b[0m in \u001b[0;36m<module>\u001b[1;34m\u001b[0m\n\u001b[0;32m      1\u001b[0m \u001b[1;32mimport\u001b[0m \u001b[0mkora\u001b[0m\u001b[1;33m\u001b[0m\u001b[1;33m\u001b[0m\u001b[0m\n\u001b[1;32m----> 2\u001b[1;33m \u001b[1;32mfrom\u001b[0m \u001b[0mkora\u001b[0m \u001b[1;32mimport\u001b[0m \u001b[0mselenium\u001b[0m\u001b[1;33m\u001b[0m\u001b[1;33m\u001b[0m\u001b[0m\n\u001b[0m",
      "\u001b[1;32m~\\anaconda3\\lib\\site-packages\\kora\\selenium.py\u001b[0m in \u001b[0;36m<module>\u001b[1;34m\u001b[0m\n\u001b[0;32m     11\u001b[0m \u001b[0moptions\u001b[0m\u001b[1;33m.\u001b[0m\u001b[0madd_argument\u001b[0m\u001b[1;33m(\u001b[0m\u001b[1;34m'--disable-dev-shm-usage'\u001b[0m\u001b[1;33m)\u001b[0m\u001b[1;33m\u001b[0m\u001b[1;33m\u001b[0m\u001b[0m\n\u001b[0;32m     12\u001b[0m \u001b[1;31m# create a webdriver instance, ready to use\u001b[0m\u001b[1;33m\u001b[0m\u001b[1;33m\u001b[0m\u001b[1;33m\u001b[0m\u001b[0m\n\u001b[1;32m---> 13\u001b[1;33m \u001b[0mwd\u001b[0m \u001b[1;33m=\u001b[0m \u001b[0mwebdriver\u001b[0m\u001b[1;33m.\u001b[0m\u001b[0mChrome\u001b[0m\u001b[1;33m(\u001b[0m\u001b[1;34m'chromedriver'\u001b[0m\u001b[1;33m,\u001b[0m\u001b[0moptions\u001b[0m\u001b[1;33m=\u001b[0m\u001b[0moptions\u001b[0m\u001b[1;33m)\u001b[0m\u001b[1;33m\u001b[0m\u001b[1;33m\u001b[0m\u001b[0m\n\u001b[0m\u001b[0;32m     14\u001b[0m \u001b[1;33m\u001b[0m\u001b[0m\n\u001b[0;32m     15\u001b[0m \u001b[1;31m# make it easier to query and explore elements\u001b[0m\u001b[1;33m\u001b[0m\u001b[1;33m\u001b[0m\u001b[1;33m\u001b[0m\u001b[0m\n",
      "\u001b[1;32m~\\anaconda3\\lib\\site-packages\\selenium\\webdriver\\chrome\\webdriver.py\u001b[0m in \u001b[0;36m__init__\u001b[1;34m(self, executable_path, port, options, service_args, desired_capabilities, service_log_path, chrome_options, service, keep_alive)\u001b[0m\n\u001b[0;32m     68\u001b[0m             \u001b[0mservice\u001b[0m \u001b[1;33m=\u001b[0m \u001b[0mService\u001b[0m\u001b[1;33m(\u001b[0m\u001b[0mexecutable_path\u001b[0m\u001b[1;33m,\u001b[0m \u001b[0mport\u001b[0m\u001b[1;33m,\u001b[0m \u001b[0mservice_args\u001b[0m\u001b[1;33m,\u001b[0m \u001b[0mservice_log_path\u001b[0m\u001b[1;33m)\u001b[0m\u001b[1;33m\u001b[0m\u001b[1;33m\u001b[0m\u001b[0m\n\u001b[0;32m     69\u001b[0m \u001b[1;33m\u001b[0m\u001b[0m\n\u001b[1;32m---> 70\u001b[1;33m         super(WebDriver, self).__init__(DesiredCapabilities.CHROME['browserName'], \"goog\",\n\u001b[0m\u001b[0;32m     71\u001b[0m                                         \u001b[0mport\u001b[0m\u001b[1;33m,\u001b[0m \u001b[0moptions\u001b[0m\u001b[1;33m,\u001b[0m\u001b[1;33m\u001b[0m\u001b[1;33m\u001b[0m\u001b[0m\n\u001b[0;32m     72\u001b[0m                                         \u001b[0mservice_args\u001b[0m\u001b[1;33m,\u001b[0m \u001b[0mdesired_capabilities\u001b[0m\u001b[1;33m,\u001b[0m\u001b[1;33m\u001b[0m\u001b[1;33m\u001b[0m\u001b[0m\n",
      "\u001b[1;32m~\\anaconda3\\lib\\site-packages\\selenium\\webdriver\\chromium\\webdriver.py\u001b[0m in \u001b[0;36m__init__\u001b[1;34m(self, browser_name, vendor_prefix, port, options, service_args, desired_capabilities, service_log_path, service, keep_alive)\u001b[0m\n\u001b[0;32m     88\u001b[0m \u001b[1;33m\u001b[0m\u001b[0m\n\u001b[0;32m     89\u001b[0m         \u001b[0mself\u001b[0m\u001b[1;33m.\u001b[0m\u001b[0mservice\u001b[0m \u001b[1;33m=\u001b[0m \u001b[0mservice\u001b[0m\u001b[1;33m\u001b[0m\u001b[1;33m\u001b[0m\u001b[0m\n\u001b[1;32m---> 90\u001b[1;33m         \u001b[0mself\u001b[0m\u001b[1;33m.\u001b[0m\u001b[0mservice\u001b[0m\u001b[1;33m.\u001b[0m\u001b[0mstart\u001b[0m\u001b[1;33m(\u001b[0m\u001b[1;33m)\u001b[0m\u001b[1;33m\u001b[0m\u001b[1;33m\u001b[0m\u001b[0m\n\u001b[0m\u001b[0;32m     91\u001b[0m \u001b[1;33m\u001b[0m\u001b[0m\n\u001b[0;32m     92\u001b[0m         \u001b[1;32mtry\u001b[0m\u001b[1;33m:\u001b[0m\u001b[1;33m\u001b[0m\u001b[1;33m\u001b[0m\u001b[0m\n",
      "\u001b[1;32m~\\anaconda3\\lib\\site-packages\\selenium\\webdriver\\common\\service.py\u001b[0m in \u001b[0;36mstart\u001b[1;34m(self)\u001b[0m\n\u001b[0;32m     79\u001b[0m         \u001b[1;32mexcept\u001b[0m \u001b[0mOSError\u001b[0m \u001b[1;32mas\u001b[0m \u001b[0merr\u001b[0m\u001b[1;33m:\u001b[0m\u001b[1;33m\u001b[0m\u001b[1;33m\u001b[0m\u001b[0m\n\u001b[0;32m     80\u001b[0m             \u001b[1;32mif\u001b[0m \u001b[0merr\u001b[0m\u001b[1;33m.\u001b[0m\u001b[0merrno\u001b[0m \u001b[1;33m==\u001b[0m \u001b[0merrno\u001b[0m\u001b[1;33m.\u001b[0m\u001b[0mENOENT\u001b[0m\u001b[1;33m:\u001b[0m\u001b[1;33m\u001b[0m\u001b[1;33m\u001b[0m\u001b[0m\n\u001b[1;32m---> 81\u001b[1;33m                 raise WebDriverException(\n\u001b[0m\u001b[0;32m     82\u001b[0m                     \"'%s' executable needs to be in PATH. %s\" % (\n\u001b[0;32m     83\u001b[0m                         os.path.basename(self.path), self.start_error_message)\n",
      "\u001b[1;31mWebDriverException\u001b[0m: Message: 'chromedriver' executable needs to be in PATH. Please see https://chromedriver.chromium.org/home\n"
     ]
    }
   ],
   "source": [
    "import kora\n",
    "from kora import selenium"
   ]
  },
  {
   "cell_type": "code",
   "execution_count": null,
   "id": "6e236945-da8c-433c-b674-25e785d10fd8",
   "metadata": {},
   "outputs": [],
   "source": [
    "from google.colab.data_table import DataTable\n",
    "from time import sleeplist"
   ]
  },
  {
   "cell_type": "markdown",
   "id": "f01c779b-9658-445e-bf07-dc78ba793400",
   "metadata": {},
   "source": [
    "# Obter cotacao ativos"
   ]
  },
  {
   "cell_type": "markdown",
   "id": "788eabb7-366e-4c99-b164-6a8b44dbab09",
   "metadata": {},
   "source": [
    "## Lista de ativos (webscraping)"
   ]
  },
  {
   "cell_type": "code",
   "execution_count": null,
   "id": "3636723c-7f3e-4105-b1e8-0da76cdd38a1",
   "metadata": {},
   "outputs": [],
   "source": [
    "## https://www.youtube.com/watch?v=b9bU_ryC5rc"
   ]
  },
  {
   "cell_type": "code",
   "execution_count": null,
   "id": "f3151f63-42b9-45c2-93d9-5df5cbab004d",
   "metadata": {},
   "outputs": [],
   "source": [
    "len(tabela_ativos)"
   ]
  },
  {
   "cell_type": "code",
   "execution_count": null,
   "id": "1cb87dd7-721c-4da8-9f84-8f45b0a8665a",
   "metadata": {},
   "outputs": [],
   "source": [
    "print(1+1)"
   ]
  },
  {
   "cell_type": "code",
   "execution_count": null,
   "id": "68c07e55-ff9a-4bac-b558-2aed78240835",
   "metadata": {},
   "outputs": [],
   "source": [
    "tabela_ativos[10]"
   ]
  },
  {
   "cell_type": "code",
   "execution_count": null,
   "id": "1ed87e86-782b-4d05-ad5f-e81975a4442d",
   "metadata": {},
   "outputs": [],
   "source": [
    "i=0\n",
    "while i < 11:\n",
    "    print('tabela_ativos[',i,'],',sep='')\n",
    "    i+=1"
   ]
  },
  {
   "cell_type": "code",
   "execution_count": null,
   "id": "93a40767-b127-4f4e-a594-81e478add6f8",
   "metadata": {},
   "outputs": [],
   "source": [
    "tabela_ativos_all = pd.concat([tabela_ativos[0],tabela_ativos[1],tabela_ativos[2],tabela_ativos[3],tabela_ativos[4],tabela_ativos[5],tabela_ativos[6],tabela_ativos[7],tabela_ativos[8],tabela_ativos[9],tabela_ativos[10]])\n",
    "tabela_ativos_all"
   ]
  },
  {
   "cell_type": "code",
   "execution_count": null,
   "id": "d77b797b-6250-47c8-97c4-44939e876733",
   "metadata": {},
   "outputs": [],
   "source": [
    "ativos_repetidos = sum(tabela_ativos_all.duplicated(subset=['Ativos']))\n",
    "ativos_repetidos"
   ]
  },
  {
   "cell_type": "code",
   "execution_count": null,
   "id": "9739c2d4-2919-4e22-8692-7c0a0be972db",
   "metadata": {},
   "outputs": [],
   "source": [
    "ativos_B3 = tabela_ativos_all['Ativos']\n",
    "ativos_B3"
   ]
  },
  {
   "cell_type": "code",
   "execution_count": null,
   "id": "ba8a7963-a771-4e98-ac8c-b59ae38e8b19",
   "metadata": {},
   "outputs": [],
   "source": [
    "ativos_B3_str = str(ativos_B3)\n",
    "ativos_B3_str"
   ]
  },
  {
   "cell_type": "code",
   "execution_count": null,
   "id": "a50bebe6-ee94-408c-955a-244f7fc945ce",
   "metadata": {
    "tags": []
   },
   "outputs": [],
   "source": [
    "ativos_B3_str2 = ativos_B3_str.split(sep='\\n')\n",
    "ativos_B3_str2"
   ]
  },
  {
   "cell_type": "code",
   "execution_count": null,
   "id": "9066e580-81de-4087-97f3-ef9a3a88280a",
   "metadata": {},
   "outputs": [],
   "source": [
    "ativos_B3_str3 = ativos_B3_str2[:-1]"
   ]
  },
  {
   "cell_type": "code",
   "execution_count": null,
   "id": "845ffceb-3ae4-43d2-9b4d-794fc78733a3",
   "metadata": {},
   "outputs": [],
   "source": [
    "ativos_B3_str4 = str(ativos_B3_str2[:-1])\n",
    "ativos_B3_str4"
   ]
  },
  {
   "cell_type": "code",
   "execution_count": null,
   "id": "76cdca29-34f9-4137-9a24-4ae7a553f215",
   "metadata": {},
   "outputs": [],
   "source": [
    "ativos_B3_str5 = ativos_B3_str4.split()\n",
    "ativos_B3_str5.sort()\n",
    "ativos_B3_str5"
   ]
  },
  {
   "cell_type": "code",
   "execution_count": null,
   "id": "8974966c-bd6d-4830-a5e6-37a3f8413f84",
   "metadata": {},
   "outputs": [],
   "source": [
    "ativos_B3_str5[12]"
   ]
  },
  {
   "cell_type": "code",
   "execution_count": null,
   "id": "40db36b8-90f1-433b-b3e8-373ba0a6959a",
   "metadata": {},
   "outputs": [],
   "source": [
    "ativos_final33 = []\n",
    "for i in ativos_B3_str5[12:]:\n",
    "    ativos_final33.append(print(i[0:5]))"
   ]
  },
  {
   "cell_type": "code",
   "execution_count": null,
   "id": "8e82dca5-c49c-4235-bf69-08155417b77f",
   "metadata": {},
   "outputs": [],
   "source": [
    "ativos_final33"
   ]
  },
  {
   "cell_type": "code",
   "execution_count": null,
   "id": "0f4273ab-5125-4114-818d-bdab7a95dc4a",
   "metadata": {},
   "outputs": [],
   "source": [
    "ativos_b3_p02 = tabela_ativos[1][\"Ativos\"]\n",
    "ativos_b3_p02 = tabela_ativos[2][\"Ativos\"]\n",
    "ativos_b3_p02 = tabela_ativos[3][\"Ativos\"]\n",
    "ativos_b3_p02 = tabela_ativos[4][\"Ativos\"]\n",
    "ativos_b3_p02 = tabela_ativos[5][\"Ativos\"]\n",
    "ativos_b3_p02 = tabela_ativos[6][\"Ativos\"]"
   ]
  },
  {
   "cell_type": "code",
   "execution_count": null,
   "id": "defa5c8b-916a-4068-bb37-6e57174fe19f",
   "metadata": {},
   "outputs": [],
   "source": []
  },
  {
   "cell_type": "code",
   "execution_count": null,
   "id": "f8f24da0-e6b7-4450-a2c6-5654a5faa708",
   "metadata": {},
   "outputs": [],
   "source": []
  },
  {
   "cell_type": "code",
   "execution_count": null,
   "id": "1b347938-e49b-4fda-8db7-6d6a2f1bd331",
   "metadata": {},
   "outputs": [],
   "source": []
  },
  {
   "cell_type": "code",
   "execution_count": null,
   "id": "64e46e13-ea34-4668-8eb8-4c73a28af69c",
   "metadata": {},
   "outputs": [],
   "source": [
    "#type(tabela_ativos)\n",
    "tabela_ativos[0]"
   ]
  },
  {
   "cell_type": "code",
   "execution_count": null,
   "id": "efaad1d0-f240-4358-a801-f8e9a873e66f",
   "metadata": {},
   "outputs": [],
   "source": [
    "## Agregar cada \"Ticket\" com o \".SA\", separados por espaço em uma string\n",
    "ativos_B3 = tabela_ativos[0]['Ticket']\n",
    "ativos_B3"
   ]
  },
  {
   "cell_type": "code",
   "execution_count": null,
   "id": "9cf7c658-4c1e-4004-bc9c-73d84dc574df",
   "metadata": {},
   "outputs": [],
   "source": [
    "ativos_B3 = '.SA '.join(ativos_B3)\n",
    "ativos_B3"
   ]
  },
  {
   "cell_type": "code",
   "execution_count": null,
   "id": "c99d8eb5-b086-4e6c-bd54-a1cc5fa9e213",
   "metadata": {},
   "outputs": [],
   "source": [
    "## Depois converter tudo em uma lista e colocar em ordem alfabética\n",
    "## É interessante que vocês organizem a lista do seu jeito\n",
    "ativos_B3_list = ativos_B3.split()\n",
    "ativos_B3_list.sort()\n",
    "ativos_B3_list"
   ]
  },
  {
   "cell_type": "markdown",
   "id": "88154ce2-303e-4102-a69e-ed56d7e3741a",
   "metadata": {},
   "source": [
    "## Baixar as cotações diárias"
   ]
  },
  {
   "cell_type": "code",
   "execution_count": null,
   "id": "69d576d6-b988-498d-95cb-cb1e1047fa6c",
   "metadata": {},
   "outputs": [],
   "source": [
    "## Defino a data atual\n",
    "hoje = datetime.today()\n",
    "hoje = hoje.strftime('%Y-%m-%d')\n",
    "hoje"
   ]
  },
  {
   "cell_type": "code",
   "execution_count": null,
   "id": "da40efb5-edcc-4dff-9dd0-1c517d255b3f",
   "metadata": {},
   "outputs": [],
   "source": [
    "cotacoes_B3 = yf.download(ativos_B3_list, start='2021-01-01', end=hoje, period = \"1d\")"
   ]
  },
  {
   "cell_type": "code",
   "execution_count": null,
   "id": "c8e15074-5e57-41ac-96f4-f620516b291d",
   "metadata": {},
   "outputs": [],
   "source": [
    "ativos_Adj_Close = cotacoes_B3['Adj Close']"
   ]
  },
  {
   "cell_type": "code",
   "execution_count": null,
   "id": "dbacced8-5a8a-40bb-aa44-2d4320ffed6d",
   "metadata": {},
   "outputs": [],
   "source": [
    "ativos_Adj_Close"
   ]
  },
  {
   "cell_type": "markdown",
   "id": "07af9af7-d137-491b-92b4-f136a5869ba1",
   "metadata": {},
   "source": [
    "## Manipulando dataframes com NAs e NaN"
   ]
  },
  {
   "cell_type": "code",
   "execution_count": null,
   "id": "f1b4522e-49f0-49a1-a9cf-8f5000768f00",
   "metadata": {},
   "outputs": [],
   "source": [
    "## Nos próximos passos estão alguns tipos de manipulações de NA e NaN\n",
    "count_null = ativos_Adj_Close.isna().sum()\n",
    "count_null"
   ]
  },
  {
   "cell_type": "code",
   "execution_count": null,
   "id": "39f674b4-156c-4d19-b559-ff3afef9baa0",
   "metadata": {},
   "outputs": [],
   "source": [
    "np.median(count_null)\n",
    "plt.boxplot(count_null);"
   ]
  },
  {
   "cell_type": "code",
   "execution_count": null,
   "id": "60b7d968-0fd9-4a08-84b9-3296e51dc9c1",
   "metadata": {},
   "outputs": [],
   "source": [
    "ativos_Adj_Close[(ativos_Adj_Close.isna().sum(1)/ativos_Adj_Close.shape[1])>0.9]"
   ]
  },
  {
   "cell_type": "code",
   "execution_count": null,
   "id": "2d3b8700-406b-4db6-a534-aa510d118c3a",
   "metadata": {},
   "outputs": [],
   "source": [
    "ativos_Adj_Close_filtered = ativos_Adj_Close.drop(ativos_Adj_Close.columns[ativos_Adj_Close.isna().sum()>(len(ativos_Adj_Close.columns)*0.005)],axis = 1)\n",
    "ativos_Adj_Close_filtered"
   ]
  },
  {
   "cell_type": "code",
   "execution_count": null,
   "id": "857cd233-2e05-420f-9c38-41d1ef6d4d80",
   "metadata": {},
   "outputs": [],
   "source": [
    "count_null = ativos_Adj_Close_filtered.isna().sum()\n",
    "plt.boxplot(count_null);"
   ]
  },
  {
   "cell_type": "code",
   "execution_count": null,
   "id": "5f057930-cb67-4a4f-bbf2-4da7022ce534",
   "metadata": {},
   "outputs": [],
   "source": [
    "ativos_Adj_Close_filtered[(ativos_Adj_Close_filtered.isna().sum(1))>1]"
   ]
  },
  {
   "cell_type": "code",
   "execution_count": null,
   "id": "d9556d2f-bc7d-4372-bb5f-4ac0e9a37af0",
   "metadata": {},
   "outputs": [],
   "source": [
    "ativos_Adj_Close_filtered.dropna(subset = [\"AALR3.SA\"], inplace=True)"
   ]
  },
  {
   "cell_type": "code",
   "execution_count": null,
   "id": "3f4aa7c4-9801-437a-9885-30cf88cc7194",
   "metadata": {},
   "outputs": [],
   "source": [
    "ativos_Adj_Close_filtered"
   ]
  },
  {
   "cell_type": "markdown",
   "id": "cc6e5d99-be98-4d0d-9b29-3778aad04815",
   "metadata": {},
   "source": [
    "## Simplificar o número de colunas - \"Wide to Long\" "
   ]
  },
  {
   "cell_type": "code",
   "execution_count": null,
   "id": "0a2fbad1-67dc-4915-9d77-557c12f96247",
   "metadata": {},
   "outputs": [],
   "source": [
    "ativos_close = ativos_Adj_Close_filtered\n",
    "ativos_close"
   ]
  },
  {
   "cell_type": "code",
   "execution_count": null,
   "id": "633117f6-a2c7-4cd9-bd45-87a29bb30335",
   "metadata": {},
   "outputs": [],
   "source": [
    "ativos_close['Data'] = ativos_close.index"
   ]
  },
  {
   "cell_type": "code",
   "execution_count": null,
   "id": "e7ef07a7-138a-4924-aca9-240f9ae561ce",
   "metadata": {},
   "outputs": [],
   "source": [
    "ativos_close = pd.melt(ativos_close,id_vars=['Data'],var_name='Ativos', value_name='Adj_Close')\n",
    "ativos_close"
   ]
  },
  {
   "cell_type": "markdown",
   "id": "ced27a92-f869-4d28-b1ec-6074e6a0af0c",
   "metadata": {},
   "source": [
    "# Cálculo Indicadores"
   ]
  },
  {
   "cell_type": "code",
   "execution_count": null,
   "id": "9ee18f62-c863-4788-a113-02b09b514363",
   "metadata": {},
   "outputs": [],
   "source": [
    "ativos_close2 = ativos_close"
   ]
  },
  {
   "cell_type": "code",
   "execution_count": null,
   "id": "e83cd81f-2ebd-4161-980a-8f17171283c7",
   "metadata": {},
   "outputs": [],
   "source": [
    "sma_short = ta.trend.SMAIndicator(ativos_close2['Adj_Close'], window=8)\n",
    "sma_medium = ta.trend.SMAIndicator(ativos_close2['Adj_Close'], window=20)\n",
    "sma_long = ta.trend.SMAIndicator(ativos_close2['Adj_Close'], window=200)"
   ]
  },
  {
   "cell_type": "code",
   "execution_count": null,
   "id": "722dd297-0d70-42d5-b224-7f0ddfb03f0a",
   "metadata": {},
   "outputs": [],
   "source": [
    "ativos_close2['SMA_SHORT'] = sma_short.sma_indicator()\n",
    "ativos_close2['SMA_MEDIUM'] = sma_medium.sma_indicator()\n",
    "ativos_close2['SMA_LONG'] = sma_long.sma_indicator()"
   ]
  },
  {
   "cell_type": "code",
   "execution_count": null,
   "id": "7b4704b9-7c31-41aa-8f56-5094ddea52a6",
   "metadata": {},
   "outputs": [],
   "source": [
    "ativos_close2.head(50)"
   ]
  },
  {
   "cell_type": "code",
   "execution_count": null,
   "id": "603d1356-67ab-41b6-9c91-e0db5c2a3428",
   "metadata": {},
   "outputs": [],
   "source": [
    "rsi_14 = ta.momentum.RSIIndicator(close=ativos_close2['Adj_Close'], window=14)\n",
    "ativos_close2['RSI_14'] = rsi_14.rsi()"
   ]
  },
  {
   "cell_type": "code",
   "execution_count": null,
   "id": "5cbef68b-da2f-48e8-b522-9fd436b29b59",
   "metadata": {},
   "outputs": [],
   "source": [
    "ativos_close2.head()"
   ]
  },
  {
   "cell_type": "code",
   "execution_count": null,
   "id": "8dcc71b6-6dad-4611-aaa4-bc5b19bfb11b",
   "metadata": {},
   "outputs": [],
   "source": [
    "import numpy as np\n",
    "ts = pd.DataFrame()\n",
    "ativos_close2['entrada'] = np.where(ativos_close2['Adj_Close']>ativos_close2['SMA_SHORT'],1,0)\n",
    "ativos_close2"
   ]
  },
  {
   "cell_type": "code",
   "execution_count": null,
   "id": "e6d4e2b1-5252-4939-a6d0-aac12157b7be",
   "metadata": {},
   "outputs": [],
   "source": [
    "ativos_close2"
   ]
  },
  {
   "cell_type": "code",
   "execution_count": null,
   "id": "0abfcf5f-c72f-4bc4-96af-8c6ea08160be",
   "metadata": {},
   "outputs": [],
   "source": [
    "df.loc[df.index > pd.to_datetime(order['transactionTime'], unit='ms')]"
   ]
  },
  {
   "cell_type": "code",
   "execution_count": null,
   "id": "5f4f86e4-c918-45e3-af9c-b2ade9edf23e",
   "metadata": {},
   "outputs": [],
   "source": []
  },
  {
   "cell_type": "markdown",
   "id": "537f1ba0-27a9-46b0-b556-c1656b8f30a8",
   "metadata": {},
   "source": [
    "# Screening Ativos"
   ]
  },
  {
   "cell_type": "code",
   "execution_count": null,
   "id": "6cf48a25-76a7-4e7f-b080-c1989fad59d0",
   "metadata": {},
   "outputs": [],
   "source": [
    "ativos_close2"
   ]
  },
  {
   "cell_type": "code",
   "execution_count": null,
   "id": "4bdcc88a-9032-4929-89f4-952894d18e0e",
   "metadata": {},
   "outputs": [],
   "source": [
    "ativos_close_ontem = ativos_close2['Data'] == '2022-01-24'\n",
    "ativos_close_ontem"
   ]
  },
  {
   "cell_type": "code",
   "execution_count": null,
   "id": "21554845-689e-4c45-bb70-8f4534a2360d",
   "metadata": {},
   "outputs": [],
   "source": [
    "ativos_close_ontem2 = ativos_close2[ativos_close_ontem]\n",
    "ativos_close_ontem2"
   ]
  },
  {
   "cell_type": "code",
   "execution_count": null,
   "id": "ba207b25-a3cd-4fb0-ace0-6e27d94ef712",
   "metadata": {},
   "outputs": [],
   "source": [
    "ativos_close_ontem2['MM_alinhadas']=ativos_close_ontem2['Adj_Close']>ativos_close_ontem2[\"SMA_SHORT\"]"
   ]
  },
  {
   "cell_type": "code",
   "execution_count": null,
   "id": "63903101-a0d1-4781-96b6-c8f419ed2790",
   "metadata": {},
   "outputs": [],
   "source": [
    "len(ativos_close_ontem2['Adj_Close'])"
   ]
  },
  {
   "cell_type": "code",
   "execution_count": null,
   "id": "b252e450-efc8-46a7-b754-9a54e6d9ba06",
   "metadata": {},
   "outputs": [],
   "source": [
    "datas_uteis = ['2022-01-21','2022-01-24']"
   ]
  },
  {
   "cell_type": "code",
   "execution_count": null,
   "id": "8decf107-ea70-4994-a248-afac6c3477e2",
   "metadata": {},
   "outputs": [],
   "source": [
    "ativos_close_ult_2 = ativos_close2.loc[ativos_close2['Data'].isin(datas_uteis)]\n",
    "ativos_close_ult_2"
   ]
  },
  {
   "cell_type": "code",
   "execution_count": null,
   "id": "34c1eb9a-2daf-4c68-9089-2780e31503dd",
   "metadata": {},
   "outputs": [],
   "source": [
    "for i in range(0:1000):\n",
    "    \n",
    "    print(i)"
   ]
  },
  {
   "cell_type": "code",
   "execution_count": null,
   "id": "579abff1-973b-46aa-9139-083170e91fe3",
   "metadata": {},
   "outputs": [],
   "source": [
    "if ativos_close_ontem2['Adj_Close'] > ativos_close_ontem2['SMA_SHORT']:\n",
    "    if ativos_close_ontem2['Adj_Close'] > ativos_close_ontem2['SMA_MEDIUM']:\n",
    "        if ativos_close_ontem2['Adj_Close'] > ativos_close_ontem2['SMA_MEDIUM']:\n",
    "            print(ativos_close_ontem2['Ativos'])\n",
    "        else:\n",
    "    else:\n",
    "else:\n",
    "    print(\"FALSE\")"
   ]
  },
  {
   "cell_type": "code",
   "execution_count": null,
   "id": "c8399052-413b-4cb2-b096-226bf23bc1a7",
   "metadata": {},
   "outputs": [],
   "source": [
    "datas_uteis = ['2022-01-21','2022-01-24']"
   ]
  },
  {
   "cell_type": "code",
   "execution_count": null,
   "id": "c3ea9dc6-7e0c-411d-9989-ebbaaf62d024",
   "metadata": {},
   "outputs": [],
   "source": [
    "xxx = ativos_close.loc[ativos_close['Data'].isin(datas_uteis)]\n",
    "xxx"
   ]
  },
  {
   "cell_type": "code",
   "execution_count": null,
   "id": "a1de035d-2abc-42eb-813f-c986925f75b1",
   "metadata": {},
   "outputs": [],
   "source": [
    "ativos_close_ontem2 = ativos_close[ativos_close_ontem]\n",
    "ativos_close_ontem2"
   ]
  },
  {
   "cell_type": "code",
   "execution_count": null,
   "id": "d29abb4b-8d37-4e03-bcaf-fa78f7b2c8d6",
   "metadata": {},
   "outputs": [],
   "source": []
  },
  {
   "cell_type": "markdown",
   "id": "e4677a47-bfdf-4148-bcdc-ee6b18a0ece1",
   "metadata": {},
   "source": []
  },
  {
   "cell_type": "code",
   "execution_count": null,
   "id": "3bbdfc12-afbf-4ad3-9239-780067ce1e94",
   "metadata": {},
   "outputs": [],
   "source": []
  },
  {
   "cell_type": "code",
   "execution_count": null,
   "id": "8c0e0880-6596-433d-8997-efa0645400de",
   "metadata": {},
   "outputs": [],
   "source": []
  },
  {
   "cell_type": "code",
   "execution_count": null,
   "id": "0f7137b2-87cf-4885-98ed-8ac970aa057c",
   "metadata": {},
   "outputs": [],
   "source": []
  },
  {
   "cell_type": "code",
   "execution_count": null,
   "id": "daf3f2f3-b7f4-4f9c-907a-5c7dbcb2df2e",
   "metadata": {},
   "outputs": [],
   "source": []
  },
  {
   "cell_type": "code",
   "execution_count": null,
   "id": "f2c580c4-9c5d-4192-8a6c-39c778747f4c",
   "metadata": {},
   "outputs": [],
   "source": []
  }
 ],
 "metadata": {
  "kernelspec": {
   "display_name": "Python 3 (ipykernel)",
   "language": "python",
   "name": "python3"
  },
  "language_info": {
   "codemirror_mode": {
    "name": "ipython",
    "version": 3
   },
   "file_extension": ".py",
   "mimetype": "text/x-python",
   "name": "python",
   "nbconvert_exporter": "python",
   "pygments_lexer": "ipython3",
   "version": "3.9.7"
  },
  "toc-autonumbering": true,
  "toc-showmarkdowntxt": false
 },
 "nbformat": 4,
 "nbformat_minor": 5
}
