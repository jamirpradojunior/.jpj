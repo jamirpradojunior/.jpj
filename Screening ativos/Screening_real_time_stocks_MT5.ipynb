{
 "cells": [
  {
   "cell_type": "markdown",
   "id": "60ff82a9",
   "metadata": {
    "colab_type": "text",
    "id": "view-in-github"
   },
   "source": [
    "<a href=\"https://colab.research.google.com/github/Trading-com-Dados/desenvolvimento_interno/blob/main/001up_20220402_Screening.ipynb\" target=\"_parent\"><img src=\"https://colab.research.google.com/assets/colab-badge.svg\" alt=\"Open In Colab\"/></a>"
   ]
  },
  {
   "cell_type": "markdown",
   "id": "ed775803",
   "metadata": {
    "id": "ed775803"
   },
   "source": [
    "---\n",
    "# **SCREENING: varrendo uma lista de ativos em poucos segundos** \n",
    "---\n",
    "#### *Disclaimer:*\n",
    "#### Este código foi elaborado para fins exclusivamente educacionais. O conteúdo aqui apresentado visa fornecer informações complementares para auxiliar o investidor na tomada de suas próprias decisões de investimento. Reforçando, nenhum tópico aqui abordado constitui qualquer tipo de indicação/oferta/solicitação de compra/venda de qualquer produto.\n",
    "---\n",
    "\n"
   ]
  },
  {
   "cell_type": "markdown",
   "id": "0d54c0ad-601e-4d23-969e-8b9e2dfe9ef8",
   "metadata": {
    "id": "0d54c0ad-601e-4d23-969e-8b9e2dfe9ef8"
   },
   "source": [
    "# **1. Bibliotecas utilizadas**"
   ]
  },
  {
   "cell_type": "code",
   "execution_count": null,
   "id": "df3f637d-ea40-49e6-adfa-d2a0402459a1",
   "metadata": {
    "colab": {
     "base_uri": "https://localhost:8080/"
    },
    "id": "df3f637d-ea40-49e6-adfa-d2a0402459a1",
    "outputId": "dfe4b072-4bb8-498d-f65b-b9f295c06761"
   },
   "outputs": [
    {
     "name": "stdout",
     "output_type": "stream",
     "text": [
      "Requirement already satisfied: pandas in /usr/local/lib/python3.7/dist-packages (1.3.5)\n",
      "Requirement already satisfied: numpy in /usr/local/lib/python3.7/dist-packages (1.19.5)\n",
      "Requirement already satisfied: pytz>=2017.3 in /usr/local/lib/python3.7/dist-packages (from pandas) (2018.9)\n",
      "Requirement already satisfied: python-dateutil>=2.7.3 in /usr/local/lib/python3.7/dist-packages (from pandas) (2.8.2)\n",
      "Requirement already satisfied: six>=1.5 in /usr/local/lib/python3.7/dist-packages (from python-dateutil>=2.7.3->pandas) (1.15.0)\n",
      "\u001b[31mERROR: Could not find a version that satisfies the requirement time (from versions: none)\u001b[0m\n",
      "\u001b[31mERROR: No matching distribution found for time\u001b[0m\n",
      "Requirement already satisfied: matplotlib in /usr/local/lib/python3.7/dist-packages (3.2.2)\n",
      "Requirement already satisfied: plotly in /usr/local/lib/python3.7/dist-packages (5.5.0)\n",
      "Requirement already satisfied: python-dateutil>=2.1 in /usr/local/lib/python3.7/dist-packages (from matplotlib) (2.8.2)\n",
      "Requirement already satisfied: pyparsing!=2.0.4,!=2.1.2,!=2.1.6,>=2.0.1 in /usr/local/lib/python3.7/dist-packages (from matplotlib) (3.0.7)\n",
      "Requirement already satisfied: numpy>=1.11 in /usr/local/lib/python3.7/dist-packages (from matplotlib) (1.19.5)\n",
      "Requirement already satisfied: cycler>=0.10 in /usr/local/lib/python3.7/dist-packages (from matplotlib) (0.11.0)\n",
      "Requirement already satisfied: kiwisolver>=1.0.1 in /usr/local/lib/python3.7/dist-packages (from matplotlib) (1.3.2)\n",
      "Requirement already satisfied: six>=1.5 in /usr/local/lib/python3.7/dist-packages (from python-dateutil>=2.1->matplotlib) (1.15.0)\n",
      "Requirement already satisfied: tenacity>=6.2.0 in /usr/local/lib/python3.7/dist-packages (from plotly) (8.0.1)\n",
      "Requirement already satisfied: yfinance in /usr/local/lib/python3.7/dist-packages (0.1.70)\n",
      "Requirement already satisfied: lxml>=4.5.1 in /usr/local/lib/python3.7/dist-packages (from yfinance) (4.7.1)\n",
      "Requirement already satisfied: requests>=2.26 in /usr/local/lib/python3.7/dist-packages (from yfinance) (2.27.1)\n",
      "Requirement already satisfied: multitasking>=0.0.7 in /usr/local/lib/python3.7/dist-packages (from yfinance) (0.0.10)\n",
      "Requirement already satisfied: pandas>=0.24.0 in /usr/local/lib/python3.7/dist-packages (from yfinance) (1.3.5)\n",
      "Requirement already satisfied: numpy>=1.15 in /usr/local/lib/python3.7/dist-packages (from yfinance) (1.19.5)\n",
      "Requirement already satisfied: pytz>=2017.3 in /usr/local/lib/python3.7/dist-packages (from pandas>=0.24.0->yfinance) (2018.9)\n",
      "Requirement already satisfied: python-dateutil>=2.7.3 in /usr/local/lib/python3.7/dist-packages (from pandas>=0.24.0->yfinance) (2.8.2)\n",
      "Requirement already satisfied: six>=1.5 in /usr/local/lib/python3.7/dist-packages (from python-dateutil>=2.7.3->pandas>=0.24.0->yfinance) (1.15.0)\n",
      "Requirement already satisfied: urllib3<1.27,>=1.21.1 in /usr/local/lib/python3.7/dist-packages (from requests>=2.26->yfinance) (1.26.8)\n",
      "Requirement already satisfied: certifi>=2017.4.17 in /usr/local/lib/python3.7/dist-packages (from requests>=2.26->yfinance) (2021.10.8)\n",
      "Requirement already satisfied: idna<4,>=2.5 in /usr/local/lib/python3.7/dist-packages (from requests>=2.26->yfinance) (2.10)\n",
      "Requirement already satisfied: charset-normalizer~=2.0.0 in /usr/local/lib/python3.7/dist-packages (from requests>=2.26->yfinance) (2.0.11)\n",
      "Requirement already satisfied: ta in /usr/local/lib/python3.7/dist-packages (0.9.0)\n",
      "Requirement already satisfied: numpy in /usr/local/lib/python3.7/dist-packages (from ta) (1.19.5)\n",
      "Requirement already satisfied: pandas in /usr/local/lib/python3.7/dist-packages (from ta) (1.3.5)\n",
      "Requirement already satisfied: pytz>=2017.3 in /usr/local/lib/python3.7/dist-packages (from pandas->ta) (2018.9)\n",
      "Requirement already satisfied: python-dateutil>=2.7.3 in /usr/local/lib/python3.7/dist-packages (from pandas->ta) (2.8.2)\n",
      "Requirement already satisfied: six>=1.5 in /usr/local/lib/python3.7/dist-packages (from python-dateutil>=2.7.3->pandas->ta) (1.15.0)\n"
     ]
    }
   ],
   "source": [
    "!pip install pandas numpy\n",
    "!pip install matplotlib plotly\n",
    "!pip install yfinance\n",
    "!pip install ta\n",
    "!pip install -q kora"
   ]
  },
  {
   "cell_type": "code",
   "execution_count": null,
   "id": "0b079cd9-b694-490e-a165-fde9d61c478c",
   "metadata": {
    "id": "0b079cd9-b694-490e-a165-fde9d61c478c",
    "tags": []
   },
   "outputs": [],
   "source": [
    "import pandas as pd\n",
    "import numpy as np\n",
    "from datetime import datetime\n",
    "import time\n",
    "from time import sleep\n",
    "import matplotlib.pyplot as plt\n",
    "import plotly.graph_objects as go\n",
    "from plotly.subplots import make_subplots\n",
    "import yfinance as yf\n",
    "import ta as ta\n",
    "from kora.selenium import wd\n",
    "from google.colab.data_table import DataTable\n",
    "\n",
    "%matplotlib inline"
   ]
  },
  {
   "cell_type": "markdown",
   "id": "f01c779b-9658-445e-bf07-dc78ba793400",
   "metadata": {
    "id": "f01c779b-9658-445e-bf07-dc78ba793400"
   },
   "source": [
    "# **2. Obtendo cotações ao vivo dos ativos**"
   ]
  },
  {
   "cell_type": "markdown",
   "id": "B7_SV7g5wSxO",
   "metadata": {
    "id": "B7_SV7g5wSxO"
   },
   "source": [
    "## 2.1 Lista de ativos do site B3 por WebScraping\n",
    "\n",
    "#### https://www.b3.com.br/pt_br/market-data-e-indices/indices/indices-amplos/indice-ibovespa-ibovespa-composicao-da-carteira.html\n",
    "#### https://www.b3.com.br/pt_br/market-data-e-indices/\n",
    "#### https://www.youtube.com/watch?v=b9bU_ryC5rc\n",
    "#### https://www.selenium.dev/downloads/\n",
    "#### https://github.com/korakot/kora\n",
    "#### https://www.youtube.com/watch?v=b9bU_ryC5rc"
   ]
  },
  {
   "cell_type": "code",
   "execution_count": null,
   "id": "gQt8F8SXwU2d",
   "metadata": {
    "id": "gQt8F8SXwU2d"
   },
   "outputs": [],
   "source": [
    "def composicao_carteira_B3(indice,espera=8):\n",
    "  url = f'https://sistemaswebb3-listados.b3.com.br/indexPage/day/{indice.upper()}?language=pt-br'\n",
    "  wd.get(url)\n",
    "  sleep(espera)\n",
    "\n",
    "  wd.find_element_by_id('segment').send_keys(\"Setor de Atuação\")\n",
    "  sleep(espera)\n",
    "\n",
    "  wd.find_element_by_link_text(\"Download\").click()\n",
    "  sleep(espera)\n",
    "\n",
    "  arquivos = !ls -1t *.csv\n",
    "  return pd.read_csv(arquivos[0],sep=';',encoding='ISO-8859-1',skipfooter=2,engine='python',thousands='.',decimal=',',header=1,index_col=False)"
   ]
  },
  {
   "cell_type": "code",
   "execution_count": null,
   "id": "S2J8p3GCwUtl",
   "metadata": {
    "id": "S2J8p3GCwUtl"
   },
   "outputs": [],
   "source": [
    "## Pode utilizar qualquer índice da B3 (IBrA, IBrX)\n",
    "ativos_ibov = composicao_carteira_B3('ibov')"
   ]
  },
  {
   "cell_type": "code",
   "execution_count": null,
   "id": "3636723c-7f3e-4105-b1e8-0da76cdd38a1",
   "metadata": {
    "id": "3636723c-7f3e-4105-b1e8-0da76cdd38a1"
   },
   "outputs": [],
   "source": [
    "ativos_ibov"
   ]
  },
  {
   "cell_type": "code",
   "execution_count": null,
   "id": "f3151f63-42b9-45c2-93d9-5df5cbab004d",
   "metadata": {
    "id": "f3151f63-42b9-45c2-93d9-5df5cbab004d"
   },
   "outputs": [],
   "source": [
    "tickers_ibov = ativos_ibov['Código']\n",
    "tickers_ibov"
   ]
  },
  {
   "cell_type": "code",
   "execution_count": null,
   "id": "1cb87dd7-721c-4da8-9f84-8f45b0a8665a",
   "metadata": {
    "id": "1cb87dd7-721c-4da8-9f84-8f45b0a8665a"
   },
   "outputs": [],
   "source": [
    "tickers_ibov_ls = list(tickers_ibov)\n",
    "tickers_ibov_ls.sort()\n",
    "tickers_ibov_ls"
   ]
  },
  {
   "cell_type": "code",
   "execution_count": null,
   "id": "68c07e55-ff9a-4bac-b558-2aed78240835",
   "metadata": {
    "id": "68c07e55-ff9a-4bac-b558-2aed78240835"
   },
   "outputs": [],
   "source": [
    "ativo_SA = 0\n",
    "tickers_ibov_ls_SA = []\n",
    "\n",
    "for i in tickers_ibov_ls:\n",
    "  ativo_SA = (i+'.SA')\n",
    "  tickers_ibov_ls_SA.append(ativo_SA)"
   ]
  },
  {
   "cell_type": "code",
   "execution_count": null,
   "id": "1ed87e86-782b-4d05-ad5f-e81975a4442d",
   "metadata": {
    "id": "1ed87e86-782b-4d05-ad5f-e81975a4442d"
   },
   "outputs": [],
   "source": [
    "## É interessante que a lista de ativos seja organizada de acordo com as próprias demandas\n",
    "ativo_SA\n",
    "tickers_ibov = tickers_ibov_ls_SA\n",
    "tickers_ibov"
   ]
  },
  {
   "cell_type": "markdown",
   "id": "88154ce2-303e-4102-a69e-ed56d7e3741a",
   "metadata": {
    "id": "88154ce2-303e-4102-a69e-ed56d7e3741a"
   },
   "source": [
    "## 2.2 Baixar as cotações até o momento atual"
   ]
  },
  {
   "cell_type": "code",
   "execution_count": null,
   "id": "69d576d6-b988-498d-95cb-cb1e1047fa6c",
   "metadata": {
    "colab": {
     "base_uri": "https://localhost:8080/",
     "height": 36
    },
    "id": "69d576d6-b988-498d-95cb-cb1e1047fa6c",
    "outputId": "9de91aaf-884e-4e12-9884-ef6d89992ba4"
   },
   "outputs": [
    {
     "data": {
      "application/vnd.google.colaboratory.intrinsic+json": {
       "type": "string"
      },
      "text/plain": [
       "'2022-02-04'"
      ]
     },
     "execution_count": 25,
     "metadata": {},
     "output_type": "execute_result"
    }
   ],
   "source": [
    "## Defino a data atual\n",
    "hoje = datetime.today()\n",
    "hoje = hoje.strftime('%Y-%m-%d')\n",
    "hoje"
   ]
  },
  {
   "cell_type": "code",
   "execution_count": null,
   "id": "da40efb5-edcc-4dff-9dd0-1c517d255b3f",
   "metadata": {
    "id": "da40efb5-edcc-4dff-9dd0-1c517d255b3f"
   },
   "outputs": [],
   "source": [
    "cotacoes_B3 = yf.download(tickers_ibov, start='2021-01-01', end=hoje, period = \"1d\")\n",
    "cotacoes_B3"
   ]
  },
  {
   "cell_type": "markdown",
   "id": "07af9af7-d137-491b-92b4-f136a5869ba1",
   "metadata": {
    "id": "07af9af7-d137-491b-92b4-f136a5869ba1"
   },
   "source": [
    "## Manipulando dataframes com NAs e NaN"
   ]
  },
  {
   "cell_type": "code",
   "execution_count": null,
   "id": "f1b4522e-49f0-49a1-a9cf-8f5000768f00",
   "metadata": {
    "id": "f1b4522e-49f0-49a1-a9cf-8f5000768f00"
   },
   "outputs": [],
   "source": [
    "## Nos próximos passos estão alguns tipos de manipulações de NA e NaN\n",
    "count_null = ativos_Adj_Close.isna().sum()\n",
    "count_null"
   ]
  },
  {
   "cell_type": "code",
   "execution_count": null,
   "id": "39f674b4-156c-4d19-b559-ff3afef9baa0",
   "metadata": {
    "id": "39f674b4-156c-4d19-b559-ff3afef9baa0"
   },
   "outputs": [],
   "source": [
    "np.median(count_null)\n",
    "plt.boxplot(count_null);"
   ]
  },
  {
   "cell_type": "code",
   "execution_count": null,
   "id": "60b7d968-0fd9-4a08-84b9-3296e51dc9c1",
   "metadata": {
    "id": "60b7d968-0fd9-4a08-84b9-3296e51dc9c1"
   },
   "outputs": [],
   "source": [
    "ativos_Adj_Close[(ativos_Adj_Close.isna().sum(1)/ativos_Adj_Close.shape[1])>0.9]"
   ]
  },
  {
   "cell_type": "code",
   "execution_count": null,
   "id": "2d3b8700-406b-4db6-a534-aa510d118c3a",
   "metadata": {
    "id": "2d3b8700-406b-4db6-a534-aa510d118c3a"
   },
   "outputs": [],
   "source": [
    "ativos_Adj_Close_filtered = ativos_Adj_Close.drop(ativos_Adj_Close.columns[ativos_Adj_Close.isna().sum()>(len(ativos_Adj_Close.columns)*0.005)],axis = 1)\n",
    "ativos_Adj_Close_filtered"
   ]
  },
  {
   "cell_type": "code",
   "execution_count": null,
   "id": "857cd233-2e05-420f-9c38-41d1ef6d4d80",
   "metadata": {
    "id": "857cd233-2e05-420f-9c38-41d1ef6d4d80"
   },
   "outputs": [],
   "source": [
    "count_null = ativos_Adj_Close_filtered.isna().sum()\n",
    "plt.boxplot(count_null);"
   ]
  },
  {
   "cell_type": "code",
   "execution_count": null,
   "id": "5f057930-cb67-4a4f-bbf2-4da7022ce534",
   "metadata": {
    "id": "5f057930-cb67-4a4f-bbf2-4da7022ce534"
   },
   "outputs": [],
   "source": [
    "ativos_Adj_Close_filtered[(ativos_Adj_Close_filtered.isna().sum(1))>1]"
   ]
  },
  {
   "cell_type": "code",
   "execution_count": null,
   "id": "d9556d2f-bc7d-4372-bb5f-4ac0e9a37af0",
   "metadata": {
    "id": "d9556d2f-bc7d-4372-bb5f-4ac0e9a37af0"
   },
   "outputs": [],
   "source": [
    "ativos_Adj_Close_filtered.dropna(subset = [\"AALR3.SA\"], inplace=True)"
   ]
  },
  {
   "cell_type": "code",
   "execution_count": null,
   "id": "3f4aa7c4-9801-437a-9885-30cf88cc7194",
   "metadata": {
    "id": "3f4aa7c4-9801-437a-9885-30cf88cc7194"
   },
   "outputs": [],
   "source": [
    "ativos_Adj_Close_filtered"
   ]
  },
  {
   "cell_type": "markdown",
   "id": "cc6e5d99-be98-4d0d-9b29-3778aad04815",
   "metadata": {
    "id": "cc6e5d99-be98-4d0d-9b29-3778aad04815"
   },
   "source": [
    "## Simplificar o número de colunas - \"Wide to Long\" "
   ]
  },
  {
   "cell_type": "code",
   "execution_count": null,
   "id": "0a2fbad1-67dc-4915-9d77-557c12f96247",
   "metadata": {
    "id": "0a2fbad1-67dc-4915-9d77-557c12f96247"
   },
   "outputs": [],
   "source": [
    "ativos_close = ativos_Adj_Close_filtered\n",
    "ativos_close"
   ]
  },
  {
   "cell_type": "code",
   "execution_count": null,
   "id": "633117f6-a2c7-4cd9-bd45-87a29bb30335",
   "metadata": {
    "id": "633117f6-a2c7-4cd9-bd45-87a29bb30335"
   },
   "outputs": [],
   "source": [
    "ativos_close['Data'] = ativos_close.index"
   ]
  },
  {
   "cell_type": "code",
   "execution_count": null,
   "id": "e7ef07a7-138a-4924-aca9-240f9ae561ce",
   "metadata": {
    "id": "e7ef07a7-138a-4924-aca9-240f9ae561ce"
   },
   "outputs": [],
   "source": [
    "ativos_close = pd.melt(ativos_close,id_vars=['Data'],var_name='Ativos', value_name='Adj_Close')\n",
    "ativos_close"
   ]
  },
  {
   "cell_type": "markdown",
   "id": "ced27a92-f869-4d28-b1ec-6074e6a0af0c",
   "metadata": {
    "id": "ced27a92-f869-4d28-b1ec-6074e6a0af0c"
   },
   "source": [
    "# Cálculo Indicadores"
   ]
  },
  {
   "cell_type": "code",
   "execution_count": null,
   "id": "9ee18f62-c863-4788-a113-02b09b514363",
   "metadata": {
    "id": "9ee18f62-c863-4788-a113-02b09b514363"
   },
   "outputs": [],
   "source": [
    "ativos_close2 = ativos_close"
   ]
  },
  {
   "cell_type": "code",
   "execution_count": null,
   "id": "e83cd81f-2ebd-4161-980a-8f17171283c7",
   "metadata": {
    "id": "e83cd81f-2ebd-4161-980a-8f17171283c7"
   },
   "outputs": [],
   "source": [
    "sma_short = ta.trend.SMAIndicator(ativos_close2['Adj_Close'], window=8)\n",
    "sma_medium = ta.trend.SMAIndicator(ativos_close2['Adj_Close'], window=20)\n",
    "sma_long = ta.trend.SMAIndicator(ativos_close2['Adj_Close'], window=200)"
   ]
  },
  {
   "cell_type": "code",
   "execution_count": null,
   "id": "722dd297-0d70-42d5-b224-7f0ddfb03f0a",
   "metadata": {
    "id": "722dd297-0d70-42d5-b224-7f0ddfb03f0a"
   },
   "outputs": [],
   "source": [
    "ativos_close2['SMA_SHORT'] = sma_short.sma_indicator()\n",
    "ativos_close2['SMA_MEDIUM'] = sma_medium.sma_indicator()\n",
    "ativos_close2['SMA_LONG'] = sma_long.sma_indicator()"
   ]
  },
  {
   "cell_type": "code",
   "execution_count": null,
   "id": "7b4704b9-7c31-41aa-8f56-5094ddea52a6",
   "metadata": {
    "id": "7b4704b9-7c31-41aa-8f56-5094ddea52a6"
   },
   "outputs": [],
   "source": [
    "ativos_close2.head(50)"
   ]
  },
  {
   "cell_type": "code",
   "execution_count": null,
   "id": "603d1356-67ab-41b6-9c91-e0db5c2a3428",
   "metadata": {
    "id": "603d1356-67ab-41b6-9c91-e0db5c2a3428"
   },
   "outputs": [],
   "source": [
    "rsi_14 = ta.momentum.RSIIndicator(close=ativos_close2['Adj_Close'], window=14)\n",
    "ativos_close2['RSI_14'] = rsi_14.rsi()"
   ]
  },
  {
   "cell_type": "code",
   "execution_count": null,
   "id": "5cbef68b-da2f-48e8-b522-9fd436b29b59",
   "metadata": {
    "id": "5cbef68b-da2f-48e8-b522-9fd436b29b59"
   },
   "outputs": [],
   "source": [
    "ativos_close2.head()"
   ]
  },
  {
   "cell_type": "code",
   "execution_count": null,
   "id": "8dcc71b6-6dad-4611-aaa4-bc5b19bfb11b",
   "metadata": {
    "id": "8dcc71b6-6dad-4611-aaa4-bc5b19bfb11b"
   },
   "outputs": [],
   "source": [
    "import numpy as np\n",
    "ts = pd.DataFrame()\n",
    "ativos_close2['entrada'] = np.where(ativos_close2['Adj_Close']>ativos_close2['SMA_SHORT'],1,0)\n",
    "ativos_close2"
   ]
  },
  {
   "cell_type": "code",
   "execution_count": null,
   "id": "e6d4e2b1-5252-4939-a6d0-aac12157b7be",
   "metadata": {
    "id": "e6d4e2b1-5252-4939-a6d0-aac12157b7be"
   },
   "outputs": [],
   "source": [
    "ativos_close2"
   ]
  },
  {
   "cell_type": "code",
   "execution_count": null,
   "id": "0abfcf5f-c72f-4bc4-96af-8c6ea08160be",
   "metadata": {
    "id": "0abfcf5f-c72f-4bc4-96af-8c6ea08160be"
   },
   "outputs": [],
   "source": [
    "df.loc[df.index > pd.to_datetime(order['transactionTime'], unit='ms')]"
   ]
  },
  {
   "cell_type": "code",
   "execution_count": null,
   "id": "5f4f86e4-c918-45e3-af9c-b2ade9edf23e",
   "metadata": {
    "id": "5f4f86e4-c918-45e3-af9c-b2ade9edf23e"
   },
   "outputs": [],
   "source": []
  },
  {
   "cell_type": "markdown",
   "id": "537f1ba0-27a9-46b0-b556-c1656b8f30a8",
   "metadata": {
    "id": "537f1ba0-27a9-46b0-b556-c1656b8f30a8"
   },
   "source": [
    "# Screening Ativos"
   ]
  },
  {
   "cell_type": "code",
   "execution_count": null,
   "id": "6cf48a25-76a7-4e7f-b080-c1989fad59d0",
   "metadata": {
    "id": "6cf48a25-76a7-4e7f-b080-c1989fad59d0"
   },
   "outputs": [],
   "source": [
    "ativos_close2"
   ]
  },
  {
   "cell_type": "code",
   "execution_count": null,
   "id": "4bdcc88a-9032-4929-89f4-952894d18e0e",
   "metadata": {
    "id": "4bdcc88a-9032-4929-89f4-952894d18e0e"
   },
   "outputs": [],
   "source": [
    "ativos_close_ontem = ativos_close2['Data'] == '2022-01-24'\n",
    "ativos_close_ontem"
   ]
  },
  {
   "cell_type": "code",
   "execution_count": null,
   "id": "21554845-689e-4c45-bb70-8f4534a2360d",
   "metadata": {
    "id": "21554845-689e-4c45-bb70-8f4534a2360d"
   },
   "outputs": [],
   "source": [
    "ativos_close_ontem2 = ativos_close2[ativos_close_ontem]\n",
    "ativos_close_ontem2"
   ]
  },
  {
   "cell_type": "code",
   "execution_count": null,
   "id": "ba207b25-a3cd-4fb0-ace0-6e27d94ef712",
   "metadata": {
    "id": "ba207b25-a3cd-4fb0-ace0-6e27d94ef712"
   },
   "outputs": [],
   "source": [
    "ativos_close_ontem2['MM_alinhadas']=ativos_close_ontem2['Adj_Close']>ativos_close_ontem2[\"SMA_SHORT\"]"
   ]
  },
  {
   "cell_type": "code",
   "execution_count": null,
   "id": "63903101-a0d1-4781-96b6-c8f419ed2790",
   "metadata": {
    "id": "63903101-a0d1-4781-96b6-c8f419ed2790"
   },
   "outputs": [],
   "source": [
    "len(ativos_close_ontem2['Adj_Close'])"
   ]
  },
  {
   "cell_type": "code",
   "execution_count": null,
   "id": "b252e450-efc8-46a7-b754-9a54e6d9ba06",
   "metadata": {
    "id": "b252e450-efc8-46a7-b754-9a54e6d9ba06"
   },
   "outputs": [],
   "source": [
    "datas_uteis = ['2022-01-21','2022-01-24']"
   ]
  },
  {
   "cell_type": "code",
   "execution_count": null,
   "id": "8decf107-ea70-4994-a248-afac6c3477e2",
   "metadata": {
    "id": "8decf107-ea70-4994-a248-afac6c3477e2"
   },
   "outputs": [],
   "source": [
    "ativos_close_ult_2 = ativos_close2.loc[ativos_close2['Data'].isin(datas_uteis)]\n",
    "ativos_close_ult_2"
   ]
  },
  {
   "cell_type": "code",
   "execution_count": null,
   "id": "34c1eb9a-2daf-4c68-9089-2780e31503dd",
   "metadata": {
    "id": "34c1eb9a-2daf-4c68-9089-2780e31503dd"
   },
   "outputs": [],
   "source": [
    "for i in range(0:1000):\n",
    "    \n",
    "    print(i)"
   ]
  },
  {
   "cell_type": "code",
   "execution_count": null,
   "id": "579abff1-973b-46aa-9139-083170e91fe3",
   "metadata": {
    "id": "579abff1-973b-46aa-9139-083170e91fe3"
   },
   "outputs": [],
   "source": [
    "if ativos_close_ontem2['Adj_Close'] > ativos_close_ontem2['SMA_SHORT']:\n",
    "    if ativos_close_ontem2['Adj_Close'] > ativos_close_ontem2['SMA_MEDIUM']:\n",
    "        if ativos_close_ontem2['Adj_Close'] > ativos_close_ontem2['SMA_MEDIUM']:\n",
    "            print(ativos_close_ontem2['Ativos'])\n",
    "        else:\n",
    "    else:\n",
    "else:\n",
    "    print(\"FALSE\")"
   ]
  },
  {
   "cell_type": "code",
   "execution_count": null,
   "id": "c8399052-413b-4cb2-b096-226bf23bc1a7",
   "metadata": {
    "id": "c8399052-413b-4cb2-b096-226bf23bc1a7"
   },
   "outputs": [],
   "source": [
    "datas_uteis = ['2022-01-21','2022-01-24']"
   ]
  },
  {
   "cell_type": "code",
   "execution_count": null,
   "id": "c3ea9dc6-7e0c-411d-9989-ebbaaf62d024",
   "metadata": {
    "id": "c3ea9dc6-7e0c-411d-9989-ebbaaf62d024"
   },
   "outputs": [],
   "source": [
    "xxx = ativos_close.loc[ativos_close['Data'].isin(datas_uteis)]\n",
    "xxx"
   ]
  },
  {
   "cell_type": "code",
   "execution_count": null,
   "id": "a1de035d-2abc-42eb-813f-c986925f75b1",
   "metadata": {
    "id": "a1de035d-2abc-42eb-813f-c986925f75b1"
   },
   "outputs": [],
   "source": [
    "ativos_close_ontem2 = ativos_close[ativos_close_ontem]\n",
    "ativos_close_ontem2"
   ]
  },
  {
   "cell_type": "code",
   "execution_count": null,
   "id": "d29abb4b-8d37-4e03-bcaf-fa78f7b2c8d6",
   "metadata": {
    "id": "d29abb4b-8d37-4e03-bcaf-fa78f7b2c8d6"
   },
   "outputs": [],
   "source": []
  },
  {
   "cell_type": "markdown",
   "id": "e4677a47-bfdf-4148-bcdc-ee6b18a0ece1",
   "metadata": {
    "id": "e4677a47-bfdf-4148-bcdc-ee6b18a0ece1"
   },
   "source": []
  },
  {
   "cell_type": "code",
   "execution_count": null,
   "id": "3bbdfc12-afbf-4ad3-9239-780067ce1e94",
   "metadata": {
    "id": "3bbdfc12-afbf-4ad3-9239-780067ce1e94"
   },
   "outputs": [],
   "source": []
  },
  {
   "cell_type": "code",
   "execution_count": null,
   "id": "8c0e0880-6596-433d-8997-efa0645400de",
   "metadata": {
    "id": "8c0e0880-6596-433d-8997-efa0645400de"
   },
   "outputs": [],
   "source": []
  },
  {
   "cell_type": "code",
   "execution_count": null,
   "id": "0f7137b2-87cf-4885-98ed-8ac970aa057c",
   "metadata": {
    "id": "0f7137b2-87cf-4885-98ed-8ac970aa057c"
   },
   "outputs": [],
   "source": []
  },
  {
   "cell_type": "code",
   "execution_count": null,
   "id": "daf3f2f3-b7f4-4f9c-907a-5c7dbcb2df2e",
   "metadata": {
    "id": "daf3f2f3-b7f4-4f9c-907a-5c7dbcb2df2e"
   },
   "outputs": [],
   "source": []
  },
  {
   "cell_type": "code",
   "execution_count": null,
   "id": "f2c580c4-9c5d-4192-8a6c-39c778747f4c",
   "metadata": {
    "id": "f2c580c4-9c5d-4192-8a6c-39c778747f4c"
   },
   "outputs": [],
   "source": []
  }
 ],
 "metadata": {
  "colab": {
   "include_colab_link": true,
   "name": "001up_20220402_Screening.ipynb",
   "provenance": []
  },
  "kernelspec": {
   "display_name": "Python 3 (ipykernel)",
   "language": "python",
   "name": "python3"
  },
  "language_info": {
   "codemirror_mode": {
    "name": "ipython",
    "version": 3
   },
   "file_extension": ".py",
   "mimetype": "text/x-python",
   "name": "python",
   "nbconvert_exporter": "python",
   "pygments_lexer": "ipython3",
   "version": "3.9.7"
  },
  "toc-autonumbering": true,
  "toc-showmarkdowntxt": false
 },
 "nbformat": 4,
 "nbformat_minor": 5
}
